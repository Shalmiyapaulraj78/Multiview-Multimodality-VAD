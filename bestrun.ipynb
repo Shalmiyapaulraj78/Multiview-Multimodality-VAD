{
 "cells": [
  {
   "cell_type": "code",
   "execution_count": 4,
   "metadata": {},
   "outputs": [],
   "source": [
    "from torch.utils.data import DataLoader\n",
    "import torch.optim as optim\n",
    "import torch\n",
    "from tqdm import tqdm\n"
   ]
  },
  {
   "cell_type": "code",
   "execution_count": 5,
   "metadata": {},
   "outputs": [],
   "source": [
    "import visdom\n",
    "import numpy as np\n",
    "import torch\n",
    "\n",
    "class Visualizer(object):\n",
    "    def __init__(self, env='default', **kwargs):\n",
    "        self.vis = visdom.Visdom(env=env, **kwargs)\n",
    "        self.index = {}\n",
    "\n",
    "    def plot_lines(self, name, y, **kwargs):\n",
    "        '''\n",
    "        self.plot('loss', 1.00)\n",
    "        '''\n",
    "        x = self.index.get(name, 0)\n",
    "        self.vis.line(Y=np.array([y]), X=np.array([x]),\n",
    "                      win=str(name),\n",
    "                      opts=dict(title=name),\n",
    "                      update=None if x == 0 else 'append',\n",
    "                      **kwargs\n",
    "                      )\n",
    "        self.index[name] = x + 1\n",
    "    def disp_image(self, name, img):\n",
    "        self.vis.image(img=img, win=name, opts=dict(title=name))\n",
    "    def lines(self, name, line, X=None):\n",
    "        if X is None:\n",
    "            self.vis.line(Y=line, win=name)\n",
    "        else:\n",
    "            self.vis.line(X=X, Y=line, win=name)\n",
    "    def scatter(self, name, data):\n",
    "        self.vis.scatter(X=data, win=name)\n",
    "\n",
    "def process_feat(feat, length):\n",
    "    new_feat = np.zeros((length, feat.shape[1])).astype(np.float32)\n",
    "    \n",
    "    r = np.linspace(0, len(feat), length+1, dtype=int)\n",
    "    for i in range(length):\n",
    "        if r[i]!=r[i+1]:\n",
    "            new_feat[i,:] = np.mean(feat[r[i]:r[i+1],:], 0)\n",
    "        else:\n",
    "            new_feat[i,:] = feat[r[i],:]\n",
    "    return new_feat\n",
    "\n",
    "\n",
    "def minmax_norm(act_map, min_val=None, max_val=None):\n",
    "    if min_val is None or max_val is None:\n",
    "        relu = torch.nn.ReLU()\n",
    "        max_val = relu(torch.max(act_map, dim=0)[0])\n",
    "        min_val = relu(torch.min(act_map, dim=0)[0])\n",
    "\n",
    "    delta = max_val - min_val\n",
    "    delta[delta <= 0] = 1\n",
    "    ret = (act_map - min_val) / delta\n",
    "\n",
    "    ret[ret > 1] = 1\n",
    "    ret[ret < 0] = 0\n",
    "\n",
    "    return ret\n",
    "\n",
    "\n",
    "def modelsize(model, input, type_size=4):\n",
    "    # check GPU utilisation\n",
    "    para = sum([np.prod(list(p.size())) for p in model.parameters()])\n",
    "    print('Model {} : params: {:4f}M'.format(model._get_name(), para * type_size / 1000 / 1000))\n",
    "\n",
    "    input_ = input.clone()\n",
    "    input_.requires_grad_(requires_grad=False)\n",
    "\n",
    "    mods = list(model.modules())\n",
    "    out_sizes = []\n",
    "\n",
    "    for i in range(1, len(mods)):\n",
    "        m = mods[i]\n",
    "        if isinstance(m, nn.ReLU):\n",
    "            if m.inplace:\n",
    "                continue\n",
    "        out = m(input_)\n",
    "        out_sizes.append(np.array(out.size()))\n",
    "        input_ = out\n",
    "\n",
    "    total_nums = 0\n",
    "    for i in range(len(out_sizes)):\n",
    "        s = out_sizes[i]\n",
    "        nums = np.prod(np.array(s))\n",
    "        total_nums += nums\n",
    "\n",
    "\n",
    "    print('Model {} : intermedite variables: {:3f} M (without backward)'\n",
    "          .format(model._get_name(), total_nums * type_size / 1000 / 1000))\n",
    "    print('Model {} : intermedite variables: {:3f} M (with backward)'\n",
    "          .format(model._get_name(), total_nums * type_size*2 / 1000 / 1000))\n",
    "\n",
    "\n",
    "def save_best_record(test_info, file_path):\n",
    "    fo = open(file_path, \"w\")\n",
    "    fo.write(\"epoch: {}\\n\".format(test_info[\"epoch\"][-1]))\n",
    "    fo.write(str(test_info[\"test_AUC\"][-1]))\n",
    "    fo.close()"
   ]
  },
  {
   "cell_type": "code",
   "execution_count": 6,
   "metadata": {},
   "outputs": [
    {
     "name": "stderr",
     "output_type": "stream",
     "text": [
      "Setting up a new session...\n",
      "Without the incoming socket you cannot receive events from the server or register event handlers to your Visdom client.\n"
     ]
    }
   ],
   "source": [
    "\n",
    "viz = Visualizer(env='myenv', use_incoming_socket=False)"
   ]
  },
  {
   "cell_type": "code",
   "execution_count": 7,
   "metadata": {},
   "outputs": [],
   "source": [
    "feat_extractor='i3d'\n",
    "feature_size=1024\n",
    "modality='RGB'\n",
    "gt=r'C:\\Users\\pradh\\Downloads\\XDVioDet-master\\XDVioDet-master\\list\\gt.npy'\n",
    "gpus=1\n",
    "lr='[0.001]*15000'\n",
    "batch_size=32\n",
    "workers=4\n",
    "model_name='rtfm'\n",
    "pretrained_ckpt=None\n",
    "num_classes=1\n",
    "dataset='xdv'\n",
    "plot_freq=10\n",
    "max_epoch=250\n"
   ]
  },
  {
   "cell_type": "code",
   "execution_count": 8,
   "metadata": {},
   "outputs": [
    {
     "name": "stderr",
     "output_type": "stream",
     "text": [
      "c:\\Users\\pradh\\anaconda3\\envs\\myenv\\Lib\\site-packages\\torch\\__init__.py:614: UserWarning: torch.set_default_tensor_type() is deprecated as of PyTorch 2.1, please use torch.set_default_dtype() and torch.set_default_device() as alternatives. (Triggered internally at C:\\cb\\pytorch_1000000000000\\work\\torch\\csrc\\tensor\\python_tensor.cpp:453.)\n",
      "  _C._set_default_tensor_type(t)\n"
     ]
    }
   ],
   "source": [
    "import torch.utils.data as data\n",
    "import numpy as np\n",
    "import torch\n",
    "from torch.utils.data import DataLoader\n",
    "torch.set_default_tensor_type('torch.FloatTensor')\n",
    "\n",
    "\n",
    "class Dataset(data.Dataset):\n",
    "    def __init__(self, is_normal, transform=None, test_mode=False):\n",
    "        self.modality='RGB'\n",
    "        self.is_normal = is_normal\n",
    "        self.dataset = dataset\n",
    "        if test_mode:\n",
    "            self.rgb_list_file = r'C:\\Users\\pradh\\Downloads\\XDVioDet-master\\XDVioDet-master\\list\\tratestlst.list'\n",
    "        else:\n",
    "            self.rgb_list_file = r'C:\\Users\\pradh\\Downloads\\XDVioDet-master\\XDVioDet-master\\list\\tratrainlst.list'\n",
    "        self.tranform = transform\n",
    "        self.test_mode = test_mode\n",
    "        self._parse_list()\n",
    "        self.num_frame = 0\n",
    "        self.labels = None\n",
    "        \n",
    "\n",
    "\n",
    "    def _parse_list(self):\n",
    "        self.list = list(open(self.rgb_list_file))\n",
    "        if self.test_mode is False:\n",
    "            if self.is_normal:\n",
    "                self.list = self.list[1987:]\n",
    "                print('normal list for ucf')\n",
    "                print(self.list)\n",
    "            else:\n",
    "                self.list = self.list[:1987]\n",
    "                print('abnormal list for ucf')\n",
    "                print(self.list)\n",
    "        \n",
    "\n",
    "    def __getitem__(self, index):\n",
    "\n",
    "        label = self.get_label()  # get video level label 0/1\n",
    "        features = np.load(self.list[index].strip('\\n'), allow_pickle=True)\n",
    "        features = np.array(features, dtype=np.float32)\n",
    "\n",
    "        if self.tranform is not None:\n",
    "            features = self.tranform(features)\n",
    "        if self.test_mode:\n",
    "            return features\n",
    "        else:\n",
    "            # process 10-cropped snippet feature\n",
    "            features = features.transpose(1, 0, 2)  # [10, B, T, F]\n",
    "            divided_features = []\n",
    "            for feature in features:\n",
    "                feature = process_feat(feature, 32)  # divide a video into 32 segments\n",
    "                divided_features.append(feature)\n",
    "            divided_features = np.array(divided_features, dtype=np.float32)\n",
    "\n",
    "            return divided_features, label\n",
    "\n",
    "    def get_label(self):\n",
    "\n",
    "        if self.is_normal:\n",
    "            label = torch.tensor(0.0)\n",
    "        else:\n",
    "            label = torch.tensor(1.0)\n",
    "\n",
    "        return label\n",
    "\n",
    "    def __len__(self):\n",
    "        return len(self.list)\n",
    "    \n",
    "    def leng(self):\n",
    "        return len(self.list)\n",
    "\n",
    "    def get_num_frames(self):\n",
    "        return self.num_frame"
   ]
  },
  {
   "cell_type": "code",
   "execution_count": 9,
   "metadata": {},
   "outputs": [
    {
     "name": "stdout",
     "output_type": "stream",
     "text": [
      "normal list for ucf\n",
      "['C:\\\\Users\\\\pradh\\\\Downloads\\\\XDVioDet-master\\\\XDVioDet-master\\\\tratrain\\\\Be.with.You.2018__#01-29-31_01-31-00_label_A.npy\\n', 'C:\\\\Users\\\\pradh\\\\Downloads\\\\XDVioDet-master\\\\XDVioDet-master\\\\tratrain\\\\Be.with.You.2018__#01-33-18_01-36-11_label_A.npy\\n', 'C:\\\\Users\\\\pradh\\\\Downloads\\\\XDVioDet-master\\\\XDVioDet-master\\\\tratrain\\\\Be.with.You.2018__#01-39-05_01-41-00_label_A.npy\\n', 'C:\\\\Users\\\\pradh\\\\Downloads\\\\XDVioDet-master\\\\XDVioDet-master\\\\tratrain\\\\Be.with.You.2018__#01-50-50_01-52-00_label_A.npy\\n', 'C:\\\\Users\\\\pradh\\\\Downloads\\\\XDVioDet-master\\\\XDVioDet-master\\\\tratrain\\\\Be.with.You.2018__#01-52-20_01-58-00_label_A.npy\\n', 'C:\\\\Users\\\\pradh\\\\Downloads\\\\XDVioDet-master\\\\XDVioDet-master\\\\tratrain\\\\Be.with.You.2018__#01-58-20_02-01-10_label_A.npy\\n', 'C:\\\\Users\\\\pradh\\\\Downloads\\\\XDVioDet-master\\\\XDVioDet-master\\\\tratrain\\\\Before.Sunrise.1995__#00-01-45_00-02-50_label_A.npy\\n', 'C:\\\\Users\\\\pradh\\\\Downloads\\\\XDVioDet-master\\\\XDVioDet-master\\\\tratrain\\\\Before.Sunrise.1995__#00-05-52_00-08-22_label_A.npy\\n', 'C:\\\\Users\\\\pradh\\\\Downloads\\\\XDVioDet-master\\\\XDVioDet-master\\\\tratrain\\\\Before.Sunrise.1995__#00-08-55_00-10-50_label_A.npy\\n', 'C:\\\\Users\\\\pradh\\\\Downloads\\\\XDVioDet-master\\\\XDVioDet-master\\\\tratrain\\\\Before.Sunrise.1995__#00-11-00_00-15-08_label_A.npy\\n', 'C:\\\\Users\\\\pradh\\\\Downloads\\\\XDVioDet-master\\\\XDVioDet-master\\\\tratrain\\\\Before.Sunrise.1995__#00-16-18_00-18-09_label_A.npy\\n', 'C:\\\\Users\\\\pradh\\\\Downloads\\\\XDVioDet-master\\\\XDVioDet-master\\\\tratrain\\\\Before.Sunrise.1995__#00-20-35_00-23-06_label_A.npy\\n', 'C:\\\\Users\\\\pradh\\\\Downloads\\\\XDVioDet-master\\\\XDVioDet-master\\\\tratrain\\\\Before.Sunrise.1995__#00-25-20_00-29-20_label_A.npy\\n', 'C:\\\\Users\\\\pradh\\\\Downloads\\\\XDVioDet-master\\\\XDVioDet-master\\\\tratrain\\\\Before.Sunrise.1995__#00-31-05_00-32-05_label_A.npy\\n', 'C:\\\\Users\\\\pradh\\\\Downloads\\\\XDVioDet-master\\\\XDVioDet-master\\\\tratrain\\\\Before.Sunrise.1995__#00-32-07_00-36-45_label_A.npy\\n', 'C:\\\\Users\\\\pradh\\\\Downloads\\\\XDVioDet-master\\\\XDVioDet-master\\\\tratrain\\\\Before.Sunrise.1995__#00-37-40_00-40-31_label_A.npy\\n', 'C:\\\\Users\\\\pradh\\\\Downloads\\\\XDVioDet-master\\\\XDVioDet-master\\\\tratrain\\\\Before.Sunrise.1995__#00-45-40_00-47-30_label_A.npy\\n', 'C:\\\\Users\\\\pradh\\\\Downloads\\\\XDVioDet-master\\\\XDVioDet-master\\\\tratrain\\\\Before.Sunrise.1995__#00-50-26_00-55-16_label_A.npy\\n', 'C:\\\\Users\\\\pradh\\\\Downloads\\\\XDVioDet-master\\\\XDVioDet-master\\\\tratrain\\\\Before.Sunrise.1995__#00-57-20_00-58-17_label_A.npy\\n', 'C:\\\\Users\\\\pradh\\\\Downloads\\\\XDVioDet-master\\\\XDVioDet-master\\\\tratrain\\\\Before.Sunrise.1995__#00-58-18_01-02-30_label_A.npy\\n', 'C:\\\\Users\\\\pradh\\\\Downloads\\\\XDVioDet-master\\\\XDVioDet-master\\\\tratrain\\\\Before.Sunrise.1995__#01-14-30_01-16-59_label_A.npy\\n', 'C:\\\\Users\\\\pradh\\\\Downloads\\\\XDVioDet-master\\\\XDVioDet-master\\\\tratrain\\\\Before.Sunrise.1995__#01-21-22_01-25-40_label_A.npy\\n', 'C:\\\\Users\\\\pradh\\\\Downloads\\\\XDVioDet-master\\\\XDVioDet-master\\\\tratrain\\\\Before.Sunrise.1995__#01-28-31_01-31-00_label_A.npy\\n', 'C:\\\\Users\\\\pradh\\\\Downloads\\\\XDVioDet-master\\\\XDVioDet-master\\\\tratrain\\\\Before.Sunrise.1995__#01-31-18_01-36-11_label_A.npy\\n', 'C:\\\\Users\\\\pradh\\\\Downloads\\\\XDVioDet-master\\\\XDVioDet-master\\\\tratrain\\\\Before.Sunset.2004__#00-01-45_00-02-50_label_A.npy\\n', 'C:\\\\Users\\\\pradh\\\\Downloads\\\\XDVioDet-master\\\\XDVioDet-master\\\\tratrain\\\\Before.Sunset.2004__#00-03-00_00-04-05_label_A.npy\\n', 'C:\\\\Users\\\\pradh\\\\Downloads\\\\XDVioDet-master\\\\XDVioDet-master\\\\tratrain\\\\Before.Sunset.2004__#00-04-20_00-05-35_label_A.npy\\n', 'C:\\\\Users\\\\pradh\\\\Downloads\\\\XDVioDet-master\\\\XDVioDet-master\\\\tratrain\\\\Before.Sunset.2004__#00-05-52_00-08-22_label_A.npy\\n', 'C:\\\\Users\\\\pradh\\\\Downloads\\\\XDVioDet-master\\\\XDVioDet-master\\\\tratrain\\\\Before.Sunset.2004__#00-08-55_00-10-50_label_A.npy\\n', 'C:\\\\Users\\\\pradh\\\\Downloads\\\\XDVioDet-master\\\\XDVioDet-master\\\\tratrain\\\\Before.Sunset.2004__#00-11-00_00-15-08_label_A.npy\\n', 'C:\\\\Users\\\\pradh\\\\Downloads\\\\XDVioDet-master\\\\XDVioDet-master\\\\tratrain\\\\Before.Sunset.2004__#00-16-18_00-18-09_label_A.npy\\n', 'C:\\\\Users\\\\pradh\\\\Downloads\\\\XDVioDet-master\\\\XDVioDet-master\\\\tratrain\\\\Before.Sunset.2004__#00-18-18_00-20-09_label_A.npy\\n', 'C:\\\\Users\\\\pradh\\\\Downloads\\\\XDVioDet-master\\\\XDVioDet-master\\\\tratrain\\\\Before.Sunset.2004__#00-20-35_00-23-06_label_A.npy\\n', 'C:\\\\Users\\\\pradh\\\\Downloads\\\\XDVioDet-master\\\\XDVioDet-master\\\\tratrain\\\\Before.Sunset.2004__#00-25-20_00-29-20_label_A.npy\\n', 'C:\\\\Users\\\\pradh\\\\Downloads\\\\XDVioDet-master\\\\XDVioDet-master\\\\tratrain\\\\Before.Sunset.2004__#00-31-05_00-32-05_label_A.npy\\n', 'C:\\\\Users\\\\pradh\\\\Downloads\\\\XDVioDet-master\\\\XDVioDet-master\\\\tratrain\\\\Before.Sunset.2004__#00-32-07_00-36-45_label_A.npy\\n', 'C:\\\\Users\\\\pradh\\\\Downloads\\\\XDVioDet-master\\\\XDVioDet-master\\\\tratrain\\\\Before.Sunset.2004__#00-37-40_00-40-31_label_A.npy\\n', 'C:\\\\Users\\\\pradh\\\\Downloads\\\\XDVioDet-master\\\\XDVioDet-master\\\\tratrain\\\\Before.Sunset.2004__#00-40-52_00-42-01_label_A.npy\\n', 'C:\\\\Users\\\\pradh\\\\Downloads\\\\XDVioDet-master\\\\XDVioDet-master\\\\tratrain\\\\Before.Sunset.2004__#00-42-52_00-45-31_label_A.npy\\n', 'C:\\\\Users\\\\pradh\\\\Downloads\\\\XDVioDet-master\\\\XDVioDet-master\\\\tratrain\\\\Before.Sunset.2004__#00-45-40_00-47-30_label_A.npy\\n', 'C:\\\\Users\\\\pradh\\\\Downloads\\\\XDVioDet-master\\\\XDVioDet-master\\\\tratrain\\\\Before.Sunset.2004__#00-47-55_00-49-50_label_A.npy\\n', 'C:\\\\Users\\\\pradh\\\\Downloads\\\\XDVioDet-master\\\\XDVioDet-master\\\\tratrain\\\\Before.Sunset.2004__#00-50-26_00-55-16_label_A.npy\\n', 'C:\\\\Users\\\\pradh\\\\Downloads\\\\XDVioDet-master\\\\XDVioDet-master\\\\tratrain\\\\Before.Sunset.2004__#00-55-26_00-57-16_label_A.npy\\n', 'C:\\\\Users\\\\pradh\\\\Downloads\\\\XDVioDet-master\\\\XDVioDet-master\\\\tratrain\\\\Before.Sunset.2004__#00-57-20_00-58-17_label_A.npy\\n', 'C:\\\\Users\\\\pradh\\\\Downloads\\\\XDVioDet-master\\\\XDVioDet-master\\\\tratrain\\\\Before.Sunset.2004__#00-58-18_01-02-30_label_A.npy\\n', 'C:\\\\Users\\\\pradh\\\\Downloads\\\\XDVioDet-master\\\\XDVioDet-master\\\\tratrain\\\\Before.Sunset.2004__#01-02-40_01-06-51_label_A.npy\\n', 'C:\\\\Users\\\\pradh\\\\Downloads\\\\XDVioDet-master\\\\XDVioDet-master\\\\tratrain\\\\Before.Sunset.2004__#01-07-30_01-09-51_label_A.npy\\n', 'C:\\\\Users\\\\pradh\\\\Downloads\\\\XDVioDet-master\\\\XDVioDet-master\\\\tratrain\\\\Before.Sunset.2004__#01-10-30_01-13-51_label_A.npy\\n', 'C:\\\\Users\\\\pradh\\\\Downloads\\\\XDVioDet-master\\\\XDVioDet-master\\\\tratrain\\\\Black.Hawk.Down.2001__#00-12-00_00-12-31_label_A.npy\\n', 'C:\\\\Users\\\\pradh\\\\Downloads\\\\XDVioDet-master\\\\XDVioDet-master\\\\tratrain\\\\Black.Hawk.Down.2001__#02-14-30_02-14-50_label_A.npy\\n', 'C:\\\\Users\\\\pradh\\\\Downloads\\\\XDVioDet-master\\\\XDVioDet-master\\\\tratrain\\\\Braveheart.1995__#00-54-00_00-56-20_label_A.npy\\n', 'C:\\\\Users\\\\pradh\\\\Downloads\\\\XDVioDet-master\\\\XDVioDet-master\\\\tratrain\\\\Braveheart.1995__#01-00-02_01-01-00_label_A.npy\\n', 'C:\\\\Users\\\\pradh\\\\Downloads\\\\XDVioDet-master\\\\XDVioDet-master\\\\tratrain\\\\Braveheart.1995__#01-06-20_01-09-20_label_A.npy\\n', 'C:\\\\Users\\\\pradh\\\\Downloads\\\\XDVioDet-master\\\\XDVioDet-master\\\\tratrain\\\\Braveheart.1995__#01-33-09_01-37-20_label_A.npy\\n', 'C:\\\\Users\\\\pradh\\\\Downloads\\\\XDVioDet-master\\\\XDVioDet-master\\\\tratrain\\\\Braveheart.1995__#01-39-55_01-42-30_label_A.npy\\n', 'C:\\\\Users\\\\pradh\\\\Downloads\\\\XDVioDet-master\\\\XDVioDet-master\\\\tratrain\\\\Braveheart.1995__#01-44-05_01-45-55_label_A.npy\\n', 'C:\\\\Users\\\\pradh\\\\Downloads\\\\XDVioDet-master\\\\XDVioDet-master\\\\tratrain\\\\Braveheart.1995__#02-13-10_02-14-40_label_A.npy\\n', 'C:\\\\Users\\\\pradh\\\\Downloads\\\\XDVioDet-master\\\\XDVioDet-master\\\\tratrain\\\\Braveheart.1995__#02-23-30_02-24-27_label_A.npy\\n', 'C:\\\\Users\\\\pradh\\\\Downloads\\\\XDVioDet-master\\\\XDVioDet-master\\\\tratrain\\\\Brick.Mansions.2014__#00-01-26_00-02-19_label_A.npy\\n', 'C:\\\\Users\\\\pradh\\\\Downloads\\\\XDVioDet-master\\\\XDVioDet-master\\\\tratrain\\\\Brick.Mansions.2014__#00-22-00_00-23-33_label_A.npy\\n', 'C:\\\\Users\\\\pradh\\\\Downloads\\\\XDVioDet-master\\\\XDVioDet-master\\\\tratrain\\\\Brick.Mansions.2014__#00-25-26_00-25-47_label_A.npy\\n', 'C:\\\\Users\\\\pradh\\\\Downloads\\\\XDVioDet-master\\\\XDVioDet-master\\\\tratrain\\\\Brick.Mansions.2014__#00-32-30_00-33-20_label_A.npy\\n', 'C:\\\\Users\\\\pradh\\\\Downloads\\\\XDVioDet-master\\\\XDVioDet-master\\\\tratrain\\\\Brick.Mansions.2014__#00-38-48_00-39-22_label_A.npy\\n', 'C:\\\\Users\\\\pradh\\\\Downloads\\\\XDVioDet-master\\\\XDVioDet-master\\\\tratrain\\\\Brick.Mansions.2014__#00-44-56_00-46-38_label_A.npy\\n', 'C:\\\\Users\\\\pradh\\\\Downloads\\\\XDVioDet-master\\\\XDVioDet-master\\\\tratrain\\\\Brick.Mansions.2014__#00-53-40_00-55-05_label_A.npy\\n', 'C:\\\\Users\\\\pradh\\\\Downloads\\\\XDVioDet-master\\\\XDVioDet-master\\\\tratrain\\\\Brick.Mansions.2014__#01-17-29_01-18-33_label_A.npy\\n', 'C:\\\\Users\\\\pradh\\\\Downloads\\\\XDVioDet-master\\\\XDVioDet-master\\\\tratrain\\\\Brick.Mansions.2014__#01-22-49_01-24-59_label_A.npy\\n', 'C:\\\\Users\\\\pradh\\\\Downloads\\\\XDVioDet-master\\\\XDVioDet-master\\\\tratrain\\\\Bullet.in.the.Head.1990__#00-06-13_00-07-41_label_A.npy\\n', 'C:\\\\Users\\\\pradh\\\\Downloads\\\\XDVioDet-master\\\\XDVioDet-master\\\\tratrain\\\\Bullet.in.the.Head.1990__#00-11-50_00-12-33_label_A.npy\\n', 'C:\\\\Users\\\\pradh\\\\Downloads\\\\XDVioDet-master\\\\XDVioDet-master\\\\tratrain\\\\Bullet.in.the.Head.1990__#00-31-50_00-33-20_label_A.npy\\n', 'C:\\\\Users\\\\pradh\\\\Downloads\\\\XDVioDet-master\\\\XDVioDet-master\\\\tratrain\\\\Bullet.in.the.Head.1990__#00-46-24_00-48-52_label_A.npy\\n', 'C:\\\\Users\\\\pradh\\\\Downloads\\\\XDVioDet-master\\\\XDVioDet-master\\\\tratrain\\\\Bullet.in.the.Head.1990__#00-48-53_00-51-45_label_A.npy\\n', 'C:\\\\Users\\\\pradh\\\\Downloads\\\\XDVioDet-master\\\\XDVioDet-master\\\\tratrain\\\\Bullet.in.the.Head.1990__#00-56-51_00-57-52_label_A.npy\\n', 'C:\\\\Users\\\\pradh\\\\Downloads\\\\XDVioDet-master\\\\XDVioDet-master\\\\tratrain\\\\Bullet.in.the.Head.1990__#01-04-23_01-06-11_label_A.npy\\n', 'C:\\\\Users\\\\pradh\\\\Downloads\\\\XDVioDet-master\\\\XDVioDet-master\\\\tratrain\\\\Bullet.in.the.Head.1990__#01-12-20_01-13-40_label_A.npy\\n', 'C:\\\\Users\\\\pradh\\\\Downloads\\\\XDVioDet-master\\\\XDVioDet-master\\\\tratrain\\\\Bullet.in.the.Head.1990__#01-17-31_01-18-22_label_A.npy\\n', 'C:\\\\Users\\\\pradh\\\\Downloads\\\\XDVioDet-master\\\\XDVioDet-master\\\\tratrain\\\\Bullet.in.the.Head.1990__#01-39-10_01-40-55_label_A.npy\\n', 'C:\\\\Users\\\\pradh\\\\Downloads\\\\XDVioDet-master\\\\XDVioDet-master\\\\tratrain\\\\Bullet.in.the.Head.1990__#01-40-59_01-42-05_label_A.npy\\n', 'C:\\\\Users\\\\pradh\\\\Downloads\\\\XDVioDet-master\\\\XDVioDet-master\\\\tratrain\\\\Bullet.in.the.Head.1990__#01-44-20_01-45-20_label_A.npy\\n', 'C:\\\\Users\\\\pradh\\\\Downloads\\\\XDVioDet-master\\\\XDVioDet-master\\\\tratrain\\\\Bullet.in.the.Head.1990__#01-48-01_01-50-20_label_A.npy\\n', 'C:\\\\Users\\\\pradh\\\\Downloads\\\\XDVioDet-master\\\\XDVioDet-master\\\\tratrain\\\\Bullet.in.the.Head.1990__#01-54-10_01-55-41_label_A.npy\\n', 'C:\\\\Users\\\\pradh\\\\Downloads\\\\XDVioDet-master\\\\XDVioDet-master\\\\tratrain\\\\Bullet.in.the.Head.1990__#01-55-45_01-57-12_label_A.npy\\n', 'C:\\\\Users\\\\pradh\\\\Downloads\\\\XDVioDet-master\\\\XDVioDet-master\\\\tratrain\\\\Casino.Royale.2006__#00-00-37_00-01-52_label_A.npy\\n', 'C:\\\\Users\\\\pradh\\\\Downloads\\\\XDVioDet-master\\\\XDVioDet-master\\\\tratrain\\\\Casino.Royale.2006__#00-06-56_00-09-35_label_A.npy\\n', 'C:\\\\Users\\\\pradh\\\\Downloads\\\\XDVioDet-master\\\\XDVioDet-master\\\\tratrain\\\\Casino.Royale.2006__#00-19-44_00-21-50_label_A.npy\\n', 'C:\\\\Users\\\\pradh\\\\Downloads\\\\XDVioDet-master\\\\XDVioDet-master\\\\tratrain\\\\Casino.Royale.2006__#00-23-03_00-25-33_label_A.npy\\n', 'C:\\\\Users\\\\pradh\\\\Downloads\\\\XDVioDet-master\\\\XDVioDet-master\\\\tratrain\\\\Casino.Royale.2006__#00-32-34_00-35-11_label_A.npy\\n', 'C:\\\\Users\\\\pradh\\\\Downloads\\\\XDVioDet-master\\\\XDVioDet-master\\\\tratrain\\\\Casino.Royale.2006__#00-54-41_00-57-51_label_A.npy\\n', 'C:\\\\Users\\\\pradh\\\\Downloads\\\\XDVioDet-master\\\\XDVioDet-master\\\\tratrain\\\\Casino.Royale.2006__#00-57-55_01-02-06_label_A.npy\\n', 'C:\\\\Users\\\\pradh\\\\Downloads\\\\XDVioDet-master\\\\XDVioDet-master\\\\tratrain\\\\Casino.Royale.2006__#01-05-46_01-17-09_label_A.npy\\n', 'C:\\\\Users\\\\pradh\\\\Downloads\\\\XDVioDet-master\\\\XDVioDet-master\\\\tratrain\\\\Casino.Royale.2006__#01-26-36_01-31-36_label_A.npy\\n', 'C:\\\\Users\\\\pradh\\\\Downloads\\\\XDVioDet-master\\\\XDVioDet-master\\\\tratrain\\\\Casino.Royale.2006__#01-38-18_01-45-44_label_A.npy\\n', 'C:\\\\Users\\\\pradh\\\\Downloads\\\\XDVioDet-master\\\\XDVioDet-master\\\\tratrain\\\\Casino.Royale.2006__#02-16-49_02-19-45_label_A.npy\\n', 'C:\\\\Users\\\\pradh\\\\Downloads\\\\XDVioDet-master\\\\XDVioDet-master\\\\tratrain\\\\City.Of.Men.2007__#00-26-43_00-27-53_label_A.npy\\n', 'C:\\\\Users\\\\pradh\\\\Downloads\\\\XDVioDet-master\\\\XDVioDet-master\\\\tratrain\\\\City.Of.Men.2007__#00-54-31_00-55-31_label_A.npy\\n', 'C:\\\\Users\\\\pradh\\\\Downloads\\\\XDVioDet-master\\\\XDVioDet-master\\\\tratrain\\\\City.Of.Men.2007__#01-10-21_01-11-35_label_A.npy\\n', 'C:\\\\Users\\\\pradh\\\\Downloads\\\\XDVioDet-master\\\\XDVioDet-master\\\\tratrain\\\\City.Of.Men.2007__#01-33-01_01-34-12_label_A.npy\\n', 'C:\\\\Users\\\\pradh\\\\Downloads\\\\XDVioDet-master\\\\XDVioDet-master\\\\tratrain\\\\City.of.God.2002__#00-03-54_00-04-32_label_A.npy\\n', 'C:\\\\Users\\\\pradh\\\\Downloads\\\\XDVioDet-master\\\\XDVioDet-master\\\\tratrain\\\\City.of.God.2002__#00-21-02_00-22-10_label_A.npy\\n', 'C:\\\\Users\\\\pradh\\\\Downloads\\\\XDVioDet-master\\\\XDVioDet-master\\\\tratrain\\\\City.of.God.2002__#00-34-55_00-35-50_label_A.npy\\n', 'C:\\\\Users\\\\pradh\\\\Downloads\\\\XDVioDet-master\\\\XDVioDet-master\\\\tratrain\\\\City.of.God.2002__#00-44-06_00-45-30_label_A.npy\\n', 'C:\\\\Users\\\\pradh\\\\Downloads\\\\XDVioDet-master\\\\XDVioDet-master\\\\tratrain\\\\City.of.God.2002__#00-48-31_00-49-18_label_A.npy\\n', 'C:\\\\Users\\\\pradh\\\\Downloads\\\\XDVioDet-master\\\\XDVioDet-master\\\\tratrain\\\\City.of.God.2002__#00-49-19_00-50-05_label_A.npy\\n', 'C:\\\\Users\\\\pradh\\\\Downloads\\\\XDVioDet-master\\\\XDVioDet-master\\\\tratrain\\\\City.of.God.2002__#00-55-06_00-56-12_label_A.npy\\n', 'C:\\\\Users\\\\pradh\\\\Downloads\\\\XDVioDet-master\\\\XDVioDet-master\\\\tratrain\\\\City.of.God.2002__#00-58-51_00-59-52_label_A.npy\\n', 'C:\\\\Users\\\\pradh\\\\Downloads\\\\XDVioDet-master\\\\XDVioDet-master\\\\tratrain\\\\City.of.God.2002__#01-02-36_01-04-02_label_A.npy\\n', 'C:\\\\Users\\\\pradh\\\\Downloads\\\\XDVioDet-master\\\\XDVioDet-master\\\\tratrain\\\\City.of.God.2002__#01-10-36_01-11-40_label_A.npy\\n', 'C:\\\\Users\\\\pradh\\\\Downloads\\\\XDVioDet-master\\\\XDVioDet-master\\\\tratrain\\\\City.of.God.2002__#01-27-26_01-28-48_label_A.npy\\n', 'C:\\\\Users\\\\pradh\\\\Downloads\\\\XDVioDet-master\\\\XDVioDet-master\\\\tratrain\\\\City.of.God.2002__#01-34-52_01-35-26_label_A.npy\\n', 'C:\\\\Users\\\\pradh\\\\Downloads\\\\XDVioDet-master\\\\XDVioDet-master\\\\tratrain\\\\Crank.Dircut.2006__#01-13-35_01-14-35_label_A.npy\\n', 'C:\\\\Users\\\\pradh\\\\Downloads\\\\XDVioDet-master\\\\XDVioDet-master\\\\tratrain\\\\Deadpool.2.2018__#0-09-10_0-10-50_label_A.npy\\n', 'C:\\\\Users\\\\pradh\\\\Downloads\\\\XDVioDet-master\\\\XDVioDet-master\\\\tratrain\\\\Deadpool.2.2018__#0-19-38_0-21-41_label_A.npy\\n', 'C:\\\\Users\\\\pradh\\\\Downloads\\\\XDVioDet-master\\\\XDVioDet-master\\\\tratrain\\\\Deadpool.2.2018__#0-24-44_0-25-20_label_A.npy\\n', 'C:\\\\Users\\\\pradh\\\\Downloads\\\\XDVioDet-master\\\\XDVioDet-master\\\\tratrain\\\\Deadpool.2.2018__#01-12-12_01-12-50_label_A.npy\\n', 'C:\\\\Users\\\\pradh\\\\Downloads\\\\XDVioDet-master\\\\XDVioDet-master\\\\tratrain\\\\Deadpool.2.2018__#02-05-32_02-05-55_label_A.npy\\n', 'C:\\\\Users\\\\pradh\\\\Downloads\\\\XDVioDet-master\\\\XDVioDet-master\\\\tratrain\\\\Deadpool.2016__#0-17-08_0-17-52_label_A.npy\\n', 'C:\\\\Users\\\\pradh\\\\Downloads\\\\XDVioDet-master\\\\XDVioDet-master\\\\tratrain\\\\Deadpool.2016__#0-27-11_0-27-48_label_A.npy\\n', 'C:\\\\Users\\\\pradh\\\\Downloads\\\\XDVioDet-master\\\\XDVioDet-master\\\\tratrain\\\\Deadpool.2016__#0-30-17_0-31-51_label_A.npy\\n', 'C:\\\\Users\\\\pradh\\\\Downloads\\\\XDVioDet-master\\\\XDVioDet-master\\\\tratrain\\\\Deadpool.2016__#01-18-13_01-20-20_label_A.npy\\n', 'C:\\\\Users\\\\pradh\\\\Downloads\\\\XDVioDet-master\\\\XDVioDet-master\\\\tratrain\\\\Deadpool.2016__#01-36-22_01-37-45_label_A.npy\\n', 'C:\\\\Users\\\\pradh\\\\Downloads\\\\XDVioDet-master\\\\XDVioDet-master\\\\tratrain\\\\Deadpool.2016__#01-47-00_01-47-28_label_A.npy\\n', 'C:\\\\Users\\\\pradh\\\\Downloads\\\\XDVioDet-master\\\\XDVioDet-master\\\\tratrain\\\\Death.Proof.2007__#00-06-20_00-08-55_label_A.npy\\n', 'C:\\\\Users\\\\pradh\\\\Downloads\\\\XDVioDet-master\\\\XDVioDet-master\\\\tratrain\\\\Death.Proof.2007__#00-09-12_00-13-12_label_A.npy\\n', 'C:\\\\Users\\\\pradh\\\\Downloads\\\\XDVioDet-master\\\\XDVioDet-master\\\\tratrain\\\\Death.Proof.2007__#00-13-52_00-16-22_label_A.npy\\n', 'C:\\\\Users\\\\pradh\\\\Downloads\\\\XDVioDet-master\\\\XDVioDet-master\\\\tratrain\\\\Death.Proof.2007__#00-53-22_00-55-45_label_A.npy\\n', 'C:\\\\Users\\\\pradh\\\\Downloads\\\\XDVioDet-master\\\\XDVioDet-master\\\\tratrain\\\\Death.Proof.2007__#01-38-30_01-40-16_label_A.npy\\n', 'C:\\\\Users\\\\pradh\\\\Downloads\\\\XDVioDet-master\\\\XDVioDet-master\\\\tratrain\\\\Desperado.1995__#00-00-00_00-03-38_label_A.npy\\n', 'C:\\\\Users\\\\pradh\\\\Downloads\\\\XDVioDet-master\\\\XDVioDet-master\\\\tratrain\\\\Desperado.1995__#00-12-36_00-14-51_label_A.npy\\n', 'C:\\\\Users\\\\pradh\\\\Downloads\\\\XDVioDet-master\\\\XDVioDet-master\\\\tratrain\\\\Desperado.1995__#00-22-12_00-23-56_label_A.npy\\n', 'C:\\\\Users\\\\pradh\\\\Downloads\\\\XDVioDet-master\\\\XDVioDet-master\\\\tratrain\\\\Desperado.1995__#00-46-34_00-47-46_label_A.npy\\n', 'C:\\\\Users\\\\pradh\\\\Downloads\\\\XDVioDet-master\\\\XDVioDet-master\\\\tratrain\\\\Desperado.1995__#00-50-55_00-52-02_label_A.npy\\n', 'C:\\\\Users\\\\pradh\\\\Downloads\\\\XDVioDet-master\\\\XDVioDet-master\\\\tratrain\\\\Desperado.1995__#01-36-33_01-37-50_label_A.npy\\n', 'C:\\\\Users\\\\pradh\\\\Downloads\\\\XDVioDet-master\\\\XDVioDet-master\\\\tratrain\\\\Election.2005__#00-05-30_00-06-56_label_A.npy\\n', 'C:\\\\Users\\\\pradh\\\\Downloads\\\\XDVioDet-master\\\\XDVioDet-master\\\\tratrain\\\\Election.2005__#00-15-23_00-17-02_label_A.npy\\n', 'C:\\\\Users\\\\pradh\\\\Downloads\\\\XDVioDet-master\\\\XDVioDet-master\\\\tratrain\\\\Election.2005__#01-05-37_01-07-06_label_A.npy\\n', 'C:\\\\Users\\\\pradh\\\\Downloads\\\\XDVioDet-master\\\\XDVioDet-master\\\\tratrain\\\\Election.2005__#01-12-58_01-14-11_label_A.npy\\n', 'C:\\\\Users\\\\pradh\\\\Downloads\\\\XDVioDet-master\\\\XDVioDet-master\\\\tratrain\\\\Election.2005__#01-19-48_01-21-18_label_A.npy\\n', 'C:\\\\Users\\\\pradh\\\\Downloads\\\\XDVioDet-master\\\\XDVioDet-master\\\\tratrain\\\\Fast.Five.2011__#00-00-50_00-01-20_label_A.npy\\n', 'C:\\\\Users\\\\pradh\\\\Downloads\\\\XDVioDet-master\\\\XDVioDet-master\\\\tratrain\\\\Fast.Five.2011__#00-07-53_00-08-53_label_A.npy\\n', 'C:\\\\Users\\\\pradh\\\\Downloads\\\\XDVioDet-master\\\\XDVioDet-master\\\\tratrain\\\\Fast.Five.2011__#00-23-05_00-24-44_label_A.npy\\n', 'C:\\\\Users\\\\pradh\\\\Downloads\\\\XDVioDet-master\\\\XDVioDet-master\\\\tratrain\\\\Fast.Five.2011__#00-26-55_00-28-33_label_A.npy\\n', 'C:\\\\Users\\\\pradh\\\\Downloads\\\\XDVioDet-master\\\\XDVioDet-master\\\\tratrain\\\\Fast.Five.2011__#00-35-08_00-36-50_label_A.npy\\n', 'C:\\\\Users\\\\pradh\\\\Downloads\\\\XDVioDet-master\\\\XDVioDet-master\\\\tratrain\\\\Fast.Five.2011__#00-38-01_00-40-44_label_A.npy\\n', 'C:\\\\Users\\\\pradh\\\\Downloads\\\\XDVioDet-master\\\\XDVioDet-master\\\\tratrain\\\\Fast.Five.2011__#00-42-00_00-45-37_label_A.npy\\n', 'C:\\\\Users\\\\pradh\\\\Downloads\\\\XDVioDet-master\\\\XDVioDet-master\\\\tratrain\\\\Fast.Five.2011__#01-05-32_01-06-05_label_A.npy\\n', 'C:\\\\Users\\\\pradh\\\\Downloads\\\\XDVioDet-master\\\\XDVioDet-master\\\\tratrain\\\\Fast.Five.2011__#01-06-30_01-06-53_label_A.npy\\n', 'C:\\\\Users\\\\pradh\\\\Downloads\\\\XDVioDet-master\\\\XDVioDet-master\\\\tratrain\\\\Fast.Five.2011__#01-10-08_01-11-51_label_A.npy\\n', 'C:\\\\Users\\\\pradh\\\\Downloads\\\\XDVioDet-master\\\\XDVioDet-master\\\\tratrain\\\\Fast.Five.2011__#01-55-07_01-58-50_label_A.npy\\n', 'C:\\\\Users\\\\pradh\\\\Downloads\\\\XDVioDet-master\\\\XDVioDet-master\\\\tratrain\\\\Fast.Furious.2009__#00-08-56_00-10-39_label_A.npy\\n', 'C:\\\\Users\\\\pradh\\\\Downloads\\\\XDVioDet-master\\\\XDVioDet-master\\\\tratrain\\\\Fast.Furious.2009__#00-15-05_00-19-56_label_A.npy\\n', 'C:\\\\Users\\\\pradh\\\\Downloads\\\\XDVioDet-master\\\\XDVioDet-master\\\\tratrain\\\\Fast.Furious.2009__#00-22-36_00-24-00_label_A.npy\\n', 'C:\\\\Users\\\\pradh\\\\Downloads\\\\XDVioDet-master\\\\XDVioDet-master\\\\tratrain\\\\Fast.Furious.2009__#00-26-32_00-29-20_label_A.npy\\n', 'C:\\\\Users\\\\pradh\\\\Downloads\\\\XDVioDet-master\\\\XDVioDet-master\\\\tratrain\\\\Fast.Furious.2009__#00-51-30_00-53-14_label_A.npy\\n', 'C:\\\\Users\\\\pradh\\\\Downloads\\\\XDVioDet-master\\\\XDVioDet-master\\\\tratrain\\\\Fast.Furious.2009__#01-15-20_01-17-50_label_A.npy\\n', 'C:\\\\Users\\\\pradh\\\\Downloads\\\\XDVioDet-master\\\\XDVioDet-master\\\\tratrain\\\\Fast.Furious.2009__#01-19-19_01-20-50_label_A.npy\\n', 'C:\\\\Users\\\\pradh\\\\Downloads\\\\XDVioDet-master\\\\XDVioDet-master\\\\tratrain\\\\Fast.Furious.2009__#01-21-28_01-26-52_label_A.npy\\n', 'C:\\\\Users\\\\pradh\\\\Downloads\\\\XDVioDet-master\\\\XDVioDet-master\\\\tratrain\\\\Fast.Furious.6.2013__#00-01-45_00-02-15_label_A.npy\\n', 'C:\\\\Users\\\\pradh\\\\Downloads\\\\XDVioDet-master\\\\XDVioDet-master\\\\tratrain\\\\Fast.Furious.6.2013__#00-06-50_00-08-50_label_A.npy\\n', 'C:\\\\Users\\\\pradh\\\\Downloads\\\\XDVioDet-master\\\\XDVioDet-master\\\\tratrain\\\\Fast.Furious.6.2013__#00-10-20_00-11-50_label_A.npy\\n', 'C:\\\\Users\\\\pradh\\\\Downloads\\\\XDVioDet-master\\\\XDVioDet-master\\\\tratrain\\\\Fast.Furious.6.2013__#00-12-41_00-15-45_label_A.npy\\n', 'C:\\\\Users\\\\pradh\\\\Downloads\\\\XDVioDet-master\\\\XDVioDet-master\\\\tratrain\\\\Fast.Furious.6.2013__#00-30-50_00-32-31_label_A.npy\\n', 'C:\\\\Users\\\\pradh\\\\Downloads\\\\XDVioDet-master\\\\XDVioDet-master\\\\tratrain\\\\Fast.Furious.6.2013__#00-32-52_00-36-31_label_A.npy\\n', 'C:\\\\Users\\\\pradh\\\\Downloads\\\\XDVioDet-master\\\\XDVioDet-master\\\\tratrain\\\\Fast.Furious.6.2013__#00-53-55_00-55-16_label_A.npy\\n', 'C:\\\\Users\\\\pradh\\\\Downloads\\\\XDVioDet-master\\\\XDVioDet-master\\\\tratrain\\\\Fast.Furious.6.2013__#01-05-40_01-07-59_label_A.npy\\n', 'C:\\\\Users\\\\pradh\\\\Downloads\\\\XDVioDet-master\\\\XDVioDet-master\\\\tratrain\\\\Fast.Furious.6.2013__#01-10-55_01-14-20_label_A.npy\\n', 'C:\\\\Users\\\\pradh\\\\Downloads\\\\XDVioDet-master\\\\XDVioDet-master\\\\tratrain\\\\Fast.Furious.6.2013__#01-57-49_02-02-00_label_A.npy\\n', 'C:\\\\Users\\\\pradh\\\\Downloads\\\\XDVioDet-master\\\\XDVioDet-master\\\\tratrain\\\\Flipped.2010__#00-01-45_00-02-50_label_A.npy\\n', 'C:\\\\Users\\\\pradh\\\\Downloads\\\\XDVioDet-master\\\\XDVioDet-master\\\\tratrain\\\\Flipped.2010__#00-03-00_00-04-05_label_A.npy\\n', 'C:\\\\Users\\\\pradh\\\\Downloads\\\\XDVioDet-master\\\\XDVioDet-master\\\\tratrain\\\\Flipped.2010__#00-11-00_00-15-08_label_A.npy\\n', 'C:\\\\Users\\\\pradh\\\\Downloads\\\\XDVioDet-master\\\\XDVioDet-master\\\\tratrain\\\\Flipped.2010__#00-16-18_00-18-09_label_A.npy\\n', 'C:\\\\Users\\\\pradh\\\\Downloads\\\\XDVioDet-master\\\\XDVioDet-master\\\\tratrain\\\\Flipped.2010__#00-18-18_00-20-09_label_A.npy\\n', 'C:\\\\Users\\\\pradh\\\\Downloads\\\\XDVioDet-master\\\\XDVioDet-master\\\\tratrain\\\\Flipped.2010__#00-20-35_00-23-06_label_A.npy\\n', 'C:\\\\Users\\\\pradh\\\\Downloads\\\\XDVioDet-master\\\\XDVioDet-master\\\\tratrain\\\\Flipped.2010__#00-23-50_00-24-31_label_A.npy\\n', 'C:\\\\Users\\\\pradh\\\\Downloads\\\\XDVioDet-master\\\\XDVioDet-master\\\\tratrain\\\\Flipped.2010__#00-25-20_00-29-20_label_A.npy\\n', 'C:\\\\Users\\\\pradh\\\\Downloads\\\\XDVioDet-master\\\\XDVioDet-master\\\\tratrain\\\\Flipped.2010__#00-31-05_00-32-05_label_A.npy\\n', 'C:\\\\Users\\\\pradh\\\\Downloads\\\\XDVioDet-master\\\\XDVioDet-master\\\\tratrain\\\\Flipped.2010__#00-32-07_00-36-45_label_A.npy\\n', 'C:\\\\Users\\\\pradh\\\\Downloads\\\\XDVioDet-master\\\\XDVioDet-master\\\\tratrain\\\\Flipped.2010__#00-37-40_00-40-31_label_A.npy\\n', 'C:\\\\Users\\\\pradh\\\\Downloads\\\\XDVioDet-master\\\\XDVioDet-master\\\\tratrain\\\\Flipped.2010__#00-40-52_00-42-01_label_A.npy\\n', 'C:\\\\Users\\\\pradh\\\\Downloads\\\\XDVioDet-master\\\\XDVioDet-master\\\\tratrain\\\\Flipped.2010__#00-47-55_00-49-50_label_A.npy\\n', 'C:\\\\Users\\\\pradh\\\\Downloads\\\\XDVioDet-master\\\\XDVioDet-master\\\\tratrain\\\\Flipped.2010__#00-55-26_00-57-16_label_A.npy\\n', 'C:\\\\Users\\\\pradh\\\\Downloads\\\\XDVioDet-master\\\\XDVioDet-master\\\\tratrain\\\\Flipped.2010__#00-57-20_00-58-17_label_A.npy\\n', 'C:\\\\Users\\\\pradh\\\\Downloads\\\\XDVioDet-master\\\\XDVioDet-master\\\\tratrain\\\\Flipped.2010__#00-58-18_01-02-30_label_A.npy\\n', 'C:\\\\Users\\\\pradh\\\\Downloads\\\\XDVioDet-master\\\\XDVioDet-master\\\\tratrain\\\\Flipped.2010__#01-02-40_01-06-51_label_A.npy\\n', 'C:\\\\Users\\\\pradh\\\\Downloads\\\\XDVioDet-master\\\\XDVioDet-master\\\\tratrain\\\\Flipped.2010__#01-14-30_01-16-51_label_A.npy\\n', 'C:\\\\Users\\\\pradh\\\\Downloads\\\\XDVioDet-master\\\\XDVioDet-master\\\\tratrain\\\\Flipped.2010__#01-17-03_01-20-51_label_A.npy\\n', 'C:\\\\Users\\\\pradh\\\\Downloads\\\\XDVioDet-master\\\\XDVioDet-master\\\\tratrain\\\\Flipped.2010__#01-21-00_01-24-40_label_A.npy\\n', 'C:\\\\Users\\\\pradh\\\\Downloads\\\\XDVioDet-master\\\\XDVioDet-master\\\\tratrain\\\\From.Dusk.Till.Dawn.1996__#00-00-36_00-04-16_label_A.npy\\n', 'C:\\\\Users\\\\pradh\\\\Downloads\\\\XDVioDet-master\\\\XDVioDet-master\\\\tratrain\\\\From.Dusk.Till.Dawn.1996__#00-17-24_00-20-39_label_A.npy\\n', 'C:\\\\Users\\\\pradh\\\\Downloads\\\\XDVioDet-master\\\\XDVioDet-master\\\\tratrain\\\\Fury.2014__#00-01-50_00-02-58_label_A.npy\\n', 'C:\\\\Users\\\\pradh\\\\Downloads\\\\XDVioDet-master\\\\XDVioDet-master\\\\tratrain\\\\Fury.2014__#00-09-04_00-10-42_label_A.npy\\n', 'C:\\\\Users\\\\pradh\\\\Downloads\\\\XDVioDet-master\\\\XDVioDet-master\\\\tratrain\\\\Fury.2014__#00-20-27_00-21-57_label_A.npy\\n', 'C:\\\\Users\\\\pradh\\\\Downloads\\\\XDVioDet-master\\\\XDVioDet-master\\\\tratrain\\\\Fury.2014__#00-27-12_00-28-42_label_A.npy\\n', 'C:\\\\Users\\\\pradh\\\\Downloads\\\\XDVioDet-master\\\\XDVioDet-master\\\\tratrain\\\\Fury.2014__#00-41-33_00-43-12_label_A.npy\\n', 'C:\\\\Users\\\\pradh\\\\Downloads\\\\XDVioDet-master\\\\XDVioDet-master\\\\tratrain\\\\Fury.2014__#00-56-10_00-57-38_label_A.npy\\n', 'C:\\\\Users\\\\pradh\\\\Downloads\\\\XDVioDet-master\\\\XDVioDet-master\\\\tratrain\\\\Fury.2014__#01-17-16_01-18-40_label_A.npy\\n', 'C:\\\\Users\\\\pradh\\\\Downloads\\\\XDVioDet-master\\\\XDVioDet-master\\\\tratrain\\\\Fury.2014__#01-24-39_01-26-24_label_A.npy\\n', 'C:\\\\Users\\\\pradh\\\\Downloads\\\\XDVioDet-master\\\\XDVioDet-master\\\\tratrain\\\\Fury.2014__#01-27-52_01-30-09_label_A.npy\\n', 'C:\\\\Users\\\\pradh\\\\Downloads\\\\XDVioDet-master\\\\XDVioDet-master\\\\tratrain\\\\Fury.2014__#02-04-03_02-05-57_label_A.npy\\n', 'C:\\\\Users\\\\pradh\\\\Downloads\\\\XDVioDet-master\\\\XDVioDet-master\\\\tratrain\\\\Gladiator.2000__#00-02-03_00-04-28_label_A.npy\\n', 'C:\\\\Users\\\\pradh\\\\Downloads\\\\XDVioDet-master\\\\XDVioDet-master\\\\tratrain\\\\Gladiator.2000__#00-13-32_00-14-40_label_A.npy\\n', 'C:\\\\Users\\\\pradh\\\\Downloads\\\\XDVioDet-master\\\\XDVioDet-master\\\\tratrain\\\\Gladiator.2000__#00-25-57_00-27-16_label_A.npy\\n', 'C:\\\\Users\\\\pradh\\\\Downloads\\\\XDVioDet-master\\\\XDVioDet-master\\\\tratrain\\\\Gladiator.2000__#01-02-57_01-04-54_label_A.npy\\n', 'C:\\\\Users\\\\pradh\\\\Downloads\\\\XDVioDet-master\\\\XDVioDet-master\\\\tratrain\\\\Gladiator.2000__#01-13-12_01-15-48_label_A.npy\\n', 'C:\\\\Users\\\\pradh\\\\Downloads\\\\XDVioDet-master\\\\XDVioDet-master\\\\tratrain\\\\Gladiator.2000__#01-27-58_01-29-40_label_A.npy\\n', 'C:\\\\Users\\\\pradh\\\\Downloads\\\\XDVioDet-master\\\\XDVioDet-master\\\\tratrain\\\\Gladiator.2000__#01-44-18_01-46-14_label_A.npy\\n', 'C:\\\\Users\\\\pradh\\\\Downloads\\\\XDVioDet-master\\\\XDVioDet-master\\\\tratrain\\\\Gladiator.2000__#02-08-45_02-10-17_label_A.npy\\n', 'C:\\\\Users\\\\pradh\\\\Downloads\\\\XDVioDet-master\\\\XDVioDet-master\\\\tratrain\\\\God.Bless.America.2011__#00-06-59_00-12-23_label_A.npy\\n', 'C:\\\\Users\\\\pradh\\\\Downloads\\\\XDVioDet-master\\\\XDVioDet-master\\\\tratrain\\\\God.Bless.America.2011__#00-14-02_00-18-05_label_A.npy\\n', 'C:\\\\Users\\\\pradh\\\\Downloads\\\\XDVioDet-master\\\\XDVioDet-master\\\\tratrain\\\\God.Bless.America.2011__#00-20-55_00-22-32_label_A.npy\\n', 'C:\\\\Users\\\\pradh\\\\Downloads\\\\XDVioDet-master\\\\XDVioDet-master\\\\tratrain\\\\God.Bless.America.2011__#00-42-23_00-45-12_label_A.npy\\n', 'C:\\\\Users\\\\pradh\\\\Downloads\\\\XDVioDet-master\\\\XDVioDet-master\\\\tratrain\\\\God.Bless.America.2011__#00-54-15_00-56-05_label_A.npy\\n', 'C:\\\\Users\\\\pradh\\\\Downloads\\\\XDVioDet-master\\\\XDVioDet-master\\\\tratrain\\\\God.Bless.America.2011__#01-11-54_01-13-00_label_A.npy\\n', 'C:\\\\Users\\\\pradh\\\\Downloads\\\\XDVioDet-master\\\\XDVioDet-master\\\\tratrain\\\\God.Bless.America.2011__#01-15-20_01-16-40_label_A.npy\\n', 'C:\\\\Users\\\\pradh\\\\Downloads\\\\XDVioDet-master\\\\XDVioDet-master\\\\tratrain\\\\God.Bless.America.2011__#01-17-10_01-20-20_label_A.npy\\n', 'C:\\\\Users\\\\pradh\\\\Downloads\\\\XDVioDet-master\\\\XDVioDet-master\\\\tratrain\\\\GoldenEye.1995__#00-03-13_00-04-35_label_A.npy\\n', 'C:\\\\Users\\\\pradh\\\\Downloads\\\\XDVioDet-master\\\\XDVioDet-master\\\\tratrain\\\\GoldenEye.1995__#00-17-21_00-20-35_label_A.npy\\n', 'C:\\\\Users\\\\pradh\\\\Downloads\\\\XDVioDet-master\\\\XDVioDet-master\\\\tratrain\\\\GoldenEye.1995__#00-25-13_00-25-45_label_A.npy\\n', 'C:\\\\Users\\\\pradh\\\\Downloads\\\\XDVioDet-master\\\\XDVioDet-master\\\\tratrain\\\\GoldenEye.1995__#00-28-54_00-31-08_label_A.npy\\n', 'C:\\\\Users\\\\pradh\\\\Downloads\\\\XDVioDet-master\\\\XDVioDet-master\\\\tratrain\\\\GoldenEye.1995__#00-36-26_00-38-25_label_A.npy\\n', 'C:\\\\Users\\\\pradh\\\\Downloads\\\\XDVioDet-master\\\\XDVioDet-master\\\\tratrain\\\\GoldenEye.1995__#00-45-43_00-48-10_label_A.npy\\n', 'C:\\\\Users\\\\pradh\\\\Downloads\\\\XDVioDet-master\\\\XDVioDet-master\\\\tratrain\\\\GoldenEye.1995__#00-49-11_00-50-25_label_A.npy\\n', 'C:\\\\Users\\\\pradh\\\\Downloads\\\\XDVioDet-master\\\\XDVioDet-master\\\\tratrain\\\\GoldenEye.1995__#00-51-14_00-52-39_label_A.npy\\n', 'C:\\\\Users\\\\pradh\\\\Downloads\\\\XDVioDet-master\\\\XDVioDet-master\\\\tratrain\\\\GoldenEye.1995__#01-14-10_01-16-51_label_A.npy\\n', 'C:\\\\Users\\\\pradh\\\\Downloads\\\\XDVioDet-master\\\\XDVioDet-master\\\\tratrain\\\\GoldenEye.1995__#01-25-54_01-26-53_label_A.npy\\n', 'C:\\\\Users\\\\pradh\\\\Downloads\\\\XDVioDet-master\\\\XDVioDet-master\\\\tratrain\\\\GoldenEye.1995__#01-35-37_01-39-00_label_A.npy\\n', 'C:\\\\Users\\\\pradh\\\\Downloads\\\\XDVioDet-master\\\\XDVioDet-master\\\\tratrain\\\\GoldenEye.1995__#01-52-20_01-53-15_label_A.npy\\n', 'C:\\\\Users\\\\pradh\\\\Downloads\\\\XDVioDet-master\\\\XDVioDet-master\\\\tratrain\\\\GoldenEye.1995__#02-05-18_02-06-13_label_A.npy\\n', 'C:\\\\Users\\\\pradh\\\\Downloads\\\\XDVioDet-master\\\\XDVioDet-master\\\\tratrain\\\\Good.Will.Hunting.1997__#00-01-45_00-02-50_label_A.npy\\n', 'C:\\\\Users\\\\pradh\\\\Downloads\\\\XDVioDet-master\\\\XDVioDet-master\\\\tratrain\\\\Good.Will.Hunting.1997__#00-03-00_00-04-05_label_A.npy\\n', 'C:\\\\Users\\\\pradh\\\\Downloads\\\\XDVioDet-master\\\\XDVioDet-master\\\\tratrain\\\\Good.Will.Hunting.1997__#00-04-20_00-05-35_label_A.npy\\n', 'C:\\\\Users\\\\pradh\\\\Downloads\\\\XDVioDet-master\\\\XDVioDet-master\\\\tratrain\\\\Good.Will.Hunting.1997__#00-05-52_00-08-22_label_A.npy\\n', 'C:\\\\Users\\\\pradh\\\\Downloads\\\\XDVioDet-master\\\\XDVioDet-master\\\\tratrain\\\\Good.Will.Hunting.1997__#00-12-45_00-15-08_label_A.npy\\n', 'C:\\\\Users\\\\pradh\\\\Downloads\\\\XDVioDet-master\\\\XDVioDet-master\\\\tratrain\\\\Good.Will.Hunting.1997__#00-16-18_00-18-09_label_A.npy\\n', 'C:\\\\Users\\\\pradh\\\\Downloads\\\\XDVioDet-master\\\\XDVioDet-master\\\\tratrain\\\\Good.Will.Hunting.1997__#00-20-35_00-23-06_label_A.npy\\n', 'C:\\\\Users\\\\pradh\\\\Downloads\\\\XDVioDet-master\\\\XDVioDet-master\\\\tratrain\\\\Good.Will.Hunting.1997__#00-23-50_00-24-31_label_A.npy\\n', 'C:\\\\Users\\\\pradh\\\\Downloads\\\\XDVioDet-master\\\\XDVioDet-master\\\\tratrain\\\\Good.Will.Hunting.1997__#00-25-20_00-29-20_label_A.npy\\n', 'C:\\\\Users\\\\pradh\\\\Downloads\\\\XDVioDet-master\\\\XDVioDet-master\\\\tratrain\\\\Good.Will.Hunting.1997__#00-31-05_00-32-05_label_A.npy\\n', 'C:\\\\Users\\\\pradh\\\\Downloads\\\\XDVioDet-master\\\\XDVioDet-master\\\\tratrain\\\\Good.Will.Hunting.1997__#00-32-07_00-35-00_label_A.npy\\n', 'C:\\\\Users\\\\pradh\\\\Downloads\\\\XDVioDet-master\\\\XDVioDet-master\\\\tratrain\\\\Good.Will.Hunting.1997__#00-35-50_00-40-31_label_A.npy\\n', 'C:\\\\Users\\\\pradh\\\\Downloads\\\\XDVioDet-master\\\\XDVioDet-master\\\\tratrain\\\\Good.Will.Hunting.1997__#00-42-52_00-45-31_label_A.npy\\n', 'C:\\\\Users\\\\pradh\\\\Downloads\\\\XDVioDet-master\\\\XDVioDet-master\\\\tratrain\\\\Good.Will.Hunting.1997__#00-45-40_00-47-30_label_A.npy\\n', 'C:\\\\Users\\\\pradh\\\\Downloads\\\\XDVioDet-master\\\\XDVioDet-master\\\\tratrain\\\\Good.Will.Hunting.1997__#00-50-26_00-55-16_label_A.npy\\n', 'C:\\\\Users\\\\pradh\\\\Downloads\\\\XDVioDet-master\\\\XDVioDet-master\\\\tratrain\\\\Good.Will.Hunting.1997__#00-57-20_00-58-17_label_A.npy\\n', 'C:\\\\Users\\\\pradh\\\\Downloads\\\\XDVioDet-master\\\\XDVioDet-master\\\\tratrain\\\\Good.Will.Hunting.1997__#01-07-50_01-14-05_label_A.npy\\n', 'C:\\\\Users\\\\pradh\\\\Downloads\\\\XDVioDet-master\\\\XDVioDet-master\\\\tratrain\\\\Good.Will.Hunting.1997__#01-14-30_01-16-59_label_A.npy\\n', 'C:\\\\Users\\\\pradh\\\\Downloads\\\\XDVioDet-master\\\\XDVioDet-master\\\\tratrain\\\\Good.Will.Hunting.1997__#01-17-00_01-21-50_label_A.npy\\n', 'C:\\\\Users\\\\pradh\\\\Downloads\\\\XDVioDet-master\\\\XDVioDet-master\\\\tratrain\\\\Good.Will.Hunting.1997__#01-27-20_01-29-40_label_A.npy\\n', 'C:\\\\Users\\\\pradh\\\\Downloads\\\\XDVioDet-master\\\\XDVioDet-master\\\\tratrain\\\\Good.Will.Hunting.1997__#01-33-18_01-36-11_label_A.npy\\n', 'C:\\\\Users\\\\pradh\\\\Downloads\\\\XDVioDet-master\\\\XDVioDet-master\\\\tratrain\\\\Good.Will.Hunting.1997__#01-39-05_01-41-00_label_A.npy\\n', 'C:\\\\Users\\\\pradh\\\\Downloads\\\\XDVioDet-master\\\\XDVioDet-master\\\\tratrain\\\\Good.Will.Hunting.1997__#01-42-06_01-45-53_label_A.npy\\n', 'C:\\\\Users\\\\pradh\\\\Downloads\\\\XDVioDet-master\\\\XDVioDet-master\\\\tratrain\\\\Good.Will.Hunting.1997__#01-46-20_01-48-10_label_A.npy\\n', 'C:\\\\Users\\\\pradh\\\\Downloads\\\\XDVioDet-master\\\\XDVioDet-master\\\\tratrain\\\\Good.Will.Hunting.1997__#01-50-50_01-52-00_label_A.npy\\n', 'C:\\\\Users\\\\pradh\\\\Downloads\\\\XDVioDet-master\\\\XDVioDet-master\\\\tratrain\\\\Good.Will.Hunting.1997__#01-52-20_01-58-00_label_A.npy\\n', 'C:\\\\Users\\\\pradh\\\\Downloads\\\\XDVioDet-master\\\\XDVioDet-master\\\\tratrain\\\\Good.Will.Hunting.1997__#01-58-20_02-01-10_label_A.npy\\n', 'C:\\\\Users\\\\pradh\\\\Downloads\\\\XDVioDet-master\\\\XDVioDet-master\\\\tratrain\\\\Haywire.2011__#00-05-37_00-07-13_label_A.npy\\n', 'C:\\\\Users\\\\pradh\\\\Downloads\\\\XDVioDet-master\\\\XDVioDet-master\\\\tratrain\\\\Haywire.2011__#00-17-28_00-18-39_label_A.npy\\n', 'C:\\\\Users\\\\pradh\\\\Downloads\\\\XDVioDet-master\\\\XDVioDet-master\\\\tratrain\\\\Haywire.2011__#00-22-13_00-23-53_label_A.npy\\n', 'C:\\\\Users\\\\pradh\\\\Downloads\\\\XDVioDet-master\\\\XDVioDet-master\\\\tratrain\\\\Haywire.2011__#00-43-46_00-45-00_label_A.npy\\n', 'C:\\\\Users\\\\pradh\\\\Downloads\\\\XDVioDet-master\\\\XDVioDet-master\\\\tratrain\\\\Haywire.2011__#01-05-21_01-06-37_label_A.npy\\n', 'C:\\\\Users\\\\pradh\\\\Downloads\\\\XDVioDet-master\\\\XDVioDet-master\\\\tratrain\\\\Haywire.2011__#01-16-30_01-18-01_label_A.npy\\n', 'C:\\\\Users\\\\pradh\\\\Downloads\\\\XDVioDet-master\\\\XDVioDet-master\\\\tratrain\\\\Hear.Me.2009__#00-01-45_00-04-15_label_A.npy\\n', 'C:\\\\Users\\\\pradh\\\\Downloads\\\\XDVioDet-master\\\\XDVioDet-master\\\\tratrain\\\\Hear.Me.2009__#00-04-20_00-06-05_label_A.npy\\n', 'C:\\\\Users\\\\pradh\\\\Downloads\\\\XDVioDet-master\\\\XDVioDet-master\\\\tratrain\\\\Hear.Me.2009__#00-06-37_00-08-22_label_A.npy\\n', 'C:\\\\Users\\\\pradh\\\\Downloads\\\\XDVioDet-master\\\\XDVioDet-master\\\\tratrain\\\\Hear.Me.2009__#00-08-55_00-10-50_label_A.npy\\n', 'C:\\\\Users\\\\pradh\\\\Downloads\\\\XDVioDet-master\\\\XDVioDet-master\\\\tratrain\\\\Hear.Me.2009__#00-11-00_00-15-08_label_A.npy\\n', 'C:\\\\Users\\\\pradh\\\\Downloads\\\\XDVioDet-master\\\\XDVioDet-master\\\\tratrain\\\\Hear.Me.2009__#00-16-18_00-17-27_label_A.npy\\n', 'C:\\\\Users\\\\pradh\\\\Downloads\\\\XDVioDet-master\\\\XDVioDet-master\\\\tratrain\\\\Hear.Me.2009__#00-17-30_00-19-10_label_A.npy\\n', 'C:\\\\Users\\\\pradh\\\\Downloads\\\\XDVioDet-master\\\\XDVioDet-master\\\\tratrain\\\\Hear.Me.2009__#00-20-35_00-23-06_label_A.npy\\n', 'C:\\\\Users\\\\pradh\\\\Downloads\\\\XDVioDet-master\\\\XDVioDet-master\\\\tratrain\\\\Hear.Me.2009__#00-23-50_00-24-31_label_A.npy\\n', 'C:\\\\Users\\\\pradh\\\\Downloads\\\\XDVioDet-master\\\\XDVioDet-master\\\\tratrain\\\\Hear.Me.2009__#00-25-20_00-29-40_label_A.npy\\n', 'C:\\\\Users\\\\pradh\\\\Downloads\\\\XDVioDet-master\\\\XDVioDet-master\\\\tratrain\\\\Hear.Me.2009__#00-33-52_00-38-31_label_A.npy\\n', 'C:\\\\Users\\\\pradh\\\\Downloads\\\\XDVioDet-master\\\\XDVioDet-master\\\\tratrain\\\\Hear.Me.2009__#00-38-52_00-40-31_label_A.npy\\n', 'C:\\\\Users\\\\pradh\\\\Downloads\\\\XDVioDet-master\\\\XDVioDet-master\\\\tratrain\\\\Hear.Me.2009__#00-45-40_00-47-30_label_A.npy\\n', 'C:\\\\Users\\\\pradh\\\\Downloads\\\\XDVioDet-master\\\\XDVioDet-master\\\\tratrain\\\\Hear.Me.2009__#00-51-55_00-55-16_label_A.npy\\n', 'C:\\\\Users\\\\pradh\\\\Downloads\\\\XDVioDet-master\\\\XDVioDet-master\\\\tratrain\\\\Hear.Me.2009__#00-56-40_01-02-02_label_A.npy\\n', 'C:\\\\Users\\\\pradh\\\\Downloads\\\\XDVioDet-master\\\\XDVioDet-master\\\\tratrain\\\\Hear.Me.2009__#01-02-18_01-03-10_label_A.npy\\n', 'C:\\\\Users\\\\pradh\\\\Downloads\\\\XDVioDet-master\\\\XDVioDet-master\\\\tratrain\\\\Hear.Me.2009__#01-04-40_01-06-59_label_A.npy\\n', 'C:\\\\Users\\\\pradh\\\\Downloads\\\\XDVioDet-master\\\\XDVioDet-master\\\\tratrain\\\\Hear.Me.2009__#01-09-30_01-16-59_label_A.npy\\n', 'C:\\\\Users\\\\pradh\\\\Downloads\\\\XDVioDet-master\\\\XDVioDet-master\\\\tratrain\\\\Hear.Me.2009__#01-17-00_01-19-40_label_A.npy\\n', 'C:\\\\Users\\\\pradh\\\\Downloads\\\\XDVioDet-master\\\\XDVioDet-master\\\\tratrain\\\\Hear.Me.2009__#01-21-00_01-26-08_label_A.npy\\n', 'C:\\\\Users\\\\pradh\\\\Downloads\\\\XDVioDet-master\\\\XDVioDet-master\\\\tratrain\\\\Hear.Me.2009__#01-26-10_01-28-00_label_A.npy\\n', 'C:\\\\Users\\\\pradh\\\\Downloads\\\\XDVioDet-master\\\\XDVioDet-master\\\\tratrain\\\\Hear.Me.2009__#01-30-25_01-33-56_label_A.npy\\n', 'C:\\\\Users\\\\pradh\\\\Downloads\\\\XDVioDet-master\\\\XDVioDet-master\\\\tratrain\\\\Hear.Me.2009__#01-34-18_01-38-11_label_A.npy\\n', 'C:\\\\Users\\\\pradh\\\\Downloads\\\\XDVioDet-master\\\\XDVioDet-master\\\\tratrain\\\\Hear.Me.2009__#01-39-05_01-46-40_label_A.npy\\n', 'C:\\\\Users\\\\pradh\\\\Downloads\\\\XDVioDet-master\\\\XDVioDet-master\\\\tratrain\\\\Hot.Fuzz.2007__#00-02-45_00-05-20_label_A.npy\\n', 'C:\\\\Users\\\\pradh\\\\Downloads\\\\XDVioDet-master\\\\XDVioDet-master\\\\tratrain\\\\Hot.Fuzz.2007__#00-08-11_00-10-43_label_A.npy\\n', 'C:\\\\Users\\\\pradh\\\\Downloads\\\\XDVioDet-master\\\\XDVioDet-master\\\\tratrain\\\\Hot.Fuzz.2007__#00-14-20_00-15-05_label_A.npy\\n', 'C:\\\\Users\\\\pradh\\\\Downloads\\\\XDVioDet-master\\\\XDVioDet-master\\\\tratrain\\\\Hot.Fuzz.2007__#00-45-10_00-51-15_label_A.npy\\n', 'C:\\\\Users\\\\pradh\\\\Downloads\\\\XDVioDet-master\\\\XDVioDet-master\\\\tratrain\\\\Hot.Fuzz.2007__#01-28-58_01-29-28_label_A.npy\\n', 'C:\\\\Users\\\\pradh\\\\Downloads\\\\XDVioDet-master\\\\XDVioDet-master\\\\tratrain\\\\Hot.Fuzz.2007__#01-53-51_01-54-45_label_A.npy\\n', 'C:\\\\Users\\\\pradh\\\\Downloads\\\\XDVioDet-master\\\\XDVioDet-master\\\\tratrain\\\\IP.Man.2.2010__#00-12-46_00-13-46_label_A.npy\\n', 'C:\\\\Users\\\\pradh\\\\Downloads\\\\XDVioDet-master\\\\XDVioDet-master\\\\tratrain\\\\IP.Man.2.2010__#00-29-16_00-30-36_label_A.npy\\n', 'C:\\\\Users\\\\pradh\\\\Downloads\\\\XDVioDet-master\\\\XDVioDet-master\\\\tratrain\\\\IP.Man.2.2010__#00-57-58_00-59-16_label_A.npy\\n', 'C:\\\\Users\\\\pradh\\\\Downloads\\\\XDVioDet-master\\\\XDVioDet-master\\\\tratrain\\\\IP.Man.2.2010__#01-16-59_01-17-19_label_A.npy\\n', 'C:\\\\Users\\\\pradh\\\\Downloads\\\\XDVioDet-master\\\\XDVioDet-master\\\\tratrain\\\\IP.Man.2.2010__#01-19-49_01-20-49_label_A.npy\\n', 'C:\\\\Users\\\\pradh\\\\Downloads\\\\XDVioDet-master\\\\XDVioDet-master\\\\tratrain\\\\IP.Man.2.2010__#01-27-31_01-29-31_label_A.npy\\n', 'C:\\\\Users\\\\pradh\\\\Downloads\\\\XDVioDet-master\\\\XDVioDet-master\\\\tratrain\\\\IP.Man.2.2010__#01-40-31_01-43-41_label_A.npy\\n', 'C:\\\\Users\\\\pradh\\\\Downloads\\\\XDVioDet-master\\\\XDVioDet-master\\\\tratrain\\\\Ip.Man.2008__#00-07-38_00-09-35_label_A.npy\\n', 'C:\\\\Users\\\\pradh\\\\Downloads\\\\XDVioDet-master\\\\XDVioDet-master\\\\tratrain\\\\Ip.Man.2008__#00-21-43_00-23-13_label_A.npy\\n', 'C:\\\\Users\\\\pradh\\\\Downloads\\\\XDVioDet-master\\\\XDVioDet-master\\\\tratrain\\\\Ip.Man.2008__#00-24-28_00-25-21_label_A.npy\\n', 'C:\\\\Users\\\\pradh\\\\Downloads\\\\XDVioDet-master\\\\XDVioDet-master\\\\tratrain\\\\Ip.Man.2008__#00-43-36_00-44-34_label_A.npy\\n', 'C:\\\\Users\\\\pradh\\\\Downloads\\\\XDVioDet-master\\\\XDVioDet-master\\\\tratrain\\\\Ip.Man.2008__#01-13-33_01-14-07_label_A.npy\\n', 'C:\\\\Users\\\\pradh\\\\Downloads\\\\XDVioDet-master\\\\XDVioDet-master\\\\tratrain\\\\Ip.Man.3.2015__#00-02-00_00-02-50_label_A.npy\\n', 'C:\\\\Users\\\\pradh\\\\Downloads\\\\XDVioDet-master\\\\XDVioDet-master\\\\tratrain\\\\Ip.Man.3.2015__#00-05-43_00-07-23_label_A.npy\\n', 'C:\\\\Users\\\\pradh\\\\Downloads\\\\XDVioDet-master\\\\XDVioDet-master\\\\tratrain\\\\Ip.Man.3.2015__#00-11-16_00-12-16_label_A.npy\\n', 'C:\\\\Users\\\\pradh\\\\Downloads\\\\XDVioDet-master\\\\XDVioDet-master\\\\tratrain\\\\Ip.Man.3.2015__#00-29-44_00-31-40_label_A.npy\\n', 'C:\\\\Users\\\\pradh\\\\Downloads\\\\XDVioDet-master\\\\XDVioDet-master\\\\tratrain\\\\Ip.Man.3.2015__#00-55-33_01-00-22_label_A.npy\\n', 'C:\\\\Users\\\\pradh\\\\Downloads\\\\XDVioDet-master\\\\XDVioDet-master\\\\tratrain\\\\Ip.Man.3.2015__#01-11-30_01-11-54_label_A.npy\\n', 'C:\\\\Users\\\\pradh\\\\Downloads\\\\XDVioDet-master\\\\XDVioDet-master\\\\tratrain\\\\Ip.Man.3.2015__#01-18-33_01-19-26_label_A.npy\\n', 'C:\\\\Users\\\\pradh\\\\Downloads\\\\XDVioDet-master\\\\XDVioDet-master\\\\tratrain\\\\Jason.Bourne.2016__#0-05-33_0-07-56_label_A.npy\\n', 'C:\\\\Users\\\\pradh\\\\Downloads\\\\XDVioDet-master\\\\XDVioDet-master\\\\tratrain\\\\Jason.Bourne.2016__#0-10-26_0-12-34_label_A.npy\\n', 'C:\\\\Users\\\\pradh\\\\Downloads\\\\XDVioDet-master\\\\XDVioDet-master\\\\tratrain\\\\Jason.Bourne.2016__#0-34-23_0-36-10_label_A.npy\\n', 'C:\\\\Users\\\\pradh\\\\Downloads\\\\XDVioDet-master\\\\XDVioDet-master\\\\tratrain\\\\Jason.Bourne.2016__#0-36-20_0-37-27_label_A.npy\\n', 'C:\\\\Users\\\\pradh\\\\Downloads\\\\XDVioDet-master\\\\XDVioDet-master\\\\tratrain\\\\Jason.Bourne.2016__#0-38-40_0-40-00_label_A.npy\\n', 'C:\\\\Users\\\\pradh\\\\Downloads\\\\XDVioDet-master\\\\XDVioDet-master\\\\tratrain\\\\Jason.Bourne.2016__#0-47-00_0-49-00_label_A.npy\\n', 'C:\\\\Users\\\\pradh\\\\Downloads\\\\XDVioDet-master\\\\XDVioDet-master\\\\tratrain\\\\Jason.Bourne.2016__#0-55-15_0-57-25_label_A.npy\\n', 'C:\\\\Users\\\\pradh\\\\Downloads\\\\XDVioDet-master\\\\XDVioDet-master\\\\tratrain\\\\Jason.Bourne.2016__#0-57-28_0-58-55_label_A.npy\\n', 'C:\\\\Users\\\\pradh\\\\Downloads\\\\XDVioDet-master\\\\XDVioDet-master\\\\tratrain\\\\Jason.Bourne.2016__#01-16-40_01-18-50_label_A.npy\\n', 'C:\\\\Users\\\\pradh\\\\Downloads\\\\XDVioDet-master\\\\XDVioDet-master\\\\tratrain\\\\Jason.Bourne.2016__#01-24-46_01-25-35_label_A.npy\\n', 'C:\\\\Users\\\\pradh\\\\Downloads\\\\XDVioDet-master\\\\XDVioDet-master\\\\tratrain\\\\Jason.Bourne.2016__#01-27-09_01-29-40_label_A.npy\\n', 'C:\\\\Users\\\\pradh\\\\Downloads\\\\XDVioDet-master\\\\XDVioDet-master\\\\tratrain\\\\Jason.Bourne.2016__#01-48-57_01-54-15_label_A.npy\\n', 'C:\\\\Users\\\\pradh\\\\Downloads\\\\XDVioDet-master\\\\XDVioDet-master\\\\tratrain\\\\Kill.Bill.Vol.1.2003__#0-16-34_0-17-36_label_A.npy\\n', 'C:\\\\Users\\\\pradh\\\\Downloads\\\\XDVioDet-master\\\\XDVioDet-master\\\\tratrain\\\\Kill.Bill.Vol.1.2003__#0-46-00_0-48-55_label_A.npy\\n', 'C:\\\\Users\\\\pradh\\\\Downloads\\\\XDVioDet-master\\\\XDVioDet-master\\\\tratrain\\\\Kill.Bill.Vol.1.2003__#0-50-31_0-58-52_label_A.npy\\n', 'C:\\\\Users\\\\pradh\\\\Downloads\\\\XDVioDet-master\\\\XDVioDet-master\\\\tratrain\\\\Kill.Bill.Vol.1.2003__#00-32-20_00-34-20_label_A.npy\\n', 'C:\\\\Users\\\\pradh\\\\Downloads\\\\XDVioDet-master\\\\XDVioDet-master\\\\tratrain\\\\Kill.Bill.Vol.1.2003__#01-05-33_01-06-42_label_A.npy\\n', 'C:\\\\Users\\\\pradh\\\\Downloads\\\\XDVioDet-master\\\\XDVioDet-master\\\\tratrain\\\\Kill.Bill.Vol.1.2003__#01-10-40_01-12-54_label_A.npy\\n', 'C:\\\\Users\\\\pradh\\\\Downloads\\\\XDVioDet-master\\\\XDVioDet-master\\\\tratrain\\\\Kill.Bill.Vol.1.2003__#01-41-50_01-42-50_label_A.npy\\n', 'C:\\\\Users\\\\pradh\\\\Downloads\\\\XDVioDet-master\\\\XDVioDet-master\\\\tratrain\\\\Kill.Bill.Vol.2.2004__#0-02-00_0-04-00_label_A.npy\\n', 'C:\\\\Users\\\\pradh\\\\Downloads\\\\XDVioDet-master\\\\XDVioDet-master\\\\tratrain\\\\Kill.Bill.Vol.2.2004__#0-05-14_0-06-33_label_A.npy\\n', 'C:\\\\Users\\\\pradh\\\\Downloads\\\\XDVioDet-master\\\\XDVioDet-master\\\\tratrain\\\\Kill.Bill.Vol.2.2004__#0-12-30_0-14-20_label_A.npy\\n', 'C:\\\\Users\\\\pradh\\\\Downloads\\\\XDVioDet-master\\\\XDVioDet-master\\\\tratrain\\\\Kill.Bill.Vol.2.2004__#0-22-40_0-24-00_label_A.npy\\n', 'C:\\\\Users\\\\pradh\\\\Downloads\\\\XDVioDet-master\\\\XDVioDet-master\\\\tratrain\\\\Kill.Bill.Vol.2.2004__#0-44-18_0-49-18_label_A.npy\\n', 'C:\\\\Users\\\\pradh\\\\Downloads\\\\XDVioDet-master\\\\XDVioDet-master\\\\tratrain\\\\Kill.Bill.Vol.2.2004__#01-30-10_01-32-10_label_A.npy\\n', 'C:\\\\Users\\\\pradh\\\\Downloads\\\\XDVioDet-master\\\\XDVioDet-master\\\\tratrain\\\\Kill.Bill.Vol.2.2004__#01-35-10_01-37-10_label_A.npy\\n', 'C:\\\\Users\\\\pradh\\\\Downloads\\\\XDVioDet-master\\\\XDVioDet-master\\\\tratrain\\\\Kingsman.The.Golden.Circle.2017__#00-10-56_00-12-15_label_A.npy\\n', 'C:\\\\Users\\\\pradh\\\\Downloads\\\\XDVioDet-master\\\\XDVioDet-master\\\\tratrain\\\\Kingsman.The.Golden.Circle.2017__#00-17-02_00-18-16_label_A.npy\\n', 'C:\\\\Users\\\\pradh\\\\Downloads\\\\XDVioDet-master\\\\XDVioDet-master\\\\tratrain\\\\Kingsman.The.Golden.Circle.2017__#00-33-32_00-34-34_label_A.npy\\n', 'C:\\\\Users\\\\pradh\\\\Downloads\\\\XDVioDet-master\\\\XDVioDet-master\\\\tratrain\\\\Kingsman.The.Golden.Circle.2017__#00-50-38_00-51-42_label_A.npy\\n', 'C:\\\\Users\\\\pradh\\\\Downloads\\\\XDVioDet-master\\\\XDVioDet-master\\\\tratrain\\\\Kingsman.The.Golden.Circle.2017__#01-23-29_01-25-11_label_A.npy\\n', 'C:\\\\Users\\\\pradh\\\\Downloads\\\\XDVioDet-master\\\\XDVioDet-master\\\\tratrain\\\\Kingsman.The.Golden.Circle.2017__#01-37-48_01-39-14_label_A.npy\\n', 'C:\\\\Users\\\\pradh\\\\Downloads\\\\XDVioDet-master\\\\XDVioDet-master\\\\tratrain\\\\Kingsman.The.Golden.Circle.2017__#01-41-40_01-43-21_label_A.npy\\n', 'C:\\\\Users\\\\pradh\\\\Downloads\\\\XDVioDet-master\\\\XDVioDet-master\\\\tratrain\\\\Kingsman.The.Golden.Circle.2017__#02-12-27_02-14-03_label_A.npy\\n', 'C:\\\\Users\\\\pradh\\\\Downloads\\\\XDVioDet-master\\\\XDVioDet-master\\\\tratrain\\\\Kingsman.The.Secret.Service.2014__#00-03-05_00-03-58_label_A.npy\\n', 'C:\\\\Users\\\\pradh\\\\Downloads\\\\XDVioDet-master\\\\XDVioDet-master\\\\tratrain\\\\Kingsman.The.Secret.Service.2014__#00-08-39_00-09-42_label_A.npy\\n', 'C:\\\\Users\\\\pradh\\\\Downloads\\\\XDVioDet-master\\\\XDVioDet-master\\\\tratrain\\\\Kingsman.The.Secret.Service.2014__#00-30-40_00-31-45_label_A.npy\\n', 'C:\\\\Users\\\\pradh\\\\Downloads\\\\XDVioDet-master\\\\XDVioDet-master\\\\tratrain\\\\Kingsman.The.Secret.Service.2014__#01-25-18_01-26-18_label_A.npy\\n', 'C:\\\\Users\\\\pradh\\\\Downloads\\\\XDVioDet-master\\\\XDVioDet-master\\\\tratrain\\\\Law.Abiding.Citizen.2009__#00-03-49_00-10-20_label_A.npy\\n', 'C:\\\\Users\\\\pradh\\\\Downloads\\\\XDVioDet-master\\\\XDVioDet-master\\\\tratrain\\\\Law.Abiding.Citizen.2009__#00-10-50_00-11-50_label_A.npy\\n', 'C:\\\\Users\\\\pradh\\\\Downloads\\\\XDVioDet-master\\\\XDVioDet-master\\\\tratrain\\\\Law.Abiding.Citizen.2009__#00-13-05_00-14-51_label_A.npy\\n', 'C:\\\\Users\\\\pradh\\\\Downloads\\\\XDVioDet-master\\\\XDVioDet-master\\\\tratrain\\\\Law.Abiding.Citizen.2009__#01-14-22_01-14-38_label_A.npy\\n', 'C:\\\\Users\\\\pradh\\\\Downloads\\\\XDVioDet-master\\\\XDVioDet-master\\\\tratrain\\\\Lord.of.War__#00-00-00_00-01-00_label_A.npy\\n', 'C:\\\\Users\\\\pradh\\\\Downloads\\\\XDVioDet-master\\\\XDVioDet-master\\\\tratrain\\\\Lord.of.War__#00-28-20_00-29-08_label_A.npy\\n', 'C:\\\\Users\\\\pradh\\\\Downloads\\\\XDVioDet-master\\\\XDVioDet-master\\\\tratrain\\\\Lord.of.War__#00-29-20_00-30-07_label_A.npy\\n', 'C:\\\\Users\\\\pradh\\\\Downloads\\\\XDVioDet-master\\\\XDVioDet-master\\\\tratrain\\\\Lord.of.War__#01-30-02_01-30-58_label_A.npy\\n', 'C:\\\\Users\\\\pradh\\\\Downloads\\\\XDVioDet-master\\\\XDVioDet-master\\\\tratrain\\\\Lord.of.War__#01-49-07_01-49-58_label_A.npy\\n', 'C:\\\\Users\\\\pradh\\\\Downloads\\\\XDVioDet-master\\\\XDVioDet-master\\\\tratrain\\\\Love.Actually.2003__#00-01-45_00-04-15_label_A.npy\\n', 'C:\\\\Users\\\\pradh\\\\Downloads\\\\XDVioDet-master\\\\XDVioDet-master\\\\tratrain\\\\Love.Actually.2003__#00-04-20_00-06-05_label_A.npy\\n', 'C:\\\\Users\\\\pradh\\\\Downloads\\\\XDVioDet-master\\\\XDVioDet-master\\\\tratrain\\\\Love.Actually.2003__#00-06-37_00-08-22_label_A.npy\\n', 'C:\\\\Users\\\\pradh\\\\Downloads\\\\XDVioDet-master\\\\XDVioDet-master\\\\tratrain\\\\Love.Actually.2003__#00-08-55_00-10-00_label_A.npy\\n', 'C:\\\\Users\\\\pradh\\\\Downloads\\\\XDVioDet-master\\\\XDVioDet-master\\\\tratrain\\\\Love.Actually.2003__#00-15-10_00-17-27_label_A.npy\\n', 'C:\\\\Users\\\\pradh\\\\Downloads\\\\XDVioDet-master\\\\XDVioDet-master\\\\tratrain\\\\Love.Actually.2003__#00-17-30_00-19-10_label_A.npy\\n', 'C:\\\\Users\\\\pradh\\\\Downloads\\\\XDVioDet-master\\\\XDVioDet-master\\\\tratrain\\\\Love.Actually.2003__#00-20-35_00-21-06_label_A.npy\\n', 'C:\\\\Users\\\\pradh\\\\Downloads\\\\XDVioDet-master\\\\XDVioDet-master\\\\tratrain\\\\Love.Actually.2003__#00-21-59_00-24-04_label_A.npy\\n', 'C:\\\\Users\\\\pradh\\\\Downloads\\\\XDVioDet-master\\\\XDVioDet-master\\\\tratrain\\\\Love.Actually.2003__#00-25-20_00-29-40_label_A.npy\\n', 'C:\\\\Users\\\\pradh\\\\Downloads\\\\XDVioDet-master\\\\XDVioDet-master\\\\tratrain\\\\Love.Actually.2003__#00-30-50_00-32-31_label_A.npy\\n', 'C:\\\\Users\\\\pradh\\\\Downloads\\\\XDVioDet-master\\\\XDVioDet-master\\\\tratrain\\\\Love.Actually.2003__#00-33-52_00-38-31_label_A.npy\\n', 'C:\\\\Users\\\\pradh\\\\Downloads\\\\XDVioDet-master\\\\XDVioDet-master\\\\tratrain\\\\Love.Actually.2003__#00-38-52_00-40-31_label_A.npy\\n', 'C:\\\\Users\\\\pradh\\\\Downloads\\\\XDVioDet-master\\\\XDVioDet-master\\\\tratrain\\\\Love.Actually.2003__#00-40-52_00-43-31_label_A.npy\\n', 'C:\\\\Users\\\\pradh\\\\Downloads\\\\XDVioDet-master\\\\XDVioDet-master\\\\tratrain\\\\Love.Actually.2003__#00-43-52_00-45-31_label_A.npy\\n', 'C:\\\\Users\\\\pradh\\\\Downloads\\\\XDVioDet-master\\\\XDVioDet-master\\\\tratrain\\\\Love.Actually.2003__#00-45-40_00-47-30_label_A.npy\\n', 'C:\\\\Users\\\\pradh\\\\Downloads\\\\XDVioDet-master\\\\XDVioDet-master\\\\tratrain\\\\Love.Actually.2003__#00-49-48_00-51-12_label_A.npy\\n', 'C:\\\\Users\\\\pradh\\\\Downloads\\\\XDVioDet-master\\\\XDVioDet-master\\\\tratrain\\\\Love.Actually.2003__#00-56-40_01-02-02_label_A.npy\\n', 'C:\\\\Users\\\\pradh\\\\Downloads\\\\XDVioDet-master\\\\XDVioDet-master\\\\tratrain\\\\Love.Actually.2003__#01-26-10_01-28-00_label_A.npy\\n', 'C:\\\\Users\\\\pradh\\\\Downloads\\\\XDVioDet-master\\\\XDVioDet-master\\\\tratrain\\\\Love.Actually.2003__#01-30-25_01-33-56_label_A.npy\\n', 'C:\\\\Users\\\\pradh\\\\Downloads\\\\XDVioDet-master\\\\XDVioDet-master\\\\tratrain\\\\Love.Actually.2003__#01-47-05_01-54-40_label_A.npy\\n', 'C:\\\\Users\\\\pradh\\\\Downloads\\\\XDVioDet-master\\\\XDVioDet-master\\\\tratrain\\\\Love.Actually.2003__#01-55-05_01-59-40_label_A.npy\\n', 'C:\\\\Users\\\\pradh\\\\Downloads\\\\XDVioDet-master\\\\XDVioDet-master\\\\tratrain\\\\Love.Actually.2003__#02-02-50_02-09-20_label_A.npy\\n', 'C:\\\\Users\\\\pradh\\\\Downloads\\\\XDVioDet-master\\\\XDVioDet-master\\\\tratrain\\\\Love.Death.and.Robots.S01E02__#00-00-59_00-01-37_label_A.npy\\n', 'C:\\\\Users\\\\pradh\\\\Downloads\\\\XDVioDet-master\\\\XDVioDet-master\\\\tratrain\\\\Love.Death.and.Robots.S01E02__#00-02-05_00-03-11_label_A.npy\\n', 'C:\\\\Users\\\\pradh\\\\Downloads\\\\XDVioDet-master\\\\XDVioDet-master\\\\tratrain\\\\Love.Death.and.Robots.S01E02__#00-04-40_00-06-30_label_A.npy\\n', 'C:\\\\Users\\\\pradh\\\\Downloads\\\\XDVioDet-master\\\\XDVioDet-master\\\\tratrain\\\\Love.Death.and.Robots.S01E02__#00-08-47_00-10-00_label_A.npy\\n', 'C:\\\\Users\\\\pradh\\\\Downloads\\\\XDVioDet-master\\\\XDVioDet-master\\\\tratrain\\\\Love.Death.and.Robots.S01E04__#00-00-53_00-01-40_label_A.npy\\n', 'C:\\\\Users\\\\pradh\\\\Downloads\\\\XDVioDet-master\\\\XDVioDet-master\\\\tratrain\\\\Love.Death.and.Robots.S01E04__#00-03-55_00-04-30_label_A.npy\\n', 'C:\\\\Users\\\\pradh\\\\Downloads\\\\XDVioDet-master\\\\XDVioDet-master\\\\tratrain\\\\Love.Death.and.Robots.S01E10__#0-02-13_0-03-11_label_A.npy\\n', 'C:\\\\Users\\\\pradh\\\\Downloads\\\\XDVioDet-master\\\\XDVioDet-master\\\\tratrain\\\\Love.Death.and.Robots.S01E10__#0-03-55_0-05-25_label_A.npy\\n', 'C:\\\\Users\\\\pradh\\\\Downloads\\\\XDVioDet-master\\\\XDVioDet-master\\\\tratrain\\\\Love.Death.and.Robots.S01E10__#0-13-02_0-14-20_label_A.npy\\n', 'C:\\\\Users\\\\pradh\\\\Downloads\\\\XDVioDet-master\\\\XDVioDet-master\\\\tratrain\\\\Love.Death.and.Robots.S01E12__#0-00-40_0-05-00_label_A.npy\\n', 'C:\\\\Users\\\\pradh\\\\Downloads\\\\XDVioDet-master\\\\XDVioDet-master\\\\tratrain\\\\Love.Death.and.Robots.S01E16__#0-00-35_0-02-15_label_A.npy\\n', 'C:\\\\Users\\\\pradh\\\\Downloads\\\\XDVioDet-master\\\\XDVioDet-master\\\\tratrain\\\\Love.Death.and.Robots.S01E16__#0-07-15_0-07-35_label_A.npy\\n', 'C:\\\\Users\\\\pradh\\\\Downloads\\\\XDVioDet-master\\\\XDVioDet-master\\\\tratrain\\\\Love.Me.If.You.Dare.2003__#00-01-45_00-04-15_label_A.npy\\n', 'C:\\\\Users\\\\pradh\\\\Downloads\\\\XDVioDet-master\\\\XDVioDet-master\\\\tratrain\\\\Love.Me.If.You.Dare.2003__#00-04-20_00-06-15_label_A.npy\\n', 'C:\\\\Users\\\\pradh\\\\Downloads\\\\XDVioDet-master\\\\XDVioDet-master\\\\tratrain\\\\Love.Me.If.You.Dare.2003__#00-07-45_00-10-48_label_A.npy\\n', 'C:\\\\Users\\\\pradh\\\\Downloads\\\\XDVioDet-master\\\\XDVioDet-master\\\\tratrain\\\\Love.Me.If.You.Dare.2003__#00-16-18_00-17-27_label_A.npy\\n', 'C:\\\\Users\\\\pradh\\\\Downloads\\\\XDVioDet-master\\\\XDVioDet-master\\\\tratrain\\\\Love.Me.If.You.Dare.2003__#00-17-30_00-19-10_label_A.npy\\n', 'C:\\\\Users\\\\pradh\\\\Downloads\\\\XDVioDet-master\\\\XDVioDet-master\\\\tratrain\\\\Love.Me.If.You.Dare.2003__#00-20-35_00-21-55_label_A.npy\\n', 'C:\\\\Users\\\\pradh\\\\Downloads\\\\XDVioDet-master\\\\XDVioDet-master\\\\tratrain\\\\Love.Me.If.You.Dare.2003__#00-23-50_00-24-31_label_A.npy\\n', 'C:\\\\Users\\\\pradh\\\\Downloads\\\\XDVioDet-master\\\\XDVioDet-master\\\\tratrain\\\\Love.Me.If.You.Dare.2003__#00-30-50_00-32-31_label_A.npy\\n', 'C:\\\\Users\\\\pradh\\\\Downloads\\\\XDVioDet-master\\\\XDVioDet-master\\\\tratrain\\\\Love.Me.If.You.Dare.2003__#00-39-25_00-45-16_label_A.npy\\n', 'C:\\\\Users\\\\pradh\\\\Downloads\\\\XDVioDet-master\\\\XDVioDet-master\\\\tratrain\\\\Love.Me.If.You.Dare.2003__#00-46-40_00-48-30_label_A.npy\\n', 'C:\\\\Users\\\\pradh\\\\Downloads\\\\XDVioDet-master\\\\XDVioDet-master\\\\tratrain\\\\Love.Me.If.You.Dare.2003__#00-49-48_00-51-12_label_A.npy\\n', 'C:\\\\Users\\\\pradh\\\\Downloads\\\\XDVioDet-master\\\\XDVioDet-master\\\\tratrain\\\\Love.Me.If.You.Dare.2003__#00-51-55_00-55-16_label_A.npy\\n', 'C:\\\\Users\\\\pradh\\\\Downloads\\\\XDVioDet-master\\\\XDVioDet-master\\\\tratrain\\\\Love.Me.If.You.Dare.2003__#00-59-50_01-01-45_label_A.npy\\n', 'C:\\\\Users\\\\pradh\\\\Downloads\\\\XDVioDet-master\\\\XDVioDet-master\\\\tratrain\\\\Mindhunters.2004__#00-08-50_00-09-45_label_A.npy\\n', 'C:\\\\Users\\\\pradh\\\\Downloads\\\\XDVioDet-master\\\\XDVioDet-master\\\\tratrain\\\\Mindhunters.2004__#00-10-04_00-11-04_label_A.npy\\n', 'C:\\\\Users\\\\pradh\\\\Downloads\\\\XDVioDet-master\\\\XDVioDet-master\\\\tratrain\\\\Mindhunters.2004__#00-38-50_00-39-40_label_A.npy\\n', 'C:\\\\Users\\\\pradh\\\\Downloads\\\\XDVioDet-master\\\\XDVioDet-master\\\\tratrain\\\\Mindhunters.2004__#00-45-50_00-46-28_label_A.npy\\n', 'C:\\\\Users\\\\pradh\\\\Downloads\\\\XDVioDet-master\\\\XDVioDet-master\\\\tratrain\\\\Mindhunters.2004__#00-59-00_00-59-47_label_A.npy\\n', 'C:\\\\Users\\\\pradh\\\\Downloads\\\\XDVioDet-master\\\\XDVioDet-master\\\\tratrain\\\\Mindhunters.2004__#01-09-00_01-09-53_label_A.npy\\n', 'C:\\\\Users\\\\pradh\\\\Downloads\\\\XDVioDet-master\\\\XDVioDet-master\\\\tratrain\\\\Mindhunters.2004__#01-39-00_01-39-52_label_A.npy\\n', 'C:\\\\Users\\\\pradh\\\\Downloads\\\\XDVioDet-master\\\\XDVioDet-master\\\\tratrain\\\\Mission.Impossible.Fallout.2018__#00-00-37_00-01-23_label_A.npy\\n', 'C:\\\\Users\\\\pradh\\\\Downloads\\\\XDVioDet-master\\\\XDVioDet-master\\\\tratrain\\\\Mission.Impossible.Fallout.2018__#00-17-22_00-20-52_label_A.npy\\n', 'C:\\\\Users\\\\pradh\\\\Downloads\\\\XDVioDet-master\\\\XDVioDet-master\\\\tratrain\\\\Mission.Impossible.Fallout.2018__#00-42-06_00-44-09_label_A.npy\\n', 'C:\\\\Users\\\\pradh\\\\Downloads\\\\XDVioDet-master\\\\XDVioDet-master\\\\tratrain\\\\Mission.Impossible.Fallout.2018__#01-10-39_01-16-05_label_A.npy\\n', 'C:\\\\Users\\\\pradh\\\\Downloads\\\\XDVioDet-master\\\\XDVioDet-master\\\\tratrain\\\\Mission.Impossible.Fallout.2018__#01-40-00_01-43-20_label_A.npy\\n', 'C:\\\\Users\\\\pradh\\\\Downloads\\\\XDVioDet-master\\\\XDVioDet-master\\\\tratrain\\\\Mission.Impossible.Fallout.2018__#01-47-30_01-49-50_label_A.npy\\n', 'C:\\\\Users\\\\pradh\\\\Downloads\\\\XDVioDet-master\\\\XDVioDet-master\\\\tratrain\\\\Mission.Impossible.Fallout.2018__#02-15-52_02-18-19_label_A.npy\\n', 'C:\\\\Users\\\\pradh\\\\Downloads\\\\XDVioDet-master\\\\XDVioDet-master\\\\tratrain\\\\Mission.Impossible.Ghost.Protocol.2011__#00-11-35_00-13-35_label_A.npy\\n', 'C:\\\\Users\\\\pradh\\\\Downloads\\\\XDVioDet-master\\\\XDVioDet-master\\\\tratrain\\\\Mission.Impossible.Ghost.Protocol.2011__#00-20-02_00-21-12_label_A.npy\\n', 'C:\\\\Users\\\\pradh\\\\Downloads\\\\XDVioDet-master\\\\XDVioDet-master\\\\tratrain\\\\Mission.Impossible.Ghost.Protocol.2011__#00-23-53_00-25-13_label_A.npy\\n', 'C:\\\\Users\\\\pradh\\\\Downloads\\\\XDVioDet-master\\\\XDVioDet-master\\\\tratrain\\\\Mission.Impossible.Ghost.Protocol.2011__#00-39-30_00-42-10_label_A.npy\\n', 'C:\\\\Users\\\\pradh\\\\Downloads\\\\XDVioDet-master\\\\XDVioDet-master\\\\tratrain\\\\Mission.Impossible.Ghost.Protocol.2011__#00-53-35_00-55-10_label_A.npy\\n', 'C:\\\\Users\\\\pradh\\\\Downloads\\\\XDVioDet-master\\\\XDVioDet-master\\\\tratrain\\\\Mission.Impossible.Ghost.Protocol.2011__#01-11-27_01-12-11_label_A.npy\\n', 'C:\\\\Users\\\\pradh\\\\Downloads\\\\XDVioDet-master\\\\XDVioDet-master\\\\tratrain\\\\Mission.Impossible.Ghost.Protocol.2011__#01-59-29_02-05-30_label_A.npy\\n', 'C:\\\\Users\\\\pradh\\\\Downloads\\\\XDVioDet-master\\\\XDVioDet-master\\\\tratrain\\\\Mission.Impossible.II.2000__#00-01-06_00-03-00_label_A.npy\\n', 'C:\\\\Users\\\\pradh\\\\Downloads\\\\XDVioDet-master\\\\XDVioDet-master\\\\tratrain\\\\Mission.Impossible.II.2000__#00-09-32_00-10-00_label_A.npy\\n', 'C:\\\\Users\\\\pradh\\\\Downloads\\\\XDVioDet-master\\\\XDVioDet-master\\\\tratrain\\\\Mission.Impossible.II.2000__#00-32-03_00-32-56_label_A.npy\\n', 'C:\\\\Users\\\\pradh\\\\Downloads\\\\XDVioDet-master\\\\XDVioDet-master\\\\tratrain\\\\Mission.Impossible.II.2000__#00-45-41_00-48-20_label_A.npy\\n', 'C:\\\\Users\\\\pradh\\\\Downloads\\\\XDVioDet-master\\\\XDVioDet-master\\\\tratrain\\\\Mission.Impossible.II.2000__#01-27-10_01-27-50_label_A.npy\\n', 'C:\\\\Users\\\\pradh\\\\Downloads\\\\XDVioDet-master\\\\XDVioDet-master\\\\tratrain\\\\Mission.Impossible.II.2000__#01-31-47_01-32-54_label_A.npy\\n', 'C:\\\\Users\\\\pradh\\\\Downloads\\\\XDVioDet-master\\\\XDVioDet-master\\\\tratrain\\\\Mission.Impossible.II.2000__#01-56-14_01-58-10_label_A.npy\\n', 'C:\\\\Users\\\\pradh\\\\Downloads\\\\XDVioDet-master\\\\XDVioDet-master\\\\tratrain\\\\Mission.Impossible.III.2006__#00-04-22_00-07-45_label_A.npy\\n', 'C:\\\\Users\\\\pradh\\\\Downloads\\\\XDVioDet-master\\\\XDVioDet-master\\\\tratrain\\\\Mission.Impossible.III.2006__#00-08-23_00-09-50_label_A.npy\\n', 'C:\\\\Users\\\\pradh\\\\Downloads\\\\XDVioDet-master\\\\XDVioDet-master\\\\tratrain\\\\Mission.Impossible.III.2006__#00-28-52_00-30-14_label_A.npy\\n', 'C:\\\\Users\\\\pradh\\\\Downloads\\\\XDVioDet-master\\\\XDVioDet-master\\\\tratrain\\\\Mission.Impossible.III.2006__#00-32-40_00-38-00_label_A.npy\\n', 'C:\\\\Users\\\\pradh\\\\Downloads\\\\XDVioDet-master\\\\XDVioDet-master\\\\tratrain\\\\Mission.Impossible.III.2006__#00-38-25_00-40-07_label_A.npy\\n', 'C:\\\\Users\\\\pradh\\\\Downloads\\\\XDVioDet-master\\\\XDVioDet-master\\\\tratrain\\\\Mission.Impossible.III.2006__#00-42-45_00-42-55_label_A.npy\\n', 'C:\\\\Users\\\\pradh\\\\Downloads\\\\XDVioDet-master\\\\XDVioDet-master\\\\tratrain\\\\Mission.Impossible.III.2006__#01-18-20_01-20-05_label_A.npy\\n', 'C:\\\\Users\\\\pradh\\\\Downloads\\\\XDVioDet-master\\\\XDVioDet-master\\\\tratrain\\\\Mission.Impossible.III.2006__#01-56-50_01-58-50_label_A.npy\\n', 'C:\\\\Users\\\\pradh\\\\Downloads\\\\XDVioDet-master\\\\XDVioDet-master\\\\tratrain\\\\Mission.Impossible.V.Rogue.Nation.2015__#00-06-43_00-09-00_label_A.npy\\n', 'C:\\\\Users\\\\pradh\\\\Downloads\\\\XDVioDet-master\\\\XDVioDet-master\\\\tratrain\\\\Mission.Impossible.V.Rogue.Nation.2015__#00-10-50_00-11-50_label_A.npy\\n', 'C:\\\\Users\\\\pradh\\\\Downloads\\\\XDVioDet-master\\\\XDVioDet-master\\\\tratrain\\\\Mission.Impossible.V.Rogue.Nation.2015__#00-23-00_00-25-22_label_A.npy\\n', 'C:\\\\Users\\\\pradh\\\\Downloads\\\\XDVioDet-master\\\\XDVioDet-master\\\\tratrain\\\\Mission.Impossible.V.Rogue.Nation.2015__#00-29-46_00-31-00_label_A.npy\\n', 'C:\\\\Users\\\\pradh\\\\Downloads\\\\XDVioDet-master\\\\XDVioDet-master\\\\tratrain\\\\Mission.Impossible.V.Rogue.Nation.2015__#00-42-52_00-43-41_label_A.npy\\n', 'C:\\\\Users\\\\pradh\\\\Downloads\\\\XDVioDet-master\\\\XDVioDet-master\\\\tratrain\\\\Mission.Impossible.V.Rogue.Nation.2015__#00-54-17_00-55-28_label_A.npy\\n', 'C:\\\\Users\\\\pradh\\\\Downloads\\\\XDVioDet-master\\\\XDVioDet-master\\\\tratrain\\\\Mission.Impossible.V.Rogue.Nation.2015__#00-58-50_00-59-50_label_A.npy\\n', 'C:\\\\Users\\\\pradh\\\\Downloads\\\\XDVioDet-master\\\\XDVioDet-master\\\\tratrain\\\\Mission.Impossible.V.Rogue.Nation.2015__#01-20-40_01-21-40_label_A.npy\\n', 'C:\\\\Users\\\\pradh\\\\Downloads\\\\XDVioDet-master\\\\XDVioDet-master\\\\tratrain\\\\Mission.Impossible.V.Rogue.Nation.2015__#01-21-50_01-24-39_label_A.npy\\n', 'C:\\\\Users\\\\pradh\\\\Downloads\\\\XDVioDet-master\\\\XDVioDet-master\\\\tratrain\\\\Mission.Impossible.V.Rogue.Nation.2015__#02-01-35_02-04-40_label_A.npy\\n', 'C:\\\\Users\\\\pradh\\\\Downloads\\\\XDVioDet-master\\\\XDVioDet-master\\\\tratrain\\\\New.Kids.Turbo.2010__#00-01-11_00-02-07_label_A.npy\\n', 'C:\\\\Users\\\\pradh\\\\Downloads\\\\XDVioDet-master\\\\XDVioDet-master\\\\tratrain\\\\New.Kids.Turbo.2010__#00-04-24_00-06-30_label_A.npy\\n', 'C:\\\\Users\\\\pradh\\\\Downloads\\\\XDVioDet-master\\\\XDVioDet-master\\\\tratrain\\\\New.Kids.Turbo.2010__#00-14-30_00-15-30_label_A.npy\\n', 'C:\\\\Users\\\\pradh\\\\Downloads\\\\XDVioDet-master\\\\XDVioDet-master\\\\tratrain\\\\New.Kids.Turbo.2010__#00-32-58_00-33-59_label_A.npy\\n', 'C:\\\\Users\\\\pradh\\\\Downloads\\\\XDVioDet-master\\\\XDVioDet-master\\\\tratrain\\\\New.Kids.Turbo.2010__#00-46-23_00-47-55_label_A.npy\\n', 'C:\\\\Users\\\\pradh\\\\Downloads\\\\XDVioDet-master\\\\XDVioDet-master\\\\tratrain\\\\New.Kids.Turbo.2010__#00-58-34_00-59-04_label_A.npy\\n', 'C:\\\\Users\\\\pradh\\\\Downloads\\\\XDVioDet-master\\\\XDVioDet-master\\\\tratrain\\\\New.Kids.Turbo.2010__#01-17-50_01-19-15_label_A.npy\\n', 'C:\\\\Users\\\\pradh\\\\Downloads\\\\XDVioDet-master\\\\XDVioDet-master\\\\tratrain\\\\NewAdd.Dream.Team.8__#1_label_A.npy\\n', 'C:\\\\Users\\\\pradh\\\\Downloads\\\\XDVioDet-master\\\\XDVioDet-master\\\\tratrain\\\\NewAdd.NBA-2017.12.25_CLE@GSW__#00-00-00_00-21-00_label_A.npy\\n', 'C:\\\\Users\\\\pradh\\\\Downloads\\\\XDVioDet-master\\\\XDVioDet-master\\\\tratrain\\\\NewAdd.NBA-2017.12.25_CLE@GSW__#00-21-00_00-44-20_label_A.npy\\n', 'C:\\\\Users\\\\pradh\\\\Downloads\\\\XDVioDet-master\\\\XDVioDet-master\\\\tratrain\\\\NewAdd.NBA-2017.12.25_CLE@GSW__#00-44-20_01-08-34_label_A.npy\\n', 'C:\\\\Users\\\\pradh\\\\Downloads\\\\XDVioDet-master\\\\XDVioDet-master\\\\tratrain\\\\NewAdd.NBA-2017.12.25_CLE@GSW__#01-08-34_01-40-09_label_A.npy\\n', 'C:\\\\Users\\\\pradh\\\\Downloads\\\\XDVioDet-master\\\\XDVioDet-master\\\\tratrain\\\\NewAdd.xidianuniversity__#1_label_A.npy\\n', 'C:\\\\Users\\\\pradh\\\\Downloads\\\\XDVioDet-master\\\\XDVioDet-master\\\\tratrain\\\\One.Day.2011__#00-01-45_00-02-50_label_A.npy\\n', 'C:\\\\Users\\\\pradh\\\\Downloads\\\\XDVioDet-master\\\\XDVioDet-master\\\\tratrain\\\\One.Day.2011__#00-03-00_00-04-05_label_A.npy\\n', 'C:\\\\Users\\\\pradh\\\\Downloads\\\\XDVioDet-master\\\\XDVioDet-master\\\\tratrain\\\\One.Day.2011__#00-06-52_00-08-22_label_A.npy\\n', 'C:\\\\Users\\\\pradh\\\\Downloads\\\\XDVioDet-master\\\\XDVioDet-master\\\\tratrain\\\\One.Day.2011__#00-08-55_00-10-50_label_A.npy\\n', 'C:\\\\Users\\\\pradh\\\\Downloads\\\\XDVioDet-master\\\\XDVioDet-master\\\\tratrain\\\\One.Day.2011__#00-12-45_00-15-08_label_A.npy\\n', 'C:\\\\Users\\\\pradh\\\\Downloads\\\\XDVioDet-master\\\\XDVioDet-master\\\\tratrain\\\\One.Day.2011__#00-16-18_00-18-09_label_A.npy\\n', 'C:\\\\Users\\\\pradh\\\\Downloads\\\\XDVioDet-master\\\\XDVioDet-master\\\\tratrain\\\\One.Day.2011__#00-20-35_00-23-06_label_A.npy\\n', 'C:\\\\Users\\\\pradh\\\\Downloads\\\\XDVioDet-master\\\\XDVioDet-master\\\\tratrain\\\\One.Day.2011__#00-25-20_00-28-20_label_A.npy\\n', 'C:\\\\Users\\\\pradh\\\\Downloads\\\\XDVioDet-master\\\\XDVioDet-master\\\\tratrain\\\\One.Day.2011__#00-29-50_00-32-05_label_A.npy\\n', 'C:\\\\Users\\\\pradh\\\\Downloads\\\\XDVioDet-master\\\\XDVioDet-master\\\\tratrain\\\\One.Day.2011__#00-32-07_00-35-00_label_A.npy\\n', 'C:\\\\Users\\\\pradh\\\\Downloads\\\\XDVioDet-master\\\\XDVioDet-master\\\\tratrain\\\\One.Day.2011__#00-35-50_00-40-31_label_A.npy\\n', 'C:\\\\Users\\\\pradh\\\\Downloads\\\\XDVioDet-master\\\\XDVioDet-master\\\\tratrain\\\\One.Day.2011__#00-40-52_00-42-01_label_A.npy\\n', 'C:\\\\Users\\\\pradh\\\\Downloads\\\\XDVioDet-master\\\\XDVioDet-master\\\\tratrain\\\\One.Day.2011__#00-42-52_00-45-31_label_A.npy\\n', 'C:\\\\Users\\\\pradh\\\\Downloads\\\\XDVioDet-master\\\\XDVioDet-master\\\\tratrain\\\\One.Day.2011__#00-45-40_00-47-30_label_A.npy\\n', 'C:\\\\Users\\\\pradh\\\\Downloads\\\\XDVioDet-master\\\\XDVioDet-master\\\\tratrain\\\\One.Day.2011__#00-58-18_01-02-30_label_A.npy\\n', 'C:\\\\Users\\\\pradh\\\\Downloads\\\\XDVioDet-master\\\\XDVioDet-master\\\\tratrain\\\\One.Day.2011__#01-07-50_01-14-05_label_A.npy\\n', 'C:\\\\Users\\\\pradh\\\\Downloads\\\\XDVioDet-master\\\\XDVioDet-master\\\\tratrain\\\\One.Day.2011__#01-14-30_01-16-59_label_A.npy\\n', 'C:\\\\Users\\\\pradh\\\\Downloads\\\\XDVioDet-master\\\\XDVioDet-master\\\\tratrain\\\\One.Day.2011__#01-17-00_01-21-50_label_A.npy\\n', 'C:\\\\Users\\\\pradh\\\\Downloads\\\\XDVioDet-master\\\\XDVioDet-master\\\\tratrain\\\\One.Day.2011__#01-22-00_01-26-14_label_A.npy\\n', 'C:\\\\Users\\\\pradh\\\\Downloads\\\\XDVioDet-master\\\\XDVioDet-master\\\\tratrain\\\\One.Day.2011__#01-31-56_01-38-14_label_A.npy\\n', 'C:\\\\Users\\\\pradh\\\\Downloads\\\\XDVioDet-master\\\\XDVioDet-master\\\\tratrain\\\\One.Day.2011__#01-38-56_01-41-14_label_A.npy\\n', 'C:\\\\Users\\\\pradh\\\\Downloads\\\\XDVioDet-master\\\\XDVioDet-master\\\\tratrain\\\\Operation.Red.Sea.2018__#0-13-50_0-16-05_label_A.npy\\n', 'C:\\\\Users\\\\pradh\\\\Downloads\\\\XDVioDet-master\\\\XDVioDet-master\\\\tratrain\\\\Operation.Red.Sea.2018__#0-19-56_0-20-58_label_A.npy\\n', 'C:\\\\Users\\\\pradh\\\\Downloads\\\\XDVioDet-master\\\\XDVioDet-master\\\\tratrain\\\\Operation.Red.Sea.2018__#0-23-37_0-24-25_label_A.npy\\n', 'C:\\\\Users\\\\pradh\\\\Downloads\\\\XDVioDet-master\\\\XDVioDet-master\\\\tratrain\\\\Operation.Red.Sea.2018__#0-47-28_0-48-15_label_A.npy\\n', 'C:\\\\Users\\\\pradh\\\\Downloads\\\\XDVioDet-master\\\\XDVioDet-master\\\\tratrain\\\\Operation.Red.Sea.2018__#02-13-56_02-14-21_label_A.npy\\n', 'C:\\\\Users\\\\pradh\\\\Downloads\\\\XDVioDet-master\\\\XDVioDet-master\\\\tratrain\\\\Operation.Red.Sea.2018__#02-14-39_02-15-09_label_A.npy\\n', 'C:\\\\Users\\\\pradh\\\\Downloads\\\\XDVioDet-master\\\\XDVioDet-master\\\\tratrain\\\\Quantum.Of.Solace.2008__#00-15-09_00-17-47_label_A.npy\\n', 'C:\\\\Users\\\\pradh\\\\Downloads\\\\XDVioDet-master\\\\XDVioDet-master\\\\tratrain\\\\Quantum.Of.Solace.2008__#00-17-50_00-18-46_label_A.npy\\n', 'C:\\\\Users\\\\pradh\\\\Downloads\\\\XDVioDet-master\\\\XDVioDet-master\\\\tratrain\\\\Quantum.Of.Solace.2008__#00-22-53_00-29-20_label_A.npy\\n', 'C:\\\\Users\\\\pradh\\\\Downloads\\\\XDVioDet-master\\\\XDVioDet-master\\\\tratrain\\\\Quantum.Of.Solace.2008__#00-33-42_00-36-22_label_A.npy\\n', 'C:\\\\Users\\\\pradh\\\\Downloads\\\\XDVioDet-master\\\\XDVioDet-master\\\\tratrain\\\\Quantum.Of.Solace.2008__#00-56-59_00-58-54_label_A.npy\\n', 'C:\\\\Users\\\\pradh\\\\Downloads\\\\XDVioDet-master\\\\XDVioDet-master\\\\tratrain\\\\Quantum.Of.Solace.2008__#01-12-38_01-15-48_label_A.npy\\n', 'C:\\\\Users\\\\pradh\\\\Downloads\\\\XDVioDet-master\\\\XDVioDet-master\\\\tratrain\\\\Quantum.Of.Solace.2008__#01-25-15_01-26-05_label_A.npy\\n', 'C:\\\\Users\\\\pradh\\\\Downloads\\\\XDVioDet-master\\\\XDVioDet-master\\\\tratrain\\\\Quantum.Of.Solace.2008__#01-36-08_01-38-00_label_A.npy\\n', 'C:\\\\Users\\\\pradh\\\\Downloads\\\\XDVioDet-master\\\\XDVioDet-master\\\\tratrain\\\\Quantum.Of.Solace.2008__#01-40-09_01-41-35_label_A.npy\\n', 'C:\\\\Users\\\\pradh\\\\Downloads\\\\XDVioDet-master\\\\XDVioDet-master\\\\tratrain\\\\Rush.Hour.1998.BluRay__#00-04-03_00-05-26_label_A.npy\\n', 'C:\\\\Users\\\\pradh\\\\Downloads\\\\XDVioDet-master\\\\XDVioDet-master\\\\tratrain\\\\Rush.Hour.1998.BluRay__#00-09-35_00-10-55_label_A.npy\\n', 'C:\\\\Users\\\\pradh\\\\Downloads\\\\XDVioDet-master\\\\XDVioDet-master\\\\tratrain\\\\Rush.Hour.1998.BluRay__#00-13-14_00-14-40_label_A.npy\\n', 'C:\\\\Users\\\\pradh\\\\Downloads\\\\XDVioDet-master\\\\XDVioDet-master\\\\tratrain\\\\Rush.Hour.1998.BluRay__#00-15-18_00-17-08_label_A.npy\\n', 'C:\\\\Users\\\\pradh\\\\Downloads\\\\XDVioDet-master\\\\XDVioDet-master\\\\tratrain\\\\Rush.Hour.1998.BluRay__#00-20-03_00-22-55_label_A.npy\\n', 'C:\\\\Users\\\\pradh\\\\Downloads\\\\XDVioDet-master\\\\XDVioDet-master\\\\tratrain\\\\Rush.Hour.1998.BluRay__#00-49-15_00-51-10_label_A.npy\\n', 'C:\\\\Users\\\\pradh\\\\Downloads\\\\XDVioDet-master\\\\XDVioDet-master\\\\tratrain\\\\Rush.Hour.1998.BluRay__#00-51-12_00-53-44_label_A.npy\\n', 'C:\\\\Users\\\\pradh\\\\Downloads\\\\XDVioDet-master\\\\XDVioDet-master\\\\tratrain\\\\Rush.Hour.1998.BluRay__#00-55-24_00-58-47_label_A.npy\\n', 'C:\\\\Users\\\\pradh\\\\Downloads\\\\XDVioDet-master\\\\XDVioDet-master\\\\tratrain\\\\Rush.Hour.1998.BluRay__#01-06-07_01-08-37_label_A.npy\\n', 'C:\\\\Users\\\\pradh\\\\Downloads\\\\XDVioDet-master\\\\XDVioDet-master\\\\tratrain\\\\Rush.Hour.1998.BluRay__#01-13-13_01-16-00_label_A.npy\\n', 'C:\\\\Users\\\\pradh\\\\Downloads\\\\XDVioDet-master\\\\XDVioDet-master\\\\tratrain\\\\Rush.Hour.1998.BluRay__#01-29-16_01-32-06_label_A.npy\\n', 'C:\\\\Users\\\\pradh\\\\Downloads\\\\XDVioDet-master\\\\XDVioDet-master\\\\tratrain\\\\Rush.Hour.3.2007.BluRay__#00-09-30_00-12-00_label_A.npy\\n', 'C:\\\\Users\\\\pradh\\\\Downloads\\\\XDVioDet-master\\\\XDVioDet-master\\\\tratrain\\\\Rush.Hour.3.2007.BluRay__#00-25-55_00-27-00_label_A.npy\\n', 'C:\\\\Users\\\\pradh\\\\Downloads\\\\XDVioDet-master\\\\XDVioDet-master\\\\tratrain\\\\Rush.Hour.3.2007.BluRay__#00-42-02_00-47-43_label_A.npy\\n', 'C:\\\\Users\\\\pradh\\\\Downloads\\\\XDVioDet-master\\\\XDVioDet-master\\\\tratrain\\\\Rush.Hour.3.2007.BluRay__#00-55-12_00-58-10_label_A.npy\\n', 'C:\\\\Users\\\\pradh\\\\Downloads\\\\XDVioDet-master\\\\XDVioDet-master\\\\tratrain\\\\Rush.Hour.3.2007.BluRay__#01-21-29_01-22-07_label_A.npy\\n', 'C:\\\\Users\\\\pradh\\\\Downloads\\\\XDVioDet-master\\\\XDVioDet-master\\\\tratrain\\\\Salt.2010__#00-19-42_00-20-30_label_A.npy\\n', 'C:\\\\Users\\\\pradh\\\\Downloads\\\\XDVioDet-master\\\\XDVioDet-master\\\\tratrain\\\\Salt.2010__#00-31-00_00-32-01_label_A.npy\\n', 'C:\\\\Users\\\\pradh\\\\Downloads\\\\XDVioDet-master\\\\XDVioDet-master\\\\tratrain\\\\Salt.2010__#00-38-13_00-39-13_label_A.npy\\n', 'C:\\\\Users\\\\pradh\\\\Downloads\\\\XDVioDet-master\\\\XDVioDet-master\\\\tratrain\\\\Salt.2010__#00-40-10_00-42-22_label_A.npy\\n', 'C:\\\\Users\\\\pradh\\\\Downloads\\\\XDVioDet-master\\\\XDVioDet-master\\\\tratrain\\\\Salt.2010__#00-54-22_00-55-02_label_A.npy\\n', 'C:\\\\Users\\\\pradh\\\\Downloads\\\\XDVioDet-master\\\\XDVioDet-master\\\\tratrain\\\\Salt.2010__#00-57-55_01-01-01_label_A.npy\\n', 'C:\\\\Users\\\\pradh\\\\Downloads\\\\XDVioDet-master\\\\XDVioDet-master\\\\tratrain\\\\Salt.2010__#01-08-26_01-09-42_label_A.npy\\n', 'C:\\\\Users\\\\pradh\\\\Downloads\\\\XDVioDet-master\\\\XDVioDet-master\\\\tratrain\\\\Salt.2010__#01-10-30_01-12-00_label_A.npy\\n', 'C:\\\\Users\\\\pradh\\\\Downloads\\\\XDVioDet-master\\\\XDVioDet-master\\\\tratrain\\\\Salt.2010__#01-18-20_01-19-08_label_A.npy\\n', 'C:\\\\Users\\\\pradh\\\\Downloads\\\\XDVioDet-master\\\\XDVioDet-master\\\\tratrain\\\\Salt.2010__#01-23-40_01-25-00_label_A.npy\\n', 'C:\\\\Users\\\\pradh\\\\Downloads\\\\XDVioDet-master\\\\XDVioDet-master\\\\tratrain\\\\Saving.Private.Ryan.1998__#00-01-26_00-04-07_label_A.npy\\n', 'C:\\\\Users\\\\pradh\\\\Downloads\\\\XDVioDet-master\\\\XDVioDet-master\\\\tratrain\\\\Saving.Private.Ryan.1998__#00-28-42_00-31-21_label_A.npy\\n', 'C:\\\\Users\\\\pradh\\\\Downloads\\\\XDVioDet-master\\\\XDVioDet-master\\\\tratrain\\\\Saving.Private.Ryan.1998__#00-31-27_00-33-12_label_A.npy\\n', 'C:\\\\Users\\\\pradh\\\\Downloads\\\\XDVioDet-master\\\\XDVioDet-master\\\\tratrain\\\\Saving.Private.Ryan.1998__#00-33-15_00-36-11_label_A.npy\\n', 'C:\\\\Users\\\\pradh\\\\Downloads\\\\XDVioDet-master\\\\XDVioDet-master\\\\tratrain\\\\Saving.Private.Ryan.1998__#00-36-27_00-38-27_label_A.npy\\n', 'C:\\\\Users\\\\pradh\\\\Downloads\\\\XDVioDet-master\\\\XDVioDet-master\\\\tratrain\\\\Saving.Private.Ryan.1998__#00-41-55_00-45-45_label_A.npy\\n', 'C:\\\\Users\\\\pradh\\\\Downloads\\\\XDVioDet-master\\\\XDVioDet-master\\\\tratrain\\\\Saving.Private.Ryan.1998__#01-00-44_01-03-44_label_A.npy\\n', 'C:\\\\Users\\\\pradh\\\\Downloads\\\\XDVioDet-master\\\\XDVioDet-master\\\\tratrain\\\\Saving.Private.Ryan.1998__#01-06-35_01-13-13_label_A.npy\\n', 'C:\\\\Users\\\\pradh\\\\Downloads\\\\XDVioDet-master\\\\XDVioDet-master\\\\tratrain\\\\Saving.Private.Ryan.1998__#02-39-02_02-42-32_label_A.npy\\n', 'C:\\\\Users\\\\pradh\\\\Downloads\\\\XDVioDet-master\\\\XDVioDet-master\\\\tratrain\\\\Shoot.Em.Up.2007__#00-12-27_00-13-48_label_A.npy\\n', 'C:\\\\Users\\\\pradh\\\\Downloads\\\\XDVioDet-master\\\\XDVioDet-master\\\\tratrain\\\\Shoot.Em.Up.2007__#00-41-32_00-43-32_label_A.npy\\n', 'C:\\\\Users\\\\pradh\\\\Downloads\\\\XDVioDet-master\\\\XDVioDet-master\\\\tratrain\\\\Shoot.Em.Up.2007__#00-47-30_00-49-40_label_A.npy\\n', 'C:\\\\Users\\\\pradh\\\\Downloads\\\\XDVioDet-master\\\\XDVioDet-master\\\\tratrain\\\\Shoot.Em.Up.2007__#01-03-21_01-04-29_label_A.npy\\n', 'C:\\\\Users\\\\pradh\\\\Downloads\\\\XDVioDet-master\\\\XDVioDet-master\\\\tratrain\\\\Shoot.Em.Up.2007__#01-16-49_01-18-44_label_A.npy\\n', 'C:\\\\Users\\\\pradh\\\\Downloads\\\\XDVioDet-master\\\\XDVioDet-master\\\\tratrain\\\\Shoplifters.2018__#00-01-45_00-02-15_label_A.npy\\n', 'C:\\\\Users\\\\pradh\\\\Downloads\\\\XDVioDet-master\\\\XDVioDet-master\\\\tratrain\\\\Shoplifters.2018__#00-04-20_00-05-35_label_A.npy\\n', 'C:\\\\Users\\\\pradh\\\\Downloads\\\\XDVioDet-master\\\\XDVioDet-master\\\\tratrain\\\\Shoplifters.2018__#00-05-52_00-08-22_label_A.npy\\n', 'C:\\\\Users\\\\pradh\\\\Downloads\\\\XDVioDet-master\\\\XDVioDet-master\\\\tratrain\\\\Shoplifters.2018__#00-08-55_00-10-50_label_A.npy\\n', 'C:\\\\Users\\\\pradh\\\\Downloads\\\\XDVioDet-master\\\\XDVioDet-master\\\\tratrain\\\\Shoplifters.2018__#00-11-00_00-15-08_label_A.npy\\n', 'C:\\\\Users\\\\pradh\\\\Downloads\\\\XDVioDet-master\\\\XDVioDet-master\\\\tratrain\\\\Shoplifters.2018__#00-16-18_00-17-27_label_A.npy\\n', 'C:\\\\Users\\\\pradh\\\\Downloads\\\\XDVioDet-master\\\\XDVioDet-master\\\\tratrain\\\\Shoplifters.2018__#00-20-35_00-23-06_label_A.npy\\n', 'C:\\\\Users\\\\pradh\\\\Downloads\\\\XDVioDet-master\\\\XDVioDet-master\\\\tratrain\\\\Shoplifters.2018__#00-23-50_00-24-31_label_A.npy\\n', 'C:\\\\Users\\\\pradh\\\\Downloads\\\\XDVioDet-master\\\\XDVioDet-master\\\\tratrain\\\\Shoplifters.2018__#00-25-20_00-27-20_label_A.npy\\n', 'C:\\\\Users\\\\pradh\\\\Downloads\\\\XDVioDet-master\\\\XDVioDet-master\\\\tratrain\\\\Shoplifters.2018__#00-30-50_00-32-31_label_A.npy\\n', 'C:\\\\Users\\\\pradh\\\\Downloads\\\\XDVioDet-master\\\\XDVioDet-master\\\\tratrain\\\\Shoplifters.2018__#00-33-52_00-38-31_label_A.npy\\n', 'C:\\\\Users\\\\pradh\\\\Downloads\\\\XDVioDet-master\\\\XDVioDet-master\\\\tratrain\\\\Shoplifters.2018__#00-38-52_00-40-31_label_A.npy\\n', 'C:\\\\Users\\\\pradh\\\\Downloads\\\\XDVioDet-master\\\\XDVioDet-master\\\\tratrain\\\\Shoplifters.2018__#00-40-52_00-42-31_label_A.npy\\n', 'C:\\\\Users\\\\pradh\\\\Downloads\\\\XDVioDet-master\\\\XDVioDet-master\\\\tratrain\\\\Shoplifters.2018__#00-42-52_00-45-31_label_A.npy\\n', 'C:\\\\Users\\\\pradh\\\\Downloads\\\\XDVioDet-master\\\\XDVioDet-master\\\\tratrain\\\\Shoplifters.2018__#00-45-40_00-47-30_label_A.npy\\n', 'C:\\\\Users\\\\pradh\\\\Downloads\\\\XDVioDet-master\\\\XDVioDet-master\\\\tratrain\\\\Shoplifters.2018__#00-49-48_00-51-12_label_A.npy\\n', 'C:\\\\Users\\\\pradh\\\\Downloads\\\\XDVioDet-master\\\\XDVioDet-master\\\\tratrain\\\\Shoplifters.2018__#00-51-55_00-55-16_label_A.npy\\n', 'C:\\\\Users\\\\pradh\\\\Downloads\\\\XDVioDet-master\\\\XDVioDet-master\\\\tratrain\\\\Shoplifters.2018__#00-56-40_00-58-00_label_A.npy\\n', 'C:\\\\Users\\\\pradh\\\\Downloads\\\\XDVioDet-master\\\\XDVioDet-master\\\\tratrain\\\\Shoplifters.2018__#01-01-18_01-03-10_label_A.npy\\n', 'C:\\\\Users\\\\pradh\\\\Downloads\\\\XDVioDet-master\\\\XDVioDet-master\\\\tratrain\\\\Shoplifters.2018__#01-07-30_01-16-59_label_A.npy\\n', 'C:\\\\Users\\\\pradh\\\\Downloads\\\\XDVioDet-master\\\\XDVioDet-master\\\\tratrain\\\\Shoplifters.2018__#01-17-00_01-19-40_label_A.npy\\n', 'C:\\\\Users\\\\pradh\\\\Downloads\\\\XDVioDet-master\\\\XDVioDet-master\\\\tratrain\\\\Shoplifters.2018__#01-21-00_01-26-08_label_A.npy\\n', 'C:\\\\Users\\\\pradh\\\\Downloads\\\\XDVioDet-master\\\\XDVioDet-master\\\\tratrain\\\\Shoplifters.2018__#01-26-10_01-28-00_label_A.npy\\n', 'C:\\\\Users\\\\pradh\\\\Downloads\\\\XDVioDet-master\\\\XDVioDet-master\\\\tratrain\\\\Shoplifters.2018__#01-30-25_01-33-56_label_A.npy\\n', 'C:\\\\Users\\\\pradh\\\\Downloads\\\\XDVioDet-master\\\\XDVioDet-master\\\\tratrain\\\\Shoplifters.2018__#01-34-18_01-38-11_label_A.npy\\n', 'C:\\\\Users\\\\pradh\\\\Downloads\\\\XDVioDet-master\\\\XDVioDet-master\\\\tratrain\\\\Shoplifters.2018__#01-39-05_01-46-40_label_A.npy\\n', 'C:\\\\Users\\\\pradh\\\\Downloads\\\\XDVioDet-master\\\\XDVioDet-master\\\\tratrain\\\\Shoplifters.2018__#01-47-40_01-49-53_label_A.npy\\n', 'C:\\\\Users\\\\pradh\\\\Downloads\\\\XDVioDet-master\\\\XDVioDet-master\\\\tratrain\\\\Shoplifters.2018__#01-50-20_01-56-30_label_A.npy\\n', 'C:\\\\Users\\\\pradh\\\\Downloads\\\\XDVioDet-master\\\\XDVioDet-master\\\\tratrain\\\\Sin.City.2005__#0-00-30_0-02-35_label_A.npy\\n', 'C:\\\\Users\\\\pradh\\\\Downloads\\\\XDVioDet-master\\\\XDVioDet-master\\\\tratrain\\\\Sin.City.2005__#0-05-10_0-06-07_label_A.npy\\n', 'C:\\\\Users\\\\pradh\\\\Downloads\\\\XDVioDet-master\\\\XDVioDet-master\\\\tratrain\\\\Sin.City.2005__#0-39-32_0-40-12_label_A.npy\\n', 'C:\\\\Users\\\\pradh\\\\Downloads\\\\XDVioDet-master\\\\XDVioDet-master\\\\tratrain\\\\Sin.City.2005__#0-45-28_0-46-13_label_A.npy\\n', 'C:\\\\Users\\\\pradh\\\\Downloads\\\\XDVioDet-master\\\\XDVioDet-master\\\\tratrain\\\\Sin.City.2005__#01-34-55_01-36-09_label_A.npy\\n', 'C:\\\\Users\\\\pradh\\\\Downloads\\\\XDVioDet-master\\\\XDVioDet-master\\\\tratrain\\\\Sin.City.2005__#01-55-42_01-56-03_label_A.npy\\n', 'C:\\\\Users\\\\pradh\\\\Downloads\\\\XDVioDet-master\\\\XDVioDet-master\\\\tratrain\\\\Sin.City.2005__#01-56-49_01-57-35_label_A.npy\\n', 'C:\\\\Users\\\\pradh\\\\Downloads\\\\XDVioDet-master\\\\XDVioDet-master\\\\tratrain\\\\Skyfall.2012__#00-17-25_00-19-35_label_A.npy\\n', 'C:\\\\Users\\\\pradh\\\\Downloads\\\\XDVioDet-master\\\\XDVioDet-master\\\\tratrain\\\\Skyfall.2012__#00-22-26_00-22-48_label_A.npy\\n', 'C:\\\\Users\\\\pradh\\\\Downloads\\\\XDVioDet-master\\\\XDVioDet-master\\\\tratrain\\\\Skyfall.2012__#00-23-27_00-23-53_label_A.npy\\n', 'C:\\\\Users\\\\pradh\\\\Downloads\\\\XDVioDet-master\\\\XDVioDet-master\\\\tratrain\\\\Skyfall.2012__#00-24-39_00-25-00_label_A.npy\\n', 'C:\\\\Users\\\\pradh\\\\Downloads\\\\XDVioDet-master\\\\XDVioDet-master\\\\tratrain\\\\Skyfall.2012__#00-25-40_00-27-42_label_A.npy\\n', 'C:\\\\Users\\\\pradh\\\\Downloads\\\\XDVioDet-master\\\\XDVioDet-master\\\\tratrain\\\\Skyfall.2012__#00-31-20_00-32-35_label_A.npy\\n', 'C:\\\\Users\\\\pradh\\\\Downloads\\\\XDVioDet-master\\\\XDVioDet-master\\\\tratrain\\\\Skyfall.2012__#00-51-45_00-53-30_label_A.npy\\n', 'C:\\\\Users\\\\pradh\\\\Downloads\\\\XDVioDet-master\\\\XDVioDet-master\\\\tratrain\\\\Skyfall.2012__#00-59-47_01-03-05_label_A.npy\\n', 'C:\\\\Users\\\\pradh\\\\Downloads\\\\XDVioDet-master\\\\XDVioDet-master\\\\tratrain\\\\Skyfall.2012__#01-07-38_01-08-17_label_A.npy\\n', 'C:\\\\Users\\\\pradh\\\\Downloads\\\\XDVioDet-master\\\\XDVioDet-master\\\\tratrain\\\\Skyfall.2012__#01-20-55_01-22-51_label_A.npy\\n', 'C:\\\\Users\\\\pradh\\\\Downloads\\\\XDVioDet-master\\\\XDVioDet-master\\\\tratrain\\\\Skyfall.2012__#01-45-55_01-48-07_label_A.npy\\n', 'C:\\\\Users\\\\pradh\\\\Downloads\\\\XDVioDet-master\\\\XDVioDet-master\\\\tratrain\\\\Skyfall.2012__#02-16-26_02-17-45_label_A.npy\\n', 'C:\\\\Users\\\\pradh\\\\Downloads\\\\XDVioDet-master\\\\XDVioDet-master\\\\tratrain\\\\Spectre.2015__#00-19-29_00-20-38_label_A.npy\\n', 'C:\\\\Users\\\\pradh\\\\Downloads\\\\XDVioDet-master\\\\XDVioDet-master\\\\tratrain\\\\Spectre.2015__#00-38-28_00-41-55_label_A.npy\\n', 'C:\\\\Users\\\\pradh\\\\Downloads\\\\XDVioDet-master\\\\XDVioDet-master\\\\tratrain\\\\Spectre.2015__#00-51-10_00-52-18_label_A.npy\\n', 'C:\\\\Users\\\\pradh\\\\Downloads\\\\XDVioDet-master\\\\XDVioDet-master\\\\tratrain\\\\Spectre.2015__#00-52-20_00-52-53_label_A.npy\\n', 'C:\\\\Users\\\\pradh\\\\Downloads\\\\XDVioDet-master\\\\XDVioDet-master\\\\tratrain\\\\Spectre.2015__#01-00-27_01-02-01_label_A.npy\\n', 'C:\\\\Users\\\\pradh\\\\Downloads\\\\XDVioDet-master\\\\XDVioDet-master\\\\tratrain\\\\Spectre.2015__#01-15-30_01-16-30_label_A.npy\\n', 'C:\\\\Users\\\\pradh\\\\Downloads\\\\XDVioDet-master\\\\XDVioDet-master\\\\tratrain\\\\Spectre.2015__#01-26-15_01-27-29_label_A.npy\\n', 'C:\\\\Users\\\\pradh\\\\Downloads\\\\XDVioDet-master\\\\XDVioDet-master\\\\tratrain\\\\Spectre.2015__#01-29-49_01-30-48_label_A.npy\\n', 'C:\\\\Users\\\\pradh\\\\Downloads\\\\XDVioDet-master\\\\XDVioDet-master\\\\tratrain\\\\Spectre.2015__#01-38-08_01-39-40_label_A.npy\\n', 'C:\\\\Users\\\\pradh\\\\Downloads\\\\XDVioDet-master\\\\XDVioDet-master\\\\tratrain\\\\Spectre.2015__#01-59-32_02-00-38_label_A.npy\\n', 'C:\\\\Users\\\\pradh\\\\Downloads\\\\XDVioDet-master\\\\XDVioDet-master\\\\tratrain\\\\Spectre.2015__#02-03-30_02-04-10_label_A.npy\\n', 'C:\\\\Users\\\\pradh\\\\Downloads\\\\XDVioDet-master\\\\XDVioDet-master\\\\tratrain\\\\Spectre.2015__#02-04-25_02-05-13_label_A.npy\\n', 'C:\\\\Users\\\\pradh\\\\Downloads\\\\XDVioDet-master\\\\XDVioDet-master\\\\tratrain\\\\Spectre.2015__#02-19-56_02-21-12_label_A.npy\\n', 'C:\\\\Users\\\\pradh\\\\Downloads\\\\XDVioDet-master\\\\XDVioDet-master\\\\tratrain\\\\Still.Walking.2008__#00-01-45_00-02-15_label_A.npy\\n', 'C:\\\\Users\\\\pradh\\\\Downloads\\\\XDVioDet-master\\\\XDVioDet-master\\\\tratrain\\\\Still.Walking.2008__#00-02-45_00-04-15_label_A.npy\\n', 'C:\\\\Users\\\\pradh\\\\Downloads\\\\XDVioDet-master\\\\XDVioDet-master\\\\tratrain\\\\Still.Walking.2008__#00-04-20_00-05-35_label_A.npy\\n', 'C:\\\\Users\\\\pradh\\\\Downloads\\\\XDVioDet-master\\\\XDVioDet-master\\\\tratrain\\\\Still.Walking.2008__#00-05-52_00-08-22_label_A.npy\\n', 'C:\\\\Users\\\\pradh\\\\Downloads\\\\XDVioDet-master\\\\XDVioDet-master\\\\tratrain\\\\Still.Walking.2008__#00-08-55_00-10-50_label_A.npy\\n', 'C:\\\\Users\\\\pradh\\\\Downloads\\\\XDVioDet-master\\\\XDVioDet-master\\\\tratrain\\\\Still.Walking.2008__#00-11-00_00-15-08_label_A.npy\\n', 'C:\\\\Users\\\\pradh\\\\Downloads\\\\XDVioDet-master\\\\XDVioDet-master\\\\tratrain\\\\Still.Walking.2008__#00-17-30_00-19-10_label_A.npy\\n', 'C:\\\\Users\\\\pradh\\\\Downloads\\\\XDVioDet-master\\\\XDVioDet-master\\\\tratrain\\\\Still.Walking.2008__#00-20-35_00-23-06_label_A.npy\\n', 'C:\\\\Users\\\\pradh\\\\Downloads\\\\XDVioDet-master\\\\XDVioDet-master\\\\tratrain\\\\Still.Walking.2008__#00-23-50_00-24-31_label_A.npy\\n', 'C:\\\\Users\\\\pradh\\\\Downloads\\\\XDVioDet-master\\\\XDVioDet-master\\\\tratrain\\\\Still.Walking.2008__#00-25-20_00-29-40_label_A.npy\\n', 'C:\\\\Users\\\\pradh\\\\Downloads\\\\XDVioDet-master\\\\XDVioDet-master\\\\tratrain\\\\Still.Walking.2008__#00-30-50_00-32-31_label_A.npy\\n', 'C:\\\\Users\\\\pradh\\\\Downloads\\\\XDVioDet-master\\\\XDVioDet-master\\\\tratrain\\\\Still.Walking.2008__#00-33-52_00-38-31_label_A.npy\\n', 'C:\\\\Users\\\\pradh\\\\Downloads\\\\XDVioDet-master\\\\XDVioDet-master\\\\tratrain\\\\Still.Walking.2008__#00-38-52_00-40-31_label_A.npy\\n', 'C:\\\\Users\\\\pradh\\\\Downloads\\\\XDVioDet-master\\\\XDVioDet-master\\\\tratrain\\\\Still.Walking.2008__#00-40-52_00-42-31_label_A.npy\\n', 'C:\\\\Users\\\\pradh\\\\Downloads\\\\XDVioDet-master\\\\XDVioDet-master\\\\tratrain\\\\Still.Walking.2008__#00-42-52_00-45-31_label_A.npy\\n', 'C:\\\\Users\\\\pradh\\\\Downloads\\\\XDVioDet-master\\\\XDVioDet-master\\\\tratrain\\\\Still.Walking.2008__#00-45-40_00-47-30_label_A.npy\\n', 'C:\\\\Users\\\\pradh\\\\Downloads\\\\XDVioDet-master\\\\XDVioDet-master\\\\tratrain\\\\Still.Walking.2008__#00-49-48_00-51-12_label_A.npy\\n', 'C:\\\\Users\\\\pradh\\\\Downloads\\\\XDVioDet-master\\\\XDVioDet-master\\\\tratrain\\\\Still.Walking.2008__#00-56-40_01-02-02_label_A.npy\\n', 'C:\\\\Users\\\\pradh\\\\Downloads\\\\XDVioDet-master\\\\XDVioDet-master\\\\tratrain\\\\Still.Walking.2008__#01-04-40_01-06-59_label_A.npy\\n', 'C:\\\\Users\\\\pradh\\\\Downloads\\\\XDVioDet-master\\\\XDVioDet-master\\\\tratrain\\\\Still.Walking.2008__#01-09-30_01-16-59_label_A.npy\\n', 'C:\\\\Users\\\\pradh\\\\Downloads\\\\XDVioDet-master\\\\XDVioDet-master\\\\tratrain\\\\Still.Walking.2008__#01-17-00_01-19-40_label_A.npy\\n', 'C:\\\\Users\\\\pradh\\\\Downloads\\\\XDVioDet-master\\\\XDVioDet-master\\\\tratrain\\\\Still.Walking.2008__#01-21-00_01-26-08_label_A.npy\\n', 'C:\\\\Users\\\\pradh\\\\Downloads\\\\XDVioDet-master\\\\XDVioDet-master\\\\tratrain\\\\Still.Walking.2008__#01-26-10_01-28-00_label_A.npy\\n', 'C:\\\\Users\\\\pradh\\\\Downloads\\\\XDVioDet-master\\\\XDVioDet-master\\\\tratrain\\\\Still.Walking.2008__#01-30-25_01-33-56_label_A.npy\\n', 'C:\\\\Users\\\\pradh\\\\Downloads\\\\XDVioDet-master\\\\XDVioDet-master\\\\tratrain\\\\Still.Walking.2008__#01-34-18_01-38-11_label_A.npy\\n', 'C:\\\\Users\\\\pradh\\\\Downloads\\\\XDVioDet-master\\\\XDVioDet-master\\\\tratrain\\\\Still.Walking.2008__#01-39-05_01-46-40_label_A.npy\\n', 'C:\\\\Users\\\\pradh\\\\Downloads\\\\XDVioDet-master\\\\XDVioDet-master\\\\tratrain\\\\Still.Walking.2008__#01-47-40_01-49-53_label_A.npy\\n', 'C:\\\\Users\\\\pradh\\\\Downloads\\\\XDVioDet-master\\\\XDVioDet-master\\\\tratrain\\\\Taken.2.UNRATED.EXTENDED.2012__#00-05-10_00-06-20_label_A.npy\\n', 'C:\\\\Users\\\\pradh\\\\Downloads\\\\XDVioDet-master\\\\XDVioDet-master\\\\tratrain\\\\Taken.2.UNRATED.EXTENDED.2012__#00-18-01_00-19-51_label_A.npy\\n', 'C:\\\\Users\\\\pradh\\\\Downloads\\\\XDVioDet-master\\\\XDVioDet-master\\\\tratrain\\\\Taken.2.UNRATED.EXTENDED.2012__#00-22-20_00-23-38_label_A.npy\\n', 'C:\\\\Users\\\\pradh\\\\Downloads\\\\XDVioDet-master\\\\XDVioDet-master\\\\tratrain\\\\Taken.2.UNRATED.EXTENDED.2012__#01-29-21_01-30-47_label_A.npy\\n', 'C:\\\\Users\\\\pradh\\\\Downloads\\\\XDVioDet-master\\\\XDVioDet-master\\\\tratrain\\\\Taken.2.UNRATED.EXTENDED.2012__#01-31-05_01-31-58_label_A.npy\\n', 'C:\\\\Users\\\\pradh\\\\Downloads\\\\XDVioDet-master\\\\XDVioDet-master\\\\tratrain\\\\Taken.3.2014__#00-00-47_00-01-14_label_A.npy\\n', 'C:\\\\Users\\\\pradh\\\\Downloads\\\\XDVioDet-master\\\\XDVioDet-master\\\\tratrain\\\\Taken.3.2014__#00-06-22_00-08-26_label_A.npy\\n', 'C:\\\\Users\\\\pradh\\\\Downloads\\\\XDVioDet-master\\\\XDVioDet-master\\\\tratrain\\\\Taken.3.2014__#00-24-37_00-25-46_label_A.npy\\n', 'C:\\\\Users\\\\pradh\\\\Downloads\\\\XDVioDet-master\\\\XDVioDet-master\\\\tratrain\\\\Taken.3.2014__#00-49-27_00-50-11_label_A.npy\\n', 'C:\\\\Users\\\\pradh\\\\Downloads\\\\XDVioDet-master\\\\XDVioDet-master\\\\tratrain\\\\Taken.3.2014__#00-51-11_00-52-15_label_A.npy\\n', 'C:\\\\Users\\\\pradh\\\\Downloads\\\\XDVioDet-master\\\\XDVioDet-master\\\\tratrain\\\\Taken.3.2014__#01-06-01_01-07-10_label_A.npy\\n', 'C:\\\\Users\\\\pradh\\\\Downloads\\\\XDVioDet-master\\\\XDVioDet-master\\\\tratrain\\\\Taken.3.2014__#01-22-23_01-23-15_label_A.npy\\n', 'C:\\\\Users\\\\pradh\\\\Downloads\\\\XDVioDet-master\\\\XDVioDet-master\\\\tratrain\\\\Taken.3.2014__#01-27-08_01-28-25_label_A.npy\\n', 'C:\\\\Users\\\\pradh\\\\Downloads\\\\XDVioDet-master\\\\XDVioDet-master\\\\tratrain\\\\Taken.3.2014__#01-46-54_01-48-38_label_A.npy\\n', 'C:\\\\Users\\\\pradh\\\\Downloads\\\\XDVioDet-master\\\\XDVioDet-master\\\\tratrain\\\\Taken.3.2014__#01-48-52_01-49-42_label_A.npy\\n', 'C:\\\\Users\\\\pradh\\\\Downloads\\\\XDVioDet-master\\\\XDVioDet-master\\\\tratrain\\\\Taken.Extended.Cut.2008__#00-01-33_00-04-35_label_A.npy\\n', 'C:\\\\Users\\\\pradh\\\\Downloads\\\\XDVioDet-master\\\\XDVioDet-master\\\\tratrain\\\\Taken.Extended.Cut.2008__#00-05-18_00-07-51_label_A.npy\\n', 'C:\\\\Users\\\\pradh\\\\Downloads\\\\XDVioDet-master\\\\XDVioDet-master\\\\tratrain\\\\Taken.Extended.Cut.2008__#00-11-53_00-12-40_label_A.npy\\n', 'C:\\\\Users\\\\pradh\\\\Downloads\\\\XDVioDet-master\\\\XDVioDet-master\\\\tratrain\\\\Taken.Extended.Cut.2008__#00-38-58_00-40-50_label_A.npy\\n', 'C:\\\\Users\\\\pradh\\\\Downloads\\\\XDVioDet-master\\\\XDVioDet-master\\\\tratrain\\\\Taken.Extended.Cut.2008__#00-41-50_00-42-32_label_A.npy\\n', 'C:\\\\Users\\\\pradh\\\\Downloads\\\\XDVioDet-master\\\\XDVioDet-master\\\\tratrain\\\\Taken.Extended.Cut.2008__#00-52-12_00-52-31_label_A.npy\\n', 'C:\\\\Users\\\\pradh\\\\Downloads\\\\XDVioDet-master\\\\XDVioDet-master\\\\tratrain\\\\Taken.Extended.Cut.2008__#00-58-59_01-01-25_label_A.npy\\n', 'C:\\\\Users\\\\pradh\\\\Downloads\\\\XDVioDet-master\\\\XDVioDet-master\\\\tratrain\\\\Taken.Extended.Cut.2008__#01-07-00_01-07-45_label_A.npy\\n', 'C:\\\\Users\\\\pradh\\\\Downloads\\\\XDVioDet-master\\\\XDVioDet-master\\\\tratrain\\\\Taken.Extended.Cut.2008__#01-27-31_01-28-02_label_A.npy\\n', 'C:\\\\Users\\\\pradh\\\\Downloads\\\\XDVioDet-master\\\\XDVioDet-master\\\\tratrain\\\\The.Attorney.2013__#00-02-45_00-04-15_label_A.npy\\n', 'C:\\\\Users\\\\pradh\\\\Downloads\\\\XDVioDet-master\\\\XDVioDet-master\\\\tratrain\\\\The.Attorney.2013__#00-05-52_00-08-22_label_A.npy\\n', 'C:\\\\Users\\\\pradh\\\\Downloads\\\\XDVioDet-master\\\\XDVioDet-master\\\\tratrain\\\\The.Attorney.2013__#00-08-55_00-10-50_label_A.npy\\n', 'C:\\\\Users\\\\pradh\\\\Downloads\\\\XDVioDet-master\\\\XDVioDet-master\\\\tratrain\\\\The.Attorney.2013__#00-11-00_00-15-08_label_A.npy\\n', 'C:\\\\Users\\\\pradh\\\\Downloads\\\\XDVioDet-master\\\\XDVioDet-master\\\\tratrain\\\\The.Attorney.2013__#00-16-18_00-17-27_label_A.npy\\n', 'C:\\\\Users\\\\pradh\\\\Downloads\\\\XDVioDet-master\\\\XDVioDet-master\\\\tratrain\\\\The.Attorney.2013__#00-17-30_00-19-10_label_A.npy\\n', 'C:\\\\Users\\\\pradh\\\\Downloads\\\\XDVioDet-master\\\\XDVioDet-master\\\\tratrain\\\\The.Attorney.2013__#00-20-35_00-23-06_label_A.npy\\n', 'C:\\\\Users\\\\pradh\\\\Downloads\\\\XDVioDet-master\\\\XDVioDet-master\\\\tratrain\\\\The.Attorney.2013__#00-23-50_00-24-31_label_A.npy\\n', 'C:\\\\Users\\\\pradh\\\\Downloads\\\\XDVioDet-master\\\\XDVioDet-master\\\\tratrain\\\\The.Attorney.2013__#00-25-20_00-29-40_label_A.npy\\n', 'C:\\\\Users\\\\pradh\\\\Downloads\\\\XDVioDet-master\\\\XDVioDet-master\\\\tratrain\\\\The.Attorney.2013__#00-33-52_00-36-00_label_A.npy\\n', 'C:\\\\Users\\\\pradh\\\\Downloads\\\\XDVioDet-master\\\\XDVioDet-master\\\\tratrain\\\\The.Attorney.2013__#00-49-48_00-51-12_label_A.npy\\n', 'C:\\\\Users\\\\pradh\\\\Downloads\\\\XDVioDet-master\\\\XDVioDet-master\\\\tratrain\\\\The.Attorney.2013__#00-51-55_00-55-16_label_A.npy\\n', 'C:\\\\Users\\\\pradh\\\\Downloads\\\\XDVioDet-master\\\\XDVioDet-master\\\\tratrain\\\\The.Attorney.2013__#00-56-40_01-01-02_label_A.npy\\n', 'C:\\\\Users\\\\pradh\\\\Downloads\\\\XDVioDet-master\\\\XDVioDet-master\\\\tratrain\\\\The.Attorney.2013__#01-04-40_01-06-59_label_A.npy\\n', 'C:\\\\Users\\\\pradh\\\\Downloads\\\\XDVioDet-master\\\\XDVioDet-master\\\\tratrain\\\\The.Attorney.2013__#01-09-30_01-16-59_label_A.npy\\n', 'C:\\\\Users\\\\pradh\\\\Downloads\\\\XDVioDet-master\\\\XDVioDet-master\\\\tratrain\\\\The.Attorney.2013__#01-17-00_01-19-40_label_A.npy\\n', 'C:\\\\Users\\\\pradh\\\\Downloads\\\\XDVioDet-master\\\\XDVioDet-master\\\\tratrain\\\\The.Attorney.2013__#01-20-00_01-22-08_label_A.npy\\n', 'C:\\\\Users\\\\pradh\\\\Downloads\\\\XDVioDet-master\\\\XDVioDet-master\\\\tratrain\\\\The.Attorney.2013__#01-41-56_01-45-11_label_A.npy\\n', 'C:\\\\Users\\\\pradh\\\\Downloads\\\\XDVioDet-master\\\\XDVioDet-master\\\\tratrain\\\\The.Attorney.2013__#01-47-35_01-53-40_label_A.npy\\n', 'C:\\\\Users\\\\pradh\\\\Downloads\\\\XDVioDet-master\\\\XDVioDet-master\\\\tratrain\\\\The.Attorney.2013__#01-55-12_01-57-10_label_A.npy\\n', 'C:\\\\Users\\\\pradh\\\\Downloads\\\\XDVioDet-master\\\\XDVioDet-master\\\\tratrain\\\\The.Bourne.Identity.2002__#0-05-58_0-06-25_label_A.npy\\n', 'C:\\\\Users\\\\pradh\\\\Downloads\\\\XDVioDet-master\\\\XDVioDet-master\\\\tratrain\\\\The.Bourne.Identity.2002__#0-07-02_0-08-32_label_A.npy\\n', 'C:\\\\Users\\\\pradh\\\\Downloads\\\\XDVioDet-master\\\\XDVioDet-master\\\\tratrain\\\\The.Bourne.Identity.2002__#0-11-56_0-13-31_label_A.npy\\n', 'C:\\\\Users\\\\pradh\\\\Downloads\\\\XDVioDet-master\\\\XDVioDet-master\\\\tratrain\\\\The.Bourne.Identity.2002__#0-25-42_0-26-56_label_A.npy\\n', 'C:\\\\Users\\\\pradh\\\\Downloads\\\\XDVioDet-master\\\\XDVioDet-master\\\\tratrain\\\\The.Bourne.Identity.2002__#0-35-57_0-42-18_label_A.npy\\n', 'C:\\\\Users\\\\pradh\\\\Downloads\\\\XDVioDet-master\\\\XDVioDet-master\\\\tratrain\\\\The.Bourne.Identity.2002__#0-59-13_01-03-20_label_A.npy\\n', 'C:\\\\Users\\\\pradh\\\\Downloads\\\\XDVioDet-master\\\\XDVioDet-master\\\\tratrain\\\\The.Bourne.Identity.2002__#01-04-05_01-06-26_label_A.npy\\n', 'C:\\\\Users\\\\pradh\\\\Downloads\\\\XDVioDet-master\\\\XDVioDet-master\\\\tratrain\\\\The.Bourne.Identity.2002__#01-18-45_01-21-55_label_A.npy\\n', 'C:\\\\Users\\\\pradh\\\\Downloads\\\\XDVioDet-master\\\\XDVioDet-master\\\\tratrain\\\\The.Bourne.Identity.2002__#01-32-08_01-35-25_label_A.npy\\n', 'C:\\\\Users\\\\pradh\\\\Downloads\\\\XDVioDet-master\\\\XDVioDet-master\\\\tratrain\\\\The.Bourne.Identity.2002__#01-49-52_01-50-30_label_A.npy\\n', 'C:\\\\Users\\\\pradh\\\\Downloads\\\\XDVioDet-master\\\\XDVioDet-master\\\\tratrain\\\\The.Bourne.Identity.2002__#01-50-33_01-51-48_label_A.npy\\n', 'C:\\\\Users\\\\pradh\\\\Downloads\\\\XDVioDet-master\\\\XDVioDet-master\\\\tratrain\\\\The.Bourne.Legacy.2012__#0-00-43_0-01-40_label_A.npy\\n', 'C:\\\\Users\\\\pradh\\\\Downloads\\\\XDVioDet-master\\\\XDVioDet-master\\\\tratrain\\\\The.Bourne.Legacy.2012__#0-02-25_0-03-30_label_A.npy\\n', 'C:\\\\Users\\\\pradh\\\\Downloads\\\\XDVioDet-master\\\\XDVioDet-master\\\\tratrain\\\\The.Bourne.Legacy.2012__#0-05-22_0-06-49_label_A.npy\\n', 'C:\\\\Users\\\\pradh\\\\Downloads\\\\XDVioDet-master\\\\XDVioDet-master\\\\tratrain\\\\The.Bourne.Legacy.2012__#0-09-06_0-11-10_label_A.npy\\n', 'C:\\\\Users\\\\pradh\\\\Downloads\\\\XDVioDet-master\\\\XDVioDet-master\\\\tratrain\\\\The.Bourne.Legacy.2012__#0-16-57_0-18-43_label_A.npy\\n', 'C:\\\\Users\\\\pradh\\\\Downloads\\\\XDVioDet-master\\\\XDVioDet-master\\\\tratrain\\\\The.Bourne.Legacy.2012__#0-53-06_0-58-18_label_A.npy\\n', 'C:\\\\Users\\\\pradh\\\\Downloads\\\\XDVioDet-master\\\\XDVioDet-master\\\\tratrain\\\\The.Bourne.Legacy.2012__#01-14-41_01-14-59_label_A.npy\\n', 'C:\\\\Users\\\\pradh\\\\Downloads\\\\XDVioDet-master\\\\XDVioDet-master\\\\tratrain\\\\The.Bourne.Legacy.2012__#01-18-40_01-22-05_label_A.npy\\n', 'C:\\\\Users\\\\pradh\\\\Downloads\\\\XDVioDet-master\\\\XDVioDet-master\\\\tratrain\\\\The.Bourne.Legacy.2012__#01-30-54_01-32-04_label_A.npy\\n', 'C:\\\\Users\\\\pradh\\\\Downloads\\\\XDVioDet-master\\\\XDVioDet-master\\\\tratrain\\\\The.Bourne.Legacy.2012__#02-04-01_02-07-17_label_A.npy\\n', 'C:\\\\Users\\\\pradh\\\\Downloads\\\\XDVioDet-master\\\\XDVioDet-master\\\\tratrain\\\\The.Bourne.Supremacy.2004__#0-01-35_0-04-25_label_A.npy\\n', 'C:\\\\Users\\\\pradh\\\\Downloads\\\\XDVioDet-master\\\\XDVioDet-master\\\\tratrain\\\\The.Bourne.Supremacy.2004__#0-10-00_0-12-00_label_A.npy\\n', 'C:\\\\Users\\\\pradh\\\\Downloads\\\\XDVioDet-master\\\\XDVioDet-master\\\\tratrain\\\\The.Bourne.Supremacy.2004__#0-19-58_0-20-30_label_A.npy\\n', 'C:\\\\Users\\\\pradh\\\\Downloads\\\\XDVioDet-master\\\\XDVioDet-master\\\\tratrain\\\\The.Bourne.Supremacy.2004__#0-27-18_0-31-08_label_A.npy\\n', 'C:\\\\Users\\\\pradh\\\\Downloads\\\\XDVioDet-master\\\\XDVioDet-master\\\\tratrain\\\\The.Bourne.Supremacy.2004__#0-35-33_0-38-31_label_A.npy\\n', 'C:\\\\Users\\\\pradh\\\\Downloads\\\\XDVioDet-master\\\\XDVioDet-master\\\\tratrain\\\\The.Bourne.Supremacy.2004__#0-52-00_0-52-52_label_A.npy\\n', 'C:\\\\Users\\\\pradh\\\\Downloads\\\\XDVioDet-master\\\\XDVioDet-master\\\\tratrain\\\\The.Bourne.Supremacy.2004__#01-40-32_01-41-56_label_A.npy\\n', 'C:\\\\Users\\\\pradh\\\\Downloads\\\\XDVioDet-master\\\\XDVioDet-master\\\\tratrain\\\\The.Bourne.Ultimatum.2007__#0-04-37_0-05-50_label_A.npy\\n', 'C:\\\\Users\\\\pradh\\\\Downloads\\\\XDVioDet-master\\\\XDVioDet-master\\\\tratrain\\\\The.Bourne.Ultimatum.2007__#0-05-52_0-07-11_label_A.npy\\n', 'C:\\\\Users\\\\pradh\\\\Downloads\\\\XDVioDet-master\\\\XDVioDet-master\\\\tratrain\\\\The.Bourne.Ultimatum.2007__#0-07-22_0-09-41_label_A.npy\\n', 'C:\\\\Users\\\\pradh\\\\Downloads\\\\XDVioDet-master\\\\XDVioDet-master\\\\tratrain\\\\The.Bourne.Ultimatum.2007__#0-28-05_0-29-52_label_A.npy\\n', 'C:\\\\Users\\\\pradh\\\\Downloads\\\\XDVioDet-master\\\\XDVioDet-master\\\\tratrain\\\\The.Bourne.Ultimatum.2007__#0-30-08_0-31-43_label_A.npy\\n', 'C:\\\\Users\\\\pradh\\\\Downloads\\\\XDVioDet-master\\\\XDVioDet-master\\\\tratrain\\\\The.Bourne.Ultimatum.2007__#0-31-52_0-32-52_label_A.npy\\n', 'C:\\\\Users\\\\pradh\\\\Downloads\\\\XDVioDet-master\\\\XDVioDet-master\\\\tratrain\\\\The.Bourne.Ultimatum.2007__#0-44-02_0-46-11_label_A.npy\\n', 'C:\\\\Users\\\\pradh\\\\Downloads\\\\XDVioDet-master\\\\XDVioDet-master\\\\tratrain\\\\The.Bourne.Ultimatum.2007__#0-46-12_0-48-39_label_A.npy\\n', 'C:\\\\Users\\\\pradh\\\\Downloads\\\\XDVioDet-master\\\\XDVioDet-master\\\\tratrain\\\\The.Bourne.Ultimatum.2007__#01-14-45_01-15-50_label_A.npy\\n', 'C:\\\\Users\\\\pradh\\\\Downloads\\\\XDVioDet-master\\\\XDVioDet-master\\\\tratrain\\\\The.Bourne.Ultimatum.2007__#01-44-21_01-46-05_label_A.npy\\n', 'C:\\\\Users\\\\pradh\\\\Downloads\\\\XDVioDet-master\\\\XDVioDet-master\\\\tratrain\\\\The.Fast.and.the.Furious.2001__#00-06-05_00-07-15_label_A.npy\\n', 'C:\\\\Users\\\\pradh\\\\Downloads\\\\XDVioDet-master\\\\XDVioDet-master\\\\tratrain\\\\The.Fast.and.the.Furious.2001__#00-09-25_00-10-20_label_A.npy\\n', 'C:\\\\Users\\\\pradh\\\\Downloads\\\\XDVioDet-master\\\\XDVioDet-master\\\\tratrain\\\\The.Fast.and.the.Furious.2001__#00-12-42_00-13-45_label_A.npy\\n', 'C:\\\\Users\\\\pradh\\\\Downloads\\\\XDVioDet-master\\\\XDVioDet-master\\\\tratrain\\\\The.Fast.and.the.Furious.2001__#00-31-21_00-33-14_label_A.npy\\n', 'C:\\\\Users\\\\pradh\\\\Downloads\\\\XDVioDet-master\\\\XDVioDet-master\\\\tratrain\\\\The.Fast.and.the.Furious.2001__#00-42-02_00-43-09_label_A.npy\\n', 'C:\\\\Users\\\\pradh\\\\Downloads\\\\XDVioDet-master\\\\XDVioDet-master\\\\tratrain\\\\The.Fast.and.the.Furious.2001__#00-58-56_01-00-15_label_A.npy\\n', 'C:\\\\Users\\\\pradh\\\\Downloads\\\\XDVioDet-master\\\\XDVioDet-master\\\\tratrain\\\\The.Fast.and.the.Furious.2001__#01-28-36_01-29-38_label_A.npy\\n', 'C:\\\\Users\\\\pradh\\\\Downloads\\\\XDVioDet-master\\\\XDVioDet-master\\\\tratrain\\\\The.Hurt.Locker.2008__#0-10-10_0-12-12_label_A.npy\\n', 'C:\\\\Users\\\\pradh\\\\Downloads\\\\XDVioDet-master\\\\XDVioDet-master\\\\tratrain\\\\The.Hurt.Locker.2008__#01-10-01_01-13-05_label_A.npy\\n', 'C:\\\\Users\\\\pradh\\\\Downloads\\\\XDVioDet-master\\\\XDVioDet-master\\\\tratrain\\\\The.Hurt.Locker.2008__#02-01-02_02-02-22_label_A.npy\\n', 'C:\\\\Users\\\\pradh\\\\Downloads\\\\XDVioDet-master\\\\XDVioDet-master\\\\tratrain\\\\The.Hurt.Locker.2008__#02-02-35_02-04-40_label_A.npy\\n', 'C:\\\\Users\\\\pradh\\\\Downloads\\\\XDVioDet-master\\\\XDVioDet-master\\\\tratrain\\\\The.Intouchables.2011__#00-01-45_00-02-50_label_A.npy\\n', 'C:\\\\Users\\\\pradh\\\\Downloads\\\\XDVioDet-master\\\\XDVioDet-master\\\\tratrain\\\\The.Intouchables.2011__#00-05-52_00-08-22_label_A.npy\\n', 'C:\\\\Users\\\\pradh\\\\Downloads\\\\XDVioDet-master\\\\XDVioDet-master\\\\tratrain\\\\The.Intouchables.2011__#00-08-55_00-10-50_label_A.npy\\n', 'C:\\\\Users\\\\pradh\\\\Downloads\\\\XDVioDet-master\\\\XDVioDet-master\\\\tratrain\\\\The.Intouchables.2011__#00-11-00_00-15-08_label_A.npy\\n', 'C:\\\\Users\\\\pradh\\\\Downloads\\\\XDVioDet-master\\\\XDVioDet-master\\\\tratrain\\\\The.Intouchables.2011__#00-16-18_00-17-27_label_A.npy\\n', 'C:\\\\Users\\\\pradh\\\\Downloads\\\\XDVioDet-master\\\\XDVioDet-master\\\\tratrain\\\\The.Intouchables.2011__#00-17-30_00-19-10_label_A.npy\\n', 'C:\\\\Users\\\\pradh\\\\Downloads\\\\XDVioDet-master\\\\XDVioDet-master\\\\tratrain\\\\The.Intouchables.2011__#00-20-35_00-23-06_label_A.npy\\n', 'C:\\\\Users\\\\pradh\\\\Downloads\\\\XDVioDet-master\\\\XDVioDet-master\\\\tratrain\\\\The.Intouchables.2011__#00-23-50_00-24-31_label_A.npy\\n', 'C:\\\\Users\\\\pradh\\\\Downloads\\\\XDVioDet-master\\\\XDVioDet-master\\\\tratrain\\\\The.Intouchables.2011__#00-25-20_00-29-20_label_A.npy\\n', 'C:\\\\Users\\\\pradh\\\\Downloads\\\\XDVioDet-master\\\\XDVioDet-master\\\\tratrain\\\\The.Intouchables.2011__#00-31-05_00-32-05_label_A.npy\\n', 'C:\\\\Users\\\\pradh\\\\Downloads\\\\XDVioDet-master\\\\XDVioDet-master\\\\tratrain\\\\The.Intouchables.2011__#00-33-52_00-38-31_label_A.npy\\n', 'C:\\\\Users\\\\pradh\\\\Downloads\\\\XDVioDet-master\\\\XDVioDet-master\\\\tratrain\\\\The.Intouchables.2011__#00-38-52_00-40-31_label_A.npy\\n', 'C:\\\\Users\\\\pradh\\\\Downloads\\\\XDVioDet-master\\\\XDVioDet-master\\\\tratrain\\\\The.Intouchables.2011__#00-40-52_00-42-31_label_A.npy\\n', 'C:\\\\Users\\\\pradh\\\\Downloads\\\\XDVioDet-master\\\\XDVioDet-master\\\\tratrain\\\\The.Intouchables.2011__#00-42-52_00-45-31_label_A.npy\\n', 'C:\\\\Users\\\\pradh\\\\Downloads\\\\XDVioDet-master\\\\XDVioDet-master\\\\tratrain\\\\The.Intouchables.2011__#00-45-40_00-47-30_label_A.npy\\n', 'C:\\\\Users\\\\pradh\\\\Downloads\\\\XDVioDet-master\\\\XDVioDet-master\\\\tratrain\\\\The.Intouchables.2011__#00-49-48_00-51-12_label_A.npy\\n', 'C:\\\\Users\\\\pradh\\\\Downloads\\\\XDVioDet-master\\\\XDVioDet-master\\\\tratrain\\\\The.Intouchables.2011__#00-56-40_00-58-00_label_A.npy\\n', 'C:\\\\Users\\\\pradh\\\\Downloads\\\\XDVioDet-master\\\\XDVioDet-master\\\\tratrain\\\\The.Intouchables.2011__#01-03-30_01-15-33_label_A.npy\\n', 'C:\\\\Users\\\\pradh\\\\Downloads\\\\XDVioDet-master\\\\XDVioDet-master\\\\tratrain\\\\The.Intouchables.2011__#01-17-00_01-19-40_label_A.npy\\n', 'C:\\\\Users\\\\pradh\\\\Downloads\\\\XDVioDet-master\\\\XDVioDet-master\\\\tratrain\\\\The.Intouchables.2011__#01-21-00_01-26-08_label_A.npy\\n', 'C:\\\\Users\\\\pradh\\\\Downloads\\\\XDVioDet-master\\\\XDVioDet-master\\\\tratrain\\\\The.Intouchables.2011__#01-26-10_01-28-00_label_A.npy\\n', 'C:\\\\Users\\\\pradh\\\\Downloads\\\\XDVioDet-master\\\\XDVioDet-master\\\\tratrain\\\\The.Intouchables.2011__#01-30-25_01-33-56_label_A.npy\\n', 'C:\\\\Users\\\\pradh\\\\Downloads\\\\XDVioDet-master\\\\XDVioDet-master\\\\tratrain\\\\The.Intouchables.2011__#01-34-18_01-38-11_label_A.npy\\n', 'C:\\\\Users\\\\pradh\\\\Downloads\\\\XDVioDet-master\\\\XDVioDet-master\\\\tratrain\\\\The.Intouchables.2011__#01-39-05_01-41-00_label_A.npy\\n', 'C:\\\\Users\\\\pradh\\\\Downloads\\\\XDVioDet-master\\\\XDVioDet-master\\\\tratrain\\\\The.Intouchables.2011__#01-42-06_01-45-53_label_A.npy\\n', 'C:\\\\Users\\\\pradh\\\\Downloads\\\\XDVioDet-master\\\\XDVioDet-master\\\\tratrain\\\\The.Intouchables.2011__#01-46-20_01-48-10_label_A.npy\\n', 'C:\\\\Users\\\\pradh\\\\Downloads\\\\XDVioDet-master\\\\XDVioDet-master\\\\tratrain\\\\The.Notebook.2004__#00-01-45_00-02-50_label_A.npy\\n', 'C:\\\\Users\\\\pradh\\\\Downloads\\\\XDVioDet-master\\\\XDVioDet-master\\\\tratrain\\\\The.Notebook.2004__#00-03-00_00-04-05_label_A.npy\\n', 'C:\\\\Users\\\\pradh\\\\Downloads\\\\XDVioDet-master\\\\XDVioDet-master\\\\tratrain\\\\The.Notebook.2004__#00-04-20_00-05-35_label_A.npy\\n', 'C:\\\\Users\\\\pradh\\\\Downloads\\\\XDVioDet-master\\\\XDVioDet-master\\\\tratrain\\\\The.Notebook.2004__#00-05-52_00-08-22_label_A.npy\\n', 'C:\\\\Users\\\\pradh\\\\Downloads\\\\XDVioDet-master\\\\XDVioDet-master\\\\tratrain\\\\The.Notebook.2004__#00-16-18_00-17-27_label_A.npy\\n', 'C:\\\\Users\\\\pradh\\\\Downloads\\\\XDVioDet-master\\\\XDVioDet-master\\\\tratrain\\\\The.Notebook.2004__#00-17-30_00-19-10_label_A.npy\\n', 'C:\\\\Users\\\\pradh\\\\Downloads\\\\XDVioDet-master\\\\XDVioDet-master\\\\tratrain\\\\The.Notebook.2004__#00-23-50_00-24-31_label_A.npy\\n', 'C:\\\\Users\\\\pradh\\\\Downloads\\\\XDVioDet-master\\\\XDVioDet-master\\\\tratrain\\\\The.Notebook.2004__#00-31-05_00-32-05_label_A.npy\\n', 'C:\\\\Users\\\\pradh\\\\Downloads\\\\XDVioDet-master\\\\XDVioDet-master\\\\tratrain\\\\The.Notebook.2004__#00-37-14_00-40-31_label_A.npy\\n', 'C:\\\\Users\\\\pradh\\\\Downloads\\\\XDVioDet-master\\\\XDVioDet-master\\\\tratrain\\\\The.Notebook.2004__#00-40-52_00-42-01_label_A.npy\\n', 'C:\\\\Users\\\\pradh\\\\Downloads\\\\XDVioDet-master\\\\XDVioDet-master\\\\tratrain\\\\The.Notebook.2004__#00-42-52_00-45-31_label_A.npy\\n', 'C:\\\\Users\\\\pradh\\\\Downloads\\\\XDVioDet-master\\\\XDVioDet-master\\\\tratrain\\\\The.Notebook.2004__#00-45-40_00-47-30_label_A.npy\\n', 'C:\\\\Users\\\\pradh\\\\Downloads\\\\XDVioDet-master\\\\XDVioDet-master\\\\tratrain\\\\The.Notebook.2004__#00-50-26_00-55-16_label_A.npy\\n', 'C:\\\\Users\\\\pradh\\\\Downloads\\\\XDVioDet-master\\\\XDVioDet-master\\\\tratrain\\\\The.Notebook.2004__#00-56-40_00-58-00_label_A.npy\\n', 'C:\\\\Users\\\\pradh\\\\Downloads\\\\XDVioDet-master\\\\XDVioDet-master\\\\tratrain\\\\The.Notebook.2004__#00-58-18_01-02-30_label_A.npy\\n', 'C:\\\\Users\\\\pradh\\\\Downloads\\\\XDVioDet-master\\\\XDVioDet-master\\\\tratrain\\\\The.Notebook.2004__#01-17-00_01-19-40_label_A.npy\\n', 'C:\\\\Users\\\\pradh\\\\Downloads\\\\XDVioDet-master\\\\XDVioDet-master\\\\tratrain\\\\The.Notebook.2004__#01-26-10_01-28-00_label_A.npy\\n', 'C:\\\\Users\\\\pradh\\\\Downloads\\\\XDVioDet-master\\\\XDVioDet-master\\\\tratrain\\\\The.Notebook.2004__#01-34-18_01-38-11_label_A.npy\\n', 'C:\\\\Users\\\\pradh\\\\Downloads\\\\XDVioDet-master\\\\XDVioDet-master\\\\tratrain\\\\The.Notebook.2004__#01-39-05_01-41-00_label_A.npy\\n', 'C:\\\\Users\\\\pradh\\\\Downloads\\\\XDVioDet-master\\\\XDVioDet-master\\\\tratrain\\\\The.Notebook.2004__#01-42-06_01-45-53_label_A.npy\\n', 'C:\\\\Users\\\\pradh\\\\Downloads\\\\XDVioDet-master\\\\XDVioDet-master\\\\tratrain\\\\The.Notebook.2004__#01-46-20_01-48-10_label_A.npy\\n', 'C:\\\\Users\\\\pradh\\\\Downloads\\\\XDVioDet-master\\\\XDVioDet-master\\\\tratrain\\\\The.Pursuit.of.Happyness.2006__#00-02-45_00-04-15_label_A.npy\\n', 'C:\\\\Users\\\\pradh\\\\Downloads\\\\XDVioDet-master\\\\XDVioDet-master\\\\tratrain\\\\The.Pursuit.of.Happyness.2006__#00-04-20_00-05-35_label_A.npy\\n', 'C:\\\\Users\\\\pradh\\\\Downloads\\\\XDVioDet-master\\\\XDVioDet-master\\\\tratrain\\\\The.Pursuit.of.Happyness.2006__#00-05-52_00-08-22_label_A.npy\\n', 'C:\\\\Users\\\\pradh\\\\Downloads\\\\XDVioDet-master\\\\XDVioDet-master\\\\tratrain\\\\The.Pursuit.of.Happyness.2006__#00-08-55_00-10-50_label_A.npy\\n', 'C:\\\\Users\\\\pradh\\\\Downloads\\\\XDVioDet-master\\\\XDVioDet-master\\\\tratrain\\\\The.Pursuit.of.Happyness.2006__#00-11-00_00-15-08_label_A.npy\\n', 'C:\\\\Users\\\\pradh\\\\Downloads\\\\XDVioDet-master\\\\XDVioDet-master\\\\tratrain\\\\The.Pursuit.of.Happyness.2006__#00-16-18_00-17-27_label_A.npy\\n', 'C:\\\\Users\\\\pradh\\\\Downloads\\\\XDVioDet-master\\\\XDVioDet-master\\\\tratrain\\\\The.Pursuit.of.Happyness.2006__#00-20-35_00-23-06_label_A.npy\\n', 'C:\\\\Users\\\\pradh\\\\Downloads\\\\XDVioDet-master\\\\XDVioDet-master\\\\tratrain\\\\The.Pursuit.of.Happyness.2006__#00-23-50_00-24-31_label_A.npy\\n', 'C:\\\\Users\\\\pradh\\\\Downloads\\\\XDVioDet-master\\\\XDVioDet-master\\\\tratrain\\\\The.Pursuit.of.Happyness.2006__#00-33-52_00-38-31_label_A.npy\\n', 'C:\\\\Users\\\\pradh\\\\Downloads\\\\XDVioDet-master\\\\XDVioDet-master\\\\tratrain\\\\The.Pursuit.of.Happyness.2006__#00-38-52_00-40-31_label_A.npy\\n', 'C:\\\\Users\\\\pradh\\\\Downloads\\\\XDVioDet-master\\\\XDVioDet-master\\\\tratrain\\\\The.Pursuit.of.Happyness.2006__#00-40-52_00-42-31_label_A.npy\\n', 'C:\\\\Users\\\\pradh\\\\Downloads\\\\XDVioDet-master\\\\XDVioDet-master\\\\tratrain\\\\The.Pursuit.of.Happyness.2006__#00-42-52_00-45-31_label_A.npy\\n', 'C:\\\\Users\\\\pradh\\\\Downloads\\\\XDVioDet-master\\\\XDVioDet-master\\\\tratrain\\\\The.Pursuit.of.Happyness.2006__#00-45-40_00-47-30_label_A.npy\\n', 'C:\\\\Users\\\\pradh\\\\Downloads\\\\XDVioDet-master\\\\XDVioDet-master\\\\tratrain\\\\The.Pursuit.of.Happyness.2006__#00-49-48_00-51-12_label_A.npy\\n', 'C:\\\\Users\\\\pradh\\\\Downloads\\\\XDVioDet-master\\\\XDVioDet-master\\\\tratrain\\\\The.Pursuit.of.Happyness.2006__#00-51-55_00-55-16_label_A.npy\\n', 'C:\\\\Users\\\\pradh\\\\Downloads\\\\XDVioDet-master\\\\XDVioDet-master\\\\tratrain\\\\The.Pursuit.of.Happyness.2006__#01-02-18_01-03-10_label_A.npy\\n', 'C:\\\\Users\\\\pradh\\\\Downloads\\\\XDVioDet-master\\\\XDVioDet-master\\\\tratrain\\\\The.Pursuit.of.Happyness.2006__#01-04-40_01-06-59_label_A.npy\\n', 'C:\\\\Users\\\\pradh\\\\Downloads\\\\XDVioDet-master\\\\XDVioDet-master\\\\tratrain\\\\The.Pursuit.of.Happyness.2006__#01-09-30_01-16-59_label_A.npy\\n', 'C:\\\\Users\\\\pradh\\\\Downloads\\\\XDVioDet-master\\\\XDVioDet-master\\\\tratrain\\\\The.Pursuit.of.Happyness.2006__#01-17-00_01-19-40_label_A.npy\\n', 'C:\\\\Users\\\\pradh\\\\Downloads\\\\XDVioDet-master\\\\XDVioDet-master\\\\tratrain\\\\The.Pursuit.of.Happyness.2006__#01-21-00_01-26-08_label_A.npy\\n', 'C:\\\\Users\\\\pradh\\\\Downloads\\\\XDVioDet-master\\\\XDVioDet-master\\\\tratrain\\\\The.Pursuit.of.Happyness.2006__#01-26-10_01-28-00_label_A.npy\\n', 'C:\\\\Users\\\\pradh\\\\Downloads\\\\XDVioDet-master\\\\XDVioDet-master\\\\tratrain\\\\The.Pursuit.of.Happyness.2006__#01-31-45_01-34-11_label_A.npy\\n', 'C:\\\\Users\\\\pradh\\\\Downloads\\\\XDVioDet-master\\\\XDVioDet-master\\\\tratrain\\\\The.Pursuit.of.Happyness.2006__#01-39-05_01-46-40_label_A.npy\\n', 'C:\\\\Users\\\\pradh\\\\Downloads\\\\XDVioDet-master\\\\XDVioDet-master\\\\tratrain\\\\The.Pursuit.of.Happyness.2006__#01-47-40_01-49-53_label_A.npy\\n', 'C:\\\\Users\\\\pradh\\\\Downloads\\\\XDVioDet-master\\\\XDVioDet-master\\\\tratrain\\\\The.Pursuit.of.Happyness.2006__#01-50-00_01-53-10_label_A.npy\\n', 'C:\\\\Users\\\\pradh\\\\Downloads\\\\XDVioDet-master\\\\XDVioDet-master\\\\tratrain\\\\The.Secret.Life.of.Walter.Mitty.2013__#00-01-45_00-02-44_label_A.npy\\n', 'C:\\\\Users\\\\pradh\\\\Downloads\\\\XDVioDet-master\\\\XDVioDet-master\\\\tratrain\\\\The.Secret.Life.of.Walter.Mitty.2013__#00-02-45_00-04-15_label_A.npy\\n', 'C:\\\\Users\\\\pradh\\\\Downloads\\\\XDVioDet-master\\\\XDVioDet-master\\\\tratrain\\\\The.Secret.Life.of.Walter.Mitty.2013__#00-05-52_00-08-22_label_A.npy\\n', 'C:\\\\Users\\\\pradh\\\\Downloads\\\\XDVioDet-master\\\\XDVioDet-master\\\\tratrain\\\\The.Secret.Life.of.Walter.Mitty.2013__#00-11-00_00-15-08_label_A.npy\\n', 'C:\\\\Users\\\\pradh\\\\Downloads\\\\XDVioDet-master\\\\XDVioDet-master\\\\tratrain\\\\The.Secret.Life.of.Walter.Mitty.2013__#00-16-18_00-17-27_label_A.npy\\n', 'C:\\\\Users\\\\pradh\\\\Downloads\\\\XDVioDet-master\\\\XDVioDet-master\\\\tratrain\\\\The.Secret.Life.of.Walter.Mitty.2013__#00-17-30_00-19-10_label_A.npy\\n', 'C:\\\\Users\\\\pradh\\\\Downloads\\\\XDVioDet-master\\\\XDVioDet-master\\\\tratrain\\\\The.Secret.Life.of.Walter.Mitty.2013__#00-20-35_00-23-06_label_A.npy\\n', 'C:\\\\Users\\\\pradh\\\\Downloads\\\\XDVioDet-master\\\\XDVioDet-master\\\\tratrain\\\\The.Secret.Life.of.Walter.Mitty.2013__#00-23-50_00-24-31_label_A.npy\\n', 'C:\\\\Users\\\\pradh\\\\Downloads\\\\XDVioDet-master\\\\XDVioDet-master\\\\tratrain\\\\The.Secret.Life.of.Walter.Mitty.2013__#00-33-52_00-36-00_label_A.npy\\n', 'C:\\\\Users\\\\pradh\\\\Downloads\\\\XDVioDet-master\\\\XDVioDet-master\\\\tratrain\\\\The.Secret.Life.of.Walter.Mitty.2013__#00-43-52_00-46-55_label_A.npy\\n', 'C:\\\\Users\\\\pradh\\\\Downloads\\\\XDVioDet-master\\\\XDVioDet-master\\\\tratrain\\\\The.Secret.Life.of.Walter.Mitty.2013__#00-51-55_00-55-16_label_A.npy\\n', 'C:\\\\Users\\\\pradh\\\\Downloads\\\\XDVioDet-master\\\\XDVioDet-master\\\\tratrain\\\\The.Secret.Life.of.Walter.Mitty.2013__#01-05-30_01-08-59_label_A.npy\\n', 'C:\\\\Users\\\\pradh\\\\Downloads\\\\XDVioDet-master\\\\XDVioDet-master\\\\tratrain\\\\The.Secret.Life.of.Walter.Mitty.2013__#01-09-30_01-16-59_label_A.npy\\n', 'C:\\\\Users\\\\pradh\\\\Downloads\\\\XDVioDet-master\\\\XDVioDet-master\\\\tratrain\\\\The.Secret.Life.of.Walter.Mitty.2013__#01-17-00_01-19-40_label_A.npy\\n', 'C:\\\\Users\\\\pradh\\\\Downloads\\\\XDVioDet-master\\\\XDVioDet-master\\\\tratrain\\\\The.Secret.Life.of.Walter.Mitty.2013__#01-20-00_01-22-08_label_A.npy\\n', 'C:\\\\Users\\\\pradh\\\\Downloads\\\\XDVioDet-master\\\\XDVioDet-master\\\\tratrain\\\\The.Secret.Life.of.Walter.Mitty.2013__#01-32-00_01-36-08_label_A.npy\\n', 'C:\\\\Users\\\\pradh\\\\Downloads\\\\XDVioDet-master\\\\XDVioDet-master\\\\tratrain\\\\The.Secret.Life.of.Walter.Mitty.2013__#01-36-20_01-40-08_label_A.npy\\n', 'C:\\\\Users\\\\pradh\\\\Downloads\\\\XDVioDet-master\\\\XDVioDet-master\\\\tratrain\\\\The.Secret.Life.of.Walter.Mitty.2013__#01-41-56_01-44-11_label_A.npy\\n', 'C:\\\\Users\\\\pradh\\\\Downloads\\\\XDVioDet-master\\\\XDVioDet-master\\\\tratrain\\\\The.World.Is.Not.Enough.1999__#00-04-40_00-06-40_label_A.npy\\n', 'C:\\\\Users\\\\pradh\\\\Downloads\\\\XDVioDet-master\\\\XDVioDet-master\\\\tratrain\\\\The.World.Is.Not.Enough.1999__#00-17-50_00-19-00_label_A.npy\\n', 'C:\\\\Users\\\\pradh\\\\Downloads\\\\XDVioDet-master\\\\XDVioDet-master\\\\tratrain\\\\The.World.Is.Not.Enough.1999__#00-24-30_00-26-00_label_A.npy\\n', 'C:\\\\Users\\\\pradh\\\\Downloads\\\\XDVioDet-master\\\\XDVioDet-master\\\\tratrain\\\\The.World.Is.Not.Enough.1999__#00-40-40_00-42-43_label_A.npy\\n', 'C:\\\\Users\\\\pradh\\\\Downloads\\\\XDVioDet-master\\\\XDVioDet-master\\\\tratrain\\\\Thelma...Louise.1991__#00-22-20_00-23-10_label_A.npy\\n', 'C:\\\\Users\\\\pradh\\\\Downloads\\\\XDVioDet-master\\\\XDVioDet-master\\\\tratrain\\\\Thelma...Louise.1991__#00-23-40_00-24-40_label_A.npy\\n', 'C:\\\\Users\\\\pradh\\\\Downloads\\\\XDVioDet-master\\\\XDVioDet-master\\\\tratrain\\\\Thelma...Louise.1991__#01-59-20_02-01-00_label_A.npy\\n', 'C:\\\\Users\\\\pradh\\\\Downloads\\\\XDVioDet-master\\\\XDVioDet-master\\\\tratrain\\\\Tropa.de.Elite.2.2010__#00-15-00_00-16-50_label_A.npy\\n', 'C:\\\\Users\\\\pradh\\\\Downloads\\\\XDVioDet-master\\\\XDVioDet-master\\\\tratrain\\\\Tropa.de.Elite.2.2010__#00-20-05_00-23-30_label_A.npy\\n', 'C:\\\\Users\\\\pradh\\\\Downloads\\\\XDVioDet-master\\\\XDVioDet-master\\\\tratrain\\\\Tropa.de.Elite.2.2010__#00-24-40_00-27-00_label_A.npy\\n', 'C:\\\\Users\\\\pradh\\\\Downloads\\\\XDVioDet-master\\\\XDVioDet-master\\\\tratrain\\\\Tropa.de.Elite.2.2010__#00-35-46_00-36-40_label_A.npy\\n', 'C:\\\\Users\\\\pradh\\\\Downloads\\\\XDVioDet-master\\\\XDVioDet-master\\\\tratrain\\\\Tropa.de.Elite.2.2010__#00-40-41_00-41-40_label_A.npy\\n', 'C:\\\\Users\\\\pradh\\\\Downloads\\\\XDVioDet-master\\\\XDVioDet-master\\\\tratrain\\\\Tropa.de.Elite.2.2010__#00-43-02_00-44-01_label_A.npy\\n', 'C:\\\\Users\\\\pradh\\\\Downloads\\\\XDVioDet-master\\\\XDVioDet-master\\\\tratrain\\\\Tropa.de.Elite.2.2010__#00-45-11_00-46-10_label_A.npy\\n', 'C:\\\\Users\\\\pradh\\\\Downloads\\\\XDVioDet-master\\\\XDVioDet-master\\\\tratrain\\\\Tropa.de.Elite.2.2010__#00-46-55_00-48-20_label_A.npy\\n', 'C:\\\\Users\\\\pradh\\\\Downloads\\\\XDVioDet-master\\\\XDVioDet-master\\\\tratrain\\\\Tropa.de.Elite.2.2010__#00-49-00_00-50-20_label_A.npy\\n', 'C:\\\\Users\\\\pradh\\\\Downloads\\\\XDVioDet-master\\\\XDVioDet-master\\\\tratrain\\\\Tropa.de.Elite.2.2010__#01-01-00_01-02-30_label_A.npy\\n', 'C:\\\\Users\\\\pradh\\\\Downloads\\\\XDVioDet-master\\\\XDVioDet-master\\\\tratrain\\\\Tropa.de.Elite.2.2010__#01-14-45_01-15-40_label_A.npy\\n', 'C:\\\\Users\\\\pradh\\\\Downloads\\\\XDVioDet-master\\\\XDVioDet-master\\\\tratrain\\\\Tropa.de.Elite.2.2010__#01-16-00_01-19-30_label_A.npy\\n', 'C:\\\\Users\\\\pradh\\\\Downloads\\\\XDVioDet-master\\\\XDVioDet-master\\\\tratrain\\\\Tropa.de.Elite.2.2010__#01-22-30_01-24-00_label_A.npy\\n', 'C:\\\\Users\\\\pradh\\\\Downloads\\\\XDVioDet-master\\\\XDVioDet-master\\\\tratrain\\\\Tropa.de.Elite.2.2010__#01-29-26_01-30-50_label_A.npy\\n', 'C:\\\\Users\\\\pradh\\\\Downloads\\\\XDVioDet-master\\\\XDVioDet-master\\\\tratrain\\\\Tropa.de.Elite.2.2010__#01-36-12_01-37-40_label_A.npy\\n', 'C:\\\\Users\\\\pradh\\\\Downloads\\\\XDVioDet-master\\\\XDVioDet-master\\\\tratrain\\\\Tropa.de.Elite.2007__#00-12-10_00-13-30_label_A.npy\\n', 'C:\\\\Users\\\\pradh\\\\Downloads\\\\XDVioDet-master\\\\XDVioDet-master\\\\tratrain\\\\Tropa.de.Elite.2007__#00-15-08_00-17-08_label_A.npy\\n', 'C:\\\\Users\\\\pradh\\\\Downloads\\\\XDVioDet-master\\\\XDVioDet-master\\\\tratrain\\\\Tropa.de.Elite.2007__#00-19-31_00-22-31_label_A.npy\\n', 'C:\\\\Users\\\\pradh\\\\Downloads\\\\XDVioDet-master\\\\XDVioDet-master\\\\tratrain\\\\Tropa.de.Elite.2007__#00-30-43_00-34-31_label_A.npy\\n', 'C:\\\\Users\\\\pradh\\\\Downloads\\\\XDVioDet-master\\\\XDVioDet-master\\\\tratrain\\\\Tropa.de.Elite.2007__#00-49-05_00-50-05_label_A.npy\\n', 'C:\\\\Users\\\\pradh\\\\Downloads\\\\XDVioDet-master\\\\XDVioDet-master\\\\tratrain\\\\Tropa.de.Elite.2007__#01-06-30_01-08-50_label_A.npy\\n', 'C:\\\\Users\\\\pradh\\\\Downloads\\\\XDVioDet-master\\\\XDVioDet-master\\\\tratrain\\\\Yellow.Sea.2010__#00-02-18_00-03-20_label_A.npy\\n', 'C:\\\\Users\\\\pradh\\\\Downloads\\\\XDVioDet-master\\\\XDVioDet-master\\\\tratrain\\\\Yellow.Sea.2010__#00-03-45_00-04-53_label_A.npy\\n', 'C:\\\\Users\\\\pradh\\\\Downloads\\\\XDVioDet-master\\\\XDVioDet-master\\\\tratrain\\\\Yellow.Sea.2010__#00-08-05_00-09-11_label_A.npy\\n', 'C:\\\\Users\\\\pradh\\\\Downloads\\\\XDVioDet-master\\\\XDVioDet-master\\\\tratrain\\\\Yellow.Sea.2010__#00-13-00_00-14-07_label_A.npy\\n', 'C:\\\\Users\\\\pradh\\\\Downloads\\\\XDVioDet-master\\\\XDVioDet-master\\\\tratrain\\\\Yellow.Sea.2010__#00-15-34_00-16-47_label_A.npy\\n', 'C:\\\\Users\\\\pradh\\\\Downloads\\\\XDVioDet-master\\\\XDVioDet-master\\\\tratrain\\\\Yellow.Sea.2010__#00-43-00_00-43-51_label_A.npy\\n', 'C:\\\\Users\\\\pradh\\\\Downloads\\\\XDVioDet-master\\\\XDVioDet-master\\\\tratrain\\\\Yellow.Sea.2010__#00-45-37_00-46-43_label_A.npy\\n', 'C:\\\\Users\\\\pradh\\\\Downloads\\\\XDVioDet-master\\\\XDVioDet-master\\\\tratrain\\\\Yellow.Sea.2010__#00-58-52_00-59-53_label_A.npy\\n', 'C:\\\\Users\\\\pradh\\\\Downloads\\\\XDVioDet-master\\\\XDVioDet-master\\\\tratrain\\\\Yellow.Sea.2010__#01-13-19_01-14-20_label_A.npy\\n', 'C:\\\\Users\\\\pradh\\\\Downloads\\\\XDVioDet-master\\\\XDVioDet-master\\\\tratrain\\\\Yellow.Sea.2010__#01-18-40_01-19-32_label_A.npy\\n', 'C:\\\\Users\\\\pradh\\\\Downloads\\\\XDVioDet-master\\\\XDVioDet-master\\\\tratrain\\\\Yellow.Sea.2010__#01-27-11_01-28-05_label_A.npy\\n', 'C:\\\\Users\\\\pradh\\\\Downloads\\\\XDVioDet-master\\\\XDVioDet-master\\\\tratrain\\\\Yellow.Sea.2010__#01-44-02_01-45-02_label_A.npy\\n', 'C:\\\\Users\\\\pradh\\\\Downloads\\\\XDVioDet-master\\\\XDVioDet-master\\\\tratrain\\\\Yellow.Sea.2010__#02-11-06_02-12-19_label_A.npy\\n', 'C:\\\\Users\\\\pradh\\\\Downloads\\\\XDVioDet-master\\\\XDVioDet-master\\\\tratrain\\\\Young.And.Dangerous.I.1996__#0-04-45_0-05-49_label_A.npy\\n', 'C:\\\\Users\\\\pradh\\\\Downloads\\\\XDVioDet-master\\\\XDVioDet-master\\\\tratrain\\\\Young.And.Dangerous.I.1996__#0-15-16_0-15-30_label_A.npy\\n', 'C:\\\\Users\\\\pradh\\\\Downloads\\\\XDVioDet-master\\\\XDVioDet-master\\\\tratrain\\\\Young.And.Dangerous.I.1996__#0-39-30_0-41-40_label_A.npy\\n', 'C:\\\\Users\\\\pradh\\\\Downloads\\\\XDVioDet-master\\\\XDVioDet-master\\\\tratrain\\\\Young.And.Dangerous.I.1996__#01-18-19_01-19-39_label_A.npy\\n', 'C:\\\\Users\\\\pradh\\\\Downloads\\\\XDVioDet-master\\\\XDVioDet-master\\\\tratrain\\\\Young.And.Dangerous.I.1996__#01-38-25_01-38-49_label_A.npy\\n', 'C:\\\\Users\\\\pradh\\\\Downloads\\\\XDVioDet-master\\\\XDVioDet-master\\\\tratrain\\\\Young.And.Dangerous.II.1996__#0-04-44_0-05-44_label_A.npy\\n', 'C:\\\\Users\\\\pradh\\\\Downloads\\\\XDVioDet-master\\\\XDVioDet-master\\\\tratrain\\\\Young.And.Dangerous.II.1996__#0-32-36_0-33-56_label_A.npy\\n', 'C:\\\\Users\\\\pradh\\\\Downloads\\\\XDVioDet-master\\\\XDVioDet-master\\\\tratrain\\\\Young.And.Dangerous.II.1996__#0-43-09_0-44-09_label_A.npy\\n', 'C:\\\\Users\\\\pradh\\\\Downloads\\\\XDVioDet-master\\\\XDVioDet-master\\\\tratrain\\\\Young.And.Dangerous.II.1996__#01-27-05_01-28-15_label_A.npy\\n', 'C:\\\\Users\\\\pradh\\\\Downloads\\\\XDVioDet-master\\\\XDVioDet-master\\\\tratrain\\\\Young.And.Dangerous.III.1996__#00-05-54_0-06-33_label_A.npy\\n', 'C:\\\\Users\\\\pradh\\\\Downloads\\\\XDVioDet-master\\\\XDVioDet-master\\\\tratrain\\\\Young.And.Dangerous.III.1996__#00-12-05_00-13-06_label_A.npy\\n', 'C:\\\\Users\\\\pradh\\\\Downloads\\\\XDVioDet-master\\\\XDVioDet-master\\\\tratrain\\\\Young.And.Dangerous.III.1996__#01-26-23_01-27-23_label_A.npy\\n', 'C:\\\\Users\\\\pradh\\\\Downloads\\\\XDVioDet-master\\\\XDVioDet-master\\\\tratrain\\\\Young.And.Dangerous.IV.1997__#0-02-36_0-06-36_label_A.npy\\n', 'C:\\\\Users\\\\pradh\\\\Downloads\\\\XDVioDet-master\\\\XDVioDet-master\\\\tratrain\\\\Your.Name.2016__#00-01-45_00-02-44_label_A.npy\\n', 'C:\\\\Users\\\\pradh\\\\Downloads\\\\XDVioDet-master\\\\XDVioDet-master\\\\tratrain\\\\Your.Name.2016__#00-02-45_00-04-15_label_A.npy\\n', 'C:\\\\Users\\\\pradh\\\\Downloads\\\\XDVioDet-master\\\\XDVioDet-master\\\\tratrain\\\\Your.Name.2016__#00-04-20_00-05-35_label_A.npy\\n', 'C:\\\\Users\\\\pradh\\\\Downloads\\\\XDVioDet-master\\\\XDVioDet-master\\\\tratrain\\\\Your.Name.2016__#00-08-55_00-10-50_label_A.npy\\n', 'C:\\\\Users\\\\pradh\\\\Downloads\\\\XDVioDet-master\\\\XDVioDet-master\\\\tratrain\\\\Your.Name.2016__#00-11-00_00-15-08_label_A.npy\\n', 'C:\\\\Users\\\\pradh\\\\Downloads\\\\XDVioDet-master\\\\XDVioDet-master\\\\tratrain\\\\Your.Name.2016__#00-16-18_00-17-27_label_A.npy\\n', 'C:\\\\Users\\\\pradh\\\\Downloads\\\\XDVioDet-master\\\\XDVioDet-master\\\\tratrain\\\\Your.Name.2016__#00-17-30_00-19-10_label_A.npy\\n', 'C:\\\\Users\\\\pradh\\\\Downloads\\\\XDVioDet-master\\\\XDVioDet-master\\\\tratrain\\\\Your.Name.2016__#00-20-35_00-23-06_label_A.npy\\n', 'C:\\\\Users\\\\pradh\\\\Downloads\\\\XDVioDet-master\\\\XDVioDet-master\\\\tratrain\\\\Your.Name.2016__#00-23-50_00-24-31_label_A.npy\\n', 'C:\\\\Users\\\\pradh\\\\Downloads\\\\XDVioDet-master\\\\XDVioDet-master\\\\tratrain\\\\Your.Name.2016__#00-25-20_00-29-40_label_A.npy\\n', 'C:\\\\Users\\\\pradh\\\\Downloads\\\\XDVioDet-master\\\\XDVioDet-master\\\\tratrain\\\\Your.Name.2016__#00-30-00_00-33-40_label_A.npy\\n', 'C:\\\\Users\\\\pradh\\\\Downloads\\\\XDVioDet-master\\\\XDVioDet-master\\\\tratrain\\\\Your.Name.2016__#00-33-52_00-36-00_label_A.npy\\n', 'C:\\\\Users\\\\pradh\\\\Downloads\\\\XDVioDet-master\\\\XDVioDet-master\\\\tratrain\\\\Your.Name.2016__#00-36-52_00-41-00_label_A.npy\\n', 'C:\\\\Users\\\\pradh\\\\Downloads\\\\XDVioDet-master\\\\XDVioDet-master\\\\tratrain\\\\Your.Name.2016__#00-43-52_00-46-55_label_A.npy\\n', 'C:\\\\Users\\\\pradh\\\\Downloads\\\\XDVioDet-master\\\\XDVioDet-master\\\\tratrain\\\\Your.Name.2016__#00-47-00_00-49-30_label_A.npy\\n', 'C:\\\\Users\\\\pradh\\\\Downloads\\\\XDVioDet-master\\\\XDVioDet-master\\\\tratrain\\\\Your.Name.2016__#00-51-55_00-55-16_label_A.npy\\n', 'C:\\\\Users\\\\pradh\\\\Downloads\\\\XDVioDet-master\\\\XDVioDet-master\\\\tratrain\\\\Your.Name.2016__#00-56-40_01-01-02_label_A.npy\\n', 'C:\\\\Users\\\\pradh\\\\Downloads\\\\XDVioDet-master\\\\XDVioDet-master\\\\tratrain\\\\Your.Name.2016__#01-05-30_01-08-59_label_A.npy\\n', 'C:\\\\Users\\\\pradh\\\\Downloads\\\\XDVioDet-master\\\\XDVioDet-master\\\\tratrain\\\\Your.Name.2016__#01-09-30_01-16-59_label_A.npy\\n', 'C:\\\\Users\\\\pradh\\\\Downloads\\\\XDVioDet-master\\\\XDVioDet-master\\\\tratrain\\\\Your.Name.2016__#01-17-00_01-19-40_label_A.npy\\n', 'C:\\\\Users\\\\pradh\\\\Downloads\\\\XDVioDet-master\\\\XDVioDet-master\\\\tratrain\\\\Your.Name.2016__#01-20-00_01-22-08_label_A.npy\\n', 'C:\\\\Users\\\\pradh\\\\Downloads\\\\XDVioDet-master\\\\XDVioDet-master\\\\tratrain\\\\Your.Name.2016__#01-22-20_01-24-05_label_A.npy\\n', 'C:\\\\Users\\\\pradh\\\\Downloads\\\\XDVioDet-master\\\\XDVioDet-master\\\\tratrain\\\\Your.Name.2016__#01-32-40_01-36-08_label_A.npy\\n', 'C:\\\\Users\\\\pradh\\\\Downloads\\\\XDVioDet-master\\\\XDVioDet-master\\\\tratrain\\\\Your.Name.2016__#01-36-20_01-40-41_label_A.npy\\n', 'C:\\\\Users\\\\pradh\\\\Downloads\\\\XDVioDet-master\\\\XDVioDet-master\\\\tratrain\\\\v=-41qhay-Zzg__#1_label_A.npy\\n', 'C:\\\\Users\\\\pradh\\\\Downloads\\\\XDVioDet-master\\\\XDVioDet-master\\\\tratrain\\\\v=-88mOGutFXE__#1_label_A.npy\\n', 'C:\\\\Users\\\\pradh\\\\Downloads\\\\XDVioDet-master\\\\XDVioDet-master\\\\tratrain\\\\v=-8kHD_Ca2cE__#1_label_A.npy\\n', 'C:\\\\Users\\\\pradh\\\\Downloads\\\\XDVioDet-master\\\\XDVioDet-master\\\\tratrain\\\\v=-CnM_aqi4eg__#1_label_A.npy\\n', 'C:\\\\Users\\\\pradh\\\\Downloads\\\\XDVioDet-master\\\\XDVioDet-master\\\\tratrain\\\\v=-Iu0pvZP-dM__#1_label_A.npy\\n', 'C:\\\\Users\\\\pradh\\\\Downloads\\\\XDVioDet-master\\\\XDVioDet-master\\\\tratrain\\\\v=-RdREpFcycY__#1_label_A.npy\\n', 'C:\\\\Users\\\\pradh\\\\Downloads\\\\XDVioDet-master\\\\XDVioDet-master\\\\tratrain\\\\v=-bIDfnyelC4__#1_label_A.npy\\n', 'C:\\\\Users\\\\pradh\\\\Downloads\\\\XDVioDet-master\\\\XDVioDet-master\\\\tratrain\\\\v=-eBiZHQDk9o__#1_label_A.npy\\n', 'C:\\\\Users\\\\pradh\\\\Downloads\\\\XDVioDet-master\\\\XDVioDet-master\\\\tratrain\\\\v=-n0GOS3UWL8__#1_label_A.npy\\n', 'C:\\\\Users\\\\pradh\\\\Downloads\\\\XDVioDet-master\\\\XDVioDet-master\\\\tratrain\\\\v=07hFujJo-3g__#1_label_A.npy\\n', 'C:\\\\Users\\\\pradh\\\\Downloads\\\\XDVioDet-master\\\\XDVioDet-master\\\\tratrain\\\\v=0FYoyva-TFs__#1_label_A.npy\\n', 'C:\\\\Users\\\\pradh\\\\Downloads\\\\XDVioDet-master\\\\XDVioDet-master\\\\tratrain\\\\v=0O3LbHS5Xss__#1_label_A.npy\\n', 'C:\\\\Users\\\\pradh\\\\Downloads\\\\XDVioDet-master\\\\XDVioDet-master\\\\tratrain\\\\v=0_qTxNIQy7I__#1_label_A.npy\\n', 'C:\\\\Users\\\\pradh\\\\Downloads\\\\XDVioDet-master\\\\XDVioDet-master\\\\tratrain\\\\v=0a8dod67ecs__#1_label_A.npy\\n', 'C:\\\\Users\\\\pradh\\\\Downloads\\\\XDVioDet-master\\\\XDVioDet-master\\\\tratrain\\\\v=0hi_wpaM54s__#1_label_A.npy\\n', 'C:\\\\Users\\\\pradh\\\\Downloads\\\\XDVioDet-master\\\\XDVioDet-master\\\\tratrain\\\\v=0k7z2syu-4g__#1_label_A.npy\\n', 'C:\\\\Users\\\\pradh\\\\Downloads\\\\XDVioDet-master\\\\XDVioDet-master\\\\tratrain\\\\v=0nNh2MZ_5bY__#1_label_A.npy\\n', 'C:\\\\Users\\\\pradh\\\\Downloads\\\\XDVioDet-master\\\\XDVioDet-master\\\\tratrain\\\\v=0qCqt8jLPaE__#1_label_A.npy\\n', 'C:\\\\Users\\\\pradh\\\\Downloads\\\\XDVioDet-master\\\\XDVioDet-master\\\\tratrain\\\\v=0vVOXlgHC1U__#00-00-00_00-06-00_label_A.npy\\n', 'C:\\\\Users\\\\pradh\\\\Downloads\\\\XDVioDet-master\\\\XDVioDet-master\\\\tratrain\\\\v=0vVOXlgHC1U__#00-06-00_00-12-00_label_A.npy\\n', 'C:\\\\Users\\\\pradh\\\\Downloads\\\\XDVioDet-master\\\\XDVioDet-master\\\\tratrain\\\\v=0vVOXlgHC1U__#00-18-00_00-24-00_label_A.npy\\n', 'C:\\\\Users\\\\pradh\\\\Downloads\\\\XDVioDet-master\\\\XDVioDet-master\\\\tratrain\\\\v=0vVOXlgHC1U__#00-24-00_00-30-00_label_A.npy\\n', 'C:\\\\Users\\\\pradh\\\\Downloads\\\\XDVioDet-master\\\\XDVioDet-master\\\\tratrain\\\\v=0vVOXlgHC1U__#00-30-00_00-36-00_label_A.npy\\n', 'C:\\\\Users\\\\pradh\\\\Downloads\\\\XDVioDet-master\\\\XDVioDet-master\\\\tratrain\\\\v=0vVOXlgHC1U__#00-36-00_00-42-00_label_A.npy\\n', 'C:\\\\Users\\\\pradh\\\\Downloads\\\\XDVioDet-master\\\\XDVioDet-master\\\\tratrain\\\\v=0vVOXlgHC1U__#00-42-00_00-48-00_label_A.npy\\n', 'C:\\\\Users\\\\pradh\\\\Downloads\\\\XDVioDet-master\\\\XDVioDet-master\\\\tratrain\\\\v=0vVOXlgHC1U__#00-54-00_01-00-00_label_A.npy\\n', 'C:\\\\Users\\\\pradh\\\\Downloads\\\\XDVioDet-master\\\\XDVioDet-master\\\\tratrain\\\\v=0vVOXlgHC1U__#01-00-00_01-06-00_label_A.npy\\n', 'C:\\\\Users\\\\pradh\\\\Downloads\\\\XDVioDet-master\\\\XDVioDet-master\\\\tratrain\\\\v=0vVOXlgHC1U__#01-06-00_01-12-50_label_A.npy\\n', 'C:\\\\Users\\\\pradh\\\\Downloads\\\\XDVioDet-master\\\\XDVioDet-master\\\\tratrain\\\\v=12Jq0mFovdg__#1_label_A.npy\\n', 'C:\\\\Users\\\\pradh\\\\Downloads\\\\XDVioDet-master\\\\XDVioDet-master\\\\tratrain\\\\v=14oeLr6xkC8__#1_label_A.npy\\n', 'C:\\\\Users\\\\pradh\\\\Downloads\\\\XDVioDet-master\\\\XDVioDet-master\\\\tratrain\\\\v=1CGPBylxXDQ__#1_label_A.npy\\n', 'C:\\\\Users\\\\pradh\\\\Downloads\\\\XDVioDet-master\\\\XDVioDet-master\\\\tratrain\\\\v=1TsUkR8nR7I__#1_label_A.npy\\n', 'C:\\\\Users\\\\pradh\\\\Downloads\\\\XDVioDet-master\\\\XDVioDet-master\\\\tratrain\\\\v=1Up20_cLdVQ__#1_label_A.npy\\n', 'C:\\\\Users\\\\pradh\\\\Downloads\\\\XDVioDet-master\\\\XDVioDet-master\\\\tratrain\\\\v=1Zp0CITmdoY__#1_label_A.npy\\n', 'C:\\\\Users\\\\pradh\\\\Downloads\\\\XDVioDet-master\\\\XDVioDet-master\\\\tratrain\\\\v=1ifHYTW_AU0__#1_label_A.npy\\n', 'C:\\\\Users\\\\pradh\\\\Downloads\\\\XDVioDet-master\\\\XDVioDet-master\\\\tratrain\\\\v=1jMf0RGRpnc__#1_label_A.npy\\n', 'C:\\\\Users\\\\pradh\\\\Downloads\\\\XDVioDet-master\\\\XDVioDet-master\\\\tratrain\\\\v=1wR2LfX-R0Q__#1_label_A.npy\\n', 'C:\\\\Users\\\\pradh\\\\Downloads\\\\XDVioDet-master\\\\XDVioDet-master\\\\tratrain\\\\v=20BgiYmYaW8__#1_label_A.npy\\n', 'C:\\\\Users\\\\pradh\\\\Downloads\\\\XDVioDet-master\\\\XDVioDet-master\\\\tratrain\\\\v=271f4q4ZUJ8__#1_label_A.npy\\n', 'C:\\\\Users\\\\pradh\\\\Downloads\\\\XDVioDet-master\\\\XDVioDet-master\\\\tratrain\\\\v=2BYoPUOXhVA__#1_label_A.npy\\n', 'C:\\\\Users\\\\pradh\\\\Downloads\\\\XDVioDet-master\\\\XDVioDet-master\\\\tratrain\\\\v=2CZ8fejXB7Y__#1_label_A.npy\\n', 'C:\\\\Users\\\\pradh\\\\Downloads\\\\XDVioDet-master\\\\XDVioDet-master\\\\tratrain\\\\v=2QASTfhFPZs__#1_label_A.npy\\n', 'C:\\\\Users\\\\pradh\\\\Downloads\\\\XDVioDet-master\\\\XDVioDet-master\\\\tratrain\\\\v=2QKb8ngEucw__#1_label_A.npy\\n', 'C:\\\\Users\\\\pradh\\\\Downloads\\\\XDVioDet-master\\\\XDVioDet-master\\\\tratrain\\\\v=2QeZPWlLufc__#1_label_A.npy\\n', 'C:\\\\Users\\\\pradh\\\\Downloads\\\\XDVioDet-master\\\\XDVioDet-master\\\\tratrain\\\\v=2REkZG-dhHc__#1_label_A.npy\\n', 'C:\\\\Users\\\\pradh\\\\Downloads\\\\XDVioDet-master\\\\XDVioDet-master\\\\tratrain\\\\v=2YU-dTvnFJw__#1_label_A.npy\\n', 'C:\\\\Users\\\\pradh\\\\Downloads\\\\XDVioDet-master\\\\XDVioDet-master\\\\tratrain\\\\v=2l5XPZK-55g__#1_label_A.npy\\n', 'C:\\\\Users\\\\pradh\\\\Downloads\\\\XDVioDet-master\\\\XDVioDet-master\\\\tratrain\\\\v=2lXh2n0aPyw__#1_label_A.npy\\n', 'C:\\\\Users\\\\pradh\\\\Downloads\\\\XDVioDet-master\\\\XDVioDet-master\\\\tratrain\\\\v=2oUyemslvxw__#1_label_A.npy\\n', 'C:\\\\Users\\\\pradh\\\\Downloads\\\\XDVioDet-master\\\\XDVioDet-master\\\\tratrain\\\\v=2r82UgDpw04__#1_label_A.npy\\n', 'C:\\\\Users\\\\pradh\\\\Downloads\\\\XDVioDet-master\\\\XDVioDet-master\\\\tratrain\\\\v=2xLtOm67sN0__#1_label_A.npy\\n', 'C:\\\\Users\\\\pradh\\\\Downloads\\\\XDVioDet-master\\\\XDVioDet-master\\\\tratrain\\\\v=35KqGNa1FGA__#1_label_A.npy\\n', 'C:\\\\Users\\\\pradh\\\\Downloads\\\\XDVioDet-master\\\\XDVioDet-master\\\\tratrain\\\\v=3A07-qclqpk__#1_label_A.npy\\n', 'C:\\\\Users\\\\pradh\\\\Downloads\\\\XDVioDet-master\\\\XDVioDet-master\\\\tratrain\\\\v=3E5NyhlB70Q__#1_label_A.npy\\n', 'C:\\\\Users\\\\pradh\\\\Downloads\\\\XDVioDet-master\\\\XDVioDet-master\\\\tratrain\\\\v=3FXUw98rrUY__#1_label_A.npy\\n', 'C:\\\\Users\\\\pradh\\\\Downloads\\\\XDVioDet-master\\\\XDVioDet-master\\\\tratrain\\\\v=3I8enjGYp-s__#1_label_A.npy\\n', 'C:\\\\Users\\\\pradh\\\\Downloads\\\\XDVioDet-master\\\\XDVioDet-master\\\\tratrain\\\\v=3K40LT7Q_7s__#1_label_A.npy\\n', 'C:\\\\Users\\\\pradh\\\\Downloads\\\\XDVioDet-master\\\\XDVioDet-master\\\\tratrain\\\\v=3KyiE_NGsrc__#1_label_A.npy\\n', 'C:\\\\Users\\\\pradh\\\\Downloads\\\\XDVioDet-master\\\\XDVioDet-master\\\\tratrain\\\\v=3M2NCcSxKLY__#1_label_A.npy\\n', 'C:\\\\Users\\\\pradh\\\\Downloads\\\\XDVioDet-master\\\\XDVioDet-master\\\\tratrain\\\\v=3OnSGQzJGOY__#1_label_A.npy\\n', 'C:\\\\Users\\\\pradh\\\\Downloads\\\\XDVioDet-master\\\\XDVioDet-master\\\\tratrain\\\\v=3QEKJG5pujA__#1_label_A.npy\\n', 'C:\\\\Users\\\\pradh\\\\Downloads\\\\XDVioDet-master\\\\XDVioDet-master\\\\tratrain\\\\v=3ReHk7UqqhA__#1_label_A.npy\\n', 'C:\\\\Users\\\\pradh\\\\Downloads\\\\XDVioDet-master\\\\XDVioDet-master\\\\tratrain\\\\v=3V6ucfKL6nI__#1_label_A.npy\\n', 'C:\\\\Users\\\\pradh\\\\Downloads\\\\XDVioDet-master\\\\XDVioDet-master\\\\tratrain\\\\v=3XyOgx9bCUo__#1_label_A.npy\\n', 'C:\\\\Users\\\\pradh\\\\Downloads\\\\XDVioDet-master\\\\XDVioDet-master\\\\tratrain\\\\v=3ZdoX9iYRuM__#1_label_A.npy\\n', 'C:\\\\Users\\\\pradh\\\\Downloads\\\\XDVioDet-master\\\\XDVioDet-master\\\\tratrain\\\\v=3wFnffG183M__#1_label_A.npy\\n', 'C:\\\\Users\\\\pradh\\\\Downloads\\\\XDVioDet-master\\\\XDVioDet-master\\\\tratrain\\\\v=3yCAZWdqX_Y__#1_label_A.npy\\n', 'C:\\\\Users\\\\pradh\\\\Downloads\\\\XDVioDet-master\\\\XDVioDet-master\\\\tratrain\\\\v=4IEPcf9JWFU__#1_label_A.npy\\n', 'C:\\\\Users\\\\pradh\\\\Downloads\\\\XDVioDet-master\\\\XDVioDet-master\\\\tratrain\\\\v=4Mtad4D2I6Y__#1_label_A.npy\\n', 'C:\\\\Users\\\\pradh\\\\Downloads\\\\XDVioDet-master\\\\XDVioDet-master\\\\tratrain\\\\v=4Wxn4d0ISV0__#1_label_A.npy\\n', 'C:\\\\Users\\\\pradh\\\\Downloads\\\\XDVioDet-master\\\\XDVioDet-master\\\\tratrain\\\\v=4cw1WZxwJ3w__#1_label_A.npy\\n', 'C:\\\\Users\\\\pradh\\\\Downloads\\\\XDVioDet-master\\\\XDVioDet-master\\\\tratrain\\\\v=4dDQk6dJL3A__#1_label_A.npy\\n', 'C:\\\\Users\\\\pradh\\\\Downloads\\\\XDVioDet-master\\\\XDVioDet-master\\\\tratrain\\\\v=4ioUvRoMNjo__#1_label_A.npy\\n', 'C:\\\\Users\\\\pradh\\\\Downloads\\\\XDVioDet-master\\\\XDVioDet-master\\\\tratrain\\\\v=4sbvmkX9mDY__#1_label_A.npy\\n', 'C:\\\\Users\\\\pradh\\\\Downloads\\\\XDVioDet-master\\\\XDVioDet-master\\\\tratrain\\\\v=4scM5pjdavI__#1_label_A.npy\\n', 'C:\\\\Users\\\\pradh\\\\Downloads\\\\XDVioDet-master\\\\XDVioDet-master\\\\tratrain\\\\v=56jgE5R2i1k__#1_label_A.npy\\n', 'C:\\\\Users\\\\pradh\\\\Downloads\\\\XDVioDet-master\\\\XDVioDet-master\\\\tratrain\\\\v=5BEugKgdrxU__#1_label_A.npy\\n', 'C:\\\\Users\\\\pradh\\\\Downloads\\\\XDVioDet-master\\\\XDVioDet-master\\\\tratrain\\\\v=5Rtsav021Rs__#00-00-00_00-03-00_label_A.npy\\n', 'C:\\\\Users\\\\pradh\\\\Downloads\\\\XDVioDet-master\\\\XDVioDet-master\\\\tratrain\\\\v=5Rtsav021Rs__#00-03-00_00-06-00_label_A.npy\\n', 'C:\\\\Users\\\\pradh\\\\Downloads\\\\XDVioDet-master\\\\XDVioDet-master\\\\tratrain\\\\v=5Rtsav021Rs__#00-06-00_00-09-00_label_A.npy\\n', 'C:\\\\Users\\\\pradh\\\\Downloads\\\\XDVioDet-master\\\\XDVioDet-master\\\\tratrain\\\\v=5Rtsav021Rs__#00-09-00_00-12-30_label_A.npy\\n', 'C:\\\\Users\\\\pradh\\\\Downloads\\\\XDVioDet-master\\\\XDVioDet-master\\\\tratrain\\\\v=5TPecJ1aUs8__#1_label_A.npy\\n', 'C:\\\\Users\\\\pradh\\\\Downloads\\\\XDVioDet-master\\\\XDVioDet-master\\\\tratrain\\\\v=5W5-zw0wVhE__#1_label_A.npy\\n', 'C:\\\\Users\\\\pradh\\\\Downloads\\\\XDVioDet-master\\\\XDVioDet-master\\\\tratrain\\\\v=5XUHlSWG92I__#1_label_A.npy\\n', 'C:\\\\Users\\\\pradh\\\\Downloads\\\\XDVioDet-master\\\\XDVioDet-master\\\\tratrain\\\\v=5dRZK_P5D3c__#1_label_A.npy\\n', 'C:\\\\Users\\\\pradh\\\\Downloads\\\\XDVioDet-master\\\\XDVioDet-master\\\\tratrain\\\\v=5eN8R6C7AZg__#1_label_A.npy\\n', 'C:\\\\Users\\\\pradh\\\\Downloads\\\\XDVioDet-master\\\\XDVioDet-master\\\\tratrain\\\\v=5j1wLNnUFhY__#1_label_A.npy\\n', 'C:\\\\Users\\\\pradh\\\\Downloads\\\\XDVioDet-master\\\\XDVioDet-master\\\\tratrain\\\\v=5yOKW0R7qhg__#1_label_A.npy\\n', 'C:\\\\Users\\\\pradh\\\\Downloads\\\\XDVioDet-master\\\\XDVioDet-master\\\\tratrain\\\\v=62QZ0WROOKc__#1_label_A.npy\\n', 'C:\\\\Users\\\\pradh\\\\Downloads\\\\XDVioDet-master\\\\XDVioDet-master\\\\tratrain\\\\v=63q26FQgqjI__#1_label_A.npy\\n', 'C:\\\\Users\\\\pradh\\\\Downloads\\\\XDVioDet-master\\\\XDVioDet-master\\\\tratrain\\\\v=64zaMwzuZBo__#1_label_A.npy\\n', 'C:\\\\Users\\\\pradh\\\\Downloads\\\\XDVioDet-master\\\\XDVioDet-master\\\\tratrain\\\\v=6AcZvntrYL8__#1_label_A.npy\\n', 'C:\\\\Users\\\\pradh\\\\Downloads\\\\XDVioDet-master\\\\XDVioDet-master\\\\tratrain\\\\v=6BKWQCVkTKw__#1_label_A.npy\\n', 'C:\\\\Users\\\\pradh\\\\Downloads\\\\XDVioDet-master\\\\XDVioDet-master\\\\tratrain\\\\v=6Jr-XTGY81E__#1_label_A.npy\\n', 'C:\\\\Users\\\\pradh\\\\Downloads\\\\XDVioDet-master\\\\XDVioDet-master\\\\tratrain\\\\v=6R5hQkU83p4__#1_label_A.npy\\n', 'C:\\\\Users\\\\pradh\\\\Downloads\\\\XDVioDet-master\\\\XDVioDet-master\\\\tratrain\\\\v=6braXHvzJVc__#1_label_A.npy\\n', 'C:\\\\Users\\\\pradh\\\\Downloads\\\\XDVioDet-master\\\\XDVioDet-master\\\\tratrain\\\\v=6nwNVRG_0Zk__#1_label_A.npy\\n', 'C:\\\\Users\\\\pradh\\\\Downloads\\\\XDVioDet-master\\\\XDVioDet-master\\\\tratrain\\\\v=6pNGAwElTF4__#1_label_A.npy\\n', 'C:\\\\Users\\\\pradh\\\\Downloads\\\\XDVioDet-master\\\\XDVioDet-master\\\\tratrain\\\\v=6s0JhcWxNKU__#1_label_A.npy\\n', 'C:\\\\Users\\\\pradh\\\\Downloads\\\\XDVioDet-master\\\\XDVioDet-master\\\\tratrain\\\\v=6vuW7zkarfs__#1_label_A.npy\\n', 'C:\\\\Users\\\\pradh\\\\Downloads\\\\XDVioDet-master\\\\XDVioDet-master\\\\tratrain\\\\v=6zgfkDulVxk__#1_label_A.npy\\n', 'C:\\\\Users\\\\pradh\\\\Downloads\\\\XDVioDet-master\\\\XDVioDet-master\\\\tratrain\\\\v=7Ckf5ZG2H3k__#1_label_A.npy\\n', 'C:\\\\Users\\\\pradh\\\\Downloads\\\\XDVioDet-master\\\\XDVioDet-master\\\\tratrain\\\\v=7CrWzCwj_Gw__#1_label_A.npy\\n', 'C:\\\\Users\\\\pradh\\\\Downloads\\\\XDVioDet-master\\\\XDVioDet-master\\\\tratrain\\\\v=7EGsd9BtaoA__#1_label_A.npy\\n', 'C:\\\\Users\\\\pradh\\\\Downloads\\\\XDVioDet-master\\\\XDVioDet-master\\\\tratrain\\\\v=7EIlRGuV9VA__#1_label_A.npy\\n', 'C:\\\\Users\\\\pradh\\\\Downloads\\\\XDVioDet-master\\\\XDVioDet-master\\\\tratrain\\\\v=7JbMKIHOVaY__#1_label_A.npy\\n', 'C:\\\\Users\\\\pradh\\\\Downloads\\\\XDVioDet-master\\\\XDVioDet-master\\\\tratrain\\\\v=7JhY_W1CEnQ__#1_label_A.npy\\n', 'C:\\\\Users\\\\pradh\\\\Downloads\\\\XDVioDet-master\\\\XDVioDet-master\\\\tratrain\\\\v=7NuWGTbPcEA__#1_label_A.npy\\n', 'C:\\\\Users\\\\pradh\\\\Downloads\\\\XDVioDet-master\\\\XDVioDet-master\\\\tratrain\\\\v=7W1M7Pex4pk__#1_label_A.npy\\n', 'C:\\\\Users\\\\pradh\\\\Downloads\\\\XDVioDet-master\\\\XDVioDet-master\\\\tratrain\\\\v=7YvFzEgLiMk__#1_label_A.npy\\n', 'C:\\\\Users\\\\pradh\\\\Downloads\\\\XDVioDet-master\\\\XDVioDet-master\\\\tratrain\\\\v=7elCHOJESNw__#1_label_A.npy\\n', 'C:\\\\Users\\\\pradh\\\\Downloads\\\\XDVioDet-master\\\\XDVioDet-master\\\\tratrain\\\\v=7lqJYZhVzPE__#1_label_A.npy\\n', 'C:\\\\Users\\\\pradh\\\\Downloads\\\\XDVioDet-master\\\\XDVioDet-master\\\\tratrain\\\\v=7o0GnFD2yOg__#1_label_A.npy\\n', 'C:\\\\Users\\\\pradh\\\\Downloads\\\\XDVioDet-master\\\\XDVioDet-master\\\\tratrain\\\\v=7qY3sBNMqBQ__#1_label_A.npy\\n', 'C:\\\\Users\\\\pradh\\\\Downloads\\\\XDVioDet-master\\\\XDVioDet-master\\\\tratrain\\\\v=83hDjkGyF-E__#1_label_A.npy\\n', 'C:\\\\Users\\\\pradh\\\\Downloads\\\\XDVioDet-master\\\\XDVioDet-master\\\\tratrain\\\\v=86HXgfGC7ag__#1_label_A.npy\\n', 'C:\\\\Users\\\\pradh\\\\Downloads\\\\XDVioDet-master\\\\XDVioDet-master\\\\tratrain\\\\v=89PKbJ2NAqc__#1_label_A.npy\\n', 'C:\\\\Users\\\\pradh\\\\Downloads\\\\XDVioDet-master\\\\XDVioDet-master\\\\tratrain\\\\v=8DTMW08T3kw__#1_label_A.npy\\n', 'C:\\\\Users\\\\pradh\\\\Downloads\\\\XDVioDet-master\\\\XDVioDet-master\\\\tratrain\\\\v=8EeTfiBWZzU__#1_label_A.npy\\n', 'C:\\\\Users\\\\pradh\\\\Downloads\\\\XDVioDet-master\\\\XDVioDet-master\\\\tratrain\\\\v=8J7jDfSBH0U__#1_label_A.npy\\n', 'C:\\\\Users\\\\pradh\\\\Downloads\\\\XDVioDet-master\\\\XDVioDet-master\\\\tratrain\\\\v=8My2FCJXno4__#1_label_A.npy\\n', 'C:\\\\Users\\\\pradh\\\\Downloads\\\\XDVioDet-master\\\\XDVioDet-master\\\\tratrain\\\\v=8OVQrU3C-Zw__#1_label_A.npy\\n', 'C:\\\\Users\\\\pradh\\\\Downloads\\\\XDVioDet-master\\\\XDVioDet-master\\\\tratrain\\\\v=8RRnCEaQrqE__#1_label_A.npy\\n', 'C:\\\\Users\\\\pradh\\\\Downloads\\\\XDVioDet-master\\\\XDVioDet-master\\\\tratrain\\\\v=8UzJN4Z-_yQ__#1_label_A.npy\\n', 'C:\\\\Users\\\\pradh\\\\Downloads\\\\XDVioDet-master\\\\XDVioDet-master\\\\tratrain\\\\v=8VPI7etQP1U__#1_label_A.npy\\n', 'C:\\\\Users\\\\pradh\\\\Downloads\\\\XDVioDet-master\\\\XDVioDet-master\\\\tratrain\\\\v=8cTqh9tMz_I__#1_label_A.npy\\n', 'C:\\\\Users\\\\pradh\\\\Downloads\\\\XDVioDet-master\\\\XDVioDet-master\\\\tratrain\\\\v=8dbxn1vb2k8__#1_label_A.npy\\n', 'C:\\\\Users\\\\pradh\\\\Downloads\\\\XDVioDet-master\\\\XDVioDet-master\\\\tratrain\\\\v=8j8dy47BXHk__#1_label_A.npy\\n', 'C:\\\\Users\\\\pradh\\\\Downloads\\\\XDVioDet-master\\\\XDVioDet-master\\\\tratrain\\\\v=8jHXvaUbzHc__#1_label_A.npy\\n', 'C:\\\\Users\\\\pradh\\\\Downloads\\\\XDVioDet-master\\\\XDVioDet-master\\\\tratrain\\\\v=8lr4JyJjsOk__#1_label_A.npy\\n', 'C:\\\\Users\\\\pradh\\\\Downloads\\\\XDVioDet-master\\\\XDVioDet-master\\\\tratrain\\\\v=8pkJRBOjgd4__#1_label_A.npy\\n', 'C:\\\\Users\\\\pradh\\\\Downloads\\\\XDVioDet-master\\\\XDVioDet-master\\\\tratrain\\\\v=8teJmzR7Z18__#1_label_A.npy\\n', 'C:\\\\Users\\\\pradh\\\\Downloads\\\\XDVioDet-master\\\\XDVioDet-master\\\\tratrain\\\\v=8trU2j9hUpw__#1_label_A.npy\\n', 'C:\\\\Users\\\\pradh\\\\Downloads\\\\XDVioDet-master\\\\XDVioDet-master\\\\tratrain\\\\v=9-r-0PtLNU0__#1_label_A.npy\\n', 'C:\\\\Users\\\\pradh\\\\Downloads\\\\XDVioDet-master\\\\XDVioDet-master\\\\tratrain\\\\v=900cEU2L-ng__#1_label_A.npy\\n', 'C:\\\\Users\\\\pradh\\\\Downloads\\\\XDVioDet-master\\\\XDVioDet-master\\\\tratrain\\\\v=96pb-yG1buU__#1_label_A.npy\\n', 'C:\\\\Users\\\\pradh\\\\Downloads\\\\XDVioDet-master\\\\XDVioDet-master\\\\tratrain\\\\v=98eCg7EiSgg__#1_label_A.npy\\n', 'C:\\\\Users\\\\pradh\\\\Downloads\\\\XDVioDet-master\\\\XDVioDet-master\\\\tratrain\\\\v=9HGmhxIZErg__#1_label_A.npy\\n', 'C:\\\\Users\\\\pradh\\\\Downloads\\\\XDVioDet-master\\\\XDVioDet-master\\\\tratrain\\\\v=9LiI6poe3QE__#1_label_A.npy\\n', 'C:\\\\Users\\\\pradh\\\\Downloads\\\\XDVioDet-master\\\\XDVioDet-master\\\\tratrain\\\\v=9MDCwQ8_85g__#1_label_A.npy\\n', 'C:\\\\Users\\\\pradh\\\\Downloads\\\\XDVioDet-master\\\\XDVioDet-master\\\\tratrain\\\\v=9P0QnY6S-6Y__#1_label_A.npy\\n', 'C:\\\\Users\\\\pradh\\\\Downloads\\\\XDVioDet-master\\\\XDVioDet-master\\\\tratrain\\\\v=9RMUTvpLJvA__#1_label_A.npy\\n', 'C:\\\\Users\\\\pradh\\\\Downloads\\\\XDVioDet-master\\\\XDVioDet-master\\\\tratrain\\\\v=9eME1y6V-T4__#00-00-00_00-06-00_label_A.npy\\n', 'C:\\\\Users\\\\pradh\\\\Downloads\\\\XDVioDet-master\\\\XDVioDet-master\\\\tratrain\\\\v=9eME1y6V-T4__#00-06-00_00-12-00_label_A.npy\\n', 'C:\\\\Users\\\\pradh\\\\Downloads\\\\XDVioDet-master\\\\XDVioDet-master\\\\tratrain\\\\v=9eME1y6V-T4__#00-12-00_00-18-00_label_A.npy\\n', 'C:\\\\Users\\\\pradh\\\\Downloads\\\\XDVioDet-master\\\\XDVioDet-master\\\\tratrain\\\\v=9eME1y6V-T4__#00-18-00_00-24-00_label_A.npy\\n', 'C:\\\\Users\\\\pradh\\\\Downloads\\\\XDVioDet-master\\\\XDVioDet-master\\\\tratrain\\\\v=9eME1y6V-T4__#00-24-00_00-30-00_label_A.npy\\n', 'C:\\\\Users\\\\pradh\\\\Downloads\\\\XDVioDet-master\\\\XDVioDet-master\\\\tratrain\\\\v=9eME1y6V-T4__#00-30-00_00-36-00_label_A.npy\\n', 'C:\\\\Users\\\\pradh\\\\Downloads\\\\XDVioDet-master\\\\XDVioDet-master\\\\tratrain\\\\v=9eME1y6V-T4__#00-36-00_00-42-00_label_A.npy\\n', 'C:\\\\Users\\\\pradh\\\\Downloads\\\\XDVioDet-master\\\\XDVioDet-master\\\\tratrain\\\\v=9eME1y6V-T4__#00-48-00_00-54-00_label_A.npy\\n', 'C:\\\\Users\\\\pradh\\\\Downloads\\\\XDVioDet-master\\\\XDVioDet-master\\\\tratrain\\\\v=9eME1y6V-T4__#00-54-00_01-00-00_label_A.npy\\n', 'C:\\\\Users\\\\pradh\\\\Downloads\\\\XDVioDet-master\\\\XDVioDet-master\\\\tratrain\\\\v=9eME1y6V-T4__#01-12-00_01-18-00_label_A.npy\\n', 'C:\\\\Users\\\\pradh\\\\Downloads\\\\XDVioDet-master\\\\XDVioDet-master\\\\tratrain\\\\v=9eME1y6V-T4__#01-30-00_01-36-00_label_A.npy\\n', 'C:\\\\Users\\\\pradh\\\\Downloads\\\\XDVioDet-master\\\\XDVioDet-master\\\\tratrain\\\\v=9eME1y6V-T4__#01-42-00_01-48-00_label_A.npy\\n', 'C:\\\\Users\\\\pradh\\\\Downloads\\\\XDVioDet-master\\\\XDVioDet-master\\\\tratrain\\\\v=9eME1y6V-T4__#01-48-00_01-54-00_label_A.npy\\n', 'C:\\\\Users\\\\pradh\\\\Downloads\\\\XDVioDet-master\\\\XDVioDet-master\\\\tratrain\\\\v=9eME1y6V-T4__#01-54-00_02-00-00_label_A.npy\\n', 'C:\\\\Users\\\\pradh\\\\Downloads\\\\XDVioDet-master\\\\XDVioDet-master\\\\tratrain\\\\v=9eME1y6V-T4__#02-06-00_02-12-00_label_A.npy\\n', 'C:\\\\Users\\\\pradh\\\\Downloads\\\\XDVioDet-master\\\\XDVioDet-master\\\\tratrain\\\\v=9eME1y6V-T4__#02-12-00_02-18-00_label_A.npy\\n', 'C:\\\\Users\\\\pradh\\\\Downloads\\\\XDVioDet-master\\\\XDVioDet-master\\\\tratrain\\\\v=9eME1y6V-T4__#02-18-00_02-20-40_label_A.npy\\n', 'C:\\\\Users\\\\pradh\\\\Downloads\\\\XDVioDet-master\\\\XDVioDet-master\\\\tratrain\\\\v=9jJyq69TWug__#1_label_A.npy\\n', 'C:\\\\Users\\\\pradh\\\\Downloads\\\\XDVioDet-master\\\\XDVioDet-master\\\\tratrain\\\\v=9o3RfUGNDW8__#1_label_A.npy\\n', 'C:\\\\Users\\\\pradh\\\\Downloads\\\\XDVioDet-master\\\\XDVioDet-master\\\\tratrain\\\\v=9sORpceJ32U__#1_label_A.npy\\n', 'C:\\\\Users\\\\pradh\\\\Downloads\\\\XDVioDet-master\\\\XDVioDet-master\\\\tratrain\\\\v=AEGd3eft49s__#1_label_A.npy\\n', 'C:\\\\Users\\\\pradh\\\\Downloads\\\\XDVioDet-master\\\\XDVioDet-master\\\\tratrain\\\\v=AGnQnUsP0m4__#1_label_A.npy\\n', 'C:\\\\Users\\\\pradh\\\\Downloads\\\\XDVioDet-master\\\\XDVioDet-master\\\\tratrain\\\\v=AKS4ZC3ZdE8__#1_label_A.npy\\n', 'C:\\\\Users\\\\pradh\\\\Downloads\\\\XDVioDet-master\\\\XDVioDet-master\\\\tratrain\\\\v=ANq9VfsJpJk__#1_label_A.npy\\n', 'C:\\\\Users\\\\pradh\\\\Downloads\\\\XDVioDet-master\\\\XDVioDet-master\\\\tratrain\\\\v=AWBEW3-h8_Y__#1_label_A.npy\\n', 'C:\\\\Users\\\\pradh\\\\Downloads\\\\XDVioDet-master\\\\XDVioDet-master\\\\tratrain\\\\v=AcHHE9bvLgY__#1_label_A.npy\\n', 'C:\\\\Users\\\\pradh\\\\Downloads\\\\XDVioDet-master\\\\XDVioDet-master\\\\tratrain\\\\v=AkmE_lsuwok__#1_label_A.npy\\n', 'C:\\\\Users\\\\pradh\\\\Downloads\\\\XDVioDet-master\\\\XDVioDet-master\\\\tratrain\\\\v=AmcdLCavXS4__#1_label_A.npy\\n', 'C:\\\\Users\\\\pradh\\\\Downloads\\\\XDVioDet-master\\\\XDVioDet-master\\\\tratrain\\\\v=AndzwGcYF4w__#1_label_A.npy\\n', 'C:\\\\Users\\\\pradh\\\\Downloads\\\\XDVioDet-master\\\\XDVioDet-master\\\\tratrain\\\\v=Ao8Ipkl2Dag__#1_label_A.npy\\n', 'C:\\\\Users\\\\pradh\\\\Downloads\\\\XDVioDet-master\\\\XDVioDet-master\\\\tratrain\\\\v=AqFWYZsOgWY__#00-00-00_00-03-00_label_A.npy\\n', 'C:\\\\Users\\\\pradh\\\\Downloads\\\\XDVioDet-master\\\\XDVioDet-master\\\\tratrain\\\\v=AqFWYZsOgWY__#00-03-00_00-06-00_label_A.npy\\n', 'C:\\\\Users\\\\pradh\\\\Downloads\\\\XDVioDet-master\\\\XDVioDet-master\\\\tratrain\\\\v=AqFWYZsOgWY__#00-06-00_00-09-00_label_A.npy\\n', 'C:\\\\Users\\\\pradh\\\\Downloads\\\\XDVioDet-master\\\\XDVioDet-master\\\\tratrain\\\\v=AqFWYZsOgWY__#00-09-00_00-12-00_label_A.npy\\n', 'C:\\\\Users\\\\pradh\\\\Downloads\\\\XDVioDet-master\\\\XDVioDet-master\\\\tratrain\\\\v=AqFWYZsOgWY__#00-12-00_00-15-00_label_A.npy\\n', 'C:\\\\Users\\\\pradh\\\\Downloads\\\\XDVioDet-master\\\\XDVioDet-master\\\\tratrain\\\\v=AqFWYZsOgWY__#00-15-00_00-18-00_label_A.npy\\n', 'C:\\\\Users\\\\pradh\\\\Downloads\\\\XDVioDet-master\\\\XDVioDet-master\\\\tratrain\\\\v=AqFWYZsOgWY__#00-18-00_00-21-00_label_A.npy\\n', 'C:\\\\Users\\\\pradh\\\\Downloads\\\\XDVioDet-master\\\\XDVioDet-master\\\\tratrain\\\\v=AqFWYZsOgWY__#00-24-00_00-27-00_label_A.npy\\n', 'C:\\\\Users\\\\pradh\\\\Downloads\\\\XDVioDet-master\\\\XDVioDet-master\\\\tratrain\\\\v=AqFWYZsOgWY__#00-27-00_00-30-00_label_A.npy\\n', 'C:\\\\Users\\\\pradh\\\\Downloads\\\\XDVioDet-master\\\\XDVioDet-master\\\\tratrain\\\\v=AqFWYZsOgWY__#00-30-00_00-33-00_label_A.npy\\n', 'C:\\\\Users\\\\pradh\\\\Downloads\\\\XDVioDet-master\\\\XDVioDet-master\\\\tratrain\\\\v=AqFWYZsOgWY__#00-36-00_00-39-00_label_A.npy\\n', 'C:\\\\Users\\\\pradh\\\\Downloads\\\\XDVioDet-master\\\\XDVioDet-master\\\\tratrain\\\\v=AqFWYZsOgWY__#00-39-00_00-42-00_label_A.npy\\n', 'C:\\\\Users\\\\pradh\\\\Downloads\\\\XDVioDet-master\\\\XDVioDet-master\\\\tratrain\\\\v=AqFWYZsOgWY__#00-42-00_00-45-00_label_A.npy\\n', 'C:\\\\Users\\\\pradh\\\\Downloads\\\\XDVioDet-master\\\\XDVioDet-master\\\\tratrain\\\\v=AqFWYZsOgWY__#00-45-00_00-47-33_label_A.npy\\n', 'C:\\\\Users\\\\pradh\\\\Downloads\\\\XDVioDet-master\\\\XDVioDet-master\\\\tratrain\\\\v=BB5GdhtYpEo__#1_label_A.npy\\n', 'C:\\\\Users\\\\pradh\\\\Downloads\\\\XDVioDet-master\\\\XDVioDet-master\\\\tratrain\\\\v=BGPGknpq3e0__#1_label_A.npy\\n', 'C:\\\\Users\\\\pradh\\\\Downloads\\\\XDVioDet-master\\\\XDVioDet-master\\\\tratrain\\\\v=BJ_TUBVQEiM__#1_label_A.npy\\n', 'C:\\\\Users\\\\pradh\\\\Downloads\\\\XDVioDet-master\\\\XDVioDet-master\\\\tratrain\\\\v=BNFMU8XUalc__#1_label_A.npy\\n', 'C:\\\\Users\\\\pradh\\\\Downloads\\\\XDVioDet-master\\\\XDVioDet-master\\\\tratrain\\\\v=BQ5laI-llEM__#1_label_A.npy\\n', 'C:\\\\Users\\\\pradh\\\\Downloads\\\\XDVioDet-master\\\\XDVioDet-master\\\\tratrain\\\\v=BSHQ4Zq_hHY__#1_label_A.npy\\n', 'C:\\\\Users\\\\pradh\\\\Downloads\\\\XDVioDet-master\\\\XDVioDet-master\\\\tratrain\\\\v=Bc_ALE4oGSE__#1_label_A.npy\\n', 'C:\\\\Users\\\\pradh\\\\Downloads\\\\XDVioDet-master\\\\XDVioDet-master\\\\tratrain\\\\v=BdxY-lzreNU__#1_label_A.npy\\n', 'C:\\\\Users\\\\pradh\\\\Downloads\\\\XDVioDet-master\\\\XDVioDet-master\\\\tratrain\\\\v=Blga2WdKDXs__#1_label_A.npy\\n', 'C:\\\\Users\\\\pradh\\\\Downloads\\\\XDVioDet-master\\\\XDVioDet-master\\\\tratrain\\\\v=C5UX5hanMsQ__#1_label_A.npy\\n', 'C:\\\\Users\\\\pradh\\\\Downloads\\\\XDVioDet-master\\\\XDVioDet-master\\\\tratrain\\\\v=C6Px7JdJb7c__#1_label_A.npy\\n', 'C:\\\\Users\\\\pradh\\\\Downloads\\\\XDVioDet-master\\\\XDVioDet-master\\\\tratrain\\\\v=C9Ko6Xfa84w__#1_label_A.npy\\n', 'C:\\\\Users\\\\pradh\\\\Downloads\\\\XDVioDet-master\\\\XDVioDet-master\\\\tratrain\\\\v=CJWl6Hcco_E__#1_label_A.npy\\n', 'C:\\\\Users\\\\pradh\\\\Downloads\\\\XDVioDet-master\\\\XDVioDet-master\\\\tratrain\\\\v=CQIDRAlMjeE__#1_label_A.npy\\n', 'C:\\\\Users\\\\pradh\\\\Downloads\\\\XDVioDet-master\\\\XDVioDet-master\\\\tratrain\\\\v=CSUVvyn_IP4__#1_label_A.npy\\n', 'C:\\\\Users\\\\pradh\\\\Downloads\\\\XDVioDet-master\\\\XDVioDet-master\\\\tratrain\\\\v=CUowt8pwRCM__#1_label_A.npy\\n', 'C:\\\\Users\\\\pradh\\\\Downloads\\\\XDVioDet-master\\\\XDVioDet-master\\\\tratrain\\\\v=CWR3UhfYsSA__#1_label_A.npy\\n', 'C:\\\\Users\\\\pradh\\\\Downloads\\\\XDVioDet-master\\\\XDVioDet-master\\\\tratrain\\\\v=C_-cBLQlB-A__#1_label_A.npy\\n', 'C:\\\\Users\\\\pradh\\\\Downloads\\\\XDVioDet-master\\\\XDVioDet-master\\\\tratrain\\\\v=C_QhqqlF8N8__#1_label_A.npy\\n', 'C:\\\\Users\\\\pradh\\\\Downloads\\\\XDVioDet-master\\\\XDVioDet-master\\\\tratrain\\\\v=CguBewD2LSQ__#1_label_A.npy\\n', 'C:\\\\Users\\\\pradh\\\\Downloads\\\\XDVioDet-master\\\\XDVioDet-master\\\\tratrain\\\\v=CqSDWoAhvLU__#1_label_A.npy\\n', 'C:\\\\Users\\\\pradh\\\\Downloads\\\\XDVioDet-master\\\\XDVioDet-master\\\\tratrain\\\\v=Ctn1qlkGL-M__#1_label_A.npy\\n', 'C:\\\\Users\\\\pradh\\\\Downloads\\\\XDVioDet-master\\\\XDVioDet-master\\\\tratrain\\\\v=CvLYGoF6CxA__#1_label_A.npy\\n', 'C:\\\\Users\\\\pradh\\\\Downloads\\\\XDVioDet-master\\\\XDVioDet-master\\\\tratrain\\\\v=CxA9FYvDUxY__#1_label_A.npy\\n', 'C:\\\\Users\\\\pradh\\\\Downloads\\\\XDVioDet-master\\\\XDVioDet-master\\\\tratrain\\\\v=D-UniZ9NmDg__#1_label_A.npy\\n', 'C:\\\\Users\\\\pradh\\\\Downloads\\\\XDVioDet-master\\\\XDVioDet-master\\\\tratrain\\\\v=D0LwIftpYvo__#1_label_A.npy\\n', 'C:\\\\Users\\\\pradh\\\\Downloads\\\\XDVioDet-master\\\\XDVioDet-master\\\\tratrain\\\\v=D2FdA8QHiYk__#1_label_A.npy\\n', 'C:\\\\Users\\\\pradh\\\\Downloads\\\\XDVioDet-master\\\\XDVioDet-master\\\\tratrain\\\\v=D9BOTXFCpQA__#1_label_A.npy\\n', 'C:\\\\Users\\\\pradh\\\\Downloads\\\\XDVioDet-master\\\\XDVioDet-master\\\\tratrain\\\\v=DATZ18HhsQw__#1_label_A.npy\\n', 'C:\\\\Users\\\\pradh\\\\Downloads\\\\XDVioDet-master\\\\XDVioDet-master\\\\tratrain\\\\v=DJTuDVJrhWA__#1_label_A.npy\\n', 'C:\\\\Users\\\\pradh\\\\Downloads\\\\XDVioDet-master\\\\XDVioDet-master\\\\tratrain\\\\v=DNTjTcW9Atc__#1_label_A.npy\\n', 'C:\\\\Users\\\\pradh\\\\Downloads\\\\XDVioDet-master\\\\XDVioDet-master\\\\tratrain\\\\v=DR6SZ354vIw__#1_label_A.npy\\n', 'C:\\\\Users\\\\pradh\\\\Downloads\\\\XDVioDet-master\\\\XDVioDet-master\\\\tratrain\\\\v=DSG-zxGRkJw__#1_label_A.npy\\n', 'C:\\\\Users\\\\pradh\\\\Downloads\\\\XDVioDet-master\\\\XDVioDet-master\\\\tratrain\\\\v=DWLbc0JcBVE__#1_label_A.npy\\n', 'C:\\\\Users\\\\pradh\\\\Downloads\\\\XDVioDet-master\\\\XDVioDet-master\\\\tratrain\\\\v=DY1Q9yXhwPI__#1_label_A.npy\\n', 'C:\\\\Users\\\\pradh\\\\Downloads\\\\XDVioDet-master\\\\XDVioDet-master\\\\tratrain\\\\v=Dd10MnXf1Hc__#1_label_A.npy\\n', 'C:\\\\Users\\\\pradh\\\\Downloads\\\\XDVioDet-master\\\\XDVioDet-master\\\\tratrain\\\\v=DdWpppXPpSk__#1_label_A.npy\\n', 'C:\\\\Users\\\\pradh\\\\Downloads\\\\XDVioDet-master\\\\XDVioDet-master\\\\tratrain\\\\v=DeUSwzw847M__#1_label_A.npy\\n', 'C:\\\\Users\\\\pradh\\\\Downloads\\\\XDVioDet-master\\\\XDVioDet-master\\\\tratrain\\\\v=DgVYczWF7oQ__#1_label_A.npy\\n', 'C:\\\\Users\\\\pradh\\\\Downloads\\\\XDVioDet-master\\\\XDVioDet-master\\\\tratrain\\\\v=DmznKoxsaCc__#1_label_A.npy\\n', 'C:\\\\Users\\\\pradh\\\\Downloads\\\\XDVioDet-master\\\\XDVioDet-master\\\\tratrain\\\\v=Dp8eCpcOgzE__#1_label_A.npy\\n', 'C:\\\\Users\\\\pradh\\\\Downloads\\\\XDVioDet-master\\\\XDVioDet-master\\\\tratrain\\\\v=Dsi_ItK-j30__#1_label_A.npy\\n', 'C:\\\\Users\\\\pradh\\\\Downloads\\\\XDVioDet-master\\\\XDVioDet-master\\\\tratrain\\\\v=Dt2dDJpaQNU__#1_label_A.npy\\n', 'C:\\\\Users\\\\pradh\\\\Downloads\\\\XDVioDet-master\\\\XDVioDet-master\\\\tratrain\\\\v=DtJqTsE8cB8__#1_label_A.npy\\n', 'C:\\\\Users\\\\pradh\\\\Downloads\\\\XDVioDet-master\\\\XDVioDet-master\\\\tratrain\\\\v=E5l9d5x6uzk__#1_label_A.npy\\n', 'C:\\\\Users\\\\pradh\\\\Downloads\\\\XDVioDet-master\\\\XDVioDet-master\\\\tratrain\\\\v=EDWpEhytG0c__#1_label_A.npy\\n', 'C:\\\\Users\\\\pradh\\\\Downloads\\\\XDVioDet-master\\\\XDVioDet-master\\\\tratrain\\\\v=EEvhwtXACxY__#1_label_A.npy\\n', 'C:\\\\Users\\\\pradh\\\\Downloads\\\\XDVioDet-master\\\\XDVioDet-master\\\\tratrain\\\\v=EFwhDzC7Ec4__#1_label_A.npy\\n', 'C:\\\\Users\\\\pradh\\\\Downloads\\\\XDVioDet-master\\\\XDVioDet-master\\\\tratrain\\\\v=ESpmLUsfkZM__#1_label_A.npy\\n', 'C:\\\\Users\\\\pradh\\\\Downloads\\\\XDVioDet-master\\\\XDVioDet-master\\\\tratrain\\\\v=EkMUrBdbrBg__#1_label_A.npy\\n', 'C:\\\\Users\\\\pradh\\\\Downloads\\\\XDVioDet-master\\\\XDVioDet-master\\\\tratrain\\\\v=EocJm3Dry4E__#1_label_A.npy\\n', 'C:\\\\Users\\\\pradh\\\\Downloads\\\\XDVioDet-master\\\\XDVioDet-master\\\\tratrain\\\\v=EwfW3NxN2qA__#1_label_A.npy\\n', 'C:\\\\Users\\\\pradh\\\\Downloads\\\\XDVioDet-master\\\\XDVioDet-master\\\\tratrain\\\\v=Ez5XEgBSnHc__#1_label_A.npy\\n', 'C:\\\\Users\\\\pradh\\\\Downloads\\\\XDVioDet-master\\\\XDVioDet-master\\\\tratrain\\\\v=F-FNZyVzoJA__#1_label_A.npy\\n', 'C:\\\\Users\\\\pradh\\\\Downloads\\\\XDVioDet-master\\\\XDVioDet-master\\\\tratrain\\\\v=F1jpCBPiWS4__#1_label_A.npy\\n', 'C:\\\\Users\\\\pradh\\\\Downloads\\\\XDVioDet-master\\\\XDVioDet-master\\\\tratrain\\\\v=F2J5_arXXFs__#1_label_A.npy\\n', 'C:\\\\Users\\\\pradh\\\\Downloads\\\\XDVioDet-master\\\\XDVioDet-master\\\\tratrain\\\\v=F5MTD1pUjwM__#1_label_A.npy\\n', 'C:\\\\Users\\\\pradh\\\\Downloads\\\\XDVioDet-master\\\\XDVioDet-master\\\\tratrain\\\\v=F5dj4VI4p9I__#1_label_A.npy\\n', 'C:\\\\Users\\\\pradh\\\\Downloads\\\\XDVioDet-master\\\\XDVioDet-master\\\\tratrain\\\\v=F95hDZ9j0Ls__#1_label_A.npy\\n', 'C:\\\\Users\\\\pradh\\\\Downloads\\\\XDVioDet-master\\\\XDVioDet-master\\\\tratrain\\\\v=FHeDUxT5tB4__#1_label_A.npy\\n', 'C:\\\\Users\\\\pradh\\\\Downloads\\\\XDVioDet-master\\\\XDVioDet-master\\\\tratrain\\\\v=FOVMrynP_og__#1_label_A.npy\\n', 'C:\\\\Users\\\\pradh\\\\Downloads\\\\XDVioDet-master\\\\XDVioDet-master\\\\tratrain\\\\v=FRNniUp7e3Q__#1_label_A.npy\\n', 'C:\\\\Users\\\\pradh\\\\Downloads\\\\XDVioDet-master\\\\XDVioDet-master\\\\tratrain\\\\v=FVJoir1HR9U__#1_label_A.npy\\n', 'C:\\\\Users\\\\pradh\\\\Downloads\\\\XDVioDet-master\\\\XDVioDet-master\\\\tratrain\\\\v=FY301WAhRrE__#1_label_A.npy\\n', 'C:\\\\Users\\\\pradh\\\\Downloads\\\\XDVioDet-master\\\\XDVioDet-master\\\\tratrain\\\\v=F_pE1VJaudU__#1_label_A.npy\\n', 'C:\\\\Users\\\\pradh\\\\Downloads\\\\XDVioDet-master\\\\XDVioDet-master\\\\tratrain\\\\v=FeXZY4eVLlo__#1_label_A.npy\\n', 'C:\\\\Users\\\\pradh\\\\Downloads\\\\XDVioDet-master\\\\XDVioDet-master\\\\tratrain\\\\v=Fi2duT26AxI__#1_label_A.npy\\n', 'C:\\\\Users\\\\pradh\\\\Downloads\\\\XDVioDet-master\\\\XDVioDet-master\\\\tratrain\\\\v=FmXScQUuHrY__#1_label_A.npy\\n', 'C:\\\\Users\\\\pradh\\\\Downloads\\\\XDVioDet-master\\\\XDVioDet-master\\\\tratrain\\\\v=Fxo9-8FKfX4__#1_label_A.npy\\n', 'C:\\\\Users\\\\pradh\\\\Downloads\\\\XDVioDet-master\\\\XDVioDet-master\\\\tratrain\\\\v=G0jMP0ZFkTo__#1_label_A.npy\\n', 'C:\\\\Users\\\\pradh\\\\Downloads\\\\XDVioDet-master\\\\XDVioDet-master\\\\tratrain\\\\v=GRX7iW4Jqcs__#1_label_A.npy\\n', 'C:\\\\Users\\\\pradh\\\\Downloads\\\\XDVioDet-master\\\\XDVioDet-master\\\\tratrain\\\\v=GT4QivX9VpM__#1_label_A.npy\\n', 'C:\\\\Users\\\\pradh\\\\Downloads\\\\XDVioDet-master\\\\XDVioDet-master\\\\tratrain\\\\v=GZcVXqgQqx4__#1_label_A.npy\\n', 'C:\\\\Users\\\\pradh\\\\Downloads\\\\XDVioDet-master\\\\XDVioDet-master\\\\tratrain\\\\v=Gd3yxvp4Dd4__#1_label_A.npy\\n', 'C:\\\\Users\\\\pradh\\\\Downloads\\\\XDVioDet-master\\\\XDVioDet-master\\\\tratrain\\\\v=GgXLASW-bpg__#1_label_A.npy\\n', 'C:\\\\Users\\\\pradh\\\\Downloads\\\\XDVioDet-master\\\\XDVioDet-master\\\\tratrain\\\\v=Gk11cLZ_67g__#1_label_A.npy\\n', 'C:\\\\Users\\\\pradh\\\\Downloads\\\\XDVioDet-master\\\\XDVioDet-master\\\\tratrain\\\\v=GyW0lCXb1wo__#1_label_A.npy\\n', 'C:\\\\Users\\\\pradh\\\\Downloads\\\\XDVioDet-master\\\\XDVioDet-master\\\\tratrain\\\\v=H1JcEsFU07s__#1_label_A.npy\\n', 'C:\\\\Users\\\\pradh\\\\Downloads\\\\XDVioDet-master\\\\XDVioDet-master\\\\tratrain\\\\v=H2AYOJ2K8MU__#1_label_A.npy\\n', 'C:\\\\Users\\\\pradh\\\\Downloads\\\\XDVioDet-master\\\\XDVioDet-master\\\\tratrain\\\\v=H2O6eX33uHQ__#1_label_A.npy\\n', 'C:\\\\Users\\\\pradh\\\\Downloads\\\\XDVioDet-master\\\\XDVioDet-master\\\\tratrain\\\\v=H7qUxVLMmYk__#1_label_A.npy\\n', 'C:\\\\Users\\\\pradh\\\\Downloads\\\\XDVioDet-master\\\\XDVioDet-master\\\\tratrain\\\\v=H9Y5_X1sEEA__#00-00-00_00-03-00_label_A.npy\\n', 'C:\\\\Users\\\\pradh\\\\Downloads\\\\XDVioDet-master\\\\XDVioDet-master\\\\tratrain\\\\v=H9Y5_X1sEEA__#00-06-00_00-09-00_label_A.npy\\n', 'C:\\\\Users\\\\pradh\\\\Downloads\\\\XDVioDet-master\\\\XDVioDet-master\\\\tratrain\\\\v=H9Y5_X1sEEA__#00-12-00_00-15-00_label_A.npy\\n', 'C:\\\\Users\\\\pradh\\\\Downloads\\\\XDVioDet-master\\\\XDVioDet-master\\\\tratrain\\\\v=H9Y5_X1sEEA__#00-15-00_00-18-00_label_A.npy\\n', 'C:\\\\Users\\\\pradh\\\\Downloads\\\\XDVioDet-master\\\\XDVioDet-master\\\\tratrain\\\\v=H9Y5_X1sEEA__#00-18-00_00-21-00_label_A.npy\\n', 'C:\\\\Users\\\\pradh\\\\Downloads\\\\XDVioDet-master\\\\XDVioDet-master\\\\tratrain\\\\v=H9Y5_X1sEEA__#00-21-00_00-24-00_label_A.npy\\n', 'C:\\\\Users\\\\pradh\\\\Downloads\\\\XDVioDet-master\\\\XDVioDet-master\\\\tratrain\\\\v=H9Y5_X1sEEA__#00-24-00_00-27-00_label_A.npy\\n', 'C:\\\\Users\\\\pradh\\\\Downloads\\\\XDVioDet-master\\\\XDVioDet-master\\\\tratrain\\\\v=H9Y5_X1sEEA__#00-27-00_00-30-00_label_A.npy\\n', 'C:\\\\Users\\\\pradh\\\\Downloads\\\\XDVioDet-master\\\\XDVioDet-master\\\\tratrain\\\\v=H9Y5_X1sEEA__#00-33-00_00-36-00_label_A.npy\\n', 'C:\\\\Users\\\\pradh\\\\Downloads\\\\XDVioDet-master\\\\XDVioDet-master\\\\tratrain\\\\v=H9Y5_X1sEEA__#00-39-00_00-42-00_label_A.npy\\n', 'C:\\\\Users\\\\pradh\\\\Downloads\\\\XDVioDet-master\\\\XDVioDet-master\\\\tratrain\\\\v=H9Y5_X1sEEA__#00-48-00_00-51-00_label_A.npy\\n', 'C:\\\\Users\\\\pradh\\\\Downloads\\\\XDVioDet-master\\\\XDVioDet-master\\\\tratrain\\\\v=H9Y5_X1sEEA__#00-51-00_00-54-00_label_A.npy\\n', 'C:\\\\Users\\\\pradh\\\\Downloads\\\\XDVioDet-master\\\\XDVioDet-master\\\\tratrain\\\\v=H9Y5_X1sEEA__#00-54-00_00-57-00_label_A.npy\\n', 'C:\\\\Users\\\\pradh\\\\Downloads\\\\XDVioDet-master\\\\XDVioDet-master\\\\tratrain\\\\v=H9Y5_X1sEEA__#00-57-00_01-00-04_label_A.npy\\n', 'C:\\\\Users\\\\pradh\\\\Downloads\\\\XDVioDet-master\\\\XDVioDet-master\\\\tratrain\\\\v=HMYi-XH4y9w__#1_label_A.npy\\n', 'C:\\\\Users\\\\pradh\\\\Downloads\\\\XDVioDet-master\\\\XDVioDet-master\\\\tratrain\\\\v=HPRrvo00YtY__#1_label_A.npy\\n', 'C:\\\\Users\\\\pradh\\\\Downloads\\\\XDVioDet-master\\\\XDVioDet-master\\\\tratrain\\\\v=HRtVx13cUy4__#1_label_A.npy\\n', 'C:\\\\Users\\\\pradh\\\\Downloads\\\\XDVioDet-master\\\\XDVioDet-master\\\\tratrain\\\\v=HS61Ej-uuEk__#1_label_A.npy\\n', 'C:\\\\Users\\\\pradh\\\\Downloads\\\\XDVioDet-master\\\\XDVioDet-master\\\\tratrain\\\\v=Ha-Zx9ft2XI__#1_label_A.npy\\n', 'C:\\\\Users\\\\pradh\\\\Downloads\\\\XDVioDet-master\\\\XDVioDet-master\\\\tratrain\\\\v=HaQ29cSAXZA__#1_label_A.npy\\n', 'C:\\\\Users\\\\pradh\\\\Downloads\\\\XDVioDet-master\\\\XDVioDet-master\\\\tratrain\\\\v=Huf3QpHTSyk__#1_label_A.npy\\n', 'C:\\\\Users\\\\pradh\\\\Downloads\\\\XDVioDet-master\\\\XDVioDet-master\\\\tratrain\\\\v=I2w5ACABcvc__#1_label_A.npy\\n', 'C:\\\\Users\\\\pradh\\\\Downloads\\\\XDVioDet-master\\\\XDVioDet-master\\\\tratrain\\\\v=I8Na13j54CI__#1_label_A.npy\\n', 'C:\\\\Users\\\\pradh\\\\Downloads\\\\XDVioDet-master\\\\XDVioDet-master\\\\tratrain\\\\v=I9qAzdV9AmU__#1_label_A.npy\\n', 'C:\\\\Users\\\\pradh\\\\Downloads\\\\XDVioDet-master\\\\XDVioDet-master\\\\tratrain\\\\v=IBsbMYRF068__#1_label_A.npy\\n', 'C:\\\\Users\\\\pradh\\\\Downloads\\\\XDVioDet-master\\\\XDVioDet-master\\\\tratrain\\\\v=IINQLoXI7gc__#1_label_A.npy\\n', 'C:\\\\Users\\\\pradh\\\\Downloads\\\\XDVioDet-master\\\\XDVioDet-master\\\\tratrain\\\\v=ILNDWCLVnpw__#1_label_A.npy\\n', 'C:\\\\Users\\\\pradh\\\\Downloads\\\\XDVioDet-master\\\\XDVioDet-master\\\\tratrain\\\\v=IPGgY-ac63Y__#1_label_A.npy\\n', 'C:\\\\Users\\\\pradh\\\\Downloads\\\\XDVioDet-master\\\\XDVioDet-master\\\\tratrain\\\\v=IRc2ikqn5rk__#1_label_A.npy\\n', 'C:\\\\Users\\\\pradh\\\\Downloads\\\\XDVioDet-master\\\\XDVioDet-master\\\\tratrain\\\\v=IV9Noc-d41Q__#1_label_A.npy\\n', 'C:\\\\Users\\\\pradh\\\\Downloads\\\\XDVioDet-master\\\\XDVioDet-master\\\\tratrain\\\\v=IZCzbslH8jo__#1_label_A.npy\\n', 'C:\\\\Users\\\\pradh\\\\Downloads\\\\XDVioDet-master\\\\XDVioDet-master\\\\tratrain\\\\v=IZrdW4XKHYU__#1_label_A.npy\\n', 'C:\\\\Users\\\\pradh\\\\Downloads\\\\XDVioDet-master\\\\XDVioDet-master\\\\tratrain\\\\v=IlQ53DIh8G0__#1_label_A.npy\\n', 'C:\\\\Users\\\\pradh\\\\Downloads\\\\XDVioDet-master\\\\XDVioDet-master\\\\tratrain\\\\v=InNwtNprG5A__#1_label_A.npy\\n', 'C:\\\\Users\\\\pradh\\\\Downloads\\\\XDVioDet-master\\\\XDVioDet-master\\\\tratrain\\\\v=IsAw7y1TM3U__#1_label_A.npy\\n', 'C:\\\\Users\\\\pradh\\\\Downloads\\\\XDVioDet-master\\\\XDVioDet-master\\\\tratrain\\\\v=Ix4xrfIVI8Y__#00-00-00_00-33-36_label_A.npy\\n', 'C:\\\\Users\\\\pradh\\\\Downloads\\\\XDVioDet-master\\\\XDVioDet-master\\\\tratrain\\\\v=Ix4xrfIVI8Y__#00-37-48_00-57-50_label_A.npy\\n', 'C:\\\\Users\\\\pradh\\\\Downloads\\\\XDVioDet-master\\\\XDVioDet-master\\\\tratrain\\\\v=J24IP08SeXw__#1_label_A.npy\\n', 'C:\\\\Users\\\\pradh\\\\Downloads\\\\XDVioDet-master\\\\XDVioDet-master\\\\tratrain\\\\v=JKpZsqblCYs__#1_label_A.npy\\n', 'C:\\\\Users\\\\pradh\\\\Downloads\\\\XDVioDet-master\\\\XDVioDet-master\\\\tratrain\\\\v=JTNIWbGmzGU__#1_label_A.npy\\n', 'C:\\\\Users\\\\pradh\\\\Downloads\\\\XDVioDet-master\\\\XDVioDet-master\\\\tratrain\\\\v=JWm6LfFFRB4__#1_label_A.npy\\n', 'C:\\\\Users\\\\pradh\\\\Downloads\\\\XDVioDet-master\\\\XDVioDet-master\\\\tratrain\\\\v=JY7tS_4kDEI__#1_label_A.npy\\n', 'C:\\\\Users\\\\pradh\\\\Downloads\\\\XDVioDet-master\\\\XDVioDet-master\\\\tratrain\\\\v=Ja6m-BBGKMk__#1_label_A.npy\\n', 'C:\\\\Users\\\\pradh\\\\Downloads\\\\XDVioDet-master\\\\XDVioDet-master\\\\tratrain\\\\v=JdLDrB-FS2c__#1_label_A.npy\\n', 'C:\\\\Users\\\\pradh\\\\Downloads\\\\XDVioDet-master\\\\XDVioDet-master\\\\tratrain\\\\v=JehgkThEeAU__#1_label_A.npy\\n', 'C:\\\\Users\\\\pradh\\\\Downloads\\\\XDVioDet-master\\\\XDVioDet-master\\\\tratrain\\\\v=JiJGOioFhzw__#1_label_A.npy\\n', 'C:\\\\Users\\\\pradh\\\\Downloads\\\\XDVioDet-master\\\\XDVioDet-master\\\\tratrain\\\\v=JmCOEJUPfM8__#1_label_A.npy\\n', 'C:\\\\Users\\\\pradh\\\\Downloads\\\\XDVioDet-master\\\\XDVioDet-master\\\\tratrain\\\\v=JmFOOK5rX6E__#1_label_A.npy\\n', 'C:\\\\Users\\\\pradh\\\\Downloads\\\\XDVioDet-master\\\\XDVioDet-master\\\\tratrain\\\\v=JmWLutqb9Qw__#1_label_A.npy\\n', 'C:\\\\Users\\\\pradh\\\\Downloads\\\\XDVioDet-master\\\\XDVioDet-master\\\\tratrain\\\\v=JnCMUGnWVIg__#1_label_A.npy\\n', 'C:\\\\Users\\\\pradh\\\\Downloads\\\\XDVioDet-master\\\\XDVioDet-master\\\\tratrain\\\\v=JtLha7UCwJM__#1_label_A.npy\\n', 'C:\\\\Users\\\\pradh\\\\Downloads\\\\XDVioDet-master\\\\XDVioDet-master\\\\tratrain\\\\v=JvHGTMhzmnw__#1_label_A.npy\\n', 'C:\\\\Users\\\\pradh\\\\Downloads\\\\XDVioDet-master\\\\XDVioDet-master\\\\tratrain\\\\v=Jw8nhzDE57c__#1_label_A.npy\\n', 'C:\\\\Users\\\\pradh\\\\Downloads\\\\XDVioDet-master\\\\XDVioDet-master\\\\tratrain\\\\v=JzrpCC7XmyE__#00-01-20_00-06-00_label_A.npy\\n', 'C:\\\\Users\\\\pradh\\\\Downloads\\\\XDVioDet-master\\\\XDVioDet-master\\\\tratrain\\\\v=JzrpCC7XmyE__#00-12-00_00-18-00_label_A.npy\\n', 'C:\\\\Users\\\\pradh\\\\Downloads\\\\XDVioDet-master\\\\XDVioDet-master\\\\tratrain\\\\v=JzrpCC7XmyE__#00-18-00_00-24-00_label_A.npy\\n', 'C:\\\\Users\\\\pradh\\\\Downloads\\\\XDVioDet-master\\\\XDVioDet-master\\\\tratrain\\\\v=JzrpCC7XmyE__#00-24-00_00-30-00_label_A.npy\\n', 'C:\\\\Users\\\\pradh\\\\Downloads\\\\XDVioDet-master\\\\XDVioDet-master\\\\tratrain\\\\v=JzrpCC7XmyE__#00-30-00_00-36-00_label_A.npy\\n', 'C:\\\\Users\\\\pradh\\\\Downloads\\\\XDVioDet-master\\\\XDVioDet-master\\\\tratrain\\\\v=JzrpCC7XmyE__#00-36-00_00-42-00_label_A.npy\\n', 'C:\\\\Users\\\\pradh\\\\Downloads\\\\XDVioDet-master\\\\XDVioDet-master\\\\tratrain\\\\v=JzrpCC7XmyE__#00-42-00_00-48-00_label_A.npy\\n', 'C:\\\\Users\\\\pradh\\\\Downloads\\\\XDVioDet-master\\\\XDVioDet-master\\\\tratrain\\\\v=JzrpCC7XmyE__#00-48-00_00-54-00_label_A.npy\\n', 'C:\\\\Users\\\\pradh\\\\Downloads\\\\XDVioDet-master\\\\XDVioDet-master\\\\tratrain\\\\v=JzrpCC7XmyE__#00-54-00_01-00-00_label_A.npy\\n', 'C:\\\\Users\\\\pradh\\\\Downloads\\\\XDVioDet-master\\\\XDVioDet-master\\\\tratrain\\\\v=JzrpCC7XmyE__#01-00-00_01-06-00_label_A.npy\\n', 'C:\\\\Users\\\\pradh\\\\Downloads\\\\XDVioDet-master\\\\XDVioDet-master\\\\tratrain\\\\v=JzrpCC7XmyE__#01-12-00_01-18-00_label_A.npy\\n', 'C:\\\\Users\\\\pradh\\\\Downloads\\\\XDVioDet-master\\\\XDVioDet-master\\\\tratrain\\\\v=JzrpCC7XmyE__#01-24-00_01-30-00_label_A.npy\\n', 'C:\\\\Users\\\\pradh\\\\Downloads\\\\XDVioDet-master\\\\XDVioDet-master\\\\tratrain\\\\v=JzrpCC7XmyE__#01-30-00_01-36-00_label_A.npy\\n', 'C:\\\\Users\\\\pradh\\\\Downloads\\\\XDVioDet-master\\\\XDVioDet-master\\\\tratrain\\\\v=JzrpCC7XmyE__#01-36-00_01-40-40_label_A.npy\\n', 'C:\\\\Users\\\\pradh\\\\Downloads\\\\XDVioDet-master\\\\XDVioDet-master\\\\tratrain\\\\v=K3E8wjd6DuE__#1_label_A.npy\\n', 'C:\\\\Users\\\\pradh\\\\Downloads\\\\XDVioDet-master\\\\XDVioDet-master\\\\tratrain\\\\v=K5UBRXOHTuM__#1_label_A.npy\\n', 'C:\\\\Users\\\\pradh\\\\Downloads\\\\XDVioDet-master\\\\XDVioDet-master\\\\tratrain\\\\v=K9XCKP9KN7A__#1_label_A.npy\\n', 'C:\\\\Users\\\\pradh\\\\Downloads\\\\XDVioDet-master\\\\XDVioDet-master\\\\tratrain\\\\v=KAMpR94SIJ0__#1_label_A.npy\\n', 'C:\\\\Users\\\\pradh\\\\Downloads\\\\XDVioDet-master\\\\XDVioDet-master\\\\tratrain\\\\v=KBC_eeJriw4__#1_label_A.npy\\n', 'C:\\\\Users\\\\pradh\\\\Downloads\\\\XDVioDet-master\\\\XDVioDet-master\\\\tratrain\\\\v=KCQwe_AMo74__#1_label_A.npy\\n', 'C:\\\\Users\\\\pradh\\\\Downloads\\\\XDVioDet-master\\\\XDVioDet-master\\\\tratrain\\\\v=KNM8w4kFiB0__#1_label_A.npy\\n', 'C:\\\\Users\\\\pradh\\\\Downloads\\\\XDVioDet-master\\\\XDVioDet-master\\\\tratrain\\\\v=KR1iUmq6ilA__#1_label_A.npy\\n', 'C:\\\\Users\\\\pradh\\\\Downloads\\\\XDVioDet-master\\\\XDVioDet-master\\\\tratrain\\\\v=KUZQsnmCV20__#1_label_A.npy\\n', 'C:\\\\Users\\\\pradh\\\\Downloads\\\\XDVioDet-master\\\\XDVioDet-master\\\\tratrain\\\\v=KZLyc_Bc_N8__#1_label_A.npy\\n', 'C:\\\\Users\\\\pradh\\\\Downloads\\\\XDVioDet-master\\\\XDVioDet-master\\\\tratrain\\\\v=KfNg0Fx1D54__#1_label_A.npy\\n', 'C:\\\\Users\\\\pradh\\\\Downloads\\\\XDVioDet-master\\\\XDVioDet-master\\\\tratrain\\\\v=KfQjfSmjaZo__#1_label_A.npy\\n', 'C:\\\\Users\\\\pradh\\\\Downloads\\\\XDVioDet-master\\\\XDVioDet-master\\\\tratrain\\\\v=Kj5E1_syxU4__#1_label_A.npy\\n', 'C:\\\\Users\\\\pradh\\\\Downloads\\\\XDVioDet-master\\\\XDVioDet-master\\\\tratrain\\\\v=KjBaxA1HBvQ__#1_label_A.npy\\n', 'C:\\\\Users\\\\pradh\\\\Downloads\\\\XDVioDet-master\\\\XDVioDet-master\\\\tratrain\\\\v=Km0z6PrbUXY__#1_label_A.npy\\n', 'C:\\\\Users\\\\pradh\\\\Downloads\\\\XDVioDet-master\\\\XDVioDet-master\\\\tratrain\\\\v=Kt_UHjnR2Tw__#1_label_A.npy\\n', 'C:\\\\Users\\\\pradh\\\\Downloads\\\\XDVioDet-master\\\\XDVioDet-master\\\\tratrain\\\\v=KvqhpLyR-bE__#1_label_A.npy\\n', 'C:\\\\Users\\\\pradh\\\\Downloads\\\\XDVioDet-master\\\\XDVioDet-master\\\\tratrain\\\\v=Kxr-KoIWoPI__#1_label_A.npy\\n', 'C:\\\\Users\\\\pradh\\\\Downloads\\\\XDVioDet-master\\\\XDVioDet-master\\\\tratrain\\\\v=KynxN8-XmDo__#1_label_A.npy\\n', 'C:\\\\Users\\\\pradh\\\\Downloads\\\\XDVioDet-master\\\\XDVioDet-master\\\\tratrain\\\\v=L6jBRXYn5JU__#1_label_A.npy\\n', 'C:\\\\Users\\\\pradh\\\\Downloads\\\\XDVioDet-master\\\\XDVioDet-master\\\\tratrain\\\\v=L8BrpH-2py0__#1_label_A.npy\\n', 'C:\\\\Users\\\\pradh\\\\Downloads\\\\XDVioDet-master\\\\XDVioDet-master\\\\tratrain\\\\v=LDAwF7mnYE8__#1_label_A.npy\\n', 'C:\\\\Users\\\\pradh\\\\Downloads\\\\XDVioDet-master\\\\XDVioDet-master\\\\tratrain\\\\v=LDiHXHof9uk__#1_label_A.npy\\n', 'C:\\\\Users\\\\pradh\\\\Downloads\\\\XDVioDet-master\\\\XDVioDet-master\\\\tratrain\\\\v=LEkNtRnxy0o__#1_label_A.npy\\n', 'C:\\\\Users\\\\pradh\\\\Downloads\\\\XDVioDet-master\\\\XDVioDet-master\\\\tratrain\\\\v=LGmHE8wxreY__#1_label_A.npy\\n', 'C:\\\\Users\\\\pradh\\\\Downloads\\\\XDVioDet-master\\\\XDVioDet-master\\\\tratrain\\\\v=LHXgxw6OHX0__#1_label_A.npy\\n', 'C:\\\\Users\\\\pradh\\\\Downloads\\\\XDVioDet-master\\\\XDVioDet-master\\\\tratrain\\\\v=LKMhuHk-AJo__#1_label_A.npy\\n', 'C:\\\\Users\\\\pradh\\\\Downloads\\\\XDVioDet-master\\\\XDVioDet-master\\\\tratrain\\\\v=LMK1VKvqIcU__#1_label_A.npy\\n', 'C:\\\\Users\\\\pradh\\\\Downloads\\\\XDVioDet-master\\\\XDVioDet-master\\\\tratrain\\\\v=LNqowctN3cg__#1_label_A.npy\\n', 'C:\\\\Users\\\\pradh\\\\Downloads\\\\XDVioDet-master\\\\XDVioDet-master\\\\tratrain\\\\v=LQT4i4e_Oyg__#1_label_A.npy\\n', 'C:\\\\Users\\\\pradh\\\\Downloads\\\\XDVioDet-master\\\\XDVioDet-master\\\\tratrain\\\\v=LdpHrAESsrY__#1_label_A.npy\\n', 'C:\\\\Users\\\\pradh\\\\Downloads\\\\XDVioDet-master\\\\XDVioDet-master\\\\tratrain\\\\v=MEJxdpOILcw__#1_label_A.npy\\n', 'C:\\\\Users\\\\pradh\\\\Downloads\\\\XDVioDet-master\\\\XDVioDet-master\\\\tratrain\\\\v=MSRxFlV9Wwc__#1_label_A.npy\\n', 'C:\\\\Users\\\\pradh\\\\Downloads\\\\XDVioDet-master\\\\XDVioDet-master\\\\tratrain\\\\v=McTTbbaHjhI__#1_label_A.npy\\n', 'C:\\\\Users\\\\pradh\\\\Downloads\\\\XDVioDet-master\\\\XDVioDet-master\\\\tratrain\\\\v=MiN_kgpkn-U__#1_label_A.npy\\n', 'C:\\\\Users\\\\pradh\\\\Downloads\\\\XDVioDet-master\\\\XDVioDet-master\\\\tratrain\\\\v=MlF2d9E0gB4__#1_label_A.npy\\n', 'C:\\\\Users\\\\pradh\\\\Downloads\\\\XDVioDet-master\\\\XDVioDet-master\\\\tratrain\\\\v=MlSR27BhmmY__#1_label_A.npy\\n', 'C:\\\\Users\\\\pradh\\\\Downloads\\\\XDVioDet-master\\\\XDVioDet-master\\\\tratrain\\\\v=MnQyX8iL-Qc__#1_label_A.npy\\n', 'C:\\\\Users\\\\pradh\\\\Downloads\\\\XDVioDet-master\\\\XDVioDet-master\\\\tratrain\\\\v=MyM5G7fo7Gg__#00-00-00_00-03-00_label_A.npy\\n', 'C:\\\\Users\\\\pradh\\\\Downloads\\\\XDVioDet-master\\\\XDVioDet-master\\\\tratrain\\\\v=MyM5G7fo7Gg__#00-03-00_00-06-00_label_A.npy\\n', 'C:\\\\Users\\\\pradh\\\\Downloads\\\\XDVioDet-master\\\\XDVioDet-master\\\\tratrain\\\\v=MyM5G7fo7Gg__#00-09-00_00-12-00_label_A.npy\\n', 'C:\\\\Users\\\\pradh\\\\Downloads\\\\XDVioDet-master\\\\XDVioDet-master\\\\tratrain\\\\v=MyM5G7fo7Gg__#00-12-00_00-15-00_label_A.npy\\n', 'C:\\\\Users\\\\pradh\\\\Downloads\\\\XDVioDet-master\\\\XDVioDet-master\\\\tratrain\\\\v=MyM5G7fo7Gg__#00-15-00_00-18-00_label_A.npy\\n', 'C:\\\\Users\\\\pradh\\\\Downloads\\\\XDVioDet-master\\\\XDVioDet-master\\\\tratrain\\\\v=MyM5G7fo7Gg__#00-21-00_00-24-00_label_A.npy\\n', 'C:\\\\Users\\\\pradh\\\\Downloads\\\\XDVioDet-master\\\\XDVioDet-master\\\\tratrain\\\\v=MyM5G7fo7Gg__#00-24-00_00-27-00_label_A.npy\\n', 'C:\\\\Users\\\\pradh\\\\Downloads\\\\XDVioDet-master\\\\XDVioDet-master\\\\tratrain\\\\v=MyM5G7fo7Gg__#00-27-00_00-30-00_label_A.npy\\n', 'C:\\\\Users\\\\pradh\\\\Downloads\\\\XDVioDet-master\\\\XDVioDet-master\\\\tratrain\\\\v=MyM5G7fo7Gg__#00-30-00_00-33-00_label_A.npy\\n', 'C:\\\\Users\\\\pradh\\\\Downloads\\\\XDVioDet-master\\\\XDVioDet-master\\\\tratrain\\\\v=MyM5G7fo7Gg__#00-33-00_00-35-22_label_A.npy\\n', 'C:\\\\Users\\\\pradh\\\\Downloads\\\\XDVioDet-master\\\\XDVioDet-master\\\\tratrain\\\\v=MyThli8Qp0Y__#1_label_A.npy\\n', 'C:\\\\Users\\\\pradh\\\\Downloads\\\\XDVioDet-master\\\\XDVioDet-master\\\\tratrain\\\\v=N2rnBxCmbIE__#1_label_A.npy\\n', 'C:\\\\Users\\\\pradh\\\\Downloads\\\\XDVioDet-master\\\\XDVioDet-master\\\\tratrain\\\\v=NG12Jo87OK8__#1_label_A.npy\\n', 'C:\\\\Users\\\\pradh\\\\Downloads\\\\XDVioDet-master\\\\XDVioDet-master\\\\tratrain\\\\v=NL6XMMAwCWc__#1_label_A.npy\\n', 'C:\\\\Users\\\\pradh\\\\Downloads\\\\XDVioDet-master\\\\XDVioDet-master\\\\tratrain\\\\v=NLWoODwVaPg__#1_label_A.npy\\n', 'C:\\\\Users\\\\pradh\\\\Downloads\\\\XDVioDet-master\\\\XDVioDet-master\\\\tratrain\\\\v=NM2Ay_VvOEE__#1_label_A.npy\\n', 'C:\\\\Users\\\\pradh\\\\Downloads\\\\XDVioDet-master\\\\XDVioDet-master\\\\tratrain\\\\v=NPa2j8eQogc__#1_label_A.npy\\n', 'C:\\\\Users\\\\pradh\\\\Downloads\\\\XDVioDet-master\\\\XDVioDet-master\\\\tratrain\\\\v=NRgFEYhOqIk__#1_label_A.npy\\n', 'C:\\\\Users\\\\pradh\\\\Downloads\\\\XDVioDet-master\\\\XDVioDet-master\\\\tratrain\\\\v=NXRLOf-zp2s__#1_label_A.npy\\n', 'C:\\\\Users\\\\pradh\\\\Downloads\\\\XDVioDet-master\\\\XDVioDet-master\\\\tratrain\\\\v=NdDayw9Ej3o__#1_label_A.npy\\n', 'C:\\\\Users\\\\pradh\\\\Downloads\\\\XDVioDet-master\\\\XDVioDet-master\\\\tratrain\\\\v=NeAC-MfTZzU__#00-00-00_00-03-00_label_A.npy\\n', 'C:\\\\Users\\\\pradh\\\\Downloads\\\\XDVioDet-master\\\\XDVioDet-master\\\\tratrain\\\\v=NeAC-MfTZzU__#00-03-00_00-06-00_label_A.npy\\n', 'C:\\\\Users\\\\pradh\\\\Downloads\\\\XDVioDet-master\\\\XDVioDet-master\\\\tratrain\\\\v=NeAC-MfTZzU__#00-06-00_00-09-00_label_A.npy\\n', 'C:\\\\Users\\\\pradh\\\\Downloads\\\\XDVioDet-master\\\\XDVioDet-master\\\\tratrain\\\\v=NeAC-MfTZzU__#00-09-00_00-12-00_label_A.npy\\n', 'C:\\\\Users\\\\pradh\\\\Downloads\\\\XDVioDet-master\\\\XDVioDet-master\\\\tratrain\\\\v=NeAC-MfTZzU__#00-12-00_00-15-00_label_A.npy\\n', 'C:\\\\Users\\\\pradh\\\\Downloads\\\\XDVioDet-master\\\\XDVioDet-master\\\\tratrain\\\\v=NeAC-MfTZzU__#00-18-00_00-22-00_label_A.npy\\n', 'C:\\\\Users\\\\pradh\\\\Downloads\\\\XDVioDet-master\\\\XDVioDet-master\\\\tratrain\\\\v=O143S6bXohw__#1_label_A.npy\\n', 'C:\\\\Users\\\\pradh\\\\Downloads\\\\XDVioDet-master\\\\XDVioDet-master\\\\tratrain\\\\v=O9ydbx_tkZQ__#1_label_A.npy\\n', 'C:\\\\Users\\\\pradh\\\\Downloads\\\\XDVioDet-master\\\\XDVioDet-master\\\\tratrain\\\\v=OR0SFVEfXgk__#1_label_A.npy\\n', 'C:\\\\Users\\\\pradh\\\\Downloads\\\\XDVioDet-master\\\\XDVioDet-master\\\\tratrain\\\\v=OcoatqJqmX0__#1_label_A.npy\\n', 'C:\\\\Users\\\\pradh\\\\Downloads\\\\XDVioDet-master\\\\XDVioDet-master\\\\tratrain\\\\v=OkKRRBtGrow__#1_label_A.npy\\n', 'C:\\\\Users\\\\pradh\\\\Downloads\\\\XDVioDet-master\\\\XDVioDet-master\\\\tratrain\\\\v=OqrOkekz2aQ__#1_label_A.npy\\n', 'C:\\\\Users\\\\pradh\\\\Downloads\\\\XDVioDet-master\\\\XDVioDet-master\\\\tratrain\\\\v=OyvATvirHxM__#1_label_A.npy\\n', 'C:\\\\Users\\\\pradh\\\\Downloads\\\\XDVioDet-master\\\\XDVioDet-master\\\\tratrain\\\\v=P6njRwz_dMw__#1_label_A.npy\\n', 'C:\\\\Users\\\\pradh\\\\Downloads\\\\XDVioDet-master\\\\XDVioDet-master\\\\tratrain\\\\v=PGgd2Wdu5-0__#1_label_A.npy\\n', 'C:\\\\Users\\\\pradh\\\\Downloads\\\\XDVioDet-master\\\\XDVioDet-master\\\\tratrain\\\\v=PJduSRcJRRo__#1_label_A.npy\\n', 'C:\\\\Users\\\\pradh\\\\Downloads\\\\XDVioDet-master\\\\XDVioDet-master\\\\tratrain\\\\v=PK-Tn6R8f0s__#1_label_A.npy\\n', 'C:\\\\Users\\\\pradh\\\\Downloads\\\\XDVioDet-master\\\\XDVioDet-master\\\\tratrain\\\\v=PN8JBYID9hU__#1_label_A.npy\\n', 'C:\\\\Users\\\\pradh\\\\Downloads\\\\XDVioDet-master\\\\XDVioDet-master\\\\tratrain\\\\v=PWWUHblOmm0__#1_label_A.npy\\n', 'C:\\\\Users\\\\pradh\\\\Downloads\\\\XDVioDet-master\\\\XDVioDet-master\\\\tratrain\\\\v=P_w9DifJuAU__#1_label_A.npy\\n', 'C:\\\\Users\\\\pradh\\\\Downloads\\\\XDVioDet-master\\\\XDVioDet-master\\\\tratrain\\\\v=PgLDwRrMv8c__#1_label_A.npy\\n', 'C:\\\\Users\\\\pradh\\\\Downloads\\\\XDVioDet-master\\\\XDVioDet-master\\\\tratrain\\\\v=PjYUODTUsvc__#1_label_A.npy\\n', 'C:\\\\Users\\\\pradh\\\\Downloads\\\\XDVioDet-master\\\\XDVioDet-master\\\\tratrain\\\\v=PyMgIpzcqVA__#1_label_A.npy\\n', 'C:\\\\Users\\\\pradh\\\\Downloads\\\\XDVioDet-master\\\\XDVioDet-master\\\\tratrain\\\\v=PyMx1dista8__#1_label_A.npy\\n', 'C:\\\\Users\\\\pradh\\\\Downloads\\\\XDVioDet-master\\\\XDVioDet-master\\\\tratrain\\\\v=PzenE60X0Vo__#1_label_A.npy\\n', 'C:\\\\Users\\\\pradh\\\\Downloads\\\\XDVioDet-master\\\\XDVioDet-master\\\\tratrain\\\\v=Q-s3TzUsxM0__#1_label_A.npy\\n', 'C:\\\\Users\\\\pradh\\\\Downloads\\\\XDVioDet-master\\\\XDVioDet-master\\\\tratrain\\\\v=Q3o0ayyWap4__#1_label_A.npy\\n', 'C:\\\\Users\\\\pradh\\\\Downloads\\\\XDVioDet-master\\\\XDVioDet-master\\\\tratrain\\\\v=QGUyrMeujCQ__#1_label_A.npy\\n', 'C:\\\\Users\\\\pradh\\\\Downloads\\\\XDVioDet-master\\\\XDVioDet-master\\\\tratrain\\\\v=QP8D3W77bW4__#1_label_A.npy\\n', 'C:\\\\Users\\\\pradh\\\\Downloads\\\\XDVioDet-master\\\\XDVioDet-master\\\\tratrain\\\\v=QURTK9G2oCo__#1_label_A.npy\\n', 'C:\\\\Users\\\\pradh\\\\Downloads\\\\XDVioDet-master\\\\XDVioDet-master\\\\tratrain\\\\v=QXtOdSgf6Ic__#1_label_A.npy\\n', 'C:\\\\Users\\\\pradh\\\\Downloads\\\\XDVioDet-master\\\\XDVioDet-master\\\\tratrain\\\\v=QZ99HG1YuEE__#1_label_A.npy\\n', 'C:\\\\Users\\\\pradh\\\\Downloads\\\\XDVioDet-master\\\\XDVioDet-master\\\\tratrain\\\\v=QrLO9AFNix0__#1_label_A.npy\\n', 'C:\\\\Users\\\\pradh\\\\Downloads\\\\XDVioDet-master\\\\XDVioDet-master\\\\tratrain\\\\v=RC0qc_f_okM__#1_label_A.npy\\n', 'C:\\\\Users\\\\pradh\\\\Downloads\\\\XDVioDet-master\\\\XDVioDet-master\\\\tratrain\\\\v=RCnS7w-oyYc__#1_label_A.npy\\n', 'C:\\\\Users\\\\pradh\\\\Downloads\\\\XDVioDet-master\\\\XDVioDet-master\\\\tratrain\\\\v=RFjN_SM7ijc__#1_label_A.npy\\n', 'C:\\\\Users\\\\pradh\\\\Downloads\\\\XDVioDet-master\\\\XDVioDet-master\\\\tratrain\\\\v=RHcirifUX4w__#1_label_A.npy\\n', 'C:\\\\Users\\\\pradh\\\\Downloads\\\\XDVioDet-master\\\\XDVioDet-master\\\\tratrain\\\\v=RRndDzpL_kI__#1_label_A.npy\\n', 'C:\\\\Users\\\\pradh\\\\Downloads\\\\XDVioDet-master\\\\XDVioDet-master\\\\tratrain\\\\v=R_HoYB_fRps__#1_label_A.npy\\n', 'C:\\\\Users\\\\pradh\\\\Downloads\\\\XDVioDet-master\\\\XDVioDet-master\\\\tratrain\\\\v=RcTmLTQSBak__#1_label_A.npy\\n', 'C:\\\\Users\\\\pradh\\\\Downloads\\\\XDVioDet-master\\\\XDVioDet-master\\\\tratrain\\\\v=RjrEQaG5jPM__#1_label_A.npy\\n', 'C:\\\\Users\\\\pradh\\\\Downloads\\\\XDVioDet-master\\\\XDVioDet-master\\\\tratrain\\\\v=RwpwkSAvMhU__#1_label_A.npy\\n', 'C:\\\\Users\\\\pradh\\\\Downloads\\\\XDVioDet-master\\\\XDVioDet-master\\\\tratrain\\\\v=RyWrcAW6-r8__#1_label_A.npy\\n', 'C:\\\\Users\\\\pradh\\\\Downloads\\\\XDVioDet-master\\\\XDVioDet-master\\\\tratrain\\\\v=Ryq_TqDsnSI__#1_label_A.npy\\n', 'C:\\\\Users\\\\pradh\\\\Downloads\\\\XDVioDet-master\\\\XDVioDet-master\\\\tratrain\\\\v=S0i9spKtcMI__#1_label_A.npy\\n', 'C:\\\\Users\\\\pradh\\\\Downloads\\\\XDVioDet-master\\\\XDVioDet-master\\\\tratrain\\\\v=SJbWXyTGItY__#1_label_A.npy\\n', 'C:\\\\Users\\\\pradh\\\\Downloads\\\\XDVioDet-master\\\\XDVioDet-master\\\\tratrain\\\\v=SJjLFVHC4RU__#1_label_A.npy\\n', 'C:\\\\Users\\\\pradh\\\\Downloads\\\\XDVioDet-master\\\\XDVioDet-master\\\\tratrain\\\\v=SayEoUZ-Hm4__#1_label_A.npy\\n', 'C:\\\\Users\\\\pradh\\\\Downloads\\\\XDVioDet-master\\\\XDVioDet-master\\\\tratrain\\\\v=SdYFFo_tsfk__#00-06-00_00-12-00_label_A.npy\\n', 'C:\\\\Users\\\\pradh\\\\Downloads\\\\XDVioDet-master\\\\XDVioDet-master\\\\tratrain\\\\v=SdYFFo_tsfk__#00-12-00_00-18-00_label_A.npy\\n', 'C:\\\\Users\\\\pradh\\\\Downloads\\\\XDVioDet-master\\\\XDVioDet-master\\\\tratrain\\\\v=SdYFFo_tsfk__#00-24-00_00-30-00_label_A.npy\\n', 'C:\\\\Users\\\\pradh\\\\Downloads\\\\XDVioDet-master\\\\XDVioDet-master\\\\tratrain\\\\v=SdYFFo_tsfk__#00-30-00_00-36-00_label_A.npy\\n', 'C:\\\\Users\\\\pradh\\\\Downloads\\\\XDVioDet-master\\\\XDVioDet-master\\\\tratrain\\\\v=SdYFFo_tsfk__#00-36-00_00-42-00_label_A.npy\\n', 'C:\\\\Users\\\\pradh\\\\Downloads\\\\XDVioDet-master\\\\XDVioDet-master\\\\tratrain\\\\v=SdYFFo_tsfk__#00-42-00_00-48-00_label_A.npy\\n', 'C:\\\\Users\\\\pradh\\\\Downloads\\\\XDVioDet-master\\\\XDVioDet-master\\\\tratrain\\\\v=SdYFFo_tsfk__#00-48-00_00-54-00_label_A.npy\\n', 'C:\\\\Users\\\\pradh\\\\Downloads\\\\XDVioDet-master\\\\XDVioDet-master\\\\tratrain\\\\v=SdYFFo_tsfk__#00-54-00_01-00-00_label_A.npy\\n', 'C:\\\\Users\\\\pradh\\\\Downloads\\\\XDVioDet-master\\\\XDVioDet-master\\\\tratrain\\\\v=SdYFFo_tsfk__#01-00-00_01-06-00_label_A.npy\\n', 'C:\\\\Users\\\\pradh\\\\Downloads\\\\XDVioDet-master\\\\XDVioDet-master\\\\tratrain\\\\v=SdYFFo_tsfk__#01-06-00_01-12-00_label_A.npy\\n', 'C:\\\\Users\\\\pradh\\\\Downloads\\\\XDVioDet-master\\\\XDVioDet-master\\\\tratrain\\\\v=SdYFFo_tsfk__#01-12-00_01-18-00_label_A.npy\\n', 'C:\\\\Users\\\\pradh\\\\Downloads\\\\XDVioDet-master\\\\XDVioDet-master\\\\tratrain\\\\v=SdYFFo_tsfk__#01-18-00_01-24-00_label_A.npy\\n', 'C:\\\\Users\\\\pradh\\\\Downloads\\\\XDVioDet-master\\\\XDVioDet-master\\\\tratrain\\\\v=SdYFFo_tsfk__#01-24-00_01-30-00_label_A.npy\\n', 'C:\\\\Users\\\\pradh\\\\Downloads\\\\XDVioDet-master\\\\XDVioDet-master\\\\tratrain\\\\v=SdYFFo_tsfk__#01-30-00_01-36-00_label_A.npy\\n', 'C:\\\\Users\\\\pradh\\\\Downloads\\\\XDVioDet-master\\\\XDVioDet-master\\\\tratrain\\\\v=SdYFFo_tsfk__#01-36-00_01-42-00_label_A.npy\\n', 'C:\\\\Users\\\\pradh\\\\Downloads\\\\XDVioDet-master\\\\XDVioDet-master\\\\tratrain\\\\v=SdYFFo_tsfk__#01-42-00_01-48-00_label_A.npy\\n', 'C:\\\\Users\\\\pradh\\\\Downloads\\\\XDVioDet-master\\\\XDVioDet-master\\\\tratrain\\\\v=SdYFFo_tsfk__#01-48-00_01-52-00_label_A.npy\\n', 'C:\\\\Users\\\\pradh\\\\Downloads\\\\XDVioDet-master\\\\XDVioDet-master\\\\tratrain\\\\v=SejzmoIHnK0__#1_label_A.npy\\n', 'C:\\\\Users\\\\pradh\\\\Downloads\\\\XDVioDet-master\\\\XDVioDet-master\\\\tratrain\\\\v=SfYfRIoASj8__#1_label_A.npy\\n', 'C:\\\\Users\\\\pradh\\\\Downloads\\\\XDVioDet-master\\\\XDVioDet-master\\\\tratrain\\\\v=Sort1hCMSz8__#1_label_A.npy\\n', 'C:\\\\Users\\\\pradh\\\\Downloads\\\\XDVioDet-master\\\\XDVioDet-master\\\\tratrain\\\\v=Su_wcUpLYIk__#1_label_A.npy\\n', 'C:\\\\Users\\\\pradh\\\\Downloads\\\\XDVioDet-master\\\\XDVioDet-master\\\\tratrain\\\\v=T1s-h38GvmA__#1_label_A.npy\\n', 'C:\\\\Users\\\\pradh\\\\Downloads\\\\XDVioDet-master\\\\XDVioDet-master\\\\tratrain\\\\v=TGhunYe0Fvk__#1_label_A.npy\\n', 'C:\\\\Users\\\\pradh\\\\Downloads\\\\XDVioDet-master\\\\XDVioDet-master\\\\tratrain\\\\v=Te_1RoLM6hQ__#1_label_A.npy\\n', 'C:\\\\Users\\\\pradh\\\\Downloads\\\\XDVioDet-master\\\\XDVioDet-master\\\\tratrain\\\\v=Tok2GAoeSMI__#1_label_A.npy\\n', 'C:\\\\Users\\\\pradh\\\\Downloads\\\\XDVioDet-master\\\\XDVioDet-master\\\\tratrain\\\\v=TqNy_Er2-ZA__#1_label_A.npy\\n', 'C:\\\\Users\\\\pradh\\\\Downloads\\\\XDVioDet-master\\\\XDVioDet-master\\\\tratrain\\\\v=TrON1jkvfBQ__#1_label_A.npy\\n', 'C:\\\\Users\\\\pradh\\\\Downloads\\\\XDVioDet-master\\\\XDVioDet-master\\\\tratrain\\\\v=TrP9Ssg_W-k__#1_label_A.npy\\n', 'C:\\\\Users\\\\pradh\\\\Downloads\\\\XDVioDet-master\\\\XDVioDet-master\\\\tratrain\\\\v=TtwkuoaI2Iw__#1_label_A.npy\\n', 'C:\\\\Users\\\\pradh\\\\Downloads\\\\XDVioDet-master\\\\XDVioDet-master\\\\tratrain\\\\v=TuE9PqCu6U0__#1_label_A.npy\\n', 'C:\\\\Users\\\\pradh\\\\Downloads\\\\XDVioDet-master\\\\XDVioDet-master\\\\tratrain\\\\v=U6GNhmLnjWU__#1_label_A.npy\\n', 'C:\\\\Users\\\\pradh\\\\Downloads\\\\XDVioDet-master\\\\XDVioDet-master\\\\tratrain\\\\v=UMLtkp4AFkc__#1_label_A.npy\\n', 'C:\\\\Users\\\\pradh\\\\Downloads\\\\XDVioDet-master\\\\XDVioDet-master\\\\tratrain\\\\v=UQ9jjX_4ywU__#1_label_A.npy\\n', 'C:\\\\Users\\\\pradh\\\\Downloads\\\\XDVioDet-master\\\\XDVioDet-master\\\\tratrain\\\\v=VDwMhSobaOg__#1_label_A.npy\\n', 'C:\\\\Users\\\\pradh\\\\Downloads\\\\XDVioDet-master\\\\XDVioDet-master\\\\tratrain\\\\v=VQXyK5J5zQk__#1_label_A.npy\\n', 'C:\\\\Users\\\\pradh\\\\Downloads\\\\XDVioDet-master\\\\XDVioDet-master\\\\tratrain\\\\v=VR_5nywcUuQ__#1_label_A.npy\\n', 'C:\\\\Users\\\\pradh\\\\Downloads\\\\XDVioDet-master\\\\XDVioDet-master\\\\tratrain\\\\v=VRn8Tc02TbU__#00-00-00_00-03-00_label_A.npy\\n', 'C:\\\\Users\\\\pradh\\\\Downloads\\\\XDVioDet-master\\\\XDVioDet-master\\\\tratrain\\\\v=VRn8Tc02TbU__#00-03-00_00-06-00_label_A.npy\\n', 'C:\\\\Users\\\\pradh\\\\Downloads\\\\XDVioDet-master\\\\XDVioDet-master\\\\tratrain\\\\v=VRn8Tc02TbU__#00-06-00_00-09-00_label_A.npy\\n', 'C:\\\\Users\\\\pradh\\\\Downloads\\\\XDVioDet-master\\\\XDVioDet-master\\\\tratrain\\\\v=VRn8Tc02TbU__#00-09-00_00-12-00_label_A.npy\\n', 'C:\\\\Users\\\\pradh\\\\Downloads\\\\XDVioDet-master\\\\XDVioDet-master\\\\tratrain\\\\v=VRn8Tc02TbU__#00-12-00_00-15-00_label_A.npy\\n', 'C:\\\\Users\\\\pradh\\\\Downloads\\\\XDVioDet-master\\\\XDVioDet-master\\\\tratrain\\\\v=VRn8Tc02TbU__#00-15-00_00-18-00_label_A.npy\\n', 'C:\\\\Users\\\\pradh\\\\Downloads\\\\XDVioDet-master\\\\XDVioDet-master\\\\tratrain\\\\v=VRn8Tc02TbU__#00-21-00_00-24-00_label_A.npy\\n', 'C:\\\\Users\\\\pradh\\\\Downloads\\\\XDVioDet-master\\\\XDVioDet-master\\\\tratrain\\\\v=VRn8Tc02TbU__#00-24-00_00-27-00_label_A.npy\\n', 'C:\\\\Users\\\\pradh\\\\Downloads\\\\XDVioDet-master\\\\XDVioDet-master\\\\tratrain\\\\v=VRn8Tc02TbU__#00-27-00_00-30-00_label_A.npy\\n', 'C:\\\\Users\\\\pradh\\\\Downloads\\\\XDVioDet-master\\\\XDVioDet-master\\\\tratrain\\\\v=VRn8Tc02TbU__#00-30-00_00-32-22_label_A.npy\\n', 'C:\\\\Users\\\\pradh\\\\Downloads\\\\XDVioDet-master\\\\XDVioDet-master\\\\tratrain\\\\v=VXB7zNPUX3Y__#1_label_A.npy\\n', 'C:\\\\Users\\\\pradh\\\\Downloads\\\\XDVioDet-master\\\\XDVioDet-master\\\\tratrain\\\\v=VY91zRGzdv8__#1_label_A.npy\\n', 'C:\\\\Users\\\\pradh\\\\Downloads\\\\XDVioDet-master\\\\XDVioDet-master\\\\tratrain\\\\v=Vo5KzimeK44__#1_label_A.npy\\n', 'C:\\\\Users\\\\pradh\\\\Downloads\\\\XDVioDet-master\\\\XDVioDet-master\\\\tratrain\\\\v=VpmGap58ZX0__#1_label_A.npy\\n', 'C:\\\\Users\\\\pradh\\\\Downloads\\\\XDVioDet-master\\\\XDVioDet-master\\\\tratrain\\\\v=Vqx7u6rt5cY__#1_label_A.npy\\n', 'C:\\\\Users\\\\pradh\\\\Downloads\\\\XDVioDet-master\\\\XDVioDet-master\\\\tratrain\\\\v=W0oYXpd_WIU__#1_label_A.npy\\n', 'C:\\\\Users\\\\pradh\\\\Downloads\\\\XDVioDet-master\\\\XDVioDet-master\\\\tratrain\\\\v=W1B8Sn2enVM__#1_label_A.npy\\n', 'C:\\\\Users\\\\pradh\\\\Downloads\\\\XDVioDet-master\\\\XDVioDet-master\\\\tratrain\\\\v=WDCSolzDRTU__#1_label_A.npy\\n', 'C:\\\\Users\\\\pradh\\\\Downloads\\\\XDVioDet-master\\\\XDVioDet-master\\\\tratrain\\\\v=WYMLA4U9HDI__#1_label_A.npy\\n', 'C:\\\\Users\\\\pradh\\\\Downloads\\\\XDVioDet-master\\\\XDVioDet-master\\\\tratrain\\\\v=Wa2zNUdds4A__#1_label_A.npy\\n', 'C:\\\\Users\\\\pradh\\\\Downloads\\\\XDVioDet-master\\\\XDVioDet-master\\\\tratrain\\\\v=Wc55h6-lhJ0__#1_label_A.npy\\n', 'C:\\\\Users\\\\pradh\\\\Downloads\\\\XDVioDet-master\\\\XDVioDet-master\\\\tratrain\\\\v=Wfo1lz6nntg__#1_label_A.npy\\n', 'C:\\\\Users\\\\pradh\\\\Downloads\\\\XDVioDet-master\\\\XDVioDet-master\\\\tratrain\\\\v=Wfu3A22UMcs__#1_label_A.npy\\n', 'C:\\\\Users\\\\pradh\\\\Downloads\\\\XDVioDet-master\\\\XDVioDet-master\\\\tratrain\\\\v=WhB3fS0ZJeg__#1_label_A.npy\\n', 'C:\\\\Users\\\\pradh\\\\Downloads\\\\XDVioDet-master\\\\XDVioDet-master\\\\tratrain\\\\v=WiUR8SoBens__#1_label_A.npy\\n', 'C:\\\\Users\\\\pradh\\\\Downloads\\\\XDVioDet-master\\\\XDVioDet-master\\\\tratrain\\\\v=Wj1Xw2_duq8__#1_label_A.npy\\n', 'C:\\\\Users\\\\pradh\\\\Downloads\\\\XDVioDet-master\\\\XDVioDet-master\\\\tratrain\\\\v=WjO4zweaD2w__#1_label_A.npy\\n', 'C:\\\\Users\\\\pradh\\\\Downloads\\\\XDVioDet-master\\\\XDVioDet-master\\\\tratrain\\\\v=WkdLbqWLQko__#1_label_A.npy\\n', 'C:\\\\Users\\\\pradh\\\\Downloads\\\\XDVioDet-master\\\\XDVioDet-master\\\\tratrain\\\\v=WpxJJFcWM8s__#1_label_A.npy\\n', 'C:\\\\Users\\\\pradh\\\\Downloads\\\\XDVioDet-master\\\\XDVioDet-master\\\\tratrain\\\\v=Wr7JadZ_P64__#1_label_A.npy\\n', 'C:\\\\Users\\\\pradh\\\\Downloads\\\\XDVioDet-master\\\\XDVioDet-master\\\\tratrain\\\\v=WsxYAwdOgO4__#1_label_A.npy\\n', 'C:\\\\Users\\\\pradh\\\\Downloads\\\\XDVioDet-master\\\\XDVioDet-master\\\\tratrain\\\\v=WwHp3w9uozU__#1_label_A.npy\\n', 'C:\\\\Users\\\\pradh\\\\Downloads\\\\XDVioDet-master\\\\XDVioDet-master\\\\tratrain\\\\v=WxiUccHD1Bc__#1_label_A.npy\\n', 'C:\\\\Users\\\\pradh\\\\Downloads\\\\XDVioDet-master\\\\XDVioDet-master\\\\tratrain\\\\v=X59__bw-seg__#1_label_A.npy\\n', 'C:\\\\Users\\\\pradh\\\\Downloads\\\\XDVioDet-master\\\\XDVioDet-master\\\\tratrain\\\\v=XAZIC6RlSXs__#1_label_A.npy\\n', 'C:\\\\Users\\\\pradh\\\\Downloads\\\\XDVioDet-master\\\\XDVioDet-master\\\\tratrain\\\\v=XF7VVP6pZqg__#1_label_A.npy\\n', 'C:\\\\Users\\\\pradh\\\\Downloads\\\\XDVioDet-master\\\\XDVioDet-master\\\\tratrain\\\\v=XWbY5jdJnHg__#1_label_A.npy\\n', 'C:\\\\Users\\\\pradh\\\\Downloads\\\\XDVioDet-master\\\\XDVioDet-master\\\\tratrain\\\\v=XYIQL0np5mI__#1_label_A.npy\\n', 'C:\\\\Users\\\\pradh\\\\Downloads\\\\XDVioDet-master\\\\XDVioDet-master\\\\tratrain\\\\v=XiykWly3WZI__#1_label_A.npy\\n', 'C:\\\\Users\\\\pradh\\\\Downloads\\\\XDVioDet-master\\\\XDVioDet-master\\\\tratrain\\\\v=XjRhYP-OXdM__#00-00-00_00-03-00_label_A.npy\\n', 'C:\\\\Users\\\\pradh\\\\Downloads\\\\XDVioDet-master\\\\XDVioDet-master\\\\tratrain\\\\v=XjRhYP-OXdM__#00-03-00_00-06-00_label_A.npy\\n', 'C:\\\\Users\\\\pradh\\\\Downloads\\\\XDVioDet-master\\\\XDVioDet-master\\\\tratrain\\\\v=XjRhYP-OXdM__#00-06-00_00-09-00_label_A.npy\\n', 'C:\\\\Users\\\\pradh\\\\Downloads\\\\XDVioDet-master\\\\XDVioDet-master\\\\tratrain\\\\v=XjRhYP-OXdM__#00-09-00_00-12-00_label_A.npy\\n', 'C:\\\\Users\\\\pradh\\\\Downloads\\\\XDVioDet-master\\\\XDVioDet-master\\\\tratrain\\\\v=XjRhYP-OXdM__#00-12-00_00-15-00_label_A.npy\\n', 'C:\\\\Users\\\\pradh\\\\Downloads\\\\XDVioDet-master\\\\XDVioDet-master\\\\tratrain\\\\v=XjRhYP-OXdM__#00-15-00_00-18-00_label_A.npy\\n', 'C:\\\\Users\\\\pradh\\\\Downloads\\\\XDVioDet-master\\\\XDVioDet-master\\\\tratrain\\\\v=XjRhYP-OXdM__#00-18-00_00-22-00_label_A.npy\\n', 'C:\\\\Users\\\\pradh\\\\Downloads\\\\XDVioDet-master\\\\XDVioDet-master\\\\tratrain\\\\v=Xs8fRP0_o8w__#1_label_A.npy\\n', 'C:\\\\Users\\\\pradh\\\\Downloads\\\\XDVioDet-master\\\\XDVioDet-master\\\\tratrain\\\\v=XtaWdc_oxsY__#1_label_A.npy\\n', 'C:\\\\Users\\\\pradh\\\\Downloads\\\\XDVioDet-master\\\\XDVioDet-master\\\\tratrain\\\\v=XtogC6upSJg__#1_label_A.npy\\n', 'C:\\\\Users\\\\pradh\\\\Downloads\\\\XDVioDet-master\\\\XDVioDet-master\\\\tratrain\\\\v=XvClcfVqwXA__#1_label_A.npy\\n', 'C:\\\\Users\\\\pradh\\\\Downloads\\\\XDVioDet-master\\\\XDVioDet-master\\\\tratrain\\\\v=Y-h3M082MWc__#1_label_A.npy\\n', 'C:\\\\Users\\\\pradh\\\\Downloads\\\\XDVioDet-master\\\\XDVioDet-master\\\\tratrain\\\\v=Y3O4IOaKZqU__#1_label_A.npy\\n', 'C:\\\\Users\\\\pradh\\\\Downloads\\\\XDVioDet-master\\\\XDVioDet-master\\\\tratrain\\\\v=Y5z-lRvfXUA__#1_label_A.npy\\n', 'C:\\\\Users\\\\pradh\\\\Downloads\\\\XDVioDet-master\\\\XDVioDet-master\\\\tratrain\\\\v=Y6OdlpNMMFM__#1_label_A.npy\\n', 'C:\\\\Users\\\\pradh\\\\Downloads\\\\XDVioDet-master\\\\XDVioDet-master\\\\tratrain\\\\v=YLupFOFCOds__#1_label_A.npy\\n', 'C:\\\\Users\\\\pradh\\\\Downloads\\\\XDVioDet-master\\\\XDVioDet-master\\\\tratrain\\\\v=YNYqmXkTxA8__#1_label_A.npy\\n', 'C:\\\\Users\\\\pradh\\\\Downloads\\\\XDVioDet-master\\\\XDVioDet-master\\\\tratrain\\\\v=YigOHqXuFT0__#1_label_A.npy\\n', 'C:\\\\Users\\\\pradh\\\\Downloads\\\\XDVioDet-master\\\\XDVioDet-master\\\\tratrain\\\\v=Yr41_8QOTF8__#00-00-00_00-03-00_label_A.npy\\n', 'C:\\\\Users\\\\pradh\\\\Downloads\\\\XDVioDet-master\\\\XDVioDet-master\\\\tratrain\\\\v=Yr41_8QOTF8__#00-03-00_00-06-00_label_A.npy\\n', 'C:\\\\Users\\\\pradh\\\\Downloads\\\\XDVioDet-master\\\\XDVioDet-master\\\\tratrain\\\\v=Yr41_8QOTF8__#00-06-00_00-09-00_label_A.npy\\n', 'C:\\\\Users\\\\pradh\\\\Downloads\\\\XDVioDet-master\\\\XDVioDet-master\\\\tratrain\\\\v=Yr41_8QOTF8__#00-12-00_00-15-00_label_A.npy\\n', 'C:\\\\Users\\\\pradh\\\\Downloads\\\\XDVioDet-master\\\\XDVioDet-master\\\\tratrain\\\\v=Yr41_8QOTF8__#00-15-00_00-18-00_label_A.npy\\n', 'C:\\\\Users\\\\pradh\\\\Downloads\\\\XDVioDet-master\\\\XDVioDet-master\\\\tratrain\\\\v=Yr41_8QOTF8__#00-18-00_00-21-00_label_A.npy\\n', 'C:\\\\Users\\\\pradh\\\\Downloads\\\\XDVioDet-master\\\\XDVioDet-master\\\\tratrain\\\\v=Yr41_8QOTF8__#00-24-00_00-27-00_label_A.npy\\n', 'C:\\\\Users\\\\pradh\\\\Downloads\\\\XDVioDet-master\\\\XDVioDet-master\\\\tratrain\\\\v=Yr41_8QOTF8__#00-27-00_00-30-00_label_A.npy\\n', 'C:\\\\Users\\\\pradh\\\\Downloads\\\\XDVioDet-master\\\\XDVioDet-master\\\\tratrain\\\\v=Yr41_8QOTF8__#00-30-00_00-33-00_label_A.npy\\n', 'C:\\\\Users\\\\pradh\\\\Downloads\\\\XDVioDet-master\\\\XDVioDet-master\\\\tratrain\\\\v=Yr41_8QOTF8__#00-33-00_00-36-00_label_A.npy\\n', 'C:\\\\Users\\\\pradh\\\\Downloads\\\\XDVioDet-master\\\\XDVioDet-master\\\\tratrain\\\\v=Yr41_8QOTF8__#00-36-00_00-39-00_label_A.npy\\n', 'C:\\\\Users\\\\pradh\\\\Downloads\\\\XDVioDet-master\\\\XDVioDet-master\\\\tratrain\\\\v=Yr41_8QOTF8__#00-39-00_00-42-00_label_A.npy\\n', 'C:\\\\Users\\\\pradh\\\\Downloads\\\\XDVioDet-master\\\\XDVioDet-master\\\\tratrain\\\\v=Yr41_8QOTF8__#00-42-00_00-45-00_label_A.npy\\n', 'C:\\\\Users\\\\pradh\\\\Downloads\\\\XDVioDet-master\\\\XDVioDet-master\\\\tratrain\\\\v=Yr41_8QOTF8__#00-45-00_00-48-00_label_A.npy\\n', 'C:\\\\Users\\\\pradh\\\\Downloads\\\\XDVioDet-master\\\\XDVioDet-master\\\\tratrain\\\\v=ZPV2OzkQy1M__#1_label_A.npy\\n', 'C:\\\\Users\\\\pradh\\\\Downloads\\\\XDVioDet-master\\\\XDVioDet-master\\\\tratrain\\\\v=ZQqg2i6BXEQ__#1_label_A.npy\\n', 'C:\\\\Users\\\\pradh\\\\Downloads\\\\XDVioDet-master\\\\XDVioDet-master\\\\tratrain\\\\v=ZSbjQ72vuXE__#1_label_A.npy\\n', 'C:\\\\Users\\\\pradh\\\\Downloads\\\\XDVioDet-master\\\\XDVioDet-master\\\\tratrain\\\\v=ZU97p2miRO0__#1_label_A.npy\\n', 'C:\\\\Users\\\\pradh\\\\Downloads\\\\XDVioDet-master\\\\XDVioDet-master\\\\tratrain\\\\v=Z_38otWdwpc__#1_label_A.npy\\n', 'C:\\\\Users\\\\pradh\\\\Downloads\\\\XDVioDet-master\\\\XDVioDet-master\\\\tratrain\\\\v=ZdBy-v2C964__#1_label_A.npy\\n', 'C:\\\\Users\\\\pradh\\\\Downloads\\\\XDVioDet-master\\\\XDVioDet-master\\\\tratrain\\\\v=Zh3eVBs-5Tc__#1_label_A.npy\\n', 'C:\\\\Users\\\\pradh\\\\Downloads\\\\XDVioDet-master\\\\XDVioDet-master\\\\tratrain\\\\v=ZjPgJS-LYPM__#1_label_A.npy\\n', 'C:\\\\Users\\\\pradh\\\\Downloads\\\\XDVioDet-master\\\\XDVioDet-master\\\\tratrain\\\\v=ZmKdNIXzVOo__#1_label_A.npy\\n', 'C:\\\\Users\\\\pradh\\\\Downloads\\\\XDVioDet-master\\\\XDVioDet-master\\\\tratrain\\\\v=Zuc6rd0_w2U__#1_label_A.npy\\n', 'C:\\\\Users\\\\pradh\\\\Downloads\\\\XDVioDet-master\\\\XDVioDet-master\\\\tratrain\\\\v=ZvyOsM5lAdY__#1_label_A.npy\\n', 'C:\\\\Users\\\\pradh\\\\Downloads\\\\XDVioDet-master\\\\XDVioDet-master\\\\tratrain\\\\v=ZwmDlqjJLcM__#1_label_A.npy\\n', 'C:\\\\Users\\\\pradh\\\\Downloads\\\\XDVioDet-master\\\\XDVioDet-master\\\\tratrain\\\\v=ZwwEdra5d3c__#1_label_A.npy\\n', 'C:\\\\Users\\\\pradh\\\\Downloads\\\\XDVioDet-master\\\\XDVioDet-master\\\\tratrain\\\\v=ZyWlEWx6WsY__#1_label_A.npy\\n', 'C:\\\\Users\\\\pradh\\\\Downloads\\\\XDVioDet-master\\\\XDVioDet-master\\\\tratrain\\\\v=_1M_fvRJq18__#1_label_A.npy\\n', 'C:\\\\Users\\\\pradh\\\\Downloads\\\\XDVioDet-master\\\\XDVioDet-master\\\\tratrain\\\\v=_7WGxbsaeGs__#1_label_A.npy\\n', 'C:\\\\Users\\\\pradh\\\\Downloads\\\\XDVioDet-master\\\\XDVioDet-master\\\\tratrain\\\\v=_HKhtGbSyUY__#1_label_A.npy\\n', 'C:\\\\Users\\\\pradh\\\\Downloads\\\\XDVioDet-master\\\\XDVioDet-master\\\\tratrain\\\\v=_UFEMMxxxH4__#1_label_A.npy\\n', 'C:\\\\Users\\\\pradh\\\\Downloads\\\\XDVioDet-master\\\\XDVioDet-master\\\\tratrain\\\\v=_VGsAbXOxQ8__#1_label_A.npy\\n', 'C:\\\\Users\\\\pradh\\\\Downloads\\\\XDVioDet-master\\\\XDVioDet-master\\\\tratrain\\\\v=_d4P8xdrmvQ__#1_label_A.npy\\n', 'C:\\\\Users\\\\pradh\\\\Downloads\\\\XDVioDet-master\\\\XDVioDet-master\\\\tratrain\\\\v=_f2LLG_CPRQ__#1_label_A.npy\\n', 'C:\\\\Users\\\\pradh\\\\Downloads\\\\XDVioDet-master\\\\XDVioDet-master\\\\tratrain\\\\v=_iS0bZrdgSo__#1_label_A.npy\\n', 'C:\\\\Users\\\\pradh\\\\Downloads\\\\XDVioDet-master\\\\XDVioDet-master\\\\tratrain\\\\v=_jCpBH5zehI__#1_label_A.npy\\n', 'C:\\\\Users\\\\pradh\\\\Downloads\\\\XDVioDet-master\\\\XDVioDet-master\\\\tratrain\\\\v=aBJJ9CDYqUc__#1_label_A.npy\\n', 'C:\\\\Users\\\\pradh\\\\Downloads\\\\XDVioDet-master\\\\XDVioDet-master\\\\tratrain\\\\v=aCLf7sUx_UI__#1_label_A.npy\\n', 'C:\\\\Users\\\\pradh\\\\Downloads\\\\XDVioDet-master\\\\XDVioDet-master\\\\tratrain\\\\v=aJBgFvbod2I__#1_label_A.npy\\n', 'C:\\\\Users\\\\pradh\\\\Downloads\\\\XDVioDet-master\\\\XDVioDet-master\\\\tratrain\\\\v=aQj5qTFhdZ0__#1_label_A.npy\\n', 'C:\\\\Users\\\\pradh\\\\Downloads\\\\XDVioDet-master\\\\XDVioDet-master\\\\tratrain\\\\v=aRYJ9u0sEE4__#1_label_A.npy\\n', 'C:\\\\Users\\\\pradh\\\\Downloads\\\\XDVioDet-master\\\\XDVioDet-master\\\\tratrain\\\\v=aT9TifU-L2Y__#1_label_A.npy\\n', 'C:\\\\Users\\\\pradh\\\\Downloads\\\\XDVioDet-master\\\\XDVioDet-master\\\\tratrain\\\\v=aVFZdMu2Onk__#1_label_A.npy\\n', 'C:\\\\Users\\\\pradh\\\\Downloads\\\\XDVioDet-master\\\\XDVioDet-master\\\\tratrain\\\\v=aXI50sXZ4t0__#1_label_A.npy\\n', 'C:\\\\Users\\\\pradh\\\\Downloads\\\\XDVioDet-master\\\\XDVioDet-master\\\\tratrain\\\\v=aXqnDEOlHwM__#1_label_A.npy\\n', 'C:\\\\Users\\\\pradh\\\\Downloads\\\\XDVioDet-master\\\\XDVioDet-master\\\\tratrain\\\\v=ahbIYYT_8rQ__#1_label_A.npy\\n', 'C:\\\\Users\\\\pradh\\\\Downloads\\\\XDVioDet-master\\\\XDVioDet-master\\\\tratrain\\\\v=amnnMOUko64__#1_label_A.npy\\n', 'C:\\\\Users\\\\pradh\\\\Downloads\\\\XDVioDet-master\\\\XDVioDet-master\\\\tratrain\\\\v=arFPbZ_f2AI__#1_label_A.npy\\n', 'C:\\\\Users\\\\pradh\\\\Downloads\\\\XDVioDet-master\\\\XDVioDet-master\\\\tratrain\\\\v=avP5d16wEp0__#1_label_A.npy\\n', 'C:\\\\Users\\\\pradh\\\\Downloads\\\\XDVioDet-master\\\\XDVioDet-master\\\\tratrain\\\\v=b1XGPvbWn0A__#1_label_A.npy\\n', 'C:\\\\Users\\\\pradh\\\\Downloads\\\\XDVioDet-master\\\\XDVioDet-master\\\\tratrain\\\\v=b7pncKyAn1o__#1_label_A.npy\\n', 'C:\\\\Users\\\\pradh\\\\Downloads\\\\XDVioDet-master\\\\XDVioDet-master\\\\tratrain\\\\v=bJmQIOpADMg__#1_label_A.npy\\n', 'C:\\\\Users\\\\pradh\\\\Downloads\\\\XDVioDet-master\\\\XDVioDet-master\\\\tratrain\\\\v=bQCYElYTDYI__#1_label_A.npy\\n', 'C:\\\\Users\\\\pradh\\\\Downloads\\\\XDVioDet-master\\\\XDVioDet-master\\\\tratrain\\\\v=bY3PQdcFWh0__#1_label_A.npy\\n', 'C:\\\\Users\\\\pradh\\\\Downloads\\\\XDVioDet-master\\\\XDVioDet-master\\\\tratrain\\\\v=ba4YbfByJfg__#1_label_A.npy\\n', 'C:\\\\Users\\\\pradh\\\\Downloads\\\\XDVioDet-master\\\\XDVioDet-master\\\\tratrain\\\\v=bpXcG9Nfvos__#1_label_A.npy\\n', 'C:\\\\Users\\\\pradh\\\\Downloads\\\\XDVioDet-master\\\\XDVioDet-master\\\\tratrain\\\\v=c0GlCjZbVzk__#1_label_A.npy\\n', 'C:\\\\Users\\\\pradh\\\\Downloads\\\\XDVioDet-master\\\\XDVioDet-master\\\\tratrain\\\\v=c3SjiQMCnwc__#1_label_A.npy\\n', 'C:\\\\Users\\\\pradh\\\\Downloads\\\\XDVioDet-master\\\\XDVioDet-master\\\\tratrain\\\\v=cDPC4-jJe2g__#1_label_A.npy\\n', 'C:\\\\Users\\\\pradh\\\\Downloads\\\\XDVioDet-master\\\\XDVioDet-master\\\\tratrain\\\\v=cEBOZY38Y7I__#1_label_A.npy\\n', 'C:\\\\Users\\\\pradh\\\\Downloads\\\\XDVioDet-master\\\\XDVioDet-master\\\\tratrain\\\\v=cMhNmjxGWHA__#1_label_A.npy\\n', 'C:\\\\Users\\\\pradh\\\\Downloads\\\\XDVioDet-master\\\\XDVioDet-master\\\\tratrain\\\\v=cTPB8Q47a4s__#1_label_A.npy\\n', 'C:\\\\Users\\\\pradh\\\\Downloads\\\\XDVioDet-master\\\\XDVioDet-master\\\\tratrain\\\\v=cUFVR5sgbt0__#1_label_A.npy\\n', 'C:\\\\Users\\\\pradh\\\\Downloads\\\\XDVioDet-master\\\\XDVioDet-master\\\\tratrain\\\\v=cW-t_V4XW08__#1_label_A.npy\\n', 'C:\\\\Users\\\\pradh\\\\Downloads\\\\XDVioDet-master\\\\XDVioDet-master\\\\tratrain\\\\v=ceXPFD1yggw__#1_label_A.npy\\n', 'C:\\\\Users\\\\pradh\\\\Downloads\\\\XDVioDet-master\\\\XDVioDet-master\\\\tratrain\\\\v=cgbI55HdqQs__#1_label_A.npy\\n', 'C:\\\\Users\\\\pradh\\\\Downloads\\\\XDVioDet-master\\\\XDVioDet-master\\\\tratrain\\\\v=cn7AFhVEI5o__#1_label_A.npy\\n', 'C:\\\\Users\\\\pradh\\\\Downloads\\\\XDVioDet-master\\\\XDVioDet-master\\\\tratrain\\\\v=cr88_Xq2hMg__#1_label_A.npy\\n', 'C:\\\\Users\\\\pradh\\\\Downloads\\\\XDVioDet-master\\\\XDVioDet-master\\\\tratrain\\\\v=csGpqnok6p8__#1_label_A.npy\\n', 'C:\\\\Users\\\\pradh\\\\Downloads\\\\XDVioDet-master\\\\XDVioDet-master\\\\tratrain\\\\v=cu1ImwKxezg__#1_label_A.npy\\n', 'C:\\\\Users\\\\pradh\\\\Downloads\\\\XDVioDet-master\\\\XDVioDet-master\\\\tratrain\\\\v=cvEJ5WFk2KE__#00-00-00_00-03-00_label_A.npy\\n', 'C:\\\\Users\\\\pradh\\\\Downloads\\\\XDVioDet-master\\\\XDVioDet-master\\\\tratrain\\\\v=cvEJ5WFk2KE__#00-03-00_00-06-00_label_A.npy\\n', 'C:\\\\Users\\\\pradh\\\\Downloads\\\\XDVioDet-master\\\\XDVioDet-master\\\\tratrain\\\\v=cvEJ5WFk2KE__#00-09-00_00-12-00_label_A.npy\\n', 'C:\\\\Users\\\\pradh\\\\Downloads\\\\XDVioDet-master\\\\XDVioDet-master\\\\tratrain\\\\v=cvEJ5WFk2KE__#00-12-00_00-15-00_label_A.npy\\n', 'C:\\\\Users\\\\pradh\\\\Downloads\\\\XDVioDet-master\\\\XDVioDet-master\\\\tratrain\\\\v=cvEJ5WFk2KE__#00-15-00_00-18-00_label_A.npy\\n', 'C:\\\\Users\\\\pradh\\\\Downloads\\\\XDVioDet-master\\\\XDVioDet-master\\\\tratrain\\\\v=cvEJ5WFk2KE__#00-18-00_00-21-00_label_A.npy\\n', 'C:\\\\Users\\\\pradh\\\\Downloads\\\\XDVioDet-master\\\\XDVioDet-master\\\\tratrain\\\\v=cvEJ5WFk2KE__#00-21-00_00-24-00_label_A.npy\\n', 'C:\\\\Users\\\\pradh\\\\Downloads\\\\XDVioDet-master\\\\XDVioDet-master\\\\tratrain\\\\v=cvEJ5WFk2KE__#00-24-00_00-27-00_label_A.npy\\n', 'C:\\\\Users\\\\pradh\\\\Downloads\\\\XDVioDet-master\\\\XDVioDet-master\\\\tratrain\\\\v=cvEJ5WFk2KE__#00-27-00_00-30-22_label_A.npy\\n', 'C:\\\\Users\\\\pradh\\\\Downloads\\\\XDVioDet-master\\\\XDVioDet-master\\\\tratrain\\\\v=cvSRy1NOXc8__#1_label_A.npy\\n', 'C:\\\\Users\\\\pradh\\\\Downloads\\\\XDVioDet-master\\\\XDVioDet-master\\\\tratrain\\\\v=d0DAmHbbUxI__#1_label_A.npy\\n', 'C:\\\\Users\\\\pradh\\\\Downloads\\\\XDVioDet-master\\\\XDVioDet-master\\\\tratrain\\\\v=d9tHiTMSv1g__#1_label_A.npy\\n', 'C:\\\\Users\\\\pradh\\\\Downloads\\\\XDVioDet-master\\\\XDVioDet-master\\\\tratrain\\\\v=dJRcXU8y4tw__#1_label_A.npy\\n', 'C:\\\\Users\\\\pradh\\\\Downloads\\\\XDVioDet-master\\\\XDVioDet-master\\\\tratrain\\\\v=dM4c8z0d6Pw__#1_label_A.npy\\n', 'C:\\\\Users\\\\pradh\\\\Downloads\\\\XDVioDet-master\\\\XDVioDet-master\\\\tratrain\\\\v=dN6qjd7K7vA__#1_label_A.npy\\n', 'C:\\\\Users\\\\pradh\\\\Downloads\\\\XDVioDet-master\\\\XDVioDet-master\\\\tratrain\\\\v=dRcnDKrKA_g__#1_label_A.npy\\n', 'C:\\\\Users\\\\pradh\\\\Downloads\\\\XDVioDet-master\\\\XDVioDet-master\\\\tratrain\\\\v=dTv80e4qyzs__#1_label_A.npy\\n', 'C:\\\\Users\\\\pradh\\\\Downloads\\\\XDVioDet-master\\\\XDVioDet-master\\\\tratrain\\\\v=d_T0lqsypw8__#1_label_A.npy\\n', 'C:\\\\Users\\\\pradh\\\\Downloads\\\\XDVioDet-master\\\\XDVioDet-master\\\\tratrain\\\\v=deECYX55Bno__#1_label_A.npy\\n', 'C:\\\\Users\\\\pradh\\\\Downloads\\\\XDVioDet-master\\\\XDVioDet-master\\\\tratrain\\\\v=doCahM4-zUA__#1_label_A.npy\\n', 'C:\\\\Users\\\\pradh\\\\Downloads\\\\XDVioDet-master\\\\XDVioDet-master\\\\tratrain\\\\v=dxpBOFKR6wU__#1_label_A.npy\\n', 'C:\\\\Users\\\\pradh\\\\Downloads\\\\XDVioDet-master\\\\XDVioDet-master\\\\tratrain\\\\v=dyZhs9pnL4M__#1_label_A.npy\\n', 'C:\\\\Users\\\\pradh\\\\Downloads\\\\XDVioDet-master\\\\XDVioDet-master\\\\tratrain\\\\v=dzEM_e9ZKJ8__#1_label_A.npy\\n', 'C:\\\\Users\\\\pradh\\\\Downloads\\\\XDVioDet-master\\\\XDVioDet-master\\\\tratrain\\\\v=e58QSA0BOws__#1_label_A.npy\\n', 'C:\\\\Users\\\\pradh\\\\Downloads\\\\XDVioDet-master\\\\XDVioDet-master\\\\tratrain\\\\v=eA2PsalGLtU__#1_label_A.npy\\n', 'C:\\\\Users\\\\pradh\\\\Downloads\\\\XDVioDet-master\\\\XDVioDet-master\\\\tratrain\\\\v=eAgqJnO3kr8__#00-00-00_00-06-00_label_A.npy\\n', 'C:\\\\Users\\\\pradh\\\\Downloads\\\\XDVioDet-master\\\\XDVioDet-master\\\\tratrain\\\\v=eAgqJnO3kr8__#00-12-00_00-18-00_label_A.npy\\n', 'C:\\\\Users\\\\pradh\\\\Downloads\\\\XDVioDet-master\\\\XDVioDet-master\\\\tratrain\\\\v=eAgqJnO3kr8__#00-18-00_00-24-00_label_A.npy\\n', 'C:\\\\Users\\\\pradh\\\\Downloads\\\\XDVioDet-master\\\\XDVioDet-master\\\\tratrain\\\\v=eAgqJnO3kr8__#00-24-00_00-30-00_label_A.npy\\n', 'C:\\\\Users\\\\pradh\\\\Downloads\\\\XDVioDet-master\\\\XDVioDet-master\\\\tratrain\\\\v=eAgqJnO3kr8__#00-30-00_00-36-00_label_A.npy\\n', 'C:\\\\Users\\\\pradh\\\\Downloads\\\\XDVioDet-master\\\\XDVioDet-master\\\\tratrain\\\\v=eAgqJnO3kr8__#00-36-00_00-42-00_label_A.npy\\n', 'C:\\\\Users\\\\pradh\\\\Downloads\\\\XDVioDet-master\\\\XDVioDet-master\\\\tratrain\\\\v=eM9B0JwuFic__#1_label_A.npy\\n', 'C:\\\\Users\\\\pradh\\\\Downloads\\\\XDVioDet-master\\\\XDVioDet-master\\\\tratrain\\\\v=eNkxEAvAfgE__#1_label_A.npy\\n', 'C:\\\\Users\\\\pradh\\\\Downloads\\\\XDVioDet-master\\\\XDVioDet-master\\\\tratrain\\\\v=eTMszLFSMh8__#1_label_A.npy\\n', 'C:\\\\Users\\\\pradh\\\\Downloads\\\\XDVioDet-master\\\\XDVioDet-master\\\\tratrain\\\\v=eZ02t_FEbQ8__#1_label_A.npy\\n', 'C:\\\\Users\\\\pradh\\\\Downloads\\\\XDVioDet-master\\\\XDVioDet-master\\\\tratrain\\\\v=eg4WO6-7tPw__#1_label_A.npy\\n', 'C:\\\\Users\\\\pradh\\\\Downloads\\\\XDVioDet-master\\\\XDVioDet-master\\\\tratrain\\\\v=enYITYwvPAQ__#00-00-00_00-03-00_label_A.npy\\n', 'C:\\\\Users\\\\pradh\\\\Downloads\\\\XDVioDet-master\\\\XDVioDet-master\\\\tratrain\\\\v=enYITYwvPAQ__#00-03-00_00-06-00_label_A.npy\\n', 'C:\\\\Users\\\\pradh\\\\Downloads\\\\XDVioDet-master\\\\XDVioDet-master\\\\tratrain\\\\v=enYITYwvPAQ__#00-06-00_00-09-00_label_A.npy\\n', 'C:\\\\Users\\\\pradh\\\\Downloads\\\\XDVioDet-master\\\\XDVioDet-master\\\\tratrain\\\\v=enYITYwvPAQ__#00-09-00_00-12-00_label_A.npy\\n', 'C:\\\\Users\\\\pradh\\\\Downloads\\\\XDVioDet-master\\\\XDVioDet-master\\\\tratrain\\\\v=enYITYwvPAQ__#00-12-00_00-15-00_label_A.npy\\n', 'C:\\\\Users\\\\pradh\\\\Downloads\\\\XDVioDet-master\\\\XDVioDet-master\\\\tratrain\\\\v=enYITYwvPAQ__#00-15-00_00-18-00_label_A.npy\\n', 'C:\\\\Users\\\\pradh\\\\Downloads\\\\XDVioDet-master\\\\XDVioDet-master\\\\tratrain\\\\v=enYITYwvPAQ__#00-18-00_00-21-00_label_A.npy\\n', 'C:\\\\Users\\\\pradh\\\\Downloads\\\\XDVioDet-master\\\\XDVioDet-master\\\\tratrain\\\\v=enYITYwvPAQ__#00-21-00_00-24-00_label_A.npy\\n', 'C:\\\\Users\\\\pradh\\\\Downloads\\\\XDVioDet-master\\\\XDVioDet-master\\\\tratrain\\\\v=enYITYwvPAQ__#00-24-00_00-27-00_label_A.npy\\n', 'C:\\\\Users\\\\pradh\\\\Downloads\\\\XDVioDet-master\\\\XDVioDet-master\\\\tratrain\\\\v=enYITYwvPAQ__#00-30-00_00-31-30_label_A.npy\\n', 'C:\\\\Users\\\\pradh\\\\Downloads\\\\XDVioDet-master\\\\XDVioDet-master\\\\tratrain\\\\v=eu0KsZ_MVBc__#1_label_A.npy\\n', 'C:\\\\Users\\\\pradh\\\\Downloads\\\\XDVioDet-master\\\\XDVioDet-master\\\\tratrain\\\\v=f5C3vtUZJtE__#1_label_A.npy\\n', 'C:\\\\Users\\\\pradh\\\\Downloads\\\\XDVioDet-master\\\\XDVioDet-master\\\\tratrain\\\\v=f6j3YWgVBto__#00-00-00_00-01-00_label_A.npy\\n', 'C:\\\\Users\\\\pradh\\\\Downloads\\\\XDVioDet-master\\\\XDVioDet-master\\\\tratrain\\\\v=f6j3YWgVBto__#00-01-00_00-01-50_label_A.npy\\n', 'C:\\\\Users\\\\pradh\\\\Downloads\\\\XDVioDet-master\\\\XDVioDet-master\\\\tratrain\\\\v=f6j3YWgVBto__#00-02-30_00-03-40_label_A.npy\\n', 'C:\\\\Users\\\\pradh\\\\Downloads\\\\XDVioDet-master\\\\XDVioDet-master\\\\tratrain\\\\v=f6j3YWgVBto__#00-03-40_00-04-40_label_A.npy\\n', 'C:\\\\Users\\\\pradh\\\\Downloads\\\\XDVioDet-master\\\\XDVioDet-master\\\\tratrain\\\\v=f6j3YWgVBto__#00-04-40_00-06-16_label_A.npy\\n', 'C:\\\\Users\\\\pradh\\\\Downloads\\\\XDVioDet-master\\\\XDVioDet-master\\\\tratrain\\\\v=fAMLG8M2oRw__#1_label_A.npy\\n', 'C:\\\\Users\\\\pradh\\\\Downloads\\\\XDVioDet-master\\\\XDVioDet-master\\\\tratrain\\\\v=fFfLxQwy0dk__#1_label_A.npy\\n', 'C:\\\\Users\\\\pradh\\\\Downloads\\\\XDVioDet-master\\\\XDVioDet-master\\\\tratrain\\\\v=fGEyp4vq2Hk__#1_label_A.npy\\n', 'C:\\\\Users\\\\pradh\\\\Downloads\\\\XDVioDet-master\\\\XDVioDet-master\\\\tratrain\\\\v=fKfaW46vUI8__#1_label_A.npy\\n', 'C:\\\\Users\\\\pradh\\\\Downloads\\\\XDVioDet-master\\\\XDVioDet-master\\\\tratrain\\\\v=fPZoHtF_dRI__#1_label_A.npy\\n', 'C:\\\\Users\\\\pradh\\\\Downloads\\\\XDVioDet-master\\\\XDVioDet-master\\\\tratrain\\\\v=fRRcbRdeJOk__#1_label_A.npy\\n', 'C:\\\\Users\\\\pradh\\\\Downloads\\\\XDVioDet-master\\\\XDVioDet-master\\\\tratrain\\\\v=fX6ufOe4oD0__#1_label_A.npy\\n', 'C:\\\\Users\\\\pradh\\\\Downloads\\\\XDVioDet-master\\\\XDVioDet-master\\\\tratrain\\\\v=fZI47tH5GPs__#1_label_A.npy\\n', 'C:\\\\Users\\\\pradh\\\\Downloads\\\\XDVioDet-master\\\\XDVioDet-master\\\\tratrain\\\\v=fZQRiHYvfjM__#1_label_A.npy\\n', 'C:\\\\Users\\\\pradh\\\\Downloads\\\\XDVioDet-master\\\\XDVioDet-master\\\\tratrain\\\\v=f_z1E23IN0w__#1_label_A.npy\\n', 'C:\\\\Users\\\\pradh\\\\Downloads\\\\XDVioDet-master\\\\XDVioDet-master\\\\tratrain\\\\v=fcnkJ0ZiA20__#1_label_A.npy\\n', 'C:\\\\Users\\\\pradh\\\\Downloads\\\\XDVioDet-master\\\\XDVioDet-master\\\\tratrain\\\\v=feDqnAvmG2w__#1_label_A.npy\\n', 'C:\\\\Users\\\\pradh\\\\Downloads\\\\XDVioDet-master\\\\XDVioDet-master\\\\tratrain\\\\v=fhpVE5Yfvhc__#1_label_A.npy\\n', 'C:\\\\Users\\\\pradh\\\\Downloads\\\\XDVioDet-master\\\\XDVioDet-master\\\\tratrain\\\\v=fkps18H3SXY__#00-06-00_00-12-00_label_A.npy\\n', 'C:\\\\Users\\\\pradh\\\\Downloads\\\\XDVioDet-master\\\\XDVioDet-master\\\\tratrain\\\\v=fkps18H3SXY__#00-12-00_00-18-00_label_A.npy\\n', 'C:\\\\Users\\\\pradh\\\\Downloads\\\\XDVioDet-master\\\\XDVioDet-master\\\\tratrain\\\\v=fkps18H3SXY__#00-18-00_00-24-00_label_A.npy\\n', 'C:\\\\Users\\\\pradh\\\\Downloads\\\\XDVioDet-master\\\\XDVioDet-master\\\\tratrain\\\\v=fkps18H3SXY__#00-24-00_00-30-00_label_A.npy\\n', 'C:\\\\Users\\\\pradh\\\\Downloads\\\\XDVioDet-master\\\\XDVioDet-master\\\\tratrain\\\\v=fkps18H3SXY__#00-30-00_00-36-00_label_A.npy\\n', 'C:\\\\Users\\\\pradh\\\\Downloads\\\\XDVioDet-master\\\\XDVioDet-master\\\\tratrain\\\\v=fkps18H3SXY__#00-42-00_00-48-00_label_A.npy\\n', 'C:\\\\Users\\\\pradh\\\\Downloads\\\\XDVioDet-master\\\\XDVioDet-master\\\\tratrain\\\\v=fkps18H3SXY__#00-48-00_00-54-00_label_A.npy\\n', 'C:\\\\Users\\\\pradh\\\\Downloads\\\\XDVioDet-master\\\\XDVioDet-master\\\\tratrain\\\\v=fkps18H3SXY__#01-00-00_01-06-00_label_A.npy\\n', 'C:\\\\Users\\\\pradh\\\\Downloads\\\\XDVioDet-master\\\\XDVioDet-master\\\\tratrain\\\\v=fkps18H3SXY__#01-06-00_01-12-00_label_A.npy\\n', 'C:\\\\Users\\\\pradh\\\\Downloads\\\\XDVioDet-master\\\\XDVioDet-master\\\\tratrain\\\\v=fkps18H3SXY__#01-12-00_01-18-00_label_A.npy\\n', 'C:\\\\Users\\\\pradh\\\\Downloads\\\\XDVioDet-master\\\\XDVioDet-master\\\\tratrain\\\\v=fkps18H3SXY__#01-18-00_01-24-00_label_A.npy\\n', 'C:\\\\Users\\\\pradh\\\\Downloads\\\\XDVioDet-master\\\\XDVioDet-master\\\\tratrain\\\\v=fkps18H3SXY__#01-24-00_01-30-00_label_A.npy\\n', 'C:\\\\Users\\\\pradh\\\\Downloads\\\\XDVioDet-master\\\\XDVioDet-master\\\\tratrain\\\\v=fkps18H3SXY__#01-30-00_01-36-00_label_A.npy\\n', 'C:\\\\Users\\\\pradh\\\\Downloads\\\\XDVioDet-master\\\\XDVioDet-master\\\\tratrain\\\\v=fkps18H3SXY__#01-36-00_01-42-00_label_A.npy\\n', 'C:\\\\Users\\\\pradh\\\\Downloads\\\\XDVioDet-master\\\\XDVioDet-master\\\\tratrain\\\\v=fkps18H3SXY__#01-42-00_01-48-00_label_A.npy\\n', 'C:\\\\Users\\\\pradh\\\\Downloads\\\\XDVioDet-master\\\\XDVioDet-master\\\\tratrain\\\\v=fkps18H3SXY__#01-48-00_01-54-00_label_A.npy\\n', 'C:\\\\Users\\\\pradh\\\\Downloads\\\\XDVioDet-master\\\\XDVioDet-master\\\\tratrain\\\\v=fkps18H3SXY__#01-54-00_02-00-00_label_A.npy\\n', 'C:\\\\Users\\\\pradh\\\\Downloads\\\\XDVioDet-master\\\\XDVioDet-master\\\\tratrain\\\\v=fkps18H3SXY__#02-00-00_02-06-00_label_A.npy\\n', 'C:\\\\Users\\\\pradh\\\\Downloads\\\\XDVioDet-master\\\\XDVioDet-master\\\\tratrain\\\\v=fkps18H3SXY__#02-06-00_02-12-00_label_A.npy\\n', 'C:\\\\Users\\\\pradh\\\\Downloads\\\\XDVioDet-master\\\\XDVioDet-master\\\\tratrain\\\\v=fkps18H3SXY__#02-12-00_02-18-00_label_A.npy\\n', 'C:\\\\Users\\\\pradh\\\\Downloads\\\\XDVioDet-master\\\\XDVioDet-master\\\\tratrain\\\\v=fkps18H3SXY__#02-18-00_02-24-00_label_A.npy\\n', 'C:\\\\Users\\\\pradh\\\\Downloads\\\\XDVioDet-master\\\\XDVioDet-master\\\\tratrain\\\\v=fkps18H3SXY__#02-24-00_02-30-00_label_A.npy\\n', 'C:\\\\Users\\\\pradh\\\\Downloads\\\\XDVioDet-master\\\\XDVioDet-master\\\\tratrain\\\\v=fkps18H3SXY__#02-30-00_02-36-00_label_A.npy\\n', 'C:\\\\Users\\\\pradh\\\\Downloads\\\\XDVioDet-master\\\\XDVioDet-master\\\\tratrain\\\\v=fkps18H3SXY__#02-36-00_02-41-00_label_A.npy\\n', 'C:\\\\Users\\\\pradh\\\\Downloads\\\\XDVioDet-master\\\\XDVioDet-master\\\\tratrain\\\\v=fnN_FCj-MTA__#1_label_A.npy\\n', 'C:\\\\Users\\\\pradh\\\\Downloads\\\\XDVioDet-master\\\\XDVioDet-master\\\\tratrain\\\\v=frWVRKgzx40__#1_label_A.npy\\n', 'C:\\\\Users\\\\pradh\\\\Downloads\\\\XDVioDet-master\\\\XDVioDet-master\\\\tratrain\\\\v=frYpkIxBPNA__#1_label_A.npy\\n', 'C:\\\\Users\\\\pradh\\\\Downloads\\\\XDVioDet-master\\\\XDVioDet-master\\\\tratrain\\\\v=fuF0Ede79cg__#1_label_A.npy\\n', 'C:\\\\Users\\\\pradh\\\\Downloads\\\\XDVioDet-master\\\\XDVioDet-master\\\\tratrain\\\\v=fx8NZovRGp8__#1_label_A.npy\\n', 'C:\\\\Users\\\\pradh\\\\Downloads\\\\XDVioDet-master\\\\XDVioDet-master\\\\tratrain\\\\v=fy_tvIix_iY__#1_label_A.npy\\n', 'C:\\\\Users\\\\pradh\\\\Downloads\\\\XDVioDet-master\\\\XDVioDet-master\\\\tratrain\\\\v=g36_mKRP3K0__#1_label_A.npy\\n', 'C:\\\\Users\\\\pradh\\\\Downloads\\\\XDVioDet-master\\\\XDVioDet-master\\\\tratrain\\\\v=g6-yFmPcX_o__#1_label_A.npy\\n', 'C:\\\\Users\\\\pradh\\\\Downloads\\\\XDVioDet-master\\\\XDVioDet-master\\\\tratrain\\\\v=g8AIvhmoV7E__#1_label_A.npy\\n', 'C:\\\\Users\\\\pradh\\\\Downloads\\\\XDVioDet-master\\\\XDVioDet-master\\\\tratrain\\\\v=gGlqujwrhbI__#00-00-00_00-03-00_label_A.npy\\n', 'C:\\\\Users\\\\pradh\\\\Downloads\\\\XDVioDet-master\\\\XDVioDet-master\\\\tratrain\\\\v=gGlqujwrhbI__#00-03-00_00-06-00_label_A.npy\\n', 'C:\\\\Users\\\\pradh\\\\Downloads\\\\XDVioDet-master\\\\XDVioDet-master\\\\tratrain\\\\v=gGlqujwrhbI__#00-06-00_00-09-00_label_A.npy\\n', 'C:\\\\Users\\\\pradh\\\\Downloads\\\\XDVioDet-master\\\\XDVioDet-master\\\\tratrain\\\\v=gGlqujwrhbI__#00-09-00_00-12-00_label_A.npy\\n', 'C:\\\\Users\\\\pradh\\\\Downloads\\\\XDVioDet-master\\\\XDVioDet-master\\\\tratrain\\\\v=gGlqujwrhbI__#00-15-00_00-18-00_label_A.npy\\n', 'C:\\\\Users\\\\pradh\\\\Downloads\\\\XDVioDet-master\\\\XDVioDet-master\\\\tratrain\\\\v=gGlqujwrhbI__#00-18-00_00-19-18_label_A.npy\\n', 'C:\\\\Users\\\\pradh\\\\Downloads\\\\XDVioDet-master\\\\XDVioDet-master\\\\tratrain\\\\v=gHUZylSNA_U__#1_label_A.npy\\n', 'C:\\\\Users\\\\pradh\\\\Downloads\\\\XDVioDet-master\\\\XDVioDet-master\\\\tratrain\\\\v=gIZdn9Iwd9I__#1_label_A.npy\\n', 'C:\\\\Users\\\\pradh\\\\Downloads\\\\XDVioDet-master\\\\XDVioDet-master\\\\tratrain\\\\v=gLE69BZvGpU__#1_label_A.npy\\n', 'C:\\\\Users\\\\pradh\\\\Downloads\\\\XDVioDet-master\\\\XDVioDet-master\\\\tratrain\\\\v=gOiCWyZz85g__#1_label_A.npy\\n', 'C:\\\\Users\\\\pradh\\\\Downloads\\\\XDVioDet-master\\\\XDVioDet-master\\\\tratrain\\\\v=gR7Ca17_80o__#1_label_A.npy\\n', 'C:\\\\Users\\\\pradh\\\\Downloads\\\\XDVioDet-master\\\\XDVioDet-master\\\\tratrain\\\\v=gRQJy3KK1J4__#1_label_A.npy\\n', 'C:\\\\Users\\\\pradh\\\\Downloads\\\\XDVioDet-master\\\\XDVioDet-master\\\\tratrain\\\\v=gRm-amAG790__#1_label_A.npy\\n', 'C:\\\\Users\\\\pradh\\\\Downloads\\\\XDVioDet-master\\\\XDVioDet-master\\\\tratrain\\\\v=gZR1CvSQntE__#1_label_A.npy\\n', 'C:\\\\Users\\\\pradh\\\\Downloads\\\\XDVioDet-master\\\\XDVioDet-master\\\\tratrain\\\\v=gglk0Q4xupk__#1_label_A.npy\\n', 'C:\\\\Users\\\\pradh\\\\Downloads\\\\XDVioDet-master\\\\XDVioDet-master\\\\tratrain\\\\v=gqZcOX9Ay_o__#1_label_A.npy\\n', 'C:\\\\Users\\\\pradh\\\\Downloads\\\\XDVioDet-master\\\\XDVioDet-master\\\\tratrain\\\\v=gqscrsa8aRU__#1_label_A.npy\\n', 'C:\\\\Users\\\\pradh\\\\Downloads\\\\XDVioDet-master\\\\XDVioDet-master\\\\tratrain\\\\v=gt0QF8-dTNw__#1_label_A.npy\\n', 'C:\\\\Users\\\\pradh\\\\Downloads\\\\XDVioDet-master\\\\XDVioDet-master\\\\tratrain\\\\v=gtNc8o45ZIo__#1_label_A.npy\\n', 'C:\\\\Users\\\\pradh\\\\Downloads\\\\XDVioDet-master\\\\XDVioDet-master\\\\tratrain\\\\v=h4ipBbKKkXY__#1_label_A.npy\\n', 'C:\\\\Users\\\\pradh\\\\Downloads\\\\XDVioDet-master\\\\XDVioDet-master\\\\tratrain\\\\v=hBnl8q1Sonw__#1_label_A.npy\\n', 'C:\\\\Users\\\\pradh\\\\Downloads\\\\XDVioDet-master\\\\XDVioDet-master\\\\tratrain\\\\v=hHJcYL0VEsA__#1_label_A.npy\\n', 'C:\\\\Users\\\\pradh\\\\Downloads\\\\XDVioDet-master\\\\XDVioDet-master\\\\tratrain\\\\v=hSE6yhm6hW8__#1_label_A.npy\\n', 'C:\\\\Users\\\\pradh\\\\Downloads\\\\XDVioDet-master\\\\XDVioDet-master\\\\tratrain\\\\v=hWjyp5tZvbg__#1_label_A.npy\\n', 'C:\\\\Users\\\\pradh\\\\Downloads\\\\XDVioDet-master\\\\XDVioDet-master\\\\tratrain\\\\v=hc-O4pF54V4__#1_label_A.npy\\n', 'C:\\\\Users\\\\pradh\\\\Downloads\\\\XDVioDet-master\\\\XDVioDet-master\\\\tratrain\\\\v=hdPTRcsFN5w__#00-00-00_00-03-00_label_A.npy\\n', 'C:\\\\Users\\\\pradh\\\\Downloads\\\\XDVioDet-master\\\\XDVioDet-master\\\\tratrain\\\\v=hdPTRcsFN5w__#00-03-00_00-06-00_label_A.npy\\n', 'C:\\\\Users\\\\pradh\\\\Downloads\\\\XDVioDet-master\\\\XDVioDet-master\\\\tratrain\\\\v=hdPTRcsFN5w__#00-06-00_00-09-00_label_A.npy\\n', 'C:\\\\Users\\\\pradh\\\\Downloads\\\\XDVioDet-master\\\\XDVioDet-master\\\\tratrain\\\\v=hdPTRcsFN5w__#00-09-00_00-12-00_label_A.npy\\n', 'C:\\\\Users\\\\pradh\\\\Downloads\\\\XDVioDet-master\\\\XDVioDet-master\\\\tratrain\\\\v=hdPTRcsFN5w__#00-12-00_00-15-00_label_A.npy\\n', 'C:\\\\Users\\\\pradh\\\\Downloads\\\\XDVioDet-master\\\\XDVioDet-master\\\\tratrain\\\\v=hdPTRcsFN5w__#00-15-00_00-17-53_label_A.npy\\n', 'C:\\\\Users\\\\pradh\\\\Downloads\\\\XDVioDet-master\\\\XDVioDet-master\\\\tratrain\\\\v=hhqywA44tGU__#1_label_A.npy\\n', 'C:\\\\Users\\\\pradh\\\\Downloads\\\\XDVioDet-master\\\\XDVioDet-master\\\\tratrain\\\\v=hicx0-o7V7o__#1_label_A.npy\\n', 'C:\\\\Users\\\\pradh\\\\Downloads\\\\XDVioDet-master\\\\XDVioDet-master\\\\tratrain\\\\v=hj0QEg3sUgo__#1_label_A.npy\\n', 'C:\\\\Users\\\\pradh\\\\Downloads\\\\XDVioDet-master\\\\XDVioDet-master\\\\tratrain\\\\v=hjSknAf3QdI__#1_label_A.npy\\n', 'C:\\\\Users\\\\pradh\\\\Downloads\\\\XDVioDet-master\\\\XDVioDet-master\\\\tratrain\\\\v=hnOPu0_YWhw__#1_label_A.npy\\n', 'C:\\\\Users\\\\pradh\\\\Downloads\\\\XDVioDet-master\\\\XDVioDet-master\\\\tratrain\\\\v=hnqpujmdb3g__#1_label_A.npy\\n', 'C:\\\\Users\\\\pradh\\\\Downloads\\\\XDVioDet-master\\\\XDVioDet-master\\\\tratrain\\\\v=hq_j5icEM9c__#1_label_A.npy\\n', 'C:\\\\Users\\\\pradh\\\\Downloads\\\\XDVioDet-master\\\\XDVioDet-master\\\\tratrain\\\\v=hqxvfkmQWko__#1_label_A.npy\\n', 'C:\\\\Users\\\\pradh\\\\Downloads\\\\XDVioDet-master\\\\XDVioDet-master\\\\tratrain\\\\v=htm7b_saqcs__#1_label_A.npy\\n', 'C:\\\\Users\\\\pradh\\\\Downloads\\\\XDVioDet-master\\\\XDVioDet-master\\\\tratrain\\\\v=hwgsrGRXxAo__#1_label_A.npy\\n', 'C:\\\\Users\\\\pradh\\\\Downloads\\\\XDVioDet-master\\\\XDVioDet-master\\\\tratrain\\\\v=hy9O_tg3pOk__#1_label_A.npy\\n', 'C:\\\\Users\\\\pradh\\\\Downloads\\\\XDVioDet-master\\\\XDVioDet-master\\\\tratrain\\\\v=hz-OfnN72OU__#1_label_A.npy\\n', 'C:\\\\Users\\\\pradh\\\\Downloads\\\\XDVioDet-master\\\\XDVioDet-master\\\\tratrain\\\\v=i-7xMY-jkK4__#1_label_A.npy\\n', 'C:\\\\Users\\\\pradh\\\\Downloads\\\\XDVioDet-master\\\\XDVioDet-master\\\\tratrain\\\\v=iCyKRom_IEM__#1_label_A.npy\\n', 'C:\\\\Users\\\\pradh\\\\Downloads\\\\XDVioDet-master\\\\XDVioDet-master\\\\tratrain\\\\v=iLvIBv-_ihY__#1_label_A.npy\\n', 'C:\\\\Users\\\\pradh\\\\Downloads\\\\XDVioDet-master\\\\XDVioDet-master\\\\tratrain\\\\v=iP__4eqVnIw__#1_label_A.npy\\n', 'C:\\\\Users\\\\pradh\\\\Downloads\\\\XDVioDet-master\\\\XDVioDet-master\\\\tratrain\\\\v=idykp_5eT-4__#1_label_A.npy\\n', 'C:\\\\Users\\\\pradh\\\\Downloads\\\\XDVioDet-master\\\\XDVioDet-master\\\\tratrain\\\\v=itGX1CuGYiw__#1_label_A.npy\\n', 'C:\\\\Users\\\\pradh\\\\Downloads\\\\XDVioDet-master\\\\XDVioDet-master\\\\tratrain\\\\v=itaP9_Vltfk__#1_label_A.npy\\n', 'C:\\\\Users\\\\pradh\\\\Downloads\\\\XDVioDet-master\\\\XDVioDet-master\\\\tratrain\\\\v=ixQrXn7oLik__#1_label_A.npy\\n', 'C:\\\\Users\\\\pradh\\\\Downloads\\\\XDVioDet-master\\\\XDVioDet-master\\\\tratrain\\\\v=izgeMxCoF8I__#1_label_A.npy\\n', 'C:\\\\Users\\\\pradh\\\\Downloads\\\\XDVioDet-master\\\\XDVioDet-master\\\\tratrain\\\\v=jAvOGTD7_pU__#00-00-00_00-03-00_label_A.npy\\n', 'C:\\\\Users\\\\pradh\\\\Downloads\\\\XDVioDet-master\\\\XDVioDet-master\\\\tratrain\\\\v=jAvOGTD7_pU__#00-03-00_00-06-00_label_A.npy\\n', 'C:\\\\Users\\\\pradh\\\\Downloads\\\\XDVioDet-master\\\\XDVioDet-master\\\\tratrain\\\\v=jAvOGTD7_pU__#00-06-00_00-09-00_label_A.npy\\n', 'C:\\\\Users\\\\pradh\\\\Downloads\\\\XDVioDet-master\\\\XDVioDet-master\\\\tratrain\\\\v=jAvOGTD7_pU__#00-09-00_00-12-00_label_A.npy\\n', 'C:\\\\Users\\\\pradh\\\\Downloads\\\\XDVioDet-master\\\\XDVioDet-master\\\\tratrain\\\\v=jAvOGTD7_pU__#00-15-00_00-18-00_label_A.npy\\n', 'C:\\\\Users\\\\pradh\\\\Downloads\\\\XDVioDet-master\\\\XDVioDet-master\\\\tratrain\\\\v=jAvOGTD7_pU__#00-18-00_00-21-40_label_A.npy\\n', 'C:\\\\Users\\\\pradh\\\\Downloads\\\\XDVioDet-master\\\\XDVioDet-master\\\\tratrain\\\\v=jAvuEyDy5JE__#1_label_A.npy\\n', 'C:\\\\Users\\\\pradh\\\\Downloads\\\\XDVioDet-master\\\\XDVioDet-master\\\\tratrain\\\\v=jHvim639FWQ__#1_label_A.npy\\n', 'C:\\\\Users\\\\pradh\\\\Downloads\\\\XDVioDet-master\\\\XDVioDet-master\\\\tratrain\\\\v=jI2GVcjXXI8__#1_label_A.npy\\n', 'C:\\\\Users\\\\pradh\\\\Downloads\\\\XDVioDet-master\\\\XDVioDet-master\\\\tratrain\\\\v=jRXpRSPKQh0__#1_label_A.npy\\n', 'C:\\\\Users\\\\pradh\\\\Downloads\\\\XDVioDet-master\\\\XDVioDet-master\\\\tratrain\\\\v=jWwghTckkY0__#1_label_A.npy\\n', 'C:\\\\Users\\\\pradh\\\\Downloads\\\\XDVioDet-master\\\\XDVioDet-master\\\\tratrain\\\\v=jcfySB0HdEU__#1_label_A.npy\\n', 'C:\\\\Users\\\\pradh\\\\Downloads\\\\XDVioDet-master\\\\XDVioDet-master\\\\tratrain\\\\v=jdF_arYOx5Q__#1_label_A.npy\\n', 'C:\\\\Users\\\\pradh\\\\Downloads\\\\XDVioDet-master\\\\XDVioDet-master\\\\tratrain\\\\v=jdK0UgRYK44__#1_label_A.npy\\n', 'C:\\\\Users\\\\pradh\\\\Downloads\\\\XDVioDet-master\\\\XDVioDet-master\\\\tratrain\\\\v=jfjfzKf85Ac__#1_label_A.npy\\n', 'C:\\\\Users\\\\pradh\\\\Downloads\\\\XDVioDet-master\\\\XDVioDet-master\\\\tratrain\\\\v=jkECLk6biwQ__#1_label_A.npy\\n', 'C:\\\\Users\\\\pradh\\\\Downloads\\\\XDVioDet-master\\\\XDVioDet-master\\\\tratrain\\\\v=jkJ_gJQh2Xo__#1_label_A.npy\\n', 'C:\\\\Users\\\\pradh\\\\Downloads\\\\XDVioDet-master\\\\XDVioDet-master\\\\tratrain\\\\v=jltJrNKnrNQ__#1_label_A.npy\\n', 'C:\\\\Users\\\\pradh\\\\Downloads\\\\XDVioDet-master\\\\XDVioDet-master\\\\tratrain\\\\v=joQ75X2brJ8__#1_label_A.npy\\n', 'C:\\\\Users\\\\pradh\\\\Downloads\\\\XDVioDet-master\\\\XDVioDet-master\\\\tratrain\\\\v=jr-Z9io05JM__#1_label_A.npy\\n', 'C:\\\\Users\\\\pradh\\\\Downloads\\\\XDVioDet-master\\\\XDVioDet-master\\\\tratrain\\\\v=js0WkJJ5Lc0__#1_label_A.npy\\n', 'C:\\\\Users\\\\pradh\\\\Downloads\\\\XDVioDet-master\\\\XDVioDet-master\\\\tratrain\\\\v=jwMj3PJDxuo__#1_label_A.npy\\n', 'C:\\\\Users\\\\pradh\\\\Downloads\\\\XDVioDet-master\\\\XDVioDet-master\\\\tratrain\\\\v=k47D9tERpu8__#1_label_A.npy\\n', 'C:\\\\Users\\\\pradh\\\\Downloads\\\\XDVioDet-master\\\\XDVioDet-master\\\\tratrain\\\\v=kBQR9NoUof8__#1_label_A.npy\\n', 'C:\\\\Users\\\\pradh\\\\Downloads\\\\XDVioDet-master\\\\XDVioDet-master\\\\tratrain\\\\v=kFisGc754_4__#1_label_A.npy\\n', 'C:\\\\Users\\\\pradh\\\\Downloads\\\\XDVioDet-master\\\\XDVioDet-master\\\\tratrain\\\\v=kHs-1bp1MyM__#1_label_A.npy\\n', 'C:\\\\Users\\\\pradh\\\\Downloads\\\\XDVioDet-master\\\\XDVioDet-master\\\\tratrain\\\\v=kIreUqA1fNA__#1_label_A.npy\\n', 'C:\\\\Users\\\\pradh\\\\Downloads\\\\XDVioDet-master\\\\XDVioDet-master\\\\tratrain\\\\v=kLQXPV12IfI__#1_label_A.npy\\n', 'C:\\\\Users\\\\pradh\\\\Downloads\\\\XDVioDet-master\\\\XDVioDet-master\\\\tratrain\\\\v=k_BMu4MwItI__#1_label_A.npy\\n', 'C:\\\\Users\\\\pradh\\\\Downloads\\\\XDVioDet-master\\\\XDVioDet-master\\\\tratrain\\\\v=kjOe4RkFrRw__#1_label_A.npy\\n', 'C:\\\\Users\\\\pradh\\\\Downloads\\\\XDVioDet-master\\\\XDVioDet-master\\\\tratrain\\\\v=kqaNUjTR70A__#1_label_A.npy\\n', 'C:\\\\Users\\\\pradh\\\\Downloads\\\\XDVioDet-master\\\\XDVioDet-master\\\\tratrain\\\\v=l0vVDS_wQwA__#1_label_A.npy\\n', 'C:\\\\Users\\\\pradh\\\\Downloads\\\\XDVioDet-master\\\\XDVioDet-master\\\\tratrain\\\\v=l6o4KXvm_AM__#1_label_A.npy\\n', 'C:\\\\Users\\\\pradh\\\\Downloads\\\\XDVioDet-master\\\\XDVioDet-master\\\\tratrain\\\\v=l9jL9nPps2g__#1_label_A.npy\\n', 'C:\\\\Users\\\\pradh\\\\Downloads\\\\XDVioDet-master\\\\XDVioDet-master\\\\tratrain\\\\v=lHaUsFvnxKk__#1_label_A.npy\\n', 'C:\\\\Users\\\\pradh\\\\Downloads\\\\XDVioDet-master\\\\XDVioDet-master\\\\tratrain\\\\v=lLGgouOhQuU__#1_label_A.npy\\n', 'C:\\\\Users\\\\pradh\\\\Downloads\\\\XDVioDet-master\\\\XDVioDet-master\\\\tratrain\\\\v=lMXcMGxidG8__#1_label_A.npy\\n', 'C:\\\\Users\\\\pradh\\\\Downloads\\\\XDVioDet-master\\\\XDVioDet-master\\\\tratrain\\\\v=lNycQlMCRl0__#1_label_A.npy\\n', 'C:\\\\Users\\\\pradh\\\\Downloads\\\\XDVioDet-master\\\\XDVioDet-master\\\\tratrain\\\\v=lRILZpZjv2M__#1_label_A.npy\\n', 'C:\\\\Users\\\\pradh\\\\Downloads\\\\XDVioDet-master\\\\XDVioDet-master\\\\tratrain\\\\v=lSqZzdpCFPY__#1_label_A.npy\\n', 'C:\\\\Users\\\\pradh\\\\Downloads\\\\XDVioDet-master\\\\XDVioDet-master\\\\tratrain\\\\v=lT_4Z0i2ld0__#1_label_A.npy\\n', 'C:\\\\Users\\\\pradh\\\\Downloads\\\\XDVioDet-master\\\\XDVioDet-master\\\\tratrain\\\\v=lYIQy0-geiY__#1_label_A.npy\\n', 'C:\\\\Users\\\\pradh\\\\Downloads\\\\XDVioDet-master\\\\XDVioDet-master\\\\tratrain\\\\v=laEaWPqfT1k__#1_label_A.npy\\n', 'C:\\\\Users\\\\pradh\\\\Downloads\\\\XDVioDet-master\\\\XDVioDet-master\\\\tratrain\\\\v=liExsNrsF_o__#1_label_A.npy\\n', 'C:\\\\Users\\\\pradh\\\\Downloads\\\\XDVioDet-master\\\\XDVioDet-master\\\\tratrain\\\\v=ljpUIqOjbYA__#1_label_A.npy\\n', 'C:\\\\Users\\\\pradh\\\\Downloads\\\\XDVioDet-master\\\\XDVioDet-master\\\\tratrain\\\\v=lqlrru1V69E__#1_label_A.npy\\n', 'C:\\\\Users\\\\pradh\\\\Downloads\\\\XDVioDet-master\\\\XDVioDet-master\\\\tratrain\\\\v=lsSzkiImAF4__#1_label_A.npy\\n', 'C:\\\\Users\\\\pradh\\\\Downloads\\\\XDVioDet-master\\\\XDVioDet-master\\\\tratrain\\\\v=m7D-67xqwYE__#1_label_A.npy\\n', 'C:\\\\Users\\\\pradh\\\\Downloads\\\\XDVioDet-master\\\\XDVioDet-master\\\\tratrain\\\\v=m7aF-aNmlaA__#1_label_A.npy\\n', 'C:\\\\Users\\\\pradh\\\\Downloads\\\\XDVioDet-master\\\\XDVioDet-master\\\\tratrain\\\\v=m7eOf-BSskk__#1_label_A.npy\\n', 'C:\\\\Users\\\\pradh\\\\Downloads\\\\XDVioDet-master\\\\XDVioDet-master\\\\tratrain\\\\v=m9yI2LGZRE0__#1_label_A.npy\\n', 'C:\\\\Users\\\\pradh\\\\Downloads\\\\XDVioDet-master\\\\XDVioDet-master\\\\tratrain\\\\v=mAWHCHZ2v7I__#1_label_A.npy\\n', 'C:\\\\Users\\\\pradh\\\\Downloads\\\\XDVioDet-master\\\\XDVioDet-master\\\\tratrain\\\\v=mDLCd70iTeE__#1_label_A.npy\\n', 'C:\\\\Users\\\\pradh\\\\Downloads\\\\XDVioDet-master\\\\XDVioDet-master\\\\tratrain\\\\v=mH7EmmgSZQE__#1_label_A.npy\\n', 'C:\\\\Users\\\\pradh\\\\Downloads\\\\XDVioDet-master\\\\XDVioDet-master\\\\tratrain\\\\v=mMod7Vk6N1w__#1_label_A.npy\\n', 'C:\\\\Users\\\\pradh\\\\Downloads\\\\XDVioDet-master\\\\XDVioDet-master\\\\tratrain\\\\v=meiaGQ8yKpY__#1_label_A.npy\\n', 'C:\\\\Users\\\\pradh\\\\Downloads\\\\XDVioDet-master\\\\XDVioDet-master\\\\tratrain\\\\v=mfiUTd6FFvM__#1_label_A.npy\\n', 'C:\\\\Users\\\\pradh\\\\Downloads\\\\XDVioDet-master\\\\XDVioDet-master\\\\tratrain\\\\v=mnIKqIgGclE__#1_label_A.npy\\n', 'C:\\\\Users\\\\pradh\\\\Downloads\\\\XDVioDet-master\\\\XDVioDet-master\\\\tratrain\\\\v=mt1CmPbc1kI__#1_label_A.npy\\n', 'C:\\\\Users\\\\pradh\\\\Downloads\\\\XDVioDet-master\\\\XDVioDet-master\\\\tratrain\\\\v=mtY1Nxn6_J4__#1_label_A.npy\\n', 'C:\\\\Users\\\\pradh\\\\Downloads\\\\XDVioDet-master\\\\XDVioDet-master\\\\tratrain\\\\v=n-LQZPL4QSA__#1_label_A.npy\\n', 'C:\\\\Users\\\\pradh\\\\Downloads\\\\XDVioDet-master\\\\XDVioDet-master\\\\tratrain\\\\v=n-r2xxnuJYE__#1_label_A.npy\\n', 'C:\\\\Users\\\\pradh\\\\Downloads\\\\XDVioDet-master\\\\XDVioDet-master\\\\tratrain\\\\v=n2lE5MzjmV8__#1_label_A.npy\\n', 'C:\\\\Users\\\\pradh\\\\Downloads\\\\XDVioDet-master\\\\XDVioDet-master\\\\tratrain\\\\v=n9k6AVyJi7M__#1_label_A.npy\\n', 'C:\\\\Users\\\\pradh\\\\Downloads\\\\XDVioDet-master\\\\XDVioDet-master\\\\tratrain\\\\v=nC1GrbpCyd4__#1_label_A.npy\\n', 'C:\\\\Users\\\\pradh\\\\Downloads\\\\XDVioDet-master\\\\XDVioDet-master\\\\tratrain\\\\v=nC2izmw0I9c__#1_label_A.npy\\n', 'C:\\\\Users\\\\pradh\\\\Downloads\\\\XDVioDet-master\\\\XDVioDet-master\\\\tratrain\\\\v=nEEtBVPiI44__#1_label_A.npy\\n', 'C:\\\\Users\\\\pradh\\\\Downloads\\\\XDVioDet-master\\\\XDVioDet-master\\\\tratrain\\\\v=nGxWXoJI5z4__#1_label_A.npy\\n', 'C:\\\\Users\\\\pradh\\\\Downloads\\\\XDVioDet-master\\\\XDVioDet-master\\\\tratrain\\\\v=neXRuULpW9g__#1_label_A.npy\\n', 'C:\\\\Users\\\\pradh\\\\Downloads\\\\XDVioDet-master\\\\XDVioDet-master\\\\tratrain\\\\v=nzuXNuCrezQ__#1_label_A.npy\\n', 'C:\\\\Users\\\\pradh\\\\Downloads\\\\XDVioDet-master\\\\XDVioDet-master\\\\tratrain\\\\v=o1UfPTzL_dM__#1_label_A.npy\\n', 'C:\\\\Users\\\\pradh\\\\Downloads\\\\XDVioDet-master\\\\XDVioDet-master\\\\tratrain\\\\v=o1Ye9f641Rg__#1_label_A.npy\\n', 'C:\\\\Users\\\\pradh\\\\Downloads\\\\XDVioDet-master\\\\XDVioDet-master\\\\tratrain\\\\v=o4nYn7t1zns__#1_label_A.npy\\n', 'C:\\\\Users\\\\pradh\\\\Downloads\\\\XDVioDet-master\\\\XDVioDet-master\\\\tratrain\\\\v=o6krIphPlvU__#1_label_A.npy\\n', 'C:\\\\Users\\\\pradh\\\\Downloads\\\\XDVioDet-master\\\\XDVioDet-master\\\\tratrain\\\\v=o90PytkckwI__#1_label_A.npy\\n', 'C:\\\\Users\\\\pradh\\\\Downloads\\\\XDVioDet-master\\\\XDVioDet-master\\\\tratrain\\\\v=oE2Noy7Sz-E__#1_label_A.npy\\n', 'C:\\\\Users\\\\pradh\\\\Downloads\\\\XDVioDet-master\\\\XDVioDet-master\\\\tratrain\\\\v=oEJO_alA5vU__#1_label_A.npy\\n', 'C:\\\\Users\\\\pradh\\\\Downloads\\\\XDVioDet-master\\\\XDVioDet-master\\\\tratrain\\\\v=oEmkMvF4Keo__#1_label_A.npy\\n', 'C:\\\\Users\\\\pradh\\\\Downloads\\\\XDVioDet-master\\\\XDVioDet-master\\\\tratrain\\\\v=oI5fXACZ4fU__#1_label_A.npy\\n', 'C:\\\\Users\\\\pradh\\\\Downloads\\\\XDVioDet-master\\\\XDVioDet-master\\\\tratrain\\\\v=oKaT9PV5b6o__#1_label_A.npy\\n', 'C:\\\\Users\\\\pradh\\\\Downloads\\\\XDVioDet-master\\\\XDVioDet-master\\\\tratrain\\\\v=oNHEAtcrn4c__#1_label_A.npy\\n', 'C:\\\\Users\\\\pradh\\\\Downloads\\\\XDVioDet-master\\\\XDVioDet-master\\\\tratrain\\\\v=oRG1v7dySRU__#1_label_A.npy\\n', 'C:\\\\Users\\\\pradh\\\\Downloads\\\\XDVioDet-master\\\\XDVioDet-master\\\\tratrain\\\\v=oTegqoBkfp0__#1_label_A.npy\\n', 'C:\\\\Users\\\\pradh\\\\Downloads\\\\XDVioDet-master\\\\XDVioDet-master\\\\tratrain\\\\v=oVTh2gDYR5U__#1_label_A.npy\\n', 'C:\\\\Users\\\\pradh\\\\Downloads\\\\XDVioDet-master\\\\XDVioDet-master\\\\tratrain\\\\v=ob_XPa4sXVI__#1_label_A.npy\\n', 'C:\\\\Users\\\\pradh\\\\Downloads\\\\XDVioDet-master\\\\XDVioDet-master\\\\tratrain\\\\v=oiVq0JE1_DQ__#1_label_A.npy\\n', 'C:\\\\Users\\\\pradh\\\\Downloads\\\\XDVioDet-master\\\\XDVioDet-master\\\\tratrain\\\\v=okOVxfuSYPk__#1_label_A.npy\\n', 'C:\\\\Users\\\\pradh\\\\Downloads\\\\XDVioDet-master\\\\XDVioDet-master\\\\tratrain\\\\v=olKx4L7n0LI__#1_label_A.npy\\n', 'C:\\\\Users\\\\pradh\\\\Downloads\\\\XDVioDet-master\\\\XDVioDet-master\\\\tratrain\\\\v=omOMoZvDPAo__#1_label_A.npy\\n', 'C:\\\\Users\\\\pradh\\\\Downloads\\\\XDVioDet-master\\\\XDVioDet-master\\\\tratrain\\\\v=ooe8FEX7Wmc__#1_label_A.npy\\n', 'C:\\\\Users\\\\pradh\\\\Downloads\\\\XDVioDet-master\\\\XDVioDet-master\\\\tratrain\\\\v=oqLvcX7yo9w__#1_label_A.npy\\n', 'C:\\\\Users\\\\pradh\\\\Downloads\\\\XDVioDet-master\\\\XDVioDet-master\\\\tratrain\\\\v=orUyQydBg0U__#1_label_A.npy\\n', 'C:\\\\Users\\\\pradh\\\\Downloads\\\\XDVioDet-master\\\\XDVioDet-master\\\\tratrain\\\\v=ozDDYcyrCNE__#1_label_A.npy\\n', 'C:\\\\Users\\\\pradh\\\\Downloads\\\\XDVioDet-master\\\\XDVioDet-master\\\\tratrain\\\\v=p0h0xyCrkHI__#1_label_A.npy\\n', 'C:\\\\Users\\\\pradh\\\\Downloads\\\\XDVioDet-master\\\\XDVioDet-master\\\\tratrain\\\\v=p2cQDaA0Hu0__#1_label_A.npy\\n', 'C:\\\\Users\\\\pradh\\\\Downloads\\\\XDVioDet-master\\\\XDVioDet-master\\\\tratrain\\\\v=p2ggHwtb-Zg__#00-00-00_00-03-00_label_A.npy\\n', 'C:\\\\Users\\\\pradh\\\\Downloads\\\\XDVioDet-master\\\\XDVioDet-master\\\\tratrain\\\\v=p2ggHwtb-Zg__#00-03-00_00-06-00_label_A.npy\\n', 'C:\\\\Users\\\\pradh\\\\Downloads\\\\XDVioDet-master\\\\XDVioDet-master\\\\tratrain\\\\v=p2ggHwtb-Zg__#00-06-00_00-09-00_label_A.npy\\n', 'C:\\\\Users\\\\pradh\\\\Downloads\\\\XDVioDet-master\\\\XDVioDet-master\\\\tratrain\\\\v=p2ggHwtb-Zg__#00-09-00_00-12-00_label_A.npy\\n', 'C:\\\\Users\\\\pradh\\\\Downloads\\\\XDVioDet-master\\\\XDVioDet-master\\\\tratrain\\\\v=p2ggHwtb-Zg__#00-12-00_00-15-00_label_A.npy\\n', 'C:\\\\Users\\\\pradh\\\\Downloads\\\\XDVioDet-master\\\\XDVioDet-master\\\\tratrain\\\\v=p2ggHwtb-Zg__#00-15-00_00-18-00_label_A.npy\\n', 'C:\\\\Users\\\\pradh\\\\Downloads\\\\XDVioDet-master\\\\XDVioDet-master\\\\tratrain\\\\v=p2ggHwtb-Zg__#00-18-00_00-21-00_label_A.npy\\n', 'C:\\\\Users\\\\pradh\\\\Downloads\\\\XDVioDet-master\\\\XDVioDet-master\\\\tratrain\\\\v=p2ggHwtb-Zg__#00-27-00_00-30-45_label_A.npy\\n', 'C:\\\\Users\\\\pradh\\\\Downloads\\\\XDVioDet-master\\\\XDVioDet-master\\\\tratrain\\\\v=p3NshF6UCKg__#1_label_A.npy\\n', 'C:\\\\Users\\\\pradh\\\\Downloads\\\\XDVioDet-master\\\\XDVioDet-master\\\\tratrain\\\\v=pPfWYiIg_PM__#1_label_A.npy\\n', 'C:\\\\Users\\\\pradh\\\\Downloads\\\\XDVioDet-master\\\\XDVioDet-master\\\\tratrain\\\\v=pPnODBy9ZMw__#1_label_A.npy\\n', 'C:\\\\Users\\\\pradh\\\\Downloads\\\\XDVioDet-master\\\\XDVioDet-master\\\\tratrain\\\\v=pUk0o1gjgO4__#1_label_A.npy\\n', 'C:\\\\Users\\\\pradh\\\\Downloads\\\\XDVioDet-master\\\\XDVioDet-master\\\\tratrain\\\\v=pbDdY9ZOlfw__#1_label_A.npy\\n', 'C:\\\\Users\\\\pradh\\\\Downloads\\\\XDVioDet-master\\\\XDVioDet-master\\\\tratrain\\\\v=png6cUURZB8__#1_label_A.npy\\n', 'C:\\\\Users\\\\pradh\\\\Downloads\\\\XDVioDet-master\\\\XDVioDet-master\\\\tratrain\\\\v=poDgC0LfsDM__#1_label_A.npy\\n', 'C:\\\\Users\\\\pradh\\\\Downloads\\\\XDVioDet-master\\\\XDVioDet-master\\\\tratrain\\\\v=punwkZSms1c__#1_label_A.npy\\n', 'C:\\\\Users\\\\pradh\\\\Downloads\\\\XDVioDet-master\\\\XDVioDet-master\\\\tratrain\\\\v=pxmthSPzu34__#1_label_A.npy\\n', 'C:\\\\Users\\\\pradh\\\\Downloads\\\\XDVioDet-master\\\\XDVioDet-master\\\\tratrain\\\\v=pzhkPfZwk20__#1_label_A.npy\\n', 'C:\\\\Users\\\\pradh\\\\Downloads\\\\XDVioDet-master\\\\XDVioDet-master\\\\tratrain\\\\v=q2SP66Jb6Cw__#00-06-00_00-12-00_label_A.npy\\n', 'C:\\\\Users\\\\pradh\\\\Downloads\\\\XDVioDet-master\\\\XDVioDet-master\\\\tratrain\\\\v=q2SP66Jb6Cw__#00-12-00_00-18-00_label_A.npy\\n', 'C:\\\\Users\\\\pradh\\\\Downloads\\\\XDVioDet-master\\\\XDVioDet-master\\\\tratrain\\\\v=q2SP66Jb6Cw__#00-18-00_00-24-00_label_A.npy\\n', 'C:\\\\Users\\\\pradh\\\\Downloads\\\\XDVioDet-master\\\\XDVioDet-master\\\\tratrain\\\\v=q2SP66Jb6Cw__#00-24-00_00-30-00_label_A.npy\\n', 'C:\\\\Users\\\\pradh\\\\Downloads\\\\XDVioDet-master\\\\XDVioDet-master\\\\tratrain\\\\v=q2SP66Jb6Cw__#00-30-00_00-36-00_label_A.npy\\n', 'C:\\\\Users\\\\pradh\\\\Downloads\\\\XDVioDet-master\\\\XDVioDet-master\\\\tratrain\\\\v=q2SP66Jb6Cw__#00-36-00_00-42-00_label_A.npy\\n', 'C:\\\\Users\\\\pradh\\\\Downloads\\\\XDVioDet-master\\\\XDVioDet-master\\\\tratrain\\\\v=q2SP66Jb6Cw__#00-42-00_00-48-00_label_A.npy\\n', 'C:\\\\Users\\\\pradh\\\\Downloads\\\\XDVioDet-master\\\\XDVioDet-master\\\\tratrain\\\\v=q2SP66Jb6Cw__#00-48-00_00-54-00_label_A.npy\\n', 'C:\\\\Users\\\\pradh\\\\Downloads\\\\XDVioDet-master\\\\XDVioDet-master\\\\tratrain\\\\v=q2SP66Jb6Cw__#00-54-00_01-00-00_label_A.npy\\n', 'C:\\\\Users\\\\pradh\\\\Downloads\\\\XDVioDet-master\\\\XDVioDet-master\\\\tratrain\\\\v=q2gFNklxvts__#1_label_A.npy\\n', 'C:\\\\Users\\\\pradh\\\\Downloads\\\\XDVioDet-master\\\\XDVioDet-master\\\\tratrain\\\\v=q6kaZzhD3nY__#1_label_A.npy\\n', 'C:\\\\Users\\\\pradh\\\\Downloads\\\\XDVioDet-master\\\\XDVioDet-master\\\\tratrain\\\\v=q7xm7vimDOA__#1_label_A.npy\\n', 'C:\\\\Users\\\\pradh\\\\Downloads\\\\XDVioDet-master\\\\XDVioDet-master\\\\tratrain\\\\v=qAVEja5DXr4__#1_label_A.npy\\n', 'C:\\\\Users\\\\pradh\\\\Downloads\\\\XDVioDet-master\\\\XDVioDet-master\\\\tratrain\\\\v=qKdONFdX1_Q__#1_label_A.npy\\n', 'C:\\\\Users\\\\pradh\\\\Downloads\\\\XDVioDet-master\\\\XDVioDet-master\\\\tratrain\\\\v=qLYjkTEqxEU__#1_label_A.npy\\n', 'C:\\\\Users\\\\pradh\\\\Downloads\\\\XDVioDet-master\\\\XDVioDet-master\\\\tratrain\\\\v=qQCTvJq83_s__#1_label_A.npy\\n', 'C:\\\\Users\\\\pradh\\\\Downloads\\\\XDVioDet-master\\\\XDVioDet-master\\\\tratrain\\\\v=qV4YYnXdQCc__#00-00-00_00-03-00_label_A.npy\\n', 'C:\\\\Users\\\\pradh\\\\Downloads\\\\XDVioDet-master\\\\XDVioDet-master\\\\tratrain\\\\v=qV4YYnXdQCc__#00-06-00_00-09-00_label_A.npy\\n', 'C:\\\\Users\\\\pradh\\\\Downloads\\\\XDVioDet-master\\\\XDVioDet-master\\\\tratrain\\\\v=qV4YYnXdQCc__#00-09-00_00-12-00_label_A.npy\\n', 'C:\\\\Users\\\\pradh\\\\Downloads\\\\XDVioDet-master\\\\XDVioDet-master\\\\tratrain\\\\v=qV4YYnXdQCc__#00-12-00_00-15-00_label_A.npy\\n', 'C:\\\\Users\\\\pradh\\\\Downloads\\\\XDVioDet-master\\\\XDVioDet-master\\\\tratrain\\\\v=qV4YYnXdQCc__#00-15-00_00-17-38_label_A.npy\\n', 'C:\\\\Users\\\\pradh\\\\Downloads\\\\XDVioDet-master\\\\XDVioDet-master\\\\tratrain\\\\v=qXiWCnZKXvQ__#1_label_A.npy\\n', 'C:\\\\Users\\\\pradh\\\\Downloads\\\\XDVioDet-master\\\\XDVioDet-master\\\\tratrain\\\\v=qYscemhnf88__#1_label_A.npy\\n', 'C:\\\\Users\\\\pradh\\\\Downloads\\\\XDVioDet-master\\\\XDVioDet-master\\\\tratrain\\\\v=qYyM0ta0NIY__#1_label_A.npy\\n', 'C:\\\\Users\\\\pradh\\\\Downloads\\\\XDVioDet-master\\\\XDVioDet-master\\\\tratrain\\\\v=qegvGtGmOg8__#1_label_A.npy\\n', 'C:\\\\Users\\\\pradh\\\\Downloads\\\\XDVioDet-master\\\\XDVioDet-master\\\\tratrain\\\\v=qoDFUdbNJGk__#1_label_A.npy\\n', 'C:\\\\Users\\\\pradh\\\\Downloads\\\\XDVioDet-master\\\\XDVioDet-master\\\\tratrain\\\\v=r22wGeBDJdw__#1_label_A.npy\\n', 'C:\\\\Users\\\\pradh\\\\Downloads\\\\XDVioDet-master\\\\XDVioDet-master\\\\tratrain\\\\v=r6e5yCEUqUI__#1_label_A.npy\\n', 'C:\\\\Users\\\\pradh\\\\Downloads\\\\XDVioDet-master\\\\XDVioDet-master\\\\tratrain\\\\v=r7VpkgBE270__#1_label_A.npy\\n', 'C:\\\\Users\\\\pradh\\\\Downloads\\\\XDVioDet-master\\\\XDVioDet-master\\\\tratrain\\\\v=rHasGCRYSgA__#1_label_A.npy\\n', 'C:\\\\Users\\\\pradh\\\\Downloads\\\\XDVioDet-master\\\\XDVioDet-master\\\\tratrain\\\\v=rKD6GYqoty8__#1_label_A.npy\\n', 'C:\\\\Users\\\\pradh\\\\Downloads\\\\XDVioDet-master\\\\XDVioDet-master\\\\tratrain\\\\v=rKUipxR3bDc__#1_label_A.npy\\n', 'C:\\\\Users\\\\pradh\\\\Downloads\\\\XDVioDet-master\\\\XDVioDet-master\\\\tratrain\\\\v=rLVR4f7GyQo__#1_label_A.npy\\n', 'C:\\\\Users\\\\pradh\\\\Downloads\\\\XDVioDet-master\\\\XDVioDet-master\\\\tratrain\\\\v=rQWPigb7qDY__#1_label_A.npy\\n', 'C:\\\\Users\\\\pradh\\\\Downloads\\\\XDVioDet-master\\\\XDVioDet-master\\\\tratrain\\\\v=rkBKECbTVz4__#1_label_A.npy\\n', 'C:\\\\Users\\\\pradh\\\\Downloads\\\\XDVioDet-master\\\\XDVioDet-master\\\\tratrain\\\\v=rmb-ofn-8VU__#1_label_A.npy\\n', 'C:\\\\Users\\\\pradh\\\\Downloads\\\\XDVioDet-master\\\\XDVioDet-master\\\\tratrain\\\\v=ro0kQw25gQ0__#1_label_A.npy\\n', 'C:\\\\Users\\\\pradh\\\\Downloads\\\\XDVioDet-master\\\\XDVioDet-master\\\\tratrain\\\\v=rs9XTrfuIro__#1_label_A.npy\\n', 'C:\\\\Users\\\\pradh\\\\Downloads\\\\XDVioDet-master\\\\XDVioDet-master\\\\tratrain\\\\v=rzuRQ3F4bFE__#1_label_A.npy\\n', 'C:\\\\Users\\\\pradh\\\\Downloads\\\\XDVioDet-master\\\\XDVioDet-master\\\\tratrain\\\\v=s-dy27cLZuA__#1_label_A.npy\\n', 'C:\\\\Users\\\\pradh\\\\Downloads\\\\XDVioDet-master\\\\XDVioDet-master\\\\tratrain\\\\v=s8yOmsS_P3Q__#1_label_A.npy\\n', 'C:\\\\Users\\\\pradh\\\\Downloads\\\\XDVioDet-master\\\\XDVioDet-master\\\\tratrain\\\\v=sCAYM6G0efk__#1_label_A.npy\\n', 'C:\\\\Users\\\\pradh\\\\Downloads\\\\XDVioDet-master\\\\XDVioDet-master\\\\tratrain\\\\v=sJrdxXGR-BY__#1_label_A.npy\\n', 'C:\\\\Users\\\\pradh\\\\Downloads\\\\XDVioDet-master\\\\XDVioDet-master\\\\tratrain\\\\v=sSUl-Op_EQ0__#1_label_A.npy\\n', 'C:\\\\Users\\\\pradh\\\\Downloads\\\\XDVioDet-master\\\\XDVioDet-master\\\\tratrain\\\\v=sdY11vJBw24__#1_label_A.npy\\n', 'C:\\\\Users\\\\pradh\\\\Downloads\\\\XDVioDet-master\\\\XDVioDet-master\\\\tratrain\\\\v=sgYJ3bqSkN8__#1_label_A.npy\\n', 'C:\\\\Users\\\\pradh\\\\Downloads\\\\XDVioDet-master\\\\XDVioDet-master\\\\tratrain\\\\v=siMuLFQ7DSY__#1_label_A.npy\\n', 'C:\\\\Users\\\\pradh\\\\Downloads\\\\XDVioDet-master\\\\XDVioDet-master\\\\tratrain\\\\v=sirrTXiPFmw__#1_label_A.npy\\n', 'C:\\\\Users\\\\pradh\\\\Downloads\\\\XDVioDet-master\\\\XDVioDet-master\\\\tratrain\\\\v=sm32v-vwuiQ__#1_label_A.npy\\n', 'C:\\\\Users\\\\pradh\\\\Downloads\\\\XDVioDet-master\\\\XDVioDet-master\\\\tratrain\\\\v=syqoZ2md7_Q__#1_label_A.npy\\n', 'C:\\\\Users\\\\pradh\\\\Downloads\\\\XDVioDet-master\\\\XDVioDet-master\\\\tratrain\\\\v=szDuMz-T7b4__#1_label_A.npy\\n', 'C:\\\\Users\\\\pradh\\\\Downloads\\\\XDVioDet-master\\\\XDVioDet-master\\\\tratrain\\\\v=tAIy_2Fnz-Q__#1_label_A.npy\\n', 'C:\\\\Users\\\\pradh\\\\Downloads\\\\XDVioDet-master\\\\XDVioDet-master\\\\tratrain\\\\v=tCfJ_3DxJgg__#1_label_A.npy\\n', 'C:\\\\Users\\\\pradh\\\\Downloads\\\\XDVioDet-master\\\\XDVioDet-master\\\\tratrain\\\\v=tG-IGNvfrg8__#1_label_A.npy\\n', 'C:\\\\Users\\\\pradh\\\\Downloads\\\\XDVioDet-master\\\\XDVioDet-master\\\\tratrain\\\\v=tGPyoma3-o8__#1_label_A.npy\\n', 'C:\\\\Users\\\\pradh\\\\Downloads\\\\XDVioDet-master\\\\XDVioDet-master\\\\tratrain\\\\v=tNG62fULYgI__#1_label_A.npy\\n', 'C:\\\\Users\\\\pradh\\\\Downloads\\\\XDVioDet-master\\\\XDVioDet-master\\\\tratrain\\\\v=tPwuLLL64HM__#1_label_A.npy\\n', 'C:\\\\Users\\\\pradh\\\\Downloads\\\\XDVioDet-master\\\\XDVioDet-master\\\\tratrain\\\\v=tQHR4Qrj6fM__#1_label_A.npy\\n', 'C:\\\\Users\\\\pradh\\\\Downloads\\\\XDVioDet-master\\\\XDVioDet-master\\\\tratrain\\\\v=tQdSoU2vuus__#1_label_A.npy\\n', 'C:\\\\Users\\\\pradh\\\\Downloads\\\\XDVioDet-master\\\\XDVioDet-master\\\\tratrain\\\\v=tREGcpKagNw__#1_label_A.npy\\n', 'C:\\\\Users\\\\pradh\\\\Downloads\\\\XDVioDet-master\\\\XDVioDet-master\\\\tratrain\\\\v=tSnxeqlN7wA__#1_label_A.npy\\n', 'C:\\\\Users\\\\pradh\\\\Downloads\\\\XDVioDet-master\\\\XDVioDet-master\\\\tratrain\\\\v=tTnlWuVPXeg__#1_label_A.npy\\n', 'C:\\\\Users\\\\pradh\\\\Downloads\\\\XDVioDet-master\\\\XDVioDet-master\\\\tratrain\\\\v=thV8xUWohN4__#1_label_A.npy\\n', 'C:\\\\Users\\\\pradh\\\\Downloads\\\\XDVioDet-master\\\\XDVioDet-master\\\\tratrain\\\\v=tiSOop4VlSg__#1_label_A.npy\\n', 'C:\\\\Users\\\\pradh\\\\Downloads\\\\XDVioDet-master\\\\XDVioDet-master\\\\tratrain\\\\v=tlFJIG9mTGQ__#00-00-00_00-03-00_label_A.npy\\n', 'C:\\\\Users\\\\pradh\\\\Downloads\\\\XDVioDet-master\\\\XDVioDet-master\\\\tratrain\\\\v=tlFJIG9mTGQ__#00-03-00_00-06-00_label_A.npy\\n', 'C:\\\\Users\\\\pradh\\\\Downloads\\\\XDVioDet-master\\\\XDVioDet-master\\\\tratrain\\\\v=tlFJIG9mTGQ__#00-06-00_00-09-00_label_A.npy\\n', 'C:\\\\Users\\\\pradh\\\\Downloads\\\\XDVioDet-master\\\\XDVioDet-master\\\\tratrain\\\\v=tlFJIG9mTGQ__#00-09-00_00-12-00_label_A.npy\\n', 'C:\\\\Users\\\\pradh\\\\Downloads\\\\XDVioDet-master\\\\XDVioDet-master\\\\tratrain\\\\v=tli7JFkuDfU__#1_label_A.npy\\n', 'C:\\\\Users\\\\pradh\\\\Downloads\\\\XDVioDet-master\\\\XDVioDet-master\\\\tratrain\\\\v=tqDD7xMCjOI__#1_label_A.npy\\n', 'C:\\\\Users\\\\pradh\\\\Downloads\\\\XDVioDet-master\\\\XDVioDet-master\\\\tratrain\\\\v=u3ufuLefCLo__#1_label_A.npy\\n', 'C:\\\\Users\\\\pradh\\\\Downloads\\\\XDVioDet-master\\\\XDVioDet-master\\\\tratrain\\\\v=u4r1FL1pwfo__#1_label_A.npy\\n', 'C:\\\\Users\\\\pradh\\\\Downloads\\\\XDVioDet-master\\\\XDVioDet-master\\\\tratrain\\\\v=u5XzhMLqLB8__#1_label_A.npy\\n', 'C:\\\\Users\\\\pradh\\\\Downloads\\\\XDVioDet-master\\\\XDVioDet-master\\\\tratrain\\\\v=u5cV27GYHKw__#1_label_A.npy\\n', 'C:\\\\Users\\\\pradh\\\\Downloads\\\\XDVioDet-master\\\\XDVioDet-master\\\\tratrain\\\\v=uFJpq8S99bM__#1_label_A.npy\\n', 'C:\\\\Users\\\\pradh\\\\Downloads\\\\XDVioDet-master\\\\XDVioDet-master\\\\tratrain\\\\v=uL96EB8N9L8__#1_label_A.npy\\n', 'C:\\\\Users\\\\pradh\\\\Downloads\\\\XDVioDet-master\\\\XDVioDet-master\\\\tratrain\\\\v=uNrCG08man8__#1_label_A.npy\\n', 'C:\\\\Users\\\\pradh\\\\Downloads\\\\XDVioDet-master\\\\XDVioDet-master\\\\tratrain\\\\v=uWBjiJ1hMW4__#1_label_A.npy\\n', 'C:\\\\Users\\\\pradh\\\\Downloads\\\\XDVioDet-master\\\\XDVioDet-master\\\\tratrain\\\\v=ubGKrwPmIzw__#1_label_A.npy\\n', 'C:\\\\Users\\\\pradh\\\\Downloads\\\\XDVioDet-master\\\\XDVioDet-master\\\\tratrain\\\\v=udWxy9CzcfU__#1_label_A.npy\\n', 'C:\\\\Users\\\\pradh\\\\Downloads\\\\XDVioDet-master\\\\XDVioDet-master\\\\tratrain\\\\v=uij8heW1HbQ__#1_label_A.npy\\n', 'C:\\\\Users\\\\pradh\\\\Downloads\\\\XDVioDet-master\\\\XDVioDet-master\\\\tratrain\\\\v=uq0-ncI0MNg__#1_label_A.npy\\n', 'C:\\\\Users\\\\pradh\\\\Downloads\\\\XDVioDet-master\\\\XDVioDet-master\\\\tratrain\\\\v=usAvzbDq6-c__#00-00-00_00-03-00_label_A.npy\\n', 'C:\\\\Users\\\\pradh\\\\Downloads\\\\XDVioDet-master\\\\XDVioDet-master\\\\tratrain\\\\v=usAvzbDq6-c__#00-06-00_00-09-00_label_A.npy\\n', 'C:\\\\Users\\\\pradh\\\\Downloads\\\\XDVioDet-master\\\\XDVioDet-master\\\\tratrain\\\\v=usAvzbDq6-c__#00-09-00_00-12-00_label_A.npy\\n', 'C:\\\\Users\\\\pradh\\\\Downloads\\\\XDVioDet-master\\\\XDVioDet-master\\\\tratrain\\\\v=usAvzbDq6-c__#00-12-00_00-15-00_label_A.npy\\n', 'C:\\\\Users\\\\pradh\\\\Downloads\\\\XDVioDet-master\\\\XDVioDet-master\\\\tratrain\\\\v=usAvzbDq6-c__#00-15-00_00-18-00_label_A.npy\\n', 'C:\\\\Users\\\\pradh\\\\Downloads\\\\XDVioDet-master\\\\XDVioDet-master\\\\tratrain\\\\v=usAvzbDq6-c__#00-24-00_00-27-00_label_A.npy\\n', 'C:\\\\Users\\\\pradh\\\\Downloads\\\\XDVioDet-master\\\\XDVioDet-master\\\\tratrain\\\\v=usAvzbDq6-c__#00-27-00_00-29-56_label_A.npy\\n', 'C:\\\\Users\\\\pradh\\\\Downloads\\\\XDVioDet-master\\\\XDVioDet-master\\\\tratrain\\\\v=v1hVhekoeGs__#1_label_A.npy\\n', 'C:\\\\Users\\\\pradh\\\\Downloads\\\\XDVioDet-master\\\\XDVioDet-master\\\\tratrain\\\\v=v6ypmlg1Cr4__#1_label_A.npy\\n', 'C:\\\\Users\\\\pradh\\\\Downloads\\\\XDVioDet-master\\\\XDVioDet-master\\\\tratrain\\\\v=vCdBIRtsL6o__#1_label_A.npy\\n', 'C:\\\\Users\\\\pradh\\\\Downloads\\\\XDVioDet-master\\\\XDVioDet-master\\\\tratrain\\\\v=vFPQ_NiDBIU__#00-00-00_00-06-00_label_A.npy\\n', 'C:\\\\Users\\\\pradh\\\\Downloads\\\\XDVioDet-master\\\\XDVioDet-master\\\\tratrain\\\\v=vFPQ_NiDBIU__#00-06-00_00-12-00_label_A.npy\\n', 'C:\\\\Users\\\\pradh\\\\Downloads\\\\XDVioDet-master\\\\XDVioDet-master\\\\tratrain\\\\v=vFPQ_NiDBIU__#00-12-00_00-18-00_label_A.npy\\n', 'C:\\\\Users\\\\pradh\\\\Downloads\\\\XDVioDet-master\\\\XDVioDet-master\\\\tratrain\\\\v=vFPQ_NiDBIU__#00-18-00_00-24-00_label_A.npy\\n', 'C:\\\\Users\\\\pradh\\\\Downloads\\\\XDVioDet-master\\\\XDVioDet-master\\\\tratrain\\\\v=vFPQ_NiDBIU__#00-24-00_00-30-00_label_A.npy\\n', 'C:\\\\Users\\\\pradh\\\\Downloads\\\\XDVioDet-master\\\\XDVioDet-master\\\\tratrain\\\\v=vFPQ_NiDBIU__#00-30-00_00-36-00_label_A.npy\\n', 'C:\\\\Users\\\\pradh\\\\Downloads\\\\XDVioDet-master\\\\XDVioDet-master\\\\tratrain\\\\v=vFPQ_NiDBIU__#00-36-00_00-42-00_label_A.npy\\n', 'C:\\\\Users\\\\pradh\\\\Downloads\\\\XDVioDet-master\\\\XDVioDet-master\\\\tratrain\\\\v=vFPQ_NiDBIU__#00-48-00_00-54-00_label_A.npy\\n', 'C:\\\\Users\\\\pradh\\\\Downloads\\\\XDVioDet-master\\\\XDVioDet-master\\\\tratrain\\\\v=vFPQ_NiDBIU__#00-54-00_01-00-00_label_A.npy\\n', 'C:\\\\Users\\\\pradh\\\\Downloads\\\\XDVioDet-master\\\\XDVioDet-master\\\\tratrain\\\\v=vFPQ_NiDBIU__#01-06-00_01-12-00_label_A.npy\\n', 'C:\\\\Users\\\\pradh\\\\Downloads\\\\XDVioDet-master\\\\XDVioDet-master\\\\tratrain\\\\v=vFPQ_NiDBIU__#01-12-00_01-18-00_label_A.npy\\n', 'C:\\\\Users\\\\pradh\\\\Downloads\\\\XDVioDet-master\\\\XDVioDet-master\\\\tratrain\\\\v=vFPQ_NiDBIU__#01-18-00_01-24-00_label_A.npy\\n', 'C:\\\\Users\\\\pradh\\\\Downloads\\\\XDVioDet-master\\\\XDVioDet-master\\\\tratrain\\\\v=vFPQ_NiDBIU__#01-24-00_01-30-00_label_A.npy\\n', 'C:\\\\Users\\\\pradh\\\\Downloads\\\\XDVioDet-master\\\\XDVioDet-master\\\\tratrain\\\\v=vFPQ_NiDBIU__#01-30-00_01-36-00_label_A.npy\\n', 'C:\\\\Users\\\\pradh\\\\Downloads\\\\XDVioDet-master\\\\XDVioDet-master\\\\tratrain\\\\v=vFPQ_NiDBIU__#01-36-00_01-42-00_label_A.npy\\n', 'C:\\\\Users\\\\pradh\\\\Downloads\\\\XDVioDet-master\\\\XDVioDet-master\\\\tratrain\\\\v=vFPQ_NiDBIU__#01-42-00_01-48-00_label_A.npy\\n', 'C:\\\\Users\\\\pradh\\\\Downloads\\\\XDVioDet-master\\\\XDVioDet-master\\\\tratrain\\\\v=vFPQ_NiDBIU__#01-54-00_02-00-00_label_A.npy\\n', 'C:\\\\Users\\\\pradh\\\\Downloads\\\\XDVioDet-master\\\\XDVioDet-master\\\\tratrain\\\\v=vFPQ_NiDBIU__#02-00-00_02-06-00_label_A.npy\\n', 'C:\\\\Users\\\\pradh\\\\Downloads\\\\XDVioDet-master\\\\XDVioDet-master\\\\tratrain\\\\v=vFPQ_NiDBIU__#02-06-00_02-12-00_label_A.npy\\n', 'C:\\\\Users\\\\pradh\\\\Downloads\\\\XDVioDet-master\\\\XDVioDet-master\\\\tratrain\\\\v=vFPQ_NiDBIU__#02-12-00_02-18-00_label_A.npy\\n', 'C:\\\\Users\\\\pradh\\\\Downloads\\\\XDVioDet-master\\\\XDVioDet-master\\\\tratrain\\\\v=vFPQ_NiDBIU__#02-18-00_02-24-00_label_A.npy\\n', 'C:\\\\Users\\\\pradh\\\\Downloads\\\\XDVioDet-master\\\\XDVioDet-master\\\\tratrain\\\\v=vFPQ_NiDBIU__#02-24-00_02-30-00_label_A.npy\\n', 'C:\\\\Users\\\\pradh\\\\Downloads\\\\XDVioDet-master\\\\XDVioDet-master\\\\tratrain\\\\v=vFPQ_NiDBIU__#02-30-00_02-36-00_label_A.npy\\n', 'C:\\\\Users\\\\pradh\\\\Downloads\\\\XDVioDet-master\\\\XDVioDet-master\\\\tratrain\\\\v=vFPQ_NiDBIU__#02-36-00_02-42-00_label_A.npy\\n', 'C:\\\\Users\\\\pradh\\\\Downloads\\\\XDVioDet-master\\\\XDVioDet-master\\\\tratrain\\\\v=vFPQ_NiDBIU__#02-48-00_02-54-00_label_A.npy\\n', 'C:\\\\Users\\\\pradh\\\\Downloads\\\\XDVioDet-master\\\\XDVioDet-master\\\\tratrain\\\\v=vFPQ_NiDBIU__#02-54-00_03-00-00_label_A.npy\\n', 'C:\\\\Users\\\\pradh\\\\Downloads\\\\XDVioDet-master\\\\XDVioDet-master\\\\tratrain\\\\v=vFPQ_NiDBIU__#03-00-00_03-06-00_label_A.npy\\n', 'C:\\\\Users\\\\pradh\\\\Downloads\\\\XDVioDet-master\\\\XDVioDet-master\\\\tratrain\\\\v=vFPQ_NiDBIU__#03-06-00_03-13-06_label_A.npy\\n', 'C:\\\\Users\\\\pradh\\\\Downloads\\\\XDVioDet-master\\\\XDVioDet-master\\\\tratrain\\\\v=vNfvHkrGW90__#1_label_A.npy\\n', 'C:\\\\Users\\\\pradh\\\\Downloads\\\\XDVioDet-master\\\\XDVioDet-master\\\\tratrain\\\\v=vW34Es48fcs__#1_label_A.npy\\n', 'C:\\\\Users\\\\pradh\\\\Downloads\\\\XDVioDet-master\\\\XDVioDet-master\\\\tratrain\\\\v=vbLIiYsa0Ik__#1_label_A.npy\\n', 'C:\\\\Users\\\\pradh\\\\Downloads\\\\XDVioDet-master\\\\XDVioDet-master\\\\tratrain\\\\v=vbSM_HvjP4c__#1_label_A.npy\\n', 'C:\\\\Users\\\\pradh\\\\Downloads\\\\XDVioDet-master\\\\XDVioDet-master\\\\tratrain\\\\v=vm5bhOBMXAs__#1_label_A.npy\\n', 'C:\\\\Users\\\\pradh\\\\Downloads\\\\XDVioDet-master\\\\XDVioDet-master\\\\tratrain\\\\v=vpWuJWFQK60__#1_label_A.npy\\n', 'C:\\\\Users\\\\pradh\\\\Downloads\\\\XDVioDet-master\\\\XDVioDet-master\\\\tratrain\\\\v=vsI_pKNcgeQ__#00-00-00_00-03-00_label_A.npy\\n', 'C:\\\\Users\\\\pradh\\\\Downloads\\\\XDVioDet-master\\\\XDVioDet-master\\\\tratrain\\\\v=vsI_pKNcgeQ__#00-03-00_00-06-00_label_A.npy\\n', 'C:\\\\Users\\\\pradh\\\\Downloads\\\\XDVioDet-master\\\\XDVioDet-master\\\\tratrain\\\\v=vsI_pKNcgeQ__#00-06-00_00-09-00_label_A.npy\\n', 'C:\\\\Users\\\\pradh\\\\Downloads\\\\XDVioDet-master\\\\XDVioDet-master\\\\tratrain\\\\v=vsI_pKNcgeQ__#00-09-00_00-12-00_label_A.npy\\n', 'C:\\\\Users\\\\pradh\\\\Downloads\\\\XDVioDet-master\\\\XDVioDet-master\\\\tratrain\\\\v=vsI_pKNcgeQ__#00-12-00_00-15-00_label_A.npy\\n', 'C:\\\\Users\\\\pradh\\\\Downloads\\\\XDVioDet-master\\\\XDVioDet-master\\\\tratrain\\\\v=vsI_pKNcgeQ__#00-18-00_00-21-00_label_A.npy\\n', 'C:\\\\Users\\\\pradh\\\\Downloads\\\\XDVioDet-master\\\\XDVioDet-master\\\\tratrain\\\\v=vsI_pKNcgeQ__#00-21-00_00-24-00_label_A.npy\\n', 'C:\\\\Users\\\\pradh\\\\Downloads\\\\XDVioDet-master\\\\XDVioDet-master\\\\tratrain\\\\v=vsI_pKNcgeQ__#00-24-00_00-27-00_label_A.npy\\n', 'C:\\\\Users\\\\pradh\\\\Downloads\\\\XDVioDet-master\\\\XDVioDet-master\\\\tratrain\\\\v=vsI_pKNcgeQ__#00-27-00_00-29-03_label_A.npy\\n', 'C:\\\\Users\\\\pradh\\\\Downloads\\\\XDVioDet-master\\\\XDVioDet-master\\\\tratrain\\\\v=vscLBkOSqDU__#1_label_A.npy\\n', 'C:\\\\Users\\\\pradh\\\\Downloads\\\\XDVioDet-master\\\\XDVioDet-master\\\\tratrain\\\\v=vu3gsiA1KLs__#1_label_A.npy\\n', 'C:\\\\Users\\\\pradh\\\\Downloads\\\\XDVioDet-master\\\\XDVioDet-master\\\\tratrain\\\\v=w4IMts5VN3k__#1_label_A.npy\\n', 'C:\\\\Users\\\\pradh\\\\Downloads\\\\XDVioDet-master\\\\XDVioDet-master\\\\tratrain\\\\v=w8WdogrgkAU__#1_label_A.npy\\n', 'C:\\\\Users\\\\pradh\\\\Downloads\\\\XDVioDet-master\\\\XDVioDet-master\\\\tratrain\\\\v=wDPzFSdbqnU__#1_label_A.npy\\n', 'C:\\\\Users\\\\pradh\\\\Downloads\\\\XDVioDet-master\\\\XDVioDet-master\\\\tratrain\\\\v=wLmMdYhvBg0__#1_label_A.npy\\n', 'C:\\\\Users\\\\pradh\\\\Downloads\\\\XDVioDet-master\\\\XDVioDet-master\\\\tratrain\\\\v=wU1GP4aAITg__#1_label_A.npy\\n', 'C:\\\\Users\\\\pradh\\\\Downloads\\\\XDVioDet-master\\\\XDVioDet-master\\\\tratrain\\\\v=wUL8ZEs-2mI__#1_label_A.npy\\n', 'C:\\\\Users\\\\pradh\\\\Downloads\\\\XDVioDet-master\\\\XDVioDet-master\\\\tratrain\\\\v=wYGOmRmZbPs__#1_label_A.npy\\n', 'C:\\\\Users\\\\pradh\\\\Downloads\\\\XDVioDet-master\\\\XDVioDet-master\\\\tratrain\\\\v=w_u02Ph059w__#1_label_A.npy\\n', 'C:\\\\Users\\\\pradh\\\\Downloads\\\\XDVioDet-master\\\\XDVioDet-master\\\\tratrain\\\\v=waM5xzhjG48__#1_label_A.npy\\n', 'C:\\\\Users\\\\pradh\\\\Downloads\\\\XDVioDet-master\\\\XDVioDet-master\\\\tratrain\\\\v=wfeU-Q8cGBs__#1_label_A.npy\\n', 'C:\\\\Users\\\\pradh\\\\Downloads\\\\XDVioDet-master\\\\XDVioDet-master\\\\tratrain\\\\v=wfkNZ9lg97w__#1_label_A.npy\\n', 'C:\\\\Users\\\\pradh\\\\Downloads\\\\XDVioDet-master\\\\XDVioDet-master\\\\tratrain\\\\v=wqPSsu7XQ74__#1_label_A.npy\\n', 'C:\\\\Users\\\\pradh\\\\Downloads\\\\XDVioDet-master\\\\XDVioDet-master\\\\tratrain\\\\v=wvB4FN_lIHk__#1_label_A.npy\\n', 'C:\\\\Users\\\\pradh\\\\Downloads\\\\XDVioDet-master\\\\XDVioDet-master\\\\tratrain\\\\v=wwU98rvR4Cw__#1_label_A.npy\\n', 'C:\\\\Users\\\\pradh\\\\Downloads\\\\XDVioDet-master\\\\XDVioDet-master\\\\tratrain\\\\v=x-Cgkgj5KR0__#00-00-00_00-03-00_label_A.npy\\n', 'C:\\\\Users\\\\pradh\\\\Downloads\\\\XDVioDet-master\\\\XDVioDet-master\\\\tratrain\\\\v=x-Cgkgj5KR0__#00-03-00_00-06-00_label_A.npy\\n', 'C:\\\\Users\\\\pradh\\\\Downloads\\\\XDVioDet-master\\\\XDVioDet-master\\\\tratrain\\\\v=x-Cgkgj5KR0__#00-06-00_00-09-00_label_A.npy\\n', 'C:\\\\Users\\\\pradh\\\\Downloads\\\\XDVioDet-master\\\\XDVioDet-master\\\\tratrain\\\\v=x-Cgkgj5KR0__#00-09-00_00-12-00_label_A.npy\\n', 'C:\\\\Users\\\\pradh\\\\Downloads\\\\XDVioDet-master\\\\XDVioDet-master\\\\tratrain\\\\v=x-Cgkgj5KR0__#00-12-00_00-15-00_label_A.npy\\n', 'C:\\\\Users\\\\pradh\\\\Downloads\\\\XDVioDet-master\\\\XDVioDet-master\\\\tratrain\\\\v=x-Cgkgj5KR0__#00-15-00_00-18-00_label_A.npy\\n', 'C:\\\\Users\\\\pradh\\\\Downloads\\\\XDVioDet-master\\\\XDVioDet-master\\\\tratrain\\\\v=x-Cgkgj5KR0__#00-18-00_00-21-00_label_A.npy\\n', 'C:\\\\Users\\\\pradh\\\\Downloads\\\\XDVioDet-master\\\\XDVioDet-master\\\\tratrain\\\\v=x-Cgkgj5KR0__#00-21-00_00-23-13_label_A.npy\\n', 'C:\\\\Users\\\\pradh\\\\Downloads\\\\XDVioDet-master\\\\XDVioDet-master\\\\tratrain\\\\v=xIJEzQGRql0__#1_label_A.npy\\n', 'C:\\\\Users\\\\pradh\\\\Downloads\\\\XDVioDet-master\\\\XDVioDet-master\\\\tratrain\\\\v=xMXxxkoRsb0__#1_label_A.npy\\n', 'C:\\\\Users\\\\pradh\\\\Downloads\\\\XDVioDet-master\\\\XDVioDet-master\\\\tratrain\\\\v=xQHgnSWizWE__#00-00-00_00-03-00_label_A.npy\\n', 'C:\\\\Users\\\\pradh\\\\Downloads\\\\XDVioDet-master\\\\XDVioDet-master\\\\tratrain\\\\v=xQHgnSWizWE__#00-03-00_00-06-00_label_A.npy\\n', 'C:\\\\Users\\\\pradh\\\\Downloads\\\\XDVioDet-master\\\\XDVioDet-master\\\\tratrain\\\\v=xQHgnSWizWE__#00-06-00_00-09-00_label_A.npy\\n', 'C:\\\\Users\\\\pradh\\\\Downloads\\\\XDVioDet-master\\\\XDVioDet-master\\\\tratrain\\\\v=xQHgnSWizWE__#00-09-00_00-12-23_label_A.npy\\n', 'C:\\\\Users\\\\pradh\\\\Downloads\\\\XDVioDet-master\\\\XDVioDet-master\\\\tratrain\\\\v=xRxt8u-iaGE__#1_label_A.npy\\n', 'C:\\\\Users\\\\pradh\\\\Downloads\\\\XDVioDet-master\\\\XDVioDet-master\\\\tratrain\\\\v=xTJcASRxbfI__#1_label_A.npy\\n', 'C:\\\\Users\\\\pradh\\\\Downloads\\\\XDVioDet-master\\\\XDVioDet-master\\\\tratrain\\\\v=xUtbX1mHhPo__#1_label_A.npy\\n', 'C:\\\\Users\\\\pradh\\\\Downloads\\\\XDVioDet-master\\\\XDVioDet-master\\\\tratrain\\\\v=xctzp0dp9uc__#1_label_A.npy\\n', 'C:\\\\Users\\\\pradh\\\\Downloads\\\\XDVioDet-master\\\\XDVioDet-master\\\\tratrain\\\\v=xi0JMS1rulo__#1_label_A.npy\\n', 'C:\\\\Users\\\\pradh\\\\Downloads\\\\XDVioDet-master\\\\XDVioDet-master\\\\tratrain\\\\v=xj64iI5W6r8__#1_label_A.npy\\n', 'C:\\\\Users\\\\pradh\\\\Downloads\\\\XDVioDet-master\\\\XDVioDet-master\\\\tratrain\\\\v=xs1sW6V3QV8__#1_label_A.npy\\n', 'C:\\\\Users\\\\pradh\\\\Downloads\\\\XDVioDet-master\\\\XDVioDet-master\\\\tratrain\\\\v=xuR7hhJWqp8__#1_label_A.npy\\n', 'C:\\\\Users\\\\pradh\\\\Downloads\\\\XDVioDet-master\\\\XDVioDet-master\\\\tratrain\\\\v=y7JEq-kf-2I__#00-00-00_00-01-00_label_A.npy\\n', 'C:\\\\Users\\\\pradh\\\\Downloads\\\\XDVioDet-master\\\\XDVioDet-master\\\\tratrain\\\\v=y7JEq-kf-2I__#00-01-00_00-01-50_label_A.npy\\n', 'C:\\\\Users\\\\pradh\\\\Downloads\\\\XDVioDet-master\\\\XDVioDet-master\\\\tratrain\\\\v=y7JEq-kf-2I__#00-02-30_00-03-40_label_A.npy\\n', 'C:\\\\Users\\\\pradh\\\\Downloads\\\\XDVioDet-master\\\\XDVioDet-master\\\\tratrain\\\\v=y7JEq-kf-2I__#00-03-40_00-04-40_label_A.npy\\n', 'C:\\\\Users\\\\pradh\\\\Downloads\\\\XDVioDet-master\\\\XDVioDet-master\\\\tratrain\\\\v=y7JEq-kf-2I__#00-04-40_00-06-50_label_A.npy\\n', 'C:\\\\Users\\\\pradh\\\\Downloads\\\\XDVioDet-master\\\\XDVioDet-master\\\\tratrain\\\\v=yE8sbxP4SfM__#1_label_A.npy\\n', 'C:\\\\Users\\\\pradh\\\\Downloads\\\\XDVioDet-master\\\\XDVioDet-master\\\\tratrain\\\\v=yGnKHxNVibw__#1_label_A.npy\\n', 'C:\\\\Users\\\\pradh\\\\Downloads\\\\XDVioDet-master\\\\XDVioDet-master\\\\tratrain\\\\v=yGotXLo4I5U__#1_label_A.npy\\n', 'C:\\\\Users\\\\pradh\\\\Downloads\\\\XDVioDet-master\\\\XDVioDet-master\\\\tratrain\\\\v=yN8gzTFLtME__#1_label_A.npy\\n', 'C:\\\\Users\\\\pradh\\\\Downloads\\\\XDVioDet-master\\\\XDVioDet-master\\\\tratrain\\\\v=yQV7LaFD7Vk__#1_label_A.npy\\n', 'C:\\\\Users\\\\pradh\\\\Downloads\\\\XDVioDet-master\\\\XDVioDet-master\\\\tratrain\\\\v=yTThyQPoXxY__#1_label_A.npy\\n', 'C:\\\\Users\\\\pradh\\\\Downloads\\\\XDVioDet-master\\\\XDVioDet-master\\\\tratrain\\\\v=yYhonx-3HN8__#1_label_A.npy\\n', 'C:\\\\Users\\\\pradh\\\\Downloads\\\\XDVioDet-master\\\\XDVioDet-master\\\\tratrain\\\\v=yZ2wlTAN49g__#00-00-00_00-03-00_label_A.npy\\n', 'C:\\\\Users\\\\pradh\\\\Downloads\\\\XDVioDet-master\\\\XDVioDet-master\\\\tratrain\\\\v=yZ2wlTAN49g__#00-06-00_00-09-00_label_A.npy\\n', 'C:\\\\Users\\\\pradh\\\\Downloads\\\\XDVioDet-master\\\\XDVioDet-master\\\\tratrain\\\\v=yZ2wlTAN49g__#00-09-00_00-12-00_label_A.npy\\n', 'C:\\\\Users\\\\pradh\\\\Downloads\\\\XDVioDet-master\\\\XDVioDet-master\\\\tratrain\\\\v=yZ2wlTAN49g__#00-12-00_00-15-00_label_A.npy\\n', 'C:\\\\Users\\\\pradh\\\\Downloads\\\\XDVioDet-master\\\\XDVioDet-master\\\\tratrain\\\\v=yZ2wlTAN49g__#00-15-00_00-18-00_label_A.npy\\n', 'C:\\\\Users\\\\pradh\\\\Downloads\\\\XDVioDet-master\\\\XDVioDet-master\\\\tratrain\\\\v=yZ2wlTAN49g__#00-18-00_00-21-07_label_A.npy\\n', 'C:\\\\Users\\\\pradh\\\\Downloads\\\\XDVioDet-master\\\\XDVioDet-master\\\\tratrain\\\\v=ycA-QD9IOpE__#1_label_A.npy\\n', 'C:\\\\Users\\\\pradh\\\\Downloads\\\\XDVioDet-master\\\\XDVioDet-master\\\\tratrain\\\\v=yhv3bjNJb9Q__#1_label_A.npy\\n', 'C:\\\\Users\\\\pradh\\\\Downloads\\\\XDVioDet-master\\\\XDVioDet-master\\\\tratrain\\\\v=ymoIv96o8JU__#1_label_A.npy\\n', 'C:\\\\Users\\\\pradh\\\\Downloads\\\\XDVioDet-master\\\\XDVioDet-master\\\\tratrain\\\\v=yoRRwQne5O0__#1_label_A.npy\\n', 'C:\\\\Users\\\\pradh\\\\Downloads\\\\XDVioDet-master\\\\XDVioDet-master\\\\tratrain\\\\v=yrOmzQ1DXp8__#1_label_A.npy\\n', 'C:\\\\Users\\\\pradh\\\\Downloads\\\\XDVioDet-master\\\\XDVioDet-master\\\\tratrain\\\\v=z7kvjp7NAdo__#1_label_A.npy\\n', 'C:\\\\Users\\\\pradh\\\\Downloads\\\\XDVioDet-master\\\\XDVioDet-master\\\\tratrain\\\\v=zK2uHh96pFU__#1_label_A.npy\\n', 'C:\\\\Users\\\\pradh\\\\Downloads\\\\XDVioDet-master\\\\XDVioDet-master\\\\tratrain\\\\v=zW0GpJ9-RTo__#1_label_A.npy\\n', 'C:\\\\Users\\\\pradh\\\\Downloads\\\\XDVioDet-master\\\\XDVioDet-master\\\\tratrain\\\\v=zdbumR6Bhd8__#1_label_A.npy\\n', 'C:\\\\Users\\\\pradh\\\\Downloads\\\\XDVioDet-master\\\\XDVioDet-master\\\\tratrain\\\\v=ziUW4DM40Qg__#1_label_A.npy\\n', 'C:\\\\Users\\\\pradh\\\\Downloads\\\\XDVioDet-master\\\\XDVioDet-master\\\\tratrain\\\\v=zsDwD8xQXqY__#1_label_A.npy\\n', 'C:\\\\Users\\\\pradh\\\\Downloads\\\\XDVioDet-master\\\\XDVioDet-master\\\\tratrain\\\\v=zsrE3rWOvSg__#1_label_A.npy\\n', 'C:\\\\Users\\\\pradh\\\\Downloads\\\\XDVioDet-master\\\\XDVioDet-master\\\\tratrain\\\\v=zwJEvhVNOC0__#1_label_A.npy\\n', 'C:\\\\Users\\\\pradh\\\\Downloads\\\\XDVioDet-master\\\\XDVioDet-master\\\\tratrain\\\\v=zzP5qr-ZxHY__#1_label_A.npy\\n', 'C:\\\\Users\\\\pradh\\\\Downloads\\\\XDVioDet-master\\\\XDVioDet-master\\\\tratrain\\\\wangted.2008__#0-01-10_0-01-59_label_A.npy\\n', 'C:\\\\Users\\\\pradh\\\\Downloads\\\\XDVioDet-master\\\\XDVioDet-master\\\\tratrain\\\\wangted.2008__#0-02-22_0-03-56_label_A.npy\\n', 'C:\\\\Users\\\\pradh\\\\Downloads\\\\XDVioDet-master\\\\XDVioDet-master\\\\tratrain\\\\wangted.2008__#0-07-05_0-08-59_label_A.npy\\n', 'C:\\\\Users\\\\pradh\\\\Downloads\\\\XDVioDet-master\\\\XDVioDet-master\\\\tratrain\\\\wangted.2008__#0-12-07_0-14-01_label_A.npy\\n', 'C:\\\\Users\\\\pradh\\\\Downloads\\\\XDVioDet-master\\\\XDVioDet-master\\\\tratrain\\\\wangted.2008__#0-22-01_0-22-31_label_A.npy\\n', 'C:\\\\Users\\\\pradh\\\\Downloads\\\\XDVioDet-master\\\\XDVioDet-master\\\\tratrain\\\\wangted.2008__#01-20-48_01-22-08_label_A.npy\\n', 'C:\\\\Users\\\\pradh\\\\Downloads\\\\XDVioDet-master\\\\XDVioDet-master\\\\tratrain\\\\wangted.2008__#01-23-38_01-24-25_label_A.npy\\n', 'C:\\\\Users\\\\pradh\\\\Downloads\\\\XDVioDet-master\\\\XDVioDet-master\\\\tratrain\\\\wangted.2008__#01-26-25_01-27-00_label_A.npy\\n']\n",
      "abnormal list for ucf\n",
      "['C:\\\\Users\\\\pradh\\\\Downloads\\\\XDVioDet-master\\\\XDVioDet-master\\\\tratrain\\\\Bad.Boys.1995__#00-26-51_00-27-53_label_B2-0-0.npy\\n', 'C:\\\\Users\\\\pradh\\\\Downloads\\\\XDVioDet-master\\\\XDVioDet-master\\\\tratrain\\\\Bad.Boys.1995__#00-38-16_00-38-50_label_B2-0-0.npy\\n', 'C:\\\\Users\\\\pradh\\\\Downloads\\\\XDVioDet-master\\\\XDVioDet-master\\\\tratrain\\\\Bad.Boys.1995__#00-39-10_00-39-42_label_B2-0-0.npy\\n', 'C:\\\\Users\\\\pradh\\\\Downloads\\\\XDVioDet-master\\\\XDVioDet-master\\\\tratrain\\\\Bad.Boys.1995__#01-07-01_01-08-13_label_B1-0-0.npy\\n', 'C:\\\\Users\\\\pradh\\\\Downloads\\\\XDVioDet-master\\\\XDVioDet-master\\\\tratrain\\\\Bad.Boys.1995__#01-21-35_01-22-25_label_B1-0-0.npy\\n', 'C:\\\\Users\\\\pradh\\\\Downloads\\\\XDVioDet-master\\\\XDVioDet-master\\\\tratrain\\\\Bad.Boys.1995__#01-44-40_01-49-20_label_B2-G-B6.npy\\n', 'C:\\\\Users\\\\pradh\\\\Downloads\\\\XDVioDet-master\\\\XDVioDet-master\\\\tratrain\\\\Bad.Boys.1995__#01-52-45_01-53-19_label_B2-0-0.npy\\n', 'C:\\\\Users\\\\pradh\\\\Downloads\\\\XDVioDet-master\\\\XDVioDet-master\\\\tratrain\\\\Bad.Boys.II.2003__#00-27-29_00-30-13_label_B6-B2-0.npy\\n', 'C:\\\\Users\\\\pradh\\\\Downloads\\\\XDVioDet-master\\\\XDVioDet-master\\\\tratrain\\\\Bad.Boys.II.2003__#00-30-16_00-36-53_label_B2-B6-G.npy\\n', 'C:\\\\Users\\\\pradh\\\\Downloads\\\\XDVioDet-master\\\\XDVioDet-master\\\\tratrain\\\\Bad.Boys.II.2003__#00-43-05_00-44-20_label_B2-0-0.npy\\n', 'C:\\\\Users\\\\pradh\\\\Downloads\\\\XDVioDet-master\\\\XDVioDet-master\\\\tratrain\\\\Bad.Boys.II.2003__#00-48-24_00-52-00_label_B2-0-0.npy\\n', 'C:\\\\Users\\\\pradh\\\\Downloads\\\\XDVioDet-master\\\\XDVioDet-master\\\\tratrain\\\\Bad.Boys.II.2003__#01-27-09_01-28-25_label_B2-B6-0.npy\\n', 'C:\\\\Users\\\\pradh\\\\Downloads\\\\XDVioDet-master\\\\XDVioDet-master\\\\tratrain\\\\Bad.Boys.II.2003__#01-29-04_01-30-03_label_B1-0-0.npy\\n', 'C:\\\\Users\\\\pradh\\\\Downloads\\\\XDVioDet-master\\\\XDVioDet-master\\\\tratrain\\\\Bad.Boys.II.2003__#02-07-07_02-12-05_label_B2-G-0.npy\\n', 'C:\\\\Users\\\\pradh\\\\Downloads\\\\XDVioDet-master\\\\XDVioDet-master\\\\tratrain\\\\Bad.Boys.II.2003__#02-13-42_02-15-02_label_B6-G-B2.npy\\n', 'C:\\\\Users\\\\pradh\\\\Downloads\\\\XDVioDet-master\\\\XDVioDet-master\\\\tratrain\\\\Bad.Boys.II.2003__#02-15-48_02-18-12_label_B2-G-0.npy\\n', 'C:\\\\Users\\\\pradh\\\\Downloads\\\\XDVioDet-master\\\\XDVioDet-master\\\\tratrain\\\\Black.Hawk.Down.2001__#00-02-54_00-04-27_label_B4-0-0.npy\\n', 'C:\\\\Users\\\\pradh\\\\Downloads\\\\XDVioDet-master\\\\XDVioDet-master\\\\tratrain\\\\Black.Hawk.Down.2001__#00-44-05_00-44-40_label_B2-0-0.npy\\n', 'C:\\\\Users\\\\pradh\\\\Downloads\\\\XDVioDet-master\\\\XDVioDet-master\\\\tratrain\\\\Black.Hawk.Down.2001__#00-47-30_00-47-58_label_G-0-0.npy\\n', 'C:\\\\Users\\\\pradh\\\\Downloads\\\\XDVioDet-master\\\\XDVioDet-master\\\\tratrain\\\\Black.Hawk.Down.2001__#00-47-58_00-48-58_label_B2-0-0.npy\\n', 'C:\\\\Users\\\\pradh\\\\Downloads\\\\XDVioDet-master\\\\XDVioDet-master\\\\tratrain\\\\Black.Hawk.Down.2001__#00-55-00_00-55-29_label_G-B2-0.npy\\n', 'C:\\\\Users\\\\pradh\\\\Downloads\\\\XDVioDet-master\\\\XDVioDet-master\\\\tratrain\\\\Black.Hawk.Down.2001__#00-59-10_01-00-01_label_B2-0-0.npy\\n', 'C:\\\\Users\\\\pradh\\\\Downloads\\\\XDVioDet-master\\\\XDVioDet-master\\\\tratrain\\\\Black.Hawk.Down.2001__#01-12-39_01-13-12_label_G-0-0.npy\\n', 'C:\\\\Users\\\\pradh\\\\Downloads\\\\XDVioDet-master\\\\XDVioDet-master\\\\tratrain\\\\Black.Hawk.Down.2001__#01-21-39_01-22-24_label_G-0-0.npy\\n', 'C:\\\\Users\\\\pradh\\\\Downloads\\\\XDVioDet-master\\\\XDVioDet-master\\\\tratrain\\\\Black.Hawk.Down.2001__#01-23-28_01-24-47_label_B4-0-0.npy\\n', 'C:\\\\Users\\\\pradh\\\\Downloads\\\\XDVioDet-master\\\\XDVioDet-master\\\\tratrain\\\\Black.Hawk.Down.2001__#01-49-18_01-49-50_label_G-0-0.npy\\n', 'C:\\\\Users\\\\pradh\\\\Downloads\\\\XDVioDet-master\\\\XDVioDet-master\\\\tratrain\\\\Black.Hawk.Down.2001__#01-51-26_01-51-50_label_G-0-0.npy\\n', 'C:\\\\Users\\\\pradh\\\\Downloads\\\\XDVioDet-master\\\\XDVioDet-master\\\\tratrain\\\\Black.Hawk.Down.2001__#02-04-08_02-04-28_label_G-0-0.npy\\n', 'C:\\\\Users\\\\pradh\\\\Downloads\\\\XDVioDet-master\\\\XDVioDet-master\\\\tratrain\\\\Braveheart.1995__#00-41-00_00-44-30_label_B5-B1-0.npy\\n', 'C:\\\\Users\\\\pradh\\\\Downloads\\\\XDVioDet-master\\\\XDVioDet-master\\\\tratrain\\\\Braveheart.1995__#00-49-00_00-52-55_label_B1-0-0.npy\\n', 'C:\\\\Users\\\\pradh\\\\Downloads\\\\XDVioDet-master\\\\XDVioDet-master\\\\tratrain\\\\Braveheart.1995__#00-58-01_01-00-01_label_B1-0-0.npy\\n', 'C:\\\\Users\\\\pradh\\\\Downloads\\\\XDVioDet-master\\\\XDVioDet-master\\\\tratrain\\\\Braveheart.1995__#01-23-50_01-25-30_label_B1-0-0.npy\\n', 'C:\\\\Users\\\\pradh\\\\Downloads\\\\XDVioDet-master\\\\XDVioDet-master\\\\tratrain\\\\Braveheart.1995__#01-38-50_01-39-49_label_B1-0-0.npy\\n', 'C:\\\\Users\\\\pradh\\\\Downloads\\\\XDVioDet-master\\\\XDVioDet-master\\\\tratrain\\\\Braveheart.1995__#02-01-31_02-04-10_label_B1-0-0.npy\\n', 'C:\\\\Users\\\\pradh\\\\Downloads\\\\XDVioDet-master\\\\XDVioDet-master\\\\tratrain\\\\Braveheart.1995__#02-04-30_02-05-30_label_B1-0-0.npy\\n', 'C:\\\\Users\\\\pradh\\\\Downloads\\\\XDVioDet-master\\\\XDVioDet-master\\\\tratrain\\\\Braveheart.1995__#02-14-41_02-16-20_label_B1-0-0.npy\\n', 'C:\\\\Users\\\\pradh\\\\Downloads\\\\XDVioDet-master\\\\XDVioDet-master\\\\tratrain\\\\Braveheart.1995__#02-19-30_02-20-55_label_B1-0-0.npy\\n', 'C:\\\\Users\\\\pradh\\\\Downloads\\\\XDVioDet-master\\\\XDVioDet-master\\\\tratrain\\\\Braveheart.1995__#02-28-15_02-29-59_label_B1-0-0.npy\\n', 'C:\\\\Users\\\\pradh\\\\Downloads\\\\XDVioDet-master\\\\XDVioDet-master\\\\tratrain\\\\Braveheart.1995__#02-43-01_02-46-50_label_B5-0-0.npy\\n', 'C:\\\\Users\\\\pradh\\\\Downloads\\\\XDVioDet-master\\\\XDVioDet-master\\\\tratrain\\\\Brick.Mansions.2014__#00-00-54_00-01-24_label_B4-0-0.npy\\n', 'C:\\\\Users\\\\pradh\\\\Downloads\\\\XDVioDet-master\\\\XDVioDet-master\\\\tratrain\\\\Brick.Mansions.2014__#00-03-40_00-03-55_label_B1-B2-0.npy\\n', 'C:\\\\Users\\\\pradh\\\\Downloads\\\\XDVioDet-master\\\\XDVioDet-master\\\\tratrain\\\\Brick.Mansions.2014__#00-04-52_00-05-38_label_B1-0-0.npy\\n', 'C:\\\\Users\\\\pradh\\\\Downloads\\\\XDVioDet-master\\\\XDVioDet-master\\\\tratrain\\\\Brick.Mansions.2014__#00-08-07_00-08-27_label_G-0-0.npy\\n', 'C:\\\\Users\\\\pradh\\\\Downloads\\\\XDVioDet-master\\\\XDVioDet-master\\\\tratrain\\\\Brick.Mansions.2014__#00-15-12_00-15-27_label_B2-0-0.npy\\n', 'C:\\\\Users\\\\pradh\\\\Downloads\\\\XDVioDet-master\\\\XDVioDet-master\\\\tratrain\\\\Brick.Mansions.2014__#00-16-02_00-16-26_label_B2-0-0.npy\\n', 'C:\\\\Users\\\\pradh\\\\Downloads\\\\XDVioDet-master\\\\XDVioDet-master\\\\tratrain\\\\Brick.Mansions.2014__#00-17-12_00-17-40_label_B2-0-0.npy\\n', 'C:\\\\Users\\\\pradh\\\\Downloads\\\\XDVioDet-master\\\\XDVioDet-master\\\\tratrain\\\\Brick.Mansions.2014__#00-18-00_00-18-49_label_B2-0-0.npy\\n', 'C:\\\\Users\\\\pradh\\\\Downloads\\\\XDVioDet-master\\\\XDVioDet-master\\\\tratrain\\\\Brick.Mansions.2014__#00-35-46_00-36-04_label_B1-0-0.npy\\n', 'C:\\\\Users\\\\pradh\\\\Downloads\\\\XDVioDet-master\\\\XDVioDet-master\\\\tratrain\\\\Brick.Mansions.2014__#00-37-48_00-38-48_label_B1-0-0.npy\\n', 'C:\\\\Users\\\\pradh\\\\Downloads\\\\XDVioDet-master\\\\XDVioDet-master\\\\tratrain\\\\Brick.Mansions.2014__#00-40-15_00-40-55_label_B6-0-0.npy\\n', 'C:\\\\Users\\\\pradh\\\\Downloads\\\\XDVioDet-master\\\\XDVioDet-master\\\\tratrain\\\\Brick.Mansions.2014__#00-44-28_00-44-46_label_B1-0-0.npy\\n', 'C:\\\\Users\\\\pradh\\\\Downloads\\\\XDVioDet-master\\\\XDVioDet-master\\\\tratrain\\\\Brick.Mansions.2014__#00-47-11_00-48-52_label_B1-0-0.npy\\n', 'C:\\\\Users\\\\pradh\\\\Downloads\\\\XDVioDet-master\\\\XDVioDet-master\\\\tratrain\\\\Brick.Mansions.2014__#00-58-05_00-58-57_label_B2-B1-0.npy\\n', 'C:\\\\Users\\\\pradh\\\\Downloads\\\\XDVioDet-master\\\\XDVioDet-master\\\\tratrain\\\\Brick.Mansions.2014__#00-59-15_00-59-39_label_B1-0-0.npy\\n', 'C:\\\\Users\\\\pradh\\\\Downloads\\\\XDVioDet-master\\\\XDVioDet-master\\\\tratrain\\\\Brick.Mansions.2014__#01-02-45_01-03-18_label_B1-0-0.npy\\n', 'C:\\\\Users\\\\pradh\\\\Downloads\\\\XDVioDet-master\\\\XDVioDet-master\\\\tratrain\\\\Brick.Mansions.2014__#01-09-47_01-11-55_label_B1-0-0.npy\\n', 'C:\\\\Users\\\\pradh\\\\Downloads\\\\XDVioDet-master\\\\XDVioDet-master\\\\tratrain\\\\Brick.Mansions.2014__#01-15-01_01-16-45_label_B1-0-0.npy\\n', 'C:\\\\Users\\\\pradh\\\\Downloads\\\\XDVioDet-master\\\\XDVioDet-master\\\\tratrain\\\\Brick.Mansions.2014__#01-18-33_01-19-39_label_B4-B1-0.npy\\n', 'C:\\\\Users\\\\pradh\\\\Downloads\\\\XDVioDet-master\\\\XDVioDet-master\\\\tratrain\\\\Bullet.in.the.Head.1990__#00-02-50_00-03-55_label_B1-0-0.npy\\n', 'C:\\\\Users\\\\pradh\\\\Downloads\\\\XDVioDet-master\\\\XDVioDet-master\\\\tratrain\\\\Bullet.in.the.Head.1990__#00-04-41_00-06-12_label_B1-0-0.npy\\n', 'C:\\\\Users\\\\pradh\\\\Downloads\\\\XDVioDet-master\\\\XDVioDet-master\\\\tratrain\\\\Bullet.in.the.Head.1990__#00-10-30_00-11-45_label_B1-0-0.npy\\n', 'C:\\\\Users\\\\pradh\\\\Downloads\\\\XDVioDet-master\\\\XDVioDet-master\\\\tratrain\\\\Bullet.in.the.Head.1990__#00-21-30_00-23-30_label_B4-B1-G.npy\\n', 'C:\\\\Users\\\\pradh\\\\Downloads\\\\XDVioDet-master\\\\XDVioDet-master\\\\tratrain\\\\Bullet.in.the.Head.1990__#00-26-20_00-28-45_label_G-B2-0.npy\\n', 'C:\\\\Users\\\\pradh\\\\Downloads\\\\XDVioDet-master\\\\XDVioDet-master\\\\tratrain\\\\Bullet.in.the.Head.1990__#00-28-50_00-31-20_label_B4-B2-B1.npy\\n', 'C:\\\\Users\\\\pradh\\\\Downloads\\\\XDVioDet-master\\\\XDVioDet-master\\\\tratrain\\\\Bullet.in.the.Head.1990__#00-36-00_00-37-14_label_B2-0-0.npy\\n', 'C:\\\\Users\\\\pradh\\\\Downloads\\\\XDVioDet-master\\\\XDVioDet-master\\\\tratrain\\\\Bullet.in.the.Head.1990__#00-39-01_00-41-00_label_B2-0-0.npy\\n', 'C:\\\\Users\\\\pradh\\\\Downloads\\\\XDVioDet-master\\\\XDVioDet-master\\\\tratrain\\\\Bullet.in.the.Head.1990__#00-45-00_00-46-20_label_B2-B1-0.npy\\n', 'C:\\\\Users\\\\pradh\\\\Downloads\\\\XDVioDet-master\\\\XDVioDet-master\\\\tratrain\\\\Bullet.in.the.Head.1990__#00-52-55_00-54-30_label_B1-B2-G.npy\\n', 'C:\\\\Users\\\\pradh\\\\Downloads\\\\XDVioDet-master\\\\XDVioDet-master\\\\tratrain\\\\Bullet.in.the.Head.1990__#00-54-31_00-56-50_label_B2-B5-G.npy\\n', 'C:\\\\Users\\\\pradh\\\\Downloads\\\\XDVioDet-master\\\\XDVioDet-master\\\\tratrain\\\\Bullet.in.the.Head.1990__#00-57-53_01-00-57_label_G-B2-0.npy\\n', 'C:\\\\Users\\\\pradh\\\\Downloads\\\\XDVioDet-master\\\\XDVioDet-master\\\\tratrain\\\\Bullet.in.the.Head.1990__#01-01-11_01-04-01_label_G-B2-0.npy\\n', 'C:\\\\Users\\\\pradh\\\\Downloads\\\\XDVioDet-master\\\\XDVioDet-master\\\\tratrain\\\\Bullet.in.the.Head.1990__#01-07-01_01-10-00_label_B2-G-0.npy\\n', 'C:\\\\Users\\\\pradh\\\\Downloads\\\\XDVioDet-master\\\\XDVioDet-master\\\\tratrain\\\\Bullet.in.the.Head.1990__#01-13-41_01-16-02_label_B2-G-0.npy\\n', 'C:\\\\Users\\\\pradh\\\\Downloads\\\\XDVioDet-master\\\\XDVioDet-master\\\\tratrain\\\\Bullet.in.the.Head.1990__#01-16-04_01-17-30_label_B2-G-0.npy\\n', 'C:\\\\Users\\\\pradh\\\\Downloads\\\\XDVioDet-master\\\\XDVioDet-master\\\\tratrain\\\\Bullet.in.the.Head.1990__#01-19-10_01-21-30_label_B2-B5-0.npy\\n', 'C:\\\\Users\\\\pradh\\\\Downloads\\\\XDVioDet-master\\\\XDVioDet-master\\\\tratrain\\\\Bullet.in.the.Head.1990__#01-21-37_01-25-26_label_B2-0-0.npy\\n', 'C:\\\\Users\\\\pradh\\\\Downloads\\\\XDVioDet-master\\\\XDVioDet-master\\\\tratrain\\\\Bullet.in.the.Head.1990__#01-28-30_01-33-00_label_B2-G-0.npy\\n', 'C:\\\\Users\\\\pradh\\\\Downloads\\\\XDVioDet-master\\\\XDVioDet-master\\\\tratrain\\\\Bullet.in.the.Head.1990__#01-33-02_01-35-40_label_B2-G-0.npy\\n', 'C:\\\\Users\\\\pradh\\\\Downloads\\\\XDVioDet-master\\\\XDVioDet-master\\\\tratrain\\\\Bullet.in.the.Head.1990__#01-36-00_01-38-33_label_B2-G-0.npy\\n', 'C:\\\\Users\\\\pradh\\\\Downloads\\\\XDVioDet-master\\\\XDVioDet-master\\\\tratrain\\\\Bullet.in.the.Head.1990__#01-42-30_01-43-30_label_B2-0-0.npy\\n', 'C:\\\\Users\\\\pradh\\\\Downloads\\\\XDVioDet-master\\\\XDVioDet-master\\\\tratrain\\\\Bullet.in.the.Head.1990__#01-46-45_01-47-50_label_B5-B2-0.npy\\n', 'C:\\\\Users\\\\pradh\\\\Downloads\\\\XDVioDet-master\\\\XDVioDet-master\\\\tratrain\\\\Bullet.in.the.Head.1990__#01-52-56_01-54-05_label_G-B2-0.npy\\n', 'C:\\\\Users\\\\pradh\\\\Downloads\\\\XDVioDet-master\\\\XDVioDet-master\\\\tratrain\\\\Bullet.in.the.Head.1990__#01-59-31_02-01-50_label_B6-B2-G.npy\\n', 'C:\\\\Users\\\\pradh\\\\Downloads\\\\XDVioDet-master\\\\XDVioDet-master\\\\tratrain\\\\Bullet.in.the.Head.1990__#02-05-23_02-06-45_label_G-B2-0.npy\\n', 'C:\\\\Users\\\\pradh\\\\Downloads\\\\XDVioDet-master\\\\XDVioDet-master\\\\tratrain\\\\Bullet.in.the.Head.1990__#02-06-50_02-09-20_label_B2-0-0.npy\\n', 'C:\\\\Users\\\\pradh\\\\Downloads\\\\XDVioDet-master\\\\XDVioDet-master\\\\tratrain\\\\Casino.Royale.2006__#00-01-52_00-02-13_label_B1-0-0.npy\\n', 'C:\\\\Users\\\\pradh\\\\Downloads\\\\XDVioDet-master\\\\XDVioDet-master\\\\tratrain\\\\Casino.Royale.2006__#00-02-13_00-03-13_label_B1-B2-0.npy\\n', 'C:\\\\Users\\\\pradh\\\\Downloads\\\\XDVioDet-master\\\\XDVioDet-master\\\\tratrain\\\\Casino.Royale.2006__#00-11-35_00-12-05_label_B2-B6-0.npy\\n', 'C:\\\\Users\\\\pradh\\\\Downloads\\\\XDVioDet-master\\\\XDVioDet-master\\\\tratrain\\\\Casino.Royale.2006__#00-12-26_00-12-36_label_G-0-0.npy\\n', 'C:\\\\Users\\\\pradh\\\\Downloads\\\\XDVioDet-master\\\\XDVioDet-master\\\\tratrain\\\\Casino.Royale.2006__#00-12-36_00-12-46_label_B2-0-0.npy\\n', 'C:\\\\Users\\\\pradh\\\\Downloads\\\\XDVioDet-master\\\\XDVioDet-master\\\\tratrain\\\\Casino.Royale.2006__#00-13-56_00-14-44_label_B1-0-0.npy\\n', 'C:\\\\Users\\\\pradh\\\\Downloads\\\\XDVioDet-master\\\\XDVioDet-master\\\\tratrain\\\\Casino.Royale.2006__#00-16-55_00-18-30_label_B1-B2-0.npy\\n', 'C:\\\\Users\\\\pradh\\\\Downloads\\\\XDVioDet-master\\\\XDVioDet-master\\\\tratrain\\\\Casino.Royale.2006__#00-49-40_00-50-05_label_B6-G-0.npy\\n', 'C:\\\\Users\\\\pradh\\\\Downloads\\\\XDVioDet-master\\\\XDVioDet-master\\\\tratrain\\\\Casino.Royale.2006__#01-19-46_01-21-46_label_B1-B2-0.npy\\n', 'C:\\\\Users\\\\pradh\\\\Downloads\\\\XDVioDet-master\\\\XDVioDet-master\\\\tratrain\\\\Casino.Royale.2006__#02-09-05_02-09-47_label_B2-0-0.npy\\n', 'C:\\\\Users\\\\pradh\\\\Downloads\\\\XDVioDet-master\\\\XDVioDet-master\\\\tratrain\\\\Casino.Royale.2006__#02-10-15_02-14-15_label_B2-B1-0.npy\\n', 'C:\\\\Users\\\\pradh\\\\Downloads\\\\XDVioDet-master\\\\XDVioDet-master\\\\tratrain\\\\City.Of.Men.2007__#00-11-30_00-12-02_label_B1-0-0.npy\\n', 'C:\\\\Users\\\\pradh\\\\Downloads\\\\XDVioDet-master\\\\XDVioDet-master\\\\tratrain\\\\City.Of.Men.2007__#00-24-29_00-25-30_label_B1-0-0.npy\\n', 'C:\\\\Users\\\\pradh\\\\Downloads\\\\XDVioDet-master\\\\XDVioDet-master\\\\tratrain\\\\City.Of.Men.2007__#00-53-50_00-54-30_label_B2-0-0.npy\\n', 'C:\\\\Users\\\\pradh\\\\Downloads\\\\XDVioDet-master\\\\XDVioDet-master\\\\tratrain\\\\City.Of.Men.2007__#01-09-40_01-10-20_label_B2-0-0.npy\\n', 'C:\\\\Users\\\\pradh\\\\Downloads\\\\XDVioDet-master\\\\XDVioDet-master\\\\tratrain\\\\City.Of.Men.2007__#01-30-15_01-31-37_label_B2-B6-0.npy\\n', 'C:\\\\Users\\\\pradh\\\\Downloads\\\\XDVioDet-master\\\\XDVioDet-master\\\\tratrain\\\\City.Of.Men.2007__#01-34-30_01-35-11_label_B2-0-0.npy\\n', 'C:\\\\Users\\\\pradh\\\\Downloads\\\\XDVioDet-master\\\\XDVioDet-master\\\\tratrain\\\\City.of.God.2002__#00-02-50_00-03-25_label_B2-0-0.npy\\n', 'C:\\\\Users\\\\pradh\\\\Downloads\\\\XDVioDet-master\\\\XDVioDet-master\\\\tratrain\\\\City.of.God.2002__#00-06-10_00-07-01_label_B1-0-0.npy\\n', 'C:\\\\Users\\\\pradh\\\\Downloads\\\\XDVioDet-master\\\\XDVioDet-master\\\\tratrain\\\\City.of.God.2002__#00-19-34_00-20-05_label_B2-B5-0.npy\\n', 'C:\\\\Users\\\\pradh\\\\Downloads\\\\XDVioDet-master\\\\XDVioDet-master\\\\tratrain\\\\City.of.God.2002__#00-27-11_00-28-05_label_B5-0-0.npy\\n', 'C:\\\\Users\\\\pradh\\\\Downloads\\\\XDVioDet-master\\\\XDVioDet-master\\\\tratrain\\\\City.of.God.2002__#00-31-35_00-32-30_label_B2-0-0.npy\\n', 'C:\\\\Users\\\\pradh\\\\Downloads\\\\XDVioDet-master\\\\XDVioDet-master\\\\tratrain\\\\City.of.God.2002__#00-38-48_00-39-30_label_B2-0-0.npy\\n', 'C:\\\\Users\\\\pradh\\\\Downloads\\\\XDVioDet-master\\\\XDVioDet-master\\\\tratrain\\\\City.of.God.2002__#00-42-00_00-43-02_label_B2-0-0.npy\\n', 'C:\\\\Users\\\\pradh\\\\Downloads\\\\XDVioDet-master\\\\XDVioDet-master\\\\tratrain\\\\City.of.God.2002__#00-45-31_00-47-11_label_B2-0-0.npy\\n', 'C:\\\\Users\\\\pradh\\\\Downloads\\\\XDVioDet-master\\\\XDVioDet-master\\\\tratrain\\\\City.of.God.2002__#00-54-17_00-55-05_label_B2-0-0.npy\\n', 'C:\\\\Users\\\\pradh\\\\Downloads\\\\XDVioDet-master\\\\XDVioDet-master\\\\tratrain\\\\City.of.God.2002__#00-59-55_01-02-35_label_B5-B2-0.npy\\n', 'C:\\\\Users\\\\pradh\\\\Downloads\\\\XDVioDet-master\\\\XDVioDet-master\\\\tratrain\\\\City.of.God.2002__#01-09-11_01-10-35_label_B5-0-0.npy\\n', 'C:\\\\Users\\\\pradh\\\\Downloads\\\\XDVioDet-master\\\\XDVioDet-master\\\\tratrain\\\\City.of.God.2002__#01-23-10_01-24-00_label_B1-0-0.npy\\n', 'C:\\\\Users\\\\pradh\\\\Downloads\\\\XDVioDet-master\\\\XDVioDet-master\\\\tratrain\\\\City.of.God.2002__#01-26-21_01-27-25_label_B2-0-0.npy\\n', 'C:\\\\Users\\\\pradh\\\\Downloads\\\\XDVioDet-master\\\\XDVioDet-master\\\\tratrain\\\\City.of.God.2002__#01-32-31_01-33-11_label_B2-0-0.npy\\n', 'C:\\\\Users\\\\pradh\\\\Downloads\\\\XDVioDet-master\\\\XDVioDet-master\\\\tratrain\\\\City.of.God.2002__#01-33-30_01-34-50_label_B2-0-0.npy\\n', 'C:\\\\Users\\\\pradh\\\\Downloads\\\\XDVioDet-master\\\\XDVioDet-master\\\\tratrain\\\\City.of.God.2002__#01-35-27_01-36-12_label_B2-0-0.npy\\n', 'C:\\\\Users\\\\pradh\\\\Downloads\\\\XDVioDet-master\\\\XDVioDet-master\\\\tratrain\\\\City.of.God.2002__#01-37-13_01-38-30_label_G-B2-0.npy\\n', 'C:\\\\Users\\\\pradh\\\\Downloads\\\\XDVioDet-master\\\\XDVioDet-master\\\\tratrain\\\\City.of.God.2002__#01-38-31_01-39-00_label_B2-0-0.npy\\n', 'C:\\\\Users\\\\pradh\\\\Downloads\\\\XDVioDet-master\\\\XDVioDet-master\\\\tratrain\\\\City.of.God.2002__#01-54-15_01-56-20_label_B2-B6-0.npy\\n', 'C:\\\\Users\\\\pradh\\\\Downloads\\\\XDVioDet-master\\\\XDVioDet-master\\\\tratrain\\\\City.of.God.2002__#01-56-21_01-57-30_label_B2-0-0.npy\\n', 'C:\\\\Users\\\\pradh\\\\Downloads\\\\XDVioDet-master\\\\XDVioDet-master\\\\tratrain\\\\City.of.God.2002__#02-00-11_02-01-40_label_B2-0-0.npy\\n', 'C:\\\\Users\\\\pradh\\\\Downloads\\\\XDVioDet-master\\\\XDVioDet-master\\\\tratrain\\\\Crank.Dircut.2006__#0-29-02_0-29-32_label_B2-0-0.npy\\n', 'C:\\\\Users\\\\pradh\\\\Downloads\\\\XDVioDet-master\\\\XDVioDet-master\\\\tratrain\\\\Crank.Dircut.2006__#0-41-11_0-42-10_label_B6-0-0.npy\\n', 'C:\\\\Users\\\\pradh\\\\Downloads\\\\XDVioDet-master\\\\XDVioDet-master\\\\tratrain\\\\Crank.Dircut.2006__#01-01-10_01-02-01_label_B2-0-0.npy\\n', 'C:\\\\Users\\\\pradh\\\\Downloads\\\\XDVioDet-master\\\\XDVioDet-master\\\\tratrain\\\\Crank.Dircut.2006__#01-02-04_01-02-32_label_B2-0-0.npy\\n', 'C:\\\\Users\\\\pradh\\\\Downloads\\\\XDVioDet-master\\\\XDVioDet-master\\\\tratrain\\\\Crank.Dircut.2006__#01-03-52_01-04-23_label_B2-0-0.npy\\n', 'C:\\\\Users\\\\pradh\\\\Downloads\\\\XDVioDet-master\\\\XDVioDet-master\\\\tratrain\\\\Crank.Dircut.2006__#01-04-45_01-05-36_label_B2-0-0.npy\\n', 'C:\\\\Users\\\\pradh\\\\Downloads\\\\XDVioDet-master\\\\XDVioDet-master\\\\tratrain\\\\Crank.Dircut.2006__#01-06-54_01-07-05_label_B6-B2-0.npy\\n', 'C:\\\\Users\\\\pradh\\\\Downloads\\\\XDVioDet-master\\\\XDVioDet-master\\\\tratrain\\\\Crank.Dircut.2006__#01-20-35_01-23-33_label_B2-0-0.npy\\n', 'C:\\\\Users\\\\pradh\\\\Downloads\\\\XDVioDet-master\\\\XDVioDet-master\\\\tratrain\\\\Deadpool.2.2018__#0-01-55_0-02-34_label_G-0-0.npy\\n', 'C:\\\\Users\\\\pradh\\\\Downloads\\\\XDVioDet-master\\\\XDVioDet-master\\\\tratrain\\\\Deadpool.2.2018__#0-03-38_0-03-50_label_B2-0-0.npy\\n', 'C:\\\\Users\\\\pradh\\\\Downloads\\\\XDVioDet-master\\\\XDVioDet-master\\\\tratrain\\\\Deadpool.2.2018__#0-04-03_0-04-45_label_B1-B2-0.npy\\n', 'C:\\\\Users\\\\pradh\\\\Downloads\\\\XDVioDet-master\\\\XDVioDet-master\\\\tratrain\\\\Deadpool.2.2018__#0-05-27_0-07-58_label_B1-B2-0.npy\\n', 'C:\\\\Users\\\\pradh\\\\Downloads\\\\XDVioDet-master\\\\XDVioDet-master\\\\tratrain\\\\Deadpool.2.2018__#0-14-23_0-16-20_label_B1-B2-0.npy\\n', 'C:\\\\Users\\\\pradh\\\\Downloads\\\\XDVioDet-master\\\\XDVioDet-master\\\\tratrain\\\\Deadpool.2.2018__#0-52-40_0-53-06_label_G-0-0.npy\\n', 'C:\\\\Users\\\\pradh\\\\Downloads\\\\XDVioDet-master\\\\XDVioDet-master\\\\tratrain\\\\Deadpool.2.2018__#0-55-12_0-56-27_label_B1-B2-0.npy\\n', 'C:\\\\Users\\\\pradh\\\\Downloads\\\\XDVioDet-master\\\\XDVioDet-master\\\\tratrain\\\\Deadpool.2.2018__#0-57-55_0-59-15_label_B1-0-0.npy\\n', 'C:\\\\Users\\\\pradh\\\\Downloads\\\\XDVioDet-master\\\\XDVioDet-master\\\\tratrain\\\\Deadpool.2.2018__#0-59-16_0-59-23_label_G-0-0.npy\\n', 'C:\\\\Users\\\\pradh\\\\Downloads\\\\XDVioDet-master\\\\XDVioDet-master\\\\tratrain\\\\Deadpool.2.2018__#01-15-32_01-15-58_label_B6-G-0.npy\\n', 'C:\\\\Users\\\\pradh\\\\Downloads\\\\XDVioDet-master\\\\XDVioDet-master\\\\tratrain\\\\Deadpool.2.2018__#01-16-32_01-16-51_label_G-B6-0.npy\\n', 'C:\\\\Users\\\\pradh\\\\Downloads\\\\XDVioDet-master\\\\XDVioDet-master\\\\tratrain\\\\Deadpool.2.2018__#01-37-54_01-38-07_label_G-0-0.npy\\n', 'C:\\\\Users\\\\pradh\\\\Downloads\\\\XDVioDet-master\\\\XDVioDet-master\\\\tratrain\\\\Deadpool.2.2018__#01-42-58_01-43-15_label_B1-0-0.npy\\n', 'C:\\\\Users\\\\pradh\\\\Downloads\\\\XDVioDet-master\\\\XDVioDet-master\\\\tratrain\\\\Deadpool.2016__#0-06-50_0-08-49_label_B1-B2-B6.npy\\n', 'C:\\\\Users\\\\pradh\\\\Downloads\\\\XDVioDet-master\\\\XDVioDet-master\\\\tratrain\\\\Deadpool.2016__#0-08-50_0-09-11_label_B6-0-0.npy\\n', 'C:\\\\Users\\\\pradh\\\\Downloads\\\\XDVioDet-master\\\\XDVioDet-master\\\\tratrain\\\\Deadpool.2016__#0-10-14_0-12-16_label_B2-0-0.npy\\n', 'C:\\\\Users\\\\pradh\\\\Downloads\\\\XDVioDet-master\\\\XDVioDet-master\\\\tratrain\\\\Deadpool.2016__#0-12-18_0-12-28_label_G-0-0.npy\\n', 'C:\\\\Users\\\\pradh\\\\Downloads\\\\XDVioDet-master\\\\XDVioDet-master\\\\tratrain\\\\Deadpool.2016__#0-13-36_0-14-22_label_B1-0-0.npy\\n', 'C:\\\\Users\\\\pradh\\\\Downloads\\\\XDVioDet-master\\\\XDVioDet-master\\\\tratrain\\\\Deadpool.2016__#0-28-34_0-29-54_label_B1-0-0.npy\\n', 'C:\\\\Users\\\\pradh\\\\Downloads\\\\XDVioDet-master\\\\XDVioDet-master\\\\tratrain\\\\Deadpool.2016__#0-52-22_0-53-30_label_G-0-0.npy\\n', 'C:\\\\Users\\\\pradh\\\\Downloads\\\\XDVioDet-master\\\\XDVioDet-master\\\\tratrain\\\\Deadpool.2016__#0-53-31_0-55-31_label_B1-0-0.npy\\n', 'C:\\\\Users\\\\pradh\\\\Downloads\\\\XDVioDet-master\\\\XDVioDet-master\\\\tratrain\\\\Deadpool.2016__#01-00-11_01-00-24_label_B1-0-0.npy\\n', 'C:\\\\Users\\\\pradh\\\\Downloads\\\\XDVioDet-master\\\\XDVioDet-master\\\\tratrain\\\\Deadpool.2016__#01-00-24_01-00-35_label_B2-0-0.npy\\n', 'C:\\\\Users\\\\pradh\\\\Downloads\\\\XDVioDet-master\\\\XDVioDet-master\\\\tratrain\\\\Deadpool.2016__#01-01-24_01-01-39_label_B2-B1-0.npy\\n', 'C:\\\\Users\\\\pradh\\\\Downloads\\\\XDVioDet-master\\\\XDVioDet-master\\\\tratrain\\\\Deadpool.2016__#01-01-44_01-01-54_label_B1-0-0.npy\\n', 'C:\\\\Users\\\\pradh\\\\Downloads\\\\XDVioDet-master\\\\XDVioDet-master\\\\tratrain\\\\Deadpool.2016__#01-02-43_01-03-01_label_B1-B2-0.npy\\n', 'C:\\\\Users\\\\pradh\\\\Downloads\\\\XDVioDet-master\\\\XDVioDet-master\\\\tratrain\\\\Deadpool.2016__#01-22-32_01-22-41_label_B2-0-0.npy\\n', 'C:\\\\Users\\\\pradh\\\\Downloads\\\\XDVioDet-master\\\\XDVioDet-master\\\\tratrain\\\\Deadpool.2016__#01-24-30_01-24-40_label_B1-B2-0.npy\\n', 'C:\\\\Users\\\\pradh\\\\Downloads\\\\XDVioDet-master\\\\XDVioDet-master\\\\tratrain\\\\Deadpool.2016__#01-27-52_01-28-33_label_B1-0-0.npy\\n', 'C:\\\\Users\\\\pradh\\\\Downloads\\\\XDVioDet-master\\\\XDVioDet-master\\\\tratrain\\\\Deadpool.2016__#01-28-50_01-29-52_label_B1-0-0.npy\\n', 'C:\\\\Users\\\\pradh\\\\Downloads\\\\XDVioDet-master\\\\XDVioDet-master\\\\tratrain\\\\Deadpool.2016__#01-33-21_01-34-25_label_B1-0-0.npy\\n', 'C:\\\\Users\\\\pradh\\\\Downloads\\\\XDVioDet-master\\\\XDVioDet-master\\\\tratrain\\\\Death.Proof.2007__#00-50-18_00-51-44_label_B6-0-0.npy\\n', 'C:\\\\Users\\\\pradh\\\\Downloads\\\\XDVioDet-master\\\\XDVioDet-master\\\\tratrain\\\\Death.Proof.2007__#01-32-22_01-37-50_label_B6-0-0.npy\\n', 'C:\\\\Users\\\\pradh\\\\Downloads\\\\XDVioDet-master\\\\XDVioDet-master\\\\tratrain\\\\Death.Proof.2007__#01-38-04_01-38-25_label_B2-0-0.npy\\n', 'C:\\\\Users\\\\pradh\\\\Downloads\\\\XDVioDet-master\\\\XDVioDet-master\\\\tratrain\\\\Death.Proof.2007__#01-42-24_01-48-28_label_B6-0-0.npy\\n', 'C:\\\\Users\\\\pradh\\\\Downloads\\\\XDVioDet-master\\\\XDVioDet-master\\\\tratrain\\\\Death.Proof.2007__#01-48-30_01-49-26_label_B5-0-0.npy\\n', 'C:\\\\Users\\\\pradh\\\\Downloads\\\\XDVioDet-master\\\\XDVioDet-master\\\\tratrain\\\\Desperado.1995__#00-04-53_00-07-53_label_B1-B2-0.npy\\n', 'C:\\\\Users\\\\pradh\\\\Downloads\\\\XDVioDet-master\\\\XDVioDet-master\\\\tratrain\\\\Desperado.1995__#00-27-45_00-28-07_label_B2-0-0.npy\\n', 'C:\\\\Users\\\\pradh\\\\Downloads\\\\XDVioDet-master\\\\XDVioDet-master\\\\tratrain\\\\Desperado.1995__#00-31-12_00-37-04_label_B1-B2-0.npy\\n', 'C:\\\\Users\\\\pradh\\\\Downloads\\\\XDVioDet-master\\\\XDVioDet-master\\\\tratrain\\\\Desperado.1995__#00-38-05_00-38-30_label_B6-0-0.npy\\n', 'C:\\\\Users\\\\pradh\\\\Downloads\\\\XDVioDet-master\\\\XDVioDet-master\\\\tratrain\\\\Desperado.1995__#00-54-16_00-56-20_label_B1-B2-0.npy\\n', 'C:\\\\Users\\\\pradh\\\\Downloads\\\\XDVioDet-master\\\\XDVioDet-master\\\\tratrain\\\\Desperado.1995__#01-20-31_01-21-27_label_B2-0-0.npy\\n', 'C:\\\\Users\\\\pradh\\\\Downloads\\\\XDVioDet-master\\\\XDVioDet-master\\\\tratrain\\\\Desperado.1995__#01-27-37_01-31-55_label_B2-G-0.npy\\n', 'C:\\\\Users\\\\pradh\\\\Downloads\\\\XDVioDet-master\\\\XDVioDet-master\\\\tratrain\\\\Election.2005__#00-28-03_00-29-17_label_B1-0-0.npy\\n', 'C:\\\\Users\\\\pradh\\\\Downloads\\\\XDVioDet-master\\\\XDVioDet-master\\\\tratrain\\\\Election.2005__#00-58-42_01-01-10_label_B1-B5-0.npy\\n', 'C:\\\\Users\\\\pradh\\\\Downloads\\\\XDVioDet-master\\\\XDVioDet-master\\\\tratrain\\\\Election.2005__#01-08-01_01-09-04_label_B1-0-0.npy\\n', 'C:\\\\Users\\\\pradh\\\\Downloads\\\\XDVioDet-master\\\\XDVioDet-master\\\\tratrain\\\\Election.2005__#01-24-22_01-25-44_label_B5-0-0.npy\\n', 'C:\\\\Users\\\\pradh\\\\Downloads\\\\XDVioDet-master\\\\XDVioDet-master\\\\tratrain\\\\Election.2005__#01-30-35_01-34-07_label_B5-0-0.npy\\n', 'C:\\\\Users\\\\pradh\\\\Downloads\\\\XDVioDet-master\\\\XDVioDet-master\\\\tratrain\\\\Fast.Five.2011__#00-16-27_00-16-40_label_G-0-0.npy\\n', 'C:\\\\Users\\\\pradh\\\\Downloads\\\\XDVioDet-master\\\\XDVioDet-master\\\\tratrain\\\\Fast.Five.2011__#00-30-33_00-31-13_label_B2-0-0.npy\\n', 'C:\\\\Users\\\\pradh\\\\Downloads\\\\XDVioDet-master\\\\XDVioDet-master\\\\tratrain\\\\Fast.Five.2011__#00-31-50_00-32-05_label_B1-0-0.npy\\n', 'C:\\\\Users\\\\pradh\\\\Downloads\\\\XDVioDet-master\\\\XDVioDet-master\\\\tratrain\\\\Fast.Five.2011__#00-32-24_00-32-39_label_B1-B2-0.npy\\n', 'C:\\\\Users\\\\pradh\\\\Downloads\\\\XDVioDet-master\\\\XDVioDet-master\\\\tratrain\\\\Fast.Five.2011__#00-49-45_00-49-58_label_B1-0-0.npy\\n', 'C:\\\\Users\\\\pradh\\\\Downloads\\\\XDVioDet-master\\\\XDVioDet-master\\\\tratrain\\\\Fast.Five.2011__#01-00-48_01-00-58_label_G-0-0.npy\\n', 'C:\\\\Users\\\\pradh\\\\Downloads\\\\XDVioDet-master\\\\XDVioDet-master\\\\tratrain\\\\Fast.Five.2011__#01-32-48_01-33-22_label_B2-G-B6.npy\\n', 'C:\\\\Users\\\\pradh\\\\Downloads\\\\XDVioDet-master\\\\XDVioDet-master\\\\tratrain\\\\Fast.Five.2011__#01-33-25_01-34-41_label_B2-G-0.npy\\n', 'C:\\\\Users\\\\pradh\\\\Downloads\\\\XDVioDet-master\\\\XDVioDet-master\\\\tratrain\\\\Fast.Five.2011__#01-34-41_01-35-12_label_B2-0-0.npy\\n', 'C:\\\\Users\\\\pradh\\\\Downloads\\\\XDVioDet-master\\\\XDVioDet-master\\\\tratrain\\\\Fast.Five.2011__#01-40-08_01-40-22_label_B2-0-0.npy\\n', 'C:\\\\Users\\\\pradh\\\\Downloads\\\\XDVioDet-master\\\\XDVioDet-master\\\\tratrain\\\\Fast.Five.2011__#01-46-22_01-46-30_label_B6-0-0.npy\\n', 'C:\\\\Users\\\\pradh\\\\Downloads\\\\XDVioDet-master\\\\XDVioDet-master\\\\tratrain\\\\Fast.Five.2011__#01-47-02_01-47-34_label_B6-B2-0.npy\\n', 'C:\\\\Users\\\\pradh\\\\Downloads\\\\XDVioDet-master\\\\XDVioDet-master\\\\tratrain\\\\Fast.Five.2011__#01-50-02_01-50-38_label_B6-0-0.npy\\n', 'C:\\\\Users\\\\pradh\\\\Downloads\\\\XDVioDet-master\\\\XDVioDet-master\\\\tratrain\\\\Fast.Five.2011__#01-50-50_01-51-37_label_B2-B6-0.npy\\n', 'C:\\\\Users\\\\pradh\\\\Downloads\\\\XDVioDet-master\\\\XDVioDet-master\\\\tratrain\\\\Fast.Five.2011__#01-51-50_01-52-04_label_B2-0-0.npy\\n', 'C:\\\\Users\\\\pradh\\\\Downloads\\\\XDVioDet-master\\\\XDVioDet-master\\\\tratrain\\\\Fast.Furious.2009__#00-06-33_00-07-30_label_G-B6-0.npy\\n', 'C:\\\\Users\\\\pradh\\\\Downloads\\\\XDVioDet-master\\\\XDVioDet-master\\\\tratrain\\\\Fast.Furious.2009__#00-13-50_00-14-04_label_B2-0-0.npy\\n', 'C:\\\\Users\\\\pradh\\\\Downloads\\\\XDVioDet-master\\\\XDVioDet-master\\\\tratrain\\\\Fast.Furious.2009__#00-29-26_00-30-14_label_B1-0-0.npy\\n', 'C:\\\\Users\\\\pradh\\\\Downloads\\\\XDVioDet-master\\\\XDVioDet-master\\\\tratrain\\\\Fast.Furious.2009__#01-03-26_01-04-10_label_G-B2-B1.npy\\n', 'C:\\\\Users\\\\pradh\\\\Downloads\\\\XDVioDet-master\\\\XDVioDet-master\\\\tratrain\\\\Fast.Furious.2009__#01-10-19_01-11-25_label_B1-0-0.npy\\n', 'C:\\\\Users\\\\pradh\\\\Downloads\\\\XDVioDet-master\\\\XDVioDet-master\\\\tratrain\\\\Fast.Furious.2009__#01-35-00_01-35-48_label_B2-B6-B1.npy\\n', 'C:\\\\Users\\\\pradh\\\\Downloads\\\\XDVioDet-master\\\\XDVioDet-master\\\\tratrain\\\\Fast.Furious.6.2013__#00-05-45_00-06-35_label_B1-0-0.npy\\n', 'C:\\\\Users\\\\pradh\\\\Downloads\\\\XDVioDet-master\\\\XDVioDet-master\\\\tratrain\\\\Fast.Furious.6.2013__#00-17-50_00-18-27_label_B2-0-0.npy\\n', 'C:\\\\Users\\\\pradh\\\\Downloads\\\\XDVioDet-master\\\\XDVioDet-master\\\\tratrain\\\\Fast.Furious.6.2013__#00-21-52_00-23-08_label_G-B2-0.npy\\n', 'C:\\\\Users\\\\pradh\\\\Downloads\\\\XDVioDet-master\\\\XDVioDet-master\\\\tratrain\\\\Fast.Furious.6.2013__#00-23-40_00-24-31_label_B6-B2-0.npy\\n', 'C:\\\\Users\\\\pradh\\\\Downloads\\\\XDVioDet-master\\\\XDVioDet-master\\\\tratrain\\\\Fast.Furious.6.2013__#00-24-40_00-25-40_label_B2-0-0.npy\\n', 'C:\\\\Users\\\\pradh\\\\Downloads\\\\XDVioDet-master\\\\XDVioDet-master\\\\tratrain\\\\Fast.Furious.6.2013__#00-26-30_00-28-50_label_B6-0-0.npy\\n', 'C:\\\\Users\\\\pradh\\\\Downloads\\\\XDVioDet-master\\\\XDVioDet-master\\\\tratrain\\\\Fast.Furious.6.2013__#00-29-05_00-30-15_label_B2-B6-0.npy\\n', 'C:\\\\Users\\\\pradh\\\\Downloads\\\\XDVioDet-master\\\\XDVioDet-master\\\\tratrain\\\\Fast.Furious.6.2013__#00-41-00_00-41-40_label_B1-0-0.npy\\n', 'C:\\\\Users\\\\pradh\\\\Downloads\\\\XDVioDet-master\\\\XDVioDet-master\\\\tratrain\\\\Fast.Furious.6.2013__#00-44-20_00-45-20_label_B1-0-0.npy\\n', 'C:\\\\Users\\\\pradh\\\\Downloads\\\\XDVioDet-master\\\\XDVioDet-master\\\\tratrain\\\\Fast.Furious.6.2013__#00-47-40_00-50-20_label_B1-0-0.npy\\n', 'C:\\\\Users\\\\pradh\\\\Downloads\\\\XDVioDet-master\\\\XDVioDet-master\\\\tratrain\\\\Fast.Furious.6.2013__#00-58-11_00-58-55_label_B1-0-0.npy\\n', 'C:\\\\Users\\\\pradh\\\\Downloads\\\\XDVioDet-master\\\\XDVioDet-master\\\\tratrain\\\\Fast.Furious.6.2013__#01-02-17_01-03-10_label_B6-B2-G.npy\\n', 'C:\\\\Users\\\\pradh\\\\Downloads\\\\XDVioDet-master\\\\XDVioDet-master\\\\tratrain\\\\Fast.Furious.6.2013__#01-26-10_01-28-12_label_B6-B2-0.npy\\n', 'C:\\\\Users\\\\pradh\\\\Downloads\\\\XDVioDet-master\\\\XDVioDet-master\\\\tratrain\\\\Fast.Furious.6.2013__#01-29-25_01-33-56_label_G-B6-0.npy\\n', 'C:\\\\Users\\\\pradh\\\\Downloads\\\\XDVioDet-master\\\\XDVioDet-master\\\\tratrain\\\\Fast.Furious.6.2013__#01-44-00_01-46-40_label_B1-B2-0.npy\\n', 'C:\\\\Users\\\\pradh\\\\Downloads\\\\XDVioDet-master\\\\XDVioDet-master\\\\tratrain\\\\Fast.Furious.6.2013__#01-47-00_01-47-38_label_B6-0-0.npy\\n', 'C:\\\\Users\\\\pradh\\\\Downloads\\\\XDVioDet-master\\\\XDVioDet-master\\\\tratrain\\\\Fast.Furious.6.2013__#01-47-39_01-49-53_label_B1-B6-0.npy\\n', 'C:\\\\Users\\\\pradh\\\\Downloads\\\\XDVioDet-master\\\\XDVioDet-master\\\\tratrain\\\\Fast.Furious.6.2013__#01-50-00_01-51-02_label_B1-0-0.npy\\n', 'C:\\\\Users\\\\pradh\\\\Downloads\\\\XDVioDet-master\\\\XDVioDet-master\\\\tratrain\\\\Fast.Furious.6.2013__#01-51-35_01-53-02_label_B1-B6-0.npy\\n', 'C:\\\\Users\\\\pradh\\\\Downloads\\\\XDVioDet-master\\\\XDVioDet-master\\\\tratrain\\\\Fast.Furious.6.2013__#01-54-05_01-56-30_label_G-B6-0.npy\\n', 'C:\\\\Users\\\\pradh\\\\Downloads\\\\XDVioDet-master\\\\XDVioDet-master\\\\tratrain\\\\From.Dusk.Till.Dawn.1996__#00-06-15_00-07-30_label_B2-0-0.npy\\n', 'C:\\\\Users\\\\pradh\\\\Downloads\\\\XDVioDet-master\\\\XDVioDet-master\\\\tratrain\\\\From.Dusk.Till.Dawn.1996__#00-09-15_00-10-31_label_G-0-0.npy\\n', 'C:\\\\Users\\\\pradh\\\\Downloads\\\\XDVioDet-master\\\\XDVioDet-master\\\\tratrain\\\\From.Dusk.Till.Dawn.1996__#00-24-13_00-24-42_label_B1-0-0.npy\\n', 'C:\\\\Users\\\\pradh\\\\Downloads\\\\XDVioDet-master\\\\XDVioDet-master\\\\tratrain\\\\Fury.2014__#00-17-40_00-18-35_label_B1-0-0.npy\\n', 'C:\\\\Users\\\\pradh\\\\Downloads\\\\XDVioDet-master\\\\XDVioDet-master\\\\tratrain\\\\Fury.2014__#00-23-40_00-24-42_label_B2-G-0.npy\\n', 'C:\\\\Users\\\\pradh\\\\Downloads\\\\XDVioDet-master\\\\XDVioDet-master\\\\tratrain\\\\Fury.2014__#00-31-22_00-35-11_label_B2-G-0.npy\\n', 'C:\\\\Users\\\\pradh\\\\Downloads\\\\XDVioDet-master\\\\XDVioDet-master\\\\tratrain\\\\Fury.2014__#00-46-02_00-48-53_label_B2-G-0.npy\\n', 'C:\\\\Users\\\\pradh\\\\Downloads\\\\XDVioDet-master\\\\XDVioDet-master\\\\tratrain\\\\Fury.2014__#00-57-48_00-58-12_label_B2-G-0.npy\\n', 'C:\\\\Users\\\\pradh\\\\Downloads\\\\XDVioDet-master\\\\XDVioDet-master\\\\tratrain\\\\Fury.2014__#01-14-49_01-15-52_label_G-0-0.npy\\n', 'C:\\\\Users\\\\pradh\\\\Downloads\\\\XDVioDet-master\\\\XDVioDet-master\\\\tratrain\\\\Fury.2014__#01-18-45_01-24-14_label_B2-G-0.npy\\n', 'C:\\\\Users\\\\pradh\\\\Downloads\\\\XDVioDet-master\\\\XDVioDet-master\\\\tratrain\\\\Fury.2014__#01-42-02_01-47-12_label_B2-G-0.npy\\n', 'C:\\\\Users\\\\pradh\\\\Downloads\\\\XDVioDet-master\\\\XDVioDet-master\\\\tratrain\\\\Fury.2014__#01-48-19_01-56-29_label_B2-G-0.npy\\n', 'C:\\\\Users\\\\pradh\\\\Downloads\\\\XDVioDet-master\\\\XDVioDet-master\\\\tratrain\\\\Fury.2014__#01-58-01_01-59-04_label_B2-G-0.npy\\n', 'C:\\\\Users\\\\pradh\\\\Downloads\\\\XDVioDet-master\\\\XDVioDet-master\\\\tratrain\\\\Gladiator.2000__#00-23-08_00-23-42_label_B1-0-0.npy\\n', 'C:\\\\Users\\\\pradh\\\\Downloads\\\\XDVioDet-master\\\\XDVioDet-master\\\\tratrain\\\\Gladiator.2000__#00-41-25_00-42-45_label_B1-0-0.npy\\n', 'C:\\\\Users\\\\pradh\\\\Downloads\\\\XDVioDet-master\\\\XDVioDet-master\\\\tratrain\\\\Gladiator.2000__#00-59-29_01-02-19_label_B1-0-0.npy\\n', 'C:\\\\Users\\\\pradh\\\\Downloads\\\\XDVioDet-master\\\\XDVioDet-master\\\\tratrain\\\\Gladiator.2000__#01-32-15_01-37-06_label_B1-0-0.npy\\n', 'C:\\\\Users\\\\pradh\\\\Downloads\\\\XDVioDet-master\\\\XDVioDet-master\\\\tratrain\\\\Gladiator.2000__#01-55-09_01-59-36_label_B1-0-0.npy\\n', 'C:\\\\Users\\\\pradh\\\\Downloads\\\\XDVioDet-master\\\\XDVioDet-master\\\\tratrain\\\\Gladiator.2000__#02-35-38_02-38-52_label_B1-0-0.npy\\n', 'C:\\\\Users\\\\pradh\\\\Downloads\\\\XDVioDet-master\\\\XDVioDet-master\\\\tratrain\\\\God.Bless.America.2011__#00-02-00_00-02-25_label_B2-0-0.npy\\n', 'C:\\\\Users\\\\pradh\\\\Downloads\\\\XDVioDet-master\\\\XDVioDet-master\\\\tratrain\\\\God.Bless.America.2011__#00-48-15_00-49-11_label_B2-0-0.npy\\n', 'C:\\\\Users\\\\pradh\\\\Downloads\\\\XDVioDet-master\\\\XDVioDet-master\\\\tratrain\\\\God.Bless.America.2011__#00-52-07_00-53-55_label_B2-0-0.npy\\n', 'C:\\\\Users\\\\pradh\\\\Downloads\\\\XDVioDet-master\\\\XDVioDet-master\\\\tratrain\\\\God.Bless.America.2011__#01-08-47_01-09-21_label_B2-0-0.npy\\n', 'C:\\\\Users\\\\pradh\\\\Downloads\\\\XDVioDet-master\\\\XDVioDet-master\\\\tratrain\\\\God.Bless.America.2011__#01-13-20_01-15-05_label_B2-B6-0.npy\\n', 'C:\\\\Users\\\\pradh\\\\Downloads\\\\XDVioDet-master\\\\XDVioDet-master\\\\tratrain\\\\God.Bless.America.2011__#01-21-50_01-22-35_label_B1-0-0.npy\\n', 'C:\\\\Users\\\\pradh\\\\Downloads\\\\XDVioDet-master\\\\XDVioDet-master\\\\tratrain\\\\God.Bless.America.2011__#01-33-26_01-35-50_label_B2-0-0.npy\\n', 'C:\\\\Users\\\\pradh\\\\Downloads\\\\XDVioDet-master\\\\XDVioDet-master\\\\tratrain\\\\God.Bless.America.2011__#01-38-25_01-39-20_label_B2-0-0.npy\\n', 'C:\\\\Users\\\\pradh\\\\Downloads\\\\XDVioDet-master\\\\XDVioDet-master\\\\tratrain\\\\GoldenEye.1995__#00-05-41_00-07-32_label_B2-G-0.npy\\n', 'C:\\\\Users\\\\pradh\\\\Downloads\\\\XDVioDet-master\\\\XDVioDet-master\\\\tratrain\\\\GoldenEye.1995__#00-08-07_00-09-04_label_B2-0-0.npy\\n', 'C:\\\\Users\\\\pradh\\\\Downloads\\\\XDVioDet-master\\\\XDVioDet-master\\\\tratrain\\\\GoldenEye.1995__#00-26-45_00-27-14_label_B2-0-0.npy\\n', 'C:\\\\Users\\\\pradh\\\\Downloads\\\\XDVioDet-master\\\\XDVioDet-master\\\\tratrain\\\\GoldenEye.1995__#00-33-26_00-34-08_label_B2-0-0.npy\\n', 'C:\\\\Users\\\\pradh\\\\Downloads\\\\XDVioDet-master\\\\XDVioDet-master\\\\tratrain\\\\GoldenEye.1995__#00-35-26_00-35-44_label_B2-0-0.npy\\n', 'C:\\\\Users\\\\pradh\\\\Downloads\\\\XDVioDet-master\\\\XDVioDet-master\\\\tratrain\\\\GoldenEye.1995__#00-39-57_00-41-32_label_G-0-0.npy\\n', 'C:\\\\Users\\\\pradh\\\\Downloads\\\\XDVioDet-master\\\\XDVioDet-master\\\\tratrain\\\\GoldenEye.1995__#00-52-42_00-52-59_label_G-0-0.npy\\n', 'C:\\\\Users\\\\pradh\\\\Downloads\\\\XDVioDet-master\\\\XDVioDet-master\\\\tratrain\\\\GoldenEye.1995__#01-12-02_01-12-44_label_G-0-0.npy\\n', 'C:\\\\Users\\\\pradh\\\\Downloads\\\\XDVioDet-master\\\\XDVioDet-master\\\\tratrain\\\\GoldenEye.1995__#01-21-56_01-23-18_label_G-B2-B6.npy\\n', 'C:\\\\Users\\\\pradh\\\\Downloads\\\\XDVioDet-master\\\\XDVioDet-master\\\\tratrain\\\\GoldenEye.1995__#01-28-03_01-28-24_label_G-0-0.npy\\n', 'C:\\\\Users\\\\pradh\\\\Downloads\\\\XDVioDet-master\\\\XDVioDet-master\\\\tratrain\\\\GoldenEye.1995__#01-33-05_01-33-39_label_G-0-0.npy\\n', 'C:\\\\Users\\\\pradh\\\\Downloads\\\\XDVioDet-master\\\\XDVioDet-master\\\\tratrain\\\\GoldenEye.1995__#01-43-18_01-44-30_label_B1-B2-G.npy\\n', 'C:\\\\Users\\\\pradh\\\\Downloads\\\\XDVioDet-master\\\\XDVioDet-master\\\\tratrain\\\\GoldenEye.1995__#01-49-17_01-49-50_label_B2-0-0.npy\\n', 'C:\\\\Users\\\\pradh\\\\Downloads\\\\XDVioDet-master\\\\XDVioDet-master\\\\tratrain\\\\GoldenEye.1995__#01-55-46_01-56-22_label_G-0-0.npy\\n', 'C:\\\\Users\\\\pradh\\\\Downloads\\\\XDVioDet-master\\\\XDVioDet-master\\\\tratrain\\\\GoldenEye.1995__#01-57-47_01-58-28_label_B2-0-0.npy\\n', 'C:\\\\Users\\\\pradh\\\\Downloads\\\\XDVioDet-master\\\\XDVioDet-master\\\\tratrain\\\\GoldenEye.1995__#01-59-47_02-00-39_label_B1-0-0.npy\\n', 'C:\\\\Users\\\\pradh\\\\Downloads\\\\XDVioDet-master\\\\XDVioDet-master\\\\tratrain\\\\Haywire.2011__#00-51-18_00-51-53_label_B1-0-0.npy\\n', 'C:\\\\Users\\\\pradh\\\\Downloads\\\\XDVioDet-master\\\\XDVioDet-master\\\\tratrain\\\\Haywire.2011__#01-03-19_01-04-02_label_B2-0-0.npy\\n', 'C:\\\\Users\\\\pradh\\\\Downloads\\\\XDVioDet-master\\\\XDVioDet-master\\\\tratrain\\\\Haywire.2011__#01-11-54_01-15-57_label_B1-B2-0.npy\\n', 'C:\\\\Users\\\\pradh\\\\Downloads\\\\XDVioDet-master\\\\XDVioDet-master\\\\tratrain\\\\Hot.Fuzz.2007__#01-17-03_01-18-10_label_B1-0-0.npy\\n', 'C:\\\\Users\\\\pradh\\\\Downloads\\\\XDVioDet-master\\\\XDVioDet-master\\\\tratrain\\\\Hot.Fuzz.2007__#01-33-10_01-38-50_label_B2-0-0.npy\\n', 'C:\\\\Users\\\\pradh\\\\Downloads\\\\XDVioDet-master\\\\XDVioDet-master\\\\tratrain\\\\Hot.Fuzz.2007__#01-41-50_01-44-10_label_B1-B2-0.npy\\n', 'C:\\\\Users\\\\pradh\\\\Downloads\\\\XDVioDet-master\\\\XDVioDet-master\\\\tratrain\\\\Hot.Fuzz.2007__#01-45-55_01-46-39_label_B2-0-0.npy\\n', 'C:\\\\Users\\\\pradh\\\\Downloads\\\\XDVioDet-master\\\\XDVioDet-master\\\\tratrain\\\\Hot.Fuzz.2007__#01-47-20_01-48-30_label_B1-0-0.npy\\n', 'C:\\\\Users\\\\pradh\\\\Downloads\\\\XDVioDet-master\\\\XDVioDet-master\\\\tratrain\\\\Hot.Fuzz.2007__#01-52-24_01-52-48_label_B2-0-0.npy\\n', 'C:\\\\Users\\\\pradh\\\\Downloads\\\\XDVioDet-master\\\\XDVioDet-master\\\\tratrain\\\\Hot.Fuzz.2007__#01-52-53_01-53-34_label_G-0-0.npy\\n', 'C:\\\\Users\\\\pradh\\\\Downloads\\\\XDVioDet-master\\\\XDVioDet-master\\\\tratrain\\\\IP.Man.2.2010__#00-09-34_00-10-35_label_B1-0-0.npy\\n', 'C:\\\\Users\\\\pradh\\\\Downloads\\\\XDVioDet-master\\\\XDVioDet-master\\\\tratrain\\\\IP.Man.2.2010__#00-17-54_00-18-57_label_B1-0-0.npy\\n', 'C:\\\\Users\\\\pradh\\\\Downloads\\\\XDVioDet-master\\\\XDVioDet-master\\\\tratrain\\\\IP.Man.2.2010__#00-22-00_00-26-30_label_B1-0-0.npy\\n', 'C:\\\\Users\\\\pradh\\\\Downloads\\\\XDVioDet-master\\\\XDVioDet-master\\\\tratrain\\\\IP.Man.2.2010__#00-39-03_00-40-13_label_B1-0-0.npy\\n', 'C:\\\\Users\\\\pradh\\\\Downloads\\\\XDVioDet-master\\\\XDVioDet-master\\\\tratrain\\\\IP.Man.2.2010__#00-40-54_00-42-26_label_B1-0-0.npy\\n', 'C:\\\\Users\\\\pradh\\\\Downloads\\\\XDVioDet-master\\\\XDVioDet-master\\\\tratrain\\\\IP.Man.2.2010__#00-42-46_00-45-40_label_B1-0-0.npy\\n', 'C:\\\\Users\\\\pradh\\\\Downloads\\\\XDVioDet-master\\\\XDVioDet-master\\\\tratrain\\\\IP.Man.2.2010__#00-48-20_00-49-07_label_B1-0-0.npy\\n', 'C:\\\\Users\\\\pradh\\\\Downloads\\\\XDVioDet-master\\\\XDVioDet-master\\\\tratrain\\\\IP.Man.2.2010__#00-52-23_00-53-29_label_B1-0-0.npy\\n', 'C:\\\\Users\\\\pradh\\\\Downloads\\\\XDVioDet-master\\\\XDVioDet-master\\\\tratrain\\\\IP.Man.2.2010__#01-04-07_01-04-40_label_B1-0-0.npy\\n', 'C:\\\\Users\\\\pradh\\\\Downloads\\\\XDVioDet-master\\\\XDVioDet-master\\\\tratrain\\\\IP.Man.2.2010__#01-04-54_01-06-57_label_B4-B1-0.npy\\n', 'C:\\\\Users\\\\pradh\\\\Downloads\\\\XDVioDet-master\\\\XDVioDet-master\\\\tratrain\\\\IP.Man.2.2010__#01-07-48_01-15-21_label_B1-0-0.npy\\n', 'C:\\\\Users\\\\pradh\\\\Downloads\\\\XDVioDet-master\\\\XDVioDet-master\\\\tratrain\\\\IP.Man.2.2010__#01-29-35_01-33-35_label_B1-0-0.npy\\n', 'C:\\\\Users\\\\pradh\\\\Downloads\\\\XDVioDet-master\\\\XDVioDet-master\\\\tratrain\\\\IP.Man.2.2010__#01-33-45_01-34-55_label_B1-0-0.npy\\n', 'C:\\\\Users\\\\pradh\\\\Downloads\\\\XDVioDet-master\\\\XDVioDet-master\\\\tratrain\\\\Ip.Man.2008__#00-05-39_00-07-10_label_B1-0-0.npy\\n', 'C:\\\\Users\\\\pradh\\\\Downloads\\\\XDVioDet-master\\\\XDVioDet-master\\\\tratrain\\\\Ip.Man.2008__#00-15-10_00-15-52_label_B1-0-0.npy\\n', 'C:\\\\Users\\\\pradh\\\\Downloads\\\\XDVioDet-master\\\\XDVioDet-master\\\\tratrain\\\\Ip.Man.2008__#00-19-02_00-20-14_label_B1-0-0.npy\\n', 'C:\\\\Users\\\\pradh\\\\Downloads\\\\XDVioDet-master\\\\XDVioDet-master\\\\tratrain\\\\Ip.Man.2008__#00-20-20_00-21-26_label_B1-0-0.npy\\n', 'C:\\\\Users\\\\pradh\\\\Downloads\\\\XDVioDet-master\\\\XDVioDet-master\\\\tratrain\\\\Ip.Man.2008__#00-23-19_00-24-27_label_B1-0-0.npy\\n', 'C:\\\\Users\\\\pradh\\\\Downloads\\\\XDVioDet-master\\\\XDVioDet-master\\\\tratrain\\\\Ip.Man.2008__#00-28-08_00-33-03_label_B1-0-0.npy\\n', 'C:\\\\Users\\\\pradh\\\\Downloads\\\\XDVioDet-master\\\\XDVioDet-master\\\\tratrain\\\\Ip.Man.2008__#00-53-31_00-54-44_label_B1-0-0.npy\\n', 'C:\\\\Users\\\\pradh\\\\Downloads\\\\XDVioDet-master\\\\XDVioDet-master\\\\tratrain\\\\Ip.Man.2008__#00-54-44_00-55-00_label_B2-0-0.npy\\n', 'C:\\\\Users\\\\pradh\\\\Downloads\\\\XDVioDet-master\\\\XDVioDet-master\\\\tratrain\\\\Ip.Man.2008__#00-56-49_01-00-39_label_B1-0-0.npy\\n', 'C:\\\\Users\\\\pradh\\\\Downloads\\\\XDVioDet-master\\\\XDVioDet-master\\\\tratrain\\\\Ip.Man.2008__#01-07-28_01-07-38_label_B1-0-0.npy\\n', 'C:\\\\Users\\\\pradh\\\\Downloads\\\\XDVioDet-master\\\\XDVioDet-master\\\\tratrain\\\\Ip.Man.2008__#01-07-54_01-08-34_label_B1-0-0.npy\\n', 'C:\\\\Users\\\\pradh\\\\Downloads\\\\XDVioDet-master\\\\XDVioDet-master\\\\tratrain\\\\Ip.Man.2008__#01-12-34_01-13-06_label_B1-0-0.npy\\n', 'C:\\\\Users\\\\pradh\\\\Downloads\\\\XDVioDet-master\\\\XDVioDet-master\\\\tratrain\\\\Ip.Man.2008__#01-19-09_01-20-43_label_B1-0-0.npy\\n', 'C:\\\\Users\\\\pradh\\\\Downloads\\\\XDVioDet-master\\\\XDVioDet-master\\\\tratrain\\\\Ip.Man.2008__#01-21-10_01-24-22_label_B1-0-0.npy\\n', 'C:\\\\Users\\\\pradh\\\\Downloads\\\\XDVioDet-master\\\\XDVioDet-master\\\\tratrain\\\\Ip.Man.2008__#01-26-51_01-28-04_label_B1-0-0.npy\\n', 'C:\\\\Users\\\\pradh\\\\Downloads\\\\XDVioDet-master\\\\XDVioDet-master\\\\tratrain\\\\Ip.Man.2008__#01-34-52_01-39-12_label_B1-0-0.npy\\n', 'C:\\\\Users\\\\pradh\\\\Downloads\\\\XDVioDet-master\\\\XDVioDet-master\\\\tratrain\\\\Ip.Man.3.2015__#00-12-16_00-12-43_label_B1-0-0.npy\\n', 'C:\\\\Users\\\\pradh\\\\Downloads\\\\XDVioDet-master\\\\XDVioDet-master\\\\tratrain\\\\Ip.Man.3.2015__#00-23-02_00-26-13_label_B1-0-0.npy\\n', 'C:\\\\Users\\\\pradh\\\\Downloads\\\\XDVioDet-master\\\\XDVioDet-master\\\\tratrain\\\\Ip.Man.3.2015__#00-34-00_00-36-00_label_B1-B4-0.npy\\n', 'C:\\\\Users\\\\pradh\\\\Downloads\\\\XDVioDet-master\\\\XDVioDet-master\\\\tratrain\\\\Ip.Man.3.2015__#00-42-00_00-42-50_label_B1-0-0.npy\\n', 'C:\\\\Users\\\\pradh\\\\Downloads\\\\XDVioDet-master\\\\XDVioDet-master\\\\tratrain\\\\Ip.Man.3.2015__#01-01-16_01-01-46_label_B1-0-0.npy\\n', 'C:\\\\Users\\\\pradh\\\\Downloads\\\\XDVioDet-master\\\\XDVioDet-master\\\\tratrain\\\\Ip.Man.3.2015__#01-02-20_01-05-33_label_B1-0-0.npy\\n', 'C:\\\\Users\\\\pradh\\\\Downloads\\\\XDVioDet-master\\\\XDVioDet-master\\\\tratrain\\\\Ip.Man.3.2015__#01-07-45_01-11-30_label_B1-0-0.npy\\n', 'C:\\\\Users\\\\pradh\\\\Downloads\\\\XDVioDet-master\\\\XDVioDet-master\\\\tratrain\\\\Ip.Man.3.2015__#01-13-45_01-15-18_label_B1-0-0.npy\\n', 'C:\\\\Users\\\\pradh\\\\Downloads\\\\XDVioDet-master\\\\XDVioDet-master\\\\tratrain\\\\Ip.Man.3.2015__#01-32-19_01-40-50_label_B1-0-0.npy\\n', 'C:\\\\Users\\\\pradh\\\\Downloads\\\\XDVioDet-master\\\\XDVioDet-master\\\\tratrain\\\\Jason.Bourne.2016__#0-02-40_0-04-00_label_B1-0-0.npy\\n', 'C:\\\\Users\\\\pradh\\\\Downloads\\\\XDVioDet-master\\\\XDVioDet-master\\\\tratrain\\\\Jason.Bourne.2016__#0-08-00_0-08-11_label_B1-0-0.npy\\n', 'C:\\\\Users\\\\pradh\\\\Downloads\\\\XDVioDet-master\\\\XDVioDet-master\\\\tratrain\\\\Jason.Bourne.2016__#0-14-41_0-15-57_label_B1-0-0.npy\\n', 'C:\\\\Users\\\\pradh\\\\Downloads\\\\XDVioDet-master\\\\XDVioDet-master\\\\tratrain\\\\Jason.Bourne.2016__#0-16-14_0-16-43_label_B4-0-0.npy\\n', 'C:\\\\Users\\\\pradh\\\\Downloads\\\\XDVioDet-master\\\\XDVioDet-master\\\\tratrain\\\\Jason.Bourne.2016__#0-22-15_0-22-52_label_B4-0-0.npy\\n', 'C:\\\\Users\\\\pradh\\\\Downloads\\\\XDVioDet-master\\\\XDVioDet-master\\\\tratrain\\\\Jason.Bourne.2016__#0-22-52_0-23-35_label_B1-0-0.npy\\n', 'C:\\\\Users\\\\pradh\\\\Downloads\\\\XDVioDet-master\\\\XDVioDet-master\\\\tratrain\\\\Jason.Bourne.2016__#0-23-49_0-25-22_label_B4-0-0.npy\\n', 'C:\\\\Users\\\\pradh\\\\Downloads\\\\XDVioDet-master\\\\XDVioDet-master\\\\tratrain\\\\Jason.Bourne.2016__#0-25-22_0-26-14_label_B1-B4-0.npy\\n', 'C:\\\\Users\\\\pradh\\\\Downloads\\\\XDVioDet-master\\\\XDVioDet-master\\\\tratrain\\\\Jason.Bourne.2016__#0-26-38_0-26-55_label_B4-0-0.npy\\n', 'C:\\\\Users\\\\pradh\\\\Downloads\\\\XDVioDet-master\\\\XDVioDet-master\\\\tratrain\\\\Jason.Bourne.2016__#0-26-58_0-27-20_label_B2-B6-B1.npy\\n', 'C:\\\\Users\\\\pradh\\\\Downloads\\\\XDVioDet-master\\\\XDVioDet-master\\\\tratrain\\\\Jason.Bourne.2016__#0-28-43_0-29-35_label_B6-B4-0.npy\\n', 'C:\\\\Users\\\\pradh\\\\Downloads\\\\XDVioDet-master\\\\XDVioDet-master\\\\tratrain\\\\Jason.Bourne.2016__#0-30-30_0-30-38_label_B2-0-0.npy\\n', 'C:\\\\Users\\\\pradh\\\\Downloads\\\\XDVioDet-master\\\\XDVioDet-master\\\\tratrain\\\\Jason.Bourne.2016__#0-30-38_0-31-45_label_B4-0-0.npy\\n', 'C:\\\\Users\\\\pradh\\\\Downloads\\\\XDVioDet-master\\\\XDVioDet-master\\\\tratrain\\\\Jason.Bourne.2016__#0-31-46_0-32-10_label_B2-B6-0.npy\\n', 'C:\\\\Users\\\\pradh\\\\Downloads\\\\XDVioDet-master\\\\XDVioDet-master\\\\tratrain\\\\Jason.Bourne.2016__#0-33-40_0-33-53_label_B2-0-0.npy\\n', 'C:\\\\Users\\\\pradh\\\\Downloads\\\\XDVioDet-master\\\\XDVioDet-master\\\\tratrain\\\\Jason.Bourne.2016__#0-50-51_0-51-30_label_B1-0-0.npy\\n', 'C:\\\\Users\\\\pradh\\\\Downloads\\\\XDVioDet-master\\\\XDVioDet-master\\\\tratrain\\\\Jason.Bourne.2016__#0-53-59_0-54-53_label_B1-0-0.npy\\n', 'C:\\\\Users\\\\pradh\\\\Downloads\\\\XDVioDet-master\\\\XDVioDet-master\\\\tratrain\\\\Jason.Bourne.2016__#01-10-50_01-11-00_label_B2-0-0.npy\\n', 'C:\\\\Users\\\\pradh\\\\Downloads\\\\XDVioDet-master\\\\XDVioDet-master\\\\tratrain\\\\Jason.Bourne.2016__#01-13-10_01-13-40_label_B2-0-0.npy\\n', 'C:\\\\Users\\\\pradh\\\\Downloads\\\\XDVioDet-master\\\\XDVioDet-master\\\\tratrain\\\\Jason.Bourne.2016__#01-30-15_01-30-31_label_B2-0-0.npy\\n', 'C:\\\\Users\\\\pradh\\\\Downloads\\\\XDVioDet-master\\\\XDVioDet-master\\\\tratrain\\\\Jason.Bourne.2016__#01-31-13_01-31-32_label_B1-0-0.npy\\n', 'C:\\\\Users\\\\pradh\\\\Downloads\\\\XDVioDet-master\\\\XDVioDet-master\\\\tratrain\\\\Jason.Bourne.2016__#01-31-32_01-31-37_label_B2-0-0.npy\\n', 'C:\\\\Users\\\\pradh\\\\Downloads\\\\XDVioDet-master\\\\XDVioDet-master\\\\tratrain\\\\Jason.Bourne.2016__#01-36-35_01-37-25_label_B2-0-0.npy\\n', 'C:\\\\Users\\\\pradh\\\\Downloads\\\\XDVioDet-master\\\\XDVioDet-master\\\\tratrain\\\\Jason.Bourne.2016__#01-39-00_01-39-26_label_B6-0-0.npy\\n', 'C:\\\\Users\\\\pradh\\\\Downloads\\\\XDVioDet-master\\\\XDVioDet-master\\\\tratrain\\\\Jason.Bourne.2016__#01-39-30_01-45-05_label_B6-0-0.npy\\n', 'C:\\\\Users\\\\pradh\\\\Downloads\\\\XDVioDet-master\\\\XDVioDet-master\\\\tratrain\\\\Jason.Bourne.2016__#01-45-05_01-47-57_label_B1-0-0.npy\\n', 'C:\\\\Users\\\\pradh\\\\Downloads\\\\XDVioDet-master\\\\XDVioDet-master\\\\tratrain\\\\Kill.Bill.Vol.1.2003__#0-05-55_0-08-54_label_B1-0-0.npy\\n', 'C:\\\\Users\\\\pradh\\\\Downloads\\\\XDVioDet-master\\\\XDVioDet-master\\\\tratrain\\\\Kill.Bill.Vol.1.2003__#0-42-09_0-42-50_label_B2-0-0.npy\\n', 'C:\\\\Users\\\\pradh\\\\Downloads\\\\XDVioDet-master\\\\XDVioDet-master\\\\tratrain\\\\Kill.Bill.Vol.1.2003__#01-15-45_01-16-10_label_B1-0-0.npy\\n', 'C:\\\\Users\\\\pradh\\\\Downloads\\\\XDVioDet-master\\\\XDVioDet-master\\\\tratrain\\\\Kill.Bill.Vol.1.2003__#01-16-11_01-17-12_label_B1-0-0.npy\\n', 'C:\\\\Users\\\\pradh\\\\Downloads\\\\XDVioDet-master\\\\XDVioDet-master\\\\tratrain\\\\Kill.Bill.Vol.1.2003__#01-28-19_01-28-50_label_B1-0-0.npy\\n', 'C:\\\\Users\\\\pradh\\\\Downloads\\\\XDVioDet-master\\\\XDVioDet-master\\\\tratrain\\\\Kill.Bill.Vol.1.2003__#01-31-04_01-34-11_label_B1-0-0.npy\\n', 'C:\\\\Users\\\\pradh\\\\Downloads\\\\XDVioDet-master\\\\XDVioDet-master\\\\tratrain\\\\Kill.Bill.Vol.2.2004__#0-31-20_0-32-00_label_B5-0-0.npy\\n', 'C:\\\\Users\\\\pradh\\\\Downloads\\\\XDVioDet-master\\\\XDVioDet-master\\\\tratrain\\\\Kill.Bill.Vol.2.2004__#01-19-18_01-21-10_label_B1-0-0.npy\\n', 'C:\\\\Users\\\\pradh\\\\Downloads\\\\XDVioDet-master\\\\XDVioDet-master\\\\tratrain\\\\Kill.Bill.Vol.2.2004__#01-41-55_01-42-37_label_B2-0-0.npy\\n', 'C:\\\\Users\\\\pradh\\\\Downloads\\\\XDVioDet-master\\\\XDVioDet-master\\\\tratrain\\\\Kill.Bill.Vol.2.2004__#01-58-20_01-59-00_label_B1-0-0.npy\\n', 'C:\\\\Users\\\\pradh\\\\Downloads\\\\XDVioDet-master\\\\XDVioDet-master\\\\tratrain\\\\Kingsman.The.Golden.Circle.2017__#00-01-40_00-04-51_label_B1-B2-B6.npy\\n', 'C:\\\\Users\\\\pradh\\\\Downloads\\\\XDVioDet-master\\\\XDVioDet-master\\\\tratrain\\\\Kingsman.The.Golden.Circle.2017__#00-05-38_00-07-20_label_B2-G-0.npy\\n', 'C:\\\\Users\\\\pradh\\\\Downloads\\\\XDVioDet-master\\\\XDVioDet-master\\\\tratrain\\\\Kingsman.The.Golden.Circle.2017__#00-26-28_00-27-05_label_G-0-0.npy\\n', 'C:\\\\Users\\\\pradh\\\\Downloads\\\\XDVioDet-master\\\\XDVioDet-master\\\\tratrain\\\\Kingsman.The.Golden.Circle.2017__#01-11-34_01-13-28_label_B1-0-0.npy\\n', 'C:\\\\Users\\\\pradh\\\\Downloads\\\\XDVioDet-master\\\\XDVioDet-master\\\\tratrain\\\\Kingsman.The.Golden.Circle.2017__#01-29-11_01-31-16_label_B2-0-0.npy\\n', 'C:\\\\Users\\\\pradh\\\\Downloads\\\\XDVioDet-master\\\\XDVioDet-master\\\\tratrain\\\\Kingsman.The.Golden.Circle.2017__#01-32-27_01-33-37_label_B2-G-0.npy\\n', 'C:\\\\Users\\\\pradh\\\\Downloads\\\\XDVioDet-master\\\\XDVioDet-master\\\\tratrain\\\\Kingsman.The.Golden.Circle.2017__#01-34-40_01-35-08_label_G-0-0.npy\\n', 'C:\\\\Users\\\\pradh\\\\Downloads\\\\XDVioDet-master\\\\XDVioDet-master\\\\tratrain\\\\Kingsman.The.Golden.Circle.2017__#01-51-23_01-51-35_label_G-0-0.npy\\n', 'C:\\\\Users\\\\pradh\\\\Downloads\\\\XDVioDet-master\\\\XDVioDet-master\\\\tratrain\\\\Kingsman.The.Golden.Circle.2017__#01-52-11_01-55-03_label_B1-B2-G.npy\\n', 'C:\\\\Users\\\\pradh\\\\Downloads\\\\XDVioDet-master\\\\XDVioDet-master\\\\tratrain\\\\Kingsman.The.Golden.Circle.2017__#01-55-34_01-57-36_label_B1-0-0.npy\\n', 'C:\\\\Users\\\\pradh\\\\Downloads\\\\XDVioDet-master\\\\XDVioDet-master\\\\tratrain\\\\Kingsman.The.Golden.Circle.2017__#02-00-02_02-01-21_label_B1-0-0.npy\\n', 'C:\\\\Users\\\\pradh\\\\Downloads\\\\XDVioDet-master\\\\XDVioDet-master\\\\tratrain\\\\Kingsman.The.Golden.Circle.2017__#02-06-23_02-08-23_label_B1-B2-0.npy\\n', 'C:\\\\Users\\\\pradh\\\\Downloads\\\\XDVioDet-master\\\\XDVioDet-master\\\\tratrain\\\\Kingsman.The.Secret.Service.2014__#00-02-00_00-02-55_label_G-B1-0.npy\\n', 'C:\\\\Users\\\\pradh\\\\Downloads\\\\XDVioDet-master\\\\XDVioDet-master\\\\tratrain\\\\Kingsman.The.Secret.Service.2014__#00-05-55_00-06-46_label_B1-B2-0.npy\\n', 'C:\\\\Users\\\\pradh\\\\Downloads\\\\XDVioDet-master\\\\XDVioDet-master\\\\tratrain\\\\Kingsman.The.Secret.Service.2014__#00-20-40_00-21-40_label_B1-0-0.npy\\n', 'C:\\\\Users\\\\pradh\\\\Downloads\\\\XDVioDet-master\\\\XDVioDet-master\\\\tratrain\\\\Kingsman.The.Secret.Service.2014__#01-18-20_01-19-23_label_B1-B2-0.npy\\n', 'C:\\\\Users\\\\pradh\\\\Downloads\\\\XDVioDet-master\\\\XDVioDet-master\\\\tratrain\\\\Kingsman.The.Secret.Service.2014__#01-46-30_01-47-10_label_B2-0-0.npy\\n', 'C:\\\\Users\\\\pradh\\\\Downloads\\\\XDVioDet-master\\\\XDVioDet-master\\\\tratrain\\\\Kingsman.The.Secret.Service.2014__#01-49-00_01-49-40_label_G-0-0.npy\\n', 'C:\\\\Users\\\\pradh\\\\Downloads\\\\XDVioDet-master\\\\XDVioDet-master\\\\tratrain\\\\Kingsman.The.Secret.Service.2014__#01-52-00_01-52-50_label_B1-B2-0.npy\\n', 'C:\\\\Users\\\\pradh\\\\Downloads\\\\XDVioDet-master\\\\XDVioDet-master\\\\tratrain\\\\Law.Abiding.Citizen.2009__#00-01-31_00-02-49_label_B1-B5-0.npy\\n', 'C:\\\\Users\\\\pradh\\\\Downloads\\\\XDVioDet-master\\\\XDVioDet-master\\\\tratrain\\\\Law.Abiding.Citizen.2009__#01-14-42_01-15-38_label_G-0-0.npy\\n', 'C:\\\\Users\\\\pradh\\\\Downloads\\\\XDVioDet-master\\\\XDVioDet-master\\\\tratrain\\\\Law.Abiding.Citizen.2009__#01-27-40_01-27-59_label_G-0-0.npy\\n', 'C:\\\\Users\\\\pradh\\\\Downloads\\\\XDVioDet-master\\\\XDVioDet-master\\\\tratrain\\\\Lord.of.War__#00-06-20_00-07-20_label_B2-0-0.npy\\n', 'C:\\\\Users\\\\pradh\\\\Downloads\\\\XDVioDet-master\\\\XDVioDet-master\\\\tratrain\\\\Lord.of.War__#00-16-00_00-16-40_label_B2-0-0.npy\\n', 'C:\\\\Users\\\\pradh\\\\Downloads\\\\XDVioDet-master\\\\XDVioDet-master\\\\tratrain\\\\Lord.of.War__#00-17-10_00-17-50_label_B2-0-0.npy\\n', 'C:\\\\Users\\\\pradh\\\\Downloads\\\\XDVioDet-master\\\\XDVioDet-master\\\\tratrain\\\\Lord.of.War__#01-20-45_01-21-45_label_B2-0-0.npy\\n', 'C:\\\\Users\\\\pradh\\\\Downloads\\\\XDVioDet-master\\\\XDVioDet-master\\\\tratrain\\\\Lord.of.War__#01-44-03_01-44-50_label_G-B2-B1.npy\\n', 'C:\\\\Users\\\\pradh\\\\Downloads\\\\XDVioDet-master\\\\XDVioDet-master\\\\tratrain\\\\Lord.of.War__#01-44-50_01-45-30_label_B2-0-0.npy\\n', 'C:\\\\Users\\\\pradh\\\\Downloads\\\\XDVioDet-master\\\\XDVioDet-master\\\\tratrain\\\\Love.Death.and.Robots.S01E04__#00-03-01_00-03-44_label_B2-0-0.npy\\n', 'C:\\\\Users\\\\pradh\\\\Downloads\\\\XDVioDet-master\\\\XDVioDet-master\\\\tratrain\\\\Love.Death.and.Robots.S01E04__#00-06-28_00-10-33_label_G-B2-0.npy\\n', 'C:\\\\Users\\\\pradh\\\\Downloads\\\\XDVioDet-master\\\\XDVioDet-master\\\\tratrain\\\\Love.Death.and.Robots.S01E04__#00-10-39_00-10-51_label_G-0-0.npy\\n', 'C:\\\\Users\\\\pradh\\\\Downloads\\\\XDVioDet-master\\\\XDVioDet-master\\\\tratrain\\\\Love.Death.and.Robots.S01E05__#00-09-49_00-10-23_label_B2-0-0.npy\\n', 'C:\\\\Users\\\\pradh\\\\Downloads\\\\XDVioDet-master\\\\XDVioDet-master\\\\tratrain\\\\Love.Death.and.Robots.S01E10__#0-09-01_0-11-52_label_B1-0-0.npy\\n', 'C:\\\\Users\\\\pradh\\\\Downloads\\\\XDVioDet-master\\\\XDVioDet-master\\\\tratrain\\\\Love.Death.and.Robots.S01E13__#0-03-24_0-06-43_label_B2-G-0.npy\\n', 'C:\\\\Users\\\\pradh\\\\Downloads\\\\XDVioDet-master\\\\XDVioDet-master\\\\tratrain\\\\Love.Death.and.Robots.S01E13__#0-07-49_0-11-46_label_B2-G-0.npy\\n', 'C:\\\\Users\\\\pradh\\\\Downloads\\\\XDVioDet-master\\\\XDVioDet-master\\\\tratrain\\\\Love.Death.and.Robots.S01E15__#0-01-35_0-02-09_label_G-0-0.npy\\n', 'C:\\\\Users\\\\pradh\\\\Downloads\\\\XDVioDet-master\\\\XDVioDet-master\\\\tratrain\\\\Love.Death.and.Robots.S01E15__#0-02-10_0-02-50_label_B2-0-0.npy\\n', 'C:\\\\Users\\\\pradh\\\\Downloads\\\\XDVioDet-master\\\\XDVioDet-master\\\\tratrain\\\\Love.Death.and.Robots.S01E15__#0-02-51_0-03-05_label_G-0-0.npy\\n', 'C:\\\\Users\\\\pradh\\\\Downloads\\\\XDVioDet-master\\\\XDVioDet-master\\\\tratrain\\\\Love.Death.and.Robots.S01E15__#0-04-22_0-05-00_label_G-B2-0.npy\\n', 'C:\\\\Users\\\\pradh\\\\Downloads\\\\XDVioDet-master\\\\XDVioDet-master\\\\tratrain\\\\Love.Death.and.Robots.S01E16__#0-04-10_0-04-57_label_G-0-0.npy\\n', 'C:\\\\Users\\\\pradh\\\\Downloads\\\\XDVioDet-master\\\\XDVioDet-master\\\\tratrain\\\\Mindhunters.2004__#00-07-51_00-08-38_label_B2-0-0.npy\\n', 'C:\\\\Users\\\\pradh\\\\Downloads\\\\XDVioDet-master\\\\XDVioDet-master\\\\tratrain\\\\Mindhunters.2004__#00-33-40_00-34-35_label_G-0-0.npy\\n', 'C:\\\\Users\\\\pradh\\\\Downloads\\\\XDVioDet-master\\\\XDVioDet-master\\\\tratrain\\\\Mindhunters.2004__#00-52-45_00-53-40_label_B2-0-0.npy\\n', 'C:\\\\Users\\\\pradh\\\\Downloads\\\\XDVioDet-master\\\\XDVioDet-master\\\\tratrain\\\\Mindhunters.2004__#01-23-30_01-24-30_label_B2-0-0.npy\\n', 'C:\\\\Users\\\\pradh\\\\Downloads\\\\XDVioDet-master\\\\XDVioDet-master\\\\tratrain\\\\Mindhunters.2004__#01-26-00_01-26-50_label_B1-0-0.npy\\n', 'C:\\\\Users\\\\pradh\\\\Downloads\\\\XDVioDet-master\\\\XDVioDet-master\\\\tratrain\\\\Mindhunters.2004__#01-27-20_01-28-30_label_B1-0-0.npy\\n', 'C:\\\\Users\\\\pradh\\\\Downloads\\\\XDVioDet-master\\\\XDVioDet-master\\\\tratrain\\\\Mindhunters.2004__#01-34-40_01-35-40_label_B1-0-0.npy\\n', 'C:\\\\Users\\\\pradh\\\\Downloads\\\\XDVioDet-master\\\\XDVioDet-master\\\\tratrain\\\\Mindhunters.2004__#01-36-00_01-37-00_label_B2-0-0.npy\\n', 'C:\\\\Users\\\\pradh\\\\Downloads\\\\XDVioDet-master\\\\XDVioDet-master\\\\tratrain\\\\Mindhunters.2004__#01-38-00_01-39-00_label_B2-0-0.npy\\n', 'C:\\\\Users\\\\pradh\\\\Downloads\\\\XDVioDet-master\\\\XDVioDet-master\\\\tratrain\\\\Mission.Impossible.Fallout.2018__#00-08-20_00-10-50_label_B2-0-0.npy\\n', 'C:\\\\Users\\\\pradh\\\\Downloads\\\\XDVioDet-master\\\\XDVioDet-master\\\\tratrain\\\\Mission.Impossible.Fallout.2018__#00-28-59_00-30-07_label_B1-0-0.npy\\n', 'C:\\\\Users\\\\pradh\\\\Downloads\\\\XDVioDet-master\\\\XDVioDet-master\\\\tratrain\\\\Mission.Impossible.Fallout.2018__#01-02-09_01-02-49_label_B2-0-0.npy\\n', 'C:\\\\Users\\\\pradh\\\\Downloads\\\\XDVioDet-master\\\\XDVioDet-master\\\\tratrain\\\\Mission.Impossible.Fallout.2018__#01-29-00_01-31-50_label_B2-B1-0.npy\\n', 'C:\\\\Users\\\\pradh\\\\Downloads\\\\XDVioDet-master\\\\XDVioDet-master\\\\tratrain\\\\Mission.Impossible.Fallout.2018__#02-04-55_02-05-29_label_B1-0-0.npy\\n', 'C:\\\\Users\\\\pradh\\\\Downloads\\\\XDVioDet-master\\\\XDVioDet-master\\\\tratrain\\\\Mission.Impossible.Fallout.2018__#02-05-29_02-06-21_label_B6-0-0.npy\\n', 'C:\\\\Users\\\\pradh\\\\Downloads\\\\XDVioDet-master\\\\XDVioDet-master\\\\tratrain\\\\Mission.Impossible.Fallout.2018__#02-06-21_02-07-31_label_B1-0-0.npy\\n', 'C:\\\\Users\\\\pradh\\\\Downloads\\\\XDVioDet-master\\\\XDVioDet-master\\\\tratrain\\\\Mission.Impossible.Fallout.2018__#02-10-20_02-11-24_label_B1-0-0.npy\\n', 'C:\\\\Users\\\\pradh\\\\Downloads\\\\XDVioDet-master\\\\XDVioDet-master\\\\tratrain\\\\Mission.Impossible.Fallout.2018__#02-12-31_02-12-38_label_G-0-0.npy\\n', 'C:\\\\Users\\\\pradh\\\\Downloads\\\\XDVioDet-master\\\\XDVioDet-master\\\\tratrain\\\\Mission.Impossible.Ghost.Protocol.2011__#00-06-38_00-07-15_label_B1-0-0.npy\\n', 'C:\\\\Users\\\\pradh\\\\Downloads\\\\XDVioDet-master\\\\XDVioDet-master\\\\tratrain\\\\Mission.Impossible.Ghost.Protocol.2011__#00-07-35_00-08-35_label_B1-0-0.npy\\n', 'C:\\\\Users\\\\pradh\\\\Downloads\\\\XDVioDet-master\\\\XDVioDet-master\\\\tratrain\\\\Mission.Impossible.Ghost.Protocol.2011__#00-13-45_00-14-12_label_B1-0-0.npy\\n', 'C:\\\\Users\\\\pradh\\\\Downloads\\\\XDVioDet-master\\\\XDVioDet-master\\\\tratrain\\\\Mission.Impossible.Ghost.Protocol.2011__#00-30-57_00-31-32_label_G-0-0.npy\\n', 'C:\\\\Users\\\\pradh\\\\Downloads\\\\XDVioDet-master\\\\XDVioDet-master\\\\tratrain\\\\Mission.Impossible.Ghost.Protocol.2011__#00-42-10_00-42-47_label_B2-0-0.npy\\n', 'C:\\\\Users\\\\pradh\\\\Downloads\\\\XDVioDet-master\\\\XDVioDet-master\\\\tratrain\\\\Mission.Impossible.Ghost.Protocol.2011__#00-42-50_00-44-10_label_B2-0-0.npy\\n', 'C:\\\\Users\\\\pradh\\\\Downloads\\\\XDVioDet-master\\\\XDVioDet-master\\\\tratrain\\\\Mission.Impossible.Ghost.Protocol.2011__#01-14-53_01-15-29_label_B1-B2-0.npy\\n', 'C:\\\\Users\\\\pradh\\\\Downloads\\\\XDVioDet-master\\\\XDVioDet-master\\\\tratrain\\\\Mission.Impossible.Ghost.Protocol.2011__#01-15-36_01-16-32_label_B1-B2-0.npy\\n', 'C:\\\\Users\\\\pradh\\\\Downloads\\\\XDVioDet-master\\\\XDVioDet-master\\\\tratrain\\\\Mission.Impossible.Ghost.Protocol.2011__#01-20-40_01-21-10_label_B6-0-0.npy\\n', 'C:\\\\Users\\\\pradh\\\\Downloads\\\\XDVioDet-master\\\\XDVioDet-master\\\\tratrain\\\\Mission.Impossible.Ghost.Protocol.2011__#01-56-38_01-56-52_label_B6-0-0.npy\\n', 'C:\\\\Users\\\\pradh\\\\Downloads\\\\XDVioDet-master\\\\XDVioDet-master\\\\tratrain\\\\Mission.Impossible.II.2000__#00-04-25_00-04-55_label_B5-0-0.npy\\n', 'C:\\\\Users\\\\pradh\\\\Downloads\\\\XDVioDet-master\\\\XDVioDet-master\\\\tratrain\\\\Mission.Impossible.II.2000__#00-51-08_00-51-35_label_B5-0-0.npy\\n', 'C:\\\\Users\\\\pradh\\\\Downloads\\\\XDVioDet-master\\\\XDVioDet-master\\\\tratrain\\\\Mission.Impossible.II.2000__#01-15-10_01-16-32_label_B2-0-0.npy\\n', 'C:\\\\Users\\\\pradh\\\\Downloads\\\\XDVioDet-master\\\\XDVioDet-master\\\\tratrain\\\\Mission.Impossible.II.2000__#01-16-32_01-16-58_label_B2-0-0.npy\\n', 'C:\\\\Users\\\\pradh\\\\Downloads\\\\XDVioDet-master\\\\XDVioDet-master\\\\tratrain\\\\Mission.Impossible.II.2000__#01-16-58_01-17-24_label_G-0-0.npy\\n', 'C:\\\\Users\\\\pradh\\\\Downloads\\\\XDVioDet-master\\\\XDVioDet-master\\\\tratrain\\\\Mission.Impossible.II.2000__#01-17-25_01-18-55_label_B2-0-0.npy\\n', 'C:\\\\Users\\\\pradh\\\\Downloads\\\\XDVioDet-master\\\\XDVioDet-master\\\\tratrain\\\\Mission.Impossible.II.2000__#01-22-53_01-23-16_label_G-0-0.npy\\n', 'C:\\\\Users\\\\pradh\\\\Downloads\\\\XDVioDet-master\\\\XDVioDet-master\\\\tratrain\\\\Mission.Impossible.II.2000__#01-23-17_01-24-40_label_B2-0-0.npy\\n', 'C:\\\\Users\\\\pradh\\\\Downloads\\\\XDVioDet-master\\\\XDVioDet-master\\\\tratrain\\\\Mission.Impossible.II.2000__#01-24-40_01-25-08_label_G-B2-0.npy\\n', 'C:\\\\Users\\\\pradh\\\\Downloads\\\\XDVioDet-master\\\\XDVioDet-master\\\\tratrain\\\\Mission.Impossible.II.2000__#01-28-24_01-29-00_label_B1-0-0.npy\\n', 'C:\\\\Users\\\\pradh\\\\Downloads\\\\XDVioDet-master\\\\XDVioDet-master\\\\tratrain\\\\Mission.Impossible.II.2000__#01-31-06_01-31-47_label_B1-0-0.npy\\n', 'C:\\\\Users\\\\pradh\\\\Downloads\\\\XDVioDet-master\\\\XDVioDet-master\\\\tratrain\\\\Mission.Impossible.II.2000__#01-33-57_01-34-19_label_G-B2-0.npy\\n', 'C:\\\\Users\\\\pradh\\\\Downloads\\\\XDVioDet-master\\\\XDVioDet-master\\\\tratrain\\\\Mission.Impossible.II.2000__#01-36-14_01-37-20_label_B1-G-0.npy\\n', 'C:\\\\Users\\\\pradh\\\\Downloads\\\\XDVioDet-master\\\\XDVioDet-master\\\\tratrain\\\\Mission.Impossible.II.2000__#01-39-13_01-39-37_label_B2-0-0.npy\\n', 'C:\\\\Users\\\\pradh\\\\Downloads\\\\XDVioDet-master\\\\XDVioDet-master\\\\tratrain\\\\Mission.Impossible.II.2000__#01-40-28_01-41-50_label_B2-G-0.npy\\n', 'C:\\\\Users\\\\pradh\\\\Downloads\\\\XDVioDet-master\\\\XDVioDet-master\\\\tratrain\\\\Mission.Impossible.II.2000__#01-42-10_01-43-06_label_B2-G-0.npy\\n', 'C:\\\\Users\\\\pradh\\\\Downloads\\\\XDVioDet-master\\\\XDVioDet-master\\\\tratrain\\\\Mission.Impossible.II.2000__#01-43-26_01-44-26_label_B2-B6-G.npy\\n', 'C:\\\\Users\\\\pradh\\\\Downloads\\\\XDVioDet-master\\\\XDVioDet-master\\\\tratrain\\\\Mission.Impossible.II.2000__#01-45-43_01-46-20_label_B6-G-0.npy\\n', 'C:\\\\Users\\\\pradh\\\\Downloads\\\\XDVioDet-master\\\\XDVioDet-master\\\\tratrain\\\\Mission.Impossible.II.2000__#01-49-15_01-49-34_label_G-B6-0.npy\\n', 'C:\\\\Users\\\\pradh\\\\Downloads\\\\XDVioDet-master\\\\XDVioDet-master\\\\tratrain\\\\Mission.Impossible.II.2000__#01-49-35_01-51-52_label_B1-0-0.npy\\n', 'C:\\\\Users\\\\pradh\\\\Downloads\\\\XDVioDet-master\\\\XDVioDet-master\\\\tratrain\\\\Mission.Impossible.II.2000__#01-52-05_01-54-05_label_B1-0-0.npy\\n', 'C:\\\\Users\\\\pradh\\\\Downloads\\\\XDVioDet-master\\\\XDVioDet-master\\\\tratrain\\\\Mission.Impossible.II.2000__#01-55-15_01-55-36_label_B2-0-0.npy\\n', 'C:\\\\Users\\\\pradh\\\\Downloads\\\\XDVioDet-master\\\\XDVioDet-master\\\\tratrain\\\\Mission.Impossible.III.2006__#00-15-40_00-16-28_label_G-0-0.npy\\n', 'C:\\\\Users\\\\pradh\\\\Downloads\\\\XDVioDet-master\\\\XDVioDet-master\\\\tratrain\\\\Mission.Impossible.III.2006__#00-16-30_00-17-22_label_B2-0-0.npy\\n', 'C:\\\\Users\\\\pradh\\\\Downloads\\\\XDVioDet-master\\\\XDVioDet-master\\\\tratrain\\\\Mission.Impossible.III.2006__#00-17-45_00-18-13_label_B2-G-0.npy\\n', 'C:\\\\Users\\\\pradh\\\\Downloads\\\\XDVioDet-master\\\\XDVioDet-master\\\\tratrain\\\\Mission.Impossible.III.2006__#00-18-41_00-19-45_label_B2-0-0.npy\\n', 'C:\\\\Users\\\\pradh\\\\Downloads\\\\XDVioDet-master\\\\XDVioDet-master\\\\tratrain\\\\Mission.Impossible.III.2006__#00-20-44_00-21-20_label_G-0-0.npy\\n', 'C:\\\\Users\\\\pradh\\\\Downloads\\\\XDVioDet-master\\\\XDVioDet-master\\\\tratrain\\\\Mission.Impossible.III.2006__#00-22-20_00-22-35_label_G-0-0.npy\\n', 'C:\\\\Users\\\\pradh\\\\Downloads\\\\XDVioDet-master\\\\XDVioDet-master\\\\tratrain\\\\Mission.Impossible.III.2006__#00-23-15_00-23-35_label_G-0-0.npy\\n', 'C:\\\\Users\\\\pradh\\\\Downloads\\\\XDVioDet-master\\\\XDVioDet-master\\\\tratrain\\\\Mission.Impossible.III.2006__#01-02-54_01-04-32_label_G-B6-0.npy\\n', 'C:\\\\Users\\\\pradh\\\\Downloads\\\\XDVioDet-master\\\\XDVioDet-master\\\\tratrain\\\\Mission.Impossible.III.2006__#01-04-32_01-05-54_label_B2-0-0.npy\\n', 'C:\\\\Users\\\\pradh\\\\Downloads\\\\XDVioDet-master\\\\XDVioDet-master\\\\tratrain\\\\Mission.Impossible.III.2006__#01-07-35_01-07-55_label_B2-G-0.npy\\n', 'C:\\\\Users\\\\pradh\\\\Downloads\\\\XDVioDet-master\\\\XDVioDet-master\\\\tratrain\\\\Mission.Impossible.III.2006__#01-16-19_01-16-57_label_B1-0-0.npy\\n', 'C:\\\\Users\\\\pradh\\\\Downloads\\\\XDVioDet-master\\\\XDVioDet-master\\\\tratrain\\\\Mission.Impossible.III.2006__#01-31-37_01-32-20_label_B2-B6-0.npy\\n', 'C:\\\\Users\\\\pradh\\\\Downloads\\\\XDVioDet-master\\\\XDVioDet-master\\\\tratrain\\\\Mission.Impossible.III.2006__#01-41-59_01-42-36_label_B1-0-0.npy\\n', 'C:\\\\Users\\\\pradh\\\\Downloads\\\\XDVioDet-master\\\\XDVioDet-master\\\\tratrain\\\\Mission.Impossible.III.2006__#01-47-33_01-49-14_label_B1-B2-0.npy\\n', 'C:\\\\Users\\\\pradh\\\\Downloads\\\\XDVioDet-master\\\\XDVioDet-master\\\\tratrain\\\\Mission.Impossible.III.2006__#01-50-19_01-51-13_label_B1-0-0.npy\\n', 'C:\\\\Users\\\\pradh\\\\Downloads\\\\XDVioDet-master\\\\XDVioDet-master\\\\tratrain\\\\Mission.Impossible.V.Rogue.Nation.2015__#00-35-24_00-36-24_label_B1-0-0.npy\\n', 'C:\\\\Users\\\\pradh\\\\Downloads\\\\XDVioDet-master\\\\XDVioDet-master\\\\tratrain\\\\Mission.Impossible.V.Rogue.Nation.2015__#00-37-00_00-37-59_label_B1-0-0.npy\\n', 'C:\\\\Users\\\\pradh\\\\Downloads\\\\XDVioDet-master\\\\XDVioDet-master\\\\tratrain\\\\Mission.Impossible.V.Rogue.Nation.2015__#00-41-49_00-42-21_label_G-0-0.npy\\n', 'C:\\\\Users\\\\pradh\\\\Downloads\\\\XDVioDet-master\\\\XDVioDet-master\\\\tratrain\\\\Mission.Impossible.V.Rogue.Nation.2015__#00-43-41_00-44-08_label_B2-0-0.npy\\n', 'C:\\\\Users\\\\pradh\\\\Downloads\\\\XDVioDet-master\\\\XDVioDet-master\\\\tratrain\\\\Mission.Impossible.V.Rogue.Nation.2015__#00-50-43_00-50-56_label_B2-0-0.npy\\n', 'C:\\\\Users\\\\pradh\\\\Downloads\\\\XDVioDet-master\\\\XDVioDet-master\\\\tratrain\\\\Mission.Impossible.V.Rogue.Nation.2015__#01-14-35_01-15-25_label_B2-B6-0.npy\\n', 'C:\\\\Users\\\\pradh\\\\Downloads\\\\XDVioDet-master\\\\XDVioDet-master\\\\tratrain\\\\Mission.Impossible.V.Rogue.Nation.2015__#01-55-51_01-57-18_label_B1-B2-0.npy\\n', 'C:\\\\Users\\\\pradh\\\\Downloads\\\\XDVioDet-master\\\\XDVioDet-master\\\\tratrain\\\\Mission.Impossible.V.Rogue.Nation.2015__#01-57-48_01-59-18_label_B1-0-0.npy\\n', 'C:\\\\Users\\\\pradh\\\\Downloads\\\\XDVioDet-master\\\\XDVioDet-master\\\\tratrain\\\\New.Kids.Turbo.2010__#00-02-24_00-03-30_label_B6-0-0.npy\\n', 'C:\\\\Users\\\\pradh\\\\Downloads\\\\XDVioDet-master\\\\XDVioDet-master\\\\tratrain\\\\New.Kids.Turbo.2010__#00-09-22_00-09-39_label_B1-0-0.npy\\n', 'C:\\\\Users\\\\pradh\\\\Downloads\\\\XDVioDet-master\\\\XDVioDet-master\\\\tratrain\\\\New.Kids.Turbo.2010__#00-13-50_00-14-10_label_B1-0-0.npy\\n', 'C:\\\\Users\\\\pradh\\\\Downloads\\\\XDVioDet-master\\\\XDVioDet-master\\\\tratrain\\\\New.Kids.Turbo.2010__#00-45-45_00-46-20_label_B2-0-0.npy\\n', 'C:\\\\Users\\\\pradh\\\\Downloads\\\\XDVioDet-master\\\\XDVioDet-master\\\\tratrain\\\\New.Kids.Turbo.2010__#00-58-01_00-58-33_label_G-0-0.npy\\n', 'C:\\\\Users\\\\pradh\\\\Downloads\\\\XDVioDet-master\\\\XDVioDet-master\\\\tratrain\\\\New.Kids.Turbo.2010__#01-12-25_01-14-25_label_B2-0-0.npy\\n', 'C:\\\\Users\\\\pradh\\\\Downloads\\\\XDVioDet-master\\\\XDVioDet-master\\\\tratrain\\\\Operation.Red.Sea.2018__#0-05-27_0-07-35_label_B2-0-0.npy\\n', 'C:\\\\Users\\\\pradh\\\\Downloads\\\\XDVioDet-master\\\\XDVioDet-master\\\\tratrain\\\\Operation.Red.Sea.2018__#0-07-37_0-07-55_label_G-0-0.npy\\n', 'C:\\\\Users\\\\pradh\\\\Downloads\\\\XDVioDet-master\\\\XDVioDet-master\\\\tratrain\\\\Operation.Red.Sea.2018__#0-26-07_0-27-21_label_B2-0-0.npy\\n', 'C:\\\\Users\\\\pradh\\\\Downloads\\\\XDVioDet-master\\\\XDVioDet-master\\\\tratrain\\\\Operation.Red.Sea.2018__#0-30-40_0-31-30_label_B2-0-0.npy\\n', 'C:\\\\Users\\\\pradh\\\\Downloads\\\\XDVioDet-master\\\\XDVioDet-master\\\\tratrain\\\\Operation.Red.Sea.2018__#0-31-34_0-33-12_label_B2-0-0.npy\\n', 'C:\\\\Users\\\\pradh\\\\Downloads\\\\XDVioDet-master\\\\XDVioDet-master\\\\tratrain\\\\Operation.Red.Sea.2018__#0-33-45_0-34-20_label_B5-0-0.npy\\n', 'C:\\\\Users\\\\pradh\\\\Downloads\\\\XDVioDet-master\\\\XDVioDet-master\\\\tratrain\\\\Operation.Red.Sea.2018__#0-34-30_0-34-53_label_B2-G-0.npy\\n', 'C:\\\\Users\\\\pradh\\\\Downloads\\\\XDVioDet-master\\\\XDVioDet-master\\\\tratrain\\\\Operation.Red.Sea.2018__#0-35-18_0-36-03_label_B2-B6-0.npy\\n', 'C:\\\\Users\\\\pradh\\\\Downloads\\\\XDVioDet-master\\\\XDVioDet-master\\\\tratrain\\\\Operation.Red.Sea.2018__#0-36-25_0-38-01_label_B2-0-0.npy\\n', 'C:\\\\Users\\\\pradh\\\\Downloads\\\\XDVioDet-master\\\\XDVioDet-master\\\\tratrain\\\\Operation.Red.Sea.2018__#0-38-02_0-43-05_label_B2-G-0.npy\\n', 'C:\\\\Users\\\\pradh\\\\Downloads\\\\XDVioDet-master\\\\XDVioDet-master\\\\tratrain\\\\Operation.Red.Sea.2018__#0-53-51_0-55-00_label_G-0-0.npy\\n', 'C:\\\\Users\\\\pradh\\\\Downloads\\\\XDVioDet-master\\\\XDVioDet-master\\\\tratrain\\\\Operation.Red.Sea.2018__#0-55-04_0-56-25_label_B2-0-0.npy\\n', 'C:\\\\Users\\\\pradh\\\\Downloads\\\\XDVioDet-master\\\\XDVioDet-master\\\\tratrain\\\\Operation.Red.Sea.2018__#01-00-55_01-01-00_label_G-0-0.npy\\n', 'C:\\\\Users\\\\pradh\\\\Downloads\\\\XDVioDet-master\\\\XDVioDet-master\\\\tratrain\\\\Operation.Red.Sea.2018__#01-02-13_01-02-22_label_G-0-0.npy\\n', 'C:\\\\Users\\\\pradh\\\\Downloads\\\\XDVioDet-master\\\\XDVioDet-master\\\\tratrain\\\\Operation.Red.Sea.2018__#01-06-10_01-06-40_label_G-0-0.npy\\n', 'C:\\\\Users\\\\pradh\\\\Downloads\\\\XDVioDet-master\\\\XDVioDet-master\\\\tratrain\\\\Operation.Red.Sea.2018__#01-27-33_01-27-43_label_G-0-0.npy\\n', 'C:\\\\Users\\\\pradh\\\\Downloads\\\\XDVioDet-master\\\\XDVioDet-master\\\\tratrain\\\\Operation.Red.Sea.2018__#01-28-15_01-29-05_label_B2-0-0.npy\\n', 'C:\\\\Users\\\\pradh\\\\Downloads\\\\XDVioDet-master\\\\XDVioDet-master\\\\tratrain\\\\Operation.Red.Sea.2018__#01-31-26_01-31-45_label_G-0-0.npy\\n', 'C:\\\\Users\\\\pradh\\\\Downloads\\\\XDVioDet-master\\\\XDVioDet-master\\\\tratrain\\\\Operation.Red.Sea.2018__#01-31-46_01-32-01_label_B2-0-0.npy\\n', 'C:\\\\Users\\\\pradh\\\\Downloads\\\\XDVioDet-master\\\\XDVioDet-master\\\\tratrain\\\\Operation.Red.Sea.2018__#01-32-16_01-33-29_label_B2-G-0.npy\\n', 'C:\\\\Users\\\\pradh\\\\Downloads\\\\XDVioDet-master\\\\XDVioDet-master\\\\tratrain\\\\Operation.Red.Sea.2018__#01-34-55_01-35-22_label_G-0-0.npy\\n', 'C:\\\\Users\\\\pradh\\\\Downloads\\\\XDVioDet-master\\\\XDVioDet-master\\\\tratrain\\\\Operation.Red.Sea.2018__#01-36-06_01-36-20_label_G-0-0.npy\\n', 'C:\\\\Users\\\\pradh\\\\Downloads\\\\XDVioDet-master\\\\XDVioDet-master\\\\tratrain\\\\Operation.Red.Sea.2018__#01-36-21_01-37-00_label_B2-0-0.npy\\n', 'C:\\\\Users\\\\pradh\\\\Downloads\\\\XDVioDet-master\\\\XDVioDet-master\\\\tratrain\\\\Operation.Red.Sea.2018__#01-39-46_01-40-25_label_G-0-0.npy\\n', 'C:\\\\Users\\\\pradh\\\\Downloads\\\\XDVioDet-master\\\\XDVioDet-master\\\\tratrain\\\\Operation.Red.Sea.2018__#01-42-54_01-44-00_label_B2-0-0.npy\\n', 'C:\\\\Users\\\\pradh\\\\Downloads\\\\XDVioDet-master\\\\XDVioDet-master\\\\tratrain\\\\Operation.Red.Sea.2018__#01-52-20_01-54-14_label_G-0-0.npy\\n', 'C:\\\\Users\\\\pradh\\\\Downloads\\\\XDVioDet-master\\\\XDVioDet-master\\\\tratrain\\\\Operation.Red.Sea.2018__#02-08-54_02-09-08_label_G-B6-0.npy\\n', 'C:\\\\Users\\\\pradh\\\\Downloads\\\\XDVioDet-master\\\\XDVioDet-master\\\\tratrain\\\\Operation.Red.Sea.2018__#02-12-05_02-12-26_label_G-0-0.npy\\n', 'C:\\\\Users\\\\pradh\\\\Downloads\\\\XDVioDet-master\\\\XDVioDet-master\\\\tratrain\\\\Quantum.Of.Solace.2008__#00-00-44_00-03-45_label_B2-B6-0.npy\\n', 'C:\\\\Users\\\\pradh\\\\Downloads\\\\XDVioDet-master\\\\XDVioDet-master\\\\tratrain\\\\Quantum.Of.Solace.2008__#00-13-19_00-14-55_label_B1-B2-0.npy\\n', 'C:\\\\Users\\\\pradh\\\\Downloads\\\\XDVioDet-master\\\\XDVioDet-master\\\\tratrain\\\\Quantum.Of.Solace.2008__#00-18-46_00-19-53_label_B1-0-0.npy\\n', 'C:\\\\Users\\\\pradh\\\\Downloads\\\\XDVioDet-master\\\\XDVioDet-master\\\\tratrain\\\\Quantum.Of.Solace.2008__#00-30-15_00-31-11_label_B2-0-0.npy\\n', 'C:\\\\Users\\\\pradh\\\\Downloads\\\\XDVioDet-master\\\\XDVioDet-master\\\\tratrain\\\\Quantum.Of.Solace.2008__#00-31-25_00-32-31_label_B2-G-B6.npy\\n', 'C:\\\\Users\\\\pradh\\\\Downloads\\\\XDVioDet-master\\\\XDVioDet-master\\\\tratrain\\\\Quantum.Of.Solace.2008__#00-44-22_00-45-32_label_B2-0-0.npy\\n', 'C:\\\\Users\\\\pradh\\\\Downloads\\\\XDVioDet-master\\\\XDVioDet-master\\\\tratrain\\\\Quantum.Of.Solace.2008__#01-02-03_01-02-46_label_B2-B1-0.npy\\n', 'C:\\\\Users\\\\pradh\\\\Downloads\\\\XDVioDet-master\\\\XDVioDet-master\\\\tratrain\\\\Quantum.Of.Solace.2008__#01-22-53_01-23-55_label_B2-B1-0.npy\\n', 'C:\\\\Users\\\\pradh\\\\Downloads\\\\XDVioDet-master\\\\XDVioDet-master\\\\tratrain\\\\Quantum.Of.Solace.2008__#01-29-46_01-30-26_label_B2-G-0.npy\\n', 'C:\\\\Users\\\\pradh\\\\Downloads\\\\XDVioDet-master\\\\XDVioDet-master\\\\tratrain\\\\Quantum.Of.Solace.2008__#01-30-50_01-31-10_label_B1-G-0.npy\\n', 'C:\\\\Users\\\\pradh\\\\Downloads\\\\XDVioDet-master\\\\XDVioDet-master\\\\tratrain\\\\Quantum.Of.Solace.2008__#01-31-16_01-32-50_label_B1-G-0.npy\\n', 'C:\\\\Users\\\\pradh\\\\Downloads\\\\XDVioDet-master\\\\XDVioDet-master\\\\tratrain\\\\Quantum.Of.Solace.2008__#01-33-02_01-34-52_label_G-B2-0.npy\\n', 'C:\\\\Users\\\\pradh\\\\Downloads\\\\XDVioDet-master\\\\XDVioDet-master\\\\tratrain\\\\Rush.Hour.1998.BluRay__#00-02-23_00-04-02_label_B1-B2-0.npy\\n', 'C:\\\\Users\\\\pradh\\\\Downloads\\\\XDVioDet-master\\\\XDVioDet-master\\\\tratrain\\\\Rush.Hour.1998.BluRay__#00-07-26_00-08-02_label_B1-0-0.npy\\n', 'C:\\\\Users\\\\pradh\\\\Downloads\\\\XDVioDet-master\\\\XDVioDet-master\\\\tratrain\\\\Rush.Hour.1998.BluRay__#00-32-44_00-34-12_label_B1-0-0.npy\\n', 'C:\\\\Users\\\\pradh\\\\Downloads\\\\XDVioDet-master\\\\XDVioDet-master\\\\tratrain\\\\Rush.Hour.1998.BluRay__#00-37-33_00-38-10_label_B1-0-0.npy\\n', 'C:\\\\Users\\\\pradh\\\\Downloads\\\\XDVioDet-master\\\\XDVioDet-master\\\\tratrain\\\\Rush.Hour.1998.BluRay__#00-43-05_00-43-36_label_G-0-0.npy\\n', 'C:\\\\Users\\\\pradh\\\\Downloads\\\\XDVioDet-master\\\\XDVioDet-master\\\\tratrain\\\\Rush.Hour.1998.BluRay__#00-44-45_00-46-42_label_B1-B2-0.npy\\n', 'C:\\\\Users\\\\pradh\\\\Downloads\\\\XDVioDet-master\\\\XDVioDet-master\\\\tratrain\\\\Rush.Hour.1998.BluRay__#01-02-47_01-04-17_label_B1-0-0.npy\\n', 'C:\\\\Users\\\\pradh\\\\Downloads\\\\XDVioDet-master\\\\XDVioDet-master\\\\tratrain\\\\Rush.Hour.1998.BluRay__#01-18-52_01-20-08_label_B2-B6-0.npy\\n', 'C:\\\\Users\\\\pradh\\\\Downloads\\\\XDVioDet-master\\\\XDVioDet-master\\\\tratrain\\\\Rush.Hour.1998.BluRay__#01-21-48_01-22-19_label_B2-0-0.npy\\n', 'C:\\\\Users\\\\pradh\\\\Downloads\\\\XDVioDet-master\\\\XDVioDet-master\\\\tratrain\\\\Rush.Hour.1998.BluRay__#01-22-19_01-24-06_label_B1-B2-0.npy\\n', 'C:\\\\Users\\\\pradh\\\\Downloads\\\\XDVioDet-master\\\\XDVioDet-master\\\\tratrain\\\\Rush.Hour.3.2007.BluRay__#00-08-51_00-09-10_label_B2-B6-0.npy\\n', 'C:\\\\Users\\\\pradh\\\\Downloads\\\\XDVioDet-master\\\\XDVioDet-master\\\\tratrain\\\\Rush.Hour.3.2007.BluRay__#00-18-21_00-18-47_label_B2-0-0.npy\\n', 'C:\\\\Users\\\\pradh\\\\Downloads\\\\XDVioDet-master\\\\XDVioDet-master\\\\tratrain\\\\Rush.Hour.3.2007.BluRay__#00-18-47_00-20-11_label_B2-B1-0.npy\\n', 'C:\\\\Users\\\\pradh\\\\Downloads\\\\XDVioDet-master\\\\XDVioDet-master\\\\tratrain\\\\Rush.Hour.3.2007.BluRay__#00-25-05_00-25-25_label_G-0-0.npy\\n', 'C:\\\\Users\\\\pradh\\\\Downloads\\\\XDVioDet-master\\\\XDVioDet-master\\\\tratrain\\\\Rush.Hour.3.2007.BluRay__#01-09-20_01-10-57_label_B1-0-0.npy\\n', 'C:\\\\Users\\\\pradh\\\\Downloads\\\\XDVioDet-master\\\\XDVioDet-master\\\\tratrain\\\\Rush.Hour.3.2007.BluRay__#01-12-36_01-13-53_label_B1-0-0.npy\\n', 'C:\\\\Users\\\\pradh\\\\Downloads\\\\XDVioDet-master\\\\XDVioDet-master\\\\tratrain\\\\Rush.Hour.3.2007.BluRay__#01-16-36_01-17-08_label_B2-0-0.npy\\n', 'C:\\\\Users\\\\pradh\\\\Downloads\\\\XDVioDet-master\\\\XDVioDet-master\\\\tratrain\\\\Rush.Hour.3.2007.BluRay__#01-17-08_01-17-48_label_B1-B2-0.npy\\n', 'C:\\\\Users\\\\pradh\\\\Downloads\\\\XDVioDet-master\\\\XDVioDet-master\\\\tratrain\\\\Rush.Hour.3.2007.BluRay__#01-18-26_01-18-36_label_B2-0-0.npy\\n', 'C:\\\\Users\\\\pradh\\\\Downloads\\\\XDVioDet-master\\\\XDVioDet-master\\\\tratrain\\\\Rush.Hour.3.2007.BluRay__#01-19-53_01-20-06_label_B2-0-0.npy\\n', 'C:\\\\Users\\\\pradh\\\\Downloads\\\\XDVioDet-master\\\\XDVioDet-master\\\\tratrain\\\\Salt.2010__#00-00-41_00-02-10_label_B5-0-0.npy\\n', 'C:\\\\Users\\\\pradh\\\\Downloads\\\\XDVioDet-master\\\\XDVioDet-master\\\\tratrain\\\\Salt.2010__#00-13-05_00-13-40_label_B5-0-0.npy\\n', 'C:\\\\Users\\\\pradh\\\\Downloads\\\\XDVioDet-master\\\\XDVioDet-master\\\\tratrain\\\\Salt.2010__#00-24-24_00-24-37_label_G-0-0.npy\\n', 'C:\\\\Users\\\\pradh\\\\Downloads\\\\XDVioDet-master\\\\XDVioDet-master\\\\tratrain\\\\Salt.2010__#00-24-37_00-25-07_label_B2-0-0.npy\\n', 'C:\\\\Users\\\\pradh\\\\Downloads\\\\XDVioDet-master\\\\XDVioDet-master\\\\tratrain\\\\Salt.2010__#00-28-03_00-28-35_label_B2-0-0.npy\\n', 'C:\\\\Users\\\\pradh\\\\Downloads\\\\XDVioDet-master\\\\XDVioDet-master\\\\tratrain\\\\Salt.2010__#00-28-36_00-29-00_label_G-0-0.npy\\n', 'C:\\\\Users\\\\pradh\\\\Downloads\\\\XDVioDet-master\\\\XDVioDet-master\\\\tratrain\\\\Salt.2010__#00-34-53_00-35-20_label_B2-0-0.npy\\n', 'C:\\\\Users\\\\pradh\\\\Downloads\\\\XDVioDet-master\\\\XDVioDet-master\\\\tratrain\\\\Salt.2010__#00-36-10_00-36-40_label_B2-0-0.npy\\n', 'C:\\\\Users\\\\pradh\\\\Downloads\\\\XDVioDet-master\\\\XDVioDet-master\\\\tratrain\\\\Salt.2010__#00-49-20_00-49-46_label_B1-0-0.npy\\n', 'C:\\\\Users\\\\pradh\\\\Downloads\\\\XDVioDet-master\\\\XDVioDet-master\\\\tratrain\\\\Salt.2010__#00-50-40_00-51-15_label_B1-B2-0.npy\\n', 'C:\\\\Users\\\\pradh\\\\Downloads\\\\XDVioDet-master\\\\XDVioDet-master\\\\tratrain\\\\Salt.2010__#00-51-17_00-51-40_label_B2-0-0.npy\\n', 'C:\\\\Users\\\\pradh\\\\Downloads\\\\XDVioDet-master\\\\XDVioDet-master\\\\tratrain\\\\Salt.2010__#00-51-40_00-52-10_label_G-0-0.npy\\n', 'C:\\\\Users\\\\pradh\\\\Downloads\\\\XDVioDet-master\\\\XDVioDet-master\\\\tratrain\\\\Salt.2010__#00-52-08_00-52-38_label_B2-0-0.npy\\n', 'C:\\\\Users\\\\pradh\\\\Downloads\\\\XDVioDet-master\\\\XDVioDet-master\\\\tratrain\\\\Salt.2010__#00-55-52_00-57-50_label_B1-B5-B6.npy\\n', 'C:\\\\Users\\\\pradh\\\\Downloads\\\\XDVioDet-master\\\\XDVioDet-master\\\\tratrain\\\\Salt.2010__#01-05-30_01-05-53_label_B5-0-0.npy\\n', 'C:\\\\Users\\\\pradh\\\\Downloads\\\\XDVioDet-master\\\\XDVioDet-master\\\\tratrain\\\\Salt.2010__#01-13-50_01-14-07_label_B1-0-0.npy\\n', 'C:\\\\Users\\\\pradh\\\\Downloads\\\\XDVioDet-master\\\\XDVioDet-master\\\\tratrain\\\\Salt.2010__#01-15-20_01-15-42_label_B1-0-0.npy\\n', 'C:\\\\Users\\\\pradh\\\\Downloads\\\\XDVioDet-master\\\\XDVioDet-master\\\\tratrain\\\\Salt.2010__#01-17-50_01-18-14_label_B1-B2-B5.npy\\n', 'C:\\\\Users\\\\pradh\\\\Downloads\\\\XDVioDet-master\\\\XDVioDet-master\\\\tratrain\\\\Salt.2010__#01-19-30_01-19-54_label_B2-0-0.npy\\n', 'C:\\\\Users\\\\pradh\\\\Downloads\\\\XDVioDet-master\\\\XDVioDet-master\\\\tratrain\\\\Salt.2010__#01-20-25_01-21-00_label_B2-0-0.npy\\n', 'C:\\\\Users\\\\pradh\\\\Downloads\\\\XDVioDet-master\\\\XDVioDet-master\\\\tratrain\\\\Salt.2010__#01-25-00_01-25-25_label_B2-0-0.npy\\n', 'C:\\\\Users\\\\pradh\\\\Downloads\\\\XDVioDet-master\\\\XDVioDet-master\\\\tratrain\\\\Salt.2010__#01-25-52_01-26-27_label_B2-0-0.npy\\n', 'C:\\\\Users\\\\pradh\\\\Downloads\\\\XDVioDet-master\\\\XDVioDet-master\\\\tratrain\\\\Salt.2010__#01-26-40_01-28-10_label_B2-B1-B5.npy\\n', 'C:\\\\Users\\\\pradh\\\\Downloads\\\\XDVioDet-master\\\\XDVioDet-master\\\\tratrain\\\\Salt.2010__#01-31-17_01-31-45_label_B5-0-0.npy\\n', 'C:\\\\Users\\\\pradh\\\\Downloads\\\\XDVioDet-master\\\\XDVioDet-master\\\\tratrain\\\\Saving.Private.Ryan.1998__#00-05-56_00-09-23_label_B2-G-0.npy\\n', 'C:\\\\Users\\\\pradh\\\\Downloads\\\\XDVioDet-master\\\\XDVioDet-master\\\\tratrain\\\\Saving.Private.Ryan.1998__#00-09-34_00-10-31_label_G-B2-0.npy\\n', 'C:\\\\Users\\\\pradh\\\\Downloads\\\\XDVioDet-master\\\\XDVioDet-master\\\\tratrain\\\\Saving.Private.Ryan.1998__#00-10-58_00-23-50_label_B2-G-0.npy\\n', 'C:\\\\Users\\\\pradh\\\\Downloads\\\\XDVioDet-master\\\\XDVioDet-master\\\\tratrain\\\\Saving.Private.Ryan.1998__#00-23-55_00-24-06_label_G-0-0.npy\\n', 'C:\\\\Users\\\\pradh\\\\Downloads\\\\XDVioDet-master\\\\XDVioDet-master\\\\tratrain\\\\Saving.Private.Ryan.1998__#00-24-06_00-28-42_label_B2-G-0.npy\\n', 'C:\\\\Users\\\\pradh\\\\Downloads\\\\XDVioDet-master\\\\XDVioDet-master\\\\tratrain\\\\Saving.Private.Ryan.1998__#00-55-35_00-55-55_label_B2-0-0.npy\\n', 'C:\\\\Users\\\\pradh\\\\Downloads\\\\XDVioDet-master\\\\XDVioDet-master\\\\tratrain\\\\Saving.Private.Ryan.1998__#00-58-47_00-59-44_label_B2-0-0.npy\\n', 'C:\\\\Users\\\\pradh\\\\Downloads\\\\XDVioDet-master\\\\XDVioDet-master\\\\tratrain\\\\Saving.Private.Ryan.1998__#01-26-59_01-27-49_label_B2-0-0.npy\\n', 'C:\\\\Users\\\\pradh\\\\Downloads\\\\XDVioDet-master\\\\XDVioDet-master\\\\tratrain\\\\Saving.Private.Ryan.1998__#01-27-49_01-28-33_label_G-B2-0.npy\\n', 'C:\\\\Users\\\\pradh\\\\Downloads\\\\XDVioDet-master\\\\XDVioDet-master\\\\tratrain\\\\Saving.Private.Ryan.1998__#01-32-02_01-32-47_label_B1-0-0.npy\\n', 'C:\\\\Users\\\\pradh\\\\Downloads\\\\XDVioDet-master\\\\XDVioDet-master\\\\tratrain\\\\Saving.Private.Ryan.1998__#01-44-47_01-46-06_label_G-B2-0.npy\\n', 'C:\\\\Users\\\\pradh\\\\Downloads\\\\XDVioDet-master\\\\XDVioDet-master\\\\tratrain\\\\Saving.Private.Ryan.1998__#02-13-05_02-13-15_label_G-0-0.npy\\n', 'C:\\\\Users\\\\pradh\\\\Downloads\\\\XDVioDet-master\\\\XDVioDet-master\\\\tratrain\\\\Saving.Private.Ryan.1998__#02-13-16_02-13-45_label_B2-0-0.npy\\n', 'C:\\\\Users\\\\pradh\\\\Downloads\\\\XDVioDet-master\\\\XDVioDet-master\\\\tratrain\\\\Saving.Private.Ryan.1998__#02-13-45_02-15-55_label_B2-G-0.npy\\n', 'C:\\\\Users\\\\pradh\\\\Downloads\\\\XDVioDet-master\\\\XDVioDet-master\\\\tratrain\\\\Saving.Private.Ryan.1998__#02-16-11_02-16-30_label_G-0-0.npy\\n', 'C:\\\\Users\\\\pradh\\\\Downloads\\\\XDVioDet-master\\\\XDVioDet-master\\\\tratrain\\\\Saving.Private.Ryan.1998__#02-17-44_02-18-50_label_B2-0-0.npy\\n', 'C:\\\\Users\\\\pradh\\\\Downloads\\\\XDVioDet-master\\\\XDVioDet-master\\\\tratrain\\\\Saving.Private.Ryan.1998__#02-19-02_02-20-00_label_B2-0-0.npy\\n', 'C:\\\\Users\\\\pradh\\\\Downloads\\\\XDVioDet-master\\\\XDVioDet-master\\\\tratrain\\\\Saving.Private.Ryan.1998__#02-22-13_02-23-00_label_B2-0-0.npy\\n', 'C:\\\\Users\\\\pradh\\\\Downloads\\\\XDVioDet-master\\\\XDVioDet-master\\\\tratrain\\\\Saving.Private.Ryan.1998__#02-23-28_02-23-58_label_B2-0-0.npy\\n', 'C:\\\\Users\\\\pradh\\\\Downloads\\\\XDVioDet-master\\\\XDVioDet-master\\\\tratrain\\\\Saving.Private.Ryan.1998__#02-27-23_02-28-20_label_G-0-0.npy\\n', 'C:\\\\Users\\\\pradh\\\\Downloads\\\\XDVioDet-master\\\\XDVioDet-master\\\\tratrain\\\\Saving.Private.Ryan.1998__#02-29-31_02-30-55_label_B2-G-0.npy\\n', 'C:\\\\Users\\\\pradh\\\\Downloads\\\\XDVioDet-master\\\\XDVioDet-master\\\\tratrain\\\\Saving.Private.Ryan.1998__#02-30-55_02-31-15_label_G-0-0.npy\\n', 'C:\\\\Users\\\\pradh\\\\Downloads\\\\XDVioDet-master\\\\XDVioDet-master\\\\tratrain\\\\Saving.Private.Ryan.1998__#02-32-23_02-33-09_label_B2-0-0.npy\\n', 'C:\\\\Users\\\\pradh\\\\Downloads\\\\XDVioDet-master\\\\XDVioDet-master\\\\tratrain\\\\Saving.Private.Ryan.1998__#02-33-49_02-34-26_label_G-B2-0.npy\\n', 'C:\\\\Users\\\\pradh\\\\Downloads\\\\XDVioDet-master\\\\XDVioDet-master\\\\tratrain\\\\Saving.Private.Ryan.1998__#02-34-36_02-34-57_label_B2-0-0.npy\\n', 'C:\\\\Users\\\\pradh\\\\Downloads\\\\XDVioDet-master\\\\XDVioDet-master\\\\tratrain\\\\Shoot.Em.Up.2007__#00-02-08_00-05-45_label_B2-0-0.npy\\n', 'C:\\\\Users\\\\pradh\\\\Downloads\\\\XDVioDet-master\\\\XDVioDet-master\\\\tratrain\\\\Shoot.Em.Up.2007__#00-06-50_00-07-55_label_B2-0-0.npy\\n', 'C:\\\\Users\\\\pradh\\\\Downloads\\\\XDVioDet-master\\\\XDVioDet-master\\\\tratrain\\\\Shoot.Em.Up.2007__#00-11-10_00-12-10_label_B2-B1-0.npy\\n', 'C:\\\\Users\\\\pradh\\\\Downloads\\\\XDVioDet-master\\\\XDVioDet-master\\\\tratrain\\\\Shoot.Em.Up.2007__#00-59-28_01-01-20_label_B2-B6-0.npy\\n', 'C:\\\\Users\\\\pradh\\\\Downloads\\\\XDVioDet-master\\\\XDVioDet-master\\\\tratrain\\\\Shoot.Em.Up.2007__#01-04-40_01-06-06_label_B1-0-0.npy\\n', 'C:\\\\Users\\\\pradh\\\\Downloads\\\\XDVioDet-master\\\\XDVioDet-master\\\\tratrain\\\\Shoot.Em.Up.2007__#01-13-15_01-13-50_label_B1-0-0.npy\\n', 'C:\\\\Users\\\\pradh\\\\Downloads\\\\XDVioDet-master\\\\XDVioDet-master\\\\tratrain\\\\Sin.City.2005__#0-07-40_0-08-40_label_B1-0-0.npy\\n', 'C:\\\\Users\\\\pradh\\\\Downloads\\\\XDVioDet-master\\\\XDVioDet-master\\\\tratrain\\\\Sin.City.2005__#0-09-48_0-10-10_label_B2-0-0.npy\\n', 'C:\\\\Users\\\\pradh\\\\Downloads\\\\XDVioDet-master\\\\XDVioDet-master\\\\tratrain\\\\Sin.City.2005__#0-12-05_0-12-32_label_B2-0-0.npy\\n', 'C:\\\\Users\\\\pradh\\\\Downloads\\\\XDVioDet-master\\\\XDVioDet-master\\\\tratrain\\\\Sin.City.2005__#0-15-15_0-16-11_label_B1-B2-B6.npy\\n', 'C:\\\\Users\\\\pradh\\\\Downloads\\\\XDVioDet-master\\\\XDVioDet-master\\\\tratrain\\\\Sin.City.2005__#0-20-08_0-21-21_label_B1-B2-0.npy\\n', 'C:\\\\Users\\\\pradh\\\\Downloads\\\\XDVioDet-master\\\\XDVioDet-master\\\\tratrain\\\\Sin.City.2005__#0-23-41_0-23-56_label_B2-0-0.npy\\n', 'C:\\\\Users\\\\pradh\\\\Downloads\\\\XDVioDet-master\\\\XDVioDet-master\\\\tratrain\\\\Sin.City.2005__#0-25-40_0-26-30_label_B1-0-0.npy\\n', 'C:\\\\Users\\\\pradh\\\\Downloads\\\\XDVioDet-master\\\\XDVioDet-master\\\\tratrain\\\\Sin.City.2005__#0-29-56_0-30-21_label_B1-B2-0.npy\\n', 'C:\\\\Users\\\\pradh\\\\Downloads\\\\XDVioDet-master\\\\XDVioDet-master\\\\tratrain\\\\Sin.City.2005__#0-32-20_0-33-39_label_B5-0-0.npy\\n', 'C:\\\\Users\\\\pradh\\\\Downloads\\\\XDVioDet-master\\\\XDVioDet-master\\\\tratrain\\\\Sin.City.2005__#0-36-50_0-37-08_label_G-B2-0.npy\\n', 'C:\\\\Users\\\\pradh\\\\Downloads\\\\XDVioDet-master\\\\XDVioDet-master\\\\tratrain\\\\Sin.City.2005__#0-37-08_0-37-50_label_B1-0-0.npy\\n', 'C:\\\\Users\\\\pradh\\\\Downloads\\\\XDVioDet-master\\\\XDVioDet-master\\\\tratrain\\\\Sin.City.2005__#0-52-13_0-53-23_label_B5-0-0.npy\\n', 'C:\\\\Users\\\\pradh\\\\Downloads\\\\XDVioDet-master\\\\XDVioDet-master\\\\tratrain\\\\Sin.City.2005__#01-13-58_01-15-00_label_B2-0-0.npy\\n', 'C:\\\\Users\\\\pradh\\\\Downloads\\\\XDVioDet-master\\\\XDVioDet-master\\\\tratrain\\\\Sin.City.2005__#01-15-01_01-15-15_label_G-0-0.npy\\n', 'C:\\\\Users\\\\pradh\\\\Downloads\\\\XDVioDet-master\\\\XDVioDet-master\\\\tratrain\\\\Sin.City.2005__#01-17-34_01-18-27_label_B6-B2-0.npy\\n', 'C:\\\\Users\\\\pradh\\\\Downloads\\\\XDVioDet-master\\\\XDVioDet-master\\\\tratrain\\\\Sin.City.2005__#01-18-27_01-18-36_label_G-0-0.npy\\n', 'C:\\\\Users\\\\pradh\\\\Downloads\\\\XDVioDet-master\\\\XDVioDet-master\\\\tratrain\\\\Sin.City.2005__#01-24-50_01-25-55_label_B2-0-0.npy\\n', 'C:\\\\Users\\\\pradh\\\\Downloads\\\\XDVioDet-master\\\\XDVioDet-master\\\\tratrain\\\\Sin.City.2005__#01-30-07_01-31-45_label_B5-0-0.npy\\n', 'C:\\\\Users\\\\pradh\\\\Downloads\\\\XDVioDet-master\\\\XDVioDet-master\\\\tratrain\\\\Sin.City.2005__#01-41-09_01-41-44_label_B2-B6-0.npy\\n', 'C:\\\\Users\\\\pradh\\\\Downloads\\\\XDVioDet-master\\\\XDVioDet-master\\\\tratrain\\\\Sin.City.2005__#01-48-44_01-49-17_label_B1-0-0.npy\\n', 'C:\\\\Users\\\\pradh\\\\Downloads\\\\XDVioDet-master\\\\XDVioDet-master\\\\tratrain\\\\Sin.City.2005__#01-50-47_01-51-55_label_B5-0-0.npy\\n', 'C:\\\\Users\\\\pradh\\\\Downloads\\\\XDVioDet-master\\\\XDVioDet-master\\\\tratrain\\\\Sin.City.2005__#01-53-40_01-54-12_label_B5-0-0.npy\\n', 'C:\\\\Users\\\\pradh\\\\Downloads\\\\XDVioDet-master\\\\XDVioDet-master\\\\tratrain\\\\Skyfall.2012__#00-03-40_00-04-10_label_B2-0-0.npy\\n', 'C:\\\\Users\\\\pradh\\\\Downloads\\\\XDVioDet-master\\\\XDVioDet-master\\\\tratrain\\\\Skyfall.2012__#00-06-26_00-06-56_label_B2-B6-0.npy\\n', 'C:\\\\Users\\\\pradh\\\\Downloads\\\\XDVioDet-master\\\\XDVioDet-master\\\\tratrain\\\\Skyfall.2012__#00-07-04_00-07-23_label_B2-0-0.npy\\n', 'C:\\\\Users\\\\pradh\\\\Downloads\\\\XDVioDet-master\\\\XDVioDet-master\\\\tratrain\\\\Skyfall.2012__#00-07-24_00-07-46_label_B2-0-0.npy\\n', 'C:\\\\Users\\\\pradh\\\\Downloads\\\\XDVioDet-master\\\\XDVioDet-master\\\\tratrain\\\\Skyfall.2012__#00-07-50_00-08-21_label_B2-0-0.npy\\n', 'C:\\\\Users\\\\pradh\\\\Downloads\\\\XDVioDet-master\\\\XDVioDet-master\\\\tratrain\\\\Skyfall.2012__#00-08-30_00-08-50_label_B2-0-0.npy\\n', 'C:\\\\Users\\\\pradh\\\\Downloads\\\\XDVioDet-master\\\\XDVioDet-master\\\\tratrain\\\\Skyfall.2012__#00-09-55_00-12-10_label_B1-B2-0.npy\\n', 'C:\\\\Users\\\\pradh\\\\Downloads\\\\XDVioDet-master\\\\XDVioDet-master\\\\tratrain\\\\Skyfall.2012__#00-21-15_00-21-36_label_G-0-0.npy\\n', 'C:\\\\Users\\\\pradh\\\\Downloads\\\\XDVioDet-master\\\\XDVioDet-master\\\\tratrain\\\\Skyfall.2012__#00-30-00_00-31-20_label_B2-0-0.npy\\n', 'C:\\\\Users\\\\pradh\\\\Downloads\\\\XDVioDet-master\\\\XDVioDet-master\\\\tratrain\\\\Skyfall.2012__#00-44-00_00-44-20_label_B2-0-0.npy\\n', 'C:\\\\Users\\\\pradh\\\\Downloads\\\\XDVioDet-master\\\\XDVioDet-master\\\\tratrain\\\\Skyfall.2012__#00-49-02_00-50-00_label_B2-B1-0.npy\\n', 'C:\\\\Users\\\\pradh\\\\Downloads\\\\XDVioDet-master\\\\XDVioDet-master\\\\tratrain\\\\Skyfall.2012__#01-03-44_01-04-25_label_B1-0-0.npy\\n', 'C:\\\\Users\\\\pradh\\\\Downloads\\\\XDVioDet-master\\\\XDVioDet-master\\\\tratrain\\\\Skyfall.2012__#01-04-50_01-05-13_label_B1-0-0.npy\\n', 'C:\\\\Users\\\\pradh\\\\Downloads\\\\XDVioDet-master\\\\XDVioDet-master\\\\tratrain\\\\Skyfall.2012__#01-19-10_01-20-00_label_B2-0-0.npy\\n', 'C:\\\\Users\\\\pradh\\\\Downloads\\\\XDVioDet-master\\\\XDVioDet-master\\\\tratrain\\\\Skyfall.2012__#01-37-43_01-38-07_label_G-0-0.npy\\n', 'C:\\\\Users\\\\pradh\\\\Downloads\\\\XDVioDet-master\\\\XDVioDet-master\\\\tratrain\\\\Skyfall.2012__#01-38-10_01-38-43_label_B6-0-0.npy\\n', 'C:\\\\Users\\\\pradh\\\\Downloads\\\\XDVioDet-master\\\\XDVioDet-master\\\\tratrain\\\\Skyfall.2012__#01-40-40_01-42-20_label_B2-0-0.npy\\n', 'C:\\\\Users\\\\pradh\\\\Downloads\\\\XDVioDet-master\\\\XDVioDet-master\\\\tratrain\\\\Skyfall.2012__#01-56-57_01-57-27_label_B2-0-0.npy\\n', 'C:\\\\Users\\\\pradh\\\\Downloads\\\\XDVioDet-master\\\\XDVioDet-master\\\\tratrain\\\\Skyfall.2012__#02-00-30_02-01-19_label_G-0-0.npy\\n', 'C:\\\\Users\\\\pradh\\\\Downloads\\\\XDVioDet-master\\\\XDVioDet-master\\\\tratrain\\\\Skyfall.2012__#02-01-38_02-02-00_label_B2-G-0.npy\\n', 'C:\\\\Users\\\\pradh\\\\Downloads\\\\XDVioDet-master\\\\XDVioDet-master\\\\tratrain\\\\Skyfall.2012__#02-02-50_02-03-30_label_B2-G-0.npy\\n', 'C:\\\\Users\\\\pradh\\\\Downloads\\\\XDVioDet-master\\\\XDVioDet-master\\\\tratrain\\\\Skyfall.2012__#02-04-00_02-05-10_label_G-0-0.npy\\n', 'C:\\\\Users\\\\pradh\\\\Downloads\\\\XDVioDet-master\\\\XDVioDet-master\\\\tratrain\\\\Skyfall.2012__#02-07-10_02-07-45_label_B2-0-0.npy\\n', 'C:\\\\Users\\\\pradh\\\\Downloads\\\\XDVioDet-master\\\\XDVioDet-master\\\\tratrain\\\\Skyfall.2012__#02-08-20_02-08-43_label_B2-0-0.npy\\n', 'C:\\\\Users\\\\pradh\\\\Downloads\\\\XDVioDet-master\\\\XDVioDet-master\\\\tratrain\\\\Spectre.2015__#00-05-40_00-06-05_label_B2-G-0.npy\\n', 'C:\\\\Users\\\\pradh\\\\Downloads\\\\XDVioDet-master\\\\XDVioDet-master\\\\tratrain\\\\Spectre.2015__#00-09-25_00-12-10_label_B1-B2-0.npy\\n', 'C:\\\\Users\\\\pradh\\\\Downloads\\\\XDVioDet-master\\\\XDVioDet-master\\\\tratrain\\\\Spectre.2015__#00-33-43_00-33-55_label_B2-0-0.npy\\n', 'C:\\\\Users\\\\pradh\\\\Downloads\\\\XDVioDet-master\\\\XDVioDet-master\\\\tratrain\\\\Spectre.2015__#00-42-15_00-42-49_label_B5-0-0.npy\\n', 'C:\\\\Users\\\\pradh\\\\Downloads\\\\XDVioDet-master\\\\XDVioDet-master\\\\tratrain\\\\Spectre.2015__#00-58-40_00-59-33_label_B2-0-0.npy\\n', 'C:\\\\Users\\\\pradh\\\\Downloads\\\\XDVioDet-master\\\\XDVioDet-master\\\\tratrain\\\\Spectre.2015__#01-11-54_01-12-20_label_B2-G-0.npy\\n', 'C:\\\\Users\\\\pradh\\\\Downloads\\\\XDVioDet-master\\\\XDVioDet-master\\\\tratrain\\\\Spectre.2015__#01-55-50_01-56-12_label_G-0-0.npy\\n', 'C:\\\\Users\\\\pradh\\\\Downloads\\\\XDVioDet-master\\\\XDVioDet-master\\\\tratrain\\\\Spectre.2015__#01-56-13_01-57-08_label_B2-G-B1.npy\\n', 'C:\\\\Users\\\\pradh\\\\Downloads\\\\XDVioDet-master\\\\XDVioDet-master\\\\tratrain\\\\Spectre.2015__#01-57-09_01-57-40_label_G-0-0.npy\\n', 'C:\\\\Users\\\\pradh\\\\Downloads\\\\XDVioDet-master\\\\XDVioDet-master\\\\tratrain\\\\Spectre.2015__#02-01-20_02-01-40_label_B6-0-0.npy\\n', 'C:\\\\Users\\\\pradh\\\\Downloads\\\\XDVioDet-master\\\\XDVioDet-master\\\\tratrain\\\\Spectre.2015__#02-02-16_02-02-33_label_B2-0-0.npy\\n', 'C:\\\\Users\\\\pradh\\\\Downloads\\\\XDVioDet-master\\\\XDVioDet-master\\\\tratrain\\\\Spectre.2015__#02-11-01_02-11-29_label_B2-0-0.npy\\n', 'C:\\\\Users\\\\pradh\\\\Downloads\\\\XDVioDet-master\\\\XDVioDet-master\\\\tratrain\\\\Spectre.2015__#02-13-30_02-14-05_label_G-0-0.npy\\n', 'C:\\\\Users\\\\pradh\\\\Downloads\\\\XDVioDet-master\\\\XDVioDet-master\\\\tratrain\\\\Spectre.2015__#02-14-32_02-15-20_label_B2-0-0.npy\\n', 'C:\\\\Users\\\\pradh\\\\Downloads\\\\XDVioDet-master\\\\XDVioDet-master\\\\tratrain\\\\Taken.2.UNRATED.EXTENDED.2012__#00-03-15_00-03-45_label_B2-B5-0.npy\\n', 'C:\\\\Users\\\\pradh\\\\Downloads\\\\XDVioDet-master\\\\XDVioDet-master\\\\tratrain\\\\Taken.2.UNRATED.EXTENDED.2012__#00-12-25_00-13-25_label_B5-0-0.npy\\n', 'C:\\\\Users\\\\pradh\\\\Downloads\\\\XDVioDet-master\\\\XDVioDet-master\\\\tratrain\\\\Taken.2.UNRATED.EXTENDED.2012__#00-14-30_00-14-52_label_B5-0-0.npy\\n', 'C:\\\\Users\\\\pradh\\\\Downloads\\\\XDVioDet-master\\\\XDVioDet-master\\\\tratrain\\\\Taken.2.UNRATED.EXTENDED.2012__#00-31-10_00-31-40_label_B2-B6-0.npy\\n', 'C:\\\\Users\\\\pradh\\\\Downloads\\\\XDVioDet-master\\\\XDVioDet-master\\\\tratrain\\\\Taken.2.UNRATED.EXTENDED.2012__#00-32-36_00-32-50_label_B1-0-0.npy\\n', 'C:\\\\Users\\\\pradh\\\\Downloads\\\\XDVioDet-master\\\\XDVioDet-master\\\\tratrain\\\\Taken.2.UNRATED.EXTENDED.2012__#00-33-20_00-35-00_label_B1-B2-0.npy\\n', 'C:\\\\Users\\\\pradh\\\\Downloads\\\\XDVioDet-master\\\\XDVioDet-master\\\\tratrain\\\\Taken.2.UNRATED.EXTENDED.2012__#00-35-40_00-35-58_label_B1-0-0.npy\\n', 'C:\\\\Users\\\\pradh\\\\Downloads\\\\XDVioDet-master\\\\XDVioDet-master\\\\tratrain\\\\Taken.2.UNRATED.EXTENDED.2012__#00-40-30_00-40-54_label_B2-0-0.npy\\n', 'C:\\\\Users\\\\pradh\\\\Downloads\\\\XDVioDet-master\\\\XDVioDet-master\\\\tratrain\\\\Taken.2.UNRATED.EXTENDED.2012__#00-48-51_00-49-12_label_B5-0-0.npy\\n', 'C:\\\\Users\\\\pradh\\\\Downloads\\\\XDVioDet-master\\\\XDVioDet-master\\\\tratrain\\\\Taken.2.UNRATED.EXTENDED.2012__#00-55-49_00-56-10_label_G-0-0.npy\\n', 'C:\\\\Users\\\\pradh\\\\Downloads\\\\XDVioDet-master\\\\XDVioDet-master\\\\tratrain\\\\Taken.2.UNRATED.EXTENDED.2012__#00-58-30_00-59-12_label_B2-B1-0.npy\\n', 'C:\\\\Users\\\\pradh\\\\Downloads\\\\XDVioDet-master\\\\XDVioDet-master\\\\tratrain\\\\Taken.2.UNRATED.EXTENDED.2012__#01-04-15_01-04-45_label_B2-0-0.npy\\n', 'C:\\\\Users\\\\pradh\\\\Downloads\\\\XDVioDet-master\\\\XDVioDet-master\\\\tratrain\\\\Taken.2.UNRATED.EXTENDED.2012__#01-04-50_01-05-50_label_B6-0-0.npy\\n', 'C:\\\\Users\\\\pradh\\\\Downloads\\\\XDVioDet-master\\\\XDVioDet-master\\\\tratrain\\\\Taken.2.UNRATED.EXTENDED.2012__#01-06-50_01-07-40_label_B2-B6-0.npy\\n', 'C:\\\\Users\\\\pradh\\\\Downloads\\\\XDVioDet-master\\\\XDVioDet-master\\\\tratrain\\\\Taken.2.UNRATED.EXTENDED.2012__#01-07-51_01-08-15_label_B2-0-0.npy\\n', 'C:\\\\Users\\\\pradh\\\\Downloads\\\\XDVioDet-master\\\\XDVioDet-master\\\\tratrain\\\\Taken.2.UNRATED.EXTENDED.2012__#01-08-35_01-08-55_label_B6-G-0.npy\\n', 'C:\\\\Users\\\\pradh\\\\Downloads\\\\XDVioDet-master\\\\XDVioDet-master\\\\tratrain\\\\Taken.2.UNRATED.EXTENDED.2012__#01-15-50_01-16-14_label_B1-0-0.npy\\n', 'C:\\\\Users\\\\pradh\\\\Downloads\\\\XDVioDet-master\\\\XDVioDet-master\\\\tratrain\\\\Taken.2.UNRATED.EXTENDED.2012__#01-17-00_01-17-30_label_B1-0-0.npy\\n', 'C:\\\\Users\\\\pradh\\\\Downloads\\\\XDVioDet-master\\\\XDVioDet-master\\\\tratrain\\\\Taken.2.UNRATED.EXTENDED.2012__#01-17-50_01-18-16_label_B2-0-0.npy\\n', 'C:\\\\Users\\\\pradh\\\\Downloads\\\\XDVioDet-master\\\\XDVioDet-master\\\\tratrain\\\\Taken.2.UNRATED.EXTENDED.2012__#01-19-00_01-21-20_label_B2-B1-0.npy\\n', 'C:\\\\Users\\\\pradh\\\\Downloads\\\\XDVioDet-master\\\\XDVioDet-master\\\\tratrain\\\\Taken.2.UNRATED.EXTENDED.2012__#01-22-20_01-24-40_label_B1-B2-0.npy\\n', 'C:\\\\Users\\\\pradh\\\\Downloads\\\\XDVioDet-master\\\\XDVioDet-master\\\\tratrain\\\\Taken.2.UNRATED.EXTENDED.2012__#01-27-50_01-28-16_label_B1-0-0.npy\\n', 'C:\\\\Users\\\\pradh\\\\Downloads\\\\XDVioDet-master\\\\XDVioDet-master\\\\tratrain\\\\Taken.3.2014__#00-20-44_00-21-07_label_B1-0-0.npy\\n', 'C:\\\\Users\\\\pradh\\\\Downloads\\\\XDVioDet-master\\\\XDVioDet-master\\\\tratrain\\\\Taken.3.2014__#00-22-56_00-23-18_label_B2-0-0.npy\\n', 'C:\\\\Users\\\\pradh\\\\Downloads\\\\XDVioDet-master\\\\XDVioDet-master\\\\tratrain\\\\Taken.3.2014__#00-44-08_00-44-30_label_B1-0-0.npy\\n', 'C:\\\\Users\\\\pradh\\\\Downloads\\\\XDVioDet-master\\\\XDVioDet-master\\\\tratrain\\\\Taken.3.2014__#00-45-20_00-46-00_label_B6-0-0.npy\\n', 'C:\\\\Users\\\\pradh\\\\Downloads\\\\XDVioDet-master\\\\XDVioDet-master\\\\tratrain\\\\Taken.3.2014__#00-46-08_00-46-32_label_B2-B6-0.npy\\n', 'C:\\\\Users\\\\pradh\\\\Downloads\\\\XDVioDet-master\\\\XDVioDet-master\\\\tratrain\\\\Taken.3.2014__#00-47-50_00-48-22_label_B2-0-0.npy\\n', 'C:\\\\Users\\\\pradh\\\\Downloads\\\\XDVioDet-master\\\\XDVioDet-master\\\\tratrain\\\\Taken.3.2014__#00-49-02_00-49-27_label_G-0-0.npy\\n', 'C:\\\\Users\\\\pradh\\\\Downloads\\\\XDVioDet-master\\\\XDVioDet-master\\\\tratrain\\\\Taken.3.2014__#01-05-17_01-05-40_label_G-0-0.npy\\n', 'C:\\\\Users\\\\pradh\\\\Downloads\\\\XDVioDet-master\\\\XDVioDet-master\\\\tratrain\\\\Taken.3.2014__#01-08-40_01-09-10_label_B6-0-0.npy\\n', 'C:\\\\Users\\\\pradh\\\\Downloads\\\\XDVioDet-master\\\\XDVioDet-master\\\\tratrain\\\\Taken.3.2014__#01-11-58_01-12-45_label_B1-B2-0.npy\\n', 'C:\\\\Users\\\\pradh\\\\Downloads\\\\XDVioDet-master\\\\XDVioDet-master\\\\tratrain\\\\Taken.3.2014__#01-15-17_01-16-00_label_B5-0-0.npy\\n', 'C:\\\\Users\\\\pradh\\\\Downloads\\\\XDVioDet-master\\\\XDVioDet-master\\\\tratrain\\\\Taken.3.2014__#01-16-20_01-17-15_label_B5-0-0.npy\\n', 'C:\\\\Users\\\\pradh\\\\Downloads\\\\XDVioDet-master\\\\XDVioDet-master\\\\tratrain\\\\Taken.3.2014__#01-19-33_01-20-02_label_B1-0-0.npy\\n', 'C:\\\\Users\\\\pradh\\\\Downloads\\\\XDVioDet-master\\\\XDVioDet-master\\\\tratrain\\\\Taken.3.2014__#01-21-19_01-24-00_label_B2-0-0.npy\\n', 'C:\\\\Users\\\\pradh\\\\Downloads\\\\XDVioDet-master\\\\XDVioDet-master\\\\tratrain\\\\Taken.3.2014__#01-31-31_01-33-30_label_B2-B1-0.npy\\n', 'C:\\\\Users\\\\pradh\\\\Downloads\\\\XDVioDet-master\\\\XDVioDet-master\\\\tratrain\\\\Taken.3.2014__#01-33-31_01-34-30_label_B2-0-0.npy\\n', 'C:\\\\Users\\\\pradh\\\\Downloads\\\\XDVioDet-master\\\\XDVioDet-master\\\\tratrain\\\\Taken.3.2014__#01-34-30_01-36-00_label_B5-B1-B2.npy\\n', 'C:\\\\Users\\\\pradh\\\\Downloads\\\\XDVioDet-master\\\\XDVioDet-master\\\\tratrain\\\\Taken.3.2014__#01-37-20_01-37-37_label_B2-0-0.npy\\n', 'C:\\\\Users\\\\pradh\\\\Downloads\\\\XDVioDet-master\\\\XDVioDet-master\\\\tratrain\\\\Taken.3.2014__#01-40-55_01-41-17_label_B5-0-0.npy\\n', 'C:\\\\Users\\\\pradh\\\\Downloads\\\\XDVioDet-master\\\\XDVioDet-master\\\\tratrain\\\\Taken.3.2014__#01-44-12_01-44-39_label_B6-0-0.npy\\n', 'C:\\\\Users\\\\pradh\\\\Downloads\\\\XDVioDet-master\\\\XDVioDet-master\\\\tratrain\\\\Taken.3.2014__#01-44-39_01-45-00_label_B1-B2-B5.npy\\n', 'C:\\\\Users\\\\pradh\\\\Downloads\\\\XDVioDet-master\\\\XDVioDet-master\\\\tratrain\\\\Taken.Extended.Cut.2008__#00-10-52_00-11-15_label_B1-0-0.npy\\n', 'C:\\\\Users\\\\pradh\\\\Downloads\\\\XDVioDet-master\\\\XDVioDet-master\\\\tratrain\\\\Taken.Extended.Cut.2008__#00-36-58_00-37-40_label_B1-B5-0.npy\\n', 'C:\\\\Users\\\\pradh\\\\Downloads\\\\XDVioDet-master\\\\XDVioDet-master\\\\tratrain\\\\Taken.Extended.Cut.2008__#00-47-30_00-48-36_label_B1-B2-0.npy\\n', 'C:\\\\Users\\\\pradh\\\\Downloads\\\\XDVioDet-master\\\\XDVioDet-master\\\\tratrain\\\\Taken.Extended.Cut.2008__#00-48-40_00-49-18_label_B2-G-0.npy\\n', 'C:\\\\Users\\\\pradh\\\\Downloads\\\\XDVioDet-master\\\\XDVioDet-master\\\\tratrain\\\\Taken.Extended.Cut.2008__#00-49-20_00-49-55_label_B2-B6-0.npy\\n', 'C:\\\\Users\\\\pradh\\\\Downloads\\\\XDVioDet-master\\\\XDVioDet-master\\\\tratrain\\\\Taken.Extended.Cut.2008__#00-50-10_00-50-35_label_B2-B6-0.npy\\n', 'C:\\\\Users\\\\pradh\\\\Downloads\\\\XDVioDet-master\\\\XDVioDet-master\\\\tratrain\\\\Taken.Extended.Cut.2008__#01-02-00_01-02-50_label_B1-B2-0.npy\\n', 'C:\\\\Users\\\\pradh\\\\Downloads\\\\XDVioDet-master\\\\XDVioDet-master\\\\tratrain\\\\Taken.Extended.Cut.2008__#01-03-57_01-05-04_label_B5-0-0.npy\\n', 'C:\\\\Users\\\\pradh\\\\Downloads\\\\XDVioDet-master\\\\XDVioDet-master\\\\tratrain\\\\Taken.Extended.Cut.2008__#01-09-33_01-09-50_label_B2-0-0.npy\\n', 'C:\\\\Users\\\\pradh\\\\Downloads\\\\XDVioDet-master\\\\XDVioDet-master\\\\tratrain\\\\Taken.Extended.Cut.2008__#01-09-52_01-10-19_label_B1-0-0.npy\\n', 'C:\\\\Users\\\\pradh\\\\Downloads\\\\XDVioDet-master\\\\XDVioDet-master\\\\tratrain\\\\Taken.Extended.Cut.2008__#01-11-17_01-11-42_label_B1-0-0.npy\\n', 'C:\\\\Users\\\\pradh\\\\Downloads\\\\XDVioDet-master\\\\XDVioDet-master\\\\tratrain\\\\Taken.Extended.Cut.2008__#01-16-27_01-18-26_label_B5-B1-B2.npy\\n', 'C:\\\\Users\\\\pradh\\\\Downloads\\\\XDVioDet-master\\\\XDVioDet-master\\\\tratrain\\\\Taken.Extended.Cut.2008__#01-19-26_01-19-39_label_B1-0-0.npy\\n', 'C:\\\\Users\\\\pradh\\\\Downloads\\\\XDVioDet-master\\\\XDVioDet-master\\\\tratrain\\\\Taken.Extended.Cut.2008__#01-21-11_01-21-35_label_B1-0-0.npy\\n', 'C:\\\\Users\\\\pradh\\\\Downloads\\\\XDVioDet-master\\\\XDVioDet-master\\\\tratrain\\\\Taken.Extended.Cut.2008__#01-21-35_01-21-50_label_B1-0-0.npy\\n', 'C:\\\\Users\\\\pradh\\\\Downloads\\\\XDVioDet-master\\\\XDVioDet-master\\\\tratrain\\\\Taken.Extended.Cut.2008__#01-22-11_01-22-27_label_B1-0-0.npy\\n', 'C:\\\\Users\\\\pradh\\\\Downloads\\\\XDVioDet-master\\\\XDVioDet-master\\\\tratrain\\\\Taken.Extended.Cut.2008__#01-22-28_01-22-40_label_B1-B2-0.npy\\n', 'C:\\\\Users\\\\pradh\\\\Downloads\\\\XDVioDet-master\\\\XDVioDet-master\\\\tratrain\\\\Taken.Extended.Cut.2008__#01-22-50_01-23-22_label_B2-0-0.npy\\n', 'C:\\\\Users\\\\pradh\\\\Downloads\\\\XDVioDet-master\\\\XDVioDet-master\\\\tratrain\\\\Taken.Extended.Cut.2008__#01-23-23_01-24-18_label_B2-B1-0.npy\\n', 'C:\\\\Users\\\\pradh\\\\Downloads\\\\XDVioDet-master\\\\XDVioDet-master\\\\tratrain\\\\Taken.Extended.Cut.2008__#01-24-51_01-25-07_label_B2-0-0.npy\\n', 'C:\\\\Users\\\\pradh\\\\Downloads\\\\XDVioDet-master\\\\XDVioDet-master\\\\tratrain\\\\The.Bourne.Identity.2002__#0-04-37_0-05-45_label_B1-0-0.npy\\n', 'C:\\\\Users\\\\pradh\\\\Downloads\\\\XDVioDet-master\\\\XDVioDet-master\\\\tratrain\\\\The.Bourne.Identity.2002__#0-10-42_0-11-24_label_B1-0-0.npy\\n', 'C:\\\\Users\\\\pradh\\\\Downloads\\\\XDVioDet-master\\\\XDVioDet-master\\\\tratrain\\\\The.Bourne.Identity.2002__#0-42-20_0-46-42_label_B1-B2-0.npy\\n', 'C:\\\\Users\\\\pradh\\\\Downloads\\\\XDVioDet-master\\\\XDVioDet-master\\\\tratrain\\\\The.Bourne.Identity.2002__#01-03-23_01-04-03_label_B2-0-0.npy\\n', 'C:\\\\Users\\\\pradh\\\\Downloads\\\\XDVioDet-master\\\\XDVioDet-master\\\\tratrain\\\\The.Bourne.Identity.2002__#01-25-48_01-26-48_label_G-0-0.npy\\n', 'C:\\\\Users\\\\pradh\\\\Downloads\\\\XDVioDet-master\\\\XDVioDet-master\\\\tratrain\\\\The.Bourne.Identity.2002__#01-45-47_01-48-00_label_B2-B1-0.npy\\n', 'C:\\\\Users\\\\pradh\\\\Downloads\\\\XDVioDet-master\\\\XDVioDet-master\\\\tratrain\\\\The.Bourne.Identity.2002__#01-48-22_01-49-05_label_B2-0-0.npy\\n', 'C:\\\\Users\\\\pradh\\\\Downloads\\\\XDVioDet-master\\\\XDVioDet-master\\\\tratrain\\\\The.Bourne.Legacy.2012__#0-28-30_0-30-20_label_G-0-0.npy\\n', 'C:\\\\Users\\\\pradh\\\\Downloads\\\\XDVioDet-master\\\\XDVioDet-master\\\\tratrain\\\\The.Bourne.Legacy.2012__#0-33-16_0-33-44_label_B2-0-0.npy\\n', 'C:\\\\Users\\\\pradh\\\\Downloads\\\\XDVioDet-master\\\\XDVioDet-master\\\\tratrain\\\\The.Bourne.Legacy.2012__#0-38-41_0-38-51_label_B2-0-0.npy\\n', 'C:\\\\Users\\\\pradh\\\\Downloads\\\\XDVioDet-master\\\\XDVioDet-master\\\\tratrain\\\\The.Bourne.Legacy.2012__#0-44-41_0-47-56_label_B2-0-0.npy\\n', 'C:\\\\Users\\\\pradh\\\\Downloads\\\\XDVioDet-master\\\\XDVioDet-master\\\\tratrain\\\\The.Bourne.Legacy.2012__#01-01-52_01-03-52_label_B2-0-0.npy\\n', 'C:\\\\Users\\\\pradh\\\\Downloads\\\\XDVioDet-master\\\\XDVioDet-master\\\\tratrain\\\\The.Bourne.Legacy.2012__#01-03-59_01-04-59_label_B2-0-0.npy\\n', 'C:\\\\Users\\\\pradh\\\\Downloads\\\\XDVioDet-master\\\\XDVioDet-master\\\\tratrain\\\\The.Bourne.Legacy.2012__#01-36-45_01-38-16_label_B1-0-0.npy\\n', 'C:\\\\Users\\\\pradh\\\\Downloads\\\\XDVioDet-master\\\\XDVioDet-master\\\\tratrain\\\\The.Bourne.Legacy.2012__#01-51-56_01-52-14_label_B1-B2-0.npy\\n', 'C:\\\\Users\\\\pradh\\\\Downloads\\\\XDVioDet-master\\\\XDVioDet-master\\\\tratrain\\\\The.Bourne.Legacy.2012__#01-55-14_01-55-56_label_B6-0-0.npy\\n', 'C:\\\\Users\\\\pradh\\\\Downloads\\\\XDVioDet-master\\\\XDVioDet-master\\\\tratrain\\\\The.Bourne.Legacy.2012__#01-59-04_01-59-30_label_B2-0-0.npy\\n', 'C:\\\\Users\\\\pradh\\\\Downloads\\\\XDVioDet-master\\\\XDVioDet-master\\\\tratrain\\\\The.Bourne.Legacy.2012__#02-00-44_02-01-26_label_B1-0-0.npy\\n', 'C:\\\\Users\\\\pradh\\\\Downloads\\\\XDVioDet-master\\\\XDVioDet-master\\\\tratrain\\\\The.Bourne.Supremacy.2004__#0-16-21_0-17-00_label_B6-B2-0.npy\\n', 'C:\\\\Users\\\\pradh\\\\Downloads\\\\XDVioDet-master\\\\XDVioDet-master\\\\tratrain\\\\The.Bourne.Supremacy.2004__#0-31-09_0-31-29_label_B1-0-0.npy\\n', 'C:\\\\Users\\\\pradh\\\\Downloads\\\\XDVioDet-master\\\\XDVioDet-master\\\\tratrain\\\\The.Bourne.Supremacy.2004__#0-40-28_0-43-14_label_B1-0-0.npy\\n', 'C:\\\\Users\\\\pradh\\\\Downloads\\\\XDVioDet-master\\\\XDVioDet-master\\\\tratrain\\\\The.Bourne.Supremacy.2004__#0-43-15_0-43-55_label_G-0-0.npy\\n', 'C:\\\\Users\\\\pradh\\\\Downloads\\\\XDVioDet-master\\\\XDVioDet-master\\\\tratrain\\\\The.Bourne.Supremacy.2004__#01-01-23_01-02-25_label_B1-0-0.npy\\n', 'C:\\\\Users\\\\pradh\\\\Downloads\\\\XDVioDet-master\\\\XDVioDet-master\\\\tratrain\\\\The.Bourne.Supremacy.2004__#01-17-32_01-18-02_label_B2-0-0.npy\\n', 'C:\\\\Users\\\\pradh\\\\Downloads\\\\XDVioDet-master\\\\XDVioDet-master\\\\tratrain\\\\The.Bourne.Supremacy.2004__#01-25-38_01-26-16_label_B2-B1-0.npy\\n', 'C:\\\\Users\\\\pradh\\\\Downloads\\\\XDVioDet-master\\\\XDVioDet-master\\\\tratrain\\\\The.Bourne.Supremacy.2004__#01-27-46_01-28-00_label_B1-0-0.npy\\n', 'C:\\\\Users\\\\pradh\\\\Downloads\\\\XDVioDet-master\\\\XDVioDet-master\\\\tratrain\\\\The.Bourne.Supremacy.2004__#01-28-07_01-33-16_label_B6-B2-0.npy\\n', 'C:\\\\Users\\\\pradh\\\\Downloads\\\\XDVioDet-master\\\\XDVioDet-master\\\\tratrain\\\\The.Bourne.Ultimatum.2007__#0-19-34_0-19-45_label_B1-0-0.npy\\n', 'C:\\\\Users\\\\pradh\\\\Downloads\\\\XDVioDet-master\\\\XDVioDet-master\\\\tratrain\\\\The.Bourne.Ultimatum.2007__#0-23-45_0-24-25_label_B1-0-0.npy\\n', 'C:\\\\Users\\\\pradh\\\\Downloads\\\\XDVioDet-master\\\\XDVioDet-master\\\\tratrain\\\\The.Bourne.Ultimatum.2007__#0-24-51_0-26-35_label_B2-0-0.npy\\n', 'C:\\\\Users\\\\pradh\\\\Downloads\\\\XDVioDet-master\\\\XDVioDet-master\\\\tratrain\\\\The.Bourne.Ultimatum.2007__#0-36-52_0-39-16_label_B2-B1-0.npy\\n', 'C:\\\\Users\\\\pradh\\\\Downloads\\\\XDVioDet-master\\\\XDVioDet-master\\\\tratrain\\\\The.Bourne.Ultimatum.2007__#0-57-29_0-57-56_label_G-0-0.npy\\n', 'C:\\\\Users\\\\pradh\\\\Downloads\\\\XDVioDet-master\\\\XDVioDet-master\\\\tratrain\\\\The.Bourne.Ultimatum.2007__#01-01-50_01-02-10_label_G-0-0.npy\\n', 'C:\\\\Users\\\\pradh\\\\Downloads\\\\XDVioDet-master\\\\XDVioDet-master\\\\tratrain\\\\The.Bourne.Ultimatum.2007__#01-02-12_01-02-22_label_B1-0-0.npy\\n', 'C:\\\\Users\\\\pradh\\\\Downloads\\\\XDVioDet-master\\\\XDVioDet-master\\\\tratrain\\\\The.Bourne.Ultimatum.2007__#01-06-36_01-09-15_label_B1-B2-0.npy\\n', 'C:\\\\Users\\\\pradh\\\\Downloads\\\\XDVioDet-master\\\\XDVioDet-master\\\\tratrain\\\\The.Bourne.Ultimatum.2007__#01-24-32_01-24-55_label_B2-0-0.npy\\n', 'C:\\\\Users\\\\pradh\\\\Downloads\\\\XDVioDet-master\\\\XDVioDet-master\\\\tratrain\\\\The.Bourne.Ultimatum.2007__#01-29-00_01-31-37_label_B6-B2-0.npy\\n', 'C:\\\\Users\\\\pradh\\\\Downloads\\\\XDVioDet-master\\\\XDVioDet-master\\\\tratrain\\\\The.Bourne.Ultimatum.2007__#01-42-09_01-42-54_label_B2-0-0.npy\\n', 'C:\\\\Users\\\\pradh\\\\Downloads\\\\XDVioDet-master\\\\XDVioDet-master\\\\tratrain\\\\The.Fast.and.the.Furious.2001__#00-07-39_00-08-38_label_B1-0-0.npy\\n', 'C:\\\\Users\\\\pradh\\\\Downloads\\\\XDVioDet-master\\\\XDVioDet-master\\\\tratrain\\\\The.Fast.and.the.Furious.2001__#01-31-10_01-31-55_label_B2-0-0.npy\\n', 'C:\\\\Users\\\\pradh\\\\Downloads\\\\XDVioDet-master\\\\XDVioDet-master\\\\tratrain\\\\The.Hurt.Locker.2008__#0-31-49_0-33-38_label_G-B2-0.npy\\n', 'C:\\\\Users\\\\pradh\\\\Downloads\\\\XDVioDet-master\\\\XDVioDet-master\\\\tratrain\\\\The.Hurt.Locker.2008__#0-54-27_0-54-51_label_G-B2-0.npy\\n', 'C:\\\\Users\\\\pradh\\\\Downloads\\\\XDVioDet-master\\\\XDVioDet-master\\\\tratrain\\\\The.Hurt.Locker.2008__#0-54-57_0-56-57_label_B2-0-0.npy\\n', 'C:\\\\Users\\\\pradh\\\\Downloads\\\\XDVioDet-master\\\\XDVioDet-master\\\\tratrain\\\\The.Hurt.Locker.2008__#0-57-00_0-58-20_label_B2-0-0.npy\\n', 'C:\\\\Users\\\\pradh\\\\Downloads\\\\XDVioDet-master\\\\XDVioDet-master\\\\tratrain\\\\The.Hurt.Locker.2008__#0-58-45_0-59-11_label_B2-0-0.npy\\n', 'C:\\\\Users\\\\pradh\\\\Downloads\\\\XDVioDet-master\\\\XDVioDet-master\\\\tratrain\\\\The.Hurt.Locker.2008__#01-07-45_01-08-28_label_B2-0-0.npy\\n', 'C:\\\\Users\\\\pradh\\\\Downloads\\\\XDVioDet-master\\\\XDVioDet-master\\\\tratrain\\\\The.Hurt.Locker.2008__#01-56-20_01-56-48_label_G-0-0.npy\\n', 'C:\\\\Users\\\\pradh\\\\Downloads\\\\XDVioDet-master\\\\XDVioDet-master\\\\tratrain\\\\The.World.Is.Not.Enough.1999__#00-02-15_00-02-45_label_G-B2-B1.npy\\n', 'C:\\\\Users\\\\pradh\\\\Downloads\\\\XDVioDet-master\\\\XDVioDet-master\\\\tratrain\\\\The.World.Is.Not.Enough.1999__#00-11-14_00-11-20_label_G-0-0.npy\\n', 'C:\\\\Users\\\\pradh\\\\Downloads\\\\XDVioDet-master\\\\XDVioDet-master\\\\tratrain\\\\The.World.Is.Not.Enough.1999__#00-36-10_00-36-27_label_G-0-0.npy\\n', 'C:\\\\Users\\\\pradh\\\\Downloads\\\\XDVioDet-master\\\\XDVioDet-master\\\\tratrain\\\\The.World.Is.Not.Enough.1999__#00-36-30_00-36-45_label_B2-0-0.npy\\n', 'C:\\\\Users\\\\pradh\\\\Downloads\\\\XDVioDet-master\\\\XDVioDet-master\\\\tratrain\\\\The.World.Is.Not.Enough.1999__#00-37-10_00-37-57_label_G-B2-0.npy\\n', 'C:\\\\Users\\\\pradh\\\\Downloads\\\\XDVioDet-master\\\\XDVioDet-master\\\\tratrain\\\\The.World.Is.Not.Enough.1999__#00-39-07_00-39-17_label_G-0-0.npy\\n', 'C:\\\\Users\\\\pradh\\\\Downloads\\\\XDVioDet-master\\\\XDVioDet-master\\\\tratrain\\\\The.World.Is.Not.Enough.1999__#00-56-40_00-56-51_label_G-0-0.npy\\n', 'C:\\\\Users\\\\pradh\\\\Downloads\\\\XDVioDet-master\\\\XDVioDet-master\\\\tratrain\\\\The.World.Is.Not.Enough.1999__#01-03-31_01-04-14_label_B2-0-0.npy\\n', 'C:\\\\Users\\\\pradh\\\\Downloads\\\\XDVioDet-master\\\\XDVioDet-master\\\\tratrain\\\\The.World.Is.Not.Enough.1999__#01-04-52_01-05-12_label_B2-0-0.npy\\n', 'C:\\\\Users\\\\pradh\\\\Downloads\\\\XDVioDet-master\\\\XDVioDet-master\\\\tratrain\\\\The.World.Is.Not.Enough.1999__#01-18-30_01-18-45_label_G-0-0.npy\\n', 'C:\\\\Users\\\\pradh\\\\Downloads\\\\XDVioDet-master\\\\XDVioDet-master\\\\tratrain\\\\The.World.Is.Not.Enough.1999__#01-40-20_01-40-36_label_G-0-0.npy\\n', 'C:\\\\Users\\\\pradh\\\\Downloads\\\\XDVioDet-master\\\\XDVioDet-master\\\\tratrain\\\\The.World.Is.Not.Enough.1999__#01-46-48_01-47-32_label_B2-0-0.npy\\n', 'C:\\\\Users\\\\pradh\\\\Downloads\\\\XDVioDet-master\\\\XDVioDet-master\\\\tratrain\\\\The.World.Is.Not.Enough.1999__#01-48-36_01-48-50_label_B2-0-0.npy\\n', 'C:\\\\Users\\\\pradh\\\\Downloads\\\\XDVioDet-master\\\\XDVioDet-master\\\\tratrain\\\\The.World.Is.Not.Enough.1999__#01-53-10_01-53-33_label_B2-B1-0.npy\\n', 'C:\\\\Users\\\\pradh\\\\Downloads\\\\XDVioDet-master\\\\XDVioDet-master\\\\tratrain\\\\Thelma...Louise.1991__#00-21-25_00-21-50_label_B2-0-0.npy\\n', 'C:\\\\Users\\\\pradh\\\\Downloads\\\\XDVioDet-master\\\\XDVioDet-master\\\\tratrain\\\\Thelma...Louise.1991__#01-52-50_01-53-20_label_G-B2-0.npy\\n', 'C:\\\\Users\\\\pradh\\\\Downloads\\\\XDVioDet-master\\\\XDVioDet-master\\\\tratrain\\\\Thelma...Louise.1991__#01-57-50_01-59-10_label_B6-0-0.npy\\n', 'C:\\\\Users\\\\pradh\\\\Downloads\\\\XDVioDet-master\\\\XDVioDet-master\\\\tratrain\\\\Tropa.de.Elite.2.2010__#00-02-10_00-03-45_label_B2-0-0.npy\\n', 'C:\\\\Users\\\\pradh\\\\Downloads\\\\XDVioDet-master\\\\XDVioDet-master\\\\tratrain\\\\Tropa.de.Elite.2.2010__#00-10-02_00-13-15_label_B4-B2-B1.npy\\n', 'C:\\\\Users\\\\pradh\\\\Downloads\\\\XDVioDet-master\\\\XDVioDet-master\\\\tratrain\\\\Tropa.de.Elite.2.2010__#00-18-00_00-20-00_label_B4-B2-0.npy\\n', 'C:\\\\Users\\\\pradh\\\\Downloads\\\\XDVioDet-master\\\\XDVioDet-master\\\\tratrain\\\\Tropa.de.Elite.2.2010__#00-33-25_00-35-30_label_B1-0-0.npy\\n', 'C:\\\\Users\\\\pradh\\\\Downloads\\\\XDVioDet-master\\\\XDVioDet-master\\\\tratrain\\\\Tropa.de.Elite.2.2010__#00-38-20_00-39-30_label_B2-0-0.npy\\n', 'C:\\\\Users\\\\pradh\\\\Downloads\\\\XDVioDet-master\\\\XDVioDet-master\\\\tratrain\\\\Tropa.de.Elite.2.2010__#00-39-50_00-40-31_label_B2-0-0.npy\\n', 'C:\\\\Users\\\\pradh\\\\Downloads\\\\XDVioDet-master\\\\XDVioDet-master\\\\tratrain\\\\Tropa.de.Elite.2.2010__#00-44-02_00-45-10_label_B1-B2-0.npy\\n', 'C:\\\\Users\\\\pradh\\\\Downloads\\\\XDVioDet-master\\\\XDVioDet-master\\\\tratrain\\\\Tropa.de.Elite.2.2010__#01-07-00_01-10-00_label_B2-B6-0.npy\\n', 'C:\\\\Users\\\\pradh\\\\Downloads\\\\XDVioDet-master\\\\XDVioDet-master\\\\tratrain\\\\Tropa.de.Elite.2.2010__#01-10-25_01-13-10_label_B2-B5-0.npy\\n', 'C:\\\\Users\\\\pradh\\\\Downloads\\\\XDVioDet-master\\\\XDVioDet-master\\\\tratrain\\\\Tropa.de.Elite.2.2010__#01-13-25_01-14-10_label_B2-0-0.npy\\n', 'C:\\\\Users\\\\pradh\\\\Downloads\\\\XDVioDet-master\\\\XDVioDet-master\\\\tratrain\\\\Tropa.de.Elite.2.2010__#01-19-31_01-20-58_label_B1-0-0.npy\\n', 'C:\\\\Users\\\\pradh\\\\Downloads\\\\XDVioDet-master\\\\XDVioDet-master\\\\tratrain\\\\Tropa.de.Elite.2.2010__#01-26-50_01-28-08_label_B5-0-0.npy\\n', 'C:\\\\Users\\\\pradh\\\\Downloads\\\\XDVioDet-master\\\\XDVioDet-master\\\\tratrain\\\\Tropa.de.Elite.2.2010__#01-35-00_01-36-11_label_B1-0-0.npy\\n', 'C:\\\\Users\\\\pradh\\\\Downloads\\\\XDVioDet-master\\\\XDVioDet-master\\\\tratrain\\\\Tropa.de.Elite.2.2010__#01-40-30_01-42-00_label_B2-0-0.npy\\n', 'C:\\\\Users\\\\pradh\\\\Downloads\\\\XDVioDet-master\\\\XDVioDet-master\\\\tratrain\\\\Tropa.de.Elite.2007__#00-28-00_00-28-20_label_B2-0-0.npy\\n', 'C:\\\\Users\\\\pradh\\\\Downloads\\\\XDVioDet-master\\\\XDVioDet-master\\\\tratrain\\\\Tropa.de.Elite.2007__#00-59-16_01-00-55_label_B2-0-0.npy\\n', 'C:\\\\Users\\\\pradh\\\\Downloads\\\\XDVioDet-master\\\\XDVioDet-master\\\\tratrain\\\\Tropa.de.Elite.2007__#01-02-00_01-02-50_label_B2-0-0.npy\\n', 'C:\\\\Users\\\\pradh\\\\Downloads\\\\XDVioDet-master\\\\XDVioDet-master\\\\tratrain\\\\Tropa.de.Elite.2007__#01-03-35_01-04-05_label_B2-0-0.npy\\n', 'C:\\\\Users\\\\pradh\\\\Downloads\\\\XDVioDet-master\\\\XDVioDet-master\\\\tratrain\\\\Tropa.de.Elite.2007__#01-34-17_01-34-40_label_B2-0-0.npy\\n', 'C:\\\\Users\\\\pradh\\\\Downloads\\\\XDVioDet-master\\\\XDVioDet-master\\\\tratrain\\\\Yellow.Sea.2010__#00-07-00_00-07-53_label_B1-0-0.npy\\n', 'C:\\\\Users\\\\pradh\\\\Downloads\\\\XDVioDet-master\\\\XDVioDet-master\\\\tratrain\\\\Yellow.Sea.2010__#00-11-20_00-12-05_label_B1-0-0.npy\\n', 'C:\\\\Users\\\\pradh\\\\Downloads\\\\XDVioDet-master\\\\XDVioDet-master\\\\tratrain\\\\Yellow.Sea.2010__#00-38-00_00-38-45_label_B1-0-0.npy\\n', 'C:\\\\Users\\\\pradh\\\\Downloads\\\\XDVioDet-master\\\\XDVioDet-master\\\\tratrain\\\\Yellow.Sea.2010__#00-42-00_00-42-56_label_B1-0-0.npy\\n', 'C:\\\\Users\\\\pradh\\\\Downloads\\\\XDVioDet-master\\\\XDVioDet-master\\\\tratrain\\\\Yellow.Sea.2010__#00-50-50_00-51-49_label_B1-0-0.npy\\n', 'C:\\\\Users\\\\pradh\\\\Downloads\\\\XDVioDet-master\\\\XDVioDet-master\\\\tratrain\\\\Yellow.Sea.2010__#00-51-52_00-52-41_label_B1-0-0.npy\\n', 'C:\\\\Users\\\\pradh\\\\Downloads\\\\XDVioDet-master\\\\XDVioDet-master\\\\tratrain\\\\Yellow.Sea.2010__#00-53-21_00-54-25_label_B1-0-0.npy\\n', 'C:\\\\Users\\\\pradh\\\\Downloads\\\\XDVioDet-master\\\\XDVioDet-master\\\\tratrain\\\\Yellow.Sea.2010__#01-09-45_01-10-32_label_B1-0-0.npy\\n', 'C:\\\\Users\\\\pradh\\\\Downloads\\\\XDVioDet-master\\\\XDVioDet-master\\\\tratrain\\\\Yellow.Sea.2010__#01-11-03_01-11-56_label_B1-0-0.npy\\n', 'C:\\\\Users\\\\pradh\\\\Downloads\\\\XDVioDet-master\\\\XDVioDet-master\\\\tratrain\\\\Yellow.Sea.2010__#01-16-45_01-17-43_label_B1-0-0.npy\\n', 'C:\\\\Users\\\\pradh\\\\Downloads\\\\XDVioDet-master\\\\XDVioDet-master\\\\tratrain\\\\Yellow.Sea.2010__#01-20-00_01-20-50_label_B1-0-0.npy\\n', 'C:\\\\Users\\\\pradh\\\\Downloads\\\\XDVioDet-master\\\\XDVioDet-master\\\\tratrain\\\\Yellow.Sea.2010__#01-33-50_01-34-33_label_B1-0-0.npy\\n', 'C:\\\\Users\\\\pradh\\\\Downloads\\\\XDVioDet-master\\\\XDVioDet-master\\\\tratrain\\\\Yellow.Sea.2010__#01-36-00_01-36-57_label_B1-0-0.npy\\n', 'C:\\\\Users\\\\pradh\\\\Downloads\\\\XDVioDet-master\\\\XDVioDet-master\\\\tratrain\\\\Yellow.Sea.2010__#01-48-00_01-49-11_label_B1-0-0.npy\\n', 'C:\\\\Users\\\\pradh\\\\Downloads\\\\XDVioDet-master\\\\XDVioDet-master\\\\tratrain\\\\Yellow.Sea.2010__#02-05-30_02-06-34_label_B1-0-0.npy\\n', 'C:\\\\Users\\\\pradh\\\\Downloads\\\\XDVioDet-master\\\\XDVioDet-master\\\\tratrain\\\\Young.And.Dangerous.I.1996__#0-02-12_0-03-32_label_B1-0-0.npy\\n', 'C:\\\\Users\\\\pradh\\\\Downloads\\\\XDVioDet-master\\\\XDVioDet-master\\\\tratrain\\\\Young.And.Dangerous.I.1996__#0-10-45_0-11-25_label_B1-0-0.npy\\n', 'C:\\\\Users\\\\pradh\\\\Downloads\\\\XDVioDet-master\\\\XDVioDet-master\\\\tratrain\\\\Young.And.Dangerous.I.1996__#01-29-40_01-30-00_label_B2-0-0.npy\\n', 'C:\\\\Users\\\\pradh\\\\Downloads\\\\XDVioDet-master\\\\XDVioDet-master\\\\tratrain\\\\Young.And.Dangerous.I.1996__#01-30-01_01-30-15_label_B1-0-0.npy\\n', 'C:\\\\Users\\\\pradh\\\\Downloads\\\\XDVioDet-master\\\\XDVioDet-master\\\\tratrain\\\\Young.And.Dangerous.I.1996__#01-30-15_01-30-32_label_G-0-0.npy\\n', 'C:\\\\Users\\\\pradh\\\\Downloads\\\\XDVioDet-master\\\\XDVioDet-master\\\\tratrain\\\\Young.And.Dangerous.I.1996__#01-33-00_01-33-30_label_B2-0-0.npy\\n', 'C:\\\\Users\\\\pradh\\\\Downloads\\\\XDVioDet-master\\\\XDVioDet-master\\\\tratrain\\\\Young.And.Dangerous.I.1996__#01-36-35_01-36-55_label_B2-0-0.npy\\n', 'C:\\\\Users\\\\pradh\\\\Downloads\\\\XDVioDet-master\\\\XDVioDet-master\\\\tratrain\\\\Young.And.Dangerous.II.1996__#0-34-56_0-35-40_label_B2-0-0.npy\\n', 'C:\\\\Users\\\\pradh\\\\Downloads\\\\XDVioDet-master\\\\XDVioDet-master\\\\tratrain\\\\Young.And.Dangerous.II.1996__#0-35-53_0-36-44_label_B1-0-0.npy\\n', 'C:\\\\Users\\\\pradh\\\\Downloads\\\\XDVioDet-master\\\\XDVioDet-master\\\\tratrain\\\\Young.And.Dangerous.II.1996__#0-58-10_0-58-30_label_B6-0-0.npy\\n', 'C:\\\\Users\\\\pradh\\\\Downloads\\\\XDVioDet-master\\\\XDVioDet-master\\\\tratrain\\\\Young.And.Dangerous.II.1996__#0-58-40_0-58-55_label_G-0-0.npy\\n', 'C:\\\\Users\\\\pradh\\\\Downloads\\\\XDVioDet-master\\\\XDVioDet-master\\\\tratrain\\\\Young.And.Dangerous.II.1996__#01-03-05_01-04-20_label_B1-0-0.npy\\n', 'C:\\\\Users\\\\pradh\\\\Downloads\\\\XDVioDet-master\\\\XDVioDet-master\\\\tratrain\\\\Young.And.Dangerous.III.1996__#0-00-48_0-02-44_label_B5-0-0.npy\\n', 'C:\\\\Users\\\\pradh\\\\Downloads\\\\XDVioDet-master\\\\XDVioDet-master\\\\tratrain\\\\Young.And.Dangerous.III.1996__#00-55-58_00-57-17_label_B2-0-0.npy\\n', 'C:\\\\Users\\\\pradh\\\\Downloads\\\\XDVioDet-master\\\\XDVioDet-master\\\\tratrain\\\\Young.And.Dangerous.III.1996__#01-04-49_01-05-40_label_B1-0-0.npy\\n', 'C:\\\\Users\\\\pradh\\\\Downloads\\\\XDVioDet-master\\\\XDVioDet-master\\\\tratrain\\\\Young.And.Dangerous.III.1996__#01-07-40_01-08-35_label_B5-0-0.npy\\n', 'C:\\\\Users\\\\pradh\\\\Downloads\\\\XDVioDet-master\\\\XDVioDet-master\\\\tratrain\\\\Young.And.Dangerous.III.1996__#01-12-20_01-15-30_label_B1-0-0.npy\\n', 'C:\\\\Users\\\\pradh\\\\Downloads\\\\XDVioDet-master\\\\XDVioDet-master\\\\tratrain\\\\Young.And.Dangerous.III.1996__#01-18-52_01-19-08_label_B1-0-0.npy\\n', 'C:\\\\Users\\\\pradh\\\\Downloads\\\\XDVioDet-master\\\\XDVioDet-master\\\\tratrain\\\\Young.And.Dangerous.III.1996__#01-19-42_01-20-28_label_B2-B1-0.npy\\n', 'C:\\\\Users\\\\pradh\\\\Downloads\\\\XDVioDet-master\\\\XDVioDet-master\\\\tratrain\\\\Young.And.Dangerous.III.1996__#01-21-34_01-21-42_label_G-0-0.npy\\n', 'C:\\\\Users\\\\pradh\\\\Downloads\\\\XDVioDet-master\\\\XDVioDet-master\\\\tratrain\\\\Young.And.Dangerous.III.1996__#01-30-12_01-31-00_label_B1-0-0.npy\\n', 'C:\\\\Users\\\\pradh\\\\Downloads\\\\XDVioDet-master\\\\XDVioDet-master\\\\tratrain\\\\Young.And.Dangerous.III.1996__#01-31-15_01-34-46_label_B1-0-0.npy\\n', 'C:\\\\Users\\\\pradh\\\\Downloads\\\\XDVioDet-master\\\\XDVioDet-master\\\\tratrain\\\\Young.And.Dangerous.IV.1997__#0-47-40_0-48-55_label_B6-0-0.npy\\n', 'C:\\\\Users\\\\pradh\\\\Downloads\\\\XDVioDet-master\\\\XDVioDet-master\\\\tratrain\\\\Young.And.Dangerous.IV.1997__#01-39-21_01-40-16_label_B1-0-0.npy\\n', 'C:\\\\Users\\\\pradh\\\\Downloads\\\\XDVioDet-master\\\\XDVioDet-master\\\\tratrain\\\\sportsviolence__#1_label_B1-0-0.npy\\n', 'C:\\\\Users\\\\pradh\\\\Downloads\\\\XDVioDet-master\\\\XDVioDet-master\\\\tratrain\\\\v=-22tna7KHzI__#1_label_G-0-0.npy\\n', 'C:\\\\Users\\\\pradh\\\\Downloads\\\\XDVioDet-master\\\\XDVioDet-master\\\\tratrain\\\\v=-8O0_tG44IM__#1_label_B6-0-0.npy\\n', 'C:\\\\Users\\\\pradh\\\\Downloads\\\\XDVioDet-master\\\\XDVioDet-master\\\\tratrain\\\\v=-PSYPrE5LrQ__#1_label_B4-0-0.npy\\n', 'C:\\\\Users\\\\pradh\\\\Downloads\\\\XDVioDet-master\\\\XDVioDet-master\\\\tratrain\\\\v=-_6vGj67Iq8__#1_label_G-0-0.npy\\n', 'C:\\\\Users\\\\pradh\\\\Downloads\\\\XDVioDet-master\\\\XDVioDet-master\\\\tratrain\\\\v=-boWwzJqEhQ__#1_label_B4-0-0.npy\\n', 'C:\\\\Users\\\\pradh\\\\Downloads\\\\XDVioDet-master\\\\XDVioDet-master\\\\tratrain\\\\v=-hBdgexQk6k__#1_label_G-0-0.npy\\n', 'C:\\\\Users\\\\pradh\\\\Downloads\\\\XDVioDet-master\\\\XDVioDet-master\\\\tratrain\\\\v=-n1W0wSv_vQ__#00-00-00_00-01-51_label_B6-0-0.npy\\n', 'C:\\\\Users\\\\pradh\\\\Downloads\\\\XDVioDet-master\\\\XDVioDet-master\\\\tratrain\\\\v=-n1W0wSv_vQ__#00-01-52_00-03-10_label_B6-0-0.npy\\n', 'C:\\\\Users\\\\pradh\\\\Downloads\\\\XDVioDet-master\\\\XDVioDet-master\\\\tratrain\\\\v=-n1W0wSv_vQ__#00-04-00_00-05-19_label_B6-0-0.npy\\n', 'C:\\\\Users\\\\pradh\\\\Downloads\\\\XDVioDet-master\\\\XDVioDet-master\\\\tratrain\\\\v=-n1W0wSv_vQ__#00-05-19_00-06-00_label_B6-0-0.npy\\n', 'C:\\\\Users\\\\pradh\\\\Downloads\\\\XDVioDet-master\\\\XDVioDet-master\\\\tratrain\\\\v=-pvf8ftpRWg__#1_label_B4-0-0.npy\\n', 'C:\\\\Users\\\\pradh\\\\Downloads\\\\XDVioDet-master\\\\XDVioDet-master\\\\tratrain\\\\v=-uaaOVNBQJI__#1_label_B4-0-0.npy\\n', 'C:\\\\Users\\\\pradh\\\\Downloads\\\\XDVioDet-master\\\\XDVioDet-master\\\\tratrain\\\\v=00UDa4PVpw0__#1_label_B4-0-0.npy\\n', 'C:\\\\Users\\\\pradh\\\\Downloads\\\\XDVioDet-master\\\\XDVioDet-master\\\\tratrain\\\\v=0J7I718Gs9A__#1_label_B4-0-0.npy\\n', 'C:\\\\Users\\\\pradh\\\\Downloads\\\\XDVioDet-master\\\\XDVioDet-master\\\\tratrain\\\\v=0N3BKmDiKmc__#00-00-00_00-00-51_label_B6-0-0.npy\\n', 'C:\\\\Users\\\\pradh\\\\Downloads\\\\XDVioDet-master\\\\XDVioDet-master\\\\tratrain\\\\v=0N3BKmDiKmc__#00-01-00_00-02-45_label_B6-0-0.npy\\n', 'C:\\\\Users\\\\pradh\\\\Downloads\\\\XDVioDet-master\\\\XDVioDet-master\\\\tratrain\\\\v=0N3BKmDiKmc__#00-03-00_00-04-09_label_B6-0-0.npy\\n', 'C:\\\\Users\\\\pradh\\\\Downloads\\\\XDVioDet-master\\\\XDVioDet-master\\\\tratrain\\\\v=0N3BKmDiKmc__#00-04-10_00-06-09_label_B6-0-0.npy\\n', 'C:\\\\Users\\\\pradh\\\\Downloads\\\\XDVioDet-master\\\\XDVioDet-master\\\\tratrain\\\\v=0N3BKmDiKmc__#00-09-00_00-10-29_label_B6-0-0.npy\\n', 'C:\\\\Users\\\\pradh\\\\Downloads\\\\XDVioDet-master\\\\XDVioDet-master\\\\tratrain\\\\v=0N5-9mps6z4__#1_label_B4-0-0.npy\\n', 'C:\\\\Users\\\\pradh\\\\Downloads\\\\XDVioDet-master\\\\XDVioDet-master\\\\tratrain\\\\v=0Ym0O9Phueo__#1_label_B4-0-0.npy\\n', 'C:\\\\Users\\\\pradh\\\\Downloads\\\\XDVioDet-master\\\\XDVioDet-master\\\\tratrain\\\\v=0aOC63IZPTs__#00-00-00_00-01-51_label_B6-0-0.npy\\n', 'C:\\\\Users\\\\pradh\\\\Downloads\\\\XDVioDet-master\\\\XDVioDet-master\\\\tratrain\\\\v=0aOC63IZPTs__#00-01-52_00-03-10_label_B6-0-0.npy\\n', 'C:\\\\Users\\\\pradh\\\\Downloads\\\\XDVioDet-master\\\\XDVioDet-master\\\\tratrain\\\\v=0aOC63IZPTs__#00-04-00_00-05-19_label_B6-0-0.npy\\n', 'C:\\\\Users\\\\pradh\\\\Downloads\\\\XDVioDet-master\\\\XDVioDet-master\\\\tratrain\\\\v=0aOC63IZPTs__#00-06-01_00-07-08_label_B6-0-0.npy\\n', 'C:\\\\Users\\\\pradh\\\\Downloads\\\\XDVioDet-master\\\\XDVioDet-master\\\\tratrain\\\\v=0aOC63IZPTs__#00-07-40_00-08-48_label_B6-0-0.npy\\n', 'C:\\\\Users\\\\pradh\\\\Downloads\\\\XDVioDet-master\\\\XDVioDet-master\\\\tratrain\\\\v=0aOC63IZPTs__#00-10-41_00-12-20_label_B6-0-0.npy\\n', 'C:\\\\Users\\\\pradh\\\\Downloads\\\\XDVioDet-master\\\\XDVioDet-master\\\\tratrain\\\\v=0gdy9L5whEs__#1_label_B6-0-0.npy\\n', 'C:\\\\Users\\\\pradh\\\\Downloads\\\\XDVioDet-master\\\\XDVioDet-master\\\\tratrain\\\\v=0lTLBaAtuNM__#00-02-11_00-03-21_label_G-0-0.npy\\n', 'C:\\\\Users\\\\pradh\\\\Downloads\\\\XDVioDet-master\\\\XDVioDet-master\\\\tratrain\\\\v=0qtIjyt-7wg__#00-03-00_00-03-55_label_B6-0-0.npy\\n', 'C:\\\\Users\\\\pradh\\\\Downloads\\\\XDVioDet-master\\\\XDVioDet-master\\\\tratrain\\\\v=1-oou66siyU__#1_label_B1-0-0.npy\\n', 'C:\\\\Users\\\\pradh\\\\Downloads\\\\XDVioDet-master\\\\XDVioDet-master\\\\tratrain\\\\v=11_7Yfan0Oc__#1_label_G-0-0.npy\\n', 'C:\\\\Users\\\\pradh\\\\Downloads\\\\XDVioDet-master\\\\XDVioDet-master\\\\tratrain\\\\v=15wDrZJQpsw__#00-01-00_00-02-45_label_B6-0-0.npy\\n', 'C:\\\\Users\\\\pradh\\\\Downloads\\\\XDVioDet-master\\\\XDVioDet-master\\\\tratrain\\\\v=15wDrZJQpsw__#00-04-10_00-05-12_label_B6-0-0.npy\\n', 'C:\\\\Users\\\\pradh\\\\Downloads\\\\XDVioDet-master\\\\XDVioDet-master\\\\tratrain\\\\v=15wDrZJQpsw__#00-07-40_00-08-50_label_B6-0-0.npy\\n', 'C:\\\\Users\\\\pradh\\\\Downloads\\\\XDVioDet-master\\\\XDVioDet-master\\\\tratrain\\\\v=16u0FU8Dq0Q__#1_label_B4-0-0.npy\\n', 'C:\\\\Users\\\\pradh\\\\Downloads\\\\XDVioDet-master\\\\XDVioDet-master\\\\tratrain\\\\v=17opHdt3xc8__#1_label_G-B2-0.npy\\n', 'C:\\\\Users\\\\pradh\\\\Downloads\\\\XDVioDet-master\\\\XDVioDet-master\\\\tratrain\\\\v=1LgHkQL7Jms__#00-00-00_00-01-21_label_B6-0-0.npy\\n', 'C:\\\\Users\\\\pradh\\\\Downloads\\\\XDVioDet-master\\\\XDVioDet-master\\\\tratrain\\\\v=1LgHkQL7Jms__#00-01-24_00-02-51_label_B6-0-0.npy\\n', 'C:\\\\Users\\\\pradh\\\\Downloads\\\\XDVioDet-master\\\\XDVioDet-master\\\\tratrain\\\\v=1LgHkQL7Jms__#00-03-10_00-04-19_label_B6-0-0.npy\\n', 'C:\\\\Users\\\\pradh\\\\Downloads\\\\XDVioDet-master\\\\XDVioDet-master\\\\tratrain\\\\v=1LgHkQL7Jms__#00-04-20_00-05-51_label_B6-0-0.npy\\n', 'C:\\\\Users\\\\pradh\\\\Downloads\\\\XDVioDet-master\\\\XDVioDet-master\\\\tratrain\\\\v=1LgHkQL7Jms__#00-05-52_00-07-11_label_B6-0-0.npy\\n', 'C:\\\\Users\\\\pradh\\\\Downloads\\\\XDVioDet-master\\\\XDVioDet-master\\\\tratrain\\\\v=1RGb7knUKG0__#1_label_G-0-0.npy\\n', 'C:\\\\Users\\\\pradh\\\\Downloads\\\\XDVioDet-master\\\\XDVioDet-master\\\\tratrain\\\\v=1YSzFo5_DcU__#1_label_B4-0-0.npy\\n', 'C:\\\\Users\\\\pradh\\\\Downloads\\\\XDVioDet-master\\\\XDVioDet-master\\\\tratrain\\\\v=1bglsyniUE4__#1_label_B4-0-0.npy\\n', 'C:\\\\Users\\\\pradh\\\\Downloads\\\\XDVioDet-master\\\\XDVioDet-master\\\\tratrain\\\\v=1eyrO-nbaB0__#1_label_B4-0-0.npy\\n', 'C:\\\\Users\\\\pradh\\\\Downloads\\\\XDVioDet-master\\\\XDVioDet-master\\\\tratrain\\\\v=1fsEpf2O3AA__#1_label_G-0-0.npy\\n', 'C:\\\\Users\\\\pradh\\\\Downloads\\\\XDVioDet-master\\\\XDVioDet-master\\\\tratrain\\\\v=1jWM8Ry9kxM__#1_label_B4-0-0.npy\\n', 'C:\\\\Users\\\\pradh\\\\Downloads\\\\XDVioDet-master\\\\XDVioDet-master\\\\tratrain\\\\v=1uJo9wvzYiw__#1_label_B4-0-0.npy\\n', 'C:\\\\Users\\\\pradh\\\\Downloads\\\\XDVioDet-master\\\\XDVioDet-master\\\\tratrain\\\\v=20kXPI2DX_U__#1_label_B2-G-B6.npy\\n', 'C:\\\\Users\\\\pradh\\\\Downloads\\\\XDVioDet-master\\\\XDVioDet-master\\\\tratrain\\\\v=27FH-nXP1xU__#1_label_B1-0-0.npy\\n', 'C:\\\\Users\\\\pradh\\\\Downloads\\\\XDVioDet-master\\\\XDVioDet-master\\\\tratrain\\\\v=2Rr21qkZEDQ__#00-01-00_00-02-45_label_B6-0-0.npy\\n', 'C:\\\\Users\\\\pradh\\\\Downloads\\\\XDVioDet-master\\\\XDVioDet-master\\\\tratrain\\\\v=2Rr21qkZEDQ__#00-04-10_00-06-09_label_B6-0-0.npy\\n', 'C:\\\\Users\\\\pradh\\\\Downloads\\\\XDVioDet-master\\\\XDVioDet-master\\\\tratrain\\\\v=2Rr21qkZEDQ__#00-08-00_00-08-45_label_B6-0-0.npy\\n', 'C:\\\\Users\\\\pradh\\\\Downloads\\\\XDVioDet-master\\\\XDVioDet-master\\\\tratrain\\\\v=2Rr21qkZEDQ__#00-09-00_00-10-09_label_B6-0-0.npy\\n', 'C:\\\\Users\\\\pradh\\\\Downloads\\\\XDVioDet-master\\\\XDVioDet-master\\\\tratrain\\\\v=2Rr21qkZEDQ__#00-10-20_00-12-45_label_B6-0-0.npy\\n', 'C:\\\\Users\\\\pradh\\\\Downloads\\\\XDVioDet-master\\\\XDVioDet-master\\\\tratrain\\\\v=2Rr21qkZEDQ__#00-13-00_00-14-09_label_B6-0-0.npy\\n', 'C:\\\\Users\\\\pradh\\\\Downloads\\\\XDVioDet-master\\\\XDVioDet-master\\\\tratrain\\\\v=2Rr21qkZEDQ__#00-16-10_00-17-51_label_B6-0-0.npy\\n', 'C:\\\\Users\\\\pradh\\\\Downloads\\\\XDVioDet-master\\\\XDVioDet-master\\\\tratrain\\\\v=2Z-LmV6Zycs__#1_label_B1-0-0.npy\\n', 'C:\\\\Users\\\\pradh\\\\Downloads\\\\XDVioDet-master\\\\XDVioDet-master\\\\tratrain\\\\v=2att1HJqH2o__#1_label_B4-0-0.npy\\n', 'C:\\\\Users\\\\pradh\\\\Downloads\\\\XDVioDet-master\\\\XDVioDet-master\\\\tratrain\\\\v=2eLHANhvuj4__#1_label_B4-0-0.npy\\n', 'C:\\\\Users\\\\pradh\\\\Downloads\\\\XDVioDet-master\\\\XDVioDet-master\\\\tratrain\\\\v=2kygEDNk9aA__#1_label_B1-0-0.npy\\n', 'C:\\\\Users\\\\pradh\\\\Downloads\\\\XDVioDet-master\\\\XDVioDet-master\\\\tratrain\\\\v=2ncA53czMOg__#00-00-00_00-00-58_label_B4-0-0.npy\\n', 'C:\\\\Users\\\\pradh\\\\Downloads\\\\XDVioDet-master\\\\XDVioDet-master\\\\tratrain\\\\v=2ncA53czMOg__#00-00-58_00-01-51_label_B4-0-0.npy\\n', 'C:\\\\Users\\\\pradh\\\\Downloads\\\\XDVioDet-master\\\\XDVioDet-master\\\\tratrain\\\\v=2ncA53czMOg__#00-01-51_00-02-40_label_B4-0-0.npy\\n', 'C:\\\\Users\\\\pradh\\\\Downloads\\\\XDVioDet-master\\\\XDVioDet-master\\\\tratrain\\\\v=2ncA53czMOg__#00-02-40_00-03-55_label_B4-0-0.npy\\n', 'C:\\\\Users\\\\pradh\\\\Downloads\\\\XDVioDet-master\\\\XDVioDet-master\\\\tratrain\\\\v=2ncA53czMOg__#00-03-55_00-05-41_label_B4-0-0.npy\\n', 'C:\\\\Users\\\\pradh\\\\Downloads\\\\XDVioDet-master\\\\XDVioDet-master\\\\tratrain\\\\v=2qiZpndjg6Y__#1_label_G-0-0.npy\\n', 'C:\\\\Users\\\\pradh\\\\Downloads\\\\XDVioDet-master\\\\XDVioDet-master\\\\tratrain\\\\v=2rfyeR-YaJw__#1_label_G-0-0.npy\\n', 'C:\\\\Users\\\\pradh\\\\Downloads\\\\XDVioDet-master\\\\XDVioDet-master\\\\tratrain\\\\v=32OW6cu4Ypk__#1_label_B4-0-0.npy\\n', 'C:\\\\Users\\\\pradh\\\\Downloads\\\\XDVioDet-master\\\\XDVioDet-master\\\\tratrain\\\\v=34gJo6HrDxY__#1_label_G-0-0.npy\\n', 'C:\\\\Users\\\\pradh\\\\Downloads\\\\XDVioDet-master\\\\XDVioDet-master\\\\tratrain\\\\v=36VcW5DWJyI__#1_label_B1-0-0.npy\\n', 'C:\\\\Users\\\\pradh\\\\Downloads\\\\XDVioDet-master\\\\XDVioDet-master\\\\tratrain\\\\v=3DrY28VNPfE__#1_label_B1-0-0.npy\\n', 'C:\\\\Users\\\\pradh\\\\Downloads\\\\XDVioDet-master\\\\XDVioDet-master\\\\tratrain\\\\v=3NcXHsSOzTg__#1_label_B4-0-0.npy\\n', 'C:\\\\Users\\\\pradh\\\\Downloads\\\\XDVioDet-master\\\\XDVioDet-master\\\\tratrain\\\\v=3NklthJ7foI__#1_label_B1-0-0.npy\\n', 'C:\\\\Users\\\\pradh\\\\Downloads\\\\XDVioDet-master\\\\XDVioDet-master\\\\tratrain\\\\v=3a-sg-FsoGw__#1_label_B4-0-0.npy\\n', 'C:\\\\Users\\\\pradh\\\\Downloads\\\\XDVioDet-master\\\\XDVioDet-master\\\\tratrain\\\\v=3qlylxu7wvc__#1_label_B4-0-0.npy\\n', 'C:\\\\Users\\\\pradh\\\\Downloads\\\\XDVioDet-master\\\\XDVioDet-master\\\\tratrain\\\\v=3rV0q-9imZs__#1_label_G-0-0.npy\\n', 'C:\\\\Users\\\\pradh\\\\Downloads\\\\XDVioDet-master\\\\XDVioDet-master\\\\tratrain\\\\v=3ve0JjM4NnA__#00-04-43_00-09-03_label_B1-0-0.npy\\n', 'C:\\\\Users\\\\pradh\\\\Downloads\\\\XDVioDet-master\\\\XDVioDet-master\\\\tratrain\\\\v=3wCWpu0HJ_4__#1_label_G-0-0.npy\\n', 'C:\\\\Users\\\\pradh\\\\Downloads\\\\XDVioDet-master\\\\XDVioDet-master\\\\tratrain\\\\v=4C5rQu7yvJo__#1_label_B1-0-0.npy\\n', 'C:\\\\Users\\\\pradh\\\\Downloads\\\\XDVioDet-master\\\\XDVioDet-master\\\\tratrain\\\\v=4FzhVu2PR8Y__#1_label_B1.npy\\n', 'C:\\\\Users\\\\pradh\\\\Downloads\\\\XDVioDet-master\\\\XDVioDet-master\\\\tratrain\\\\v=4VzOUKODdZ4__#1_label_B4-0-0.npy\\n', 'C:\\\\Users\\\\pradh\\\\Downloads\\\\XDVioDet-master\\\\XDVioDet-master\\\\tratrain\\\\v=4dZv0Ld52QQ__#1_label_B4-0-0.npy\\n', 'C:\\\\Users\\\\pradh\\\\Downloads\\\\XDVioDet-master\\\\XDVioDet-master\\\\tratrain\\\\v=4fTFFShKMbs__#1_label_G-0-0.npy\\n', 'C:\\\\Users\\\\pradh\\\\Downloads\\\\XDVioDet-master\\\\XDVioDet-master\\\\tratrain\\\\v=4sQE6T2O0EQ__#00-02-00_00-02-35_label_B6-0-0.npy\\n', 'C:\\\\Users\\\\pradh\\\\Downloads\\\\XDVioDet-master\\\\XDVioDet-master\\\\tratrain\\\\v=4sQE6T2O0EQ__#00-05-50_00-07-20_label_B6-0-0.npy\\n', 'C:\\\\Users\\\\pradh\\\\Downloads\\\\XDVioDet-master\\\\XDVioDet-master\\\\tratrain\\\\v=4sQE6T2O0EQ__#00-09-12_00-10-15_label_B6-0-0.npy\\n', 'C:\\\\Users\\\\pradh\\\\Downloads\\\\XDVioDet-master\\\\XDVioDet-master\\\\tratrain\\\\v=4tQ4ZWTFR6c__#1_label_B4-0-0.npy\\n', 'C:\\\\Users\\\\pradh\\\\Downloads\\\\XDVioDet-master\\\\XDVioDet-master\\\\tratrain\\\\v=4uXbF8bt-SQ__#1_label_B4-0-0.npy\\n', 'C:\\\\Users\\\\pradh\\\\Downloads\\\\XDVioDet-master\\\\XDVioDet-master\\\\tratrain\\\\v=4xBNjEbLekg__#1_label_B4-0-0.npy\\n', 'C:\\\\Users\\\\pradh\\\\Downloads\\\\XDVioDet-master\\\\XDVioDet-master\\\\tratrain\\\\v=50hbq24hGIM__#00-00-00_00-01-10_label_G-0-0.npy\\n', 'C:\\\\Users\\\\pradh\\\\Downloads\\\\XDVioDet-master\\\\XDVioDet-master\\\\tratrain\\\\v=5BBoVfKOyeM__#00-01-40_00-02-59_label_B6-0-0.npy\\n', 'C:\\\\Users\\\\pradh\\\\Downloads\\\\XDVioDet-master\\\\XDVioDet-master\\\\tratrain\\\\v=5BBoVfKOyeM__#00-03-02_00-03-52_label_B6-0-0.npy\\n', 'C:\\\\Users\\\\pradh\\\\Downloads\\\\XDVioDet-master\\\\XDVioDet-master\\\\tratrain\\\\v=5Ef6_XODxHg__#1_label_B4-0-0.npy\\n', 'C:\\\\Users\\\\pradh\\\\Downloads\\\\XDVioDet-master\\\\XDVioDet-master\\\\tratrain\\\\v=5OGEr2Q-75M__#1_label_B4-0-0.npy\\n', 'C:\\\\Users\\\\pradh\\\\Downloads\\\\XDVioDet-master\\\\XDVioDet-master\\\\tratrain\\\\v=5Rh7DIBWKBk__#00-00-30_00-01-45_label_B6-0-0.npy\\n', 'C:\\\\Users\\\\pradh\\\\Downloads\\\\XDVioDet-master\\\\XDVioDet-master\\\\tratrain\\\\v=5Rh7DIBWKBk__#00-02-10_00-03-45_label_B6-0-0.npy\\n', 'C:\\\\Users\\\\pradh\\\\Downloads\\\\XDVioDet-master\\\\XDVioDet-master\\\\tratrain\\\\v=5Rh7DIBWKBk__#00-04-00_00-05-47_label_B6-0-0.npy\\n', 'C:\\\\Users\\\\pradh\\\\Downloads\\\\XDVioDet-master\\\\XDVioDet-master\\\\tratrain\\\\v=5Rh7DIBWKBk__#00-07-03_00-07-20_label_B6-0-0.npy\\n', 'C:\\\\Users\\\\pradh\\\\Downloads\\\\XDVioDet-master\\\\XDVioDet-master\\\\tratrain\\\\v=5Rh7DIBWKBk__#00-07-40_00-09-10_label_B6-0-0.npy\\n', 'C:\\\\Users\\\\pradh\\\\Downloads\\\\XDVioDet-master\\\\XDVioDet-master\\\\tratrain\\\\v=5Tnl7_8RqlA__#00-01-00_00-02-45_label_B6-0-0.npy\\n', 'C:\\\\Users\\\\pradh\\\\Downloads\\\\XDVioDet-master\\\\XDVioDet-master\\\\tratrain\\\\v=5Tnl7_8RqlA__#00-03-00_00-04-09_label_B6-0-0.npy\\n', 'C:\\\\Users\\\\pradh\\\\Downloads\\\\XDVioDet-master\\\\XDVioDet-master\\\\tratrain\\\\v=5Tnl7_8RqlA__#00-04-10_00-06-09_label_B6-0-0.npy\\n', 'C:\\\\Users\\\\pradh\\\\Downloads\\\\XDVioDet-master\\\\XDVioDet-master\\\\tratrain\\\\v=5Tnl7_8RqlA__#00-06-10_00-07-19_label_B6-0-0.npy\\n', 'C:\\\\Users\\\\pradh\\\\Downloads\\\\XDVioDet-master\\\\XDVioDet-master\\\\tratrain\\\\v=5Tnl7_8RqlA__#00-07-22_00-08-19_label_B6-0-0.npy\\n', 'C:\\\\Users\\\\pradh\\\\Downloads\\\\XDVioDet-master\\\\XDVioDet-master\\\\tratrain\\\\v=5Tnl7_8RqlA__#00-08-35_00-10-25_label_B6-0-0.npy\\n', 'C:\\\\Users\\\\pradh\\\\Downloads\\\\XDVioDet-master\\\\XDVioDet-master\\\\tratrain\\\\v=5Tnl7_8RqlA__#00-13-00_00-14-09_label_B6-0-0.npy\\n', 'C:\\\\Users\\\\pradh\\\\Downloads\\\\XDVioDet-master\\\\XDVioDet-master\\\\tratrain\\\\v=5Tnl7_8RqlA__#00-14-10_00-16-09_label_B6-0-0.npy\\n', 'C:\\\\Users\\\\pradh\\\\Downloads\\\\XDVioDet-master\\\\XDVioDet-master\\\\tratrain\\\\v=5Tnl7_8RqlA__#00-16-10_00-17-19_label_B6-0-0.npy\\n', 'C:\\\\Users\\\\pradh\\\\Downloads\\\\XDVioDet-master\\\\XDVioDet-master\\\\tratrain\\\\v=5Tnl7_8RqlA__#00-17-22_00-18-19_label_B6-0-0.npy\\n', 'C:\\\\Users\\\\pradh\\\\Downloads\\\\XDVioDet-master\\\\XDVioDet-master\\\\tratrain\\\\v=5ZzZKy99v6k__#1_label_B4-0-0.npy\\n', 'C:\\\\Users\\\\pradh\\\\Downloads\\\\XDVioDet-master\\\\XDVioDet-master\\\\tratrain\\\\v=5ai3CphP7Mo__#1_label_G-0-0.npy\\n', 'C:\\\\Users\\\\pradh\\\\Downloads\\\\XDVioDet-master\\\\XDVioDet-master\\\\tratrain\\\\v=5fyaGMyzh-4__#1_label_B1-0-0.npy\\n', 'C:\\\\Users\\\\pradh\\\\Downloads\\\\XDVioDet-master\\\\XDVioDet-master\\\\tratrain\\\\v=5gCHS7CsjsE__#1_label_B4-0-0.npy\\n', 'C:\\\\Users\\\\pradh\\\\Downloads\\\\XDVioDet-master\\\\XDVioDet-master\\\\tratrain\\\\v=5gOoBB_BxRM__#1_label_B4-0-0.npy\\n', 'C:\\\\Users\\\\pradh\\\\Downloads\\\\XDVioDet-master\\\\XDVioDet-master\\\\tratrain\\\\v=5plpAWiJ9VA__#1_label_B4-0-0.npy\\n', 'C:\\\\Users\\\\pradh\\\\Downloads\\\\XDVioDet-master\\\\XDVioDet-master\\\\tratrain\\\\v=5vF4si3hoRA__#1_label_B4-0-0.npy\\n', 'C:\\\\Users\\\\pradh\\\\Downloads\\\\XDVioDet-master\\\\XDVioDet-master\\\\tratrain\\\\v=5wHHm-dCFyo__#1_label_B4-0-0.npy\\n', 'C:\\\\Users\\\\pradh\\\\Downloads\\\\XDVioDet-master\\\\XDVioDet-master\\\\tratrain\\\\v=63ehKu7tYlY__#1_label_G-0-0.npy\\n', 'C:\\\\Users\\\\pradh\\\\Downloads\\\\XDVioDet-master\\\\XDVioDet-master\\\\tratrain\\\\v=65vPNt9eV3o__#1_label_B1-0-0.npy\\n', 'C:\\\\Users\\\\pradh\\\\Downloads\\\\XDVioDet-master\\\\XDVioDet-master\\\\tratrain\\\\v=66F2bVUq_zk__#00-00-00_00-00-51_label_B6-0-0.npy\\n', 'C:\\\\Users\\\\pradh\\\\Downloads\\\\XDVioDet-master\\\\XDVioDet-master\\\\tratrain\\\\v=66F2bVUq_zk__#00-01-00_00-02-45_label_B6-0-0.npy\\n', 'C:\\\\Users\\\\pradh\\\\Downloads\\\\XDVioDet-master\\\\XDVioDet-master\\\\tratrain\\\\v=66F2bVUq_zk__#00-03-00_00-04-09_label_B6-0-0.npy\\n', 'C:\\\\Users\\\\pradh\\\\Downloads\\\\XDVioDet-master\\\\XDVioDet-master\\\\tratrain\\\\v=66F2bVUq_zk__#00-04-10_00-06-09_label_B6-0-0.npy\\n', 'C:\\\\Users\\\\pradh\\\\Downloads\\\\XDVioDet-master\\\\XDVioDet-master\\\\tratrain\\\\v=66F2bVUq_zk__#00-06-10_00-07-19_label_B6-0-0.npy\\n', 'C:\\\\Users\\\\pradh\\\\Downloads\\\\XDVioDet-master\\\\XDVioDet-master\\\\tratrain\\\\v=66F2bVUq_zk__#00-07-22_00-08-19_label_B6-0-0.npy\\n', 'C:\\\\Users\\\\pradh\\\\Downloads\\\\XDVioDet-master\\\\XDVioDet-master\\\\tratrain\\\\v=66F2bVUq_zk__#00-08-35_00-10-25_label_B6-0-0.npy\\n', 'C:\\\\Users\\\\pradh\\\\Downloads\\\\XDVioDet-master\\\\XDVioDet-master\\\\tratrain\\\\v=66ZSIgJkQ-o__#1_label_B1-0-0.npy\\n', 'C:\\\\Users\\\\pradh\\\\Downloads\\\\XDVioDet-master\\\\XDVioDet-master\\\\tratrain\\\\v=68eshtx9qaM__#1_label_B4-0-0.npy\\n', 'C:\\\\Users\\\\pradh\\\\Downloads\\\\XDVioDet-master\\\\XDVioDet-master\\\\tratrain\\\\v=6AdDLhPwpp4__#1_label_B4-0-0.npy\\n', 'C:\\\\Users\\\\pradh\\\\Downloads\\\\XDVioDet-master\\\\XDVioDet-master\\\\tratrain\\\\v=6FnL9s4SaAc__#1_label_G-0-0.npy\\n', 'C:\\\\Users\\\\pradh\\\\Downloads\\\\XDVioDet-master\\\\XDVioDet-master\\\\tratrain\\\\v=6IiAgbi5t_Q__#1_label_B1-0-0.npy\\n', 'C:\\\\Users\\\\pradh\\\\Downloads\\\\XDVioDet-master\\\\XDVioDet-master\\\\tratrain\\\\v=6QGDA-AS-Ac__#1_label_G-0-0.npy\\n', 'C:\\\\Users\\\\pradh\\\\Downloads\\\\XDVioDet-master\\\\XDVioDet-master\\\\tratrain\\\\v=6WkKb8Mu89Q__#00-00-35_00-02-30_label_B6-0-0.npy\\n', 'C:\\\\Users\\\\pradh\\\\Downloads\\\\XDVioDet-master\\\\XDVioDet-master\\\\tratrain\\\\v=6aQoC1M-jEY__#1_label_B4-0-0.npy\\n', 'C:\\\\Users\\\\pradh\\\\Downloads\\\\XDVioDet-master\\\\XDVioDet-master\\\\tratrain\\\\v=6fDDTbiBSZc__#1_label_G-0-0.npy\\n', 'C:\\\\Users\\\\pradh\\\\Downloads\\\\XDVioDet-master\\\\XDVioDet-master\\\\tratrain\\\\v=6iCFrgU0HDA__#00-01-50_00-03-22_label_G-0-0.npy\\n', 'C:\\\\Users\\\\pradh\\\\Downloads\\\\XDVioDet-master\\\\XDVioDet-master\\\\tratrain\\\\v=6mTIikv5iwU__#1_label_B6-0-0.npy\\n', 'C:\\\\Users\\\\pradh\\\\Downloads\\\\XDVioDet-master\\\\XDVioDet-master\\\\tratrain\\\\v=6pvpdmz8qmI__#1_label_G-0-0.npy\\n', 'C:\\\\Users\\\\pradh\\\\Downloads\\\\XDVioDet-master\\\\XDVioDet-master\\\\tratrain\\\\v=6x4wLMqYIKM__#1_label_G-0-0.npy\\n', 'C:\\\\Users\\\\pradh\\\\Downloads\\\\XDVioDet-master\\\\XDVioDet-master\\\\tratrain\\\\v=736O4Hz4Nk4__#1_label_G-0-0.npy\\n', 'C:\\\\Users\\\\pradh\\\\Downloads\\\\XDVioDet-master\\\\XDVioDet-master\\\\tratrain\\\\v=73uRcX0Dvfc__#00-01-52_00-03-10_label_B6-0-0.npy\\n', 'C:\\\\Users\\\\pradh\\\\Downloads\\\\XDVioDet-master\\\\XDVioDet-master\\\\tratrain\\\\v=73uRcX0Dvfc__#00-03-12_00-04-15_label_B6-0-0.npy\\n', 'C:\\\\Users\\\\pradh\\\\Downloads\\\\XDVioDet-master\\\\XDVioDet-master\\\\tratrain\\\\v=73uRcX0Dvfc__#00-04-19_00-05-11_label_B6-0-0.npy\\n', 'C:\\\\Users\\\\pradh\\\\Downloads\\\\XDVioDet-master\\\\XDVioDet-master\\\\tratrain\\\\v=73uRcX0Dvfc__#00-05-19_00-06-09_label_B6-0-0.npy\\n', 'C:\\\\Users\\\\pradh\\\\Downloads\\\\XDVioDet-master\\\\XDVioDet-master\\\\tratrain\\\\v=7CkLX_Eho24__#1_label_B1-0-0.npy\\n', 'C:\\\\Users\\\\pradh\\\\Downloads\\\\XDVioDet-master\\\\XDVioDet-master\\\\tratrain\\\\v=7G4IvR1vQ7M__#00-00-00_00-00-45_label_B1-0-0.npy\\n', 'C:\\\\Users\\\\pradh\\\\Downloads\\\\XDVioDet-master\\\\XDVioDet-master\\\\tratrain\\\\v=7JBlGKPgKrU__#1_label_B4-0-0.npy\\n', 'C:\\\\Users\\\\pradh\\\\Downloads\\\\XDVioDet-master\\\\XDVioDet-master\\\\tratrain\\\\v=7JKWRE9yx5M__#1_label_B4-0-0.npy\\n', 'C:\\\\Users\\\\pradh\\\\Downloads\\\\XDVioDet-master\\\\XDVioDet-master\\\\tratrain\\\\v=7OM8znTZYkk__#1_label_B4-0-0.npy\\n', 'C:\\\\Users\\\\pradh\\\\Downloads\\\\XDVioDet-master\\\\XDVioDet-master\\\\tratrain\\\\v=7PXpgxmogSc__#1_label_B4-0-0.npy\\n', 'C:\\\\Users\\\\pradh\\\\Downloads\\\\XDVioDet-master\\\\XDVioDet-master\\\\tratrain\\\\v=7QOdBpDrmKk__#00-00-00_00-00-51_label_B6-0-0.npy\\n', 'C:\\\\Users\\\\pradh\\\\Downloads\\\\XDVioDet-master\\\\XDVioDet-master\\\\tratrain\\\\v=7QOdBpDrmKk__#00-03-00_00-04-09_label_B6-0-0.npy\\n', 'C:\\\\Users\\\\pradh\\\\Downloads\\\\XDVioDet-master\\\\XDVioDet-master\\\\tratrain\\\\v=7QOdBpDrmKk__#00-04-10_00-06-09_label_B6-0-0.npy\\n', 'C:\\\\Users\\\\pradh\\\\Downloads\\\\XDVioDet-master\\\\XDVioDet-master\\\\tratrain\\\\v=7QOdBpDrmKk__#00-06-10_00-07-19_label_B6-0-0.npy\\n', 'C:\\\\Users\\\\pradh\\\\Downloads\\\\XDVioDet-master\\\\XDVioDet-master\\\\tratrain\\\\v=7QOdBpDrmKk__#00-07-22_00-08-19_label_B6-0-0.npy\\n', 'C:\\\\Users\\\\pradh\\\\Downloads\\\\XDVioDet-master\\\\XDVioDet-master\\\\tratrain\\\\v=7QOdBpDrmKk__#00-08-35_00-10-25_label_B6-0-0.npy\\n', 'C:\\\\Users\\\\pradh\\\\Downloads\\\\XDVioDet-master\\\\XDVioDet-master\\\\tratrain\\\\v=7QOdBpDrmKk__#00-11-00_00-12-45_label_B6-0-0.npy\\n', 'C:\\\\Users\\\\pradh\\\\Downloads\\\\XDVioDet-master\\\\XDVioDet-master\\\\tratrain\\\\v=7QOdBpDrmKk__#00-13-00_00-14-09_label_B6-0-0.npy\\n', 'C:\\\\Users\\\\pradh\\\\Downloads\\\\XDVioDet-master\\\\XDVioDet-master\\\\tratrain\\\\v=7QOdBpDrmKk__#00-14-10_00-14-49_label_B6-0-0.npy\\n', 'C:\\\\Users\\\\pradh\\\\Downloads\\\\XDVioDet-master\\\\XDVioDet-master\\\\tratrain\\\\v=7Qw-QPZZrAk__#1_label_G-0-0.npy\\n', 'C:\\\\Users\\\\pradh\\\\Downloads\\\\XDVioDet-master\\\\XDVioDet-master\\\\tratrain\\\\v=7WO1qIXLan4__#1_label_B1-0-0.npy\\n', 'C:\\\\Users\\\\pradh\\\\Downloads\\\\XDVioDet-master\\\\XDVioDet-master\\\\tratrain\\\\v=7WukOSs0n5c__#1_label_G-0-0.npy\\n', 'C:\\\\Users\\\\pradh\\\\Downloads\\\\XDVioDet-master\\\\XDVioDet-master\\\\tratrain\\\\v=7_1PfqGVSg0__#00-00-00_00-03-08_label_B2-G-0.npy\\n', 'C:\\\\Users\\\\pradh\\\\Downloads\\\\XDVioDet-master\\\\XDVioDet-master\\\\tratrain\\\\v=7_9OJnRnZjU__#1_label_B4-0-0.npy\\n', 'C:\\\\Users\\\\pradh\\\\Downloads\\\\XDVioDet-master\\\\XDVioDet-master\\\\tratrain\\\\v=7bTAoATiuuc__#1_label_B4-0-0.npy\\n', 'C:\\\\Users\\\\pradh\\\\Downloads\\\\XDVioDet-master\\\\XDVioDet-master\\\\tratrain\\\\v=7hVEtcXXipo__#1_label_G-0-0.npy\\n', 'C:\\\\Users\\\\pradh\\\\Downloads\\\\XDVioDet-master\\\\XDVioDet-master\\\\tratrain\\\\v=7pN6q83gl7E__#1_label_B1-0-0.npy\\n', 'C:\\\\Users\\\\pradh\\\\Downloads\\\\XDVioDet-master\\\\XDVioDet-master\\\\tratrain\\\\v=7q46-34clh4__#1_label_B4-0-0.npy\\n', 'C:\\\\Users\\\\pradh\\\\Downloads\\\\XDVioDet-master\\\\XDVioDet-master\\\\tratrain\\\\v=7q4Yj0O9DXo__#1_label_B6-0-0.npy\\n', 'C:\\\\Users\\\\pradh\\\\Downloads\\\\XDVioDet-master\\\\XDVioDet-master\\\\tratrain\\\\v=7rDRFFSUrPI__#00-02-32_00-04-36_label_G-0-0.npy\\n', 'C:\\\\Users\\\\pradh\\\\Downloads\\\\XDVioDet-master\\\\XDVioDet-master\\\\tratrain\\\\v=87ss-JRZIs4__#1_label_G-0-0.npy\\n', 'C:\\\\Users\\\\pradh\\\\Downloads\\\\XDVioDet-master\\\\XDVioDet-master\\\\tratrain\\\\v=883gJGDi8Xw__#1_label_B6-0-0.npy\\n', 'C:\\\\Users\\\\pradh\\\\Downloads\\\\XDVioDet-master\\\\XDVioDet-master\\\\tratrain\\\\v=88yP_20Lgqg__#1_label_B4-0-0.npy\\n', 'C:\\\\Users\\\\pradh\\\\Downloads\\\\XDVioDet-master\\\\XDVioDet-master\\\\tratrain\\\\v=8PB-nyWvdgM__#1_label_B4-0-0.npy\\n', 'C:\\\\Users\\\\pradh\\\\Downloads\\\\XDVioDet-master\\\\XDVioDet-master\\\\tratrain\\\\v=8TDaA_4tR-U__#1_label_B4-0-0.npy\\n', 'C:\\\\Users\\\\pradh\\\\Downloads\\\\XDVioDet-master\\\\XDVioDet-master\\\\tratrain\\\\v=8bDUGRaV0cs__#1_label_B1-0-0.npy\\n', 'C:\\\\Users\\\\pradh\\\\Downloads\\\\XDVioDet-master\\\\XDVioDet-master\\\\tratrain\\\\v=8lvtYiOiCQU__#1_label_B4-0-0.npy\\n', 'C:\\\\Users\\\\pradh\\\\Downloads\\\\XDVioDet-master\\\\XDVioDet-master\\\\tratrain\\\\v=8m8zfrJEcN8__#1_label_B4-0-0.npy\\n', 'C:\\\\Users\\\\pradh\\\\Downloads\\\\XDVioDet-master\\\\XDVioDet-master\\\\tratrain\\\\v=8tqeeBGjnPg__#00-00-00_00-01-51_label_B6-0-0.npy\\n', 'C:\\\\Users\\\\pradh\\\\Downloads\\\\XDVioDet-master\\\\XDVioDet-master\\\\tratrain\\\\v=8tqeeBGjnPg__#00-01-52_00-03-10_label_B6-0-0.npy\\n', 'C:\\\\Users\\\\pradh\\\\Downloads\\\\XDVioDet-master\\\\XDVioDet-master\\\\tratrain\\\\v=8tqeeBGjnPg__#00-04-19_00-06-00_label_B6-0-0.npy\\n', 'C:\\\\Users\\\\pradh\\\\Downloads\\\\XDVioDet-master\\\\XDVioDet-master\\\\tratrain\\\\v=8tqeeBGjnPg__#00-07-02_00-08-00_label_B6-0-0.npy\\n', 'C:\\\\Users\\\\pradh\\\\Downloads\\\\XDVioDet-master\\\\XDVioDet-master\\\\tratrain\\\\v=8tqeeBGjnPg__#00-08-10_00-09-51_label_B6-0-0.npy\\n', 'C:\\\\Users\\\\pradh\\\\Downloads\\\\XDVioDet-master\\\\XDVioDet-master\\\\tratrain\\\\v=8tqeeBGjnPg__#00-10-00_00-11-31_label_B6-0-0.npy\\n', 'C:\\\\Users\\\\pradh\\\\Downloads\\\\XDVioDet-master\\\\XDVioDet-master\\\\tratrain\\\\v=93p7OOw7Rug__#1_label_G-0-0.npy\\n', 'C:\\\\Users\\\\pradh\\\\Downloads\\\\XDVioDet-master\\\\XDVioDet-master\\\\tratrain\\\\v=9MQr77RSnQY__#1_label_B1-0-0.npy\\n', 'C:\\\\Users\\\\pradh\\\\Downloads\\\\XDVioDet-master\\\\XDVioDet-master\\\\tratrain\\\\v=9PewfYAzMNs__#00-00-00_00-00-51_label_B6-0-0.npy\\n', 'C:\\\\Users\\\\pradh\\\\Downloads\\\\XDVioDet-master\\\\XDVioDet-master\\\\tratrain\\\\v=9PewfYAzMNs__#00-01-00_00-02-45_label_B6-0-0.npy\\n', 'C:\\\\Users\\\\pradh\\\\Downloads\\\\XDVioDet-master\\\\XDVioDet-master\\\\tratrain\\\\v=9Qmks0QVI40__#00-00-00_00-01-58_label_B4-0-0.npy\\n', 'C:\\\\Users\\\\pradh\\\\Downloads\\\\XDVioDet-master\\\\XDVioDet-master\\\\tratrain\\\\v=9Qmks0QVI40__#00-01-58_00-04-40_label_B4-0-0.npy\\n', 'C:\\\\Users\\\\pradh\\\\Downloads\\\\XDVioDet-master\\\\XDVioDet-master\\\\tratrain\\\\v=9W_OeAknNFE__#1_label_G-0-0.npy\\n', 'C:\\\\Users\\\\pradh\\\\Downloads\\\\XDVioDet-master\\\\XDVioDet-master\\\\tratrain\\\\v=9_wk5nlx3pg__#1_label_B4-0-0.npy\\n', 'C:\\\\Users\\\\pradh\\\\Downloads\\\\XDVioDet-master\\\\XDVioDet-master\\\\tratrain\\\\v=9hbxsGFK4I4__#1_label_B4-0-0.npy\\n', 'C:\\\\Users\\\\pradh\\\\Downloads\\\\XDVioDet-master\\\\XDVioDet-master\\\\tratrain\\\\v=9iWViPvq3aM__#1_label_G-0-0.npy\\n', 'C:\\\\Users\\\\pradh\\\\Downloads\\\\XDVioDet-master\\\\XDVioDet-master\\\\tratrain\\\\v=9piAMKGjt8o__#1_label_B1-0-0.npy\\n', 'C:\\\\Users\\\\pradh\\\\Downloads\\\\XDVioDet-master\\\\XDVioDet-master\\\\tratrain\\\\v=9u_gz0hG0HA__#1_label_B1-0-0.npy\\n', 'C:\\\\Users\\\\pradh\\\\Downloads\\\\XDVioDet-master\\\\XDVioDet-master\\\\tratrain\\\\v=9zmKVlflJ1c__#1_label_B4-0-0.npy\\n', 'C:\\\\Users\\\\pradh\\\\Downloads\\\\XDVioDet-master\\\\XDVioDet-master\\\\tratrain\\\\v=ADQNFs9bfFk__#00-00-58_00-01-51_label_B4-0-0.npy\\n', 'C:\\\\Users\\\\pradh\\\\Downloads\\\\XDVioDet-master\\\\XDVioDet-master\\\\tratrain\\\\v=ADQNFs9bfFk__#00-01-51_00-03-03_label_B4-0-0.npy\\n', 'C:\\\\Users\\\\pradh\\\\Downloads\\\\XDVioDet-master\\\\XDVioDet-master\\\\tratrain\\\\v=ADQNFs9bfFk__#00-03-03_00-04-55_label_B4-0-0.npy\\n', 'C:\\\\Users\\\\pradh\\\\Downloads\\\\XDVioDet-master\\\\XDVioDet-master\\\\tratrain\\\\v=AF9p0YA0hyA__#00-00-00_00-00-45_label_B4-0-0.npy\\n', 'C:\\\\Users\\\\pradh\\\\Downloads\\\\XDVioDet-master\\\\XDVioDet-master\\\\tratrain\\\\v=AF9p0YA0hyA__#00-01-44_00-03-03_label_B4-0-0.npy\\n', 'C:\\\\Users\\\\pradh\\\\Downloads\\\\XDVioDet-master\\\\XDVioDet-master\\\\tratrain\\\\v=AF9p0YA0hyA__#00-04-20_00-06-25_label_B4-0-0.npy\\n', 'C:\\\\Users\\\\pradh\\\\Downloads\\\\XDVioDet-master\\\\XDVioDet-master\\\\tratrain\\\\v=AhmF5p2Z7Ec__#1_label_B4-0-0.npy\\n', 'C:\\\\Users\\\\pradh\\\\Downloads\\\\XDVioDet-master\\\\XDVioDet-master\\\\tratrain\\\\v=AqmD1zuTcxE__#1_label_B2-G-B6.npy\\n', 'C:\\\\Users\\\\pradh\\\\Downloads\\\\XDVioDet-master\\\\XDVioDet-master\\\\tratrain\\\\v=ArWppRtdTTQ__#1_label_B4-0-0.npy\\n', 'C:\\\\Users\\\\pradh\\\\Downloads\\\\XDVioDet-master\\\\XDVioDet-master\\\\tratrain\\\\v=ArmaSAbnnAk__#1_label_B4-0-0.npy\\n', 'C:\\\\Users\\\\pradh\\\\Downloads\\\\XDVioDet-master\\\\XDVioDet-master\\\\tratrain\\\\v=BBNhYOmEgy0__#1_label_G-0-0.npy\\n', 'C:\\\\Users\\\\pradh\\\\Downloads\\\\XDVioDet-master\\\\XDVioDet-master\\\\tratrain\\\\v=BXR3d22BhHs__#00-00-00_00-02-00_label_B4-0-0.npy\\n', 'C:\\\\Users\\\\pradh\\\\Downloads\\\\XDVioDet-master\\\\XDVioDet-master\\\\tratrain\\\\v=BXR3d22BhHs__#00-02-00_00-03-06_label_B4-0-0.npy\\n', 'C:\\\\Users\\\\pradh\\\\Downloads\\\\XDVioDet-master\\\\XDVioDet-master\\\\tratrain\\\\v=BXR3d22BhHs__#00-03-06_00-04-00_label_B4-0-0.npy\\n', 'C:\\\\Users\\\\pradh\\\\Downloads\\\\XDVioDet-master\\\\XDVioDet-master\\\\tratrain\\\\v=BXR3d22BhHs__#00-04-00_00-06-00_label_B4-0-0.npy\\n', 'C:\\\\Users\\\\pradh\\\\Downloads\\\\XDVioDet-master\\\\XDVioDet-master\\\\tratrain\\\\v=BXR3d22BhHs__#00-08-00_00-10-00_label_B4-0-0.npy\\n', 'C:\\\\Users\\\\pradh\\\\Downloads\\\\XDVioDet-master\\\\XDVioDet-master\\\\tratrain\\\\v=BXR3d22BhHs__#00-10-00_00-12-00_label_B4-0-0.npy\\n', 'C:\\\\Users\\\\pradh\\\\Downloads\\\\XDVioDet-master\\\\XDVioDet-master\\\\tratrain\\\\v=BXR3d22BhHs__#00-12-00_00-13-50_label_B4-0-0.npy\\n', 'C:\\\\Users\\\\pradh\\\\Downloads\\\\XDVioDet-master\\\\XDVioDet-master\\\\tratrain\\\\v=Bmd8-_0HVNs__#1_label_B1-0-0.npy\\n', 'C:\\\\Users\\\\pradh\\\\Downloads\\\\XDVioDet-master\\\\XDVioDet-master\\\\tratrain\\\\v=BosKNgpNdP4__#00-01-30_00-02-37_label_B6-0-0.npy\\n', 'C:\\\\Users\\\\pradh\\\\Downloads\\\\XDVioDet-master\\\\XDVioDet-master\\\\tratrain\\\\v=BosKNgpNdP4__#00-04-00_00-05-45_label_B6-0-0.npy\\n', 'C:\\\\Users\\\\pradh\\\\Downloads\\\\XDVioDet-master\\\\XDVioDet-master\\\\tratrain\\\\v=BosKNgpNdP4__#00-08-10_00-08-40_label_B6-0-0.npy\\n', 'C:\\\\Users\\\\pradh\\\\Downloads\\\\XDVioDet-master\\\\XDVioDet-master\\\\tratrain\\\\v=Bpg0UfpuUAs__#1_label_B4-0-0.npy\\n', 'C:\\\\Users\\\\pradh\\\\Downloads\\\\XDVioDet-master\\\\XDVioDet-master\\\\tratrain\\\\v=BpwNn29rpo0__#1_label_B4-0-0.npy\\n', 'C:\\\\Users\\\\pradh\\\\Downloads\\\\XDVioDet-master\\\\XDVioDet-master\\\\tratrain\\\\v=BzdfTtOPVnA__#1_label_B4-0-0.npy\\n', 'C:\\\\Users\\\\pradh\\\\Downloads\\\\XDVioDet-master\\\\XDVioDet-master\\\\tratrain\\\\v=BzwNU2xmT64__#00-00-00_00-00-51_label_B6-0-0.npy\\n', 'C:\\\\Users\\\\pradh\\\\Downloads\\\\XDVioDet-master\\\\XDVioDet-master\\\\tratrain\\\\v=BzwNU2xmT64__#00-03-00_00-04-09_label_B6-0-0.npy\\n', 'C:\\\\Users\\\\pradh\\\\Downloads\\\\XDVioDet-master\\\\XDVioDet-master\\\\tratrain\\\\v=BzwNU2xmT64__#00-06-10_00-07-19_label_B6-0-0.npy\\n', 'C:\\\\Users\\\\pradh\\\\Downloads\\\\XDVioDet-master\\\\XDVioDet-master\\\\tratrain\\\\v=BzwNU2xmT64__#00-08-35_00-10-25_label_B6-0-0.npy\\n', 'C:\\\\Users\\\\pradh\\\\Downloads\\\\XDVioDet-master\\\\XDVioDet-master\\\\tratrain\\\\v=BzwNU2xmT64__#00-10-30_00-10-51_label_B6-0-0.npy\\n', 'C:\\\\Users\\\\pradh\\\\Downloads\\\\XDVioDet-master\\\\XDVioDet-master\\\\tratrain\\\\v=BzwNU2xmT64__#00-11-00_00-12-45_label_B6-0-0.npy\\n', 'C:\\\\Users\\\\pradh\\\\Downloads\\\\XDVioDet-master\\\\XDVioDet-master\\\\tratrain\\\\v=BzwNU2xmT64__#00-13-00_00-14-09_label_B6-0-0.npy\\n', 'C:\\\\Users\\\\pradh\\\\Downloads\\\\XDVioDet-master\\\\XDVioDet-master\\\\tratrain\\\\v=C1ZCZ-PBGzI__#00-00-00_00-01-51_label_B6-0-0.npy\\n', 'C:\\\\Users\\\\pradh\\\\Downloads\\\\XDVioDet-master\\\\XDVioDet-master\\\\tratrain\\\\v=C1ZCZ-PBGzI__#00-01-52_00-03-10_label_B6-0-0.npy\\n', 'C:\\\\Users\\\\pradh\\\\Downloads\\\\XDVioDet-master\\\\XDVioDet-master\\\\tratrain\\\\v=C1ZCZ-PBGzI__#00-03-12_00-04-15_label_B6-0-0.npy\\n', 'C:\\\\Users\\\\pradh\\\\Downloads\\\\XDVioDet-master\\\\XDVioDet-master\\\\tratrain\\\\v=C1ZCZ-PBGzI__#00-04-19_00-06-00_label_B6-0-0.npy\\n', 'C:\\\\Users\\\\pradh\\\\Downloads\\\\XDVioDet-master\\\\XDVioDet-master\\\\tratrain\\\\v=C1ZCZ-PBGzI__#00-07-02_00-08-00_label_B6-0-0.npy\\n', 'C:\\\\Users\\\\pradh\\\\Downloads\\\\XDVioDet-master\\\\XDVioDet-master\\\\tratrain\\\\v=C1ZCZ-PBGzI__#00-08-10_00-09-51_label_B6-0-0.npy\\n', 'C:\\\\Users\\\\pradh\\\\Downloads\\\\XDVioDet-master\\\\XDVioDet-master\\\\tratrain\\\\v=C1ZCZ-PBGzI__#00-10-00_00-11-31_label_B6-0-0.npy\\n', 'C:\\\\Users\\\\pradh\\\\Downloads\\\\XDVioDet-master\\\\XDVioDet-master\\\\tratrain\\\\v=C1ZCZ-PBGzI__#00-11-40_00-12-51_label_B6-0-0.npy\\n', 'C:\\\\Users\\\\pradh\\\\Downloads\\\\XDVioDet-master\\\\XDVioDet-master\\\\tratrain\\\\v=C1ZCZ-PBGzI__#00-13-00_00-14-51_label_B6-0-0.npy\\n', 'C:\\\\Users\\\\pradh\\\\Downloads\\\\XDVioDet-master\\\\XDVioDet-master\\\\tratrain\\\\v=C1ZCZ-PBGzI__#00-14-59_00-15-45_label_B6-0-0.npy\\n', 'C:\\\\Users\\\\pradh\\\\Downloads\\\\XDVioDet-master\\\\XDVioDet-master\\\\tratrain\\\\v=C8-ufLan6B8__#1_label_B4-0-0.npy\\n', 'C:\\\\Users\\\\pradh\\\\Downloads\\\\XDVioDet-master\\\\XDVioDet-master\\\\tratrain\\\\v=CDcRpCHfRgs__#1_label_B4-0-0.npy\\n', 'C:\\\\Users\\\\pradh\\\\Downloads\\\\XDVioDet-master\\\\XDVioDet-master\\\\tratrain\\\\v=CFIauDPjdX4__#1_label_B6-0-0.npy\\n', 'C:\\\\Users\\\\pradh\\\\Downloads\\\\XDVioDet-master\\\\XDVioDet-master\\\\tratrain\\\\v=CFfc4UWzVB8__#00-00-30_00-03-39_label_B4-0-0.npy\\n', 'C:\\\\Users\\\\pradh\\\\Downloads\\\\XDVioDet-master\\\\XDVioDet-master\\\\tratrain\\\\v=CFfc4UWzVB8__#00-03-39_00-05-44_label_B4-0-0.npy\\n', 'C:\\\\Users\\\\pradh\\\\Downloads\\\\XDVioDet-master\\\\XDVioDet-master\\\\tratrain\\\\v=CLFYvG6MsZU__#00-00-00_00-02-16_label_B2-0-0.npy\\n', 'C:\\\\Users\\\\pradh\\\\Downloads\\\\XDVioDet-master\\\\XDVioDet-master\\\\tratrain\\\\v=CQUviNlz7j0__#1_label_B1-0-0.npy\\n', 'C:\\\\Users\\\\pradh\\\\Downloads\\\\XDVioDet-master\\\\XDVioDet-master\\\\tratrain\\\\v=CTmDm1VO-8U__#1_label_G-0-0.npy\\n', 'C:\\\\Users\\\\pradh\\\\Downloads\\\\XDVioDet-master\\\\XDVioDet-master\\\\tratrain\\\\v=CY9gojFu-_U__#1_label_G-0-0.npy\\n', 'C:\\\\Users\\\\pradh\\\\Downloads\\\\XDVioDet-master\\\\XDVioDet-master\\\\tratrain\\\\v=CaoDCPDrQ18__#1_label_B4-0-0.npy\\n', 'C:\\\\Users\\\\pradh\\\\Downloads\\\\XDVioDet-master\\\\XDVioDet-master\\\\tratrain\\\\v=CfBsOsymicI__#1_label_B4-0-0.npy\\n', 'C:\\\\Users\\\\pradh\\\\Downloads\\\\XDVioDet-master\\\\XDVioDet-master\\\\tratrain\\\\v=CoPyMeKWX48__#1_label_G-0-0.npy\\n', 'C:\\\\Users\\\\pradh\\\\Downloads\\\\XDVioDet-master\\\\XDVioDet-master\\\\tratrain\\\\v=CoYFjryuFjs__#1_label_B4-0-0.npy\\n', 'C:\\\\Users\\\\pradh\\\\Downloads\\\\XDVioDet-master\\\\XDVioDet-master\\\\tratrain\\\\v=CoxsDkB-rWU__#00-00-00_00-01-20_label_B4-0-0.npy\\n', 'C:\\\\Users\\\\pradh\\\\Downloads\\\\XDVioDet-master\\\\XDVioDet-master\\\\tratrain\\\\v=CoxsDkB-rWU__#00-01-20_00-07-06_label_B4-0-0.npy\\n', 'C:\\\\Users\\\\pradh\\\\Downloads\\\\XDVioDet-master\\\\XDVioDet-master\\\\tratrain\\\\v=CoxsDkB-rWU__#00-10-30_00-14-50_label_B4-0-0.npy\\n', 'C:\\\\Users\\\\pradh\\\\Downloads\\\\XDVioDet-master\\\\XDVioDet-master\\\\tratrain\\\\v=CvLPZjcxvCI__#1_label_B4-0-0.npy\\n', 'C:\\\\Users\\\\pradh\\\\Downloads\\\\XDVioDet-master\\\\XDVioDet-master\\\\tratrain\\\\v=Cv_8TtGVi9A__#1_label_B6-0-0.npy\\n', 'C:\\\\Users\\\\pradh\\\\Downloads\\\\XDVioDet-master\\\\XDVioDet-master\\\\tratrain\\\\v=D1eP4Bn4hDQ__#00-01-30_00-03-05_label_B6-0-0.npy\\n', 'C:\\\\Users\\\\pradh\\\\Downloads\\\\XDVioDet-master\\\\XDVioDet-master\\\\tratrain\\\\v=D1eP4Bn4hDQ__#00-03-27_00-04-55_label_B6-0-0.npy\\n', 'C:\\\\Users\\\\pradh\\\\Downloads\\\\XDVioDet-master\\\\XDVioDet-master\\\\tratrain\\\\v=D1eP4Bn4hDQ__#00-05-00_00-06-15_label_B6-0-0.npy\\n', 'C:\\\\Users\\\\pradh\\\\Downloads\\\\XDVioDet-master\\\\XDVioDet-master\\\\tratrain\\\\v=D1eP4Bn4hDQ__#00-06-20_00-07-30_label_B6-0-0.npy\\n', 'C:\\\\Users\\\\pradh\\\\Downloads\\\\XDVioDet-master\\\\XDVioDet-master\\\\tratrain\\\\v=D1eP4Bn4hDQ__#00-07-50_00-08-55_label_B6-0-0.npy\\n', 'C:\\\\Users\\\\pradh\\\\Downloads\\\\XDVioDet-master\\\\XDVioDet-master\\\\tratrain\\\\v=D5-ASgQr5ys__#1_label_G-0-0.npy\\n', 'C:\\\\Users\\\\pradh\\\\Downloads\\\\XDVioDet-master\\\\XDVioDet-master\\\\tratrain\\\\v=D8EQPx-ptKk__#1_label_G-0-0.npy\\n', 'C:\\\\Users\\\\pradh\\\\Downloads\\\\XDVioDet-master\\\\XDVioDet-master\\\\tratrain\\\\v=D8MZwMzs9rA__#1_label_B4-0-0.npy\\n', 'C:\\\\Users\\\\pradh\\\\Downloads\\\\XDVioDet-master\\\\XDVioDet-master\\\\tratrain\\\\v=D9GCQHpZHtI__#1_label_B4-0-0.npy\\n', 'C:\\\\Users\\\\pradh\\\\Downloads\\\\XDVioDet-master\\\\XDVioDet-master\\\\tratrain\\\\v=DD3jfKr8e-k__#00-01-40_00-04-27_label_B4-0-0.npy\\n', 'C:\\\\Users\\\\pradh\\\\Downloads\\\\XDVioDet-master\\\\XDVioDet-master\\\\tratrain\\\\v=DD3jfKr8e-k__#00-04-27_00-07-08_label_B4-0-0.npy\\n', 'C:\\\\Users\\\\pradh\\\\Downloads\\\\XDVioDet-master\\\\XDVioDet-master\\\\tratrain\\\\v=DH-sUloTvG0__#1_label_B6-0-0.npy\\n', 'C:\\\\Users\\\\pradh\\\\Downloads\\\\XDVioDet-master\\\\XDVioDet-master\\\\tratrain\\\\v=DJ5o69v-oY8__#1_label_B4-0-0.npy\\n', 'C:\\\\Users\\\\pradh\\\\Downloads\\\\XDVioDet-master\\\\XDVioDet-master\\\\tratrain\\\\v=DMgzyUHc83g__#1_label_B1-0-0.npy\\n', 'C:\\\\Users\\\\pradh\\\\Downloads\\\\XDVioDet-master\\\\XDVioDet-master\\\\tratrain\\\\v=DOMwKUIvcFw__#1_label_B1-0-0.npy\\n', 'C:\\\\Users\\\\pradh\\\\Downloads\\\\XDVioDet-master\\\\XDVioDet-master\\\\tratrain\\\\v=DRGMajXo_PI__#00-00-00_00-01-15_label_G-0-0.npy\\n', 'C:\\\\Users\\\\pradh\\\\Downloads\\\\XDVioDet-master\\\\XDVioDet-master\\\\tratrain\\\\v=DRGMajXo_PI__#00-04-04_00-04-16_label_G-0-0.npy\\n', 'C:\\\\Users\\\\pradh\\\\Downloads\\\\XDVioDet-master\\\\XDVioDet-master\\\\tratrain\\\\v=DZvZckOLw6A__#1_label_G-0-0.npy\\n', 'C:\\\\Users\\\\pradh\\\\Downloads\\\\XDVioDet-master\\\\XDVioDet-master\\\\tratrain\\\\v=Dh-3BlhAOnE__#00-13-36_00-15-20_label_B4-0-0.npy\\n', 'C:\\\\Users\\\\pradh\\\\Downloads\\\\XDVioDet-master\\\\XDVioDet-master\\\\tratrain\\\\v=Dn_SDu22WpM__#00-00-00_00-00-51_label_B6-0-0.npy\\n', 'C:\\\\Users\\\\pradh\\\\Downloads\\\\XDVioDet-master\\\\XDVioDet-master\\\\tratrain\\\\v=Dn_SDu22WpM__#00-01-00_00-02-45_label_B6-0-0.npy\\n', 'C:\\\\Users\\\\pradh\\\\Downloads\\\\XDVioDet-master\\\\XDVioDet-master\\\\tratrain\\\\v=Dn_SDu22WpM__#00-03-00_00-04-09_label_B6-0-0.npy\\n', 'C:\\\\Users\\\\pradh\\\\Downloads\\\\XDVioDet-master\\\\XDVioDet-master\\\\tratrain\\\\v=Dn_SDu22WpM__#00-04-10_00-06-09_label_B6-0-0.npy\\n', 'C:\\\\Users\\\\pradh\\\\Downloads\\\\XDVioDet-master\\\\XDVioDet-master\\\\tratrain\\\\v=Dn_SDu22WpM__#00-06-10_00-07-19_label_B6-0-0.npy\\n', 'C:\\\\Users\\\\pradh\\\\Downloads\\\\XDVioDet-master\\\\XDVioDet-master\\\\tratrain\\\\v=Dn_SDu22WpM__#00-07-22_00-08-19_label_B6-0-0.npy\\n', 'C:\\\\Users\\\\pradh\\\\Downloads\\\\XDVioDet-master\\\\XDVioDet-master\\\\tratrain\\\\v=DrhRopvkCDg__#1_label_B1-0-0.npy\\n', 'C:\\\\Users\\\\pradh\\\\Downloads\\\\XDVioDet-master\\\\XDVioDet-master\\\\tratrain\\\\v=DtFtvq9Swr4__#1_label_B1-0-0.npy\\n', 'C:\\\\Users\\\\pradh\\\\Downloads\\\\XDVioDet-master\\\\XDVioDet-master\\\\tratrain\\\\v=DzwwVZRRIro__#1_label_B1-0-0.npy\\n', 'C:\\\\Users\\\\pradh\\\\Downloads\\\\XDVioDet-master\\\\XDVioDet-master\\\\tratrain\\\\v=E6JnJe8uJN8__#1_label_B6-0-0.npy\\n', 'C:\\\\Users\\\\pradh\\\\Downloads\\\\XDVioDet-master\\\\XDVioDet-master\\\\tratrain\\\\v=EOAfl8yMiN8__#00-01-00_00-02-45_label_B6-0-0.npy\\n', 'C:\\\\Users\\\\pradh\\\\Downloads\\\\XDVioDet-master\\\\XDVioDet-master\\\\tratrain\\\\v=EOAfl8yMiN8__#00-04-11_00-05-09_label_B6-0-0.npy\\n', 'C:\\\\Users\\\\pradh\\\\Downloads\\\\XDVioDet-master\\\\XDVioDet-master\\\\tratrain\\\\v=EOAfl8yMiN8__#00-05-11_00-06-35_label_B6-0-0.npy\\n', 'C:\\\\Users\\\\pradh\\\\Downloads\\\\XDVioDet-master\\\\XDVioDet-master\\\\tratrain\\\\v=EWKna2H3sLI__#1_label_G-0-0.npy\\n', 'C:\\\\Users\\\\pradh\\\\Downloads\\\\XDVioDet-master\\\\XDVioDet-master\\\\tratrain\\\\v=E_PvgoPohwY__#1_label_B1-0-0.npy\\n', 'C:\\\\Users\\\\pradh\\\\Downloads\\\\XDVioDet-master\\\\XDVioDet-master\\\\tratrain\\\\v=EkzP5Sf3x40__#1_label_B4-0-0.npy\\n', 'C:\\\\Users\\\\pradh\\\\Downloads\\\\XDVioDet-master\\\\XDVioDet-master\\\\tratrain\\\\v=F1ZSPzNiyNE__#1_label_B4-0-0.npy\\n', 'C:\\\\Users\\\\pradh\\\\Downloads\\\\XDVioDet-master\\\\XDVioDet-master\\\\tratrain\\\\v=F3weyKD1nlQ__#1_label_B4-0-0.npy\\n', 'C:\\\\Users\\\\pradh\\\\Downloads\\\\XDVioDet-master\\\\XDVioDet-master\\\\tratrain\\\\v=F5tQN7Wvqac__#1_label_B1-0-0.npy\\n', 'C:\\\\Users\\\\pradh\\\\Downloads\\\\XDVioDet-master\\\\XDVioDet-master\\\\tratrain\\\\v=F702Y4BtjbY__#1_label_B1-0-0.npy\\n', 'C:\\\\Users\\\\pradh\\\\Downloads\\\\XDVioDet-master\\\\XDVioDet-master\\\\tratrain\\\\v=FAZdUTI2xBI__#1_label_B4-0-0.npy\\n', 'C:\\\\Users\\\\pradh\\\\Downloads\\\\XDVioDet-master\\\\XDVioDet-master\\\\tratrain\\\\v=FHzT8e5kR2Y__#1_label_B1-0-0.npy\\n', 'C:\\\\Users\\\\pradh\\\\Downloads\\\\XDVioDet-master\\\\XDVioDet-master\\\\tratrain\\\\v=FMsqgy1euFM__#1_label_B4-0-0.npy\\n', 'C:\\\\Users\\\\pradh\\\\Downloads\\\\XDVioDet-master\\\\XDVioDet-master\\\\tratrain\\\\v=FRj2K0ulD8Q__#00-00-57_00-02-06_label_B4-0-0.npy\\n', 'C:\\\\Users\\\\pradh\\\\Downloads\\\\XDVioDet-master\\\\XDVioDet-master\\\\tratrain\\\\v=FRj2K0ulD8Q__#00-02-06_00-04-16_label_B4-0-0.npy\\n', 'C:\\\\Users\\\\pradh\\\\Downloads\\\\XDVioDet-master\\\\XDVioDet-master\\\\tratrain\\\\v=FdA-ojxyKLU__#1_label_B4-0-0.npy\\n', 'C:\\\\Users\\\\pradh\\\\Downloads\\\\XDVioDet-master\\\\XDVioDet-master\\\\tratrain\\\\v=FfrXebzAwOg__#00-00-00_00-00-51_label_B6-0-0.npy\\n', 'C:\\\\Users\\\\pradh\\\\Downloads\\\\XDVioDet-master\\\\XDVioDet-master\\\\tratrain\\\\v=FfrXebzAwOg__#00-01-00_00-02-45_label_B6-0-0.npy\\n', 'C:\\\\Users\\\\pradh\\\\Downloads\\\\XDVioDet-master\\\\XDVioDet-master\\\\tratrain\\\\v=FfrXebzAwOg__#00-03-00_00-04-09_label_B6-0-0.npy\\n', 'C:\\\\Users\\\\pradh\\\\Downloads\\\\XDVioDet-master\\\\XDVioDet-master\\\\tratrain\\\\v=FfrXebzAwOg__#00-04-10_00-06-09_label_B6-0-0.npy\\n', 'C:\\\\Users\\\\pradh\\\\Downloads\\\\XDVioDet-master\\\\XDVioDet-master\\\\tratrain\\\\v=FfrXebzAwOg__#00-07-22_00-08-19_label_B6-0-0.npy\\n', 'C:\\\\Users\\\\pradh\\\\Downloads\\\\XDVioDet-master\\\\XDVioDet-master\\\\tratrain\\\\v=FfrXebzAwOg__#00-08-35_00-10-22_label_B6-0-0.npy\\n', 'C:\\\\Users\\\\pradh\\\\Downloads\\\\XDVioDet-master\\\\XDVioDet-master\\\\tratrain\\\\v=FjjYlFfe0rk__#1_label_B1-0-0.npy\\n', 'C:\\\\Users\\\\pradh\\\\Downloads\\\\XDVioDet-master\\\\XDVioDet-master\\\\tratrain\\\\v=Fl1i5SNawNk__#1_label_G-0-0.npy\\n', 'C:\\\\Users\\\\pradh\\\\Downloads\\\\XDVioDet-master\\\\XDVioDet-master\\\\tratrain\\\\v=FylYRAYAyY0__#1_label_B1-0-0.npy\\n', 'C:\\\\Users\\\\pradh\\\\Downloads\\\\XDVioDet-master\\\\XDVioDet-master\\\\tratrain\\\\v=FzMOkrfv0uQ__#1_label_B4-0-0.npy\\n', 'C:\\\\Users\\\\pradh\\\\Downloads\\\\XDVioDet-master\\\\XDVioDet-master\\\\tratrain\\\\v=G5ygIuxmfmE__#1_label_B1-0-0.npy\\n', 'C:\\\\Users\\\\pradh\\\\Downloads\\\\XDVioDet-master\\\\XDVioDet-master\\\\tratrain\\\\v=G7AXkLvoEfU__#1_label_G-0-0.npy\\n', 'C:\\\\Users\\\\pradh\\\\Downloads\\\\XDVioDet-master\\\\XDVioDet-master\\\\tratrain\\\\v=GXuUI-1wGQ0__#1_label_G-0-0.npy\\n', 'C:\\\\Users\\\\pradh\\\\Downloads\\\\XDVioDet-master\\\\XDVioDet-master\\\\tratrain\\\\v=GdJtu3o2440__#1_label_B1-0-0.npy\\n', 'C:\\\\Users\\\\pradh\\\\Downloads\\\\XDVioDet-master\\\\XDVioDet-master\\\\tratrain\\\\v=GeQ5tcbDabk__#1_label_B4-0-0.npy\\n', 'C:\\\\Users\\\\pradh\\\\Downloads\\\\XDVioDet-master\\\\XDVioDet-master\\\\tratrain\\\\v=GjBI4hyO2-8__#1_label_G-0-0.npy\\n', 'C:\\\\Users\\\\pradh\\\\Downloads\\\\XDVioDet-master\\\\XDVioDet-master\\\\tratrain\\\\v=GkZottYDpEE__#1_label_G-0-0.npy\\n', 'C:\\\\Users\\\\pradh\\\\Downloads\\\\XDVioDet-master\\\\XDVioDet-master\\\\tratrain\\\\v=Gm73TwtUyGY__#1_label_G-0-0.npy\\n', 'C:\\\\Users\\\\pradh\\\\Downloads\\\\XDVioDet-master\\\\XDVioDet-master\\\\tratrain\\\\v=GmN002rn6qY__#1_label_B4-0-0.npy\\n', 'C:\\\\Users\\\\pradh\\\\Downloads\\\\XDVioDet-master\\\\XDVioDet-master\\\\tratrain\\\\v=GmOLGb8qgag__#1_label_G-0-0.npy\\n', 'C:\\\\Users\\\\pradh\\\\Downloads\\\\XDVioDet-master\\\\XDVioDet-master\\\\tratrain\\\\v=GqMh_HBNWZE__#00-00-00_00-00-51_label_B6-0-0.npy\\n', 'C:\\\\Users\\\\pradh\\\\Downloads\\\\XDVioDet-master\\\\XDVioDet-master\\\\tratrain\\\\v=GqMh_HBNWZE__#00-04-10_00-06-09_label_B6-0-0.npy\\n', 'C:\\\\Users\\\\pradh\\\\Downloads\\\\XDVioDet-master\\\\XDVioDet-master\\\\tratrain\\\\v=GqMh_HBNWZE__#00-06-10_00-07-19_label_B6-0-0.npy\\n', 'C:\\\\Users\\\\pradh\\\\Downloads\\\\XDVioDet-master\\\\XDVioDet-master\\\\tratrain\\\\v=GqMh_HBNWZE__#00-08-35_00-10-25_label_B6-0-0.npy\\n', 'C:\\\\Users\\\\pradh\\\\Downloads\\\\XDVioDet-master\\\\XDVioDet-master\\\\tratrain\\\\v=H5W58Loofks__#00-01-40_00-02-45_label_B6-0-0.npy\\n', 'C:\\\\Users\\\\pradh\\\\Downloads\\\\XDVioDet-master\\\\XDVioDet-master\\\\tratrain\\\\v=H5W58Loofks__#00-03-00_00-03-50_label_B6-0-0.npy\\n', 'C:\\\\Users\\\\pradh\\\\Downloads\\\\XDVioDet-master\\\\XDVioDet-master\\\\tratrain\\\\v=H9Hta84rfGw__#1_label_B4-0-0.npy\\n', 'C:\\\\Users\\\\pradh\\\\Downloads\\\\XDVioDet-master\\\\XDVioDet-master\\\\tratrain\\\\v=HD16dEAXvZY__#1_label_G-0-0.npy\\n', 'C:\\\\Users\\\\pradh\\\\Downloads\\\\XDVioDet-master\\\\XDVioDet-master\\\\tratrain\\\\v=HECMVdl-9SQ__#1_label_B4-0-0.npy\\n', 'C:\\\\Users\\\\pradh\\\\Downloads\\\\XDVioDet-master\\\\XDVioDet-master\\\\tratrain\\\\v=HFDTrWLsGEE__#1_label_B4-0-0.npy\\n', 'C:\\\\Users\\\\pradh\\\\Downloads\\\\XDVioDet-master\\\\XDVioDet-master\\\\tratrain\\\\v=HNh3XuCFowA__#1_label_B2-G-0.npy\\n', 'C:\\\\Users\\\\pradh\\\\Downloads\\\\XDVioDet-master\\\\XDVioDet-master\\\\tratrain\\\\v=HSisjzLESak__#00-04-10_00-05-12_label_B6-0-0.npy\\n', 'C:\\\\Users\\\\pradh\\\\Downloads\\\\XDVioDet-master\\\\XDVioDet-master\\\\tratrain\\\\v=HSisjzLESak__#00-05-20_00-06-20_label_B6-0-0.npy\\n', 'C:\\\\Users\\\\pradh\\\\Downloads\\\\XDVioDet-master\\\\XDVioDet-master\\\\tratrain\\\\v=HSisjzLESak__#00-06-30_00-07-20_label_B6-0-0.npy\\n', 'C:\\\\Users\\\\pradh\\\\Downloads\\\\XDVioDet-master\\\\XDVioDet-master\\\\tratrain\\\\v=HSisjzLESak__#00-09-00_00-10-25_label_B6-0-0.npy\\n', 'C:\\\\Users\\\\pradh\\\\Downloads\\\\XDVioDet-master\\\\XDVioDet-master\\\\tratrain\\\\v=HZ-YZ1CSfGY__#1_label_G-0-0.npy\\n', 'C:\\\\Users\\\\pradh\\\\Downloads\\\\XDVioDet-master\\\\XDVioDet-master\\\\tratrain\\\\v=HkxSLJKE2cY__#1_label_B4-0-0.npy\\n', 'C:\\\\Users\\\\pradh\\\\Downloads\\\\XDVioDet-master\\\\XDVioDet-master\\\\tratrain\\\\v=Ho0fc0ENAHk__#1_label_B1-0-0.npy\\n', 'C:\\\\Users\\\\pradh\\\\Downloads\\\\XDVioDet-master\\\\XDVioDet-master\\\\tratrain\\\\v=Hp0vQBwmaX0__#1_label_B6-0-0.npy\\n', 'C:\\\\Users\\\\pradh\\\\Downloads\\\\XDVioDet-master\\\\XDVioDet-master\\\\tratrain\\\\v=HvKP87256WI__#1_label_B4-0-0.npy\\n', 'C:\\\\Users\\\\pradh\\\\Downloads\\\\XDVioDet-master\\\\XDVioDet-master\\\\tratrain\\\\v=I-h-YIj4jRw__#1_label_B4-0-0.npy\\n', 'C:\\\\Users\\\\pradh\\\\Downloads\\\\XDVioDet-master\\\\XDVioDet-master\\\\tratrain\\\\v=I6L7CBhVvaY__#1_label_B4-0-0.npy\\n', 'C:\\\\Users\\\\pradh\\\\Downloads\\\\XDVioDet-master\\\\XDVioDet-master\\\\tratrain\\\\v=I6lFieHFSgw__#1_label_B1-0-0.npy\\n', 'C:\\\\Users\\\\pradh\\\\Downloads\\\\XDVioDet-master\\\\XDVioDet-master\\\\tratrain\\\\v=I9wujEB6x2o__#1_label_B1-0-0.npy\\n', 'C:\\\\Users\\\\pradh\\\\Downloads\\\\XDVioDet-master\\\\XDVioDet-master\\\\tratrain\\\\v=IBpgMD1Kls0__#1_label_B4-0-0.npy\\n', 'C:\\\\Users\\\\pradh\\\\Downloads\\\\XDVioDet-master\\\\XDVioDet-master\\\\tratrain\\\\v=IDiqhkK_ucw__#1_label_B4-0-0.npy\\n', 'C:\\\\Users\\\\pradh\\\\Downloads\\\\XDVioDet-master\\\\XDVioDet-master\\\\tratrain\\\\v=IEedFByrk40__#1_label_B1-0-0.npy\\n', 'C:\\\\Users\\\\pradh\\\\Downloads\\\\XDVioDet-master\\\\XDVioDet-master\\\\tratrain\\\\v=IMvuoGji3yU__#1_label_B4-0-0.npy\\n', 'C:\\\\Users\\\\pradh\\\\Downloads\\\\XDVioDet-master\\\\XDVioDet-master\\\\tratrain\\\\v=IUYaSgwdC0g__#1_label_B4-0-0.npy\\n', 'C:\\\\Users\\\\pradh\\\\Downloads\\\\XDVioDet-master\\\\XDVioDet-master\\\\tratrain\\\\v=Ia9ATKNeUbY__#00-00-00_00-01-51_label_B6-0-0.npy\\n', 'C:\\\\Users\\\\pradh\\\\Downloads\\\\XDVioDet-master\\\\XDVioDet-master\\\\tratrain\\\\v=Ia9ATKNeUbY__#00-03-12_00-04-15_label_B6-0-0.npy\\n', 'C:\\\\Users\\\\pradh\\\\Downloads\\\\XDVioDet-master\\\\XDVioDet-master\\\\tratrain\\\\v=Iaon8hM2UbM__#00-00-00_00-30-06_label_B4-0-0.npy\\n', 'C:\\\\Users\\\\pradh\\\\Downloads\\\\XDVioDet-master\\\\XDVioDet-master\\\\tratrain\\\\v=IhU6jml6NY4__#1_label_G-0-0.npy\\n', 'C:\\\\Users\\\\pradh\\\\Downloads\\\\XDVioDet-master\\\\XDVioDet-master\\\\tratrain\\\\v=IrVD7eoWfWY__#1_label_G-0-0.npy\\n', 'C:\\\\Users\\\\pradh\\\\Downloads\\\\XDVioDet-master\\\\XDVioDet-master\\\\tratrain\\\\v=IyoOPo4NVUI__#1_label_G-0-0.npy\\n', 'C:\\\\Users\\\\pradh\\\\Downloads\\\\XDVioDet-master\\\\XDVioDet-master\\\\tratrain\\\\v=J4qmLs5S1Wg__#1_label_B4-0-0.npy\\n', 'C:\\\\Users\\\\pradh\\\\Downloads\\\\XDVioDet-master\\\\XDVioDet-master\\\\tratrain\\\\v=J9HSUXaCjBU__#1_label_B1-0-0.npy\\n', 'C:\\\\Users\\\\pradh\\\\Downloads\\\\XDVioDet-master\\\\XDVioDet-master\\\\tratrain\\\\v=JICOcHmkzfA__#1_label_B4-0-0.npy\\n', 'C:\\\\Users\\\\pradh\\\\Downloads\\\\XDVioDet-master\\\\XDVioDet-master\\\\tratrain\\\\v=JSD-dBpNfjw__#1_label_B4-0-0.npy\\n', 'C:\\\\Users\\\\pradh\\\\Downloads\\\\XDVioDet-master\\\\XDVioDet-master\\\\tratrain\\\\v=JTVUA-jJ11I__#1_label_G-0-0.npy\\n', 'C:\\\\Users\\\\pradh\\\\Downloads\\\\XDVioDet-master\\\\XDVioDet-master\\\\tratrain\\\\v=JXDcm8YXvds__#1_label_B4-0-0.npy\\n', 'C:\\\\Users\\\\pradh\\\\Downloads\\\\XDVioDet-master\\\\XDVioDet-master\\\\tratrain\\\\v=Jbyb1iAeikA__#1_label_B6-0-0.npy\\n', 'C:\\\\Users\\\\pradh\\\\Downloads\\\\XDVioDet-master\\\\XDVioDet-master\\\\tratrain\\\\v=JhXVvZ2FMRE__#1_label_B1-0-0.npy\\n', 'C:\\\\Users\\\\pradh\\\\Downloads\\\\XDVioDet-master\\\\XDVioDet-master\\\\tratrain\\\\v=JmyqqQt19oE__#1_label_B4-0-0.npy\\n', 'C:\\\\Users\\\\pradh\\\\Downloads\\\\XDVioDet-master\\\\XDVioDet-master\\\\tratrain\\\\v=JqQWV5TLRg8__#1_label_G-0-0.npy\\n', 'C:\\\\Users\\\\pradh\\\\Downloads\\\\XDVioDet-master\\\\XDVioDet-master\\\\tratrain\\\\v=JwiFgzcz0GE__#1_label_B4-0-0.npy\\n', 'C:\\\\Users\\\\pradh\\\\Downloads\\\\XDVioDet-master\\\\XDVioDet-master\\\\tratrain\\\\v=K2ey8AKU6rk__#1_label_B4-0-0.npy\\n', 'C:\\\\Users\\\\pradh\\\\Downloads\\\\XDVioDet-master\\\\XDVioDet-master\\\\tratrain\\\\v=K4XvpPwAN4A__#1_label_G-0-0.npy\\n', 'C:\\\\Users\\\\pradh\\\\Downloads\\\\XDVioDet-master\\\\XDVioDet-master\\\\tratrain\\\\v=K5ls-rAcaHs__#00-01-50_00-03-17_label_G-0-0.npy\\n', 'C:\\\\Users\\\\pradh\\\\Downloads\\\\XDVioDet-master\\\\XDVioDet-master\\\\tratrain\\\\v=K5ls-rAcaHs__#00-03-17_00-06-08_label_G-0-0.npy\\n', 'C:\\\\Users\\\\pradh\\\\Downloads\\\\XDVioDet-master\\\\XDVioDet-master\\\\tratrain\\\\v=KAl91XyYVp0__#1_label_G-0-0.npy\\n', 'C:\\\\Users\\\\pradh\\\\Downloads\\\\XDVioDet-master\\\\XDVioDet-master\\\\tratrain\\\\v=KC7zdZ00eZ4__#1_label_G-0-0.npy\\n', 'C:\\\\Users\\\\pradh\\\\Downloads\\\\XDVioDet-master\\\\XDVioDet-master\\\\tratrain\\\\v=KEHqR6Y0opE__#1_label_B4-0-0.npy\\n', 'C:\\\\Users\\\\pradh\\\\Downloads\\\\XDVioDet-master\\\\XDVioDet-master\\\\tratrain\\\\v=KG1SyO8GXCU__#1_label_B4-0-0.npy\\n', 'C:\\\\Users\\\\pradh\\\\Downloads\\\\XDVioDet-master\\\\XDVioDet-master\\\\tratrain\\\\v=KMidGHu1vMA__#1_label_B1-0-0.npy\\n', 'C:\\\\Users\\\\pradh\\\\Downloads\\\\XDVioDet-master\\\\XDVioDet-master\\\\tratrain\\\\v=KTx-EjoAAMw__#1_label_B4-0-0.npy\\n', 'C:\\\\Users\\\\pradh\\\\Downloads\\\\XDVioDet-master\\\\XDVioDet-master\\\\tratrain\\\\v=KUiVz3rW_Rg__#1_label_B4-0-0.npy\\n', 'C:\\\\Users\\\\pradh\\\\Downloads\\\\XDVioDet-master\\\\XDVioDet-master\\\\tratrain\\\\v=KeJw6U9_VeY__#1_label_B4-0-0.npy\\n', 'C:\\\\Users\\\\pradh\\\\Downloads\\\\XDVioDet-master\\\\XDVioDet-master\\\\tratrain\\\\v=KkeBFSNtw1M__#1_label_B4-0-0.npy\\n', 'C:\\\\Users\\\\pradh\\\\Downloads\\\\XDVioDet-master\\\\XDVioDet-master\\\\tratrain\\\\v=KksmTloMKuQ__#00-00-00_00-03-06_label_B2-G-0.npy\\n', 'C:\\\\Users\\\\pradh\\\\Downloads\\\\XDVioDet-master\\\\XDVioDet-master\\\\tratrain\\\\v=KmmZjp2-qTw__#1_label_G-0-0.npy\\n', 'C:\\\\Users\\\\pradh\\\\Downloads\\\\XDVioDet-master\\\\XDVioDet-master\\\\tratrain\\\\v=KsjzuLCuV9U__#1_label_B4-0-0.npy\\n', 'C:\\\\Users\\\\pradh\\\\Downloads\\\\XDVioDet-master\\\\XDVioDet-master\\\\tratrain\\\\v=KwJRY2W4GbI__#1_label_B1-0-0.npy\\n', 'C:\\\\Users\\\\pradh\\\\Downloads\\\\XDVioDet-master\\\\XDVioDet-master\\\\tratrain\\\\v=Kwn80uxd6u0__#1_label_G-0-0.npy\\n', 'C:\\\\Users\\\\pradh\\\\Downloads\\\\XDVioDet-master\\\\XDVioDet-master\\\\tratrain\\\\v=L1ir_7vgdKg__#1_label_B4-0-0.npy\\n', 'C:\\\\Users\\\\pradh\\\\Downloads\\\\XDVioDet-master\\\\XDVioDet-master\\\\tratrain\\\\v=L8Oi7KQzoQk__#1_label_G-0-0.npy\\n', 'C:\\\\Users\\\\pradh\\\\Downloads\\\\XDVioDet-master\\\\XDVioDet-master\\\\tratrain\\\\v=L8_GRdxOP8k__#1_label_B1-0-0.npy\\n', 'C:\\\\Users\\\\pradh\\\\Downloads\\\\XDVioDet-master\\\\XDVioDet-master\\\\tratrain\\\\v=L94knHdVxbo__#1_label_B4-0-0.npy\\n', 'C:\\\\Users\\\\pradh\\\\Downloads\\\\XDVioDet-master\\\\XDVioDet-master\\\\tratrain\\\\v=L9TBNCutfWw__#1_label_B1-0-0.npy\\n', 'C:\\\\Users\\\\pradh\\\\Downloads\\\\XDVioDet-master\\\\XDVioDet-master\\\\tratrain\\\\v=LLCUqRKnjeY__#00-01-00_00-02-45_label_B6-0-0.npy\\n', 'C:\\\\Users\\\\pradh\\\\Downloads\\\\XDVioDet-master\\\\XDVioDet-master\\\\tratrain\\\\v=LLCUqRKnjeY__#00-03-00_00-04-09_label_B6-0-0.npy\\n', 'C:\\\\Users\\\\pradh\\\\Downloads\\\\XDVioDet-master\\\\XDVioDet-master\\\\tratrain\\\\v=LLCUqRKnjeY__#00-04-10_00-05-12_label_B6-0-0.npy\\n', 'C:\\\\Users\\\\pradh\\\\Downloads\\\\XDVioDet-master\\\\XDVioDet-master\\\\tratrain\\\\v=LLCUqRKnjeY__#00-05-20_00-06-51_label_B6-0-0.npy\\n', 'C:\\\\Users\\\\pradh\\\\Downloads\\\\XDVioDet-master\\\\XDVioDet-master\\\\tratrain\\\\v=LLCUqRKnjeY__#00-07-00_00-08-45_label_B6-0-0.npy\\n', 'C:\\\\Users\\\\pradh\\\\Downloads\\\\XDVioDet-master\\\\XDVioDet-master\\\\tratrain\\\\v=LOBnTy6A8QI__#1_label_B6-0-0.npy\\n', 'C:\\\\Users\\\\pradh\\\\Downloads\\\\XDVioDet-master\\\\XDVioDet-master\\\\tratrain\\\\v=LZAehXzjG0w__#1_label_B1-0-0.npy\\n', 'C:\\\\Users\\\\pradh\\\\Downloads\\\\XDVioDet-master\\\\XDVioDet-master\\\\tratrain\\\\v=LaMCiz8Ut_o__#1_label_B6-0-0.npy\\n', 'C:\\\\Users\\\\pradh\\\\Downloads\\\\XDVioDet-master\\\\XDVioDet-master\\\\tratrain\\\\v=LkkoipoWeSs__#00-00-00_00-02-57_label_B4-0-0.npy\\n', 'C:\\\\Users\\\\pradh\\\\Downloads\\\\XDVioDet-master\\\\XDVioDet-master\\\\tratrain\\\\v=LkkoipoWeSs__#00-02-57_00-05-06_label_B4-0-0.npy\\n', 'C:\\\\Users\\\\pradh\\\\Downloads\\\\XDVioDet-master\\\\XDVioDet-master\\\\tratrain\\\\v=LkkoipoWeSs__#00-05-06_00-08-16_label_B4-0-0.npy\\n', 'C:\\\\Users\\\\pradh\\\\Downloads\\\\XDVioDet-master\\\\XDVioDet-master\\\\tratrain\\\\v=LkkoipoWeSs__#00-08-16_00-13-14_label_B4-0-0.npy\\n', 'C:\\\\Users\\\\pradh\\\\Downloads\\\\XDVioDet-master\\\\XDVioDet-master\\\\tratrain\\\\v=LxWWnIuUaMY__#1_label_B4-0-0.npy\\n', 'C:\\\\Users\\\\pradh\\\\Downloads\\\\XDVioDet-master\\\\XDVioDet-master\\\\tratrain\\\\v=LziqBwWXi9A__#1_label_B1-0-0.npy\\n', 'C:\\\\Users\\\\pradh\\\\Downloads\\\\XDVioDet-master\\\\XDVioDet-master\\\\tratrain\\\\v=MLgIdp6qTKI__#1_label_B6-0-0.npy\\n', 'C:\\\\Users\\\\pradh\\\\Downloads\\\\XDVioDet-master\\\\XDVioDet-master\\\\tratrain\\\\v=MX_UU8fOYPo__#1_label_B1-0-0.npy\\n', 'C:\\\\Users\\\\pradh\\\\Downloads\\\\XDVioDet-master\\\\XDVioDet-master\\\\tratrain\\\\v=MeDcqvFz3l4__#1_label_B4-0-0.npy\\n', 'C:\\\\Users\\\\pradh\\\\Downloads\\\\XDVioDet-master\\\\XDVioDet-master\\\\tratrain\\\\v=MfgGJY_eZ4Q__#00-00-00_00-00-57_label_B4-0-0.npy\\n', 'C:\\\\Users\\\\pradh\\\\Downloads\\\\XDVioDet-master\\\\XDVioDet-master\\\\tratrain\\\\v=MfgGJY_eZ4Q__#00-00-57_00-08-06_label_B4-0-0.npy\\n', 'C:\\\\Users\\\\pradh\\\\Downloads\\\\XDVioDet-master\\\\XDVioDet-master\\\\tratrain\\\\v=MhBbF4A_gBI__#1_label_G-0-0.npy\\n', 'C:\\\\Users\\\\pradh\\\\Downloads\\\\XDVioDet-master\\\\XDVioDet-master\\\\tratrain\\\\v=MmudJafnQh0__#1_label_B4-0-0.npy\\n', 'C:\\\\Users\\\\pradh\\\\Downloads\\\\XDVioDet-master\\\\XDVioDet-master\\\\tratrain\\\\v=MoR9-BcV_0c__#1_label_B4-0-0.npy\\n', 'C:\\\\Users\\\\pradh\\\\Downloads\\\\XDVioDet-master\\\\XDVioDet-master\\\\tratrain\\\\v=Mqr21vlZ7JM__#1_label_G-0-0.npy\\n', 'C:\\\\Users\\\\pradh\\\\Downloads\\\\XDVioDet-master\\\\XDVioDet-master\\\\tratrain\\\\v=Mwg5VK3ILxE__#1_label_B4-0-0.npy\\n', 'C:\\\\Users\\\\pradh\\\\Downloads\\\\XDVioDet-master\\\\XDVioDet-master\\\\tratrain\\\\v=NCWunnJXdm0__#00-02-06_00-03-33_label_G-0-0.npy\\n', 'C:\\\\Users\\\\pradh\\\\Downloads\\\\XDVioDet-master\\\\XDVioDet-master\\\\tratrain\\\\v=NKJvcVM6jvE__#1_label_G-0-0.npy\\n', 'C:\\\\Users\\\\pradh\\\\Downloads\\\\XDVioDet-master\\\\XDVioDet-master\\\\tratrain\\\\v=NLhjNzQHphQ__#1_label_G-0-0.npy\\n', 'C:\\\\Users\\\\pradh\\\\Downloads\\\\XDVioDet-master\\\\XDVioDet-master\\\\tratrain\\\\v=NN05jCosAe8__#1_label_G-0-0.npy\\n', 'C:\\\\Users\\\\pradh\\\\Downloads\\\\XDVioDet-master\\\\XDVioDet-master\\\\tratrain\\\\v=NQb1-SIjeXI__#1_label_B4-0-0.npy\\n', 'C:\\\\Users\\\\pradh\\\\Downloads\\\\XDVioDet-master\\\\XDVioDet-master\\\\tratrain\\\\v=NYnAnri6KTs__#1_label_B4-0-0.npy\\n', 'C:\\\\Users\\\\pradh\\\\Downloads\\\\XDVioDet-master\\\\XDVioDet-master\\\\tratrain\\\\v=NaaHx2doD94__#1_label_B4-0-0.npy\\n', 'C:\\\\Users\\\\pradh\\\\Downloads\\\\XDVioDet-master\\\\XDVioDet-master\\\\tratrain\\\\v=NwAfJV59e6Y__#1_label_G-0-0.npy\\n', 'C:\\\\Users\\\\pradh\\\\Downloads\\\\XDVioDet-master\\\\XDVioDet-master\\\\tratrain\\\\v=O7oKpUpOGKs__#1_label_B4-0-0.npy\\n', 'C:\\\\Users\\\\pradh\\\\Downloads\\\\XDVioDet-master\\\\XDVioDet-master\\\\tratrain\\\\v=O91_XrxjdXo__#1_label_B6-0-0.npy\\n', 'C:\\\\Users\\\\pradh\\\\Downloads\\\\XDVioDet-master\\\\XDVioDet-master\\\\tratrain\\\\v=OTH4Fkt2PKo__#1_label_G-0-0.npy\\n', 'C:\\\\Users\\\\pradh\\\\Downloads\\\\XDVioDet-master\\\\XDVioDet-master\\\\tratrain\\\\v=OU0dIK5EJYI__#1_label_G-0-0.npy\\n', 'C:\\\\Users\\\\pradh\\\\Downloads\\\\XDVioDet-master\\\\XDVioDet-master\\\\tratrain\\\\v=OVtfIMhGrGM__#1_label_G-0-0.npy\\n', 'C:\\\\Users\\\\pradh\\\\Downloads\\\\XDVioDet-master\\\\XDVioDet-master\\\\tratrain\\\\v=OgRZxfWPC60__#1_label_B1-0-0.npy\\n', 'C:\\\\Users\\\\pradh\\\\Downloads\\\\XDVioDet-master\\\\XDVioDet-master\\\\tratrain\\\\v=OhdofhZGN4Q__#1_label_B4-0-0.npy\\n', 'C:\\\\Users\\\\pradh\\\\Downloads\\\\XDVioDet-master\\\\XDVioDet-master\\\\tratrain\\\\v=OjUzOiOzUa0__#00-00-00_00-01-37_label_B6-0-0.npy\\n', 'C:\\\\Users\\\\pradh\\\\Downloads\\\\XDVioDet-master\\\\XDVioDet-master\\\\tratrain\\\\v=OjUzOiOzUa0__#00-02-30_00-03-44_label_B6-0-0.npy\\n', 'C:\\\\Users\\\\pradh\\\\Downloads\\\\XDVioDet-master\\\\XDVioDet-master\\\\tratrain\\\\v=OjUzOiOzUa0__#00-04-10_00-05-19_label_B6-0-0.npy\\n', 'C:\\\\Users\\\\pradh\\\\Downloads\\\\XDVioDet-master\\\\XDVioDet-master\\\\tratrain\\\\v=OjUzOiOzUa0__#00-05-20_00-06-45_label_B6-0-0.npy\\n', 'C:\\\\Users\\\\pradh\\\\Downloads\\\\XDVioDet-master\\\\XDVioDet-master\\\\tratrain\\\\v=OjUzOiOzUa0__#00-06-46_00-08-19_label_B6-0-0.npy\\n', 'C:\\\\Users\\\\pradh\\\\Downloads\\\\XDVioDet-master\\\\XDVioDet-master\\\\tratrain\\\\v=OjUzOiOzUa0__#00-08-40_00-10-16_label_B6-0-0.npy\\n', 'C:\\\\Users\\\\pradh\\\\Downloads\\\\XDVioDet-master\\\\XDVioDet-master\\\\tratrain\\\\v=Otx9o1gfMRs__#1_label_B4-0-0.npy\\n', 'C:\\\\Users\\\\pradh\\\\Downloads\\\\XDVioDet-master\\\\XDVioDet-master\\\\tratrain\\\\v=P9FLQxMYiI4__#1_label_B4-0-0.npy\\n', 'C:\\\\Users\\\\pradh\\\\Downloads\\\\XDVioDet-master\\\\XDVioDet-master\\\\tratrain\\\\v=PDmtsYaAOr8__#1_label_B1-0-0.npy\\n', 'C:\\\\Users\\\\pradh\\\\Downloads\\\\XDVioDet-master\\\\XDVioDet-master\\\\tratrain\\\\v=PF_7SkKbQ6A__#1_label_B4-0-0.npy\\n', 'C:\\\\Users\\\\pradh\\\\Downloads\\\\XDVioDet-master\\\\XDVioDet-master\\\\tratrain\\\\v=PHgxRABwgfA__#1_label_B4-B5-B1.npy\\n', 'C:\\\\Users\\\\pradh\\\\Downloads\\\\XDVioDet-master\\\\XDVioDet-master\\\\tratrain\\\\v=PQnFFCyJ3Eo__#00-00-00_00-08-57_label_B4-0-0.npy\\n', 'C:\\\\Users\\\\pradh\\\\Downloads\\\\XDVioDet-master\\\\XDVioDet-master\\\\tratrain\\\\v=PQnFFCyJ3Eo__#00-08-57_00-12-13_label_B4-0-0.npy\\n', 'C:\\\\Users\\\\pradh\\\\Downloads\\\\XDVioDet-master\\\\XDVioDet-master\\\\tratrain\\\\v=PQnFFCyJ3Eo__#00-12-13_00-16-48_label_B4-0-0.npy\\n', 'C:\\\\Users\\\\pradh\\\\Downloads\\\\XDVioDet-master\\\\XDVioDet-master\\\\tratrain\\\\v=PRKcPZt61SQ__#1_label_B4-0-0.npy\\n', 'C:\\\\Users\\\\pradh\\\\Downloads\\\\XDVioDet-master\\\\XDVioDet-master\\\\tratrain\\\\v=PS1YAX70edc__#1_label_G-0-0.npy\\n', 'C:\\\\Users\\\\pradh\\\\Downloads\\\\XDVioDet-master\\\\XDVioDet-master\\\\tratrain\\\\v=PejV3Qticq0__#1_label_B4-0-0.npy\\n', 'C:\\\\Users\\\\pradh\\\\Downloads\\\\XDVioDet-master\\\\XDVioDet-master\\\\tratrain\\\\v=PvdphFs3XDQ__#1_label_B1-0-0.npy\\n', 'C:\\\\Users\\\\pradh\\\\Downloads\\\\XDVioDet-master\\\\XDVioDet-master\\\\tratrain\\\\v=Q6hQgeRXGbs__#1_label_G-0-0.npy\\n', 'C:\\\\Users\\\\pradh\\\\Downloads\\\\XDVioDet-master\\\\XDVioDet-master\\\\tratrain\\\\v=QAVRvxar5sE__#1_label_G-0-0.npy\\n', 'C:\\\\Users\\\\pradh\\\\Downloads\\\\XDVioDet-master\\\\XDVioDet-master\\\\tratrain\\\\v=QVDtmAb68KM__#00-00-00_00-02-20_label_B4-0-0.npy\\n', 'C:\\\\Users\\\\pradh\\\\Downloads\\\\XDVioDet-master\\\\XDVioDet-master\\\\tratrain\\\\v=QVDtmAb68KM__#00-02-20_00-04-40_label_B4-0-0.npy\\n', 'C:\\\\Users\\\\pradh\\\\Downloads\\\\XDVioDet-master\\\\XDVioDet-master\\\\tratrain\\\\v=Q_lCVGhlexs__#1_label_B6-0-0.npy\\n', 'C:\\\\Users\\\\pradh\\\\Downloads\\\\XDVioDet-master\\\\XDVioDet-master\\\\tratrain\\\\v=Qa9rNcwsyvw__#1_label_B4-0-0.npy\\n', 'C:\\\\Users\\\\pradh\\\\Downloads\\\\XDVioDet-master\\\\XDVioDet-master\\\\tratrain\\\\v=QaweJUx8pA4__#1_label_B4-0-0.npy\\n', 'C:\\\\Users\\\\pradh\\\\Downloads\\\\XDVioDet-master\\\\XDVioDet-master\\\\tratrain\\\\v=Qcn8G205ZhU__#1_label_B4-0-0.npy\\n', 'C:\\\\Users\\\\pradh\\\\Downloads\\\\XDVioDet-master\\\\XDVioDet-master\\\\tratrain\\\\v=QfN7ZMkjpWc__#1_label_B1-0-0.npy\\n', 'C:\\\\Users\\\\pradh\\\\Downloads\\\\XDVioDet-master\\\\XDVioDet-master\\\\tratrain\\\\v=Qm7RfXa7yJk__#1_label_B4-0-0.npy\\n', 'C:\\\\Users\\\\pradh\\\\Downloads\\\\XDVioDet-master\\\\XDVioDet-master\\\\tratrain\\\\v=RLFxf8slXMw__#1_label_B4-0-0.npy\\n', 'C:\\\\Users\\\\pradh\\\\Downloads\\\\XDVioDet-master\\\\XDVioDet-master\\\\tratrain\\\\v=RUYX8Mpi-Zs__#1_label_G-0-0.npy\\n', 'C:\\\\Users\\\\pradh\\\\Downloads\\\\XDVioDet-master\\\\XDVioDet-master\\\\tratrain\\\\v=RrGPdJr9Xas__#1_label_B1-0-0.npy\\n', 'C:\\\\Users\\\\pradh\\\\Downloads\\\\XDVioDet-master\\\\XDVioDet-master\\\\tratrain\\\\v=Ru4V3dPJGYw__#1_label_B4-0-0.npy\\n', 'C:\\\\Users\\\\pradh\\\\Downloads\\\\XDVioDet-master\\\\XDVioDet-master\\\\tratrain\\\\v=Rve00ZElOO8__#1_label_B1-0-0.npy\\n', 'C:\\\\Users\\\\pradh\\\\Downloads\\\\XDVioDet-master\\\\XDVioDet-master\\\\tratrain\\\\v=S5NWcdq4Wf4__#00-00-00_00-01-27_label_B6-0-0.npy\\n', 'C:\\\\Users\\\\pradh\\\\Downloads\\\\XDVioDet-master\\\\XDVioDet-master\\\\tratrain\\\\v=S9d1w1ILGlQ__#1_label_B1-0-0.npy\\n', 'C:\\\\Users\\\\pradh\\\\Downloads\\\\XDVioDet-master\\\\XDVioDet-master\\\\tratrain\\\\v=SE5fxK7SasU__#00-02-51_00-03-21_label_B1-0-0.npy\\n', 'C:\\\\Users\\\\pradh\\\\Downloads\\\\XDVioDet-master\\\\XDVioDet-master\\\\tratrain\\\\v=SE5fxK7SasU__#00-04-28_00-04-55_label_B1-0-0.npy\\n', 'C:\\\\Users\\\\pradh\\\\Downloads\\\\XDVioDet-master\\\\XDVioDet-master\\\\tratrain\\\\v=SE5fxK7SasU__#00-05-55_00-07-24_label_B1-0-0.npy\\n', 'C:\\\\Users\\\\pradh\\\\Downloads\\\\XDVioDet-master\\\\XDVioDet-master\\\\tratrain\\\\v=SE5fxK7SasU__#00-07-44_00-08-28_label_B1-0-0.npy\\n', 'C:\\\\Users\\\\pradh\\\\Downloads\\\\XDVioDet-master\\\\XDVioDet-master\\\\tratrain\\\\v=SKv-FNBtPfg__#1_label_B4-0-0.npy\\n', 'C:\\\\Users\\\\pradh\\\\Downloads\\\\XDVioDet-master\\\\XDVioDet-master\\\\tratrain\\\\v=SMy2_qNO2Y0__#00-03-13_00-07-07_label_G-0-0.npy\\n', 'C:\\\\Users\\\\pradh\\\\Downloads\\\\XDVioDet-master\\\\XDVioDet-master\\\\tratrain\\\\v=SNdbq7_2MXg__#1_label_B1-0-0.npy\\n', 'C:\\\\Users\\\\pradh\\\\Downloads\\\\XDVioDet-master\\\\XDVioDet-master\\\\tratrain\\\\v=SV9sXnxAbtg__#1_label_G-0-0.npy\\n', 'C:\\\\Users\\\\pradh\\\\Downloads\\\\XDVioDet-master\\\\XDVioDet-master\\\\tratrain\\\\v=ShKAo-vLe1E__#1_label_B4-0-0.npy\\n', 'C:\\\\Users\\\\pradh\\\\Downloads\\\\XDVioDet-master\\\\XDVioDet-master\\\\tratrain\\\\v=SoeVxTvE91Q__#1_label_B4-0-0.npy\\n', 'C:\\\\Users\\\\pradh\\\\Downloads\\\\XDVioDet-master\\\\XDVioDet-master\\\\tratrain\\\\v=StmzbQdWVoQ__#1_label_G-0-0.npy\\n', 'C:\\\\Users\\\\pradh\\\\Downloads\\\\XDVioDet-master\\\\XDVioDet-master\\\\tratrain\\\\v=SvmJ5ZAUz1Y__#1_label_B4-0-0.npy\\n', 'C:\\\\Users\\\\pradh\\\\Downloads\\\\XDVioDet-master\\\\XDVioDet-master\\\\tratrain\\\\v=T-3s49dfFzQ__#1_label_B4-0-0.npy\\n', 'C:\\\\Users\\\\pradh\\\\Downloads\\\\XDVioDet-master\\\\XDVioDet-master\\\\tratrain\\\\v=TBGDuYdK_yA__#1_label_B6-0-0.npy\\n', 'C:\\\\Users\\\\pradh\\\\Downloads\\\\XDVioDet-master\\\\XDVioDet-master\\\\tratrain\\\\v=TGNA71NGR8U__#1_label_G-0-0.npy\\n', 'C:\\\\Users\\\\pradh\\\\Downloads\\\\XDVioDet-master\\\\XDVioDet-master\\\\tratrain\\\\v=TOEVc-pOEwM__#00-00-00_00-01-40_label_B6-0-0.npy\\n', 'C:\\\\Users\\\\pradh\\\\Downloads\\\\XDVioDet-master\\\\XDVioDet-master\\\\tratrain\\\\v=TOEVc-pOEwM__#00-02-00_00-02-52_label_B6-0-0.npy\\n', 'C:\\\\Users\\\\pradh\\\\Downloads\\\\XDVioDet-master\\\\XDVioDet-master\\\\tratrain\\\\v=TOEVc-pOEwM__#00-03-30_00-06-00_label_B6-0-0.npy\\n', 'C:\\\\Users\\\\pradh\\\\Downloads\\\\XDVioDet-master\\\\XDVioDet-master\\\\tratrain\\\\v=TOEVc-pOEwM__#00-06-13_00-07-28_label_B6-0-0.npy\\n', 'C:\\\\Users\\\\pradh\\\\Downloads\\\\XDVioDet-master\\\\XDVioDet-master\\\\tratrain\\\\v=TS_92eKcGMI__#1_label_B1-0-0.npy\\n', 'C:\\\\Users\\\\pradh\\\\Downloads\\\\XDVioDet-master\\\\XDVioDet-master\\\\tratrain\\\\v=TaEFGtAT2fs__#1_label_B6-0-0.npy\\n', 'C:\\\\Users\\\\pradh\\\\Downloads\\\\XDVioDet-master\\\\XDVioDet-master\\\\tratrain\\\\v=Tlx-XRyAgnM__#00-00-00_00-10-06_label_B4-0-0.npy\\n', 'C:\\\\Users\\\\pradh\\\\Downloads\\\\XDVioDet-master\\\\XDVioDet-master\\\\tratrain\\\\v=Tlx-XRyAgnM__#00-10-06_00-13-26_label_B4-0-0.npy\\n', 'C:\\\\Users\\\\pradh\\\\Downloads\\\\XDVioDet-master\\\\XDVioDet-master\\\\tratrain\\\\v=Tlx-XRyAgnM__#00-13-26_00-16-43_label_B4-0-0.npy\\n', 'C:\\\\Users\\\\pradh\\\\Downloads\\\\XDVioDet-master\\\\XDVioDet-master\\\\tratrain\\\\v=Tlx-XRyAgnM__#00-16-43_00-23-09_label_B4-0-0.npy\\n', 'C:\\\\Users\\\\pradh\\\\Downloads\\\\XDVioDet-master\\\\XDVioDet-master\\\\tratrain\\\\v=Tlx-XRyAgnM__#00-23-09_00-28-09_label_B4-0-0.npy\\n', 'C:\\\\Users\\\\pradh\\\\Downloads\\\\XDVioDet-master\\\\XDVioDet-master\\\\tratrain\\\\v=TqKwiYXy31A__#1_label_G-0-0.npy\\n', 'C:\\\\Users\\\\pradh\\\\Downloads\\\\XDVioDet-master\\\\XDVioDet-master\\\\tratrain\\\\v=TxkNW_f3JPA__#1_label_B6-0-0.npy\\n', 'C:\\\\Users\\\\pradh\\\\Downloads\\\\XDVioDet-master\\\\XDVioDet-master\\\\tratrain\\\\v=U6eE_gbvyQc__#1_label_B4-0-0.npy\\n', 'C:\\\\Users\\\\pradh\\\\Downloads\\\\XDVioDet-master\\\\XDVioDet-master\\\\tratrain\\\\v=UBXehaIFOpc__#1_label_B6-0-0.npy\\n', 'C:\\\\Users\\\\pradh\\\\Downloads\\\\XDVioDet-master\\\\XDVioDet-master\\\\tratrain\\\\v=UE_tyZQUU90__#1_label_B4-0-0.npy\\n', 'C:\\\\Users\\\\pradh\\\\Downloads\\\\XDVioDet-master\\\\XDVioDet-master\\\\tratrain\\\\v=UHHl40ldtBI__#1_label_G-0-0.npy\\n', 'C:\\\\Users\\\\pradh\\\\Downloads\\\\XDVioDet-master\\\\XDVioDet-master\\\\tratrain\\\\v=UM0jtD_OWLU__#1_label_G-0-0.npy\\n', 'C:\\\\Users\\\\pradh\\\\Downloads\\\\XDVioDet-master\\\\XDVioDet-master\\\\tratrain\\\\v=U_VfMqGGqlE__#00-07-11_00-08-35_label_B6-0-0.npy\\n', 'C:\\\\Users\\\\pradh\\\\Downloads\\\\XDVioDet-master\\\\XDVioDet-master\\\\tratrain\\\\v=U_VfMqGGqlE__#00-08-45_00-10-32_label_B6-0-0.npy\\n', 'C:\\\\Users\\\\pradh\\\\Downloads\\\\XDVioDet-master\\\\XDVioDet-master\\\\tratrain\\\\v=U_VfMqGGqlE__#00-10-35_00-11-47_label_B6-0-0.npy\\n', 'C:\\\\Users\\\\pradh\\\\Downloads\\\\XDVioDet-master\\\\XDVioDet-master\\\\tratrain\\\\v=UmDrO4xtVbo__#1_label_B1-0-0.npy\\n', 'C:\\\\Users\\\\pradh\\\\Downloads\\\\XDVioDet-master\\\\XDVioDet-master\\\\tratrain\\\\v=UrDuQviI_pI__#1_label_B4-0-0.npy\\n', 'C:\\\\Users\\\\pradh\\\\Downloads\\\\XDVioDet-master\\\\XDVioDet-master\\\\tratrain\\\\v=UxV8yW8eTWs__#1_label_B1-0-0.npy\\n', 'C:\\\\Users\\\\pradh\\\\Downloads\\\\XDVioDet-master\\\\XDVioDet-master\\\\tratrain\\\\v=UxoL8tHSa7g__#1_label_B4-0-0.npy\\n', 'C:\\\\Users\\\\pradh\\\\Downloads\\\\XDVioDet-master\\\\XDVioDet-master\\\\tratrain\\\\v=V-87Zz7xbSA__#1_label_B4-0-0.npy\\n', 'C:\\\\Users\\\\pradh\\\\Downloads\\\\XDVioDet-master\\\\XDVioDet-master\\\\tratrain\\\\v=V6lLCZbCQtk__#1_label_G-0-0.npy\\n', 'C:\\\\Users\\\\pradh\\\\Downloads\\\\XDVioDet-master\\\\XDVioDet-master\\\\tratrain\\\\v=VEF11DADed__#00-01-59_00-13-48_label_G-0-0.npy\\n', 'C:\\\\Users\\\\pradh\\\\Downloads\\\\XDVioDet-master\\\\XDVioDet-master\\\\tratrain\\\\v=VHMi-j7W2gM__#1_label_B1-0-0.npy\\n', 'C:\\\\Users\\\\pradh\\\\Downloads\\\\XDVioDet-master\\\\XDVioDet-master\\\\tratrain\\\\v=VO0YDRxjvxQ__#1_label_B4-0-0.npy\\n', 'C:\\\\Users\\\\pradh\\\\Downloads\\\\XDVioDet-master\\\\XDVioDet-master\\\\tratrain\\\\v=VaQpmWUfmn0__#1_label_B1-0-0.npy\\n', 'C:\\\\Users\\\\pradh\\\\Downloads\\\\XDVioDet-master\\\\XDVioDet-master\\\\tratrain\\\\v=Vcy4u8pfvAI__#1_label_B1-0-0.npy\\n', 'C:\\\\Users\\\\pradh\\\\Downloads\\\\XDVioDet-master\\\\XDVioDet-master\\\\tratrain\\\\v=Ve1hzl3Ikj4__#1_label_B1-0-0.npy\\n', 'C:\\\\Users\\\\pradh\\\\Downloads\\\\XDVioDet-master\\\\XDVioDet-master\\\\tratrain\\\\v=VujWCq60Nqc__#1_label_B4-0-0.npy\\n', 'C:\\\\Users\\\\pradh\\\\Downloads\\\\XDVioDet-master\\\\XDVioDet-master\\\\tratrain\\\\v=VxyjGNq0y5U__#1_label_G-0-0.npy\\n', 'C:\\\\Users\\\\pradh\\\\Downloads\\\\XDVioDet-master\\\\XDVioDet-master\\\\tratrain\\\\v=W1bHOFHyEf0__#1_label_B4-0-0.npy\\n', 'C:\\\\Users\\\\pradh\\\\Downloads\\\\XDVioDet-master\\\\XDVioDet-master\\\\tratrain\\\\v=W7FVRlyw6Dg__#1_label_B4-0-0.npy\\n', 'C:\\\\Users\\\\pradh\\\\Downloads\\\\XDVioDet-master\\\\XDVioDet-master\\\\tratrain\\\\v=WB6xnSfUidw__#1_label_B1-0-0.npy\\n', 'C:\\\\Users\\\\pradh\\\\Downloads\\\\XDVioDet-master\\\\XDVioDet-master\\\\tratrain\\\\v=WLwkmKBSMnA__#1_label_B1-0-0.npy\\n', 'C:\\\\Users\\\\pradh\\\\Downloads\\\\XDVioDet-master\\\\XDVioDet-master\\\\tratrain\\\\v=WO7xbZEsKvc__#1_label_B1-0-0.npy\\n', 'C:\\\\Users\\\\pradh\\\\Downloads\\\\XDVioDet-master\\\\XDVioDet-master\\\\tratrain\\\\v=WQjp06C3-y4__#1_label_B1-0-0.npy\\n', 'C:\\\\Users\\\\pradh\\\\Downloads\\\\XDVioDet-master\\\\XDVioDet-master\\\\tratrain\\\\v=WVMpxkB7vV0__#1_label_B4-0-0.npy\\n', 'C:\\\\Users\\\\pradh\\\\Downloads\\\\XDVioDet-master\\\\XDVioDet-master\\\\tratrain\\\\v=WZUoSyEzeeU__#1_label_G-0-0.npy\\n', 'C:\\\\Users\\\\pradh\\\\Downloads\\\\XDVioDet-master\\\\XDVioDet-master\\\\tratrain\\\\v=WZZDq8S6bhA__#1_label_B4-0-0.npy\\n', 'C:\\\\Users\\\\pradh\\\\Downloads\\\\XDVioDet-master\\\\XDVioDet-master\\\\tratrain\\\\v=Wc8bKxwh-sA__#1_label_B1-0-0.npy\\n', 'C:\\\\Users\\\\pradh\\\\Downloads\\\\XDVioDet-master\\\\XDVioDet-master\\\\tratrain\\\\v=WmfCZjLSiak__#1_label_G-0-0.npy\\n', 'C:\\\\Users\\\\pradh\\\\Downloads\\\\XDVioDet-master\\\\XDVioDet-master\\\\tratrain\\\\v=Wnu-7jcaHvo__#1_label_G-0-0.npy\\n', 'C:\\\\Users\\\\pradh\\\\Downloads\\\\XDVioDet-master\\\\XDVioDet-master\\\\tratrain\\\\v=WsBCj67DP54__#1_label_B1-0-0.npy\\n', 'C:\\\\Users\\\\pradh\\\\Downloads\\\\XDVioDet-master\\\\XDVioDet-master\\\\tratrain\\\\v=WuF-VPAnvE0__#1_label_B4-0-0.npy\\n', 'C:\\\\Users\\\\pradh\\\\Downloads\\\\XDVioDet-master\\\\XDVioDet-master\\\\tratrain\\\\v=Wwu20e9pfxg__#1_label_B1-0-0.npy\\n', 'C:\\\\Users\\\\pradh\\\\Downloads\\\\XDVioDet-master\\\\XDVioDet-master\\\\tratrain\\\\v=WxaM_H8MTpU__#1_label_B4-0-0.npy\\n', 'C:\\\\Users\\\\pradh\\\\Downloads\\\\XDVioDet-master\\\\XDVioDet-master\\\\tratrain\\\\v=X1LwYJ8pDhc__#1_label_G-0-0.npy\\n', 'C:\\\\Users\\\\pradh\\\\Downloads\\\\XDVioDet-master\\\\XDVioDet-master\\\\tratrain\\\\v=X1arMZmYhsk__#00-00-00_00-00-51_label_B6-0-0.npy\\n', 'C:\\\\Users\\\\pradh\\\\Downloads\\\\XDVioDet-master\\\\XDVioDet-master\\\\tratrain\\\\v=X1arMZmYhsk__#00-01-00_00-02-45_label_B6-0-0.npy\\n', 'C:\\\\Users\\\\pradh\\\\Downloads\\\\XDVioDet-master\\\\XDVioDet-master\\\\tratrain\\\\v=X1arMZmYhsk__#00-03-00_00-04-09_label_B6-0-0.npy\\n', 'C:\\\\Users\\\\pradh\\\\Downloads\\\\XDVioDet-master\\\\XDVioDet-master\\\\tratrain\\\\v=X1arMZmYhsk__#00-04-10_00-06-09_label_B6-0-0.npy\\n', 'C:\\\\Users\\\\pradh\\\\Downloads\\\\XDVioDet-master\\\\XDVioDet-master\\\\tratrain\\\\v=X1arMZmYhsk__#00-06-10_00-07-19_label_B6-0-0.npy\\n', 'C:\\\\Users\\\\pradh\\\\Downloads\\\\XDVioDet-master\\\\XDVioDet-master\\\\tratrain\\\\v=X1arMZmYhsk__#00-07-22_00-08-19_label_B6-0-0.npy\\n', 'C:\\\\Users\\\\pradh\\\\Downloads\\\\XDVioDet-master\\\\XDVioDet-master\\\\tratrain\\\\v=X1arMZmYhsk__#00-08-35_00-10-25_label_B6-0-0.npy\\n', 'C:\\\\Users\\\\pradh\\\\Downloads\\\\XDVioDet-master\\\\XDVioDet-master\\\\tratrain\\\\v=X1arMZmYhsk__#00-11-00_00-12-45_label_B6-0-0.npy\\n', 'C:\\\\Users\\\\pradh\\\\Downloads\\\\XDVioDet-master\\\\XDVioDet-master\\\\tratrain\\\\v=X1arMZmYhsk__#00-14-10_00-16-09_label_B6-0-0.npy\\n', 'C:\\\\Users\\\\pradh\\\\Downloads\\\\XDVioDet-master\\\\XDVioDet-master\\\\tratrain\\\\v=X1arMZmYhsk__#00-16-10_00-18-09_label_B6-0-0.npy\\n', 'C:\\\\Users\\\\pradh\\\\Downloads\\\\XDVioDet-master\\\\XDVioDet-master\\\\tratrain\\\\v=X2arbb-wfl0__#1_label_B4-0-0.npy\\n', 'C:\\\\Users\\\\pradh\\\\Downloads\\\\XDVioDet-master\\\\XDVioDet-master\\\\tratrain\\\\v=X4I8FhpGJwo__#00-03-00_00-03-50_label_B6-0-0.npy\\n', 'C:\\\\Users\\\\pradh\\\\Downloads\\\\XDVioDet-master\\\\XDVioDet-master\\\\tratrain\\\\v=X4I8FhpGJwo__#00-05-20_00-06-20_label_B6-0-0.npy\\n', 'C:\\\\Users\\\\pradh\\\\Downloads\\\\XDVioDet-master\\\\XDVioDet-master\\\\tratrain\\\\v=X4I8FhpGJwo__#00-06-30_00-07-20_label_B6-0-0.npy\\n', 'C:\\\\Users\\\\pradh\\\\Downloads\\\\XDVioDet-master\\\\XDVioDet-master\\\\tratrain\\\\v=X6BLBhPt9Oc__#1_label_B4-0-0.npy\\n', 'C:\\\\Users\\\\pradh\\\\Downloads\\\\XDVioDet-master\\\\XDVioDet-master\\\\tratrain\\\\v=X6j-llEOC3c__#1_label_B1-0-0.npy\\n', 'C:\\\\Users\\\\pradh\\\\Downloads\\\\XDVioDet-master\\\\XDVioDet-master\\\\tratrain\\\\v=XB4wO2YEEK8__#1_label_B1-0-0.npy\\n', 'C:\\\\Users\\\\pradh\\\\Downloads\\\\XDVioDet-master\\\\XDVioDet-master\\\\tratrain\\\\v=XJ6lGP57EZY__#1_label_B4-0-0.npy\\n', 'C:\\\\Users\\\\pradh\\\\Downloads\\\\XDVioDet-master\\\\XDVioDet-master\\\\tratrain\\\\v=XOzk_zfibbw__#1_label_B4-0-0.npy\\n', 'C:\\\\Users\\\\pradh\\\\Downloads\\\\XDVioDet-master\\\\XDVioDet-master\\\\tratrain\\\\v=XRHvCMyX6qM__#1_label_B6-0-0.npy\\n', 'C:\\\\Users\\\\pradh\\\\Downloads\\\\XDVioDet-master\\\\XDVioDet-master\\\\tratrain\\\\v=XXRkHOAQP8M__#1_label_B1-0-0.npy\\n', 'C:\\\\Users\\\\pradh\\\\Downloads\\\\XDVioDet-master\\\\XDVioDet-master\\\\tratrain\\\\v=XbvoojoAl7k__#1_label_B4-0-0.npy\\n', 'C:\\\\Users\\\\pradh\\\\Downloads\\\\XDVioDet-master\\\\XDVioDet-master\\\\tratrain\\\\v=XjFM_RswttU__#00-00-00_00-03-57_label_B4-0-0.npy\\n', 'C:\\\\Users\\\\pradh\\\\Downloads\\\\XDVioDet-master\\\\XDVioDet-master\\\\tratrain\\\\v=XjFM_RswttU__#00-03-57_00-06-06_label_B4-0-0.npy\\n', 'C:\\\\Users\\\\pradh\\\\Downloads\\\\XDVioDet-master\\\\XDVioDet-master\\\\tratrain\\\\v=XjFM_RswttU__#00-06-06_00-10-36_label_B4-0-0.npy\\n', 'C:\\\\Users\\\\pradh\\\\Downloads\\\\XDVioDet-master\\\\XDVioDet-master\\\\tratrain\\\\v=XjuvJ6in9kk__#1_label_B4-0-0.npy\\n', 'C:\\\\Users\\\\pradh\\\\Downloads\\\\XDVioDet-master\\\\XDVioDet-master\\\\tratrain\\\\v=XkXTfZl7lH0__#1_label_G-0-0.npy\\n', 'C:\\\\Users\\\\pradh\\\\Downloads\\\\XDVioDet-master\\\\XDVioDet-master\\\\tratrain\\\\v=XxVp3LWqZVk__#1_label_B4-0-0.npy\\n', 'C:\\\\Users\\\\pradh\\\\Downloads\\\\XDVioDet-master\\\\XDVioDet-master\\\\tratrain\\\\v=Y1rKmZ0xLKw__#1_label_B4-0-0.npy\\n', 'C:\\\\Users\\\\pradh\\\\Downloads\\\\XDVioDet-master\\\\XDVioDet-master\\\\tratrain\\\\v=Y43UkfAe_bc__#00-01-40_00-02-27_label_B4-0-0.npy\\n', 'C:\\\\Users\\\\pradh\\\\Downloads\\\\XDVioDet-master\\\\XDVioDet-master\\\\tratrain\\\\v=Y43UkfAe_bc__#00-02-27_00-04-28_label_B4-0-0.npy\\n', 'C:\\\\Users\\\\pradh\\\\Downloads\\\\XDVioDet-master\\\\XDVioDet-master\\\\tratrain\\\\v=Y43UkfAe_bc__#00-04-28_00-05-48_label_B4-0-0.npy\\n', 'C:\\\\Users\\\\pradh\\\\Downloads\\\\XDVioDet-master\\\\XDVioDet-master\\\\tratrain\\\\v=Y43UkfAe_bc__#00-05-48_00-07-17_label_B4-0-0.npy\\n', 'C:\\\\Users\\\\pradh\\\\Downloads\\\\XDVioDet-master\\\\XDVioDet-master\\\\tratrain\\\\v=Y5Fl63FjmZM__#1_label_B4-0-0.npy\\n', 'C:\\\\Users\\\\pradh\\\\Downloads\\\\XDVioDet-master\\\\XDVioDet-master\\\\tratrain\\\\v=Y5v7A4hUM-E__#1_label_B1-0-0.npy\\n', 'C:\\\\Users\\\\pradh\\\\Downloads\\\\XDVioDet-master\\\\XDVioDet-master\\\\tratrain\\\\v=Y6J2jTLQ8AA__#1_label_B6-0-0.npy\\n', 'C:\\\\Users\\\\pradh\\\\Downloads\\\\XDVioDet-master\\\\XDVioDet-master\\\\tratrain\\\\v=YCsQM1z6COU__#1_label_B4-0-0.npy\\n', 'C:\\\\Users\\\\pradh\\\\Downloads\\\\XDVioDet-master\\\\XDVioDet-master\\\\tratrain\\\\v=YIIhaaPXpVI__#1_label_B1-0-0.npy\\n', 'C:\\\\Users\\\\pradh\\\\Downloads\\\\XDVioDet-master\\\\XDVioDet-master\\\\tratrain\\\\v=YhCSFZNwfHc__#00-00-00_00-01-15_label_G-0-0.npy\\n', 'C:\\\\Users\\\\pradh\\\\Downloads\\\\XDVioDet-master\\\\XDVioDet-master\\\\tratrain\\\\v=YhCSFZNwfHc__#00-05-44_00-07-19_label_G-0-0.npy\\n', 'C:\\\\Users\\\\pradh\\\\Downloads\\\\XDVioDet-master\\\\XDVioDet-master\\\\tratrain\\\\v=Z-U7_Pyxwkc__#1_label_B4-0-0.npy\\n', 'C:\\\\Users\\\\pradh\\\\Downloads\\\\XDVioDet-master\\\\XDVioDet-master\\\\tratrain\\\\v=Z1h1h8WmP0E__#1_label_B4-0-0.npy\\n', 'C:\\\\Users\\\\pradh\\\\Downloads\\\\XDVioDet-master\\\\XDVioDet-master\\\\tratrain\\\\v=ZC0rczrqn5s__#00-00-00_00-04-57_label_B4-0-0.npy\\n', 'C:\\\\Users\\\\pradh\\\\Downloads\\\\XDVioDet-master\\\\XDVioDet-master\\\\tratrain\\\\v=ZC0rczrqn5s__#00-04-57_00-08-06_label_B4-0-0.npy\\n', 'C:\\\\Users\\\\pradh\\\\Downloads\\\\XDVioDet-master\\\\XDVioDet-master\\\\tratrain\\\\v=ZC0rczrqn5s__#00-08-06_00-13-43_label_B4-0-0.npy\\n', 'C:\\\\Users\\\\pradh\\\\Downloads\\\\XDVioDet-master\\\\XDVioDet-master\\\\tratrain\\\\v=ZHo1JkQSoeg__#1_label_B4-0-0.npy\\n', 'C:\\\\Users\\\\pradh\\\\Downloads\\\\XDVioDet-master\\\\XDVioDet-master\\\\tratrain\\\\v=ZTzEHsJVZhA__#00-02-50_00-04-33_label_G-0-0.npy\\n', 'C:\\\\Users\\\\pradh\\\\Downloads\\\\XDVioDet-master\\\\XDVioDet-master\\\\tratrain\\\\v=ZXWaa5TOqZo__#00-00-00_00-04-07_label_B4-0-0.npy\\n', 'C:\\\\Users\\\\pradh\\\\Downloads\\\\XDVioDet-master\\\\XDVioDet-master\\\\tratrain\\\\v=ZXWaa5TOqZo__#00-04-07_00-06-55_label_B4-0-0.npy\\n', 'C:\\\\Users\\\\pradh\\\\Downloads\\\\XDVioDet-master\\\\XDVioDet-master\\\\tratrain\\\\v=ZXWaa5TOqZo__#00-06-55_00-13-46_label_B4-0-0.npy\\n', 'C:\\\\Users\\\\pradh\\\\Downloads\\\\XDVioDet-master\\\\XDVioDet-master\\\\tratrain\\\\v=ZbqjM3Y7XyU__#1_label_B1-0-0.npy\\n', 'C:\\\\Users\\\\pradh\\\\Downloads\\\\XDVioDet-master\\\\XDVioDet-master\\\\tratrain\\\\v=ZdvIDNeVKpw__#1_label_G-0-0.npy\\n', 'C:\\\\Users\\\\pradh\\\\Downloads\\\\XDVioDet-master\\\\XDVioDet-master\\\\tratrain\\\\v=ZnFlL84K7HE__#00-00-00_00-09-22_label_B4-0-0.npy\\n', 'C:\\\\Users\\\\pradh\\\\Downloads\\\\XDVioDet-master\\\\XDVioDet-master\\\\tratrain\\\\v=ZnFlL84K7HE__#00-09-22_00-15-08_label_B4-0-0.npy\\n', 'C:\\\\Users\\\\pradh\\\\Downloads\\\\XDVioDet-master\\\\XDVioDet-master\\\\tratrain\\\\v=ZnFlL84K7HE__#00-15-08_00-22-53_label_B4-0-0.npy\\n', 'C:\\\\Users\\\\pradh\\\\Downloads\\\\XDVioDet-master\\\\XDVioDet-master\\\\tratrain\\\\v=ZnFlL84K7HE__#00-22-53_00-27-53_label_B4-0-0.npy\\n', 'C:\\\\Users\\\\pradh\\\\Downloads\\\\XDVioDet-master\\\\XDVioDet-master\\\\tratrain\\\\v=Znef2C1jHvs__#1_label_B4-0-0.npy\\n', 'C:\\\\Users\\\\pradh\\\\Downloads\\\\XDVioDet-master\\\\XDVioDet-master\\\\tratrain\\\\v=ZoS8gm5OcOM__#00-00-00_00-00-51_label_B6-0-0.npy\\n', 'C:\\\\Users\\\\pradh\\\\Downloads\\\\XDVioDet-master\\\\XDVioDet-master\\\\tratrain\\\\v=ZoS8gm5OcOM__#00-01-00_00-02-30_label_B6-0-0.npy\\n', 'C:\\\\Users\\\\pradh\\\\Downloads\\\\XDVioDet-master\\\\XDVioDet-master\\\\tratrain\\\\v=ZoS8gm5OcOM__#00-03-27_00-04-55_label_B6-0-0.npy\\n', 'C:\\\\Users\\\\pradh\\\\Downloads\\\\XDVioDet-master\\\\XDVioDet-master\\\\tratrain\\\\v=ZoS8gm5OcOM__#00-05-00_00-06-15_label_B6-0-0.npy\\n', 'C:\\\\Users\\\\pradh\\\\Downloads\\\\XDVioDet-master\\\\XDVioDet-master\\\\tratrain\\\\v=ZoS8gm5OcOM__#00-09-20_00-11-00_label_B6-0-0.npy\\n', 'C:\\\\Users\\\\pradh\\\\Downloads\\\\XDVioDet-master\\\\XDVioDet-master\\\\tratrain\\\\v=_1AW8Nfe9gw__#1_label_B1-0-0.npy\\n', 'C:\\\\Users\\\\pradh\\\\Downloads\\\\XDVioDet-master\\\\XDVioDet-master\\\\tratrain\\\\v=_4iymcn--Cw__#1_label_G-0-0.npy\\n', 'C:\\\\Users\\\\pradh\\\\Downloads\\\\XDVioDet-master\\\\XDVioDet-master\\\\tratrain\\\\v=_5JyqD0kzS8__#1_label_G-0-0.npy\\n', 'C:\\\\Users\\\\pradh\\\\Downloads\\\\XDVioDet-master\\\\XDVioDet-master\\\\tratrain\\\\v=_BvlwaTU16c__#1_label_B1-0-0.npy\\n', 'C:\\\\Users\\\\pradh\\\\Downloads\\\\XDVioDet-master\\\\XDVioDet-master\\\\tratrain\\\\v=_KuGizBjDXo__#1_label_G-0-0.npy\\n', 'C:\\\\Users\\\\pradh\\\\Downloads\\\\XDVioDet-master\\\\XDVioDet-master\\\\tratrain\\\\v=_VaFbCLoh_A__#1_label_G-0-0.npy\\n', 'C:\\\\Users\\\\pradh\\\\Downloads\\\\XDVioDet-master\\\\XDVioDet-master\\\\tratrain\\\\v=_YobflFU_HU__#00-00-00_00-00-51_label_B6-0-0.npy\\n', 'C:\\\\Users\\\\pradh\\\\Downloads\\\\XDVioDet-master\\\\XDVioDet-master\\\\tratrain\\\\v=_YobflFU_HU__#00-01-00_00-02-45_label_B6-0-0.npy\\n', 'C:\\\\Users\\\\pradh\\\\Downloads\\\\XDVioDet-master\\\\XDVioDet-master\\\\tratrain\\\\v=_YobflFU_HU__#00-03-00_00-04-09_label_B6-0-0.npy\\n', 'C:\\\\Users\\\\pradh\\\\Downloads\\\\XDVioDet-master\\\\XDVioDet-master\\\\tratrain\\\\v=_YobflFU_HU__#00-04-10_00-06-09_label_B6-0-0.npy\\n', 'C:\\\\Users\\\\pradh\\\\Downloads\\\\XDVioDet-master\\\\XDVioDet-master\\\\tratrain\\\\v=_YobflFU_HU__#00-09-00_00-10-49_label_B6-0-0.npy\\n', 'C:\\\\Users\\\\pradh\\\\Downloads\\\\XDVioDet-master\\\\XDVioDet-master\\\\tratrain\\\\v=_Z_ijjCZnBg__#1_label_B1-0-0.npy\\n', 'C:\\\\Users\\\\pradh\\\\Downloads\\\\XDVioDet-master\\\\XDVioDet-master\\\\tratrain\\\\v=_afU5OF2Uzg__#1_label_B4-0-0.npy\\n', 'C:\\\\Users\\\\pradh\\\\Downloads\\\\XDVioDet-master\\\\XDVioDet-master\\\\tratrain\\\\v=a3AtGT-HsK0__#1_label_B4-0-0.npy\\n', 'C:\\\\Users\\\\pradh\\\\Downloads\\\\XDVioDet-master\\\\XDVioDet-master\\\\tratrain\\\\v=aD0ipmvg8qU__#1_label_B1-0-0.npy\\n', 'C:\\\\Users\\\\pradh\\\\Downloads\\\\XDVioDet-master\\\\XDVioDet-master\\\\tratrain\\\\v=aDupD4_oWOk__#1_label_B4-0-0.npy\\n', 'C:\\\\Users\\\\pradh\\\\Downloads\\\\XDVioDet-master\\\\XDVioDet-master\\\\tratrain\\\\v=aLpml8P58-A__#1_label_B4-0-0.npy\\n', 'C:\\\\Users\\\\pradh\\\\Downloads\\\\XDVioDet-master\\\\XDVioDet-master\\\\tratrain\\\\v=aPcQ_nhCi2w__#1_label_G-0-0.npy\\n', 'C:\\\\Users\\\\pradh\\\\Downloads\\\\XDVioDet-master\\\\XDVioDet-master\\\\tratrain\\\\v=aQ3qMpgZjwg__#00-01-48_00-05-18_label_B4-0-0.npy\\n', 'C:\\\\Users\\\\pradh\\\\Downloads\\\\XDVioDet-master\\\\XDVioDet-master\\\\tratrain\\\\v=aQ3qMpgZjwg__#00-05-18_00-09-13_label_B4-0-0.npy\\n', 'C:\\\\Users\\\\pradh\\\\Downloads\\\\XDVioDet-master\\\\XDVioDet-master\\\\tratrain\\\\v=aaFoHfBfv_8__#1_label_B4-0-0.npy\\n', 'C:\\\\Users\\\\pradh\\\\Downloads\\\\XDVioDet-master\\\\XDVioDet-master\\\\tratrain\\\\v=ad1blksyhyM__#1_label_B1-0-0.npy\\n', 'C:\\\\Users\\\\pradh\\\\Downloads\\\\XDVioDet-master\\\\XDVioDet-master\\\\tratrain\\\\v=afI7jraTdnI__#1_label_G-0-0.npy\\n', 'C:\\\\Users\\\\pradh\\\\Downloads\\\\XDVioDet-master\\\\XDVioDet-master\\\\tratrain\\\\v=afbnjlYzQSg__#1_label_G-0-0.npy\\n', 'C:\\\\Users\\\\pradh\\\\Downloads\\\\XDVioDet-master\\\\XDVioDet-master\\\\tratrain\\\\v=ak5xaWbCQAE__#1_label_B1-0-0.npy\\n', 'C:\\\\Users\\\\pradh\\\\Downloads\\\\XDVioDet-master\\\\XDVioDet-master\\\\tratrain\\\\v=akwfA0V0jG8__#1_label_B1-0-0.npy\\n', 'C:\\\\Users\\\\pradh\\\\Downloads\\\\XDVioDet-master\\\\XDVioDet-master\\\\tratrain\\\\v=alXnawbJZFY__#1_label_G-0-0.npy\\n', 'C:\\\\Users\\\\pradh\\\\Downloads\\\\XDVioDet-master\\\\XDVioDet-master\\\\tratrain\\\\v=b1UbSYOxhjU__#1_label_G-0-0.npy\\n', 'C:\\\\Users\\\\pradh\\\\Downloads\\\\XDVioDet-master\\\\XDVioDet-master\\\\tratrain\\\\v=bEShlfxB1Ik__#00-01-50_00-03-13_label_G-0-0.npy\\n', 'C:\\\\Users\\\\pradh\\\\Downloads\\\\XDVioDet-master\\\\XDVioDet-master\\\\tratrain\\\\v=bKQYK7PYQpQ__#1_label_B1-0-0.npy\\n', 'C:\\\\Users\\\\pradh\\\\Downloads\\\\XDVioDet-master\\\\XDVioDet-master\\\\tratrain\\\\v=bQ9opSpgDd4__#1_label_B4-0-0.npy\\n', 'C:\\\\Users\\\\pradh\\\\Downloads\\\\XDVioDet-master\\\\XDVioDet-master\\\\tratrain\\\\v=bTUu4ZLtDSs__#00-00-00_00-04-22_label_G-0-0.npy\\n', 'C:\\\\Users\\\\pradh\\\\Downloads\\\\XDVioDet-master\\\\XDVioDet-master\\\\tratrain\\\\v=bTUu4ZLtDSs__#00-05-18_00-07-28_label_G-0-0.npy\\n', 'C:\\\\Users\\\\pradh\\\\Downloads\\\\XDVioDet-master\\\\XDVioDet-master\\\\tratrain\\\\v=bfOlheR5nUQ__#00-06-02_00-08-53_label_B4-0-0.npy\\n', 'C:\\\\Users\\\\pradh\\\\Downloads\\\\XDVioDet-master\\\\XDVioDet-master\\\\tratrain\\\\v=bhcHj8ZwQpw__#1_label_B1-0-0.npy\\n', 'C:\\\\Users\\\\pradh\\\\Downloads\\\\XDVioDet-master\\\\XDVioDet-master\\\\tratrain\\\\v=bml5E2gBuDk__#1_label_B4-0-0.npy\\n', 'C:\\\\Users\\\\pradh\\\\Downloads\\\\XDVioDet-master\\\\XDVioDet-master\\\\tratrain\\\\v=brAevKm89zg__#1_label_G-0-0.npy\\n', 'C:\\\\Users\\\\pradh\\\\Downloads\\\\XDVioDet-master\\\\XDVioDet-master\\\\tratrain\\\\v=bunhcwSvil8__#1_label_B4-0-0.npy\\n', 'C:\\\\Users\\\\pradh\\\\Downloads\\\\XDVioDet-master\\\\XDVioDet-master\\\\tratrain\\\\v=c7reNk6O0ns__#1_label_B4-0-0.npy\\n', 'C:\\\\Users\\\\pradh\\\\Downloads\\\\XDVioDet-master\\\\XDVioDet-master\\\\tratrain\\\\v=c8vdIL4PzVQ__#1_label_G-0-0.npy\\n', 'C:\\\\Users\\\\pradh\\\\Downloads\\\\XDVioDet-master\\\\XDVioDet-master\\\\tratrain\\\\v=cCFV9wBiwNc__#1_label_G-0-0.npy\\n', 'C:\\\\Users\\\\pradh\\\\Downloads\\\\XDVioDet-master\\\\XDVioDet-master\\\\tratrain\\\\v=cGUCq5fpMGo__#1_label_B4-0-0.npy\\n', 'C:\\\\Users\\\\pradh\\\\Downloads\\\\XDVioDet-master\\\\XDVioDet-master\\\\tratrain\\\\v=cK8jk8dMuJs__#1_label_B1-0-0.npy\\n', 'C:\\\\Users\\\\pradh\\\\Downloads\\\\XDVioDet-master\\\\XDVioDet-master\\\\tratrain\\\\v=cOWdWHSgI-4__#1_label_B6-0-0.npy\\n', 'C:\\\\Users\\\\pradh\\\\Downloads\\\\XDVioDet-master\\\\XDVioDet-master\\\\tratrain\\\\v=ccvwGYO1KwU__#1_label_B4-0-0.npy\\n', 'C:\\\\Users\\\\pradh\\\\Downloads\\\\XDVioDet-master\\\\XDVioDet-master\\\\tratrain\\\\v=crLCw6__dt8__#1_label_B4-0-0.npy\\n', 'C:\\\\Users\\\\pradh\\\\Downloads\\\\XDVioDet-master\\\\XDVioDet-master\\\\tratrain\\\\v=d42_ffkgAhw__#1_label_B4-0-0.npy\\n', 'C:\\\\Users\\\\pradh\\\\Downloads\\\\XDVioDet-master\\\\XDVioDet-master\\\\tratrain\\\\v=dCOUJ_GJymA__#1_label_B4-0-0.npy\\n', 'C:\\\\Users\\\\pradh\\\\Downloads\\\\XDVioDet-master\\\\XDVioDet-master\\\\tratrain\\\\v=dHfQYGGUS4U__#1_label_G-0-0.npy\\n', 'C:\\\\Users\\\\pradh\\\\Downloads\\\\XDVioDet-master\\\\XDVioDet-master\\\\tratrain\\\\v=dKgM6YzASeE__#1_label_G-0-0.npy\\n', 'C:\\\\Users\\\\pradh\\\\Downloads\\\\XDVioDet-master\\\\XDVioDet-master\\\\tratrain\\\\v=dOUiP6CClqc__#1_label_B4-0-0.npy\\n', 'C:\\\\Users\\\\pradh\\\\Downloads\\\\XDVioDet-master\\\\XDVioDet-master\\\\tratrain\\\\v=dSECAvBTanQ__#1_label_B4-0-0.npy\\n', 'C:\\\\Users\\\\pradh\\\\Downloads\\\\XDVioDet-master\\\\XDVioDet-master\\\\tratrain\\\\v=d_LttcEvc2Y__#1_label_B4-0-0.npy\\n', 'C:\\\\Users\\\\pradh\\\\Downloads\\\\XDVioDet-master\\\\XDVioDet-master\\\\tratrain\\\\v=di_Ck1nrx1g__#1_label_G-0-0.npy\\n', 'C:\\\\Users\\\\pradh\\\\Downloads\\\\XDVioDet-master\\\\XDVioDet-master\\\\tratrain\\\\v=dupw2pH3oes__#1_label_G-0-0.npy\\n', 'C:\\\\Users\\\\pradh\\\\Downloads\\\\XDVioDet-master\\\\XDVioDet-master\\\\tratrain\\\\v=e3LsF4GrfD8__#1_label_B4-0-0.npy\\n', 'C:\\\\Users\\\\pradh\\\\Downloads\\\\XDVioDet-master\\\\XDVioDet-master\\\\tratrain\\\\v=eGbGj82SQrE__#1_label_B4-0-0.npy\\n', 'C:\\\\Users\\\\pradh\\\\Downloads\\\\XDVioDet-master\\\\XDVioDet-master\\\\tratrain\\\\v=eIWuveQdMfM__#1_label_B6-0-0.npy\\n', 'C:\\\\Users\\\\pradh\\\\Downloads\\\\XDVioDet-master\\\\XDVioDet-master\\\\tratrain\\\\v=eNG0K73LqVM__#1_label_G-0-0.npy\\n', 'C:\\\\Users\\\\pradh\\\\Downloads\\\\XDVioDet-master\\\\XDVioDet-master\\\\tratrain\\\\v=eTNiMMICigY__#00-00-00_00-03-57_label_B4-0-0.npy\\n', 'C:\\\\Users\\\\pradh\\\\Downloads\\\\XDVioDet-master\\\\XDVioDet-master\\\\tratrain\\\\v=eXjd7GkHKfU__#00-00-00_00-01-58_label_B4-0-0.npy\\n', 'C:\\\\Users\\\\pradh\\\\Downloads\\\\XDVioDet-master\\\\XDVioDet-master\\\\tratrain\\\\v=eXjd7GkHKfU__#00-01-58_00-02-33_label_B4-0-0.npy\\n', 'C:\\\\Users\\\\pradh\\\\Downloads\\\\XDVioDet-master\\\\XDVioDet-master\\\\tratrain\\\\v=eXjd7GkHKfU__#00-02-33_00-04-40_label_B4-0-0.npy\\n', 'C:\\\\Users\\\\pradh\\\\Downloads\\\\XDVioDet-master\\\\XDVioDet-master\\\\tratrain\\\\v=eXjd7GkHKfU__#00-04-40_00-06-04_label_B4-0-0.npy\\n', 'C:\\\\Users\\\\pradh\\\\Downloads\\\\XDVioDet-master\\\\XDVioDet-master\\\\tratrain\\\\v=egfVEz3Udmw__#1_label_G-0-0.npy\\n', 'C:\\\\Users\\\\pradh\\\\Downloads\\\\XDVioDet-master\\\\XDVioDet-master\\\\tratrain\\\\v=ekH2zovSEIE__#1_label_B1-0-0.npy\\n', 'C:\\\\Users\\\\pradh\\\\Downloads\\\\XDVioDet-master\\\\XDVioDet-master\\\\tratrain\\\\v=eqYUjRxQ_lQ__#1_label_G-0-0.npy\\n', 'C:\\\\Users\\\\pradh\\\\Downloads\\\\XDVioDet-master\\\\XDVioDet-master\\\\tratrain\\\\v=et5Hb3bBKck__#1_label_B1-0-0.npy\\n', 'C:\\\\Users\\\\pradh\\\\Downloads\\\\XDVioDet-master\\\\XDVioDet-master\\\\tratrain\\\\v=f0i6Y0_365k__#1_label_B4-0-0.npy\\n', 'C:\\\\Users\\\\pradh\\\\Downloads\\\\XDVioDet-master\\\\XDVioDet-master\\\\tratrain\\\\v=f9FMKnfEF2Y__#1_label_B4-0-0.npy\\n', 'C:\\\\Users\\\\pradh\\\\Downloads\\\\XDVioDet-master\\\\XDVioDet-master\\\\tratrain\\\\v=fAExhzs4qKk__#1_label_G-0-0.npy\\n', 'C:\\\\Users\\\\pradh\\\\Downloads\\\\XDVioDet-master\\\\XDVioDet-master\\\\tratrain\\\\v=fCnIw0aIYp4__#00-00-00_00-00-51_label_B6-0-0.npy\\n', 'C:\\\\Users\\\\pradh\\\\Downloads\\\\XDVioDet-master\\\\XDVioDet-master\\\\tratrain\\\\v=fCnIw0aIYp4__#00-01-00_00-02-45_label_B6-0-0.npy\\n', 'C:\\\\Users\\\\pradh\\\\Downloads\\\\XDVioDet-master\\\\XDVioDet-master\\\\tratrain\\\\v=fCnIw0aIYp4__#00-03-00_00-04-09_label_B6-0-0.npy\\n', 'C:\\\\Users\\\\pradh\\\\Downloads\\\\XDVioDet-master\\\\XDVioDet-master\\\\tratrain\\\\v=fCnIw0aIYp4__#00-04-11_00-05-09_label_B6-0-0.npy\\n', 'C:\\\\Users\\\\pradh\\\\Downloads\\\\XDVioDet-master\\\\XDVioDet-master\\\\tratrain\\\\v=fI-jlNqpCQ8__#1_label_G-0-0.npy\\n', 'C:\\\\Users\\\\pradh\\\\Downloads\\\\XDVioDet-master\\\\XDVioDet-master\\\\tratrain\\\\v=fK4RN5Hf77g__#1_label_G-0-0.npy\\n', 'C:\\\\Users\\\\pradh\\\\Downloads\\\\XDVioDet-master\\\\XDVioDet-master\\\\tratrain\\\\v=fS0dDKInWUI__#1_label_G-0-0.npy\\n', 'C:\\\\Users\\\\pradh\\\\Downloads\\\\XDVioDet-master\\\\XDVioDet-master\\\\tratrain\\\\v=fVCA9TXHDxE__#1_label_B4-0-0.npy\\n', 'C:\\\\Users\\\\pradh\\\\Downloads\\\\XDVioDet-master\\\\XDVioDet-master\\\\tratrain\\\\v=fjlUZHwh858__#1_label_B4-0-0.npy\\n', 'C:\\\\Users\\\\pradh\\\\Downloads\\\\XDVioDet-master\\\\XDVioDet-master\\\\tratrain\\\\v=fnNHjFcCRDs__#1_label_B1-0-0.npy\\n', 'C:\\\\Users\\\\pradh\\\\Downloads\\\\XDVioDet-master\\\\XDVioDet-master\\\\tratrain\\\\v=frVqSvgGzhw__#1_label_G-0-0.npy\\n', 'C:\\\\Users\\\\pradh\\\\Downloads\\\\XDVioDet-master\\\\XDVioDet-master\\\\tratrain\\\\v=fv7Gk-Pg7Rw__#1_label_B4-0-0.npy\\n', 'C:\\\\Users\\\\pradh\\\\Downloads\\\\XDVioDet-master\\\\XDVioDet-master\\\\tratrain\\\\v=g3nuBRq_kTc__#1_label_B4-0-0.npy\\n', 'C:\\\\Users\\\\pradh\\\\Downloads\\\\XDVioDet-master\\\\XDVioDet-master\\\\tratrain\\\\v=g9eyUL1wSv0__#1_label_B4-0-0.npy\\n', 'C:\\\\Users\\\\pradh\\\\Downloads\\\\XDVioDet-master\\\\XDVioDet-master\\\\tratrain\\\\v=gM3qsp6CXMk__#00-00-00_00-00-51_label_B6-0-0.npy\\n', 'C:\\\\Users\\\\pradh\\\\Downloads\\\\XDVioDet-master\\\\XDVioDet-master\\\\tratrain\\\\v=gM3qsp6CXMk__#00-01-52_00-02-51_label_B6-0-0.npy\\n', 'C:\\\\Users\\\\pradh\\\\Downloads\\\\XDVioDet-master\\\\XDVioDet-master\\\\tratrain\\\\v=gM3qsp6CXMk__#00-03-40_00-05-09_label_B6-0-0.npy\\n', 'C:\\\\Users\\\\pradh\\\\Downloads\\\\XDVioDet-master\\\\XDVioDet-master\\\\tratrain\\\\v=gQf40mPOzVE__#1_label_B1-0-0.npy\\n', 'C:\\\\Users\\\\pradh\\\\Downloads\\\\XDVioDet-master\\\\XDVioDet-master\\\\tratrain\\\\v=gZ6BUYbZ96s__#1_label_G-0-0.npy\\n', 'C:\\\\Users\\\\pradh\\\\Downloads\\\\XDVioDet-master\\\\XDVioDet-master\\\\tratrain\\\\v=g_FC_lWOrmo__#1_label_G-0-0.npy\\n', 'C:\\\\Users\\\\pradh\\\\Downloads\\\\XDVioDet-master\\\\XDVioDet-master\\\\tratrain\\\\v=gc8b85OnNkI__#1_label_G-0-0.npy\\n', 'C:\\\\Users\\\\pradh\\\\Downloads\\\\XDVioDet-master\\\\XDVioDet-master\\\\tratrain\\\\v=gcZKnFj2N_E__#1_label_B4-0-0.npy\\n', 'C:\\\\Users\\\\pradh\\\\Downloads\\\\XDVioDet-master\\\\XDVioDet-master\\\\tratrain\\\\v=gclZNrpaICM__#1_label_B4-0-0.npy\\n', 'C:\\\\Users\\\\pradh\\\\Downloads\\\\XDVioDet-master\\\\XDVioDet-master\\\\tratrain\\\\v=gqtNT_zEINU__#1_label_B1-0-0.npy\\n', 'C:\\\\Users\\\\pradh\\\\Downloads\\\\XDVioDet-master\\\\XDVioDet-master\\\\tratrain\\\\v=gySI6K1G4xQ__#1_label_G-0-0.npy\\n', 'C:\\\\Users\\\\pradh\\\\Downloads\\\\XDVioDet-master\\\\XDVioDet-master\\\\tratrain\\\\v=h0frn7-aeh8__#00-00-00_00-00-51_label_B6-0-0.npy\\n', 'C:\\\\Users\\\\pradh\\\\Downloads\\\\XDVioDet-master\\\\XDVioDet-master\\\\tratrain\\\\v=h0frn7-aeh8__#00-01-00_00-02-45_label_B6-0-0.npy\\n', 'C:\\\\Users\\\\pradh\\\\Downloads\\\\XDVioDet-master\\\\XDVioDet-master\\\\tratrain\\\\v=h0frn7-aeh8__#00-03-00_00-03-55_label_B6-0-0.npy\\n', 'C:\\\\Users\\\\pradh\\\\Downloads\\\\XDVioDet-master\\\\XDVioDet-master\\\\tratrain\\\\v=h0frn7-aeh8__#00-04-00_00-04-55_label_B6-0-0.npy\\n', 'C:\\\\Users\\\\pradh\\\\Downloads\\\\XDVioDet-master\\\\XDVioDet-master\\\\tratrain\\\\v=h4DJWJs4mDw__#1_label_B1-0-0.npy\\n', 'C:\\\\Users\\\\pradh\\\\Downloads\\\\XDVioDet-master\\\\XDVioDet-master\\\\tratrain\\\\v=hELcbseV61o__#1_label_G-0-0.npy\\n', 'C:\\\\Users\\\\pradh\\\\Downloads\\\\XDVioDet-master\\\\XDVioDet-master\\\\tratrain\\\\v=hM1YvOQqY0A__#1_label_B4-0-0.npy\\n', 'C:\\\\Users\\\\pradh\\\\Downloads\\\\XDVioDet-master\\\\XDVioDet-master\\\\tratrain\\\\v=hNVz9YbUeLA__#00-00-50_00-03-30_label_B1-0-0.npy\\n', 'C:\\\\Users\\\\pradh\\\\Downloads\\\\XDVioDet-master\\\\XDVioDet-master\\\\tratrain\\\\v=hNVz9YbUeLA__#00-05-10_00-07-20_label_B1-0-0.npy\\n', 'C:\\\\Users\\\\pradh\\\\Downloads\\\\XDVioDet-master\\\\XDVioDet-master\\\\tratrain\\\\v=hNVz9YbUeLA__#00-08-46_00-10-22_label_B1-0-0.npy\\n', 'C:\\\\Users\\\\pradh\\\\Downloads\\\\XDVioDet-master\\\\XDVioDet-master\\\\tratrain\\\\v=hOS0VtiFuUk__#1_label_B4-0-0.npy\\n', 'C:\\\\Users\\\\pradh\\\\Downloads\\\\XDVioDet-master\\\\XDVioDet-master\\\\tratrain\\\\v=hevU2f-J74g__#1_label_B1-0-0.npy\\n', 'C:\\\\Users\\\\pradh\\\\Downloads\\\\XDVioDet-master\\\\XDVioDet-master\\\\tratrain\\\\v=hiHZWeeoEUg__#00-00-00_00-30-30_label_G-B2-0.npy\\n', 'C:\\\\Users\\\\pradh\\\\Downloads\\\\XDVioDet-master\\\\XDVioDet-master\\\\tratrain\\\\v=hvVTFz-oVlg__#1_label_B6-0-0.npy\\n', 'C:\\\\Users\\\\pradh\\\\Downloads\\\\XDVioDet-master\\\\XDVioDet-master\\\\tratrain\\\\v=hxyhulJYz5I__#00-00-00_00-01-51_label_B6-0-0.npy\\n', 'C:\\\\Users\\\\pradh\\\\Downloads\\\\XDVioDet-master\\\\XDVioDet-master\\\\tratrain\\\\v=hxyhulJYz5I__#00-01-52_00-03-10_label_B6-0-0.npy\\n', 'C:\\\\Users\\\\pradh\\\\Downloads\\\\XDVioDet-master\\\\XDVioDet-master\\\\tratrain\\\\v=hxyhulJYz5I__#00-03-12_00-04-15_label_B6-0-0.npy\\n', 'C:\\\\Users\\\\pradh\\\\Downloads\\\\XDVioDet-master\\\\XDVioDet-master\\\\tratrain\\\\v=hxyhulJYz5I__#00-04-19_00-06-00_label_B6-0-0.npy\\n', 'C:\\\\Users\\\\pradh\\\\Downloads\\\\XDVioDet-master\\\\XDVioDet-master\\\\tratrain\\\\v=hxyhulJYz5I__#00-07-02_00-08-00_label_B6-0-0.npy\\n', 'C:\\\\Users\\\\pradh\\\\Downloads\\\\XDVioDet-master\\\\XDVioDet-master\\\\tratrain\\\\v=hxyhulJYz5I__#00-08-10_00-09-51_label_B6-0-0.npy\\n', 'C:\\\\Users\\\\pradh\\\\Downloads\\\\XDVioDet-master\\\\XDVioDet-master\\\\tratrain\\\\v=i60ykiNmJiI__#1_label_B1-0-0.npy\\n', 'C:\\\\Users\\\\pradh\\\\Downloads\\\\XDVioDet-master\\\\XDVioDet-master\\\\tratrain\\\\v=i6ZQv7fVtl8__#1_label_B4-0-0.npy\\n', 'C:\\\\Users\\\\pradh\\\\Downloads\\\\XDVioDet-master\\\\XDVioDet-master\\\\tratrain\\\\v=i9EoT5orLEw__#1_label_B4-0-0.npy\\n', 'C:\\\\Users\\\\pradh\\\\Downloads\\\\XDVioDet-master\\\\XDVioDet-master\\\\tratrain\\\\v=iHuggczItBk__#00-00-00_00-00-51_label_B6-0-0.npy\\n', 'C:\\\\Users\\\\pradh\\\\Downloads\\\\XDVioDet-master\\\\XDVioDet-master\\\\tratrain\\\\v=iTvBb-HRbKs__#1_label_B1-0-0.npy\\n', 'C:\\\\Users\\\\pradh\\\\Downloads\\\\XDVioDet-master\\\\XDVioDet-master\\\\tratrain\\\\v=icdlBJ2KXzE__#1_label_B4-0-0.npy\\n', 'C:\\\\Users\\\\pradh\\\\Downloads\\\\XDVioDet-master\\\\XDVioDet-master\\\\tratrain\\\\v=id-k6p-QHPY__#1_label_B4-0-0.npy\\n', 'C:\\\\Users\\\\pradh\\\\Downloads\\\\XDVioDet-master\\\\XDVioDet-master\\\\tratrain\\\\v=idBwMN0E9Qg__#00-00-00_00-05-30_label_B4-0-0.npy\\n', 'C:\\\\Users\\\\pradh\\\\Downloads\\\\XDVioDet-master\\\\XDVioDet-master\\\\tratrain\\\\v=idBwMN0E9Qg__#00-05-30_00-10-39_label_B4-0-0.npy\\n', 'C:\\\\Users\\\\pradh\\\\Downloads\\\\XDVioDet-master\\\\XDVioDet-master\\\\tratrain\\\\v=idBwMN0E9Qg__#00-10-39_00-18-44_label_B4-0-0.npy\\n', 'C:\\\\Users\\\\pradh\\\\Downloads\\\\XDVioDet-master\\\\XDVioDet-master\\\\tratrain\\\\v=idBwMN0E9Qg__#00-18-44_00-24-16_label_B4-0-0.npy\\n', 'C:\\\\Users\\\\pradh\\\\Downloads\\\\XDVioDet-master\\\\XDVioDet-master\\\\tratrain\\\\v=idoD_tYTKtc__#00-00-00_00-00-51_label_B6-0-0.npy\\n', 'C:\\\\Users\\\\pradh\\\\Downloads\\\\XDVioDet-master\\\\XDVioDet-master\\\\tratrain\\\\v=idoD_tYTKtc__#00-01-00_00-02-45_label_B6-0-0.npy\\n', 'C:\\\\Users\\\\pradh\\\\Downloads\\\\XDVioDet-master\\\\XDVioDet-master\\\\tratrain\\\\v=idoD_tYTKtc__#00-03-00_00-04-09_label_B6-0-0.npy\\n', 'C:\\\\Users\\\\pradh\\\\Downloads\\\\XDVioDet-master\\\\XDVioDet-master\\\\tratrain\\\\v=idoD_tYTKtc__#00-04-10_00-05-00_label_B6-0-0.npy\\n', 'C:\\\\Users\\\\pradh\\\\Downloads\\\\XDVioDet-master\\\\XDVioDet-master\\\\tratrain\\\\v=ieSLKWFy0_g__#1_label_G-0-0.npy\\n', 'C:\\\\Users\\\\pradh\\\\Downloads\\\\XDVioDet-master\\\\XDVioDet-master\\\\tratrain\\\\v=iegHZ_UWWsA__#00-00-00_00-08-58_label_B4-0-0.npy\\n', 'C:\\\\Users\\\\pradh\\\\Downloads\\\\XDVioDet-master\\\\XDVioDet-master\\\\tratrain\\\\v=iegHZ_UWWsA__#00-08-58_00-14-05_label_B4-0-0.npy\\n', 'C:\\\\Users\\\\pradh\\\\Downloads\\\\XDVioDet-master\\\\XDVioDet-master\\\\tratrain\\\\v=iegHZ_UWWsA__#00-20-33_00-24-33_label_B4-0-0.npy\\n', 'C:\\\\Users\\\\pradh\\\\Downloads\\\\XDVioDet-master\\\\XDVioDet-master\\\\tratrain\\\\v=iurQ13cc7wA__#1_label_B4-0-0.npy\\n', 'C:\\\\Users\\\\pradh\\\\Downloads\\\\XDVioDet-master\\\\XDVioDet-master\\\\tratrain\\\\v=j0BG_GBOFTw__#1_label_G-0-0.npy\\n', 'C:\\\\Users\\\\pradh\\\\Downloads\\\\XDVioDet-master\\\\XDVioDet-master\\\\tratrain\\\\v=j4JOjcDFtBE__#1_label_G-0-0.npy\\n', 'C:\\\\Users\\\\pradh\\\\Downloads\\\\XDVioDet-master\\\\XDVioDet-master\\\\tratrain\\\\v=j4rOsg5Ehfc__#1_label_B4-0-0.npy\\n', 'C:\\\\Users\\\\pradh\\\\Downloads\\\\XDVioDet-master\\\\XDVioDet-master\\\\tratrain\\\\v=j5UtA48u6eM__#1_label_B4-0-0.npy\\n', 'C:\\\\Users\\\\pradh\\\\Downloads\\\\XDVioDet-master\\\\XDVioDet-master\\\\tratrain\\\\v=j5vwnjZVgnc__#1_label_B6-G-0.npy\\n', 'C:\\\\Users\\\\pradh\\\\Downloads\\\\XDVioDet-master\\\\XDVioDet-master\\\\tratrain\\\\v=jD45WBoP1hM__#1_label_B1-0-0.npy\\n', 'C:\\\\Users\\\\pradh\\\\Downloads\\\\XDVioDet-master\\\\XDVioDet-master\\\\tratrain\\\\v=jH-mhZLuGRk__#1_label_G-0-0.npy\\n', 'C:\\\\Users\\\\pradh\\\\Downloads\\\\XDVioDet-master\\\\XDVioDet-master\\\\tratrain\\\\v=jW8kD79pqOY__#1_label_B1-0-0.npy\\n', 'C:\\\\Users\\\\pradh\\\\Downloads\\\\XDVioDet-master\\\\XDVioDet-master\\\\tratrain\\\\v=jYENhkzdpO8__#00-01-32_00-03-27_label_B6-0-0.npy\\n', 'C:\\\\Users\\\\pradh\\\\Downloads\\\\XDVioDet-master\\\\XDVioDet-master\\\\tratrain\\\\v=jYENhkzdpO8__#00-04-10_00-05-19_label_B6-0-0.npy\\n', 'C:\\\\Users\\\\pradh\\\\Downloads\\\\XDVioDet-master\\\\XDVioDet-master\\\\tratrain\\\\v=jYENhkzdpO8__#00-05-20_00-06-45_label_B6-0-0.npy\\n', 'C:\\\\Users\\\\pradh\\\\Downloads\\\\XDVioDet-master\\\\XDVioDet-master\\\\tratrain\\\\v=jYENhkzdpO8__#00-06-46_00-08-35_label_B6-0-0.npy\\n', 'C:\\\\Users\\\\pradh\\\\Downloads\\\\XDVioDet-master\\\\XDVioDet-master\\\\tratrain\\\\v=jYENhkzdpO8__#00-08-37_00-09-38_label_B6-0-0.npy\\n', 'C:\\\\Users\\\\pradh\\\\Downloads\\\\XDVioDet-master\\\\XDVioDet-master\\\\tratrain\\\\v=jhOfHkp0B_I__#1_label_B1-0-0.npy\\n', 'C:\\\\Users\\\\pradh\\\\Downloads\\\\XDVioDet-master\\\\XDVioDet-master\\\\tratrain\\\\v=jpmQSeObStc__#00-03-25_00-04-54_label_B6-0-0.npy\\n', 'C:\\\\Users\\\\pradh\\\\Downloads\\\\XDVioDet-master\\\\XDVioDet-master\\\\tratrain\\\\v=jpmQSeObStc__#00-05-24_00-06-07_label_B6-0-0.npy\\n', 'C:\\\\Users\\\\pradh\\\\Downloads\\\\XDVioDet-master\\\\XDVioDet-master\\\\tratrain\\\\v=jxB8e1R4xeA__#1_label_B4-0-0.npy\\n', 'C:\\\\Users\\\\pradh\\\\Downloads\\\\XDVioDet-master\\\\XDVioDet-master\\\\tratrain\\\\v=k0dMU2R-f-c__#1_label_G-0-0.npy\\n', 'C:\\\\Users\\\\pradh\\\\Downloads\\\\XDVioDet-master\\\\XDVioDet-master\\\\tratrain\\\\v=k7R_Qo-BiAw__#00-00-00_00-00-51_label_B6-0-0.npy\\n', 'C:\\\\Users\\\\pradh\\\\Downloads\\\\XDVioDet-master\\\\XDVioDet-master\\\\tratrain\\\\v=k7R_Qo-BiAw__#00-01-00_00-02-45_label_B6-0-0.npy\\n', 'C:\\\\Users\\\\pradh\\\\Downloads\\\\XDVioDet-master\\\\XDVioDet-master\\\\tratrain\\\\v=k7R_Qo-BiAw__#00-03-00_00-04-09_label_B6-0-0.npy\\n', 'C:\\\\Users\\\\pradh\\\\Downloads\\\\XDVioDet-master\\\\XDVioDet-master\\\\tratrain\\\\v=k7R_Qo-BiAw__#00-04-10_00-06-09_label_B6-0-0.npy\\n', 'C:\\\\Users\\\\pradh\\\\Downloads\\\\XDVioDet-master\\\\XDVioDet-master\\\\tratrain\\\\v=k7R_Qo-BiAw__#00-06-10_00-07-19_label_B6-0-0.npy\\n', 'C:\\\\Users\\\\pradh\\\\Downloads\\\\XDVioDet-master\\\\XDVioDet-master\\\\tratrain\\\\v=k7R_Qo-BiAw__#00-07-22_00-08-19_label_B6-0-0.npy\\n', 'C:\\\\Users\\\\pradh\\\\Downloads\\\\XDVioDet-master\\\\XDVioDet-master\\\\tratrain\\\\v=k7R_Qo-BiAw__#00-08-35_00-10-25_label_B6-0-0.npy\\n', 'C:\\\\Users\\\\pradh\\\\Downloads\\\\XDVioDet-master\\\\XDVioDet-master\\\\tratrain\\\\v=k7R_Qo-BiAw__#00-11-00_00-12-45_label_B6-0-0.npy\\n', 'C:\\\\Users\\\\pradh\\\\Downloads\\\\XDVioDet-master\\\\XDVioDet-master\\\\tratrain\\\\v=k7R_Qo-BiAw__#00-13-00_00-14-09_label_B6-0-0.npy\\n', 'C:\\\\Users\\\\pradh\\\\Downloads\\\\XDVioDet-master\\\\XDVioDet-master\\\\tratrain\\\\v=k7R_Qo-BiAw__#00-14-10_00-15-49_label_B6-0-0.npy\\n', 'C:\\\\Users\\\\pradh\\\\Downloads\\\\XDVioDet-master\\\\XDVioDet-master\\\\tratrain\\\\v=k7R_Qo-BiAw__#00-16-00_00-18-45_label_B6-0-0.npy\\n', 'C:\\\\Users\\\\pradh\\\\Downloads\\\\XDVioDet-master\\\\XDVioDet-master\\\\tratrain\\\\v=k7R_Qo-BiAw__#00-19-00_00-20-09_label_B6-0-0.npy\\n', 'C:\\\\Users\\\\pradh\\\\Downloads\\\\XDVioDet-master\\\\XDVioDet-master\\\\tratrain\\\\v=kE5tx1U_4as__#00-00-25_00-07-28_label_B1-0-0.npy\\n', 'C:\\\\Users\\\\pradh\\\\Downloads\\\\XDVioDet-master\\\\XDVioDet-master\\\\tratrain\\\\v=kEFkd1Jw_UY__#1_label_G-0-0.npy\\n', 'C:\\\\Users\\\\pradh\\\\Downloads\\\\XDVioDet-master\\\\XDVioDet-master\\\\tratrain\\\\v=kIa4dC2XJaY__#1_label_G-0-0.npy\\n', 'C:\\\\Users\\\\pradh\\\\Downloads\\\\XDVioDet-master\\\\XDVioDet-master\\\\tratrain\\\\v=kU1jXuTrm4Y__#1_label_B4-0-0.npy\\n', 'C:\\\\Users\\\\pradh\\\\Downloads\\\\XDVioDet-master\\\\XDVioDet-master\\\\tratrain\\\\v=kVl-6-A9ZO4__#00-00-00_00-00-51_label_B6-0-0.npy\\n', 'C:\\\\Users\\\\pradh\\\\Downloads\\\\XDVioDet-master\\\\XDVioDet-master\\\\tratrain\\\\v=kVl-6-A9ZO4__#00-01-00_00-02-45_label_B6-0-0.npy\\n', 'C:\\\\Users\\\\pradh\\\\Downloads\\\\XDVioDet-master\\\\XDVioDet-master\\\\tratrain\\\\v=kVl-6-A9ZO4__#00-03-00_00-04-09_label_B6-0-0.npy\\n', 'C:\\\\Users\\\\pradh\\\\Downloads\\\\XDVioDet-master\\\\XDVioDet-master\\\\tratrain\\\\v=kVl-6-A9ZO4__#00-04-11_00-05-09_label_B6-0-0.npy\\n', 'C:\\\\Users\\\\pradh\\\\Downloads\\\\XDVioDet-master\\\\XDVioDet-master\\\\tratrain\\\\v=kVl-6-A9ZO4__#00-05-11_00-06-35_label_B6-0-0.npy\\n', 'C:\\\\Users\\\\pradh\\\\Downloads\\\\XDVioDet-master\\\\XDVioDet-master\\\\tratrain\\\\v=kVl-6-A9ZO4__#00-06-41_00-07-55_label_B6-0-0.npy\\n', 'C:\\\\Users\\\\pradh\\\\Downloads\\\\XDVioDet-master\\\\XDVioDet-master\\\\tratrain\\\\v=kVl-6-A9ZO4__#00-09-41_00-10-02_label_B6-0-0.npy\\n', 'C:\\\\Users\\\\pradh\\\\Downloads\\\\XDVioDet-master\\\\XDVioDet-master\\\\tratrain\\\\v=kdub1GS6CbI__#1_label_B1-0-0.npy\\n', 'C:\\\\Users\\\\pradh\\\\Downloads\\\\XDVioDet-master\\\\XDVioDet-master\\\\tratrain\\\\v=kstMovRph7o__#1_label_B4-0-0.npy\\n', 'C:\\\\Users\\\\pradh\\\\Downloads\\\\XDVioDet-master\\\\XDVioDet-master\\\\tratrain\\\\v=kvXkYt1ToE0__#1_label_B4-0-0.npy\\n', 'C:\\\\Users\\\\pradh\\\\Downloads\\\\XDVioDet-master\\\\XDVioDet-master\\\\tratrain\\\\v=kxP0SgbaGLU__#1_label_B4-0-0.npy\\n', 'C:\\\\Users\\\\pradh\\\\Downloads\\\\XDVioDet-master\\\\XDVioDet-master\\\\tratrain\\\\v=l0N5tPaagbc__#1_label_G.npy\\n', 'C:\\\\Users\\\\pradh\\\\Downloads\\\\XDVioDet-master\\\\XDVioDet-master\\\\tratrain\\\\v=lA1bgUYjJ0I__#1_label_G-0-0.npy\\n', 'C:\\\\Users\\\\pradh\\\\Downloads\\\\XDVioDet-master\\\\XDVioDet-master\\\\tratrain\\\\v=lB_fbdAzKUo__#1_label_B4-0-0.npy\\n', 'C:\\\\Users\\\\pradh\\\\Downloads\\\\XDVioDet-master\\\\XDVioDet-master\\\\tratrain\\\\v=lD7dY_aNjiU__#1_label_B4-0-0.npy\\n', 'C:\\\\Users\\\\pradh\\\\Downloads\\\\XDVioDet-master\\\\XDVioDet-master\\\\tratrain\\\\v=lLgc2zFoVmE__#1_label_B4-0-0.npy\\n', 'C:\\\\Users\\\\pradh\\\\Downloads\\\\XDVioDet-master\\\\XDVioDet-master\\\\tratrain\\\\v=lRdi-WZHxUs__#1_label_B4-0-0.npy\\n', 'C:\\\\Users\\\\pradh\\\\Downloads\\\\XDVioDet-master\\\\XDVioDet-master\\\\tratrain\\\\v=l_2Hzpaxf6I__#1_label_B1-0-0.npy\\n', 'C:\\\\Users\\\\pradh\\\\Downloads\\\\XDVioDet-master\\\\XDVioDet-master\\\\tratrain\\\\v=l_V-SOG_Fsg__#1_label_B4-0-0.npy\\n', 'C:\\\\Users\\\\pradh\\\\Downloads\\\\XDVioDet-master\\\\XDVioDet-master\\\\tratrain\\\\v=ljCrfzOhn3U__#1_label_B4-0-0.npy\\n', 'C:\\\\Users\\\\pradh\\\\Downloads\\\\XDVioDet-master\\\\XDVioDet-master\\\\tratrain\\\\v=ll9dxM3KArA__#00-00-00_00-00-51_label_B6-0-0.npy\\n', 'C:\\\\Users\\\\pradh\\\\Downloads\\\\XDVioDet-master\\\\XDVioDet-master\\\\tratrain\\\\v=ll9dxM3KArA__#00-01-00_00-02-45_label_B6-0-0.npy\\n', 'C:\\\\Users\\\\pradh\\\\Downloads\\\\XDVioDet-master\\\\XDVioDet-master\\\\tratrain\\\\v=ll9dxM3KArA__#00-03-00_00-04-09_label_B6-0-0.npy\\n', 'C:\\\\Users\\\\pradh\\\\Downloads\\\\XDVioDet-master\\\\XDVioDet-master\\\\tratrain\\\\v=ll9dxM3KArA__#00-04-10_00-05-12_label_B6-0-0.npy\\n', 'C:\\\\Users\\\\pradh\\\\Downloads\\\\XDVioDet-master\\\\XDVioDet-master\\\\tratrain\\\\v=lrwKV07iQLE__#1_label_B4-0-0.npy\\n', 'C:\\\\Users\\\\pradh\\\\Downloads\\\\XDVioDet-master\\\\XDVioDet-master\\\\tratrain\\\\v=lxpWeUrO9k8__#1_label_B4-0-0.npy\\n', 'C:\\\\Users\\\\pradh\\\\Downloads\\\\XDVioDet-master\\\\XDVioDet-master\\\\tratrain\\\\v=mLrACPnwNBc__#1_label_B1-0-0.npy\\n', 'C:\\\\Users\\\\pradh\\\\Downloads\\\\XDVioDet-master\\\\XDVioDet-master\\\\tratrain\\\\v=maP0CAhL_3k__#1_label_B4-0-0.npy\\n', 'C:\\\\Users\\\\pradh\\\\Downloads\\\\XDVioDet-master\\\\XDVioDet-master\\\\tratrain\\\\v=mhZ_PC0CLec__#1_label_B1-0-0.npy\\n', 'C:\\\\Users\\\\pradh\\\\Downloads\\\\XDVioDet-master\\\\XDVioDet-master\\\\tratrain\\\\v=moXG1byvf2Q__#1_label_G-0-0.npy\\n', 'C:\\\\Users\\\\pradh\\\\Downloads\\\\XDVioDet-master\\\\XDVioDet-master\\\\tratrain\\\\v=mr0LHzZz2m8__#1_label_B1-0-0.npy\\n', 'C:\\\\Users\\\\pradh\\\\Downloads\\\\XDVioDet-master\\\\XDVioDet-master\\\\tratrain\\\\v=mzFahABTUtw__#1_label_B4-0-0.npy\\n', 'C:\\\\Users\\\\pradh\\\\Downloads\\\\XDVioDet-master\\\\XDVioDet-master\\\\tratrain\\\\v=n-bMm8L8gwM__#1_label_B4-0-0.npy\\n', 'C:\\\\Users\\\\pradh\\\\Downloads\\\\XDVioDet-master\\\\XDVioDet-master\\\\tratrain\\\\v=n7WBshF9ihw__#1_label_G-0-0.npy\\n', 'C:\\\\Users\\\\pradh\\\\Downloads\\\\XDVioDet-master\\\\XDVioDet-master\\\\tratrain\\\\v=n81Q_AzkVio__#1_label_B6-0-0.npy\\n', 'C:\\\\Users\\\\pradh\\\\Downloads\\\\XDVioDet-master\\\\XDVioDet-master\\\\tratrain\\\\v=nB0sjaduikE__#1_label_B4-0-0.npy\\n', 'C:\\\\Users\\\\pradh\\\\Downloads\\\\XDVioDet-master\\\\XDVioDet-master\\\\tratrain\\\\v=nBGaNwsjls0__#1_label_B1-0-0.npy\\n', 'C:\\\\Users\\\\pradh\\\\Downloads\\\\XDVioDet-master\\\\XDVioDet-master\\\\tratrain\\\\v=nIU1Uky7--A__#1_label_B6-0-0.npy\\n', 'C:\\\\Users\\\\pradh\\\\Downloads\\\\XDVioDet-master\\\\XDVioDet-master\\\\tratrain\\\\v=nLAapCIlr-o__#00-01-00_00-02-45_label_B6-0-0.npy\\n', 'C:\\\\Users\\\\pradh\\\\Downloads\\\\XDVioDet-master\\\\XDVioDet-master\\\\tratrain\\\\v=nLAapCIlr-o__#00-03-00_00-04-09_label_B6-0-0.npy\\n', 'C:\\\\Users\\\\pradh\\\\Downloads\\\\XDVioDet-master\\\\XDVioDet-master\\\\tratrain\\\\v=nLAapCIlr-o__#00-04-10_00-06-09_label_B6-0-0.npy\\n', 'C:\\\\Users\\\\pradh\\\\Downloads\\\\XDVioDet-master\\\\XDVioDet-master\\\\tratrain\\\\v=nLAapCIlr-o__#00-06-10_00-07-19_label_B6-0-0.npy\\n', 'C:\\\\Users\\\\pradh\\\\Downloads\\\\XDVioDet-master\\\\XDVioDet-master\\\\tratrain\\\\v=nLAapCIlr-o__#00-10-30_00-10-51_label_B6-0-0.npy\\n', 'C:\\\\Users\\\\pradh\\\\Downloads\\\\XDVioDet-master\\\\XDVioDet-master\\\\tratrain\\\\v=nLAapCIlr-o__#00-13-00_00-14-09_label_B6-0-0.npy\\n', 'C:\\\\Users\\\\pradh\\\\Downloads\\\\XDVioDet-master\\\\XDVioDet-master\\\\tratrain\\\\v=nLAapCIlr-o__#00-19-10_00-21-09_label_B6-0-0.npy\\n', 'C:\\\\Users\\\\pradh\\\\Downloads\\\\XDVioDet-master\\\\XDVioDet-master\\\\tratrain\\\\v=nLAapCIlr-o__#00-21-10_00-23-09_label_B6-0-0.npy\\n', 'C:\\\\Users\\\\pradh\\\\Downloads\\\\XDVioDet-master\\\\XDVioDet-master\\\\tratrain\\\\v=nMayX35FkEk__#1_label_G-0-0.npy\\n', 'C:\\\\Users\\\\pradh\\\\Downloads\\\\XDVioDet-master\\\\XDVioDet-master\\\\tratrain\\\\v=nRWweMDjnKo__#00-00-00_00-03-34_label_B4-0-0.npy\\n', 'C:\\\\Users\\\\pradh\\\\Downloads\\\\XDVioDet-master\\\\XDVioDet-master\\\\tratrain\\\\v=nRWweMDjnKo__#00-03-34_00-06-34_label_B4-0-0.npy\\n', 'C:\\\\Users\\\\pradh\\\\Downloads\\\\XDVioDet-master\\\\XDVioDet-master\\\\tratrain\\\\v=nSGwiA89DYw__#00-00-00_00-00-51_label_B6-0-0.npy\\n', 'C:\\\\Users\\\\pradh\\\\Downloads\\\\XDVioDet-master\\\\XDVioDet-master\\\\tratrain\\\\v=nSGwiA89DYw__#00-01-00_00-02-45_label_B6-0-0.npy\\n', 'C:\\\\Users\\\\pradh\\\\Downloads\\\\XDVioDet-master\\\\XDVioDet-master\\\\tratrain\\\\v=nSGwiA89DYw__#00-03-00_00-03-55_label_B6-0-0.npy\\n', 'C:\\\\Users\\\\pradh\\\\Downloads\\\\XDVioDet-master\\\\XDVioDet-master\\\\tratrain\\\\v=nSGwiA89DYw__#00-04-00_00-05-15_label_B6-0-0.npy\\n', 'C:\\\\Users\\\\pradh\\\\Downloads\\\\XDVioDet-master\\\\XDVioDet-master\\\\tratrain\\\\v=nSGwiA89DYw__#00-05-20_00-06-40_label_B6-0-0.npy\\n', 'C:\\\\Users\\\\pradh\\\\Downloads\\\\XDVioDet-master\\\\XDVioDet-master\\\\tratrain\\\\v=nZLg0yIbaV4__#1_label_B4-0-0.npy\\n', 'C:\\\\Users\\\\pradh\\\\Downloads\\\\XDVioDet-master\\\\XDVioDet-master\\\\tratrain\\\\v=nyvvu_tH_wI__#1_label_B1-0-0.npy\\n', 'C:\\\\Users\\\\pradh\\\\Downloads\\\\XDVioDet-master\\\\XDVioDet-master\\\\tratrain\\\\v=o4o7MHeiVv4__#1_label_B1-0-0.npy\\n', 'C:\\\\Users\\\\pradh\\\\Downloads\\\\XDVioDet-master\\\\XDVioDet-master\\\\tratrain\\\\v=o52kCVZpH2E__#1_label_B1-0-0.npy\\n', 'C:\\\\Users\\\\pradh\\\\Downloads\\\\XDVioDet-master\\\\XDVioDet-master\\\\tratrain\\\\v=o7cMVWadJRY__#1_label_G-0-0.npy\\n', 'C:\\\\Users\\\\pradh\\\\Downloads\\\\XDVioDet-master\\\\XDVioDet-master\\\\tratrain\\\\v=oAQtabmrV7Q__#1_label_B1-0-0.npy\\n', 'C:\\\\Users\\\\pradh\\\\Downloads\\\\XDVioDet-master\\\\XDVioDet-master\\\\tratrain\\\\v=oF3NZ-HtV70__#1_label_B4-0-0.npy\\n', 'C:\\\\Users\\\\pradh\\\\Downloads\\\\XDVioDet-master\\\\XDVioDet-master\\\\tratrain\\\\v=oHAl85RbS5w__#00-00-00_00-01-40_label_B4-0-0.npy\\n', 'C:\\\\Users\\\\pradh\\\\Downloads\\\\XDVioDet-master\\\\XDVioDet-master\\\\tratrain\\\\v=oHAl85RbS5w__#00-01-40_00-04-37_label_B4-0-0.npy\\n', 'C:\\\\Users\\\\pradh\\\\Downloads\\\\XDVioDet-master\\\\XDVioDet-master\\\\tratrain\\\\v=oHAl85RbS5w__#00-04-27_00-07-22_label_B4-0-0.npy\\n', 'C:\\\\Users\\\\pradh\\\\Downloads\\\\XDVioDet-master\\\\XDVioDet-master\\\\tratrain\\\\v=oIcKi1ZdJMw__#1_label_B4-0-0.npy\\n', 'C:\\\\Users\\\\pradh\\\\Downloads\\\\XDVioDet-master\\\\XDVioDet-master\\\\tratrain\\\\v=oLFGaFmYoRw__#1_label_B6-0-0.npy\\n', 'C:\\\\Users\\\\pradh\\\\Downloads\\\\XDVioDet-master\\\\XDVioDet-master\\\\tratrain\\\\v=oXWlQxUNFLY__#1_label_B4-0-0.npy\\n', 'C:\\\\Users\\\\pradh\\\\Downloads\\\\XDVioDet-master\\\\XDVioDet-master\\\\tratrain\\\\v=o_Jnbrcj3-g__#1_label_B4-0-0.npy\\n', 'C:\\\\Users\\\\pradh\\\\Downloads\\\\XDVioDet-master\\\\XDVioDet-master\\\\tratrain\\\\v=o_uUQoQwIZ8__#1_label_B4-0-0.npy\\n', 'C:\\\\Users\\\\pradh\\\\Downloads\\\\XDVioDet-master\\\\XDVioDet-master\\\\tratrain\\\\v=oqGqvg4zjrY__#1_label_B1-0-0.npy\\n', 'C:\\\\Users\\\\pradh\\\\Downloads\\\\XDVioDet-master\\\\XDVioDet-master\\\\tratrain\\\\v=oul8c16LzMs__#1_label_B4-0-0.npy\\n', 'C:\\\\Users\\\\pradh\\\\Downloads\\\\XDVioDet-master\\\\XDVioDet-master\\\\tratrain\\\\v=p-xGiXv5iGo__#1_label_B4-0-0.npy\\n', 'C:\\\\Users\\\\pradh\\\\Downloads\\\\XDVioDet-master\\\\XDVioDet-master\\\\tratrain\\\\v=pFamvR9CpYw__#00-15-20_00-25-20_label_B4-0-0.npy\\n', 'C:\\\\Users\\\\pradh\\\\Downloads\\\\XDVioDet-master\\\\XDVioDet-master\\\\tratrain\\\\v=pFamvR9CpYw__#00-25-20_00-35-20_label_B4-0-0.npy\\n', 'C:\\\\Users\\\\pradh\\\\Downloads\\\\XDVioDet-master\\\\XDVioDet-master\\\\tratrain\\\\v=pFamvR9CpYw__#00-35-20_00-45-20_label_B4-0-0.npy\\n', 'C:\\\\Users\\\\pradh\\\\Downloads\\\\XDVioDet-master\\\\XDVioDet-master\\\\tratrain\\\\v=pFamvR9CpYw__#00-45-20_00-55-20_label_B4-0-0.npy\\n', 'C:\\\\Users\\\\pradh\\\\Downloads\\\\XDVioDet-master\\\\XDVioDet-master\\\\tratrain\\\\v=pFamvR9CpYw__#00-55-20_01-05-45_label_B4-0-0.npy\\n', 'C:\\\\Users\\\\pradh\\\\Downloads\\\\XDVioDet-master\\\\XDVioDet-master\\\\tratrain\\\\v=pZttb6pJM8U__#1_label_B1-0-0.npy\\n', 'C:\\\\Users\\\\pradh\\\\Downloads\\\\XDVioDet-master\\\\XDVioDet-master\\\\tratrain\\\\v=phvMyYKrZLc__#1_label_B1-0-0.npy\\n', 'C:\\\\Users\\\\pradh\\\\Downloads\\\\XDVioDet-master\\\\XDVioDet-master\\\\tratrain\\\\v=pogMbNQWrN4__#1_label_G-0-0.npy\\n', 'C:\\\\Users\\\\pradh\\\\Downloads\\\\XDVioDet-master\\\\XDVioDet-master\\\\tratrain\\\\v=pt0viAHE6Bg__#1_label_B4-0-0.npy\\n', 'C:\\\\Users\\\\pradh\\\\Downloads\\\\XDVioDet-master\\\\XDVioDet-master\\\\tratrain\\\\v=pxW4Xfn0Rk8__#1_label_G-B2-0.npy\\n', 'C:\\\\Users\\\\pradh\\\\Downloads\\\\XDVioDet-master\\\\XDVioDet-master\\\\tratrain\\\\v=pz_gOHgMgvA__#1_label_B1-0-0.npy\\n', 'C:\\\\Users\\\\pradh\\\\Downloads\\\\XDVioDet-master\\\\XDVioDet-master\\\\tratrain\\\\v=q1tQa14sUWw__#1_label_B4-0-0.npy\\n', 'C:\\\\Users\\\\pradh\\\\Downloads\\\\XDVioDet-master\\\\XDVioDet-master\\\\tratrain\\\\v=q4SVYUYNgKw__#1_label_B1-0-0.npy\\n', 'C:\\\\Users\\\\pradh\\\\Downloads\\\\XDVioDet-master\\\\XDVioDet-master\\\\tratrain\\\\v=qAkUDbMuEqg__#1_label_B1-0-0.npy\\n', 'C:\\\\Users\\\\pradh\\\\Downloads\\\\XDVioDet-master\\\\XDVioDet-master\\\\tratrain\\\\v=qBnaSal7e84__#1_label_B1-0-0.npy\\n', 'C:\\\\Users\\\\pradh\\\\Downloads\\\\XDVioDet-master\\\\XDVioDet-master\\\\tratrain\\\\v=qMKPbXh4870__#1_label_B4-0-0.npy\\n', 'C:\\\\Users\\\\pradh\\\\Downloads\\\\XDVioDet-master\\\\XDVioDet-master\\\\tratrain\\\\v=qQCTvJq83_s__#1_label_B1-0-0.npy\\n', 'C:\\\\Users\\\\pradh\\\\Downloads\\\\XDVioDet-master\\\\XDVioDet-master\\\\tratrain\\\\v=qYGIqrHVxMc__#1_label_B1-0-0.npy\\n', 'C:\\\\Users\\\\pradh\\\\Downloads\\\\XDVioDet-master\\\\XDVioDet-master\\\\tratrain\\\\v=qiMJdl7k9sU__#1_label_B1-0-0.npy\\n', 'C:\\\\Users\\\\pradh\\\\Downloads\\\\XDVioDet-master\\\\XDVioDet-master\\\\tratrain\\\\v=qmsQ-obL1Z4__#00-02-00_00-03-26_label_B6-0-0.npy\\n', 'C:\\\\Users\\\\pradh\\\\Downloads\\\\XDVioDet-master\\\\XDVioDet-master\\\\tratrain\\\\v=qmsQ-obL1Z4__#00-05-00_00-08-44_label_B6-0-0.npy\\n', 'C:\\\\Users\\\\pradh\\\\Downloads\\\\XDVioDet-master\\\\XDVioDet-master\\\\tratrain\\\\v=qmsQ-obL1Z4__#00-09-20_00-13-00_label_B6-0-0.npy\\n', 'C:\\\\Users\\\\pradh\\\\Downloads\\\\XDVioDet-master\\\\XDVioDet-master\\\\tratrain\\\\v=qmsQ-obL1Z4__#00-13-00_00-16-10_label_B6-0-0.npy\\n', 'C:\\\\Users\\\\pradh\\\\Downloads\\\\XDVioDet-master\\\\XDVioDet-master\\\\tratrain\\\\v=qmsQ-obL1Z4__#00-16-10_00-18-00_label_B6-0-0.npy\\n', 'C:\\\\Users\\\\pradh\\\\Downloads\\\\XDVioDet-master\\\\XDVioDet-master\\\\tratrain\\\\v=qmsQ-obL1Z4__#00-18-55_00-21-52_label_B6-0-0.npy\\n', 'C:\\\\Users\\\\pradh\\\\Downloads\\\\XDVioDet-master\\\\XDVioDet-master\\\\tratrain\\\\v=qmsQ-obL1Z4__#00-21-52_00-25-35_label_B6-0-0.npy\\n', 'C:\\\\Users\\\\pradh\\\\Downloads\\\\XDVioDet-master\\\\XDVioDet-master\\\\tratrain\\\\v=qmsQ-obL1Z4__#00-25-35_00-29-02_label_B6-0-0.npy\\n', 'C:\\\\Users\\\\pradh\\\\Downloads\\\\XDVioDet-master\\\\XDVioDet-master\\\\tratrain\\\\v=qmsQ-obL1Z4__#00-29-02_00-32-10_label_B6-0-0.npy\\n', 'C:\\\\Users\\\\pradh\\\\Downloads\\\\XDVioDet-master\\\\XDVioDet-master\\\\tratrain\\\\v=qmsQ-obL1Z4__#00-32-10_00-37-41_label_B6-0-0.npy\\n', 'C:\\\\Users\\\\pradh\\\\Downloads\\\\XDVioDet-master\\\\XDVioDet-master\\\\tratrain\\\\v=qo-ph1-SAnQ__#1_label_G-0-0.npy\\n', 'C:\\\\Users\\\\pradh\\\\Downloads\\\\XDVioDet-master\\\\XDVioDet-master\\\\tratrain\\\\v=qqsd-cZr01k__#00-00-00_00-00-51_label_B6-0-0.npy\\n', 'C:\\\\Users\\\\pradh\\\\Downloads\\\\XDVioDet-master\\\\XDVioDet-master\\\\tratrain\\\\v=qqsd-cZr01k__#00-03-00_00-04-09_label_B6-0-0.npy\\n', 'C:\\\\Users\\\\pradh\\\\Downloads\\\\XDVioDet-master\\\\XDVioDet-master\\\\tratrain\\\\v=qqsd-cZr01k__#00-04-10_00-06-09_label_B6-0-0.npy\\n', 'C:\\\\Users\\\\pradh\\\\Downloads\\\\XDVioDet-master\\\\XDVioDet-master\\\\tratrain\\\\v=qr7e5aqvNmQ__#00-00-00_00-00-51_label_B6-0-0.npy\\n', 'C:\\\\Users\\\\pradh\\\\Downloads\\\\XDVioDet-master\\\\XDVioDet-master\\\\tratrain\\\\v=qr7e5aqvNmQ__#00-01-00_00-02-45_label_B6-0-0.npy\\n', 'C:\\\\Users\\\\pradh\\\\Downloads\\\\XDVioDet-master\\\\XDVioDet-master\\\\tratrain\\\\v=qr7e5aqvNmQ__#00-03-00_00-04-09_label_B6-0-0.npy\\n', 'C:\\\\Users\\\\pradh\\\\Downloads\\\\XDVioDet-master\\\\XDVioDet-master\\\\tratrain\\\\v=qr7e5aqvNmQ__#00-04-10_00-06-09_label_B6-0-0.npy\\n', 'C:\\\\Users\\\\pradh\\\\Downloads\\\\XDVioDet-master\\\\XDVioDet-master\\\\tratrain\\\\v=qr7e5aqvNmQ__#00-06-10_00-07-19_label_B6-0-0.npy\\n', 'C:\\\\Users\\\\pradh\\\\Downloads\\\\XDVioDet-master\\\\XDVioDet-master\\\\tratrain\\\\v=qr7e5aqvNmQ__#00-08-35_00-10-05_label_B6-0-0.npy\\n', 'C:\\\\Users\\\\pradh\\\\Downloads\\\\XDVioDet-master\\\\XDVioDet-master\\\\tratrain\\\\v=qtqQeJ315nw__#1_label_B4-0-0.npy\\n', 'C:\\\\Users\\\\pradh\\\\Downloads\\\\XDVioDet-master\\\\XDVioDet-master\\\\tratrain\\\\v=r0km94VCyek__#1_label_G-0-0.npy\\n', 'C:\\\\Users\\\\pradh\\\\Downloads\\\\XDVioDet-master\\\\XDVioDet-master\\\\tratrain\\\\v=r2ihCkSMsf8__#1_label_B4-0-0.npy\\n', 'C:\\\\Users\\\\pradh\\\\Downloads\\\\XDVioDet-master\\\\XDVioDet-master\\\\tratrain\\\\v=rAfhOSNp16g__#1_label_B4-0-0.npy\\n', 'C:\\\\Users\\\\pradh\\\\Downloads\\\\XDVioDet-master\\\\XDVioDet-master\\\\tratrain\\\\v=rAlZRFZTwxM__#00-00-00_00-03-13_label_G-0-0.npy\\n', 'C:\\\\Users\\\\pradh\\\\Downloads\\\\XDVioDet-master\\\\XDVioDet-master\\\\tratrain\\\\v=rEEQXcW-M2c__#1_label_G-0-0.npy\\n', 'C:\\\\Users\\\\pradh\\\\Downloads\\\\XDVioDet-master\\\\XDVioDet-master\\\\tratrain\\\\v=rJaiUINXyiY__#1_label_B4-0-0.npy\\n', 'C:\\\\Users\\\\pradh\\\\Downloads\\\\XDVioDet-master\\\\XDVioDet-master\\\\tratrain\\\\v=rJoi8kUaFTA__#1_label_B4-0-0.npy\\n', 'C:\\\\Users\\\\pradh\\\\Downloads\\\\XDVioDet-master\\\\XDVioDet-master\\\\tratrain\\\\v=rKpXqwE2rg8__#00-00-00_00-01-57_label_B4-0-0.npy\\n', 'C:\\\\Users\\\\pradh\\\\Downloads\\\\XDVioDet-master\\\\XDVioDet-master\\\\tratrain\\\\v=rKpXqwE2rg8__#00-03-06_00-04-46_label_B4-0-0.npy\\n', 'C:\\\\Users\\\\pradh\\\\Downloads\\\\XDVioDet-master\\\\XDVioDet-master\\\\tratrain\\\\v=rKpXqwE2rg8__#00-04-46_00-06-23_label_B4-0-0.npy\\n', 'C:\\\\Users\\\\pradh\\\\Downloads\\\\XDVioDet-master\\\\XDVioDet-master\\\\tratrain\\\\v=rKpXqwE2rg8__#00-06-23_00-09-55_label_B4-0-0.npy\\n', 'C:\\\\Users\\\\pradh\\\\Downloads\\\\XDVioDet-master\\\\XDVioDet-master\\\\tratrain\\\\v=rMhEu33OqiM__#00-00-50_00-01-20_label_G-0-0.npy\\n', 'C:\\\\Users\\\\pradh\\\\Downloads\\\\XDVioDet-master\\\\XDVioDet-master\\\\tratrain\\\\v=rMhEu33OqiM__#00-01-20_00-02-20_label_G-0-0.npy\\n', 'C:\\\\Users\\\\pradh\\\\Downloads\\\\XDVioDet-master\\\\XDVioDet-master\\\\tratrain\\\\v=rMhEu33OqiM__#00-02-20_00-05-36_label_G-0-0.npy\\n', 'C:\\\\Users\\\\pradh\\\\Downloads\\\\XDVioDet-master\\\\XDVioDet-master\\\\tratrain\\\\v=rMhEu33OqiM__#00-05-36_00-07-10_label_G-0-0.npy\\n', 'C:\\\\Users\\\\pradh\\\\Downloads\\\\XDVioDet-master\\\\XDVioDet-master\\\\tratrain\\\\v=rR-F1X08BYQ__#1_label_B1-0-0.npy\\n', 'C:\\\\Users\\\\pradh\\\\Downloads\\\\XDVioDet-master\\\\XDVioDet-master\\\\tratrain\\\\v=rVZxrx_qxgA__#00-00-00_00-06-32_label_B4-0-0.npy\\n', 'C:\\\\Users\\\\pradh\\\\Downloads\\\\XDVioDet-master\\\\XDVioDet-master\\\\tratrain\\\\v=rVZxrx_qxgA__#00-06-32_00-09-55_label_B4-0-0.npy\\n', 'C:\\\\Users\\\\pradh\\\\Downloads\\\\XDVioDet-master\\\\XDVioDet-master\\\\tratrain\\\\v=rVZxrx_qxgA__#00-09-55_00-17-35_label_B4-0-0.npy\\n', 'C:\\\\Users\\\\pradh\\\\Downloads\\\\XDVioDet-master\\\\XDVioDet-master\\\\tratrain\\\\v=rWghXfI8M7I__#1_label_B1-0-0.npy\\n', 'C:\\\\Users\\\\pradh\\\\Downloads\\\\XDVioDet-master\\\\XDVioDet-master\\\\tratrain\\\\v=rZ1TjA-2vXw__#1_label_B1-0-0.npy\\n', 'C:\\\\Users\\\\pradh\\\\Downloads\\\\XDVioDet-master\\\\XDVioDet-master\\\\tratrain\\\\v=ra2N2BasBLY__#1_label_G-0-0.npy\\n', 'C:\\\\Users\\\\pradh\\\\Downloads\\\\XDVioDet-master\\\\XDVioDet-master\\\\tratrain\\\\v=raoZIWFNBos__#1_label_B4-0-0.npy\\n', 'C:\\\\Users\\\\pradh\\\\Downloads\\\\XDVioDet-master\\\\XDVioDet-master\\\\tratrain\\\\v=rcZTt_yQur8__#1_label_B1-0-0.npy\\n', 'C:\\\\Users\\\\pradh\\\\Downloads\\\\XDVioDet-master\\\\XDVioDet-master\\\\tratrain\\\\v=rcamX6oRvmg__#1_label_B1-0-0.npy\\n', 'C:\\\\Users\\\\pradh\\\\Downloads\\\\XDVioDet-master\\\\XDVioDet-master\\\\tratrain\\\\v=rg9B6MADj28__#1_label_G-0-0.npy\\n', 'C:\\\\Users\\\\pradh\\\\Downloads\\\\XDVioDet-master\\\\XDVioDet-master\\\\tratrain\\\\v=rkRicSxV0bc__#1_label_B1-0-0.npy\\n', 'C:\\\\Users\\\\pradh\\\\Downloads\\\\XDVioDet-master\\\\XDVioDet-master\\\\tratrain\\\\v=rldjZyZwUEM__#1_label_B1-0-0.npy\\n', 'C:\\\\Users\\\\pradh\\\\Downloads\\\\XDVioDet-master\\\\XDVioDet-master\\\\tratrain\\\\v=roPnnUis9mM__#1_label_G-0-0.npy\\n', 'C:\\\\Users\\\\pradh\\\\Downloads\\\\XDVioDet-master\\\\XDVioDet-master\\\\tratrain\\\\v=rshdJZruH_0__#1_label_B4-0-0.npy\\n', 'C:\\\\Users\\\\pradh\\\\Downloads\\\\XDVioDet-master\\\\XDVioDet-master\\\\tratrain\\\\v=rv0_7xq2LP4__#1_label_B1-0-0.npy\\n', 'C:\\\\Users\\\\pradh\\\\Downloads\\\\XDVioDet-master\\\\XDVioDet-master\\\\tratrain\\\\v=s1AZ_zUxzD4__#1_label_G-B2-0.npy\\n', 'C:\\\\Users\\\\pradh\\\\Downloads\\\\XDVioDet-master\\\\XDVioDet-master\\\\tratrain\\\\v=sE-DC2trBkI__#00-04-10_00-05-12_label_B6-0-0.npy\\n', 'C:\\\\Users\\\\pradh\\\\Downloads\\\\XDVioDet-master\\\\XDVioDet-master\\\\tratrain\\\\v=sE-DC2trBkI__#00-05-20_00-06-20_label_B6-0-0.npy\\n', 'C:\\\\Users\\\\pradh\\\\Downloads\\\\XDVioDet-master\\\\XDVioDet-master\\\\tratrain\\\\v=sE-DC2trBkI__#00-07-40_00-08-50_label_B6-0-0.npy\\n', 'C:\\\\Users\\\\pradh\\\\Downloads\\\\XDVioDet-master\\\\XDVioDet-master\\\\tratrain\\\\v=sM814jqUPXw__#00-00-00_00-00-51_label_B6-0-0.npy\\n', 'C:\\\\Users\\\\pradh\\\\Downloads\\\\XDVioDet-master\\\\XDVioDet-master\\\\tratrain\\\\v=sM814jqUPXw__#00-01-00_00-02-45_label_B6-0-0.npy\\n', 'C:\\\\Users\\\\pradh\\\\Downloads\\\\XDVioDet-master\\\\XDVioDet-master\\\\tratrain\\\\v=sM814jqUPXw__#00-03-00_00-04-09_label_B6-0-0.npy\\n', 'C:\\\\Users\\\\pradh\\\\Downloads\\\\XDVioDet-master\\\\XDVioDet-master\\\\tratrain\\\\v=sM814jqUPXw__#00-04-10_00-06-09_label_B6-0-0.npy\\n', 'C:\\\\Users\\\\pradh\\\\Downloads\\\\XDVioDet-master\\\\XDVioDet-master\\\\tratrain\\\\v=sM814jqUPXw__#00-06-10_00-07-51_label_B6-0-0.npy\\n', 'C:\\\\Users\\\\pradh\\\\Downloads\\\\XDVioDet-master\\\\XDVioDet-master\\\\tratrain\\\\v=sM814jqUPXw__#00-08-00_00-08-45_label_B6-0-0.npy\\n', 'C:\\\\Users\\\\pradh\\\\Downloads\\\\XDVioDet-master\\\\XDVioDet-master\\\\tratrain\\\\v=sM814jqUPXw__#00-09-00_00-10-09_label_B6-0-0.npy\\n', 'C:\\\\Users\\\\pradh\\\\Downloads\\\\XDVioDet-master\\\\XDVioDet-master\\\\tratrain\\\\v=sOd762lSarw__#00-02-05_00-03-47_label_B6-0-0.npy\\n', 'C:\\\\Users\\\\pradh\\\\Downloads\\\\XDVioDet-master\\\\XDVioDet-master\\\\tratrain\\\\v=sR-CwpipfCU__#1_label_B4-0-0.npy\\n', 'C:\\\\Users\\\\pradh\\\\Downloads\\\\XDVioDet-master\\\\XDVioDet-master\\\\tratrain\\\\v=sZJx4kyBdsw__#1_label_B4-0-0.npy\\n', 'C:\\\\Users\\\\pradh\\\\Downloads\\\\XDVioDet-master\\\\XDVioDet-master\\\\tratrain\\\\v=sa2BJKhchik__#1_label_B1-0-0.npy\\n', 'C:\\\\Users\\\\pradh\\\\Downloads\\\\XDVioDet-master\\\\XDVioDet-master\\\\tratrain\\\\v=shYGlPTHH1k__#1_label_B4-0-0.npy\\n', 'C:\\\\Users\\\\pradh\\\\Downloads\\\\XDVioDet-master\\\\XDVioDet-master\\\\tratrain\\\\v=shph7ZJb9tU__#1_label_B6-0-0.npy\\n', 'C:\\\\Users\\\\pradh\\\\Downloads\\\\XDVioDet-master\\\\XDVioDet-master\\\\tratrain\\\\v=stK3YPz6WTc__#1_label_B4-0-0.npy\\n', 'C:\\\\Users\\\\pradh\\\\Downloads\\\\XDVioDet-master\\\\XDVioDet-master\\\\tratrain\\\\v=stnhbj9k99Q__#1_label_B4-0-0.npy\\n', 'C:\\\\Users\\\\pradh\\\\Downloads\\\\XDVioDet-master\\\\XDVioDet-master\\\\tratrain\\\\v=stupPQ782U8__#00-00-00_00-02-02_label_G-B6-0.npy\\n', 'C:\\\\Users\\\\pradh\\\\Downloads\\\\XDVioDet-master\\\\XDVioDet-master\\\\tratrain\\\\v=stupPQ782U8__#00-02-02_00-04-02_label_G-B6-0.npy\\n', 'C:\\\\Users\\\\pradh\\\\Downloads\\\\XDVioDet-master\\\\XDVioDet-master\\\\tratrain\\\\v=t19kvUiHvAE__#1_label_G-0-0.npy\\n', 'C:\\\\Users\\\\pradh\\\\Downloads\\\\XDVioDet-master\\\\XDVioDet-master\\\\tratrain\\\\v=t1e7CTQ7V4A__#1_label_B1-0-0.npy\\n', 'C:\\\\Users\\\\pradh\\\\Downloads\\\\XDVioDet-master\\\\XDVioDet-master\\\\tratrain\\\\v=t1mMQU1irhk__#1_label_B4-0-0.npy\\n', 'C:\\\\Users\\\\pradh\\\\Downloads\\\\XDVioDet-master\\\\XDVioDet-master\\\\tratrain\\\\v=t4RKl9PyOfI__#1_label_G-0-0.npy\\n', 'C:\\\\Users\\\\pradh\\\\Downloads\\\\XDVioDet-master\\\\XDVioDet-master\\\\tratrain\\\\v=t6X0HTOKC24__#1_label_G-0-0.npy\\n', 'C:\\\\Users\\\\pradh\\\\Downloads\\\\XDVioDet-master\\\\XDVioDet-master\\\\tratrain\\\\v=tI0S-AcqQ1g__#1_label_B4-0-0.npy\\n', 'C:\\\\Users\\\\pradh\\\\Downloads\\\\XDVioDet-master\\\\XDVioDet-master\\\\tratrain\\\\v=tOkyWe-0ssw__#1_label_B4-0-0.npy\\n', 'C:\\\\Users\\\\pradh\\\\Downloads\\\\XDVioDet-master\\\\XDVioDet-master\\\\tratrain\\\\v=tP19WuyY3IY__#00-01-00_00-02-45_label_B6-0-0.npy\\n', 'C:\\\\Users\\\\pradh\\\\Downloads\\\\XDVioDet-master\\\\XDVioDet-master\\\\tratrain\\\\v=tP19WuyY3IY__#00-03-00_00-04-09_label_B6-0-0.npy\\n', 'C:\\\\Users\\\\pradh\\\\Downloads\\\\XDVioDet-master\\\\XDVioDet-master\\\\tratrain\\\\v=tP19WuyY3IY__#00-04-10_00-06-09_label_B6-0-0.npy\\n', 'C:\\\\Users\\\\pradh\\\\Downloads\\\\XDVioDet-master\\\\XDVioDet-master\\\\tratrain\\\\v=tP19WuyY3IY__#00-08-00_00-08-45_label_B6-0-0.npy\\n', 'C:\\\\Users\\\\pradh\\\\Downloads\\\\XDVioDet-master\\\\XDVioDet-master\\\\tratrain\\\\v=tP19WuyY3IY__#00-09-00_00-10-09_label_B6-0-0.npy\\n', 'C:\\\\Users\\\\pradh\\\\Downloads\\\\XDVioDet-master\\\\XDVioDet-master\\\\tratrain\\\\v=tP19WuyY3IY__#00-10-10_00-12-09_label_B6-0-0.npy\\n', 'C:\\\\Users\\\\pradh\\\\Downloads\\\\XDVioDet-master\\\\XDVioDet-master\\\\tratrain\\\\v=tT-SrQC6Ddw__#00-00-00_00-00-51_label_B6-0-0.npy\\n', 'C:\\\\Users\\\\pradh\\\\Downloads\\\\XDVioDet-master\\\\XDVioDet-master\\\\tratrain\\\\v=tT-SrQC6Ddw__#00-01-00_00-02-45_label_B6-0-0.npy\\n', 'C:\\\\Users\\\\pradh\\\\Downloads\\\\XDVioDet-master\\\\XDVioDet-master\\\\tratrain\\\\v=tT-SrQC6Ddw__#00-05-20_00-06-20_label_B6-0-0.npy\\n', 'C:\\\\Users\\\\pradh\\\\Downloads\\\\XDVioDet-master\\\\XDVioDet-master\\\\tratrain\\\\v=tWpXvUb6AJY__#1_label_B4-0-0.npy\\n', 'C:\\\\Users\\\\pradh\\\\Downloads\\\\XDVioDet-master\\\\XDVioDet-master\\\\tratrain\\\\v=takORXhqS_o__#1_label_B4-0-0.npy\\n', 'C:\\\\Users\\\\pradh\\\\Downloads\\\\XDVioDet-master\\\\XDVioDet-master\\\\tratrain\\\\v=tb4KREvKYBA__#00-00-00_00-13-30_label_B4-0-0.npy\\n', 'C:\\\\Users\\\\pradh\\\\Downloads\\\\XDVioDet-master\\\\XDVioDet-master\\\\tratrain\\\\v=tb4KREvKYBA__#00-13-30_00-23-20_label_B4-0-0.npy\\n', 'C:\\\\Users\\\\pradh\\\\Downloads\\\\XDVioDet-master\\\\XDVioDet-master\\\\tratrain\\\\v=tdA0bP3jIIA__#1_label_G-0-0.npy\\n', 'C:\\\\Users\\\\pradh\\\\Downloads\\\\XDVioDet-master\\\\XDVioDet-master\\\\tratrain\\\\v=tgCiC6qTtjs__#1_label_B4-0-0.npy\\n', 'C:\\\\Users\\\\pradh\\\\Downloads\\\\XDVioDet-master\\\\XDVioDet-master\\\\tratrain\\\\v=thqbWjiyGnU__#1_label_B4-0-0.npy\\n', 'C:\\\\Users\\\\pradh\\\\Downloads\\\\XDVioDet-master\\\\XDVioDet-master\\\\tratrain\\\\v=tjn5Wkn5Zfg__#1_label_B1-0-0.npy\\n', 'C:\\\\Users\\\\pradh\\\\Downloads\\\\XDVioDet-master\\\\XDVioDet-master\\\\tratrain\\\\v=tnXK_zxfpjM__#1_label_G-0-0.npy\\n', 'C:\\\\Users\\\\pradh\\\\Downloads\\\\XDVioDet-master\\\\XDVioDet-master\\\\tratrain\\\\v=tpeNwvZHRd4__#1_label_G-0-0.npy\\n', 'C:\\\\Users\\\\pradh\\\\Downloads\\\\XDVioDet-master\\\\XDVioDet-master\\\\tratrain\\\\v=txpfvf01Ojc__#00-00-00_00-04-07_label_B1-0-0.npy\\n', 'C:\\\\Users\\\\pradh\\\\Downloads\\\\XDVioDet-master\\\\XDVioDet-master\\\\tratrain\\\\v=u3TKnQb2Vi4__#1_label_B4-0-0.npy\\n', 'C:\\\\Users\\\\pradh\\\\Downloads\\\\XDVioDet-master\\\\XDVioDet-master\\\\tratrain\\\\v=u5SF4SlqNDQ__#00-03-41_00-05-54_label_G-0-0.npy\\n', 'C:\\\\Users\\\\pradh\\\\Downloads\\\\XDVioDet-master\\\\XDVioDet-master\\\\tratrain\\\\v=u5SF4SlqNDQ__#00-09-20_00-10-28_label_G-0-0.npy\\n', 'C:\\\\Users\\\\pradh\\\\Downloads\\\\XDVioDet-master\\\\XDVioDet-master\\\\tratrain\\\\v=uBXprlsmd18__#00-00-00_00-00-51_label_B6-0-0.npy\\n', 'C:\\\\Users\\\\pradh\\\\Downloads\\\\XDVioDet-master\\\\XDVioDet-master\\\\tratrain\\\\v=uBXprlsmd18__#00-01-00_00-02-45_label_B6-0-0.npy\\n', 'C:\\\\Users\\\\pradh\\\\Downloads\\\\XDVioDet-master\\\\XDVioDet-master\\\\tratrain\\\\v=uBXprlsmd18__#00-04-10_00-06-09_label_B6-0-0.npy\\n', 'C:\\\\Users\\\\pradh\\\\Downloads\\\\XDVioDet-master\\\\XDVioDet-master\\\\tratrain\\\\v=uBXprlsmd18__#00-08-35_00-10-25_label_B6-0-0.npy\\n', 'C:\\\\Users\\\\pradh\\\\Downloads\\\\XDVioDet-master\\\\XDVioDet-master\\\\tratrain\\\\v=uBXprlsmd18__#00-10-30_00-10-51_label_B6-0-0.npy\\n', 'C:\\\\Users\\\\pradh\\\\Downloads\\\\XDVioDet-master\\\\XDVioDet-master\\\\tratrain\\\\v=uBXprlsmd18__#00-11-00_00-12-45_label_B6-0-0.npy\\n', 'C:\\\\Users\\\\pradh\\\\Downloads\\\\XDVioDet-master\\\\XDVioDet-master\\\\tratrain\\\\v=uBXprlsmd18__#00-13-00_00-14-09_label_B6-0-0.npy\\n', 'C:\\\\Users\\\\pradh\\\\Downloads\\\\XDVioDet-master\\\\XDVioDet-master\\\\tratrain\\\\v=uBXprlsmd18__#00-14-10_00-16-09_label_B6-0-0.npy\\n', 'C:\\\\Users\\\\pradh\\\\Downloads\\\\XDVioDet-master\\\\XDVioDet-master\\\\tratrain\\\\v=uBXprlsmd18__#00-16-10_00-20-09_label_B6-0-0.npy\\n', 'C:\\\\Users\\\\pradh\\\\Downloads\\\\XDVioDet-master\\\\XDVioDet-master\\\\tratrain\\\\v=uBXprlsmd18__#00-20-10_00-23-09_label_B6-0-0.npy\\n', 'C:\\\\Users\\\\pradh\\\\Downloads\\\\XDVioDet-master\\\\XDVioDet-master\\\\tratrain\\\\v=uFqzWIIfupo__#1_label_B1-0-0.npy\\n', 'C:\\\\Users\\\\pradh\\\\Downloads\\\\XDVioDet-master\\\\XDVioDet-master\\\\tratrain\\\\v=uH74IjVj1IU__#1_label_B4-0-0.npy\\n', 'C:\\\\Users\\\\pradh\\\\Downloads\\\\XDVioDet-master\\\\XDVioDet-master\\\\tratrain\\\\v=uKM_o9F6lDQ__#1_label_B4-0-0.npy\\n', 'C:\\\\Users\\\\pradh\\\\Downloads\\\\XDVioDet-master\\\\XDVioDet-master\\\\tratrain\\\\v=uO9coydHA3k__#1_label_B1-B2-0.npy\\n', 'C:\\\\Users\\\\pradh\\\\Downloads\\\\XDVioDet-master\\\\XDVioDet-master\\\\tratrain\\\\v=uZFNy8vXEVM__#1_label_G-0-0.npy\\n', 'C:\\\\Users\\\\pradh\\\\Downloads\\\\XDVioDet-master\\\\XDVioDet-master\\\\tratrain\\\\v=uhyNtgBUXHE__#1_label_B4-0-0.npy\\n', 'C:\\\\Users\\\\pradh\\\\Downloads\\\\XDVioDet-master\\\\XDVioDet-master\\\\tratrain\\\\v=upXtunPlmQo__#1_label_B1-0-0.npy\\n', 'C:\\\\Users\\\\pradh\\\\Downloads\\\\XDVioDet-master\\\\XDVioDet-master\\\\tratrain\\\\v=uprb6aBzymw__#00-00-00_00-00-58_label_B4-0-0.npy\\n', 'C:\\\\Users\\\\pradh\\\\Downloads\\\\XDVioDet-master\\\\XDVioDet-master\\\\tratrain\\\\v=uprb6aBzymw__#00-00-58_00-01-51_label_B4-0-0.npy\\n', 'C:\\\\Users\\\\pradh\\\\Downloads\\\\XDVioDet-master\\\\XDVioDet-master\\\\tratrain\\\\v=uprb6aBzymw__#00-01-51_00-03-03_label_B4-0-0.npy\\n', 'C:\\\\Users\\\\pradh\\\\Downloads\\\\XDVioDet-master\\\\XDVioDet-master\\\\tratrain\\\\v=urwk_pbGpOE__#1_label_B1-0-0.npy\\n', 'C:\\\\Users\\\\pradh\\\\Downloads\\\\XDVioDet-master\\\\XDVioDet-master\\\\tratrain\\\\v=uzBQ0QR1jCE__#00-00-00_00-01-00_label_G-0-0.npy\\n', 'C:\\\\Users\\\\pradh\\\\Downloads\\\\XDVioDet-master\\\\XDVioDet-master\\\\tratrain\\\\v=v4kH4NKp8CU__#1_label_B4-0-0.npy\\n', 'C:\\\\Users\\\\pradh\\\\Downloads\\\\XDVioDet-master\\\\XDVioDet-master\\\\tratrain\\\\v=v7eS4xxD0ag__#1_label_B4-0-0.npy\\n', 'C:\\\\Users\\\\pradh\\\\Downloads\\\\XDVioDet-master\\\\XDVioDet-master\\\\tratrain\\\\v=vAucGlR_2iU__#1_label_B1-0-0.npy\\n', 'C:\\\\Users\\\\pradh\\\\Downloads\\\\XDVioDet-master\\\\XDVioDet-master\\\\tratrain\\\\v=vC1BpmubbW4__#1_label_B4-0-0.npy\\n', 'C:\\\\Users\\\\pradh\\\\Downloads\\\\XDVioDet-master\\\\XDVioDet-master\\\\tratrain\\\\v=vM1c_58e6jk__#1_label_B4-0-0.npy\\n', 'C:\\\\Users\\\\pradh\\\\Downloads\\\\XDVioDet-master\\\\XDVioDet-master\\\\tratrain\\\\v=vS_RKwCYcl8__#1_label_B4-0-0.npy\\n', 'C:\\\\Users\\\\pradh\\\\Downloads\\\\XDVioDet-master\\\\XDVioDet-master\\\\tratrain\\\\v=vh9jh5aAcS4__#1_label_G-0-0.npy\\n', 'C:\\\\Users\\\\pradh\\\\Downloads\\\\XDVioDet-master\\\\XDVioDet-master\\\\tratrain\\\\v=vhACO_m5pH0__#00-00-00_00-00-51_label_B6-0-0.npy\\n', 'C:\\\\Users\\\\pradh\\\\Downloads\\\\XDVioDet-master\\\\XDVioDet-master\\\\tratrain\\\\v=vhACO_m5pH0__#00-01-00_00-02-45_label_B6-0-0.npy\\n', 'C:\\\\Users\\\\pradh\\\\Downloads\\\\XDVioDet-master\\\\XDVioDet-master\\\\tratrain\\\\v=vhACO_m5pH0__#00-03-00_00-03-55_label_B6-0-0.npy\\n', 'C:\\\\Users\\\\pradh\\\\Downloads\\\\XDVioDet-master\\\\XDVioDet-master\\\\tratrain\\\\v=vhACO_m5pH0__#00-04-00_00-05-15_label_B6-0-0.npy\\n', 'C:\\\\Users\\\\pradh\\\\Downloads\\\\XDVioDet-master\\\\XDVioDet-master\\\\tratrain\\\\v=vhACO_m5pH0__#00-05-20_00-06-40_label_B6-0-0.npy\\n', 'C:\\\\Users\\\\pradh\\\\Downloads\\\\XDVioDet-master\\\\XDVioDet-master\\\\tratrain\\\\v=vhACO_m5pH0__#00-06-50_00-07-40_label_B6-0-0.npy\\n', 'C:\\\\Users\\\\pradh\\\\Downloads\\\\XDVioDet-master\\\\XDVioDet-master\\\\tratrain\\\\v=vhACO_m5pH0__#00-07-55_00-08-40_label_B6-0-0.npy\\n', 'C:\\\\Users\\\\pradh\\\\Downloads\\\\XDVioDet-master\\\\XDVioDet-master\\\\tratrain\\\\v=vhACO_m5pH0__#00-08-42_00-09-40_label_B6-0-0.npy\\n', 'C:\\\\Users\\\\pradh\\\\Downloads\\\\XDVioDet-master\\\\XDVioDet-master\\\\tratrain\\\\v=vhACO_m5pH0__#00-11-42_00-12-40_label_B6-0-0.npy\\n', 'C:\\\\Users\\\\pradh\\\\Downloads\\\\XDVioDet-master\\\\XDVioDet-master\\\\tratrain\\\\v=vhACO_m5pH0__#00-12-42_00-13-40_label_B6-0-0.npy\\n', 'C:\\\\Users\\\\pradh\\\\Downloads\\\\XDVioDet-master\\\\XDVioDet-master\\\\tratrain\\\\v=vhACO_m5pH0__#00-13-42_00-14-40_label_B6-0-0.npy\\n', 'C:\\\\Users\\\\pradh\\\\Downloads\\\\XDVioDet-master\\\\XDVioDet-master\\\\tratrain\\\\v=vhACO_m5pH0__#00-15-42_00-17-40_label_B6-0-0.npy\\n', 'C:\\\\Users\\\\pradh\\\\Downloads\\\\XDVioDet-master\\\\XDVioDet-master\\\\tratrain\\\\v=vhACO_m5pH0__#00-18-42_00-20-40_label_B6-0-0.npy\\n', 'C:\\\\Users\\\\pradh\\\\Downloads\\\\XDVioDet-master\\\\XDVioDet-master\\\\tratrain\\\\v=vhACO_m5pH0__#00-22-42_00-24-10_label_B6-0-0.npy\\n', 'C:\\\\Users\\\\pradh\\\\Downloads\\\\XDVioDet-master\\\\XDVioDet-master\\\\tratrain\\\\v=vqW0LEcTAYg__#1_label_G-0-0.npy\\n', 'C:\\\\Users\\\\pradh\\\\Downloads\\\\XDVioDet-master\\\\XDVioDet-master\\\\tratrain\\\\v=wBAnZB5HQWw__#1_label_B1-0-0.npy\\n', 'C:\\\\Users\\\\pradh\\\\Downloads\\\\XDVioDet-master\\\\XDVioDet-master\\\\tratrain\\\\v=wH_2Roelsw4__#1_label_B4-0-0.npy\\n', 'C:\\\\Users\\\\pradh\\\\Downloads\\\\XDVioDet-master\\\\XDVioDet-master\\\\tratrain\\\\v=wJWITsqfi5U__#1_label_B1-0-0.npy\\n', 'C:\\\\Users\\\\pradh\\\\Downloads\\\\XDVioDet-master\\\\XDVioDet-master\\\\tratrain\\\\v=wJrrJYEJKYs__#1_label_B4-0-0.npy\\n', 'C:\\\\Users\\\\pradh\\\\Downloads\\\\XDVioDet-master\\\\XDVioDet-master\\\\tratrain\\\\v=wKwGbowg6a0__#1_label_B4-0-0.npy\\n', 'C:\\\\Users\\\\pradh\\\\Downloads\\\\XDVioDet-master\\\\XDVioDet-master\\\\tratrain\\\\v=wPkBaI6vOv0__#00-03-28_00-03-48_label_G-0-0.npy\\n', 'C:\\\\Users\\\\pradh\\\\Downloads\\\\XDVioDet-master\\\\XDVioDet-master\\\\tratrain\\\\v=wPkBaI6vOv0__#00-08-53_00-09-44_label_G-0-0.npy\\n', 'C:\\\\Users\\\\pradh\\\\Downloads\\\\XDVioDet-master\\\\XDVioDet-master\\\\tratrain\\\\v=wVey5JDRf_g__#00-02-51_00-04-08_label_B6-0-0.npy\\n', 'C:\\\\Users\\\\pradh\\\\Downloads\\\\XDVioDet-master\\\\XDVioDet-master\\\\tratrain\\\\v=wXjRmA91RGo__#1_label_B1-0-0.npy\\n', 'C:\\\\Users\\\\pradh\\\\Downloads\\\\XDVioDet-master\\\\XDVioDet-master\\\\tratrain\\\\v=weOhgv-3OhM__#1_label_B4-0-0.npy\\n', 'C:\\\\Users\\\\pradh\\\\Downloads\\\\XDVioDet-master\\\\XDVioDet-master\\\\tratrain\\\\v=whjDTmM8Xg8__#1_label_B4-0-0.npy\\n', 'C:\\\\Users\\\\pradh\\\\Downloads\\\\XDVioDet-master\\\\XDVioDet-master\\\\tratrain\\\\v=wt84M1PB1yY__#1_label_B4-0-0.npy\\n', 'C:\\\\Users\\\\pradh\\\\Downloads\\\\XDVioDet-master\\\\XDVioDet-master\\\\tratrain\\\\v=wuhoY9su8X8__#1_label_G-0-0.npy\\n', 'C:\\\\Users\\\\pradh\\\\Downloads\\\\XDVioDet-master\\\\XDVioDet-master\\\\tratrain\\\\v=x4o5-WFBHCY__#1_label_B6-0-0.npy\\n', 'C:\\\\Users\\\\pradh\\\\Downloads\\\\XDVioDet-master\\\\XDVioDet-master\\\\tratrain\\\\v=xCl5F043ClM__#1_label_B4-0-0.npy\\n', 'C:\\\\Users\\\\pradh\\\\Downloads\\\\XDVioDet-master\\\\XDVioDet-master\\\\tratrain\\\\v=xGN2-m_qqBc__#1_label_B1-0-0.npy\\n', 'C:\\\\Users\\\\pradh\\\\Downloads\\\\XDVioDet-master\\\\XDVioDet-master\\\\tratrain\\\\v=xLFbqPzSI2Y__#1_label_B4-0-0.npy\\n', 'C:\\\\Users\\\\pradh\\\\Downloads\\\\XDVioDet-master\\\\XDVioDet-master\\\\tratrain\\\\v=xLIvJqv7Mxo__#1_label_G-0-0.npy\\n', 'C:\\\\Users\\\\pradh\\\\Downloads\\\\XDVioDet-master\\\\XDVioDet-master\\\\tratrain\\\\v=xPpdo_SnPsU__#1_label_B4-0-0.npy\\n', 'C:\\\\Users\\\\pradh\\\\Downloads\\\\XDVioDet-master\\\\XDVioDet-master\\\\tratrain\\\\v=xRI9hkXy-48__#1_label_G-0-0.npy\\n', 'C:\\\\Users\\\\pradh\\\\Downloads\\\\XDVioDet-master\\\\XDVioDet-master\\\\tratrain\\\\v=x_Uc50OGPw4__#1_label_B6-0-0.npy\\n', 'C:\\\\Users\\\\pradh\\\\Downloads\\\\XDVioDet-master\\\\XDVioDet-master\\\\tratrain\\\\v=xgN5xLU3OBs__#1_label_B4-0-0.npy\\n', 'C:\\\\Users\\\\pradh\\\\Downloads\\\\XDVioDet-master\\\\XDVioDet-master\\\\tratrain\\\\v=xgr6p8L4emY__#1_label_B1-0-0.npy\\n', 'C:\\\\Users\\\\pradh\\\\Downloads\\\\XDVioDet-master\\\\XDVioDet-master\\\\tratrain\\\\v=xm1aLLUp4Fg__#1_label_B4-0-0.npy\\n', 'C:\\\\Users\\\\pradh\\\\Downloads\\\\XDVioDet-master\\\\XDVioDet-master\\\\tratrain\\\\v=xo7cHHk2vQw__#1_label_B1-0-0.npy\\n', 'C:\\\\Users\\\\pradh\\\\Downloads\\\\XDVioDet-master\\\\XDVioDet-master\\\\tratrain\\\\v=y--E2E8k3TM__#1_label_G-0-0.npy\\n', 'C:\\\\Users\\\\pradh\\\\Downloads\\\\XDVioDet-master\\\\XDVioDet-master\\\\tratrain\\\\v=y5xKCzdhAC8__#1_label_G-0-0.npy\\n', 'C:\\\\Users\\\\pradh\\\\Downloads\\\\XDVioDet-master\\\\XDVioDet-master\\\\tratrain\\\\v=y6nWCMYkY-I__#1_label_B4-0-0.npy\\n', 'C:\\\\Users\\\\pradh\\\\Downloads\\\\XDVioDet-master\\\\XDVioDet-master\\\\tratrain\\\\v=y7JEq-kf-2I__#00-06-50_00-07-24_label_B6-0-0.npy\\n', 'C:\\\\Users\\\\pradh\\\\Downloads\\\\XDVioDet-master\\\\XDVioDet-master\\\\tratrain\\\\v=y8lB9ThlZLg__#1_label_B4-0-0.npy\\n', 'C:\\\\Users\\\\pradh\\\\Downloads\\\\XDVioDet-master\\\\XDVioDet-master\\\\tratrain\\\\v=yJ6mgj3ibT8__#1_label_B1-0-0.npy\\n', 'C:\\\\Users\\\\pradh\\\\Downloads\\\\XDVioDet-master\\\\XDVioDet-master\\\\tratrain\\\\v=yNpCNkHcGTs__#1_label_B1-0-0.npy\\n', 'C:\\\\Users\\\\pradh\\\\Downloads\\\\XDVioDet-master\\\\XDVioDet-master\\\\tratrain\\\\v=yOJe0-5FlRc__#1_label_G-0-0.npy\\n', 'C:\\\\Users\\\\pradh\\\\Downloads\\\\XDVioDet-master\\\\XDVioDet-master\\\\tratrain\\\\v=y_zCyC8KDx8__#1_label_B1-0-0.npy\\n', 'C:\\\\Users\\\\pradh\\\\Downloads\\\\XDVioDet-master\\\\XDVioDet-master\\\\tratrain\\\\v=ycwXaZK_Wf0__#1_label_B4-0-0.npy\\n', 'C:\\\\Users\\\\pradh\\\\Downloads\\\\XDVioDet-master\\\\XDVioDet-master\\\\tratrain\\\\v=ydebjwIVebI__#1_label_B1-0-0.npy\\n', 'C:\\\\Users\\\\pradh\\\\Downloads\\\\XDVioDet-master\\\\XDVioDet-master\\\\tratrain\\\\v=yeAgzCTAY1I__#1_label_G-0-0.npy\\n', 'C:\\\\Users\\\\pradh\\\\Downloads\\\\XDVioDet-master\\\\XDVioDet-master\\\\tratrain\\\\v=yrzZKplTKcE__#1_label_B4-0-0.npy\\n', 'C:\\\\Users\\\\pradh\\\\Downloads\\\\XDVioDet-master\\\\XDVioDet-master\\\\tratrain\\\\v=yy-KIWDcBr4__#00-00-00_00-00-51_label_B6-0-0.npy\\n', 'C:\\\\Users\\\\pradh\\\\Downloads\\\\XDVioDet-master\\\\XDVioDet-master\\\\tratrain\\\\v=yy-KIWDcBr4__#00-01-00_00-02-45_label_B6-0-0.npy\\n', 'C:\\\\Users\\\\pradh\\\\Downloads\\\\XDVioDet-master\\\\XDVioDet-master\\\\tratrain\\\\v=yy-KIWDcBr4__#00-03-00_00-04-09_label_B6-0-0.npy\\n', 'C:\\\\Users\\\\pradh\\\\Downloads\\\\XDVioDet-master\\\\XDVioDet-master\\\\tratrain\\\\v=yy-KIWDcBr4__#00-04-10_00-06-09_label_B6-0-0.npy\\n', 'C:\\\\Users\\\\pradh\\\\Downloads\\\\XDVioDet-master\\\\XDVioDet-master\\\\tratrain\\\\v=yy-KIWDcBr4__#00-06-10_00-07-19_label_B6-0-0.npy\\n', 'C:\\\\Users\\\\pradh\\\\Downloads\\\\XDVioDet-master\\\\XDVioDet-master\\\\tratrain\\\\v=yy-KIWDcBr4__#00-07-22_00-08-19_label_B6-0-0.npy\\n', 'C:\\\\Users\\\\pradh\\\\Downloads\\\\XDVioDet-master\\\\XDVioDet-master\\\\tratrain\\\\v=yy-KIWDcBr4__#00-11-00_00-12-45_label_B6-0-0.npy\\n', 'C:\\\\Users\\\\pradh\\\\Downloads\\\\XDVioDet-master\\\\XDVioDet-master\\\\tratrain\\\\v=yy-KIWDcBr4__#00-13-00_00-14-09_label_B6-0-0.npy\\n', 'C:\\\\Users\\\\pradh\\\\Downloads\\\\XDVioDet-master\\\\XDVioDet-master\\\\tratrain\\\\v=yy-KIWDcBr4__#00-14-10_00-16-09_label_B6-0-0.npy\\n', 'C:\\\\Users\\\\pradh\\\\Downloads\\\\XDVioDet-master\\\\XDVioDet-master\\\\tratrain\\\\v=zEplj_Ap7H0__#1_label_B1-0-0.npy\\n', 'C:\\\\Users\\\\pradh\\\\Downloads\\\\XDVioDet-master\\\\XDVioDet-master\\\\tratrain\\\\v=zQNIOEOp63k__#1_label_B4-0-0.npy\\n', 'C:\\\\Users\\\\pradh\\\\Downloads\\\\XDVioDet-master\\\\XDVioDet-master\\\\tratrain\\\\v=zkp4sL7XBh4__#1_label_B4-0-0.npy\\n', 'C:\\\\Users\\\\pradh\\\\Downloads\\\\XDVioDet-master\\\\XDVioDet-master\\\\tratrain\\\\v=zlKoID_9yvE__#1_label_G-0-0.npy\\n', 'C:\\\\Users\\\\pradh\\\\Downloads\\\\XDVioDet-master\\\\XDVioDet-master\\\\tratrain\\\\v=zoIn2hOrUIM__#00-00-00_00-00-51_label_B6-0-0.npy\\n', 'C:\\\\Users\\\\pradh\\\\Downloads\\\\XDVioDet-master\\\\XDVioDet-master\\\\tratrain\\\\v=zoIn2hOrUIM__#00-03-00_00-04-09_label_B6-0-0.npy\\n', 'C:\\\\Users\\\\pradh\\\\Downloads\\\\XDVioDet-master\\\\XDVioDet-master\\\\tratrain\\\\v=zoIn2hOrUIM__#00-04-10_00-06-09_label_B6-0-0.npy\\n', 'C:\\\\Users\\\\pradh\\\\Downloads\\\\XDVioDet-master\\\\XDVioDet-master\\\\tratrain\\\\v=zoIn2hOrUIM__#00-07-22_00-08-19_label_B6-0-0.npy\\n', 'C:\\\\Users\\\\pradh\\\\Downloads\\\\XDVioDet-master\\\\XDVioDet-master\\\\tratrain\\\\v=zpBlI-nmf_A__#1_label_B1-0-0.npy\\n', 'C:\\\\Users\\\\pradh\\\\Downloads\\\\XDVioDet-master\\\\XDVioDet-master\\\\tratrain\\\\v=zqC6B9K8-40__#1_label_B1-0-0.npy\\n', 'C:\\\\Users\\\\pradh\\\\Downloads\\\\XDVioDet-master\\\\XDVioDet-master\\\\tratrain\\\\v=zqFm52C1n5Q__#1_label_G-0-0.npy\\n', 'C:\\\\Users\\\\pradh\\\\Downloads\\\\XDVioDet-master\\\\XDVioDet-master\\\\tratrain\\\\v=zrexlA7wFxE__#1_label_G-0-0.npy\\n', 'C:\\\\Users\\\\pradh\\\\Downloads\\\\XDVioDet-master\\\\XDVioDet-master\\\\tratrain\\\\v=zzxg8qfqQPA__#1_label_B1-0-0.npy\\n', 'C:\\\\Users\\\\pradh\\\\Downloads\\\\XDVioDet-master\\\\XDVioDet-master\\\\tratrain\\\\wangted.2008__#0-03-56_0-04-25_label_B2-0-0.npy\\n', 'C:\\\\Users\\\\pradh\\\\Downloads\\\\XDVioDet-master\\\\XDVioDet-master\\\\tratrain\\\\wangted.2008__#0-04-55_0-05-58_label_B2-0-0.npy\\n', 'C:\\\\Users\\\\pradh\\\\Downloads\\\\XDVioDet-master\\\\XDVioDet-master\\\\tratrain\\\\wangted.2008__#0-14-01_0-20-25_label_B2-B6-0.npy\\n', 'C:\\\\Users\\\\pradh\\\\Downloads\\\\XDVioDet-master\\\\XDVioDet-master\\\\tratrain\\\\wangted.2008__#0-30-23_0-30-41_label_B1-0-0.npy\\n', 'C:\\\\Users\\\\pradh\\\\Downloads\\\\XDVioDet-master\\\\XDVioDet-master\\\\tratrain\\\\wangted.2008__#0-35-20_0-36-50_label_B5-0-0.npy\\n', 'C:\\\\Users\\\\pradh\\\\Downloads\\\\XDVioDet-master\\\\XDVioDet-master\\\\tratrain\\\\wangted.2008__#0-39-22_0-39-34_label_B2-0-0.npy\\n', 'C:\\\\Users\\\\pradh\\\\Downloads\\\\XDVioDet-master\\\\XDVioDet-master\\\\tratrain\\\\wangted.2008__#0-44-27_0-44-44_label_G-0-0.npy\\n', 'C:\\\\Users\\\\pradh\\\\Downloads\\\\XDVioDet-master\\\\XDVioDet-master\\\\tratrain\\\\wangted.2008__#0-49-52_0-50-47_label_B1-B5-0.npy\\n', 'C:\\\\Users\\\\pradh\\\\Downloads\\\\XDVioDet-master\\\\XDVioDet-master\\\\tratrain\\\\wangted.2008__#01-02-12_01-02-32_label_B2-0-0.npy\\n', 'C:\\\\Users\\\\pradh\\\\Downloads\\\\XDVioDet-master\\\\XDVioDet-master\\\\tratrain\\\\wangted.2008__#01-04-32_01-06-49_label_B2-0-0.npy\\n', 'C:\\\\Users\\\\pradh\\\\Downloads\\\\XDVioDet-master\\\\XDVioDet-master\\\\tratrain\\\\wangted.2008__#01-14-14_01-18-27_label_B1-B2-B6.npy\\n', 'C:\\\\Users\\\\pradh\\\\Downloads\\\\XDVioDet-master\\\\XDVioDet-master\\\\tratrain\\\\wangted.2008__#01-27-20_01-28-20_label_B2-B6-0.npy\\n', 'C:\\\\Users\\\\pradh\\\\Downloads\\\\XDVioDet-master\\\\XDVioDet-master\\\\tratrain\\\\wangted.2008__#01-28-40_01-31-51_label_G-B2-0.npy\\n', 'C:\\\\Users\\\\pradh\\\\Downloads\\\\XDVioDet-master\\\\XDVioDet-master\\\\tratrain\\\\wangted.2008__#01-32-25_01-33-30_label_B1-B2-0.npy\\n', 'C:\\\\Users\\\\pradh\\\\Downloads\\\\XDVioDet-master\\\\XDVioDet-master\\\\tratrain\\\\A.Beautiful.Mind.2001__#00-01-45_00-02-50_label_A.npy\\n', 'C:\\\\Users\\\\pradh\\\\Downloads\\\\XDVioDet-master\\\\XDVioDet-master\\\\tratrain\\\\A.Beautiful.Mind.2001__#00-03-00_00-04-05_label_A.npy\\n', 'C:\\\\Users\\\\pradh\\\\Downloads\\\\XDVioDet-master\\\\XDVioDet-master\\\\tratrain\\\\A.Beautiful.Mind.2001__#00-04-20_00-05-35_label_A.npy\\n', 'C:\\\\Users\\\\pradh\\\\Downloads\\\\XDVioDet-master\\\\XDVioDet-master\\\\tratrain\\\\A.Beautiful.Mind.2001__#00-05-52_00-08-22_label_A.npy\\n', 'C:\\\\Users\\\\pradh\\\\Downloads\\\\XDVioDet-master\\\\XDVioDet-master\\\\tratrain\\\\A.Beautiful.Mind.2001__#00-08-55_00-10-50_label_A.npy\\n', 'C:\\\\Users\\\\pradh\\\\Downloads\\\\XDVioDet-master\\\\XDVioDet-master\\\\tratrain\\\\A.Beautiful.Mind.2001__#00-16-18_00-17-09_label_A.npy\\n', 'C:\\\\Users\\\\pradh\\\\Downloads\\\\XDVioDet-master\\\\XDVioDet-master\\\\tratrain\\\\A.Beautiful.Mind.2001__#00-20-35_00-23-06_label_A.npy\\n', 'C:\\\\Users\\\\pradh\\\\Downloads\\\\XDVioDet-master\\\\XDVioDet-master\\\\tratrain\\\\A.Beautiful.Mind.2001__#00-23-50_00-24-31_label_A.npy\\n', 'C:\\\\Users\\\\pradh\\\\Downloads\\\\XDVioDet-master\\\\XDVioDet-master\\\\tratrain\\\\A.Beautiful.Mind.2001__#00-31-05_00-32-05_label_A.npy\\n', 'C:\\\\Users\\\\pradh\\\\Downloads\\\\XDVioDet-master\\\\XDVioDet-master\\\\tratrain\\\\A.Beautiful.Mind.2001__#00-32-07_00-36-45_label_A.npy\\n', 'C:\\\\Users\\\\pradh\\\\Downloads\\\\XDVioDet-master\\\\XDVioDet-master\\\\tratrain\\\\A.Beautiful.Mind.2001__#00-37-40_00-40-31_label_A.npy\\n', 'C:\\\\Users\\\\pradh\\\\Downloads\\\\XDVioDet-master\\\\XDVioDet-master\\\\tratrain\\\\A.Beautiful.Mind.2001__#00-42-52_00-45-31_label_A.npy\\n', 'C:\\\\Users\\\\pradh\\\\Downloads\\\\XDVioDet-master\\\\XDVioDet-master\\\\tratrain\\\\A.Beautiful.Mind.2001__#00-45-40_00-47-30_label_A.npy\\n', 'C:\\\\Users\\\\pradh\\\\Downloads\\\\XDVioDet-master\\\\XDVioDet-master\\\\tratrain\\\\A.Beautiful.Mind.2001__#00-57-20_00-58-17_label_A.npy\\n', 'C:\\\\Users\\\\pradh\\\\Downloads\\\\XDVioDet-master\\\\XDVioDet-master\\\\tratrain\\\\A.Beautiful.Mind.2001__#00-58-18_01-02-30_label_A.npy\\n', 'C:\\\\Users\\\\pradh\\\\Downloads\\\\XDVioDet-master\\\\XDVioDet-master\\\\tratrain\\\\A.Beautiful.Mind.2001__#01-21-22_01-25-40_label_A.npy\\n', 'C:\\\\Users\\\\pradh\\\\Downloads\\\\XDVioDet-master\\\\XDVioDet-master\\\\tratrain\\\\A.Beautiful.Mind.2001__#01-26-10_01-28-00_label_A.npy\\n', 'C:\\\\Users\\\\pradh\\\\Downloads\\\\XDVioDet-master\\\\XDVioDet-master\\\\tratrain\\\\A.Beautiful.Mind.2001__#01-29-31_01-31-00_label_A.npy\\n', 'C:\\\\Users\\\\pradh\\\\Downloads\\\\XDVioDet-master\\\\XDVioDet-master\\\\tratrain\\\\A.Beautiful.Mind.2001__#01-39-05_01-41-00_label_A.npy\\n', 'C:\\\\Users\\\\pradh\\\\Downloads\\\\XDVioDet-master\\\\XDVioDet-master\\\\tratrain\\\\A.Beautiful.Mind.2001__#01-42-06_01-45-53_label_A.npy\\n', 'C:\\\\Users\\\\pradh\\\\Downloads\\\\XDVioDet-master\\\\XDVioDet-master\\\\tratrain\\\\A.Beautiful.Mind.2001__#01-46-20_01-48-10_label_A.npy\\n', 'C:\\\\Users\\\\pradh\\\\Downloads\\\\XDVioDet-master\\\\XDVioDet-master\\\\tratrain\\\\A.Beautiful.Mind.2001__#01-50-50_01-52-00_label_A.npy\\n', 'C:\\\\Users\\\\pradh\\\\Downloads\\\\XDVioDet-master\\\\XDVioDet-master\\\\tratrain\\\\A.Beautiful.Mind.2001__#01-52-20_01-58-00_label_A.npy\\n', 'C:\\\\Users\\\\pradh\\\\Downloads\\\\XDVioDet-master\\\\XDVioDet-master\\\\tratrain\\\\A.Beautiful.Mind.2001__#01-58-20_02-05-00_label_A.npy\\n', 'C:\\\\Users\\\\pradh\\\\Downloads\\\\XDVioDet-master\\\\XDVioDet-master\\\\tratrain\\\\About.Time.2013__#00-01-45_00-02-15_label_A.npy\\n', 'C:\\\\Users\\\\pradh\\\\Downloads\\\\XDVioDet-master\\\\XDVioDet-master\\\\tratrain\\\\About.Time.2013__#00-04-20_00-05-35_label_A.npy\\n', 'C:\\\\Users\\\\pradh\\\\Downloads\\\\XDVioDet-master\\\\XDVioDet-master\\\\tratrain\\\\About.Time.2013__#00-05-52_00-08-22_label_A.npy\\n', 'C:\\\\Users\\\\pradh\\\\Downloads\\\\XDVioDet-master\\\\XDVioDet-master\\\\tratrain\\\\About.Time.2013__#00-08-55_00-10-50_label_A.npy\\n', 'C:\\\\Users\\\\pradh\\\\Downloads\\\\XDVioDet-master\\\\XDVioDet-master\\\\tratrain\\\\About.Time.2013__#00-11-00_00-15-08_label_A.npy\\n', 'C:\\\\Users\\\\pradh\\\\Downloads\\\\XDVioDet-master\\\\XDVioDet-master\\\\tratrain\\\\About.Time.2013__#00-16-18_00-17-27_label_A.npy\\n', 'C:\\\\Users\\\\pradh\\\\Downloads\\\\XDVioDet-master\\\\XDVioDet-master\\\\tratrain\\\\About.Time.2013__#00-17-30_00-19-10_label_A.npy\\n', 'C:\\\\Users\\\\pradh\\\\Downloads\\\\XDVioDet-master\\\\XDVioDet-master\\\\tratrain\\\\About.Time.2013__#00-20-35_00-23-06_label_A.npy\\n', 'C:\\\\Users\\\\pradh\\\\Downloads\\\\XDVioDet-master\\\\XDVioDet-master\\\\tratrain\\\\About.Time.2013__#00-25-20_00-29-40_label_A.npy\\n', 'C:\\\\Users\\\\pradh\\\\Downloads\\\\XDVioDet-master\\\\XDVioDet-master\\\\tratrain\\\\About.Time.2013__#00-33-52_00-38-31_label_A.npy\\n', 'C:\\\\Users\\\\pradh\\\\Downloads\\\\XDVioDet-master\\\\XDVioDet-master\\\\tratrain\\\\About.Time.2013__#00-38-52_00-40-31_label_A.npy\\n', 'C:\\\\Users\\\\pradh\\\\Downloads\\\\XDVioDet-master\\\\XDVioDet-master\\\\tratrain\\\\About.Time.2013__#00-42-52_00-45-31_label_A.npy\\n', 'C:\\\\Users\\\\pradh\\\\Downloads\\\\XDVioDet-master\\\\XDVioDet-master\\\\tratrain\\\\About.Time.2013__#00-45-40_00-47-30_label_A.npy\\n', 'C:\\\\Users\\\\pradh\\\\Downloads\\\\XDVioDet-master\\\\XDVioDet-master\\\\tratrain\\\\About.Time.2013__#00-49-48_00-51-12_label_A.npy\\n', 'C:\\\\Users\\\\pradh\\\\Downloads\\\\XDVioDet-master\\\\XDVioDet-master\\\\tratrain\\\\About.Time.2013__#00-51-55_00-55-16_label_A.npy\\n', 'C:\\\\Users\\\\pradh\\\\Downloads\\\\XDVioDet-master\\\\XDVioDet-master\\\\tratrain\\\\About.Time.2013__#00-56-40_01-02-02_label_A.npy\\n', 'C:\\\\Users\\\\pradh\\\\Downloads\\\\XDVioDet-master\\\\XDVioDet-master\\\\tratrain\\\\About.Time.2013__#01-02-18_01-03-10_label_A.npy\\n', 'C:\\\\Users\\\\pradh\\\\Downloads\\\\XDVioDet-master\\\\XDVioDet-master\\\\tratrain\\\\About.Time.2013__#01-04-40_01-06-59_label_A.npy\\n', 'C:\\\\Users\\\\pradh\\\\Downloads\\\\XDVioDet-master\\\\XDVioDet-master\\\\tratrain\\\\About.Time.2013__#01-09-30_01-16-59_label_A.npy\\n', 'C:\\\\Users\\\\pradh\\\\Downloads\\\\XDVioDet-master\\\\XDVioDet-master\\\\tratrain\\\\About.Time.2013__#01-17-00_01-19-40_label_A.npy\\n', 'C:\\\\Users\\\\pradh\\\\Downloads\\\\XDVioDet-master\\\\XDVioDet-master\\\\tratrain\\\\About.Time.2013__#01-26-10_01-28-00_label_A.npy\\n', 'C:\\\\Users\\\\pradh\\\\Downloads\\\\XDVioDet-master\\\\XDVioDet-master\\\\tratrain\\\\About.Time.2013__#01-30-25_01-33-56_label_A.npy\\n', 'C:\\\\Users\\\\pradh\\\\Downloads\\\\XDVioDet-master\\\\XDVioDet-master\\\\tratrain\\\\About.Time.2013__#01-34-18_01-38-11_label_A.npy\\n', 'C:\\\\Users\\\\pradh\\\\Downloads\\\\XDVioDet-master\\\\XDVioDet-master\\\\tratrain\\\\About.Time.2013__#01-39-05_01-46-40_label_A.npy\\n', 'C:\\\\Users\\\\pradh\\\\Downloads\\\\XDVioDet-master\\\\XDVioDet-master\\\\tratrain\\\\About.Time.2013__#01-47-40_01-49-53_label_A.npy\\n', 'C:\\\\Users\\\\pradh\\\\Downloads\\\\XDVioDet-master\\\\XDVioDet-master\\\\tratrain\\\\About.Time.2013__#01-50-20_01-56-30_label_A.npy\\n', 'C:\\\\Users\\\\pradh\\\\Downloads\\\\XDVioDet-master\\\\XDVioDet-master\\\\tratrain\\\\Bad.Boys.1995__#00-12-52_00-15-08_label_A.npy\\n', 'C:\\\\Users\\\\pradh\\\\Downloads\\\\XDVioDet-master\\\\XDVioDet-master\\\\tratrain\\\\Bad.Boys.1995__#00-34-10_00-35-15_label_A.npy\\n', 'C:\\\\Users\\\\pradh\\\\Downloads\\\\XDVioDet-master\\\\XDVioDet-master\\\\tratrain\\\\Bad.Boys.1995__#00-42-10_00-45-45_label_A.npy\\n', 'C:\\\\Users\\\\pradh\\\\Downloads\\\\XDVioDet-master\\\\XDVioDet-master\\\\tratrain\\\\Bad.Boys.1995__#01-00-02_01-01-39_label_A.npy\\n', 'C:\\\\Users\\\\pradh\\\\Downloads\\\\XDVioDet-master\\\\XDVioDet-master\\\\tratrain\\\\Bad.Boys.1995__#01-17-05_01-19-29_label_A.npy\\n', 'C:\\\\Users\\\\pradh\\\\Downloads\\\\XDVioDet-master\\\\XDVioDet-master\\\\tratrain\\\\Bad.Boys.1995__#01-30-37_01-32-44_label_A.npy\\n', 'C:\\\\Users\\\\pradh\\\\Downloads\\\\XDVioDet-master\\\\XDVioDet-master\\\\tratrain\\\\Bad.Boys.1995__#01-53-29_01-54-33_label_A.npy\\n', 'C:\\\\Users\\\\pradh\\\\Downloads\\\\XDVioDet-master\\\\XDVioDet-master\\\\tratrain\\\\Bad.Boys.II.2003__#00-11-06_00-12-10_label_A.npy\\n', 'C:\\\\Users\\\\pradh\\\\Downloads\\\\XDVioDet-master\\\\XDVioDet-master\\\\tratrain\\\\Bad.Boys.II.2003__#00-16-16_00-20-25_label_A.npy\\n', 'C:\\\\Users\\\\pradh\\\\Downloads\\\\XDVioDet-master\\\\XDVioDet-master\\\\tratrain\\\\Bad.Boys.II.2003__#00-23-01_00-25-06_label_A.npy\\n', 'C:\\\\Users\\\\pradh\\\\Downloads\\\\XDVioDet-master\\\\XDVioDet-master\\\\tratrain\\\\Bad.Boys.II.2003__#00-37-53_00-41-48_label_A.npy\\n', 'C:\\\\Users\\\\pradh\\\\Downloads\\\\XDVioDet-master\\\\XDVioDet-master\\\\tratrain\\\\Bad.Boys.II.2003__#00-56-45_00-58-40_label_A.npy\\n', 'C:\\\\Users\\\\pradh\\\\Downloads\\\\XDVioDet-master\\\\XDVioDet-master\\\\tratrain\\\\Bad.Boys.II.2003__#01-46-00_01-48-35_label_A.npy\\n', 'C:\\\\Users\\\\pradh\\\\Downloads\\\\XDVioDet-master\\\\XDVioDet-master\\\\tratrain\\\\Bad.Boys.II.2003__#02-05-15_02-05-36_label_A.npy\\n', 'C:\\\\Users\\\\pradh\\\\Downloads\\\\XDVioDet-master\\\\XDVioDet-master\\\\tratrain\\\\Be.with.You.2018__#00-01-45_00-02-50_label_A.npy\\n', 'C:\\\\Users\\\\pradh\\\\Downloads\\\\XDVioDet-master\\\\XDVioDet-master\\\\tratrain\\\\Be.with.You.2018__#00-03-00_00-04-05_label_A.npy\\n', 'C:\\\\Users\\\\pradh\\\\Downloads\\\\XDVioDet-master\\\\XDVioDet-master\\\\tratrain\\\\Be.with.You.2018__#00-05-52_00-08-22_label_A.npy\\n', 'C:\\\\Users\\\\pradh\\\\Downloads\\\\XDVioDet-master\\\\XDVioDet-master\\\\tratrain\\\\Be.with.You.2018__#00-08-55_00-10-50_label_A.npy\\n', 'C:\\\\Users\\\\pradh\\\\Downloads\\\\XDVioDet-master\\\\XDVioDet-master\\\\tratrain\\\\Be.with.You.2018__#00-11-00_00-15-08_label_A.npy\\n', 'C:\\\\Users\\\\pradh\\\\Downloads\\\\XDVioDet-master\\\\XDVioDet-master\\\\tratrain\\\\Be.with.You.2018__#00-20-35_00-23-06_label_A.npy\\n', 'C:\\\\Users\\\\pradh\\\\Downloads\\\\XDVioDet-master\\\\XDVioDet-master\\\\tratrain\\\\Be.with.You.2018__#00-25-20_00-29-20_label_A.npy\\n', 'C:\\\\Users\\\\pradh\\\\Downloads\\\\XDVioDet-master\\\\XDVioDet-master\\\\tratrain\\\\Be.with.You.2018__#00-31-05_00-32-05_label_A.npy\\n', 'C:\\\\Users\\\\pradh\\\\Downloads\\\\XDVioDet-master\\\\XDVioDet-master\\\\tratrain\\\\Be.with.You.2018__#00-32-07_00-36-45_label_A.npy\\n', 'C:\\\\Users\\\\pradh\\\\Downloads\\\\XDVioDet-master\\\\XDVioDet-master\\\\tratrain\\\\Be.with.You.2018__#00-37-40_00-40-31_label_A.npy\\n', 'C:\\\\Users\\\\pradh\\\\Downloads\\\\XDVioDet-master\\\\XDVioDet-master\\\\tratrain\\\\Be.with.You.2018__#00-40-52_00-42-01_label_A.npy\\n', 'C:\\\\Users\\\\pradh\\\\Downloads\\\\XDVioDet-master\\\\XDVioDet-master\\\\tratrain\\\\Be.with.You.2018__#00-42-52_00-45-31_label_A.npy\\n', 'C:\\\\Users\\\\pradh\\\\Downloads\\\\XDVioDet-master\\\\XDVioDet-master\\\\tratrain\\\\Be.with.You.2018__#00-45-40_00-47-30_label_A.npy\\n', 'C:\\\\Users\\\\pradh\\\\Downloads\\\\XDVioDet-master\\\\XDVioDet-master\\\\tratrain\\\\Be.with.You.2018__#00-50-26_00-55-16_label_A.npy\\n', 'C:\\\\Users\\\\pradh\\\\Downloads\\\\XDVioDet-master\\\\XDVioDet-master\\\\tratrain\\\\Be.with.You.2018__#00-57-20_00-58-17_label_A.npy\\n', 'C:\\\\Users\\\\pradh\\\\Downloads\\\\XDVioDet-master\\\\XDVioDet-master\\\\tratrain\\\\Be.with.You.2018__#00-58-18_01-02-30_label_A.npy\\n', 'C:\\\\Users\\\\pradh\\\\Downloads\\\\XDVioDet-master\\\\XDVioDet-master\\\\tratrain\\\\Be.with.You.2018__#01-21-22_01-25-40_label_A.npy\\n', 'C:\\\\Users\\\\pradh\\\\Downloads\\\\XDVioDet-master\\\\XDVioDet-master\\\\tratrain\\\\Be.with.You.2018__#01-26-10_01-28-00_label_A.npy\\n']\n",
      "62\n",
      "63\n",
      "800\n"
     ]
    }
   ],
   "source": [
    "\n",
    "train_nloader = DataLoader(Dataset( test_mode=False, is_normal=True),\n",
    "                               batch_size=32, shuffle=True,\n",
    "                               num_workers=0, pin_memory=False, drop_last=False)\n",
    "train_aloader = DataLoader(Dataset( test_mode=False, is_normal=False),\n",
    "                               batch_size=32, shuffle=True,\n",
    "                              num_workers=0, pin_memory=False, drop_last=False)\n",
    "test_loader = DataLoader(Dataset( test_mode=True,is_normal=True),\n",
    "                              batch_size=1, shuffle=False,\n",
    "                              num_workers=0, pin_memory=False)\n",
    "print(len(train_nloader))\n",
    "print(len(train_aloader))\n",
    "print(len(test_loader))\n",
    "\n",
    "\n",
    "\n"
   ]
  },
  {
   "cell_type": "code",
   "execution_count": 10,
   "metadata": {},
   "outputs": [],
   "source": [
    "import torch\n",
    "import torch.nn as nn\n",
    "import torch.nn.init as torch_init\n",
    "torch.set_default_dtype(torch.float32)\n",
    "\n",
    "def weight_init(m):\n",
    "    classname = m.__class__.__name__\n",
    "    if classname.find('Conv') != -1 or classname.find('Linear') != -1:\n",
    "        torch_init.xavier_uniform_(m.weight)\n",
    "        if m.bias is not None:\n",
    "            m.bias.data.fill_(0)\n",
    "\n",
    "class _NonLocalBlockND(nn.Module):\n",
    "    def __init__(self, in_channels, inter_channels=None, dimension=3, sub_sample=True, bn_layer=True):\n",
    "        super(_NonLocalBlockND, self).__init__()\n",
    "\n",
    "        assert dimension in [1, 2, 3]\n",
    "\n",
    "        self.dimension = dimension\n",
    "        self.sub_sample = sub_sample\n",
    "\n",
    "        self.in_channels = in_channels\n",
    "        self.inter_channels = inter_channels\n",
    "\n",
    "        if self.inter_channels is None:\n",
    "            self.inter_channels = in_channels // 2\n",
    "            if self.inter_channels == 0:\n",
    "                self.inter_channels = 1\n",
    "\n",
    "        if dimension == 3:\n",
    "            conv_nd = nn.Conv3d\n",
    "            max_pool_layer = nn.MaxPool3d(kernel_size=(1, 2, 2))\n",
    "            bn = nn.BatchNorm3d\n",
    "        elif dimension == 2:\n",
    "            conv_nd = nn.Conv2d\n",
    "            max_pool_layer = nn.MaxPool2d(kernel_size=(2, 2))\n",
    "            bn = nn.BatchNorm2d\n",
    "        else:\n",
    "            conv_nd = nn.Conv1d\n",
    "            max_pool_layer = nn.MaxPool1d(kernel_size=(2))\n",
    "            bn = nn.BatchNorm1d\n",
    "\n",
    "        self.g = conv_nd(in_channels=self.in_channels, out_channels=self.inter_channels,\n",
    "                         kernel_size=1, stride=1, padding=0)\n",
    "\n",
    "        if bn_layer:\n",
    "            self.W = nn.Sequential(\n",
    "                conv_nd(in_channels=self.inter_channels, out_channels=self.in_channels,\n",
    "                        kernel_size=1, stride=1, padding=0),\n",
    "                bn(self.in_channels)\n",
    "            )\n",
    "            nn.init.constant_(self.W[1].weight, 0)\n",
    "            nn.init.constant_(self.W[1].bias, 0)\n",
    "        else:\n",
    "            self.W = conv_nd(in_channels=self.inter_channels, out_channels=self.in_channels,\n",
    "                             kernel_size=1, stride=1, padding=0)\n",
    "            nn.init.constant_(self.W.weight, 0)\n",
    "            nn.init.constant_(self.W.bias, 0)\n",
    "\n",
    "        self.theta = conv_nd(in_channels=self.in_channels, out_channels=self.inter_channels,\n",
    "                             kernel_size=1, stride=1, padding=0)\n",
    "\n",
    "        self.phi = conv_nd(in_channels=self.in_channels, out_channels=self.inter_channels,\n",
    "                           kernel_size=1, stride=1, padding=0)\n",
    "\n",
    "        if sub_sample:\n",
    "            self.g = nn.Sequential(self.g, max_pool_layer)\n",
    "            self.phi = nn.Sequential(self.phi, max_pool_layer)\n",
    "\n",
    "    def forward(self, x, return_nl_map=False):\n",
    "        \"\"\"\n",
    "        :param x: (b, c, t, h, w)\n",
    "        :param return_nl_map: if True return z, nl_map, else only return z.\n",
    "        :return:\n",
    "        \"\"\"\n",
    "\n",
    "        batch_size = x.size(0)\n",
    "\n",
    "        g_x = self.g(x).view(batch_size, self.inter_channels, -1)\n",
    "        g_x = g_x.permute(0, 2, 1)\n",
    "\n",
    "        theta_x = self.theta(x).view(batch_size, self.inter_channels, -1)\n",
    "        theta_x = theta_x.permute(0, 2, 1)\n",
    "        phi_x = self.phi(x).view(batch_size, self.inter_channels, -1)\n",
    "\n",
    "        f = torch.matmul(theta_x, phi_x)\n",
    "        N = f.size(-1)\n",
    "        f_div_C = f / N\n",
    "\n",
    "        y = torch.matmul(f_div_C, g_x)\n",
    "        y = y.permute(0, 2, 1).contiguous()\n",
    "        y = y.view(batch_size, self.inter_channels, *x.size()[2:])\n",
    "        W_y = self.W(y)\n",
    "        z = W_y + x\n",
    "\n",
    "        if return_nl_map:\n",
    "            return z, f_div_C\n",
    "        return z\n",
    "\n",
    "\n",
    "class NONLocalBlock1D(_NonLocalBlockND):\n",
    "    def __init__(self, in_channels, inter_channels=None, sub_sample=True, bn_layer=True):\n",
    "        super(NONLocalBlock1D, self).__init__(in_channels,\n",
    "                                              inter_channels=inter_channels,\n",
    "                                              dimension=1, sub_sample=sub_sample,\n",
    "                                              bn_layer=bn_layer)\n",
    "\n",
    "\n",
    "\n",
    "class Aggregate(nn.Module):\n",
    "    def __init__(self, len_feature):\n",
    "        super(Aggregate, self).__init__()\n",
    "        bn = nn.BatchNorm1d\n",
    "        self.len_feature = len_feature\n",
    "        self.conv_1 = nn.Sequential(\n",
    "            nn.Conv1d(in_channels=len_feature, out_channels=512, kernel_size=3,\n",
    "                      stride=1,dilation=1, padding=1),\n",
    "            nn.ReLU(),\n",
    "            bn(512)\n",
    "            #nn.dropout(0.7)\n",
    "        )\n",
    "        self.conv_2 = nn.Sequential(\n",
    "            nn.Conv1d(in_channels=len_feature, out_channels=512, kernel_size=3,\n",
    "                      stride=1, dilation=2, padding=2),\n",
    "            nn.ReLU(),\n",
    "            bn(512)\n",
    "            #nn.dropout(0.7)\n",
    "        )\n",
    "        self.conv_3 = nn.Sequential(\n",
    "            nn.Conv1d(in_channels=len_feature, out_channels=512, kernel_size=3,\n",
    "                      stride=1, dilation=4, padding=4),\n",
    "            nn.ReLU(),\n",
    "            bn(512)\n",
    "            #nn.dropout(0.7),\n",
    "        )\n",
    "        self.conv_4 = nn.Sequential(\n",
    "            nn.Conv1d(in_channels=1024, out_channels=512, kernel_size=1,\n",
    "                      stride=1, padding=0, bias = False),\n",
    "            nn.ReLU(),\n",
    "            #nn.dropout(0.7),\n",
    "        )\n",
    "        self.conv_5 = nn.Sequential(\n",
    "            nn.Conv1d(in_channels=2048, out_channels=1024, kernel_size=3,\n",
    "                      stride=1, padding=1, bias=False), # should we keep the bias?\n",
    "            nn.ReLU(),\n",
    "            nn.BatchNorm1d(1024),\n",
    "            #nn.dropout(0.7)\n",
    "        )\n",
    "\n",
    "        self.non_local = NONLocalBlock1D(512, sub_sample=False, bn_layer=True)\n",
    "\n",
    "\n",
    "    def forward(self, x):\n",
    "            # x: (B, T, F)\n",
    "            out = x.permute(0, 2, 1)\n",
    "            residual = out\n",
    "\n",
    "            out1 = self.conv_1(out)\n",
    "            out2 = self.conv_2(out)\n",
    "\n",
    "            out3 = self.conv_3(out)\n",
    "            out_d = torch.cat((out1, out2, out3), dim = 1)\n",
    "            out = self.conv_4(out)\n",
    "            out = self.non_local(out)\n",
    "            out = torch.cat((out_d, out), dim=1)\n",
    "            out = self.conv_5(out)   # fuse all the features together\n",
    "            out = out + residual\n",
    "            out = out.permute(0, 2, 1)\n",
    "            # out: (B, T, 1)\n",
    "\n",
    "            return out\n",
    "\n",
    "class Model(nn.Module):\n",
    "    def __init__(self, n_features, batch_size):\n",
    "        super(Model, self).__init__()\n",
    "        self.batch_size = 32\n",
    "        self.num_segments = 32\n",
    "        self.k_abn = self.num_segments // 10\n",
    "        self.k_nor = self.num_segments // 10\n",
    "\n",
    "        self.Aggregate = Aggregate(len_feature=1024)\n",
    "        self.fc1 = nn.Linear(1024, 512)\n",
    "        self.fc2 = nn.Linear(512, 128)\n",
    "        self.fc3 = nn.Linear(128, 1)\n",
    "\n",
    "        self.drop_out = nn.Dropout(0.7)\n",
    "        self.relu = nn.ReLU()\n",
    "        self.sigmoid = nn.Sigmoid()\n",
    "        self.apply(weight_init)\n",
    "\n",
    "    def forward(self, inputs):\n",
    "\n",
    "        k_abn = self.k_abn\n",
    "        k_nor = self.k_nor\n",
    "\n",
    "        out = inputs\n",
    "        bs, ncrops, t, f = out.size()\n",
    "\n",
    "        out = out.view(-1, t, f)\n",
    "\n",
    "        out = self.Aggregate(out)\n",
    "\n",
    "        out = self.drop_out(out)\n",
    "\n",
    "\n",
    "        features = out\n",
    "        scores = self.relu(self.fc1(features))\n",
    "        scores = self.drop_out(scores)\n",
    "        scores = self.relu(self.fc2(scores))\n",
    "        scores = self.drop_out(scores)\n",
    "        scores = self.sigmoid(self.fc3(scores))\n",
    "        scores = scores.view(bs, ncrops, -1).mean(1)\n",
    "        scores = scores.unsqueeze(dim=2)\n",
    "        \n",
    "\n",
    "        normal_features = features[0:self.batch_size*5]\n",
    "        normal_scores = scores[0:self.batch_size]\n",
    "      \n",
    "        abnormal_features = features[self.batch_size*5:]\n",
    "        abnormal_scores = scores[self.batch_size:]\n",
    "        \n",
    "\n",
    "        feat_magnitudes = torch.norm(features, p=2, dim=2)\n",
    "        feat_magnitudes = feat_magnitudes.view(bs, ncrops, -1).mean(1)\n",
    "\n",
    "        afea_magnitudes = feat_magnitudes[self.batch_size:]  # abnormal feature magnitudes\n",
    "        #print(feat_magnitudes.shape[0])\n",
    "        nfea_magnitudes = feat_magnitudes[0:self.batch_size]  # normal feature magnitudes\n",
    "        #print(self.batch_size)\n",
    "        n_size = nfea_magnitudes.shape[0]\n",
    "        a_size = afea_magnitudes.shape[0]\n",
    "        #print(afea_magnitudes.shape[0])\n",
    "        #print(nfea_magnitudes.shape[0])\n",
    "        \n",
    "        #print(self.batch_size)\n",
    "\n",
    "        if nfea_magnitudes.shape[0] == 1:  # this is for inference, the batch size is 1\n",
    "            afea_magnitudes = nfea_magnitudes\n",
    "            abnormal_scores = normal_scores\n",
    "            abnormal_features = normal_features\n",
    "            n_size = nfea_magnitudes.shape[0]\n",
    "            a_size = nfea_magnitudes.shape[0]\n",
    "\n",
    "\n",
    "\n",
    "        select_idx = torch.ones_like(afea_magnitudes)\n",
    "        select_idx = self.drop_out(select_idx)\n",
    "\n",
    "        #######  process abnormal videos -> select top3 feature magnitude  #######\n",
    "        afea_magnitudes_drop = afea_magnitudes * select_idx\n",
    "        idx_abn = torch.topk(afea_magnitudes_drop, k_abn, dim=1)[1]\n",
    "        idx_abn_feat = idx_abn.unsqueeze(2).expand([-1, -1, abnormal_features.shape[2]])\n",
    "\n",
    "        abnormal_features = abnormal_features.view(a_size, ncrops, t, f)\n",
    "        abnormal_features = abnormal_features.permute(1, 0, 2,3)\n",
    "\n",
    "        total_select_abn_feature = torch.zeros(0, device=inputs.device)\n",
    "        for abnormal_feature in abnormal_features:\n",
    "            feat_select_abn = torch.gather(abnormal_feature, 1, idx_abn_feat)   # top 3 features magnitude in abnormal bag\n",
    "            total_select_abn_feature = torch.cat((total_select_abn_feature, feat_select_abn))\n",
    "\n",
    "        idx_abn_score = idx_abn.unsqueeze(2).expand([-1, -1, abnormal_scores.shape[2]])\n",
    "        score_abnormal = torch.mean(torch.gather(abnormal_scores, 1, idx_abn_score), dim=1)  # top 3 scores in abnormal bag based on the top-3 magnitude\n",
    "\n",
    "\n",
    "        ####### process normal videos -> select top3 feature magnitude #######\n",
    "        n_size=nfea_magnitudes.shape[0]\n",
    "\n",
    "        select_idx_normal = torch.ones_like(nfea_magnitudes)\n",
    "        select_idx_normal = self.drop_out(select_idx_normal)\n",
    "        nfea_magnitudes_drop = nfea_magnitudes * select_idx_normal\n",
    "        idx_normal = torch.topk(nfea_magnitudes_drop, k_nor, dim=1)[1]\n",
    "        idx_normal_feat = idx_normal.unsqueeze(2).expand([-1, -1, normal_features.shape[2]])\n",
    "\n",
    "        normal_features = normal_features.view(n_size, ncrops, t, f)\n",
    "        normal_features = normal_features.permute(1, 0, 2, 3)\n",
    "\n",
    "        total_select_nor_feature = torch.zeros(0, device=inputs.device)\n",
    "        for nor_fea in normal_features:\n",
    "            feat_select_normal = torch.gather(nor_fea, 1, idx_normal_feat)  # top 3 features magnitude in normal bag (hard negative)\n",
    "            total_select_nor_feature = torch.cat((total_select_nor_feature, feat_select_normal))\n",
    "\n",
    "        idx_normal_score = idx_normal.unsqueeze(2).expand([-1, -1, normal_scores.shape[2]])\n",
    "        score_normal = torch.mean(torch.gather(normal_scores, 1, idx_normal_score), dim=1) # top 3 scores in normal bag\n",
    "\n",
    "        feat_select_abn = total_select_abn_feature\n",
    "        feat_select_normal = total_select_nor_feature\n",
    "\n",
    "        return score_abnormal, score_normal, feat_select_abn, feat_select_normal, feat_select_abn, feat_select_abn, scores, feat_select_abn, feat_select_abn, feat_magnitudes"
   ]
  },
  {
   "cell_type": "code",
   "execution_count": 11,
   "metadata": {},
   "outputs": [],
   "source": [
    "model = Model(feature_size,batch_size)"
   ]
  },
  {
   "cell_type": "code",
   "execution_count": 12,
   "metadata": {},
   "outputs": [],
   "source": [
    "import numpy as np\n",
    "import os\n",
    "\n",
    "class Config(object):\n",
    "    def __init__(self):\n",
    "        self.lr = eval(lr)\n",
    "        self.lr_str = lr\n",
    "\n",
    "    def __str__(self):\n",
    "        attrs = vars(self)\n",
    "        attr_lst = sorted(attrs.keys())\n",
    "        return '\\n'.join(\"- %s: %s\" % (item, attrs[item]) for item in attr_lst if item != 'lr')\n",
    "    \n",
    "config=Config()"
   ]
  },
  {
   "cell_type": "code",
   "execution_count": 13,
   "metadata": {},
   "outputs": [
    {
     "name": "stdout",
     "output_type": "stream",
     "text": [
      "Aggregate.conv_1.0.weight\n",
      "Aggregate.conv_1.0.bias\n",
      "Aggregate.conv_1.2.weight\n",
      "Aggregate.conv_1.2.bias\n",
      "Aggregate.conv_2.0.weight\n",
      "Aggregate.conv_2.0.bias\n",
      "Aggregate.conv_2.2.weight\n",
      "Aggregate.conv_2.2.bias\n",
      "Aggregate.conv_3.0.weight\n",
      "Aggregate.conv_3.0.bias\n",
      "Aggregate.conv_3.2.weight\n",
      "Aggregate.conv_3.2.bias\n",
      "Aggregate.conv_4.0.weight\n",
      "Aggregate.conv_5.0.weight\n",
      "Aggregate.conv_5.2.weight\n",
      "Aggregate.conv_5.2.bias\n",
      "Aggregate.non_local.g.weight\n",
      "Aggregate.non_local.g.bias\n",
      "Aggregate.non_local.W.0.weight\n",
      "Aggregate.non_local.W.0.bias\n",
      "Aggregate.non_local.W.1.weight\n",
      "Aggregate.non_local.W.1.bias\n",
      "Aggregate.non_local.theta.weight\n",
      "Aggregate.non_local.theta.bias\n",
      "Aggregate.non_local.phi.weight\n",
      "Aggregate.non_local.phi.bias\n",
      "fc1.weight\n",
      "fc1.bias\n",
      "fc2.weight\n",
      "fc2.bias\n",
      "fc3.weight\n",
      "fc3.bias\n"
     ]
    }
   ],
   "source": [
    "import os\n",
    "for name, value in model.named_parameters():\n",
    "    print(name)\n",
    "device = torch.device('cuda' if torch.cuda.is_available() else 'cpu')\n",
    "model = model.to(device)\n",
    "\n",
    "#if not os.path.exists('./ckpt'):\n",
    "os.makedirs('./ckpt')\n",
    "\n",
    "optimizer = optim.Adam(model.parameters(),lr=config.lr[0], weight_decay=0.005)\n",
    "\n",
    "test_info = {\"epoch\": [], \"test_AUC\": []}\n",
    "best_AUC = -1\n",
    "output_path = r\"C:\\Users\\pradh\\Downloads\\output\"  "
   ]
  },
  {
   "cell_type": "code",
   "execution_count": 14,
   "metadata": {},
   "outputs": [],
   "source": [
    "import matplotlib.pyplot as plt\n",
    "import torch\n",
    "import sklearn.metrics \n",
    "import numpy as np\n",
    "\n",
    "def test(dataloader, model, viz, device):\n",
    "    with torch.no_grad():\n",
    "        model.eval()\n",
    "        pred = torch.zeros(0, device=device)\n",
    "\n",
    "        for i, input in enumerate(dataloader):\n",
    "            input = input.to(device)\n",
    "            input = input.permute(0, 2, 1, 3)\n",
    "            score_abnormal, score_normal, feat_select_abn, feat_select_normal, feat_abn_bottom, feat_select_normal_bottom, logits,scores_nor_bottom, scores_nor_abn_bag, feat_magnitudes = model(inputs=input)\n",
    "            logits = torch.squeeze(logits, 1)\n",
    "            logits = torch.mean(logits, 0)\n",
    "            sig = logits\n",
    "            pred = torch.cat((pred, sig))\n",
    "\n",
    "        \n",
    "\n",
    "       \n",
    "        gt = np.load(r\"C:\\Users\\pradh\\Downloads\\XDVioDet-master\\XDVioDet-master\\list\\gt.npy\")\n",
    "        pred = list(pred.cpu().detach().numpy())\n",
    "        # print(pred)\n",
    "        # print(len(pred))\n",
    "        pred = np.repeat(np.array(pred), 16)\n",
    "        \n",
    "\n",
    "        fpr, tpr, threshold = sklearn.metrics.roc_curve(list(gt), pred)\n",
    "        fpr_values = list(fpr)\n",
    "        tpr_values = list(tpr)\n",
    "\n",
    "        fpr_array = np.array(fpr_values)\n",
    "        tpr_array = np.array(tpr_values)\n",
    "#         print(fpr1)\n",
    "#         print(tpr1)\n",
    "#         np.save('fpr.npy', fpr2)\n",
    "#         np.save('tpr.npy', tpr2)\n",
    "        rec_auc = sklearn.metrics.auc(fpr_array, tpr_array)\n",
    "        #print('auc : ' + str(rec_auc))\n",
    "\n",
    "        precision, recall, th = sklearn.metrics.precision_recall_curve(list(gt), pred)\n",
    "        pr_auc = sklearn.metrics.auc(recall, precision)\n",
    "        np.save('precision.npy', precision)\n",
    "        np.save('recall.npy', recall)\n",
    "        viz.plot_lines('pr_auc', pr_auc)\n",
    "        viz.plot_lines('auc', rec_auc)\n",
    "        viz.lines('scores', pred)\n",
    "        viz.lines('roc', tpr_values, fpr_values)\n",
    "        return rec_auc,fpr,tpr\n"
   ]
  },
  {
   "cell_type": "code",
   "execution_count": 15,
   "metadata": {},
   "outputs": [
    {
     "name": "stdout",
     "output_type": "stream",
     "text": [
      "0.5183031161317266\n"
     ]
    }
   ],
   "source": [
    "auc,fpr,tpr=test(test_loader, model, viz, device)\n",
    "print(auc)"
   ]
  },
  {
   "cell_type": "code",
   "execution_count": 16,
   "metadata": {},
   "outputs": [],
   "source": [
    "import numpy as np\n",
    "import torch\n",
    "import torch.nn.functional as F\n",
    "torch.set_default_tensor_type('torch.FloatTensor')\n",
    "from torch.nn import L1Loss\n",
    "from torch.nn import MSELoss\n",
    "\n",
    "\n",
    "\n",
    "def sparsity(arr, batch_size, lamda2):\n",
    "    loss = torch.mean(torch.norm(arr, dim=0))\n",
    "    return lamda2*loss\n",
    "\n",
    "\n",
    "def smooth(arr, lamda1):\n",
    "    arr2 = torch.zeros_like(arr)\n",
    "    arr2[:-1] = arr[1:]\n",
    "    arr2[-1] = arr[-1]\n",
    "\n",
    "    loss = torch.sum((arr2-arr)**2)\n",
    "\n",
    "    return lamda1*loss\n",
    "\n",
    "\n",
    "def l1_penalty(var):\n",
    "    return torch.mean(torch.norm(var, dim=0))\n",
    "\n",
    "\n",
    "class SigmoidMAELoss(torch.nn.Module):\n",
    "    def __init__(self):\n",
    "        super(SigmoidMAELoss, self).__init__()\n",
    "        from torch.nn import Sigmoid\n",
    "        self.__sigmoid__ = Sigmoid()\n",
    "        self.__l1_loss__ = MSELoss()\n",
    "\n",
    "    def forward(self, pred, target):\n",
    "        return self.__l1_loss__(pred, target)\n",
    "\n",
    "\n",
    "class SigmoidCrossEntropyLoss(torch.nn.Module):\n",
    "    # Implementation Reference: http://vast.uccs.edu/~adhamija/blog/Caffe%20Custom%20Layer.html\n",
    "    def __init__(self):\n",
    "        super(SigmoidCrossEntropyLoss, self).__init__()\n",
    "\n",
    "    def forward(self, x, target):\n",
    "        tmp = 1 + torch.exp(- torch.abs(x))\n",
    "        return torch.abs(torch.mean(- x * target + torch.clamp(x, min=0) + torch.log(tmp)))\n",
    "\n",
    "\n",
    "class RTFM_loss(torch.nn.Module):\n",
    "    def __init__(self, alpha, margin):\n",
    "        super(RTFM_loss, self).__init__()\n",
    "        self.alpha = alpha\n",
    "        self.margin = margin\n",
    "        self.sigmoid = torch.nn.Sigmoid()\n",
    "        self.mae_criterion = SigmoidMAELoss()\n",
    "        self.criterion = torch.nn.BCELoss()\n",
    "\n",
    "    def forward(self, score_normal, score_abnormal, nlabel, alabel, feat_n, feat_a):\n",
    "        label = torch.cat((nlabel, alabel), 0)\n",
    "        score_abnormal = score_abnormal\n",
    "        score_normal = score_normal\n",
    "\n",
    "\n",
    "        score = torch.cat((score_normal, score_abnormal), 0)\n",
    "        score = score.squeeze()\n",
    "\n",
    "        #label = label.cuda()\n",
    "\n",
    "        loss_cls = self.criterion(score, label)  # BCE loss in the score space\n",
    "\n",
    "        loss_abn = torch.abs(self.margin - torch.norm(torch.mean(feat_a, dim=1), p=2, dim=1))\n",
    "\n",
    "        loss_nor = torch.norm(torch.mean(feat_n, dim=1), p=2, dim=1)\n",
    "\n",
    "        lsh=loss_nor.shape[0]\n",
    "        ash=loss_abn.shape[0]\n",
    "        if(lsh>=ash):\n",
    "            sh=ash\n",
    "        else:\n",
    "            sh=lsh\n",
    "\n",
    "\n",
    "        loss_rtfm = torch.mean((loss_abn + loss_nor[0:sh]) ** 2)\n",
    "\n",
    "        loss_total = loss_cls + self.alpha * loss_rtfm\n",
    "\n",
    "        return loss_total\n",
    "\n",
    "\n",
    "def train(nloader, aloader, model, batch_size, optimizer, viz, device):\n",
    "    with torch.set_grad_enabled(True):\n",
    "        #batch_size=3\n",
    "        \n",
    "        model.train()\n",
    "\n",
    "        ninput, nlabel = next(nloader)\n",
    "        ainput, alabel = next(aloader)\n",
    "        abns=ainput.shape[0]\n",
    "        ns=ninput.shape[0]\n",
    "\n",
    "        input = torch.cat((ninput, ainput), 0).to(device)\n",
    "        #print(input.shape[0])\n",
    "        score_abnormal, score_normal, feat_select_abn, feat_select_normal, feat_abn_bottom, \\\n",
    "        feat_normal_bottom, scores, scores_nor_bottom, scores_nor_abn_bag, _ = model(input)  # b*32  x 1024\n",
    "        #print(scores.shape[0])\n",
    "        scores = scores.view((ns+abns)* 32  , -1)\n",
    "\n",
    "        scores = scores.squeeze()\n",
    "        abn_scores = scores[ns * 32:]\n",
    "\n",
    "        nlabel = nlabel[0:ns]\n",
    "        alabel = alabel[0:abns]\n",
    "\n",
    "        loss_criterion = RTFM_loss(0.0001, 100)\n",
    "        loss_sparse = sparsity(abn_scores, abns, 8e-3)\n",
    "        loss_smooth = smooth(abn_scores, 8e-4)\n",
    "        cost = loss_criterion(score_normal, score_abnormal, nlabel, alabel, feat_select_normal, feat_select_abn) + loss_smooth + loss_sparse\n",
    "\n",
    "        viz.plot_lines('loss', cost.item())\n",
    "        viz.plot_lines('smooth loss', loss_smooth.item())\n",
    "        viz.plot_lines('sparsity loss', loss_sparse.item())\n",
    "        optimizer.zero_grad()\n",
    "        cost.backward()\n",
    "        optimizer.step()\n",
    "\n"
   ]
  },
  {
   "cell_type": "code",
   "execution_count": 17,
   "metadata": {
    "scrolled": true
   },
   "outputs": [
    {
     "name": "stderr",
     "output_type": "stream",
     "text": [
      "  0%|          | 1/250 [02:16<9:24:29, 136.02s/it]"
     ]
    },
    {
     "name": "stdout",
     "output_type": "stream",
     "text": [
      "0.5701739475137438\n"
     ]
    },
    {
     "name": "stderr",
     "output_type": "stream",
     "text": [
      "  1%|          | 2/250 [04:33<9:25:31, 136.82s/it]"
     ]
    },
    {
     "name": "stdout",
     "output_type": "stream",
     "text": [
      "0.6860061278021052\n"
     ]
    },
    {
     "name": "stderr",
     "output_type": "stream",
     "text": [
      "  1%|          | 3/250 [06:49<9:21:17, 136.35s/it]"
     ]
    },
    {
     "name": "stdout",
     "output_type": "stream",
     "text": [
      "0.7059877781687489\n"
     ]
    },
    {
     "name": "stderr",
     "output_type": "stream",
     "text": [
      "  2%|▏         | 4/250 [09:11<9:28:52, 138.75s/it]"
     ]
    },
    {
     "name": "stdout",
     "output_type": "stream",
     "text": [
      "0.7029442390757367\n"
     ]
    },
    {
     "name": "stderr",
     "output_type": "stream",
     "text": [
      "  2%|▏         | 5/250 [11:28<9:23:32, 138.01s/it]"
     ]
    },
    {
     "name": "stdout",
     "output_type": "stream",
     "text": [
      "0.7302454290101255\n"
     ]
    },
    {
     "name": "stderr",
     "output_type": "stream",
     "text": [
      "  2%|▏         | 6/250 [13:43<9:17:21, 137.05s/it]"
     ]
    },
    {
     "name": "stdout",
     "output_type": "stream",
     "text": [
      "0.7243250038102109\n"
     ]
    },
    {
     "name": "stderr",
     "output_type": "stream",
     "text": [
      "  3%|▎         | 7/250 [16:01<9:15:40, 137.20s/it]"
     ]
    },
    {
     "name": "stdout",
     "output_type": "stream",
     "text": [
      "0.6666057920841566\n"
     ]
    },
    {
     "name": "stderr",
     "output_type": "stream",
     "text": [
      "  3%|▎         | 8/250 [18:18<9:14:04, 137.37s/it]"
     ]
    },
    {
     "name": "stdout",
     "output_type": "stream",
     "text": [
      "0.6482842032122625\n"
     ]
    },
    {
     "name": "stderr",
     "output_type": "stream",
     "text": [
      "  4%|▎         | 9/250 [20:35<9:11:18, 137.26s/it]"
     ]
    },
    {
     "name": "stdout",
     "output_type": "stream",
     "text": [
      "0.6470178861727671\n"
     ]
    },
    {
     "name": "stderr",
     "output_type": "stream",
     "text": [
      "  4%|▍         | 10/250 [22:54<9:10:37, 137.65s/it]"
     ]
    },
    {
     "name": "stdout",
     "output_type": "stream",
     "text": [
      "0.6421514873630232\n"
     ]
    },
    {
     "name": "stderr",
     "output_type": "stream",
     "text": [
      "  4%|▍         | 11/250 [25:18<9:16:35, 139.73s/it]"
     ]
    },
    {
     "name": "stdout",
     "output_type": "stream",
     "text": [
      "0.6590154458576987\n"
     ]
    },
    {
     "name": "stderr",
     "output_type": "stream",
     "text": [
      "  5%|▍         | 12/250 [27:37<9:13:00, 139.41s/it]"
     ]
    },
    {
     "name": "stdout",
     "output_type": "stream",
     "text": [
      "0.6873866788791949\n"
     ]
    },
    {
     "name": "stderr",
     "output_type": "stream",
     "text": [
      "  5%|▌         | 13/250 [29:53<9:06:40, 138.40s/it]"
     ]
    },
    {
     "name": "stdout",
     "output_type": "stream",
     "text": [
      "0.715367839141732\n"
     ]
    },
    {
     "name": "stderr",
     "output_type": "stream",
     "text": [
      "  6%|▌         | 14/250 [32:10<9:02:49, 138.00s/it]"
     ]
    },
    {
     "name": "stdout",
     "output_type": "stream",
     "text": [
      "0.7474519330709777\n"
     ]
    },
    {
     "name": "stderr",
     "output_type": "stream",
     "text": [
      "  6%|▌         | 15/250 [34:26<8:58:19, 137.45s/it]"
     ]
    },
    {
     "name": "stdout",
     "output_type": "stream",
     "text": [
      "0.7697586466582549\n"
     ]
    },
    {
     "name": "stderr",
     "output_type": "stream",
     "text": [
      "  6%|▋         | 16/250 [36:42<8:53:38, 136.83s/it]"
     ]
    },
    {
     "name": "stdout",
     "output_type": "stream",
     "text": [
      "0.7830135415823574\n"
     ]
    },
    {
     "name": "stderr",
     "output_type": "stream",
     "text": [
      "  7%|▋         | 17/250 [38:58<8:50:41, 136.66s/it]"
     ]
    },
    {
     "name": "stdout",
     "output_type": "stream",
     "text": [
      "0.7969730465567558\n"
     ]
    },
    {
     "name": "stderr",
     "output_type": "stream",
     "text": [
      "  7%|▋         | 18/250 [41:14<8:47:33, 136.44s/it]"
     ]
    },
    {
     "name": "stdout",
     "output_type": "stream",
     "text": [
      "0.8075457588149435\n"
     ]
    },
    {
     "name": "stderr",
     "output_type": "stream",
     "text": [
      "  8%|▊         | 19/250 [43:29<8:44:15, 136.17s/it]"
     ]
    },
    {
     "name": "stdout",
     "output_type": "stream",
     "text": [
      "0.8124033909234658\n"
     ]
    },
    {
     "name": "stderr",
     "output_type": "stream",
     "text": [
      "  8%|▊         | 20/250 [46:08<9:08:02, 142.97s/it]"
     ]
    },
    {
     "name": "stdout",
     "output_type": "stream",
     "text": [
      "0.8147559473212727\n"
     ]
    },
    {
     "name": "stderr",
     "output_type": "stream",
     "text": [
      "  8%|▊         | 21/250 [48:19<8:52:07, 139.42s/it]"
     ]
    },
    {
     "name": "stdout",
     "output_type": "stream",
     "text": [
      "0.8161208026613849\n"
     ]
    },
    {
     "name": "stderr",
     "output_type": "stream",
     "text": [
      "  9%|▉         | 22/250 [50:29<8:38:46, 136.52s/it]"
     ]
    },
    {
     "name": "stdout",
     "output_type": "stream",
     "text": [
      "0.8169512817511031\n"
     ]
    },
    {
     "name": "stderr",
     "output_type": "stream",
     "text": [
      "  9%|▉         | 23/250 [52:39<8:29:21, 134.63s/it]"
     ]
    },
    {
     "name": "stdout",
     "output_type": "stream",
     "text": [
      "0.8196524410605041\n"
     ]
    },
    {
     "name": "stderr",
     "output_type": "stream",
     "text": [
      " 10%|▉         | 24/250 [54:51<8:23:59, 133.80s/it]"
     ]
    },
    {
     "name": "stdout",
     "output_type": "stream",
     "text": [
      "0.8229209795658481\n"
     ]
    },
    {
     "name": "stderr",
     "output_type": "stream",
     "text": [
      " 10%|█         | 25/250 [57:03<8:19:22, 133.17s/it]"
     ]
    },
    {
     "name": "stdout",
     "output_type": "stream",
     "text": [
      "0.8247370335838078\n"
     ]
    },
    {
     "name": "stderr",
     "output_type": "stream",
     "text": [
      " 10%|█         | 26/250 [59:13<8:13:59, 132.32s/it]"
     ]
    },
    {
     "name": "stdout",
     "output_type": "stream",
     "text": [
      "0.8246384281834902\n"
     ]
    },
    {
     "name": "stderr",
     "output_type": "stream",
     "text": [
      " 11%|█         | 27/250 [1:01:23<8:09:02, 131.58s/it]"
     ]
    },
    {
     "name": "stdout",
     "output_type": "stream",
     "text": [
      "0.8243808966022891\n"
     ]
    },
    {
     "name": "stderr",
     "output_type": "stream",
     "text": [
      " 11%|█         | 28/250 [1:03:35<8:06:53, 131.59s/it]"
     ]
    },
    {
     "name": "stdout",
     "output_type": "stream",
     "text": [
      "0.8248035117618678\n"
     ]
    },
    {
     "name": "stderr",
     "output_type": "stream",
     "text": [
      " 12%|█▏        | 29/250 [1:05:44<8:02:00, 130.86s/it]"
     ]
    },
    {
     "name": "stdout",
     "output_type": "stream",
     "text": [
      "0.8283132944955471\n"
     ]
    },
    {
     "name": "stderr",
     "output_type": "stream",
     "text": [
      " 12%|█▏        | 30/250 [1:07:55<8:00:02, 130.92s/it]"
     ]
    },
    {
     "name": "stdout",
     "output_type": "stream",
     "text": [
      "0.8327338418827667\n"
     ]
    },
    {
     "name": "stderr",
     "output_type": "stream",
     "text": [
      " 12%|█▏        | 31/250 [1:10:08<8:00:12, 131.56s/it]"
     ]
    },
    {
     "name": "stdout",
     "output_type": "stream",
     "text": [
      "0.8359601756056718\n"
     ]
    },
    {
     "name": "stderr",
     "output_type": "stream",
     "text": [
      " 13%|█▎        | 32/250 [1:12:17<7:55:17, 130.81s/it]"
     ]
    },
    {
     "name": "stdout",
     "output_type": "stream",
     "text": [
      "0.8356367965387883\n"
     ]
    },
    {
     "name": "stderr",
     "output_type": "stream",
     "text": [
      " 13%|█▎        | 33/250 [1:14:27<7:52:12, 130.57s/it]"
     ]
    },
    {
     "name": "stdout",
     "output_type": "stream",
     "text": [
      "0.8340586209846858\n"
     ]
    },
    {
     "name": "stderr",
     "output_type": "stream",
     "text": [
      " 14%|█▎        | 34/250 [1:16:45<7:58:33, 132.93s/it]"
     ]
    },
    {
     "name": "stdout",
     "output_type": "stream",
     "text": [
      "0.8298356557201787\n"
     ]
    },
    {
     "name": "stderr",
     "output_type": "stream",
     "text": [
      " 14%|█▍        | 35/250 [1:18:56<7:53:54, 132.25s/it]"
     ]
    },
    {
     "name": "stdout",
     "output_type": "stream",
     "text": [
      "0.8269309565881101\n"
     ]
    },
    {
     "name": "stderr",
     "output_type": "stream",
     "text": [
      " 14%|█▍        | 36/250 [1:21:16<7:59:38, 134.48s/it]"
     ]
    },
    {
     "name": "stdout",
     "output_type": "stream",
     "text": [
      "0.8267790489728706\n"
     ]
    },
    {
     "name": "stderr",
     "output_type": "stream",
     "text": [
      " 15%|█▍        | 37/250 [1:23:26<7:52:54, 133.21s/it]"
     ]
    },
    {
     "name": "stdout",
     "output_type": "stream",
     "text": [
      "0.8278966774982215\n"
     ]
    },
    {
     "name": "stderr",
     "output_type": "stream",
     "text": [
      " 15%|█▌        | 38/250 [1:25:34<7:45:09, 131.65s/it]"
     ]
    },
    {
     "name": "stdout",
     "output_type": "stream",
     "text": [
      "0.8324444596684901\n"
     ]
    },
    {
     "name": "stderr",
     "output_type": "stream",
     "text": [
      " 16%|█▌        | 39/250 [1:27:41<7:38:04, 130.26s/it]"
     ]
    },
    {
     "name": "stdout",
     "output_type": "stream",
     "text": [
      "0.8430217116620787\n"
     ]
    },
    {
     "name": "stderr",
     "output_type": "stream",
     "text": [
      " 16%|█▌        | 40/250 [1:29:48<7:32:23, 129.25s/it]"
     ]
    },
    {
     "name": "stdout",
     "output_type": "stream",
     "text": [
      "0.8502741688142276\n"
     ]
    },
    {
     "name": "stderr",
     "output_type": "stream",
     "text": [
      " 16%|█▋        | 41/250 [1:31:56<7:28:24, 128.73s/it]"
     ]
    },
    {
     "name": "stdout",
     "output_type": "stream",
     "text": [
      "0.8518738038086255\n"
     ]
    },
    {
     "name": "stderr",
     "output_type": "stream",
     "text": [
      " 17%|█▋        | 42/250 [1:34:03<7:24:44, 128.29s/it]"
     ]
    },
    {
     "name": "stdout",
     "output_type": "stream",
     "text": [
      "0.8538308592177648\n"
     ]
    },
    {
     "name": "stderr",
     "output_type": "stream",
     "text": [
      " 17%|█▋        | 43/250 [1:36:09<7:20:25, 127.66s/it]"
     ]
    },
    {
     "name": "stdout",
     "output_type": "stream",
     "text": [
      "0.8570584240450876\n"
     ]
    },
    {
     "name": "stderr",
     "output_type": "stream",
     "text": [
      " 18%|█▊        | 44/250 [1:38:17<7:18:44, 127.79s/it]"
     ]
    },
    {
     "name": "stdout",
     "output_type": "stream",
     "text": [
      "0.8595584843892429\n"
     ]
    },
    {
     "name": "stderr",
     "output_type": "stream",
     "text": [
      " 18%|█▊        | 45/250 [1:40:27<7:18:25, 128.32s/it]"
     ]
    },
    {
     "name": "stdout",
     "output_type": "stream",
     "text": [
      "0.8598645832500811\n"
     ]
    },
    {
     "name": "stderr",
     "output_type": "stream",
     "text": [
      " 18%|█▊        | 46/250 [1:42:34<7:15:35, 128.11s/it]"
     ]
    },
    {
     "name": "stdout",
     "output_type": "stream",
     "text": [
      "0.8606167796846218\n"
     ]
    },
    {
     "name": "stderr",
     "output_type": "stream",
     "text": [
      " 19%|█▉        | 47/250 [1:44:43<7:14:03, 128.29s/it]"
     ]
    },
    {
     "name": "stdout",
     "output_type": "stream",
     "text": [
      "0.8626952505585783\n"
     ]
    },
    {
     "name": "stderr",
     "output_type": "stream",
     "text": [
      " 19%|█▉        | 48/250 [1:46:53<7:14:08, 128.95s/it]"
     ]
    },
    {
     "name": "stdout",
     "output_type": "stream",
     "text": [
      "0.8637711685871299\n"
     ]
    },
    {
     "name": "stderr",
     "output_type": "stream",
     "text": [
      " 20%|█▉        | 49/250 [1:49:04<7:13:25, 129.38s/it]"
     ]
    },
    {
     "name": "stdout",
     "output_type": "stream",
     "text": [
      "0.8649753187080742\n"
     ]
    },
    {
     "name": "stderr",
     "output_type": "stream",
     "text": [
      " 20%|██        | 50/250 [1:51:11<7:08:47, 128.64s/it]"
     ]
    },
    {
     "name": "stdout",
     "output_type": "stream",
     "text": [
      "0.8636661874372986\n"
     ]
    },
    {
     "name": "stderr",
     "output_type": "stream",
     "text": [
      " 20%|██        | 51/250 [1:53:17<7:04:46, 128.07s/it]"
     ]
    },
    {
     "name": "stdout",
     "output_type": "stream",
     "text": [
      "0.8644060976560459\n"
     ]
    },
    {
     "name": "stderr",
     "output_type": "stream",
     "text": [
      " 21%|██        | 52/250 [1:55:28<7:04:37, 128.68s/it]"
     ]
    },
    {
     "name": "stdout",
     "output_type": "stream",
     "text": [
      "0.865261734694021\n"
     ]
    },
    {
     "name": "stderr",
     "output_type": "stream",
     "text": [
      " 21%|██        | 53/250 [1:57:38<7:04:39, 129.34s/it]"
     ]
    },
    {
     "name": "stdout",
     "output_type": "stream",
     "text": [
      "0.86526917508493\n"
     ]
    },
    {
     "name": "stderr",
     "output_type": "stream",
     "text": [
      " 22%|██▏       | 54/250 [1:59:47<7:02:13, 129.25s/it]"
     ]
    },
    {
     "name": "stdout",
     "output_type": "stream",
     "text": [
      "0.8665546528149392\n"
     ]
    },
    {
     "name": "stderr",
     "output_type": "stream",
     "text": [
      " 22%|██▏       | 55/250 [2:01:57<7:00:18, 129.33s/it]"
     ]
    },
    {
     "name": "stdout",
     "output_type": "stream",
     "text": [
      "0.8672907906463487\n"
     ]
    },
    {
     "name": "stderr",
     "output_type": "stream",
     "text": [
      " 22%|██▏       | 56/250 [2:04:06<6:57:23, 129.09s/it]"
     ]
    },
    {
     "name": "stdout",
     "output_type": "stream",
     "text": [
      "0.8670101855559037\n"
     ]
    },
    {
     "name": "stderr",
     "output_type": "stream",
     "text": [
      " 23%|██▎       | 57/250 [2:06:13<6:53:53, 128.67s/it]"
     ]
    },
    {
     "name": "stdout",
     "output_type": "stream",
     "text": [
      "0.8647114128046595\n"
     ]
    },
    {
     "name": "stderr",
     "output_type": "stream",
     "text": [
      " 23%|██▎       | 58/250 [2:08:24<6:53:44, 129.30s/it]"
     ]
    },
    {
     "name": "stdout",
     "output_type": "stream",
     "text": [
      "0.8627634580185775\n"
     ]
    },
    {
     "name": "stderr",
     "output_type": "stream",
     "text": [
      " 24%|██▎       | 59/250 [2:10:35<6:52:59, 129.74s/it]"
     ]
    },
    {
     "name": "stdout",
     "output_type": "stream",
     "text": [
      "0.8604873884502908\n"
     ]
    },
    {
     "name": "stderr",
     "output_type": "stream",
     "text": [
      " 24%|██▍       | 60/250 [2:12:48<6:54:35, 130.92s/it]"
     ]
    },
    {
     "name": "stdout",
     "output_type": "stream",
     "text": [
      "0.855777639186502\n"
     ]
    },
    {
     "name": "stderr",
     "output_type": "stream",
     "text": [
      " 24%|██▍       | 61/250 [2:14:58<6:51:09, 130.53s/it]"
     ]
    },
    {
     "name": "stdout",
     "output_type": "stream",
     "text": [
      "0.8510539445535446\n"
     ]
    },
    {
     "name": "stderr",
     "output_type": "stream",
     "text": [
      " 25%|██▍       | 62/250 [2:17:07<6:47:43, 130.13s/it]"
     ]
    },
    {
     "name": "stdout",
     "output_type": "stream",
     "text": [
      "0.8409551998783522\n"
     ]
    },
    {
     "name": "stderr",
     "output_type": "stream",
     "text": [
      " 25%|██▌       | 63/250 [2:19:11<6:39:44, 128.26s/it]"
     ]
    },
    {
     "name": "stdout",
     "output_type": "stream",
     "text": [
      "0.8348073776757928\n"
     ]
    },
    {
     "name": "stderr",
     "output_type": "stream",
     "text": [
      " 26%|██▌       | 64/250 [2:21:20<6:38:37, 128.59s/it]"
     ]
    },
    {
     "name": "stdout",
     "output_type": "stream",
     "text": [
      "0.8275324172539803\n"
     ]
    },
    {
     "name": "stderr",
     "output_type": "stream",
     "text": [
      " 26%|██▌       | 65/250 [2:23:30<6:37:20, 128.87s/it]"
     ]
    },
    {
     "name": "stdout",
     "output_type": "stream",
     "text": [
      "0.82446331140741\n"
     ]
    },
    {
     "name": "stderr",
     "output_type": "stream",
     "text": [
      " 26%|██▋       | 66/250 [2:25:38<6:34:04, 128.51s/it]"
     ]
    },
    {
     "name": "stdout",
     "output_type": "stream",
     "text": [
      "0.8244971819937483\n"
     ]
    },
    {
     "name": "stderr",
     "output_type": "stream",
     "text": [
      " 27%|██▋       | 67/250 [2:27:46<6:31:53, 128.49s/it]"
     ]
    },
    {
     "name": "stdout",
     "output_type": "stream",
     "text": [
      "0.8294836533199925\n"
     ]
    },
    {
     "name": "stderr",
     "output_type": "stream",
     "text": [
      " 27%|██▋       | 68/250 [2:29:56<6:31:04, 128.93s/it]"
     ]
    },
    {
     "name": "stdout",
     "output_type": "stream",
     "text": [
      "0.8365701420340925\n"
     ]
    },
    {
     "name": "stderr",
     "output_type": "stream",
     "text": [
      " 28%|██▊       | 69/250 [2:32:04<6:28:08, 128.67s/it]"
     ]
    },
    {
     "name": "stdout",
     "output_type": "stream",
     "text": [
      "0.8420450919299518\n"
     ]
    },
    {
     "name": "stderr",
     "output_type": "stream",
     "text": [
      " 28%|██▊       | 70/250 [2:34:14<6:27:22, 129.13s/it]"
     ]
    },
    {
     "name": "stdout",
     "output_type": "stream",
     "text": [
      "0.847621770731311\n"
     ]
    },
    {
     "name": "stderr",
     "output_type": "stream",
     "text": [
      " 28%|██▊       | 71/250 [2:36:23<6:24:30, 128.88s/it]"
     ]
    },
    {
     "name": "stdout",
     "output_type": "stream",
     "text": [
      "0.8536916627305351\n"
     ]
    },
    {
     "name": "stderr",
     "output_type": "stream",
     "text": [
      " 29%|██▉       | 72/250 [2:38:31<6:22:18, 128.87s/it]"
     ]
    },
    {
     "name": "stdout",
     "output_type": "stream",
     "text": [
      "0.8510299519958132\n"
     ]
    },
    {
     "name": "stderr",
     "output_type": "stream",
     "text": [
      " 29%|██▉       | 73/250 [2:40:42<6:21:20, 129.27s/it]"
     ]
    },
    {
     "name": "stdout",
     "output_type": "stream",
     "text": [
      "0.849183280241619\n"
     ]
    },
    {
     "name": "stderr",
     "output_type": "stream",
     "text": [
      " 30%|██▉       | 74/250 [2:42:51<6:19:17, 129.30s/it]"
     ]
    },
    {
     "name": "stdout",
     "output_type": "stream",
     "text": [
      "0.8494988463258837\n"
     ]
    },
    {
     "name": "stderr",
     "output_type": "stream",
     "text": [
      " 30%|███       | 75/250 [2:44:59<6:15:53, 128.88s/it]"
     ]
    },
    {
     "name": "stdout",
     "output_type": "stream",
     "text": [
      "0.847522539534587\n"
     ]
    },
    {
     "name": "stderr",
     "output_type": "stream",
     "text": [
      " 30%|███       | 76/250 [2:47:08<6:13:49, 128.90s/it]"
     ]
    },
    {
     "name": "stdout",
     "output_type": "stream",
     "text": [
      "0.8516109400002437\n"
     ]
    },
    {
     "name": "stderr",
     "output_type": "stream",
     "text": [
      " 31%|███       | 77/250 [2:49:16<6:10:44, 128.58s/it]"
     ]
    },
    {
     "name": "stdout",
     "output_type": "stream",
     "text": [
      "0.8508508052462198\n"
     ]
    },
    {
     "name": "stderr",
     "output_type": "stream",
     "text": [
      " 31%|███       | 78/250 [2:51:25<6:09:16, 128.82s/it]"
     ]
    },
    {
     "name": "stdout",
     "output_type": "stream",
     "text": [
      "0.8541127836396889\n"
     ]
    },
    {
     "name": "stderr",
     "output_type": "stream",
     "text": [
      " 32%|███▏      | 79/250 [2:53:33<6:06:41, 128.66s/it]"
     ]
    },
    {
     "name": "stdout",
     "output_type": "stream",
     "text": [
      "0.8556693385432699\n"
     ]
    },
    {
     "name": "stderr",
     "output_type": "stream",
     "text": [
      " 32%|███▏      | 80/250 [2:55:45<6:07:12, 129.60s/it]"
     ]
    },
    {
     "name": "stdout",
     "output_type": "stream",
     "text": [
      "0.8541523468298848\n"
     ]
    },
    {
     "name": "stderr",
     "output_type": "stream",
     "text": [
      " 32%|███▏      | 81/250 [2:57:56<6:05:54, 129.91s/it]"
     ]
    },
    {
     "name": "stdout",
     "output_type": "stream",
     "text": [
      "0.8532263402793057\n"
     ]
    },
    {
     "name": "stderr",
     "output_type": "stream",
     "text": [
      " 33%|███▎      | 82/250 [3:00:04<6:01:57, 129.27s/it]"
     ]
    },
    {
     "name": "stdout",
     "output_type": "stream",
     "text": [
      "0.8554108897972854\n"
     ]
    },
    {
     "name": "stderr",
     "output_type": "stream",
     "text": [
      " 33%|███▎      | 83/250 [3:02:11<5:57:59, 128.62s/it]"
     ]
    },
    {
     "name": "stdout",
     "output_type": "stream",
     "text": [
      "0.8554757755233547\n"
     ]
    },
    {
     "name": "stderr",
     "output_type": "stream",
     "text": [
      " 34%|███▎      | 84/250 [3:04:21<5:57:36, 129.26s/it]"
     ]
    },
    {
     "name": "stdout",
     "output_type": "stream",
     "text": [
      "0.8586235000629935\n"
     ]
    },
    {
     "name": "stderr",
     "output_type": "stream",
     "text": [
      " 34%|███▍      | 85/250 [3:06:28<5:53:34, 128.57s/it]"
     ]
    },
    {
     "name": "stdout",
     "output_type": "stream",
     "text": [
      "0.8598909093853759\n"
     ]
    },
    {
     "name": "stderr",
     "output_type": "stream",
     "text": [
      " 34%|███▍      | 86/250 [3:08:38<5:52:15, 128.88s/it]"
     ]
    },
    {
     "name": "stdout",
     "output_type": "stream",
     "text": [
      "0.8615399602391056\n"
     ]
    },
    {
     "name": "stderr",
     "output_type": "stream",
     "text": [
      " 35%|███▍      | 87/250 [3:10:45<5:48:46, 128.38s/it]"
     ]
    },
    {
     "name": "stdout",
     "output_type": "stream",
     "text": [
      "0.8612104254509757\n"
     ]
    },
    {
     "name": "stderr",
     "output_type": "stream",
     "text": [
      " 35%|███▌      | 88/250 [3:12:52<5:45:34, 127.99s/it]"
     ]
    },
    {
     "name": "stdout",
     "output_type": "stream",
     "text": [
      "0.861580434445077\n"
     ]
    },
    {
     "name": "stderr",
     "output_type": "stream",
     "text": [
      " 36%|███▌      | 89/250 [3:15:00<5:43:00, 127.83s/it]"
     ]
    },
    {
     "name": "stdout",
     "output_type": "stream",
     "text": [
      "0.8566262382409136\n"
     ]
    },
    {
     "name": "stderr",
     "output_type": "stream",
     "text": [
      " 36%|███▌      | 90/250 [3:17:08<5:41:24, 128.03s/it]"
     ]
    },
    {
     "name": "stdout",
     "output_type": "stream",
     "text": [
      "0.8496121060569014\n"
     ]
    },
    {
     "name": "stderr",
     "output_type": "stream",
     "text": [
      " 36%|███▋      | 91/250 [3:19:16<5:38:49, 127.86s/it]"
     ]
    },
    {
     "name": "stdout",
     "output_type": "stream",
     "text": [
      "0.8379416298966647\n"
     ]
    },
    {
     "name": "stderr",
     "output_type": "stream",
     "text": [
      " 37%|███▋      | 92/250 [3:21:26<5:38:54, 128.70s/it]"
     ]
    },
    {
     "name": "stdout",
     "output_type": "stream",
     "text": [
      "0.8323867847869622\n"
     ]
    },
    {
     "name": "stderr",
     "output_type": "stream",
     "text": [
      " 37%|███▋      | 93/250 [3:23:37<5:38:30, 129.36s/it]"
     ]
    },
    {
     "name": "stdout",
     "output_type": "stream",
     "text": [
      "0.8355294451662931\n"
     ]
    },
    {
     "name": "stderr",
     "output_type": "stream",
     "text": [
      " 38%|███▊      | 94/250 [3:25:46<5:35:45, 129.14s/it]"
     ]
    },
    {
     "name": "stdout",
     "output_type": "stream",
     "text": [
      "0.8432060568709603\n"
     ]
    },
    {
     "name": "stderr",
     "output_type": "stream",
     "text": [
      " 38%|███▊      | 95/250 [3:27:53<5:32:09, 128.58s/it]"
     ]
    },
    {
     "name": "stdout",
     "output_type": "stream",
     "text": [
      "0.8451842710994621\n"
     ]
    },
    {
     "name": "stderr",
     "output_type": "stream",
     "text": [
      " 38%|███▊      | 96/250 [3:30:01<5:29:47, 128.49s/it]"
     ]
    },
    {
     "name": "stdout",
     "output_type": "stream",
     "text": [
      "0.8521970001064131\n"
     ]
    },
    {
     "name": "stderr",
     "output_type": "stream",
     "text": [
      " 39%|███▉      | 97/250 [3:32:13<5:30:00, 129.42s/it]"
     ]
    },
    {
     "name": "stdout",
     "output_type": "stream",
     "text": [
      "0.8593465280600701\n"
     ]
    },
    {
     "name": "stderr",
     "output_type": "stream",
     "text": [
      " 39%|███▉      | 98/250 [3:34:25<5:29:24, 130.03s/it]"
     ]
    },
    {
     "name": "stdout",
     "output_type": "stream",
     "text": [
      "0.8622789355596957\n"
     ]
    },
    {
     "name": "stderr",
     "output_type": "stream",
     "text": [
      " 40%|███▉      | 99/250 [3:36:35<5:27:44, 130.23s/it]"
     ]
    },
    {
     "name": "stdout",
     "output_type": "stream",
     "text": [
      "0.8623979245894609\n"
     ]
    },
    {
     "name": "stderr",
     "output_type": "stream",
     "text": [
      " 40%|████      | 100/250 [3:38:45<5:24:59, 130.00s/it]"
     ]
    },
    {
     "name": "stdout",
     "output_type": "stream",
     "text": [
      "0.86659125056514\n"
     ]
    },
    {
     "name": "stderr",
     "output_type": "stream",
     "text": [
      " 40%|████      | 101/250 [3:40:56<5:23:33, 130.29s/it]"
     ]
    },
    {
     "name": "stdout",
     "output_type": "stream",
     "text": [
      "0.8680712226947607\n"
     ]
    },
    {
     "name": "stderr",
     "output_type": "stream",
     "text": [
      " 41%|████      | 102/250 [3:43:05<5:20:19, 129.86s/it]"
     ]
    },
    {
     "name": "stdout",
     "output_type": "stream",
     "text": [
      "0.8656800853796605\n"
     ]
    },
    {
     "name": "stderr",
     "output_type": "stream",
     "text": [
      " 41%|████      | 103/250 [3:45:14<5:18:06, 129.84s/it]"
     ]
    },
    {
     "name": "stdout",
     "output_type": "stream",
     "text": [
      "0.8623294901887466\n"
     ]
    },
    {
     "name": "stderr",
     "output_type": "stream",
     "text": [
      " 42%|████▏     | 104/250 [3:47:24<5:15:39, 129.72s/it]"
     ]
    },
    {
     "name": "stdout",
     "output_type": "stream",
     "text": [
      "0.8561939617036046\n"
     ]
    },
    {
     "name": "stderr",
     "output_type": "stream",
     "text": [
      " 42%|████▏     | 105/250 [3:49:36<5:15:02, 130.36s/it]"
     ]
    },
    {
     "name": "stdout",
     "output_type": "stream",
     "text": [
      "0.855089169402478\n"
     ]
    },
    {
     "name": "stderr",
     "output_type": "stream",
     "text": [
      " 42%|████▏     | 106/250 [3:51:48<5:14:11, 130.92s/it]"
     ]
    },
    {
     "name": "stdout",
     "output_type": "stream",
     "text": [
      "0.8541944025092537\n"
     ]
    },
    {
     "name": "stderr",
     "output_type": "stream",
     "text": [
      " 43%|████▎     | 107/250 [3:54:00<5:13:16, 131.44s/it]"
     ]
    },
    {
     "name": "stdout",
     "output_type": "stream",
     "text": [
      "0.8491344303067743\n"
     ]
    },
    {
     "name": "stderr",
     "output_type": "stream",
     "text": [
      " 43%|████▎     | 108/250 [3:56:12<5:11:26, 131.59s/it]"
     ]
    },
    {
     "name": "stdout",
     "output_type": "stream",
     "text": [
      "0.8460449519255256\n"
     ]
    },
    {
     "name": "stderr",
     "output_type": "stream",
     "text": [
      " 44%|████▎     | 109/250 [3:58:23<5:08:15, 131.17s/it]"
     ]
    },
    {
     "name": "stdout",
     "output_type": "stream",
     "text": [
      "0.8495465953725496\n"
     ]
    },
    {
     "name": "stderr",
     "output_type": "stream",
     "text": [
      " 44%|████▍     | 110/250 [4:00:37<5:08:04, 132.03s/it]"
     ]
    },
    {
     "name": "stdout",
     "output_type": "stream",
     "text": [
      "0.8521557412007246\n"
     ]
    },
    {
     "name": "stderr",
     "output_type": "stream",
     "text": [
      " 44%|████▍     | 111/250 [4:02:47<5:04:59, 131.65s/it]"
     ]
    },
    {
     "name": "stdout",
     "output_type": "stream",
     "text": [
      "0.8548506306131699\n"
     ]
    },
    {
     "name": "stderr",
     "output_type": "stream",
     "text": [
      " 45%|████▍     | 112/250 [4:04:58<5:02:17, 131.43s/it]"
     ]
    },
    {
     "name": "stdout",
     "output_type": "stream",
     "text": [
      "0.8599606150540684\n"
     ]
    },
    {
     "name": "stderr",
     "output_type": "stream",
     "text": [
      " 45%|████▌     | 113/250 [4:07:12<5:01:40, 132.12s/it]"
     ]
    },
    {
     "name": "stdout",
     "output_type": "stream",
     "text": [
      "0.8660937045571947\n"
     ]
    },
    {
     "name": "stderr",
     "output_type": "stream",
     "text": [
      " 46%|████▌     | 114/250 [4:09:22<4:58:18, 131.61s/it]"
     ]
    },
    {
     "name": "stdout",
     "output_type": "stream",
     "text": [
      "0.8668148908226602\n"
     ]
    },
    {
     "name": "stderr",
     "output_type": "stream",
     "text": [
      " 46%|████▌     | 115/250 [4:11:35<4:56:41, 131.86s/it]"
     ]
    },
    {
     "name": "stdout",
     "output_type": "stream",
     "text": [
      "0.864688361509848\n"
     ]
    },
    {
     "name": "stderr",
     "output_type": "stream",
     "text": [
      " 46%|████▋     | 116/250 [4:13:49<4:55:47, 132.44s/it]"
     ]
    },
    {
     "name": "stdout",
     "output_type": "stream",
     "text": [
      "0.8649601447986492\n"
     ]
    },
    {
     "name": "stderr",
     "output_type": "stream",
     "text": [
      " 47%|████▋     | 117/250 [4:16:01<4:53:25, 132.37s/it]"
     ]
    },
    {
     "name": "stdout",
     "output_type": "stream",
     "text": [
      "0.8566788689609317\n"
     ]
    },
    {
     "name": "stderr",
     "output_type": "stream",
     "text": [
      " 47%|████▋     | 118/250 [4:18:13<4:50:54, 132.23s/it]"
     ]
    },
    {
     "name": "stdout",
     "output_type": "stream",
     "text": [
      "0.8357957826745738\n"
     ]
    },
    {
     "name": "stderr",
     "output_type": "stream",
     "text": [
      " 48%|████▊     | 119/250 [4:20:24<4:47:46, 131.80s/it]"
     ]
    },
    {
     "name": "stdout",
     "output_type": "stream",
     "text": [
      "0.8327861595344672\n"
     ]
    },
    {
     "name": "stderr",
     "output_type": "stream",
     "text": [
      " 48%|████▊     | 120/250 [4:22:35<4:45:06, 131.58s/it]"
     ]
    },
    {
     "name": "stdout",
     "output_type": "stream",
     "text": [
      "0.8348051603402042\n"
     ]
    },
    {
     "name": "stderr",
     "output_type": "stream",
     "text": [
      " 48%|████▊     | 121/250 [4:24:50<4:45:30, 132.79s/it]"
     ]
    },
    {
     "name": "stdout",
     "output_type": "stream",
     "text": [
      "0.8366080491163735\n"
     ]
    },
    {
     "name": "stderr",
     "output_type": "stream",
     "text": [
      " 49%|████▉     | 122/250 [4:27:03<4:43:07, 132.71s/it]"
     ]
    },
    {
     "name": "stdout",
     "output_type": "stream",
     "text": [
      "0.8285702752052988\n"
     ]
    },
    {
     "name": "stderr",
     "output_type": "stream",
     "text": [
      " 49%|████▉     | 123/250 [4:29:17<4:41:39, 133.07s/it]"
     ]
    },
    {
     "name": "stdout",
     "output_type": "stream",
     "text": [
      "0.8292354521405668\n"
     ]
    },
    {
     "name": "stderr",
     "output_type": "stream",
     "text": [
      " 50%|████▉     | 124/250 [4:31:28<4:38:27, 132.60s/it]"
     ]
    },
    {
     "name": "stdout",
     "output_type": "stream",
     "text": [
      "0.8454693638952406\n"
     ]
    },
    {
     "name": "stderr",
     "output_type": "stream",
     "text": [
      " 50%|█████     | 125/250 [4:33:42<4:36:48, 132.86s/it]"
     ]
    },
    {
     "name": "stdout",
     "output_type": "stream",
     "text": [
      "0.8584234957373396\n"
     ]
    },
    {
     "name": "stderr",
     "output_type": "stream",
     "text": [
      " 50%|█████     | 126/250 [4:35:51<4:32:05, 131.66s/it]"
     ]
    },
    {
     "name": "stdout",
     "output_type": "stream",
     "text": [
      "0.860184440354407\n"
     ]
    },
    {
     "name": "stderr",
     "output_type": "stream",
     "text": [
      " 51%|█████     | 127/250 [4:38:04<4:30:50, 132.12s/it]"
     ]
    },
    {
     "name": "stdout",
     "output_type": "stream",
     "text": [
      "0.8513959020388902\n"
     ]
    },
    {
     "name": "stderr",
     "output_type": "stream",
     "text": [
      " 51%|█████     | 128/250 [4:40:14<4:27:47, 131.70s/it]"
     ]
    },
    {
     "name": "stdout",
     "output_type": "stream",
     "text": [
      "0.8484262265637929\n"
     ]
    },
    {
     "name": "stderr",
     "output_type": "stream",
     "text": [
      " 52%|█████▏    | 129/250 [4:42:25<4:24:52, 131.34s/it]"
     ]
    },
    {
     "name": "stdout",
     "output_type": "stream",
     "text": [
      "0.8597608057706319\n"
     ]
    },
    {
     "name": "stderr",
     "output_type": "stream",
     "text": [
      " 52%|█████▏    | 130/250 [4:44:36<4:22:22, 131.19s/it]"
     ]
    },
    {
     "name": "stdout",
     "output_type": "stream",
     "text": [
      "0.8742170986076786\n"
     ]
    },
    {
     "name": "stderr",
     "output_type": "stream",
     "text": [
      " 52%|█████▏    | 131/250 [4:46:50<4:22:13, 132.22s/it]"
     ]
    },
    {
     "name": "stdout",
     "output_type": "stream",
     "text": [
      "0.8692346241697995\n"
     ]
    },
    {
     "name": "stderr",
     "output_type": "stream",
     "text": [
      " 53%|█████▎    | 132/250 [4:49:03<4:20:10, 132.29s/it]"
     ]
    },
    {
     "name": "stdout",
     "output_type": "stream",
     "text": [
      "0.8534123347583391\n"
     ]
    },
    {
     "name": "stderr",
     "output_type": "stream",
     "text": [
      " 53%|█████▎    | 133/250 [4:51:16<4:18:29, 132.56s/it]"
     ]
    },
    {
     "name": "stdout",
     "output_type": "stream",
     "text": [
      "0.82748765372909\n"
     ]
    },
    {
     "name": "stderr",
     "output_type": "stream",
     "text": [
      " 54%|█████▎    | 134/250 [4:53:28<4:15:59, 132.41s/it]"
     ]
    },
    {
     "name": "stdout",
     "output_type": "stream",
     "text": [
      "0.8174685385409757\n"
     ]
    },
    {
     "name": "stderr",
     "output_type": "stream",
     "text": [
      " 54%|█████▍    | 135/250 [4:55:42<4:14:50, 132.96s/it]"
     ]
    },
    {
     "name": "stdout",
     "output_type": "stream",
     "text": [
      "0.8221316296717736\n"
     ]
    },
    {
     "name": "stderr",
     "output_type": "stream",
     "text": [
      " 54%|█████▍    | 136/250 [4:57:54<4:11:43, 132.49s/it]"
     ]
    },
    {
     "name": "stdout",
     "output_type": "stream",
     "text": [
      "0.8369098837439216\n"
     ]
    },
    {
     "name": "stderr",
     "output_type": "stream",
     "text": [
      " 55%|█████▍    | 137/250 [5:00:06<4:09:06, 132.27s/it]"
     ]
    },
    {
     "name": "stdout",
     "output_type": "stream",
     "text": [
      "0.8467887809377475\n"
     ]
    },
    {
     "name": "stderr",
     "output_type": "stream",
     "text": [
      " 55%|█████▌    | 138/250 [5:02:18<4:06:49, 132.23s/it]"
     ]
    },
    {
     "name": "stdout",
     "output_type": "stream",
     "text": [
      "0.8508284350473949\n"
     ]
    },
    {
     "name": "stderr",
     "output_type": "stream",
     "text": [
      " 56%|█████▌    | 139/250 [5:04:31<4:05:13, 132.55s/it]"
     ]
    },
    {
     "name": "stdout",
     "output_type": "stream",
     "text": [
      "0.8532060685601436\n"
     ]
    },
    {
     "name": "stderr",
     "output_type": "stream",
     "text": [
      " 56%|█████▌    | 140/250 [5:06:42<4:02:23, 132.21s/it]"
     ]
    },
    {
     "name": "stdout",
     "output_type": "stream",
     "text": [
      "0.8546901562597919\n"
     ]
    },
    {
     "name": "stderr",
     "output_type": "stream",
     "text": [
      " 56%|█████▋    | 141/250 [5:08:54<3:59:47, 131.99s/it]"
     ]
    },
    {
     "name": "stdout",
     "output_type": "stream",
     "text": [
      "0.8566481018726795\n"
     ]
    },
    {
     "name": "stderr",
     "output_type": "stream",
     "text": [
      " 57%|█████▋    | 142/250 [5:11:06<3:57:26, 131.91s/it]"
     ]
    },
    {
     "name": "stdout",
     "output_type": "stream",
     "text": [
      "0.861643213227262\n"
     ]
    },
    {
     "name": "stderr",
     "output_type": "stream",
     "text": [
      " 57%|█████▋    | 143/250 [5:13:21<3:56:51, 132.82s/it]"
     ]
    },
    {
     "name": "stdout",
     "output_type": "stream",
     "text": [
      "0.8542252540322642\n"
     ]
    },
    {
     "name": "stderr",
     "output_type": "stream",
     "text": [
      " 58%|█████▊    | 144/250 [5:15:32<3:53:45, 132.31s/it]"
     ]
    },
    {
     "name": "stdout",
     "output_type": "stream",
     "text": [
      "0.8405952843770841\n"
     ]
    },
    {
     "name": "stderr",
     "output_type": "stream",
     "text": [
      " 58%|█████▊    | 145/250 [5:17:44<3:51:47, 132.45s/it]"
     ]
    },
    {
     "name": "stdout",
     "output_type": "stream",
     "text": [
      "0.8205711725546341\n"
     ]
    },
    {
     "name": "stderr",
     "output_type": "stream",
     "text": [
      " 58%|█████▊    | 146/250 [5:19:56<3:48:51, 132.03s/it]"
     ]
    },
    {
     "name": "stdout",
     "output_type": "stream",
     "text": [
      "0.805249935463165\n"
     ]
    },
    {
     "name": "stderr",
     "output_type": "stream",
     "text": [
      " 59%|█████▉    | 147/250 [5:22:09<3:47:09, 132.33s/it]"
     ]
    },
    {
     "name": "stdout",
     "output_type": "stream",
     "text": [
      "0.8028968848875959\n"
     ]
    },
    {
     "name": "stderr",
     "output_type": "stream",
     "text": [
      " 59%|█████▉    | 148/250 [5:24:22<3:45:29, 132.65s/it]"
     ]
    },
    {
     "name": "stdout",
     "output_type": "stream",
     "text": [
      "0.8233479063583573\n"
     ]
    },
    {
     "name": "stderr",
     "output_type": "stream",
     "text": [
      " 60%|█████▉    | 149/250 [5:26:36<3:43:59, 133.07s/it]"
     ]
    },
    {
     "name": "stdout",
     "output_type": "stream",
     "text": [
      "0.8419649687879015\n"
     ]
    },
    {
     "name": "stderr",
     "output_type": "stream",
     "text": [
      " 60%|██████    | 150/250 [5:28:51<3:42:38, 133.58s/it]"
     ]
    },
    {
     "name": "stdout",
     "output_type": "stream",
     "text": [
      "0.8569346831101032\n"
     ]
    },
    {
     "name": "stderr",
     "output_type": "stream",
     "text": [
      " 60%|██████    | 151/250 [5:31:04<3:40:16, 133.50s/it]"
     ]
    },
    {
     "name": "stdout",
     "output_type": "stream",
     "text": [
      "0.8655697053842464\n"
     ]
    },
    {
     "name": "stderr",
     "output_type": "stream",
     "text": [
      " 61%|██████    | 152/250 [5:33:17<3:37:55, 133.42s/it]"
     ]
    },
    {
     "name": "stdout",
     "output_type": "stream",
     "text": [
      "0.872120628840589\n"
     ]
    },
    {
     "name": "stderr",
     "output_type": "stream",
     "text": [
      " 61%|██████    | 153/250 [5:35:28<3:34:27, 132.66s/it]"
     ]
    },
    {
     "name": "stdout",
     "output_type": "stream",
     "text": [
      "0.8770335994316684\n"
     ]
    },
    {
     "name": "stderr",
     "output_type": "stream",
     "text": [
      " 62%|██████▏   | 154/250 [5:37:43<3:33:05, 133.18s/it]"
     ]
    },
    {
     "name": "stdout",
     "output_type": "stream",
     "text": [
      "0.8798633775902956\n"
     ]
    },
    {
     "name": "stderr",
     "output_type": "stream",
     "text": [
      " 62%|██████▏   | 155/250 [5:39:56<3:31:07, 133.34s/it]"
     ]
    },
    {
     "name": "stdout",
     "output_type": "stream",
     "text": [
      "0.8835907398835823\n"
     ]
    },
    {
     "name": "stderr",
     "output_type": "stream",
     "text": [
      " 62%|██████▏   | 156/250 [5:42:08<3:28:17, 132.95s/it]"
     ]
    },
    {
     "name": "stdout",
     "output_type": "stream",
     "text": [
      "0.8840850883576002\n"
     ]
    },
    {
     "name": "stderr",
     "output_type": "stream",
     "text": [
      " 63%|██████▎   | 157/250 [5:44:21<3:25:57, 132.88s/it]"
     ]
    },
    {
     "name": "stdout",
     "output_type": "stream",
     "text": [
      "0.8839919959204867\n"
     ]
    },
    {
     "name": "stderr",
     "output_type": "stream",
     "text": [
      " 63%|██████▎   | 158/250 [5:46:34<3:23:34, 132.77s/it]"
     ]
    },
    {
     "name": "stdout",
     "output_type": "stream",
     "text": [
      "0.8833148018486855\n"
     ]
    },
    {
     "name": "stderr",
     "output_type": "stream",
     "text": [
      " 64%|██████▎   | 159/250 [5:48:47<3:21:37, 132.94s/it]"
     ]
    },
    {
     "name": "stdout",
     "output_type": "stream",
     "text": [
      "0.8861192452730025\n"
     ]
    },
    {
     "name": "stderr",
     "output_type": "stream",
     "text": [
      " 64%|██████▍   | 160/250 [5:51:01<3:19:59, 133.33s/it]"
     ]
    },
    {
     "name": "stdout",
     "output_type": "stream",
     "text": [
      "0.8900238412524595\n"
     ]
    },
    {
     "name": "stderr",
     "output_type": "stream",
     "text": [
      " 64%|██████▍   | 161/250 [5:53:14<3:17:47, 133.34s/it]"
     ]
    },
    {
     "name": "stdout",
     "output_type": "stream",
     "text": [
      "0.8926357672288636\n"
     ]
    },
    {
     "name": "stderr",
     "output_type": "stream",
     "text": [
      " 65%|██████▍   | 162/250 [5:55:27<3:15:12, 133.09s/it]"
     ]
    },
    {
     "name": "stdout",
     "output_type": "stream",
     "text": [
      "0.8948305703794276\n"
     ]
    },
    {
     "name": "stderr",
     "output_type": "stream",
     "text": [
      " 65%|██████▌   | 163/250 [5:57:38<3:12:12, 132.56s/it]"
     ]
    },
    {
     "name": "stdout",
     "output_type": "stream",
     "text": [
      "0.8932422629032666\n"
     ]
    },
    {
     "name": "stderr",
     "output_type": "stream",
     "text": [
      " 66%|██████▌   | 164/250 [5:59:55<3:11:37, 133.69s/it]"
     ]
    },
    {
     "name": "stdout",
     "output_type": "stream",
     "text": [
      "0.8918448219701103\n"
     ]
    },
    {
     "name": "stderr",
     "output_type": "stream",
     "text": [
      " 66%|██████▌   | 165/250 [6:02:02<3:06:41, 131.79s/it]"
     ]
    },
    {
     "name": "stdout",
     "output_type": "stream",
     "text": [
      "0.8886774725106028\n"
     ]
    },
    {
     "name": "stderr",
     "output_type": "stream",
     "text": [
      " 66%|██████▋   | 166/250 [6:04:13<3:04:10, 131.55s/it]"
     ]
    },
    {
     "name": "stdout",
     "output_type": "stream",
     "text": [
      "0.884113493679112\n"
     ]
    },
    {
     "name": "stderr",
     "output_type": "stream",
     "text": [
      " 67%|██████▋   | 167/250 [6:06:21<3:00:28, 130.46s/it]"
     ]
    },
    {
     "name": "stdout",
     "output_type": "stream",
     "text": [
      "0.8775162537040977\n"
     ]
    },
    {
     "name": "stderr",
     "output_type": "stream",
     "text": [
      " 67%|██████▋   | 168/250 [6:08:31<2:58:03, 130.29s/it]"
     ]
    },
    {
     "name": "stdout",
     "output_type": "stream",
     "text": [
      "0.8746234779631599\n"
     ]
    },
    {
     "name": "stderr",
     "output_type": "stream",
     "text": [
      " 68%|██████▊   | 169/250 [6:10:38<2:54:42, 129.42s/it]"
     ]
    },
    {
     "name": "stdout",
     "output_type": "stream",
     "text": [
      "0.8718211473744893\n"
     ]
    },
    {
     "name": "stderr",
     "output_type": "stream",
     "text": [
      " 68%|██████▊   | 170/250 [6:12:47<2:52:29, 129.37s/it]"
     ]
    },
    {
     "name": "stdout",
     "output_type": "stream",
     "text": [
      "0.8623680073422382\n"
     ]
    },
    {
     "name": "stderr",
     "output_type": "stream",
     "text": [
      " 68%|██████▊   | 171/250 [6:14:52<2:48:15, 127.79s/it]"
     ]
    },
    {
     "name": "stdout",
     "output_type": "stream",
     "text": [
      "0.8542106454830445\n"
     ]
    },
    {
     "name": "stderr",
     "output_type": "stream",
     "text": [
      " 69%|██████▉   | 172/250 [6:16:56<2:44:59, 126.92s/it]"
     ]
    },
    {
     "name": "stdout",
     "output_type": "stream",
     "text": [
      "0.857042492645928\n"
     ]
    },
    {
     "name": "stderr",
     "output_type": "stream",
     "text": [
      " 69%|██████▉   | 173/250 [6:19:02<2:42:16, 126.45s/it]"
     ]
    },
    {
     "name": "stdout",
     "output_type": "stream",
     "text": [
      "0.8658935169396546\n"
     ]
    },
    {
     "name": "stderr",
     "output_type": "stream",
     "text": [
      " 70%|██████▉   | 174/250 [6:21:06<2:39:10, 125.66s/it]"
     ]
    },
    {
     "name": "stdout",
     "output_type": "stream",
     "text": [
      "0.8746798230823005\n"
     ]
    },
    {
     "name": "stderr",
     "output_type": "stream",
     "text": [
      " 70%|███████   | 175/250 [6:23:10<2:36:34, 125.26s/it]"
     ]
    },
    {
     "name": "stdout",
     "output_type": "stream",
     "text": [
      "0.8803316028296848\n"
     ]
    },
    {
     "name": "stderr",
     "output_type": "stream",
     "text": [
      " 70%|███████   | 176/250 [6:25:16<2:34:54, 125.61s/it]"
     ]
    },
    {
     "name": "stdout",
     "output_type": "stream",
     "text": [
      "0.8851292622694953\n"
     ]
    },
    {
     "name": "stderr",
     "output_type": "stream",
     "text": [
      " 71%|███████   | 177/250 [6:27:24<2:33:26, 126.12s/it]"
     ]
    },
    {
     "name": "stdout",
     "output_type": "stream",
     "text": [
      "0.88683287264016\n"
     ]
    },
    {
     "name": "stderr",
     "output_type": "stream",
     "text": [
      " 71%|███████   | 178/250 [6:29:31<2:31:53, 126.57s/it]"
     ]
    },
    {
     "name": "stdout",
     "output_type": "stream",
     "text": [
      "0.8897320874546053\n"
     ]
    },
    {
     "name": "stderr",
     "output_type": "stream",
     "text": [
      " 72%|███████▏  | 179/250 [6:31:38<2:29:39, 126.48s/it]"
     ]
    },
    {
     "name": "stdout",
     "output_type": "stream",
     "text": [
      "0.8940503912701676\n"
     ]
    },
    {
     "name": "stderr",
     "output_type": "stream",
     "text": [
      " 72%|███████▏  | 180/250 [6:33:44<2:27:27, 126.40s/it]"
     ]
    },
    {
     "name": "stdout",
     "output_type": "stream",
     "text": [
      "0.8941778136850912\n"
     ]
    },
    {
     "name": "stderr",
     "output_type": "stream",
     "text": [
      " 72%|███████▏  | 181/250 [6:35:50<2:25:27, 126.49s/it]"
     ]
    },
    {
     "name": "stdout",
     "output_type": "stream",
     "text": [
      "0.8909740617499515\n"
     ]
    },
    {
     "name": "stderr",
     "output_type": "stream",
     "text": [
      " 73%|███████▎  | 182/250 [6:37:57<2:23:17, 126.44s/it]"
     ]
    },
    {
     "name": "stdout",
     "output_type": "stream",
     "text": [
      "0.8828684478007738\n"
     ]
    },
    {
     "name": "stderr",
     "output_type": "stream",
     "text": [
      " 73%|███████▎  | 183/250 [6:40:01<2:20:26, 125.77s/it]"
     ]
    },
    {
     "name": "stdout",
     "output_type": "stream",
     "text": [
      "0.8749988123300824\n"
     ]
    },
    {
     "name": "stderr",
     "output_type": "stream",
     "text": [
      " 74%|███████▎  | 184/250 [6:42:07<2:18:30, 125.92s/it]"
     ]
    },
    {
     "name": "stdout",
     "output_type": "stream",
     "text": [
      "0.8665818980983007\n"
     ]
    },
    {
     "name": "stderr",
     "output_type": "stream",
     "text": [
      " 74%|███████▍  | 185/250 [6:44:12<2:16:01, 125.56s/it]"
     ]
    },
    {
     "name": "stdout",
     "output_type": "stream",
     "text": [
      "0.8615371135969483\n"
     ]
    },
    {
     "name": "stderr",
     "output_type": "stream",
     "text": [
      " 74%|███████▍  | 186/250 [6:46:15<2:13:00, 124.70s/it]"
     ]
    },
    {
     "name": "stdout",
     "output_type": "stream",
     "text": [
      "0.8640050796131339\n"
     ]
    },
    {
     "name": "stderr",
     "output_type": "stream",
     "text": [
      " 75%|███████▍  | 187/250 [6:48:21<2:11:32, 125.28s/it]"
     ]
    },
    {
     "name": "stdout",
     "output_type": "stream",
     "text": [
      "0.8701905954336278\n"
     ]
    },
    {
     "name": "stderr",
     "output_type": "stream",
     "text": [
      " 75%|███████▌  | 188/250 [6:50:24<2:08:47, 124.64s/it]"
     ]
    },
    {
     "name": "stdout",
     "output_type": "stream",
     "text": [
      "0.8788396034811496\n"
     ]
    },
    {
     "name": "stderr",
     "output_type": "stream",
     "text": [
      " 76%|███████▌  | 189/250 [6:52:24<2:05:02, 122.99s/it]"
     ]
    },
    {
     "name": "stdout",
     "output_type": "stream",
     "text": [
      "0.8848682089248947\n"
     ]
    },
    {
     "name": "stderr",
     "output_type": "stream",
     "text": [
      " 76%|███████▌  | 190/250 [6:54:27<2:03:11, 123.20s/it]"
     ]
    },
    {
     "name": "stdout",
     "output_type": "stream",
     "text": [
      "0.8873107098577592\n"
     ]
    },
    {
     "name": "stderr",
     "output_type": "stream",
     "text": [
      " 76%|███████▋  | 191/250 [6:56:32<2:01:27, 123.51s/it]"
     ]
    },
    {
     "name": "stdout",
     "output_type": "stream",
     "text": [
      "0.8875738323393882\n"
     ]
    },
    {
     "name": "stderr",
     "output_type": "stream",
     "text": [
      " 77%|███████▋  | 192/250 [6:58:35<1:59:15, 123.38s/it]"
     ]
    },
    {
     "name": "stdout",
     "output_type": "stream",
     "text": [
      "0.8863978747643646\n"
     ]
    },
    {
     "name": "stderr",
     "output_type": "stream",
     "text": [
      " 77%|███████▋  | 193/250 [7:00:38<1:57:08, 123.31s/it]"
     ]
    },
    {
     "name": "stdout",
     "output_type": "stream",
     "text": [
      "0.8850581762439464\n"
     ]
    },
    {
     "name": "stderr",
     "output_type": "stream",
     "text": [
      " 78%|███████▊  | 194/250 [7:02:43<1:55:45, 124.02s/it]"
     ]
    },
    {
     "name": "stdout",
     "output_type": "stream",
     "text": [
      "0.8848673301976349\n"
     ]
    },
    {
     "name": "stderr",
     "output_type": "stream",
     "text": [
      " 78%|███████▊  | 195/250 [7:04:49<1:54:04, 124.44s/it]"
     ]
    },
    {
     "name": "stdout",
     "output_type": "stream",
     "text": [
      "0.8841880471227795\n"
     ]
    },
    {
     "name": "stderr",
     "output_type": "stream",
     "text": [
      " 78%|███████▊  | 196/250 [7:06:53<1:51:58, 124.41s/it]"
     ]
    },
    {
     "name": "stdout",
     "output_type": "stream",
     "text": [
      "0.8843289396491338\n"
     ]
    },
    {
     "name": "stderr",
     "output_type": "stream",
     "text": [
      " 79%|███████▉  | 197/250 [7:08:58<1:50:00, 124.54s/it]"
     ]
    },
    {
     "name": "stdout",
     "output_type": "stream",
     "text": [
      "0.8857975839036926\n"
     ]
    },
    {
     "name": "stderr",
     "output_type": "stream",
     "text": [
      " 79%|███████▉  | 198/250 [7:10:59<1:47:03, 123.54s/it]"
     ]
    },
    {
     "name": "stdout",
     "output_type": "stream",
     "text": [
      "0.8902992556092928\n"
     ]
    },
    {
     "name": "stderr",
     "output_type": "stream",
     "text": [
      " 80%|███████▉  | 199/250 [7:13:00<1:44:15, 122.65s/it]"
     ]
    },
    {
     "name": "stdout",
     "output_type": "stream",
     "text": [
      "0.8940509354366261\n"
     ]
    },
    {
     "name": "stderr",
     "output_type": "stream",
     "text": [
      " 80%|████████  | 200/250 [7:15:01<1:41:50, 122.21s/it]"
     ]
    },
    {
     "name": "stdout",
     "output_type": "stream",
     "text": [
      "0.8945204343338915\n"
     ]
    },
    {
     "name": "stderr",
     "output_type": "stream",
     "text": [
      " 80%|████████  | 201/250 [7:17:06<1:40:32, 123.11s/it]"
     ]
    },
    {
     "name": "stdout",
     "output_type": "stream",
     "text": [
      "0.8884570052822588\n"
     ]
    },
    {
     "name": "stderr",
     "output_type": "stream",
     "text": [
      " 81%|████████  | 202/250 [7:19:08<1:38:16, 122.84s/it]"
     ]
    },
    {
     "name": "stdout",
     "output_type": "stream",
     "text": [
      "0.879265398706826\n"
     ]
    },
    {
     "name": "stderr",
     "output_type": "stream",
     "text": [
      " 81%|████████  | 203/250 [7:21:14<1:36:58, 123.79s/it]"
     ]
    },
    {
     "name": "stdout",
     "output_type": "stream",
     "text": [
      "0.8728173964577541\n"
     ]
    },
    {
     "name": "stderr",
     "output_type": "stream",
     "text": [
      " 82%|████████▏ | 204/250 [7:23:17<1:34:37, 123.42s/it]"
     ]
    },
    {
     "name": "stdout",
     "output_type": "stream",
     "text": [
      "0.8671905449131014\n"
     ]
    },
    {
     "name": "stderr",
     "output_type": "stream",
     "text": [
      " 82%|████████▏ | 205/250 [7:25:19<1:32:08, 122.85s/it]"
     ]
    },
    {
     "name": "stdout",
     "output_type": "stream",
     "text": [
      "0.8664041944901713\n"
     ]
    },
    {
     "name": "stderr",
     "output_type": "stream",
     "text": [
      " 82%|████████▏ | 206/250 [7:27:25<1:30:49, 123.84s/it]"
     ]
    },
    {
     "name": "stdout",
     "output_type": "stream",
     "text": [
      "0.8716544736925278\n"
     ]
    },
    {
     "name": "stderr",
     "output_type": "stream",
     "text": [
      " 83%|████████▎ | 207/250 [7:29:28<1:28:36, 123.63s/it]"
     ]
    },
    {
     "name": "stdout",
     "output_type": "stream",
     "text": [
      "0.8707446183287259\n"
     ]
    },
    {
     "name": "stderr",
     "output_type": "stream",
     "text": [
      " 83%|████████▎ | 208/250 [7:31:34<1:27:02, 124.36s/it]"
     ]
    },
    {
     "name": "stdout",
     "output_type": "stream",
     "text": [
      "0.8726175231366735\n"
     ]
    },
    {
     "name": "stderr",
     "output_type": "stream",
     "text": [
      " 84%|████████▎ | 209/250 [7:33:39<1:25:09, 124.63s/it]"
     ]
    },
    {
     "name": "stdout",
     "output_type": "stream",
     "text": [
      "0.873697522372173\n"
     ]
    },
    {
     "name": "stderr",
     "output_type": "stream",
     "text": [
      " 84%|████████▍ | 210/250 [7:35:41<1:22:34, 123.86s/it]"
     ]
    },
    {
     "name": "stdout",
     "output_type": "stream",
     "text": [
      "0.869827281422962\n"
     ]
    },
    {
     "name": "stderr",
     "output_type": "stream",
     "text": [
      " 84%|████████▍ | 211/250 [7:37:41<1:19:42, 122.64s/it]"
     ]
    },
    {
     "name": "stdout",
     "output_type": "stream",
     "text": [
      "0.8650141825046284\n"
     ]
    },
    {
     "name": "stderr",
     "output_type": "stream",
     "text": [
      " 85%|████████▍ | 212/250 [7:39:42<1:17:27, 122.29s/it]"
     ]
    },
    {
     "name": "stdout",
     "output_type": "stream",
     "text": [
      "0.8547745543232863\n"
     ]
    },
    {
     "name": "stderr",
     "output_type": "stream",
     "text": [
      " 85%|████████▌ | 213/250 [7:41:44<1:15:18, 122.11s/it]"
     ]
    },
    {
     "name": "stdout",
     "output_type": "stream",
     "text": [
      "0.847254172347487\n"
     ]
    },
    {
     "name": "stderr",
     "output_type": "stream",
     "text": [
      " 86%|████████▌ | 214/250 [7:43:46<1:13:14, 122.07s/it]"
     ]
    },
    {
     "name": "stdout",
     "output_type": "stream",
     "text": [
      "0.8398526321157007\n"
     ]
    },
    {
     "name": "stderr",
     "output_type": "stream",
     "text": [
      " 86%|████████▌ | 215/250 [7:45:51<1:11:46, 123.05s/it]"
     ]
    },
    {
     "name": "stdout",
     "output_type": "stream",
     "text": [
      "0.8375887500554483\n"
     ]
    },
    {
     "name": "stderr",
     "output_type": "stream",
     "text": [
      " 86%|████████▋ | 216/250 [7:47:55<1:09:47, 123.17s/it]"
     ]
    },
    {
     "name": "stdout",
     "output_type": "stream",
     "text": [
      "0.8267165928849801\n"
     ]
    },
    {
     "name": "stderr",
     "output_type": "stream",
     "text": [
      " 87%|████████▋ | 217/250 [7:50:01<1:08:12, 124.00s/it]"
     ]
    },
    {
     "name": "stdout",
     "output_type": "stream",
     "text": [
      "0.8241995092985859\n"
     ]
    },
    {
     "name": "stderr",
     "output_type": "stream",
     "text": [
      " 87%|████████▋ | 218/250 [7:52:07<1:06:26, 124.57s/it]"
     ]
    },
    {
     "name": "stdout",
     "output_type": "stream",
     "text": [
      "0.8429034629695524\n"
     ]
    },
    {
     "name": "stderr",
     "output_type": "stream",
     "text": [
      " 88%|████████▊ | 219/250 [7:54:11<1:04:15, 124.38s/it]"
     ]
    },
    {
     "name": "stdout",
     "output_type": "stream",
     "text": [
      "0.8671253241698266\n"
     ]
    },
    {
     "name": "stderr",
     "output_type": "stream",
     "text": [
      " 88%|████████▊ | 220/250 [7:56:16<1:02:20, 124.68s/it]"
     ]
    },
    {
     "name": "stdout",
     "output_type": "stream",
     "text": [
      "0.883719774998242\n"
     ]
    },
    {
     "name": "stderr",
     "output_type": "stream",
     "text": [
      " 88%|████████▊ | 221/250 [7:58:18<59:55, 123.98s/it]  "
     ]
    },
    {
     "name": "stdout",
     "output_type": "stream",
     "text": [
      "0.8937525743596078\n"
     ]
    },
    {
     "name": "stderr",
     "output_type": "stream",
     "text": [
      " 89%|████████▉ | 222/250 [8:00:25<58:10, 124.65s/it]"
     ]
    },
    {
     "name": "stdout",
     "output_type": "stream",
     "text": [
      "0.8979589734996251\n"
     ]
    },
    {
     "name": "stderr",
     "output_type": "stream",
     "text": [
      " 89%|████████▉ | 223/250 [8:02:30<56:15, 125.01s/it]"
     ]
    },
    {
     "name": "stdout",
     "output_type": "stream",
     "text": [
      "0.8997802452454244\n"
     ]
    },
    {
     "name": "stderr",
     "output_type": "stream",
     "text": [
      " 90%|████████▉ | 224/250 [8:04:36<54:14, 125.19s/it]"
     ]
    },
    {
     "name": "stdout",
     "output_type": "stream",
     "text": [
      "0.9044848429516699\n"
     ]
    },
    {
     "name": "stderr",
     "output_type": "stream",
     "text": [
      " 90%|█████████ | 225/250 [8:06:40<52:01, 124.88s/it]"
     ]
    },
    {
     "name": "stdout",
     "output_type": "stream",
     "text": [
      "0.8983732185067587\n"
     ]
    },
    {
     "name": "stderr",
     "output_type": "stream",
     "text": [
      " 90%|█████████ | 226/250 [8:08:47<50:10, 125.44s/it]"
     ]
    },
    {
     "name": "stdout",
     "output_type": "stream",
     "text": [
      "0.8920908015652402\n"
     ]
    },
    {
     "name": "stderr",
     "output_type": "stream",
     "text": [
      " 91%|█████████ | 227/250 [8:10:52<48:03, 125.38s/it]"
     ]
    },
    {
     "name": "stdout",
     "output_type": "stream",
     "text": [
      "0.8862576004332137\n"
     ]
    },
    {
     "name": "stderr",
     "output_type": "stream",
     "text": [
      " 91%|█████████ | 228/250 [8:12:54<45:31, 124.17s/it]"
     ]
    },
    {
     "name": "stdout",
     "output_type": "stream",
     "text": [
      "0.8827017533565747\n"
     ]
    },
    {
     "name": "stderr",
     "output_type": "stream",
     "text": [
      " 92%|█████████▏| 229/250 [8:14:58<43:26, 124.10s/it]"
     ]
    },
    {
     "name": "stdout",
     "output_type": "stream",
     "text": [
      "0.8842089635832671\n"
     ]
    },
    {
     "name": "stderr",
     "output_type": "stream",
     "text": [
      " 92%|█████████▏| 230/250 [8:16:59<41:04, 123.21s/it]"
     ]
    },
    {
     "name": "stdout",
     "output_type": "stream",
     "text": [
      "0.88572235045111\n"
     ]
    },
    {
     "name": "stderr",
     "output_type": "stream",
     "text": [
      " 92%|█████████▏| 231/250 [8:19:00<38:51, 122.73s/it]"
     ]
    },
    {
     "name": "stdout",
     "output_type": "stream",
     "text": [
      "0.8844486346364615\n"
     ]
    },
    {
     "name": "stderr",
     "output_type": "stream",
     "text": [
      " 93%|█████████▎| 232/250 [8:21:05<36:58, 123.27s/it]"
     ]
    },
    {
     "name": "stdout",
     "output_type": "stream",
     "text": [
      "0.8742305458491149\n"
     ]
    },
    {
     "name": "stderr",
     "output_type": "stream",
     "text": [
      " 93%|█████████▎| 233/250 [8:23:08<34:56, 123.32s/it]"
     ]
    },
    {
     "name": "stdout",
     "output_type": "stream",
     "text": [
      "0.8708722094306046\n"
     ]
    },
    {
     "name": "stderr",
     "output_type": "stream",
     "text": [
      " 94%|█████████▎| 234/250 [8:25:10<32:43, 122.72s/it]"
     ]
    },
    {
     "name": "stdout",
     "output_type": "stream",
     "text": [
      "0.8615175378110551\n"
     ]
    },
    {
     "name": "stderr",
     "output_type": "stream",
     "text": [
      " 94%|█████████▍| 235/250 [8:27:11<30:35, 122.34s/it]"
     ]
    },
    {
     "name": "stdout",
     "output_type": "stream",
     "text": [
      "0.8667770104358697\n"
     ]
    },
    {
     "name": "stderr",
     "output_type": "stream",
     "text": [
      " 94%|█████████▍| 236/250 [8:29:15<28:41, 122.94s/it]"
     ]
    },
    {
     "name": "stdout",
     "output_type": "stream",
     "text": [
      "0.86995673063721\n"
     ]
    },
    {
     "name": "stderr",
     "output_type": "stream",
     "text": [
      " 95%|█████████▍| 237/250 [8:31:20<26:43, 123.32s/it]"
     ]
    },
    {
     "name": "stdout",
     "output_type": "stream",
     "text": [
      "0.871025771261757\n"
     ]
    },
    {
     "name": "stderr",
     "output_type": "stream",
     "text": [
      " 95%|█████████▌| 238/250 [8:33:24<24:43, 123.61s/it]"
     ]
    },
    {
     "name": "stdout",
     "output_type": "stream",
     "text": [
      "0.8782327021381864\n"
     ]
    },
    {
     "name": "stderr",
     "output_type": "stream",
     "text": [
      " 96%|█████████▌| 239/250 [8:35:28<22:41, 123.76s/it]"
     ]
    },
    {
     "name": "stdout",
     "output_type": "stream",
     "text": [
      "0.8814225883923134\n"
     ]
    },
    {
     "name": "stderr",
     "output_type": "stream",
     "text": [
      " 96%|█████████▌| 240/250 [8:37:32<20:39, 124.00s/it]"
     ]
    },
    {
     "name": "stdout",
     "output_type": "stream",
     "text": [
      "0.8825607107313596\n"
     ]
    },
    {
     "name": "stderr",
     "output_type": "stream",
     "text": [
      " 96%|█████████▋| 241/250 [8:39:34<18:28, 123.15s/it]"
     ]
    },
    {
     "name": "stdout",
     "output_type": "stream",
     "text": [
      "0.8811497169033671\n"
     ]
    },
    {
     "name": "stderr",
     "output_type": "stream",
     "text": [
      " 97%|█████████▋| 242/250 [8:41:35<16:21, 122.74s/it]"
     ]
    },
    {
     "name": "stdout",
     "output_type": "stream",
     "text": [
      "0.8802323896401771\n"
     ]
    },
    {
     "name": "stderr",
     "output_type": "stream",
     "text": [
      " 97%|█████████▋| 243/250 [8:43:37<14:17, 122.54s/it]"
     ]
    },
    {
     "name": "stdout",
     "output_type": "stream",
     "text": [
      "0.8785132442033744\n"
     ]
    },
    {
     "name": "stderr",
     "output_type": "stream",
     "text": [
      " 98%|█████████▊| 244/250 [8:45:43<12:20, 123.44s/it]"
     ]
    },
    {
     "name": "stdout",
     "output_type": "stream",
     "text": [
      "0.8770126155312514\n"
     ]
    },
    {
     "name": "stderr",
     "output_type": "stream",
     "text": [
      " 98%|█████████▊| 245/250 [8:47:44<10:13, 122.77s/it]"
     ]
    },
    {
     "name": "stdout",
     "output_type": "stream",
     "text": [
      "0.8814260998409801\n"
     ]
    },
    {
     "name": "stderr",
     "output_type": "stream",
     "text": [
      " 98%|█████████▊| 246/250 [8:49:50<08:14, 123.61s/it]"
     ]
    },
    {
     "name": "stdout",
     "output_type": "stream",
     "text": [
      "0.8845706100842138\n"
     ]
    },
    {
     "name": "stderr",
     "output_type": "stream",
     "text": [
      " 99%|█████████▉| 247/250 [8:51:55<06:11, 123.94s/it]"
     ]
    },
    {
     "name": "stdout",
     "output_type": "stream",
     "text": [
      "0.8856166193048697\n"
     ]
    },
    {
     "name": "stderr",
     "output_type": "stream",
     "text": [
      " 99%|█████████▉| 248/250 [8:53:56<04:06, 123.09s/it]"
     ]
    },
    {
     "name": "stdout",
     "output_type": "stream",
     "text": [
      "0.8822492983559085\n"
     ]
    },
    {
     "name": "stderr",
     "output_type": "stream",
     "text": [
      "100%|█████████▉| 249/250 [8:55:56<02:02, 122.22s/it]"
     ]
    },
    {
     "name": "stdout",
     "output_type": "stream",
     "text": [
      "0.8705232694853287\n"
     ]
    },
    {
     "name": "stderr",
     "output_type": "stream",
     "text": [
      "100%|██████████| 250/250 [8:57:57<00:00, 129.11s/it]"
     ]
    },
    {
     "name": "stdout",
     "output_type": "stream",
     "text": [
      "0.8678819005900352\n"
     ]
    },
    {
     "name": "stderr",
     "output_type": "stream",
     "text": [
      "\n"
     ]
    },
    {
     "data": {
      "image/png": "[encoded data removed]",
      "text/plain": [
       "<Figure size 640x480 with 1 Axes>"
      ]
     },
     "metadata": {},
     "output_type": "display_data"
    }
   ],
   "source": [
    "import matplotlib.pyplot as plt\n",
    "best_auc=0\n",
    "for step in tqdm(range(1, max_epoch + 1),total=max_epoch,dynamic_ncols=True):\n",
    "    if step > 1 and config.lr[step - 1] != config.lr[step - 2]:\n",
    "        for param_group in optimizer.param_groups:\n",
    "            param_group[\"lr\"] = config.lr[step - 1]\n",
    "\n",
    "    if (step - 1) % len(train_nloader) == 0:\n",
    "        loadern_iter = iter(train_nloader)\n",
    "\n",
    "    if (step - 1) % len(train_aloader) == 0:\n",
    "        loadera_iter = iter(train_aloader)\n",
    "\n",
    "    train(loadern_iter, loadera_iter, model,32, optimizer, viz, device)\n",
    "\n",
    "    #if step % 5 == 0 and step > 0:\n",
    "\n",
    "    auc,fpr,tpr = test(test_loader, model, viz, device)\n",
    "    print(auc)\n",
    "    if auc>best_auc:\n",
    "        best_auc=auc\n",
    "        bestfpr=fpr\n",
    "        besttpr=tpr\n",
    "    test_info[\"epoch\"].append(step)\n",
    "    test_info[\"test_AUC\"].append(auc)\n",
    "        \n",
    "    if test_info[\"test_AUC\"][-1] > best_AUC:\n",
    "        best_AUC = test_info[\"test_AUC\"][-1]\n",
    "        torch.save(model.state_dict(), './ckpt/' +model_name + '{}-i3d.pkl'.format(step))\n",
    "        save_best_record(test_info, os.path.join(output_path, '{}-step-AUC.txt'.format(step)))\n",
    "torch.save(model.state_dict(), './ckpt/' + model_name + 'final.pkl')\n",
    "\n",
    "plt.plot(bestfpr,besttpr)\n",
    "plt.show()\n",
    "\n",
    "\n"
   ]
  },
  {
   "cell_type": "code",
   "execution_count": 18,
   "metadata": {},
   "outputs": [
    {
     "name": "stdout",
     "output_type": "stream",
     "text": [
      "0.9044848429516699\n"
     ]
    }
   ],
   "source": [
    "print(best_auc)"
   ]
  },
  {
   "cell_type": "code",
   "execution_count": 19,
   "metadata": {},
   "outputs": [],
   "source": [
    "np.save(\"bestfpr.npy\",bestfpr)\n",
    "np.save(\"besttpr.npy\",besttpr)"
   ]
  }
 ],
 "metadata": {
  "kernelspec": {
   "display_name": "Python 3 (ipykernel)",
   "language": "python",
   "name": "python3"
  },
  "language_info": {
   "codemirror_mode": {
    "name": "ipython",
    "version": 3
   },
   "file_extension": ".py",
   "mimetype": "text/x-python",
   "name": "python",
   "nbconvert_exporter": "python",
   "pygments_lexer": "ipython3",
   "version": "3.11.5"
  }
 },
 "nbformat": 4,
 "nbformat_minor": 2
}
